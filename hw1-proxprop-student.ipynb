{
 "cells": [
  {
   "cell_type": "markdown",
   "metadata": {
    "id": "8Q-lfeg_Paq_"
   },
   "source": [
    "# Task Overview\n",
    "\n",
    "Your task will be to implement a variant of *ProxyProp* (Proximal Backpropagation) – a modification of backpropagation in which the weights of the network are not updated according to gradient descent, but according to [proximal mapping operator](https://en.wikipedia.org/wiki/Proximal_operator). This proximal operator in many cases results in a descent that is quicker than in the case of traditional gradient descent. Interestingly enough, the proximal operator arose in the context of gradient descent in which the minimized function is not differentiable, and gradient descent cannot be applied directly as we cannot compute the Jacobi matrix. This method is called [proximal gradient method](https://en.wikipedia.org/wiki/Proximal_gradient_method). However, we are interested here in the efficiency of the approach rather than its robustness. The backpropagation method in the proximal approach (i.e. *ProxyProp* algorithm) is described in detail in [this paper](https://arxiv.org/pdf/1706.04638v3).\n",
    "\n",
    "The original algorithm presented in the paper uses purely linear transformations between subsequent network layers. Part of your task is to use affine transformations there, i.e. ones with biases.\n",
    "\n",
    "You should use an MLP architecture trained on the MNIST dataset. You should implement the network in numpy.\n",
    "\n",
    "Tasks:\n",
    "1. (9pt) Fill missing code below\n",
    "  - 1pt implement the `__init__` method\n",
    "  - 2pt implement the feedforward method\n",
    "  - 6pt implement the backpropagation\n",
    "2. Train the models (find proper hyperparameters). Visualize the learning speed of your best model compared with the standard backpropagation (plot training loss for subsequent numbers of epochs using both algorithms). Your model should reach at least 94% accuracy. Use ClearML to log your scores. Make a comparison of memory usage for _ProxProp_ network and the network you implemented in lab 3.\n",
    "  - 1pt for accuracy above 94%\n",
    "  - 1pt for initialization of the standard backpropagation and ProxyProp with the same random values\n",
    "  - 1pt for visualizations (we recommend downloading plots from clear ml)\n",
    "  - 2pt if [clear ml](https://clear.ml/docs/latest/docs/) used properly\n",
    "  - 1pt for comparing memory usage.\n",
    "\n",
    "Part of the assignment consists of deriving proper formulas for a proposed slight modification of _ProxProp_. We do not grant points separately for this activity. You are rewarded for that only after proper implementation.\n",
    "\n",
    "\n",
    "## Potential questions, clarifications\n",
    "- Q: Can I modify code of _ProxyProp_ outside #Your code goes here # to include logging?\n",
    "  - Yes, in ProxyProp.SGD\n",
    "- Q: Can I modify the code of _Network_ to include logging?\n",
    "  - Yes."
   ]
  },
  {
   "cell_type": "code",
   "execution_count": 1,
   "metadata": {
    "id": "VlEo6ys75a3q",
    "colab": {
     "base_uri": "https://localhost:8080/"
    },
    "executionInfo": {
     "status": "ok",
     "timestamp": 1731836559052,
     "user_tz": -60,
     "elapsed": 19997,
     "user": {
      "displayName": "Juliusz Pawlus",
      "userId": "04893540272096859836"
     }
    },
    "outputId": "1a172576-1447-4991-fdeb-715d5822b162",
    "ExecuteTime": {
     "end_time": "2024-11-18T12:58:21.561089Z",
     "start_time": "2024-11-18T12:58:10.239454Z"
    }
   },
   "outputs": [
    {
     "name": "stdout",
     "output_type": "stream",
     "text": [
      "Requirement already satisfied: clearml in c:\\users\\julek\\pycharmprojects\\pythonproject1\\.venv\\lib\\site-packages (1.16.5)\n",
      "Requirement already satisfied: attrs>=18.0 in c:\\users\\julek\\pycharmprojects\\pythonproject1\\.venv\\lib\\site-packages (from clearml) (24.2.0)\n",
      "Requirement already satisfied: furl>=2.0.0 in c:\\users\\julek\\pycharmprojects\\pythonproject1\\.venv\\lib\\site-packages (from clearml) (2.1.3)\n",
      "Requirement already satisfied: jsonschema>=2.6.0 in c:\\users\\julek\\pycharmprojects\\pythonproject1\\.venv\\lib\\site-packages (from clearml) (4.23.0)\n",
      "Requirement already satisfied: numpy>=1.10 in c:\\users\\julek\\pycharmprojects\\pythonproject1\\.venv\\lib\\site-packages (from clearml) (2.0.2)\n",
      "Requirement already satisfied: pathlib2>=2.3.0 in c:\\users\\julek\\pycharmprojects\\pythonproject1\\.venv\\lib\\site-packages (from clearml) (2.3.7.post1)\n",
      "Requirement already satisfied: Pillow>=4.1.1 in c:\\users\\julek\\pycharmprojects\\pythonproject1\\.venv\\lib\\site-packages (from clearml) (11.0.0)\n",
      "Requirement already satisfied: psutil>=3.4.2 in c:\\users\\julek\\pycharmprojects\\pythonproject1\\.venv\\lib\\site-packages (from clearml) (6.1.0)\n",
      "Requirement already satisfied: pyparsing>=2.0.3 in c:\\users\\julek\\pycharmprojects\\pythonproject1\\.venv\\lib\\site-packages (from clearml) (3.2.0)\n",
      "Requirement already satisfied: python-dateutil>=2.6.1 in c:\\users\\julek\\pycharmprojects\\pythonproject1\\.venv\\lib\\site-packages (from clearml) (2.9.0.post0)\n",
      "Requirement already satisfied: PyYAML>=3.12 in c:\\users\\julek\\pycharmprojects\\pythonproject1\\.venv\\lib\\site-packages (from clearml) (6.0.2)\n",
      "Requirement already satisfied: requests>=2.20.0 in c:\\users\\julek\\pycharmprojects\\pythonproject1\\.venv\\lib\\site-packages (from clearml) (2.32.3)\n",
      "Requirement already satisfied: six>=1.16.0 in c:\\users\\julek\\pycharmprojects\\pythonproject1\\.venv\\lib\\site-packages (from clearml) (1.16.0)\n",
      "Requirement already satisfied: urllib3>=1.21.1 in c:\\users\\julek\\pycharmprojects\\pythonproject1\\.venv\\lib\\site-packages (from clearml) (2.2.3)\n",
      "Requirement already satisfied: pyjwt<2.9.0,>=2.4.0 in c:\\users\\julek\\pycharmprojects\\pythonproject1\\.venv\\lib\\site-packages (from clearml) (2.8.0)\n",
      "Requirement already satisfied: referencing<0.40 in c:\\users\\julek\\pycharmprojects\\pythonproject1\\.venv\\lib\\site-packages (from clearml) (0.35.1)\n",
      "Requirement already satisfied: orderedmultidict>=1.0.1 in c:\\users\\julek\\pycharmprojects\\pythonproject1\\.venv\\lib\\site-packages (from furl>=2.0.0->clearml) (1.0.1)\n",
      "Requirement already satisfied: jsonschema-specifications>=2023.03.6 in c:\\users\\julek\\pycharmprojects\\pythonproject1\\.venv\\lib\\site-packages (from jsonschema>=2.6.0->clearml) (2024.10.1)\n",
      "Requirement already satisfied: rpds-py>=0.7.1 in c:\\users\\julek\\pycharmprojects\\pythonproject1\\.venv\\lib\\site-packages (from jsonschema>=2.6.0->clearml) (0.20.1)\n",
      "Requirement already satisfied: charset-normalizer<4,>=2 in c:\\users\\julek\\pycharmprojects\\pythonproject1\\.venv\\lib\\site-packages (from requests>=2.20.0->clearml) (3.4.0)\n",
      "Requirement already satisfied: idna<4,>=2.5 in c:\\users\\julek\\pycharmprojects\\pythonproject1\\.venv\\lib\\site-packages (from requests>=2.20.0->clearml) (3.10)\n",
      "Requirement already satisfied: certifi>=2017.4.17 in c:\\users\\julek\\pycharmprojects\\pythonproject1\\.venv\\lib\\site-packages (from requests>=2.20.0->clearml) (2024.8.30)\n",
      "Note: you may need to restart the kernel to use updated packages.\n"
     ]
    },
    {
     "name": "stderr",
     "output_type": "stream",
     "text": [
      "\n",
      "[notice] A new release of pip is available: 23.2.1 -> 24.3.1\n",
      "[notice] To update, run: python.exe -m pip install --upgrade pip\n"
     ]
    },
    {
     "name": "stdout",
     "output_type": "stream",
     "text": [
      "Requirement already satisfied: memory-profiler in c:\\users\\julek\\pycharmprojects\\pythonproject1\\.venv\\lib\\site-packages (0.61.0)\n",
      "Requirement already satisfied: psutil in c:\\users\\julek\\pycharmprojects\\pythonproject1\\.venv\\lib\\site-packages (from memory-profiler) (6.1.0)\n",
      "Note: you may need to restart the kernel to use updated packages.\n"
     ]
    },
    {
     "name": "stderr",
     "output_type": "stream",
     "text": [
      "\n",
      "[notice] A new release of pip is available: 23.2.1 -> 24.3.1\n",
      "[notice] To update, run: python.exe -m pip install --upgrade pip\n"
     ]
    },
    {
     "name": "stdout",
     "output_type": "stream",
     "text": [
      "Requirement already satisfied: torchvision in c:\\users\\julek\\pycharmprojects\\pythonproject1\\.venv\\lib\\site-packages (0.20.1)\n",
      "Requirement already satisfied: numpy in c:\\users\\julek\\pycharmprojects\\pythonproject1\\.venv\\lib\\site-packages (from torchvision) (2.0.2)\n",
      "Requirement already satisfied: torch==2.5.1 in c:\\users\\julek\\pycharmprojects\\pythonproject1\\.venv\\lib\\site-packages (from torchvision) (2.5.1)\n",
      "Requirement already satisfied: pillow!=8.3.*,>=5.3.0 in c:\\users\\julek\\pycharmprojects\\pythonproject1\\.venv\\lib\\site-packages (from torchvision) (11.0.0)\n",
      "Requirement already satisfied: filelock in c:\\users\\julek\\pycharmprojects\\pythonproject1\\.venv\\lib\\site-packages (from torch==2.5.1->torchvision) (3.16.1)\n",
      "Requirement already satisfied: typing-extensions>=4.8.0 in c:\\users\\julek\\pycharmprojects\\pythonproject1\\.venv\\lib\\site-packages (from torch==2.5.1->torchvision) (4.12.2)\n",
      "Requirement already satisfied: networkx in c:\\users\\julek\\pycharmprojects\\pythonproject1\\.venv\\lib\\site-packages (from torch==2.5.1->torchvision) (3.2.1)\n",
      "Requirement already satisfied: jinja2 in c:\\users\\julek\\pycharmprojects\\pythonproject1\\.venv\\lib\\site-packages (from torch==2.5.1->torchvision) (3.1.4)\n",
      "Requirement already satisfied: fsspec in c:\\users\\julek\\pycharmprojects\\pythonproject1\\.venv\\lib\\site-packages (from torch==2.5.1->torchvision) (2024.10.0)\n",
      "Requirement already satisfied: sympy==1.13.1 in c:\\users\\julek\\pycharmprojects\\pythonproject1\\.venv\\lib\\site-packages (from torch==2.5.1->torchvision) (1.13.1)\n",
      "Requirement already satisfied: mpmath<1.4,>=1.1.0 in c:\\users\\julek\\pycharmprojects\\pythonproject1\\.venv\\lib\\site-packages (from sympy==1.13.1->torch==2.5.1->torchvision) (1.3.0)\n",
      "Requirement already satisfied: MarkupSafe>=2.0 in c:\\users\\julek\\pycharmprojects\\pythonproject1\\.venv\\lib\\site-packages (from jinja2->torch==2.5.1->torchvision) (3.0.2)\n",
      "Note: you may need to restart the kernel to use updated packages.\n"
     ]
    },
    {
     "name": "stderr",
     "output_type": "stream",
     "text": [
      "\n",
      "[notice] A new release of pip is available: 23.2.1 -> 24.3.1\n",
      "[notice] To update, run: python.exe -m pip install --upgrade pip\n"
     ]
    }
   ],
   "source": [
    "%pip install clearml\n",
    "%pip install memory-profiler\n",
    "%pip install torchvision"
   ]
  },
  {
   "cell_type": "code",
   "execution_count": 2,
   "metadata": {
    "id": "KjlEoB4NPYmW",
    "executionInfo": {
     "status": "ok",
     "timestamp": 1731836578130,
     "user_tz": -60,
     "elapsed": 19084,
     "user": {
      "displayName": "Juliusz Pawlus",
      "userId": "04893540272096859836"
     }
    },
    "ExecuteTime": {
     "end_time": "2024-11-18T12:58:22.739386Z",
     "start_time": "2024-11-18T12:58:21.563090Z"
    }
   },
   "outputs": [],
   "source": [
    "import numpy as np\n",
    "from clearml import Logger\n",
    "from typing import List"
   ]
  },
  {
   "cell_type": "code",
   "execution_count": 3,
   "metadata": {
    "id": "cysHBSEBB-Km",
    "executionInfo": {
     "status": "ok",
     "timestamp": 1731836578131,
     "user_tz": -60,
     "elapsed": 7,
     "user": {
      "displayName": "Juliusz Pawlus",
      "userId": "04893540272096859836"
     }
    },
    "ExecuteTime": {
     "end_time": "2024-11-18T12:58:22.947423Z",
     "start_time": "2024-11-18T12:58:22.740377Z"
    }
   },
   "outputs": [],
   "source": [
    "%load_ext memory_profiler"
   ]
  },
  {
   "cell_type": "markdown",
   "metadata": {
    "id": "8-2rwUh8WZ4Q"
   },
   "source": [
    "# Dataset loading\n"
   ]
  },
  {
   "cell_type": "markdown",
   "source": [
    "I used gdown instead of wget, becaue wget wasn't working in my IDE."
   ],
   "metadata": {
    "collapsed": false
   }
  },
  {
   "cell_type": "code",
   "execution_count": 4,
   "metadata": {
    "id": "HGOTrXouW5r2",
    "colab": {
     "base_uri": "https://localhost:8080/"
    },
    "executionInfo": {
     "status": "ok",
     "timestamp": 1731836586076,
     "user_tz": -60,
     "elapsed": 7952,
     "user": {
      "displayName": "Juliusz Pawlus",
      "userId": "04893540272096859836"
     }
    },
    "outputId": "6684bea8-099e-44b2-aa5d-947f864be5b9",
    "ExecuteTime": {
     "end_time": "2024-11-18T12:58:29.540916Z",
     "start_time": "2024-11-18T12:58:22.948424Z"
    }
   },
   "outputs": [
    {
     "name": "stdout",
     "output_type": "stream",
     "text": [
      "Requirement already satisfied: gdown in c:\\users\\julek\\pycharmprojects\\pythonproject1\\.venv\\lib\\site-packages (5.2.0)\n",
      "Requirement already satisfied: beautifulsoup4 in c:\\users\\julek\\pycharmprojects\\pythonproject1\\.venv\\lib\\site-packages (from gdown) (4.12.3)\n",
      "Requirement already satisfied: filelock in c:\\users\\julek\\pycharmprojects\\pythonproject1\\.venv\\lib\\site-packages (from gdown) (3.16.1)\n",
      "Requirement already satisfied: requests[socks] in c:\\users\\julek\\pycharmprojects\\pythonproject1\\.venv\\lib\\site-packages (from gdown) (2.32.3)\n",
      "Requirement already satisfied: tqdm in c:\\users\\julek\\pycharmprojects\\pythonproject1\\.venv\\lib\\site-packages (from gdown) (4.66.6)\n",
      "Requirement already satisfied: soupsieve>1.2 in c:\\users\\julek\\pycharmprojects\\pythonproject1\\.venv\\lib\\site-packages (from beautifulsoup4->gdown) (2.6)\n",
      "Requirement already satisfied: charset-normalizer<4,>=2 in c:\\users\\julek\\pycharmprojects\\pythonproject1\\.venv\\lib\\site-packages (from requests[socks]->gdown) (3.4.0)\n",
      "Requirement already satisfied: idna<4,>=2.5 in c:\\users\\julek\\pycharmprojects\\pythonproject1\\.venv\\lib\\site-packages (from requests[socks]->gdown) (3.10)\n",
      "Requirement already satisfied: urllib3<3,>=1.21.1 in c:\\users\\julek\\pycharmprojects\\pythonproject1\\.venv\\lib\\site-packages (from requests[socks]->gdown) (2.2.3)\n",
      "Requirement already satisfied: certifi>=2017.4.17 in c:\\users\\julek\\pycharmprojects\\pythonproject1\\.venv\\lib\\site-packages (from requests[socks]->gdown) (2024.8.30)\n",
      "Requirement already satisfied: PySocks!=1.5.7,>=1.5.6 in c:\\users\\julek\\pycharmprojects\\pythonproject1\\.venv\\lib\\site-packages (from requests[socks]->gdown) (1.7.1)\n",
      "Requirement already satisfied: colorama in c:\\users\\julek\\pycharmprojects\\pythonproject1\\.venv\\lib\\site-packages (from tqdm->gdown) (0.4.6)\n"
     ]
    },
    {
     "name": "stderr",
     "output_type": "stream",
     "text": [
      "\n",
      "[notice] A new release of pip is available: 23.2.1 -> 24.3.1\n",
      "[notice] To update, run: python.exe -m pip install --upgrade pip\n",
      "Downloading...\n",
      "From: https://s3.amazonaws.com/img-datasets/mnist.npz\n",
      "To: C:\\Users\\Julek\\PycharmProjects\\pythonProject1\\mnist.npz\n",
      "\n",
      "  0%|          | 0.00/11.5M [00:00<?, ?B/s]\n",
      "  5%|4         | 524k/11.5M [00:00<00:11, 965kB/s]\n",
      "  9%|9         | 1.05M/11.5M [00:00<00:06, 1.65MB/s]\n",
      " 14%|#3        | 1.57M/11.5M [00:00<00:04, 2.20MB/s]\n",
      " 18%|#8        | 2.10M/11.5M [00:01<00:03, 2.41MB/s]\n",
      " 27%|##7       | 3.15M/11.5M [00:01<00:02, 3.86MB/s]\n",
      " 46%|####5     | 5.24M/11.5M [00:01<00:00, 7.00MB/s]\n",
      " 55%|#####4    | 6.29M/11.5M [00:01<00:00, 7.41MB/s]\n",
      " 68%|######8   | 7.86M/11.5M [00:01<00:00, 8.24MB/s]\n",
      " 78%|#######7  | 8.91M/11.5M [00:01<00:00, 8.44MB/s]\n",
      " 91%|#########1| 10.5M/11.5M [00:01<00:00, 8.88MB/s]\n",
      "100%|##########| 11.5M/11.5M [00:01<00:00, 5.96MB/s]\n"
     ]
    }
   ],
   "source": [
    "!wget -O mnist.npz https://s3.amazonaws.com/img-datasets/mnist.npz\n",
    "\n",
    "# !pip install --upgrade gdown\n",
    "# !gdown -O mnist.npz https://s3.amazonaws.com/img-datasets/mnist.npz"
   ]
  },
  {
   "cell_type": "code",
   "execution_count": 5,
   "metadata": {
    "id": "9FPRU6hiWb9P",
    "executionInfo": {
     "status": "ok",
     "timestamp": 1731836586925,
     "user_tz": -60,
     "elapsed": 852,
     "user": {
      "displayName": "Juliusz Pawlus",
      "userId": "04893540272096859836"
     }
    },
    "ExecuteTime": {
     "end_time": "2024-11-18T12:58:29.954007Z",
     "start_time": "2024-11-18T12:58:29.544918Z"
    }
   },
   "outputs": [],
   "source": [
    "def load_mnist(path: str = \"mnist.npz\"):\n",
    "    with np.load(path) as f:\n",
    "        x_train, _y_train = f[\"x_train\"], f[\"y_train\"]\n",
    "        x_test, _y_test = f[\"x_test\"], f[\"y_test\"]\n",
    "\n",
    "    x_train = x_train.reshape(-1, 28 * 28) / 255.0\n",
    "    x_test = x_test.reshape(-1, 28 * 28) / 255.0\n",
    "\n",
    "    y_train = np.zeros((_y_train.shape[0], 10))\n",
    "    y_train[np.arange(_y_train.shape[0]), _y_train] = 1\n",
    "\n",
    "    y_test = np.zeros((_y_test.shape[0], 10))\n",
    "    y_test[np.arange(_y_test.shape[0]), _y_test] = 1\n",
    "\n",
    "    return (x_train, y_train), (x_test, y_test)\n",
    "\n",
    "\n",
    "(x_train, y_train), (x_test, y_test) = load_mnist()"
   ]
  },
  {
   "cell_type": "markdown",
   "metadata": {
    "id": "_upvHByF5-p7"
   },
   "source": [
    "# Set up clear ml"
   ]
  },
  {
   "cell_type": "code",
   "execution_count": 6,
   "metadata": {
    "id": "7Ju8QtLI6CgL",
    "executionInfo": {
     "status": "ok",
     "timestamp": 1731836586926,
     "user_tz": -60,
     "elapsed": 7,
     "user": {
      "displayName": "Juliusz Pawlus",
      "userId": "04893540272096859836"
     }
    },
    "ExecuteTime": {
     "end_time": "2024-11-18T12:58:29.970010Z",
     "start_time": "2024-11-18T12:58:29.956008Z"
    }
   },
   "outputs": [],
   "source": [
    "### Your code goes here ###\n",
    "\n",
    "from clearml import Task\n",
    "\n",
    "web_server = 'https://app.clear.ml'\n",
    "api_server = 'https://api.clear.ml'\n",
    "files_server = 'https://files.clear.ml'\n",
    "access_key = '",
    "secret_key = '",
    "\n",
    "Task.set_credentials(web_host=web_server,\n",
    "                     api_host=api_server,\n",
    "                     files_host=files_server,\n",
    "                     key=access_key,\n",
    "                     secret=secret_key)\n",
    "\n",
    "\n",
    "\n",
    "###########################"
   ]
  },
  {
   "cell_type": "markdown",
   "metadata": {
    "id": "ExOYTnRtYo_u"
   },
   "source": [
    "# A quick recap of the backpropagation model\n",
    "\n",
    "## Forward pass\n",
    "\n",
    "We begin with $g^{(0)} = x$.\n",
    "\n",
    "To apply forward pass, use the following formulas L times:\n",
    "\n",
    "$$\n",
    "%\\begin{equation}\n",
    "f^{(l + 1)} = W^{(l+1)} g^{(l)} + b^{(l+1)}\n",
    "\\nonumber\n",
    "%\\end{equation}\n",
    "$$\n",
    "$$\n",
    "%\\begin{equation}\n",
    "g^{(l)} = \\sigma(f^{(l)})\n",
    "\\nonumber\n",
    "%\\end{equation}\n",
    "%\\\\\n",
    "$$\n",
    "\n",
    "$l = 1, 2, \\ldots, L$.\n",
    "\n",
    "\n",
    "Then, use output of the network is $g^{(L)}$ to compute the loss $L(y, g^{(L)})$.\n",
    "\n",
    "## Backward pass\n",
    "\n",
    "We begin with $\\frac{\\partial L}{\\partial g^{(L)}}$, which can be computed directly.\n",
    "\n",
    "To compute gradients, use the following formulas:\n",
    "\n",
    "$$\n",
    "%\\begin{equation}\n",
    "\\frac{\\partial L}{\\partial f^{(l)}} = \\frac{\\partial L}{\\partial g^{(l)}} \\odot g^{(l)} \\odot (1 - g^{(l)})\n",
    "\\nonumber\n",
    "%\\end{equation}\n",
    "$$\n",
    "$$\n",
    "%\\begin{equation}\n",
    "\\frac{\\partial L}{\\partial g^{(l)}} = (W^{(l+1)})^{T} \\cdot \\frac{\\partial L}{\\partial f^{(l+1)}}\n",
    "\\nonumber\n",
    "%\\end{equation}\n",
    "$$\n",
    "$$\n",
    "%\\begin{equation}\n",
    "\\frac{\\partial L}{\\partial b^{(l)}} = \\frac{\\partial L}{\\partial f^{(l)}}\n",
    "\\nonumber\n",
    "%\\end{equation}\n",
    "$$\n",
    "$$\n",
    "%\\begin{equation}\n",
    "\\frac{\\partial L}{\\partial W^{(l)}} = \\frac{\\partial L}{\\partial f^{(l)}} \\cdot g^{(l-1)}\n",
    "\\nonumber\n",
    "%\\end{equation}\n",
    "$$\n",
    "\n",
    "$l = L, L-1, \\ldots, 1$."
   ]
  },
  {
   "cell_type": "markdown",
   "metadata": {
    "id": "ejZmFBvkbDmk"
   },
   "source": [
    "# Network definition (as in laboratory 3)\n"
   ]
  },
  {
   "cell_type": "code",
   "execution_count": 7,
   "metadata": {
    "id": "ViFYw47rYo_v",
    "executionInfo": {
     "status": "ok",
     "timestamp": 1731836586927,
     "user_tz": -60,
     "elapsed": 7,
     "user": {
      "displayName": "Juliusz Pawlus",
      "userId": "04893540272096859836"
     }
    },
    "ExecuteTime": {
     "end_time": "2024-11-18T12:58:29.986014Z",
     "start_time": "2024-11-18T12:58:29.972012Z"
    }
   },
   "outputs": [],
   "source": [
    "def sigmoid(z: np.ndarray) -> float:\n",
    "    return 1.0 / (1.0 + np.exp(-z))\n",
    "\n",
    "\n",
    "def logloss(\n",
    "    x: np.ndarray,\n",
    "    y: np.ndarray,\n",
    ") -> float:\n",
    "    return -(np.log(x) * y).sum() / y.shape[1]"
   ]
  },
  {
   "cell_type": "code",
   "execution_count": 8,
   "metadata": {
    "id": "erHufGRn-MXY",
    "colab": {
     "base_uri": "https://localhost:8080/"
    },
    "executionInfo": {
     "status": "ok",
     "timestamp": 1731836590282,
     "user_tz": -60,
     "elapsed": 3361,
     "user": {
      "displayName": "Juliusz Pawlus",
      "userId": "04893540272096859836"
     }
    },
    "outputId": "45f504c4-34d8-4e79-851f-ebeec2f413bf",
    "ExecuteTime": {
     "end_time": "2024-11-18T12:58:32.801651Z",
     "start_time": "2024-11-18T12:58:29.988015Z"
    }
   },
   "outputs": [
    {
     "name": "stdout",
     "output_type": "stream",
     "text": [
      "Epoch: 0, Accuracy: 0.7894, Loss: 1.4743628123429195\n",
      "Epoch: 1, Accuracy: 0.8602, Loss: 0.6593879483209513\n"
     ]
    }
   ],
   "source": [
    "class Network(object):\n",
    "    def __init__(\n",
    "        self,\n",
    "        sizes: List[int],\n",
    "    ) -> None:\n",
    "        # initialize biases and weights with random normal distr.\n",
    "        # weights are indexed by target node first\n",
    "        self.num_layers = len(sizes)\n",
    "        self.sizes = sizes\n",
    "        self.biases = [np.random.randn(y, 1) for y in sizes[1:]]\n",
    "        self.weights = [np.random.randn(y, x) for x, y in zip(sizes[:-1], sizes[1:])]\n",
    "\n",
    "    def feedforward(\n",
    "        self,\n",
    "        a: np.ndarray,\n",
    "    ) -> np.ndarray:\n",
    "        # Run the network on a batch\n",
    "        a = a.T\n",
    "        for b, w in zip(self.biases, self.weights):\n",
    "            a = sigmoid(np.matmul(w, a) + b)\n",
    "        return a\n",
    "\n",
    "    def update_mini_batch(\n",
    "        self,\n",
    "        mini_batch: tuple[np.ndarray, np.ndarray],\n",
    "        eta: float,\n",
    "    ):\n",
    "        # Update networks weights and biases by applying a single step\n",
    "        # of gradient descent using backpropagation to compute the gradient.\n",
    "        # The gradient is computed for a mini_batch which is as in tensorflow API.\n",
    "        # eta is the learning rate\n",
    "        nabla_b, nabla_w, loss = self.backprop(mini_batch[0].T, mini_batch[1].T)\n",
    "        self.weights = [\n",
    "            w - (eta / len(mini_batch[0])) * nw for w, nw in zip(self.weights, nabla_w)\n",
    "        ]\n",
    "        self.biases = [\n",
    "            b - (eta / len(mini_batch[0])) * nb for b, nb in zip(self.biases, nabla_b)\n",
    "        ]\n",
    "        return loss\n",
    "\n",
    "    def backprop(\n",
    "        self,\n",
    "        x: np.ndarray,\n",
    "        y: np.ndarray,\n",
    "    ) -> tuple[np.ndarray, np.ndarray, float]:\n",
    "        # For a single input (x,y) return a pair of lists.\n",
    "        # First contains gradients over biases, second over weights.\n",
    "        g = x\n",
    "        gs = [g]  # list to store all the gs, layer by layer\n",
    "        fs = []  # list to store all the fs, layer by layer\n",
    "        for b, w in zip(self.biases, self.weights):\n",
    "            f = np.dot(w, g) + b\n",
    "            fs.append(f)\n",
    "            g = sigmoid(f)\n",
    "            gs.append(g)\n",
    "        # backward pass <- both steps at once\n",
    "        loss = logloss(gs[-1], y)\n",
    "        dLdg = self.cost_derivative(gs[-1], y)\n",
    "        dLdfs = []\n",
    "        for w, g in reversed(list(zip(self.weights, gs[1:]))):\n",
    "            dLdf = np.multiply(dLdg, np.multiply(g, 1 - g))\n",
    "            dLdfs.append(dLdf)\n",
    "            dLdg = np.matmul(w.T, dLdf)\n",
    "\n",
    "        dLdWs = [np.matmul(dLdf, g.T) for dLdf, g in zip(reversed(dLdfs), gs[:-1])]\n",
    "        dLdBs = [\n",
    "            np.sum(dLdf, axis=1).reshape(dLdf.shape[0], 1) for dLdf in reversed(dLdfs)\n",
    "        ]\n",
    "        return (dLdBs, dLdWs, loss)\n",
    "\n",
    "    def evaluate(\n",
    "        self,\n",
    "        test_data: tuple[np.ndarray, np.ndarray],\n",
    "    ) -> float:\n",
    "        # Count the number of correct answers for test_data\n",
    "        pred = np.argmax(self.feedforward(test_data[0]), axis=0)\n",
    "        corr = np.argmax(test_data[1], axis=1).T\n",
    "        return np.mean(pred == corr)\n",
    "\n",
    "    def cost_derivative(\n",
    "        self,\n",
    "        output_activations: np.ndarray,\n",
    "        y: np.ndarray,\n",
    "    ) -> np.ndarray:\n",
    "        return output_activations - y\n",
    "\n",
    "    def SGD(\n",
    "        self,\n",
    "        training_data: np.ndarray,\n",
    "        epochs: int,\n",
    "        mini_batch_size: int,\n",
    "        eta: float,\n",
    "        test_data: np.ndarray = None,\n",
    "        logger: Logger = None,\n",
    "    ) -> None:\n",
    "        x_train, y_train = training_data\n",
    "        if logger is not None:\n",
    "            logger.report_scalar(\n",
    "                title=\"Loss\", series=\"ProxyProp Loss\", iteration=0, value=0\n",
    "            )\n",
    "            logger.report_scalar(\n",
    "                title=\"Accuracy\",\n",
    "                series=\"ProxyProp Accuracy\",\n",
    "                iteration=0,\n",
    "                value=0,\n",
    "            )\n",
    "        if test_data:\n",
    "            x_test, y_test = test_data\n",
    "        for j in range(epochs):\n",
    "            loss = 0\n",
    "            for i in range(x_train.shape[0] // mini_batch_size):\n",
    "                x_mini_batch = x_train[\n",
    "                    (mini_batch_size * i) : (mini_batch_size * (i + 1))\n",
    "                ]\n",
    "                y_mini_batch = y_train[\n",
    "                    (mini_batch_size * i) : (mini_batch_size * (i + 1))\n",
    "                ]\n",
    "                loss += self.update_mini_batch((x_mini_batch, y_mini_batch), eta)\n",
    "            wloss = loss / (x_train.shape[0] // mini_batch_size)\n",
    "            if logger is not None:\n",
    "                logger.report_scalar(\n",
    "                    title=\"Loss\", series=\"ProxyProp Loss\", iteration=j + 1, value=wloss\n",
    "                )\n",
    "            if test_data:\n",
    "                acc = self.evaluate((x_test, y_test))\n",
    "                if logger is not None:\n",
    "                    logger.report_scalar(\n",
    "                        title=\"Accuracy\",\n",
    "                        series=\"ProxyProp Accuracy\",\n",
    "                        iteration=j + 1,\n",
    "                        value=acc,\n",
    "                    )\n",
    "                print(\"Epoch: {0}, Accuracy: {1}, Loss: {2}\".format(j, acc, wloss))\n",
    "            else:\n",
    "                print(\"Epoch: {0}\".format(j))\n",
    "\n",
    "\n",
    "# Simple check if all is fine\n",
    "network = Network([784, 30, 30, 10])\n",
    "network.SGD(\n",
    "    (x_train, y_train),\n",
    "    epochs=2,\n",
    "    mini_batch_size=100,\n",
    "    eta=3.0,\n",
    "    test_data=(x_test, y_test),\n",
    ")"
   ]
  },
  {
   "cell_type": "markdown",
   "metadata": {
    "id": "CKn5dbID-Fty"
   },
   "source": [
    "# The original ProxProp definition\n",
    "\n",
    "Let us fix the notation for our network as in the following figure. We can see here a series of layers with $n_0,\\ldots, n_{L-2}$ nodes. Each layer is composed of input nodes that depend linearly ($\\phi$ operator) on the output nodes that depend non-linearly on the respective input nodes ($\\sigma$ operator). The quality of the final output is measured by the final loss function ${\\cal L}_y$ (typically $\\frac{1}{2}\\|\\cdot\\|^2$).\n",
    "\n"
   ]
  },
  {
   "cell_type": "markdown",
   "metadata": {
    "id": "PpRSsjuXYo_w"
   },
   "source": [
    "\n",
    "![image.png]( data:image/png;base64,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)"
   ]
  },
  {
   "cell_type": "markdown",
   "metadata": {
    "id": "0alk0nZvYo_w"
   },
   "source": [
    "_ProxProp_ procedure itself works similarly to a standard backpropagation procedure, as shown in the following figure."
   ]
  },
  {
   "cell_type": "markdown",
   "metadata": {
    "id": "6VHzG5peWfqF"
   },
   "source": [
    "\n",
    "![image.png]( data:image/png;base64,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)"
   ]
  },
  {
   "cell_type": "markdown",
   "metadata": {
    "id": "upDsuNRaYo_x"
   },
   "source": [
    "For comparison, the standard backpropagation algorithm in this setting is as follows:"
   ]
  },
  {
   "cell_type": "markdown",
   "metadata": {
    "id": "BQ5gIjR_Yo_x"
   },
   "source": [
    "\n",
    "![image.png]( data:image/png;base64,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)"
   ]
  },
  {
   "cell_type": "markdown",
   "metadata": {
    "id": "ToUDt5MBYo_x"
   },
   "source": [
    "Forward: The forward propagation phase is just as in the standard algorithm:\n",
    "\n",
    "$z^k_l = \\phi(\\theta^k_l, a^k_{l−1}),$\n",
    "\n",
    "$a^k_l = \\sigma(z^k_l),$\n",
    "\n",
    "where $\\phi$ is supposed to be a linear transformation with weights $\\theta^k_l$ over values $a^k_{l-1}$ and $\\sigma$ is some non-linear step, e.g. the sigmoid function or the LeRU. You can use the sigmoid function for the purposes of this work.\n",
    "\n",
    "Reverse: In the backpropagation, the step for the final layer ((a) on the figure) is exactly as in the gradient based version. In steps for the earlier layers, we recompute the z's and a's using the gradient method ((b) on the figure), but the weights are computed according to the proximal operator ((c) on the figure).\n",
    "\n",
    "In step (a) the updated value is\n",
    "\n",
    "$a'^{k}_{L−2} = a^k_{L−2} − \\eta\\nabla_{a_{L−2}} {\\cal L}_y(\\phi(\\theta_{L−1}, a_{L−2})),$\n",
    "\n",
    "where $\\eta$ is the learning speed coefficient.\n",
    "\n",
    "In case (b) the updated values are\n",
    "\n",
    "$z'^{k}_l = z^k_l − \\sigma'(z^k_l)(\\sigma(z^k_l) − a'^k_l),$\n",
    "\n",
    "$a'^{k}_{l−1} = a^k_{l−1} − \\nabla( \\frac{1}{2}\\| \\phi(θ^l, \\cdot) − z'^k_l \\|^2)(a^k_{l−1}),$\n",
    "\n",
    "Note that the primed $a$-values are used to compute primed $z$-values and primed $z$-values are used to obtain the final value of $\\theta^{k+1}$.\n",
    "\n",
    "In case (c) the updated values are computed according to the proximal formula:\n",
    "\n",
    "$$\n",
    "\\theta^{k+1}_l = \\underset{\\gamma}{\\mathrm{argmin}} \\left(\\frac{1}{2} \\|\\phi(\\gamma, a^k_{l−1}) − z'^k_l\\|^2 + \\frac{1}{2\\tau_\\theta}\\|\\gamma - \\theta^k_l\\|^2\\right)\n",
    "$$\n",
    "\n",
    "The computation for the final layer is not done according to the proximity formula as it is difficult to obtain the closed formula for the necessary update, therefore it should be done according to the standard gradient descent.\n",
    "\n",
    "The original formulas from the mentioned above paper do not use the biases. Part of the assignment is to rework this method so that the formulas include biases. You should develop a method in which biases are updated using the standard gradient descent method and the linear weight are updated using the _PropProx_ method with formulas adjusted to accommodate for biases."
   ]
  },
  {
   "cell_type": "markdown",
   "source": [
    "# ProxProp similar to our backpropagation\n",
    "\n",
    "Your task is to implement algorithm based on [ProxProp](https://arxiv.org/pdf/1706.04638v3). Please refer to the section above or section 4.2 in [the paper](https://arxiv.org/pdf/1706.04638v3) for algorithm description. Here we present the overview of the algorithm to be implemented.\n",
    "\n",
    "## Forward pass\n",
    "\n",
    "Forward pass is the same as in backpropagation implementation used in this course:\n",
    "We begin with $g^{(0)} = x$.\n",
    "\n",
    "To apply forward pass, use the following formulas L times:\n",
    "\n",
    "$$\n",
    "%\\begin{equation}\n",
    "f^{(l + 1)} = W^{(l+1)} g^{(l)} + b^{(l+1)}\n",
    "\\nonumber\n",
    "%\\end{equation}\n",
    "$$\n",
    "$$\n",
    "%\\begin{equation}\n",
    "g^{(l)} = \\sigma(f^{(l)})\n",
    "\\nonumber\n",
    "%\\end{equation}\n",
    "%\\\\\n",
    "$$\n",
    "\n",
    "$l = 1, 2, \\ldots, L$.\n",
    "\n",
    "\n",
    "Then, use output of the network is $g^{(L)}$ to compute the loss $L(y, g^{(L)})$.\n",
    "\n",
    "## Backward pass\n",
    "\n",
    "We begin with $\\frac{\\partial L}{\\partial g^{(L)}}$, which can be computed directly.\n",
    "\n",
    "Gradients $\\frac{\\partial L}{\\partial f^{(l)}}$, $\\frac{\\partial L}{\\partial g^{(l)}}$ need to be computed.\n",
    "\n",
    "$$\n",
    "%\\begin{equation}\n",
    "\\frac{\\partial L}{\\partial f^{(l)}} = \\frac{\\partial L}{\\partial g^{(l)}} \\odot g^{(l)} \\odot (1 - g^{(l)})\n",
    "\\nonumber\n",
    "%\\end{equation}\n",
    "$$\n",
    "$$\n",
    "%\\begin{equation}\n",
    "\\frac{\\partial L}{\\partial g^{(l)}} = (W^{(l+1)})^{T} \\cdot \\frac{\\partial L}{\\partial f^{(l+1)}}\n",
    "\\nonumber\n",
    "%\\end{equation}\n",
    "$$\n",
    "\n",
    "For simplicity, biases will be updated as in standard backpropagation:\n",
    "$$\n",
    "%\\begin{equation}\n",
    "b^{(l)} = b^{(l)} - \\eta \\frac{\\partial L}{\\partial b^{(l)}}\n",
    "\\nonumber\n",
    "%\\end{equation}\n",
    "$$\n",
    "Remember to make the gradient update independent from the batch size by appropriate averaging!\n",
    "\n",
    "Weights will be updated using values $f^{(l)}_{*}, g^{(l)}_{*}$. They are defined as follows:\n",
    "\n",
    "$$\n",
    "%\\begin{equation}\n",
    "g^{(L)}_{*} = g^{(L)} - \\eta \\frac{\\partial L}{\\partial g^{(L)}}\n",
    "%\\end{equation}\n",
    "$$\n",
    "\n",
    "$$\n",
    "%\\begin{equation}\n",
    "f^{(l)}_{*} = f^{(l)} - \\frac{\\partial g^{(l)}}{\\partial f^{(l)}} \\cdot (g^{(l)} - g^{(l)}_{*})\n",
    "%\\end{equation}\n",
    "$$\n",
    "\n",
    "$l = 1, 2, \\ldots, L$.\n",
    "\n",
    "$$\n",
    "%\\begin{equation}\n",
    "g^{(l)}_{*} = g^{(l)} - \\frac{\\partial f^{(l+1)}}{\\partial g^{(l)}} \\cdot (f^{(l+1)} - f^{(l+1)}_{*})\n",
    "%\\end{equation}\n",
    "$$\n",
    "\n",
    "$l = 1, 2, \\ldots, L - 1$.\n",
    "\n",
    " The update of weights is defined as:\n",
    "\n",
    "$$\n",
    "%\\begin{equation}\n",
    "W^{(l)} = \\text{arg min}_{W} \\frac{1}{2} || W \\cdot g^{(l-1)} + b^{(l)} - f^{(l)}_{*} ||^2 + \\frac{1}{2\\eta} || W - W^{(l)} ||^2\n",
    "%\\end{equation}\n",
    "$$\n",
    "\n",
    "$l = 1, 2, \\ldots, L$.\n",
    "\n",
    "Remarks:\n",
    "* Weights are updated last (This means updated $b^{(l)}$ is used in the formula above).\n",
    "* Please use closed form of the update assuming $W$ is a matrix. It might involve inverting some matrix. While it is not desirable in practice, the aim of this homework is to make you come up with the formula for the update :)\n",
    "* Note that the original algorithm used two eta values. For the homework you should assume that these are equal and use for that only one parameter of the network."
   ],
   "metadata": {
    "id": "ypyHpq37Yo_y"
   }
  },
  {
   "cell_type": "code",
   "outputs": [
    {
     "name": "stdout",
     "output_type": "stream",
     "text": [
      "Epoch: 0, Accuracy: 0.0883, Loss: 18.76091035918351\n",
      "Epoch: 1, Accuracy: 0.8613, Loss: 0.8214614691586142\n",
      "Epoch: 2, Accuracy: 0.9014, Loss: 0.4314795953808743\n"
     ]
    }
   ],
   "source": [
    "class ProxProp(object):\n",
    "    def __init__(\n",
    "        self,\n",
    "        sizes: List[int],\n",
    "    ) -> None:\n",
    "        self.sizes = sizes\n",
    "        # initialize biases and weights with random normal distr.\n",
    "        # weights are indexed by target node first\n",
    "        # IMPORTANT: use at least one layer of size a -> a\n",
    "        ### Your code goes here ###\n",
    "        self.biases = [np.random.randn(y, 1) for y in sizes[1:]]\n",
    "        self.weights = [np.random.randn(y, x) for x, y in zip(sizes[:-1], sizes[1:])]\n",
    "        ###########################\n",
    "\n",
    "    def feedforward(\n",
    "        self,\n",
    "        a: np.ndarray,\n",
    "    ) -> np.ndarray:\n",
    "        # Run the network\n",
    "        ### Your code goes here ###\n",
    "        a = a.T\n",
    "        for w, b in zip(self.weights, self.biases):\n",
    "            a = sigmoid(np.dot(w, a) + b)\n",
    "        return a\n",
    "        ###########################\n",
    "\n",
    "    def backprop(self, x: np.ndarray, y: np.ndarray, eta: float) -> float:\n",
    "\n",
    "        ### Your code goes here ###\n",
    "\n",
    "        first_layer = x\n",
    "        layer_input = []        # Values of inputs before next layer.\n",
    "        before_activation = []  # Values before using activation function.\n",
    "        for w, b in zip(self.weights, self.biases):  # For every layer.\n",
    "            x = np.dot(w, x) + b           # Use weights and biases.\n",
    "            before_activation.append(x)    # Save before activation.\n",
    "            x = sigmoid(x)                 # Use activation function.\n",
    "            layer_input.append(x)          # Save current values.\n",
    "\n",
    "        loss_val = logloss(x, y)  # Average loss between all images\n",
    "\n",
    "        diff = self.cost_derivative(x, y)  # Derivative of loss function. (g^L at the beginning)\n",
    "        g_star = layer_input[-1] - eta * diff  # Initial value of g* for last layer.\n",
    "\n",
    "        for i in range(len(layer_input) - 1):\n",
    "            curr_g = layer_input[-i - 1]        # Value of g for current layer.\n",
    "            next_g = layer_input[-i - 2]        # Value of g for next layer.\n",
    "            curr_f = before_activation[-i - 1]  # Value of f for current layer.\n",
    "            curr_w = self.weights[-i - 1]       # Weights for current layer.\n",
    "            sig_f = sigmoid(curr_f)             # Sigmoid of current f.\n",
    "\n",
    "\n",
    "            derivative_sig = np.multiply(sig_f, np.subtract(np.ones(curr_g.shape), sig_f))  # Derivative of sigmoid(f).\n",
    "\n",
    "            f_star = (curr_f - np.multiply(derivative_sig, np.subtract(curr_g, g_star)))  # Value of f* for current layer.\n",
    "\n",
    "            diff = np.multiply(derivative_sig, diff)    # Calculating f^l for biases.\n",
    "            self.biases[-i - 1] -= eta * diff.mean(axis=1).flatten().reshape(len(diff), 1)  # Updating new biases.\n",
    "            diff = np.dot(self.weights[-i - 1].T, diff)  # Creating g^l-1 for biases.\n",
    "\n",
    "            weights = np.dot(np.add(np.dot(np.subtract(f_star, self.biases[-i - 1]), next_g.T), np.multiply(1 / eta, curr_w)),\n",
    "                      np.linalg.inv(np.add(np.dot(next_g, next_g.T), np.multiply(1/eta, np.identity(next_g.shape[0])))))\n",
    "            self.weights[-i - 1] = weights  # Updating weight values for the layer.\n",
    "            g_star = next_g - np.dot(curr_w.T, np.subtract(curr_f, f_star))  # Value of next g*.\n",
    "\n",
    "        sig_f = sigmoid(before_activation[0])  # Sigmoid of last f.\n",
    "        derivative_sig = np.multiply(sig_f, np.subtract(np.ones(layer_input[0].shape), sig_f))  # Derivative of sigmoid(f).\n",
    "        f_star = (before_activation[0] - np.multiply(derivative_sig, np.subtract(layer_input[0], g_star)))  # Value of f* for the first layer.\n",
    "        self.biases[0] -= eta * np.multiply(derivative_sig, diff).mean(axis=1).flatten().reshape(len(diff), 1)  # Updating first layer of biases.\n",
    "\n",
    "        weights = np.dot(np.add(np.dot(np.subtract(f_star, self.biases[0]), first_layer.T), np.multiply(1 / eta, self.weights[0])),\n",
    "                  np.linalg.inv(np.add(np.dot(first_layer, first_layer.T), np.multiply(1/eta, np.identity(first_layer.shape[0])))))\n",
    "        self.weights[0] = weights  # Updating weight values for the layer.\n",
    "\n",
    "        return loss_val\n",
    "        ###########################\n",
    "\n",
    "\n",
    "    def evaluate(\n",
    "        self,\n",
    "        test_data: tuple[np.ndarray, np.ndarray],\n",
    "    ) -> float:\n",
    "        pred = np.argmax(self.feedforward(test_data[0]), axis=0)\n",
    "        corr = np.argmax(test_data[1], axis=1).T\n",
    "        return np.mean(pred == corr)\n",
    "\n",
    "    def cost_derivative(\n",
    "        self,\n",
    "        output_activations: np.ndarray,\n",
    "        y: np.ndarray,\n",
    "    ) -> np.ndarray:\n",
    "        return output_activations - y\n",
    "\n",
    "    def SGD(\n",
    "        self,\n",
    "        training_data: np.ndarray,\n",
    "        epochs: int,\n",
    "        mini_batch_size: int,\n",
    "        eta: float,\n",
    "        test_data: np.ndarray = None,\n",
    "        logger: Logger = None,\n",
    "    ) -> None:\n",
    "        x_train, y_train = training_data\n",
    "        if test_data:\n",
    "            x_test, y_test = test_data\n",
    "        wloss = logloss(self.feedforward(x_train).T, y_train) / (\n",
    "            x_train.shape[0] // mini_batch_size\n",
    "        )\n",
    "        for j in range(epochs + 1):\n",
    "            if logger is not None:\n",
    "                logger.report_scalar(\n",
    "                    title=\"Loss\", series=\"ProxyProp Loss\", iteration=j, value=wloss\n",
    "                )\n",
    "            if test_data:\n",
    "                acc = self.evaluate((x_test, y_test))\n",
    "                if logger is not None:\n",
    "                    logger.report_scalar(\n",
    "                        title=\"Accuracy\",\n",
    "                        series=\"ProxyProp Accuracy\",\n",
    "                        iteration=j,\n",
    "                        value=acc,\n",
    "                    )\n",
    "                print(\"Epoch: {0}, Accuracy: {1}, Loss: {2}\".format(j, acc, wloss))\n",
    "            else:\n",
    "                print(\"Epoch: {0}\".format(j))\n",
    "            if j == epochs:\n",
    "                break\n",
    "            loss = 0\n",
    "            for i in range(x_train.shape[0] // mini_batch_size):\n",
    "                x_mini_batch = x_train[\n",
    "                    (mini_batch_size * i) : (mini_batch_size * (i + 1))\n",
    "                ]\n",
    "                y_mini_batch = y_train[\n",
    "                    (mini_batch_size * i) : (mini_batch_size * (i + 1))\n",
    "                ]\n",
    "                loss += self.backprop(x_mini_batch.T, y_mini_batch.T, eta)\n",
    "            wloss = loss / (\n",
    "                x_train.shape[0] // mini_batch_size\n",
    "            )  # we compute the average of the losses over the number of minibatches\n",
    "\n",
    "\n",
    "# Simple check if all is fine\n",
    "network = ProxProp([784, 30, 30, 10])\n",
    "network.SGD(\n",
    "    (x_train, y_train),\n",
    "    epochs=2,\n",
    "    mini_batch_size=100,\n",
    "    eta=3.0,\n",
    "    test_data=(x_test, y_test),\n",
    ")"
   ],
   "metadata": {
    "id": "QDZIWGNKWjZh",
    "colab": {
     "base_uri": "https://localhost:8080/"
    },
    "executionInfo": {
     "status": "ok",
     "timestamp": 1731836696388,
     "user_tz": -60,
     "elapsed": 106111,
     "user": {
      "displayName": "Juliusz Pawlus",
      "userId": "04893540272096859836"
     }
    },
    "outputId": "4a68cc91-48eb-4ad8-bb31-a40d4b9ddac3",
    "ExecuteTime": {
     "end_time": "2024-11-18T13:02:07.427157Z",
     "start_time": "2024-11-18T12:58:32.803651Z"
    }
   },
   "execution_count": 9
  },
  {
   "cell_type": "markdown",
   "source": [
    "Code visualizing accuracies and losses of models."
   ],
   "metadata": {
    "collapsed": false
   }
  },
  {
   "cell_type": "code",
   "outputs": [],
   "source": [
    "import pandas as pd\n",
    "import plotly.express as px\n",
    "\n",
    "\n",
    "# Visualizes accuracy and loss of models with matching 'tags'. Optionally assign the names.\n",
    "def visualize(tags, names=None):\n",
    "    task_list = Task.get_tasks(\n",
    "        project_name='DNN_projekt1_moje_testy',\n",
    "        tags=tags\n",
    "    )  # Gather tasks\n",
    "    \n",
    "    # If there are no given names name models '1', '2', ...\n",
    "    if names is None:\n",
    "        names = [i for i in range(len(task_list))]\n",
    "        \n",
    "    data_acc = dict()   # Accuracies\n",
    "    data_loss = dict()  # Losses\n",
    "    \n",
    "    # Gather data.\n",
    "    for index, task in enumerate(task_list):\n",
    "        metrics = task.get_reported_scalars()\n",
    "        acc = metrics['Accuracy']['ProxyProp Accuracy']['y']\n",
    "        loss = metrics['Loss']['ProxyProp Loss']['y']\n",
    "        data_acc[names[index]] = pd.Series(acc, index=np.arange(len(acc)))\n",
    "        data_loss[names[index]] = pd.Series(loss, index=np.arange(len(loss)))\n",
    "        \n",
    "    # Plot accuracies.\n",
    "    fig = px.line(pd.DataFrame(data_acc),\n",
    "                  labels={'index': 'Epochs',\n",
    "                          'value': 'Accuracy [%]',\n",
    "                          'variable': 'Experiment'},\n",
    "                  title='Test accuracy')\n",
    "    fig.show()\n",
    "    \n",
    "    # Polt losses.\n",
    "    fig = px.line(pd.DataFrame(data_loss),\n",
    "              labels={'index': 'Epochs',\n",
    "                      'value': 'Loss',\n",
    "                      'variable': 'Experiment'},\n",
    "              title='Test loss')\n",
    "    fig.show()\n"
   ],
   "metadata": {
    "collapsed": false,
    "ExecuteTime": {
     "end_time": "2024-11-18T14:39:32.343692Z",
     "start_time": "2024-11-18T14:39:32.323688Z"
    }
   },
   "execution_count": 28
  },
  {
   "cell_type": "markdown",
   "metadata": {
    "id": "_am34GLZ4Oga"
   },
   "source": [
    "# Train the network"
   ]
  },
  {
   "cell_type": "markdown",
   "source": [
    "The process of training took over 70 trained models."
   ],
   "metadata": {
    "id": "L_kr41KDtdKY"
   }
  },
  {
   "cell_type": "code",
   "outputs": [
    {
     "data": {
      "application/vnd.plotly.v1+json": {
       "data": [
        {
         "hovertemplate": "Experiment=0<br>Epochs=%{x}<br>Accuracy [%]=%{y}<extra></extra>",
         "legendgroup": "0",
         "line": {
          "color": "#636efa",
          "dash": "solid"
         },
         "marker": {
          "symbol": "circle"
         },
         "mode": "lines",
         "name": "0",
         "showlegend": true,
         "x": [
          0,
          1,
          2,
          3,
          4,
          5,
          6,
          7,
          8,
          9,
          10,
          11,
          12,
          13,
          14,
          15,
          16,
          17,
          18,
          19,
          20,
          21,
          22,
          23,
          24,
          25,
          26,
          27,
          28,
          29,
          30,
          31,
          32,
          33,
          34,
          35,
          36,
          37,
          38,
          39,
          40
         ],
         "xaxis": "x",
         "y": [
          0.09430000185966492,
          0.6577000021934509,
          0.7581999897956848,
          0.7781999707221985,
          0.7904999852180481,
          0.7991999983787537,
          0.8047000169754028,
          0.8105999827384949,
          0.8126999735832214,
          0.8149999976158142,
          0.8180000185966492,
          0.8215000033378601,
          0.92330002784729,
          0.9294000267982483,
          0.9316999912261963,
          0.9333000183105469,
          0.9341999888420105,
          0.9358000159263611,
          0.9358999729156494,
          0.9369000196456909,
          0.9381999969482422,
          0.9394000172615051,
          0.9394000172615051,
          0.9408000111579895,
          0.9413999915122986,
          0.9424999952316284,
          null,
          null,
          null,
          null,
          null,
          null,
          null,
          null,
          null,
          null,
          null,
          null,
          null,
          null,
          null
         ],
         "yaxis": "y",
         "type": "scattergl"
        },
        {
         "hovertemplate": "Experiment=1<br>Epochs=%{x}<br>Accuracy [%]=%{y}<extra></extra>",
         "legendgroup": "1",
         "line": {
          "color": "#EF553B",
          "dash": "solid"
         },
         "marker": {
          "symbol": "circle"
         },
         "mode": "lines",
         "name": "1",
         "showlegend": true,
         "x": [
          0,
          1,
          2,
          3,
          4,
          5,
          6,
          7,
          8,
          9,
          10,
          11,
          12,
          13,
          14,
          15,
          16,
          17,
          18,
          19,
          20,
          21,
          22,
          23,
          24,
          25,
          26,
          27,
          28,
          29,
          30,
          31,
          32,
          33,
          34,
          35,
          36,
          37,
          38,
          39,
          40
         ],
         "xaxis": "x",
         "y": [
          0.10189999639987946,
          0.10419999808073044,
          0.10090000182390213,
          0.10180000215768814,
          0.10769999772310257,
          0.27390000224113464,
          0.5717999935150146,
          0.8094000220298767,
          0.8944000005722046,
          0.9021999835968018,
          0.9067999720573425,
          0.9117000102996826,
          0.9139999747276306,
          0.9161999821662903,
          0.9193000197410583,
          0.9208999872207642,
          0.9236000180244446,
          0.9244999885559082,
          0.9254000186920166,
          0.9266999959945679,
          0.9279999732971191,
          0.9287999868392944,
          0.9298999905586243,
          0.9307000041007996,
          0.9319000244140625,
          0.9316999912261963,
          0.9330000281333923,
          0.9337000250816345,
          0.9341999888420105,
          0.934499979019165,
          0.9347000122070312,
          null,
          null,
          null,
          null,
          null,
          null,
          null,
          null,
          null,
          null
         ],
         "yaxis": "y",
         "type": "scattergl"
        },
        {
         "hovertemplate": "Experiment=2<br>Epochs=%{x}<br>Accuracy [%]=%{y}<extra></extra>",
         "legendgroup": "2",
         "line": {
          "color": "#00cc96",
          "dash": "solid"
         },
         "marker": {
          "symbol": "circle"
         },
         "mode": "lines",
         "name": "2",
         "showlegend": true,
         "x": [
          0,
          1,
          2,
          3,
          4,
          5,
          6,
          7,
          8,
          9,
          10,
          11,
          12,
          13,
          14,
          15,
          16,
          17,
          18,
          19,
          20,
          21,
          22,
          23,
          24,
          25,
          26,
          27,
          28,
          29,
          30,
          31,
          32,
          33,
          34,
          35,
          36,
          37,
          38,
          39,
          40
         ],
         "xaxis": "x",
         "y": [
          0.09769999980926514,
          0.09790000319480896,
          0.0982000008225441,
          0.0982000008225441,
          0.09830000251531601,
          0.09839999675750732,
          0.09839999675750732,
          0.09839999675750732,
          0.09839999675750732,
          0.09839999675750732,
          0.09839999675750732,
          0.09839999675750732,
          0.09849999845027924,
          0.09849999845027924,
          0.09849999845027924,
          0.09849999845027924,
          0.09849999845027924,
          0.09849999845027924,
          0.09860000014305115,
          0.09860000014305115,
          0.09860000014305115,
          0.09870000183582306,
          0.09870000183582306,
          0.09870000183582306,
          0.09870000183582306,
          0.09870000183582306,
          null,
          null,
          null,
          null,
          null,
          null,
          null,
          null,
          null,
          null,
          null,
          null,
          null,
          null,
          null
         ],
         "yaxis": "y",
         "type": "scattergl"
        },
        {
         "hovertemplate": "Experiment=3<br>Epochs=%{x}<br>Accuracy [%]=%{y}<extra></extra>",
         "legendgroup": "3",
         "line": {
          "color": "#ab63fa",
          "dash": "solid"
         },
         "marker": {
          "symbol": "circle"
         },
         "mode": "lines",
         "name": "3",
         "showlegend": true,
         "x": [
          0,
          1,
          2,
          3,
          4,
          5,
          6,
          7,
          8,
          9,
          10,
          11,
          12,
          13,
          14,
          15,
          16,
          17,
          18,
          19,
          20,
          21,
          22,
          23,
          24,
          25,
          26,
          27,
          28,
          29,
          30,
          31,
          32,
          33,
          34,
          35,
          36,
          37,
          38,
          39,
          40
         ],
         "xaxis": "x",
         "y": [
          0.09109999984502792,
          0.09539999812841415,
          0.09860000014305115,
          0.10930000245571136,
          0.14149999618530273,
          0.18619999289512634,
          0.23569999635219574,
          0.2987000048160553,
          0.3628999888896942,
          0.4293000102043152,
          0.49729999899864197,
          0.5616000294685364,
          0.614300012588501,
          0.6567000150680542,
          0.6883999705314636,
          0.7102000117301941,
          0.7260000109672546,
          0.7350000143051147,
          0.7419999837875366,
          0.7476999759674072,
          0.7530999779701233,
          0.7578999996185303,
          0.7605999708175659,
          0.7627000212669373,
          0.7649000287055969,
          0.7678999900817871,
          0.7703999876976013,
          0.7728999853134155,
          0.7759000062942505,
          0.7785999774932861,
          0.7809000015258789,
          null,
          null,
          null,
          null,
          null,
          null,
          null,
          null,
          null,
          null
         ],
         "yaxis": "y",
         "type": "scattergl"
        },
        {
         "hovertemplate": "Experiment=4<br>Epochs=%{x}<br>Accuracy [%]=%{y}<extra></extra>",
         "legendgroup": "4",
         "line": {
          "color": "#FFA15A",
          "dash": "solid"
         },
         "marker": {
          "symbol": "circle"
         },
         "mode": "lines",
         "name": "4",
         "showlegend": true,
         "x": [
          0,
          1,
          2,
          3,
          4,
          5,
          6,
          7,
          8,
          9,
          10,
          11,
          12,
          13,
          14,
          15,
          16,
          17,
          18,
          19,
          20,
          21,
          22,
          23,
          24,
          25,
          26,
          27,
          28,
          29,
          30,
          31,
          32,
          33,
          34,
          35,
          36,
          37,
          38,
          39,
          40
         ],
         "xaxis": "x",
         "y": [
          0.10429999977350235,
          0.8842999935150146,
          0.9146999716758728,
          0.9251000285148621,
          0.9305999875068665,
          0.9351999759674072,
          0.9380999803543091,
          0.939300000667572,
          0.9420999884605408,
          0.9409999847412109,
          0.9416000247001648,
          0.942300021648407,
          0.941100001335144,
          0.9417999982833862,
          0.9423999786376953,
          0.9434999823570251,
          0.9431999921798706,
          0.9430000185966492,
          0.9420999884605408,
          0.9422000050544739,
          0.9424999952316284,
          0.9435999989509583,
          0.9452000260353088,
          0.9447000026702881,
          0.9442999958992004,
          0.9437999725341797,
          0.9445000290870667,
          0.9447000026702881,
          0.9445000290870667,
          0.9444000124931335,
          0.9451000094413757,
          0.9452000260353088,
          0.9452999830245972,
          0.9452999830245972,
          0.944599986076355,
          0.9442999958992004,
          null,
          null,
          null,
          null,
          null
         ],
         "yaxis": "y",
         "type": "scattergl"
        },
        {
         "hovertemplate": "Experiment=5<br>Epochs=%{x}<br>Accuracy [%]=%{y}<extra></extra>",
         "legendgroup": "5",
         "line": {
          "color": "#19d3f3",
          "dash": "solid"
         },
         "marker": {
          "symbol": "circle"
         },
         "mode": "lines",
         "name": "5",
         "showlegend": true,
         "x": [
          0,
          1,
          2,
          3,
          4,
          5,
          6,
          7,
          8,
          9,
          10,
          11,
          12,
          13,
          14,
          15,
          16,
          17,
          18,
          19,
          20,
          21,
          22,
          23,
          24,
          25,
          26,
          27,
          28,
          29,
          30,
          31,
          32,
          33,
          34,
          35,
          36,
          37,
          38,
          39,
          40
         ],
         "xaxis": "x",
         "y": [
          0.0869000032544136,
          0.7871000170707703,
          0.8159000277519226,
          0.8374000191688538,
          0.9189000129699707,
          0.9279999732971191,
          0.932200014591217,
          0.9333999752998352,
          0.9351000189781189,
          0.9358999729156494,
          0.9366999864578247,
          0.9369999766349792,
          0.9376000165939331,
          0.9370999932289124,
          0.9376999735832214,
          0.9386000037193298,
          0.939300000667572,
          0.9386000037193298,
          0.9381999969482422,
          0.9387000203132629,
          0.9376000165939331,
          0.9383000135421753,
          0.9379000067710876,
          0.9376000165939331,
          0.9383999705314636,
          0.9379000067710876,
          0.9372000098228455,
          0.9373000264167786,
          0.9379000067710876,
          0.9379000067710876,
          0.9376000165939331,
          0.9379000067710876,
          0.9387999773025513,
          0.9395999908447266,
          0.9398000240325928,
          0.9402999877929688,
          0.9402999877929688,
          0.9404000043869019,
          0.9402999877929688,
          0.9398000240325928,
          0.939300000667572
         ],
         "yaxis": "y",
         "type": "scattergl"
        },
        {
         "hovertemplate": "Experiment=6<br>Epochs=%{x}<br>Accuracy [%]=%{y}<extra></extra>",
         "legendgroup": "6",
         "line": {
          "color": "#FF6692",
          "dash": "solid"
         },
         "marker": {
          "symbol": "circle"
         },
         "mode": "lines",
         "name": "6",
         "showlegend": true,
         "x": [
          0,
          1,
          2,
          3,
          4,
          5,
          6,
          7,
          8,
          9,
          10,
          11,
          12,
          13,
          14,
          15,
          16,
          17,
          18,
          19,
          20,
          21,
          22,
          23,
          24,
          25,
          26,
          27,
          28,
          29,
          30,
          31,
          32,
          33,
          34,
          35,
          36,
          37,
          38,
          39,
          40
         ],
         "xaxis": "x",
         "y": [
          0.07540000230073929,
          0.7857000231742859,
          0.9046000242233276,
          0.9325000047683716,
          0.9373999834060669,
          0.9391000270843506,
          0.9390000104904175,
          0.9442999958992004,
          0.9430999755859375,
          0.9440000057220459,
          0.9427000284194946,
          0.9440000057220459,
          0.9441999793052673,
          0.9444000124931335,
          0.9438999891281128,
          0.9449999928474426,
          0.9463000297546387,
          0.9459999799728394,
          0.947700023651123,
          0.9476000070571899,
          0.9485999941825867,
          0.9476000070571899,
          0.9488000273704529,
          0.9472000002861023,
          0.9485999941825867,
          0.9491999745368958,
          0.9483000040054321,
          0.9472000002861023,
          0.9484000205993652,
          0.9473000168800354,
          0.9473999738693237,
          0.9470999836921692,
          0.9476000070571899,
          0.9473000168800354,
          0.9467999935150146,
          0.9472000002861023,
          null,
          null,
          null,
          null,
          null
         ],
         "yaxis": "y",
         "type": "scattergl"
        },
        {
         "hovertemplate": "Experiment=7<br>Epochs=%{x}<br>Accuracy [%]=%{y}<extra></extra>",
         "legendgroup": "7",
         "line": {
          "color": "#B6E880",
          "dash": "solid"
         },
         "marker": {
          "symbol": "circle"
         },
         "mode": "lines",
         "name": "7",
         "showlegend": true,
         "x": [
          0,
          1,
          2,
          3,
          4,
          5,
          6,
          7,
          8,
          9,
          10,
          11,
          12,
          13,
          14,
          15,
          16,
          17,
          18,
          19,
          20,
          21,
          22,
          23,
          24,
          25,
          26,
          27,
          28,
          29,
          30,
          31,
          32,
          33,
          34,
          35,
          36,
          37,
          38,
          39,
          40
         ],
         "xaxis": "x",
         "y": [
          0.1177000030875206,
          0.11500000208616257,
          0.11860000342130661,
          0.19169999659061432,
          0.836899995803833,
          0.8463000059127808,
          0.8481000065803528,
          0.8510000109672546,
          0.8518000245094299,
          0.8517000079154968,
          0.8511999845504761,
          0.8510000109672546,
          0.8517000079154968,
          0.8518000245094299,
          0.8525000214576721,
          0.8529999852180481,
          0.852400004863739,
          0.8521999716758728,
          0.852400004863739,
          0.8518999814987183,
          0.8517000079154968,
          0.8515999913215637,
          0.8525000214576721,
          0.8521000146865845,
          0.8522999882698059,
          0.8528000116348267,
          0.8528000116348267,
          0.8528000116348267,
          0.8526999950408936,
          0.8525999784469604,
          0.8525000214576721,
          0.8518999814987183,
          0.8521000146865845,
          0.8515999913215637,
          0.8514999747276306,
          0.8517000079154968,
          0.8518999814987183,
          0.8515999913215637,
          0.8518000245094299,
          0.8518999814987183,
          0.8518999814987183
         ],
         "yaxis": "y",
         "type": "scattergl"
        },
        {
         "hovertemplate": "Experiment=8<br>Epochs=%{x}<br>Accuracy [%]=%{y}<extra></extra>",
         "legendgroup": "8",
         "line": {
          "color": "#FF97FF",
          "dash": "solid"
         },
         "marker": {
          "symbol": "circle"
         },
         "mode": "lines",
         "name": "8",
         "showlegend": true,
         "x": [
          0,
          1,
          2,
          3,
          4,
          5,
          6,
          7,
          8,
          9,
          10,
          11,
          12,
          13,
          14,
          15,
          16,
          17,
          18,
          19,
          20,
          21,
          22,
          23,
          24,
          25,
          26,
          27,
          28,
          29,
          30,
          31,
          32,
          33,
          34,
          35,
          36,
          37,
          38,
          39,
          40
         ],
         "xaxis": "x",
         "y": [
          0.09109999984502792,
          0.10660000145435333,
          0.12929999828338623,
          0.9154999852180481,
          0.9291999936103821,
          0.9398999810218811,
          0.9368000030517578,
          0.9419999718666077,
          0.946399986743927,
          0.9458000063896179,
          0.9460999965667725,
          0.9449999928474426,
          0.9474999904632568,
          0.946399986743927,
          0.9495000243186951,
          0.9483000040054321,
          0.9480999708175659,
          0.9510999917984009,
          0.9508000016212463,
          0.949999988079071,
          0.9495000243186951,
          0.9495000243186951,
          0.9501000046730042,
          0.9514999985694885,
          0.9492999911308289,
          0.9509999752044678,
          0.9501000046730042,
          0.9488999843597412,
          0.9506000280380249,
          0.9484000205993652,
          0.9484999775886536,
          0.9488999843597412,
          0.9495999813079834,
          0.947700023651123,
          0.9495999813079834,
          0.9491000175476074,
          null,
          null,
          null,
          null,
          null
         ],
         "yaxis": "y",
         "type": "scattergl"
        },
        {
         "hovertemplate": "Experiment=9<br>Epochs=%{x}<br>Accuracy [%]=%{y}<extra></extra>",
         "legendgroup": "9",
         "line": {
          "color": "#FECB52",
          "dash": "solid"
         },
         "marker": {
          "symbol": "circle"
         },
         "mode": "lines",
         "name": "9",
         "showlegend": true,
         "x": [
          0,
          1,
          2,
          3,
          4,
          5,
          6,
          7,
          8,
          9,
          10,
          11,
          12,
          13,
          14,
          15,
          16,
          17,
          18,
          19,
          20,
          21,
          22,
          23,
          24,
          25,
          26,
          27,
          28,
          29,
          30,
          31,
          32,
          33,
          34,
          35,
          36,
          37,
          38,
          39,
          40
         ],
         "xaxis": "x",
         "y": [
          0.07460000365972519,
          0.8282999992370605,
          0.8411999940872192,
          0.8446000218391418,
          0.8485999703407288,
          0.8500999808311462,
          0.8519999980926514,
          0.8522999882698059,
          0.8532000184059143,
          0.8526999950408936,
          0.8540999889373779,
          0.8535000085830688,
          0.8533999919891357,
          0.8536999821662903,
          0.8531000018119812,
          0.8532000184059143,
          0.8531000018119812,
          0.8533999919891357,
          0.853600025177002,
          0.854200005531311,
          0.8537999987602234,
          0.8540999889373779,
          0.8547999858856201,
          0.8543999791145325,
          0.8543000221252441,
          0.8540999889373779,
          0.854200005531311,
          0.854200005531311,
          0.8547999858856201,
          0.8549000024795532,
          0.8546000123023987,
          0.854200005531311,
          0.8544999957084656,
          0.8546000123023987,
          0.8540999889373779,
          0.8539999723434448,
          0.8546000123023987,
          0.8546000123023987,
          0.8543999791145325,
          0.8543999791145325,
          0.8546000123023987
         ],
         "yaxis": "y",
         "type": "scattergl"
        },
        {
         "hovertemplate": "Experiment=10<br>Epochs=%{x}<br>Accuracy [%]=%{y}<extra></extra>",
         "legendgroup": "10",
         "line": {
          "color": "#636efa",
          "dash": "solid"
         },
         "marker": {
          "symbol": "circle"
         },
         "mode": "lines",
         "name": "10",
         "showlegend": true,
         "x": [
          0,
          1,
          2,
          3,
          4,
          5,
          6,
          7,
          8,
          9,
          10,
          11,
          12,
          13,
          14,
          15,
          16,
          17,
          18,
          19,
          20,
          21,
          22,
          23,
          24,
          25,
          26,
          27,
          28,
          29,
          30,
          31,
          32,
          33,
          34,
          35,
          36,
          37,
          38,
          39,
          40
         ],
         "xaxis": "x",
         "y": [
          0.10679999738931656,
          0.9021999835968018,
          0.9187999963760376,
          0.9297000169754028,
          0.9352999925613403,
          0.9372000098228455,
          0.9368000030517578,
          0.9415000081062317,
          0.9423999786376953,
          0.942300021648407,
          0.9452000260353088,
          0.9447000026702881,
          0.9437000155448914,
          0.9467999935150146,
          0.9474999904632568,
          0.9490000009536743,
          0.9477999806404114,
          0.9460999965667725,
          0.9484000205993652,
          0.9462000131607056,
          0.948199987411499,
          0.9483000040054321,
          0.9469000101089478,
          0.9473000168800354,
          0.9483000040054321,
          0.9490000009536743,
          null,
          null,
          null,
          null,
          null,
          null,
          null,
          null,
          null,
          null,
          null,
          null,
          null,
          null,
          null
         ],
         "yaxis": "y",
         "type": "scattergl"
        },
        {
         "hovertemplate": "Experiment=11<br>Epochs=%{x}<br>Accuracy [%]=%{y}<extra></extra>",
         "legendgroup": "11",
         "line": {
          "color": "#EF553B",
          "dash": "solid"
         },
         "marker": {
          "symbol": "circle"
         },
         "mode": "lines",
         "name": "11",
         "showlegend": true,
         "x": [
          0,
          1,
          2,
          3,
          4,
          5,
          6,
          7,
          8,
          9,
          10,
          11,
          12,
          13,
          14,
          15,
          16,
          17,
          18,
          19,
          20,
          21,
          22,
          23,
          24,
          25,
          26,
          27,
          28,
          29,
          30,
          31,
          32,
          33,
          34,
          35,
          36,
          37,
          38,
          39,
          40
         ],
         "xaxis": "x",
         "y": [
          0.09669999778270721,
          0.9071999788284302,
          0.9273999929428101,
          0.9355999827384949,
          0.9376999735832214,
          0.9383999705314636,
          0.9398999810218811,
          0.9419000148773193,
          0.9434999823570251,
          0.9434999823570251,
          0.9435999989509583,
          0.942300021648407,
          0.9447000026702881,
          0.9440000057220459,
          0.944100022315979,
          0.9435999989509583,
          0.942799985408783,
          0.9429000020027161,
          0.9429000020027161,
          0.9442999958992004,
          0.9424999952316284,
          0.9434000253677368,
          0.9433000087738037,
          0.9437999725341797,
          0.9431999921798706,
          0.944599986076355,
          0.9440000057220459,
          0.9434999823570251,
          0.9437999725341797,
          0.9431999921798706,
          0.9435999989509583,
          null,
          null,
          null,
          null,
          null,
          null,
          null,
          null,
          null,
          null
         ],
         "yaxis": "y",
         "type": "scattergl"
        },
        {
         "hovertemplate": "Experiment=12<br>Epochs=%{x}<br>Accuracy [%]=%{y}<extra></extra>",
         "legendgroup": "12",
         "line": {
          "color": "#00cc96",
          "dash": "solid"
         },
         "marker": {
          "symbol": "circle"
         },
         "mode": "lines",
         "name": "12",
         "showlegend": true,
         "x": [
          0,
          1,
          2,
          3,
          4,
          5,
          6,
          7,
          8,
          9,
          10,
          11,
          12,
          13,
          14,
          15,
          16,
          17,
          18,
          19,
          20,
          21,
          22,
          23,
          24,
          25,
          26,
          27,
          28,
          29,
          30,
          31,
          32,
          33,
          34,
          35,
          36,
          37,
          38,
          39,
          40
         ],
         "xaxis": "x",
         "y": [
          0.061799999326467514,
          0.8912000060081482,
          0.9176999926567078,
          0.9275000095367432,
          0.9340999722480774,
          0.9358999729156494,
          0.9369999766349792,
          0.940500020980835,
          0.9417999982833862,
          0.942300021648407,
          0.9405999779701233,
          0.9434999823570251,
          0.9449999928474426,
          0.9452000260353088,
          0.9429000020027161,
          0.9430000185966492,
          0.9427000284194946,
          0.9452999830245972,
          0.9435999989509583,
          0.9458000063896179,
          0.9459999799728394,
          0.9453999996185303,
          0.9463000297546387,
          0.944599986076355,
          0.9455000162124634,
          0.9467999935150146,
          null,
          null,
          null,
          null,
          null,
          null,
          null,
          null,
          null,
          null,
          null,
          null,
          null,
          null,
          null
         ],
         "yaxis": "y",
         "type": "scattergl"
        },
        {
         "hovertemplate": "Experiment=13<br>Epochs=%{x}<br>Accuracy [%]=%{y}<extra></extra>",
         "legendgroup": "13",
         "line": {
          "color": "#ab63fa",
          "dash": "solid"
         },
         "marker": {
          "symbol": "circle"
         },
         "mode": "lines",
         "name": "13",
         "showlegend": true,
         "x": [
          0,
          1,
          2,
          3,
          4,
          5,
          6,
          7,
          8,
          9,
          10,
          11,
          12,
          13,
          14,
          15,
          16,
          17,
          18,
          19,
          20,
          21,
          22,
          23,
          24,
          25,
          26,
          27,
          28,
          29,
          30,
          31,
          32,
          33,
          34,
          35,
          36,
          37,
          38,
          39,
          40
         ],
         "xaxis": "x",
         "y": [
          0.0560000017285347,
          0.9057999849319458,
          0.925000011920929,
          0.9340000152587891,
          0.9373999834060669,
          0.9404000043869019,
          0.9388999938964844,
          0.9412000179290771,
          0.9384999871253967,
          0.9422000050544739,
          0.9437999725341797,
          0.9424999952316284,
          0.9451000094413757,
          0.9426000118255615,
          0.944100022315979,
          0.9434000253677368,
          0.9447000026702881,
          0.9459999799728394,
          0.9455000162124634,
          0.9435999989509583,
          0.9455999732017517,
          0.9449999928474426,
          0.9438999891281128,
          0.9437999725341797,
          0.9440000057220459,
          0.9430999755859375,
          0.9417999982833862,
          0.9422000050544739,
          0.9429000020027161,
          0.9437999725341797,
          0.9435999989509583,
          null,
          null,
          null,
          null,
          null,
          null,
          null,
          null,
          null,
          null
         ],
         "yaxis": "y",
         "type": "scattergl"
        },
        {
         "hovertemplate": "Experiment=14<br>Epochs=%{x}<br>Accuracy [%]=%{y}<extra></extra>",
         "legendgroup": "14",
         "line": {
          "color": "#FFA15A",
          "dash": "solid"
         },
         "marker": {
          "symbol": "circle"
         },
         "mode": "lines",
         "name": "14",
         "showlegend": true,
         "x": [
          0,
          1,
          2,
          3,
          4,
          5,
          6,
          7,
          8,
          9,
          10,
          11,
          12,
          13,
          14,
          15,
          16,
          17,
          18,
          19,
          20,
          21,
          22,
          23,
          24,
          25,
          26,
          27,
          28,
          29,
          30,
          31,
          32,
          33,
          34,
          35,
          36,
          37,
          38,
          39,
          40
         ],
         "xaxis": "x",
         "y": [
          0.10279999673366547,
          0.9002000093460083,
          0.9236999750137329,
          0.9318000078201294,
          0.9388999938964844,
          0.9386000037193298,
          0.9386000037193298,
          0.9401999711990356,
          0.941100001335144,
          0.9429000020027161,
          0.9437000155448914,
          0.9462000131607056,
          0.9459999799728394,
          0.9452000260353088,
          0.9449999928474426,
          0.9444000124931335,
          0.9440000057220459,
          0.9448000192642212,
          0.944599986076355,
          0.945900022983551,
          0.9448000192642212,
          null,
          null,
          null,
          null,
          null,
          null,
          null,
          null,
          null,
          null,
          null,
          null,
          null,
          null,
          null,
          null,
          null,
          null,
          null,
          null
         ],
         "yaxis": "y",
         "type": "scattergl"
        },
        {
         "hovertemplate": "Experiment=15<br>Epochs=%{x}<br>Accuracy [%]=%{y}<extra></extra>",
         "legendgroup": "15",
         "line": {
          "color": "#19d3f3",
          "dash": "solid"
         },
         "marker": {
          "symbol": "circle"
         },
         "mode": "lines",
         "name": "15",
         "showlegend": true,
         "x": [
          0,
          1,
          2,
          3,
          4,
          5,
          6,
          7,
          8,
          9,
          10,
          11,
          12,
          13,
          14,
          15,
          16,
          17,
          18,
          19,
          20,
          21,
          22,
          23,
          24,
          25,
          26,
          27,
          28,
          29,
          30,
          31,
          32,
          33,
          34,
          35,
          36,
          37,
          38,
          39,
          40
         ],
         "xaxis": "x",
         "y": [
          0.08070000261068344,
          0.8988999724388123,
          0.9211999773979187,
          0.9319999814033508,
          0.9368000030517578,
          0.9386000037193298,
          0.9398999810218811,
          0.940500020980835,
          0.942300021648407,
          0.9420999884605408,
          0.9427000284194946,
          0.9419999718666077,
          0.942799985408783,
          0.9429000020027161,
          0.9444000124931335,
          0.9448000192642212,
          0.9453999996185303,
          0.942799985408783,
          0.9447000026702881,
          0.9448000192642212,
          0.944599986076355,
          0.944100022315979,
          0.944599986076355,
          0.9455000162124634,
          0.9451000094413757,
          0.9445000290870667,
          0.9449999928474426,
          0.9448000192642212,
          0.9444000124931335,
          0.9433000087738037,
          0.9431999921798706,
          null,
          null,
          null,
          null,
          null,
          null,
          null,
          null,
          null,
          null
         ],
         "yaxis": "y",
         "type": "scattergl"
        },
        {
         "hovertemplate": "Experiment=16<br>Epochs=%{x}<br>Accuracy [%]=%{y}<extra></extra>",
         "legendgroup": "16",
         "line": {
          "color": "#FF6692",
          "dash": "solid"
         },
         "marker": {
          "symbol": "circle"
         },
         "mode": "lines",
         "name": "16",
         "showlegend": true,
         "x": [
          0,
          1,
          2,
          3,
          4,
          5,
          6,
          7,
          8,
          9,
          10,
          11,
          12,
          13,
          14,
          15,
          16,
          17,
          18,
          19,
          20,
          21,
          22,
          23,
          24,
          25,
          26,
          27,
          28,
          29,
          30,
          31,
          32,
          33,
          34,
          35,
          36,
          37,
          38,
          39,
          40
         ],
         "xaxis": "x",
         "y": [
          0.12549999356269836,
          0.8960000276565552,
          0.9225999712944031,
          0.9304999709129333,
          0.9354000091552734,
          0.9394000172615051,
          0.9404000043869019,
          0.9408000111579895,
          0.9412999749183655,
          0.9415000081062317,
          0.9424999952316284,
          0.9441999793052673,
          0.9430999755859375,
          0.942799985408783,
          0.9441999793052673,
          0.9441999793052673,
          0.9448999762535095,
          0.9441999793052673,
          0.9459999799728394,
          0.9426000118255615,
          0.9434000253677368,
          null,
          null,
          null,
          null,
          null,
          null,
          null,
          null,
          null,
          null,
          null,
          null,
          null,
          null,
          null,
          null,
          null,
          null,
          null,
          null
         ],
         "yaxis": "y",
         "type": "scattergl"
        },
        {
         "hovertemplate": "Experiment=17<br>Epochs=%{x}<br>Accuracy [%]=%{y}<extra></extra>",
         "legendgroup": "17",
         "line": {
          "color": "#B6E880",
          "dash": "solid"
         },
         "marker": {
          "symbol": "circle"
         },
         "mode": "lines",
         "name": "17",
         "showlegend": true,
         "x": [
          0,
          1,
          2,
          3,
          4,
          5,
          6,
          7,
          8,
          9,
          10,
          11,
          12,
          13,
          14,
          15,
          16,
          17,
          18,
          19,
          20,
          21,
          22,
          23,
          24,
          25,
          26,
          27,
          28,
          29,
          30,
          31,
          32,
          33,
          34,
          35,
          36,
          37,
          38,
          39,
          40
         ],
         "xaxis": "x",
         "y": [
          0.10639999806880951,
          0.8163999915122986,
          0.8370000123977661,
          0.8432000279426575,
          0.84579998254776,
          0.8481000065803528,
          0.8496000170707703,
          0.8515999913215637,
          0.8521999716758728,
          0.8522999882698059,
          0.8496000170707703,
          0.8522999882698059,
          0.8521000146865845,
          0.8535000085830688,
          0.8549000024795532,
          0.8543999791145325,
          0.8525000214576721,
          0.8557999730110168,
          0.8553000092506409,
          0.8568000197410583,
          0.8565999865531921,
          0.8574000000953674,
          0.85589998960495,
          0.857200026512146,
          0.8557999730110168,
          0.8615999817848206,
          0.9426000118255615,
          0.9423999786376953,
          0.9423999786376953,
          0.9419999718666077,
          0.944100022315979,
          null,
          null,
          null,
          null,
          null,
          null,
          null,
          null,
          null,
          null
         ],
         "yaxis": "y",
         "type": "scattergl"
        },
        {
         "hovertemplate": "Experiment=18<br>Epochs=%{x}<br>Accuracy [%]=%{y}<extra></extra>",
         "legendgroup": "18",
         "line": {
          "color": "#FF97FF",
          "dash": "solid"
         },
         "marker": {
          "symbol": "circle"
         },
         "mode": "lines",
         "name": "18",
         "showlegend": true,
         "x": [
          0,
          1,
          2,
          3,
          4,
          5,
          6,
          7,
          8,
          9,
          10,
          11,
          12,
          13,
          14,
          15,
          16,
          17,
          18,
          19,
          20,
          21,
          22,
          23,
          24,
          25,
          26,
          27,
          28,
          29,
          30,
          31,
          32,
          33,
          34,
          35,
          36,
          37,
          38,
          39,
          40
         ],
         "xaxis": "x",
         "y": [
          0.10499999672174454,
          0.1151999980211258,
          0.9136999845504761,
          0.9277999997138977,
          0.9318000078201294,
          0.9345999956130981,
          0.9386000037193298,
          0.9419999718666077,
          0.9420999884605408,
          0.9416999816894531,
          0.9419999718666077,
          0.9430999755859375,
          0.9435999989509583,
          0.9422000050544739,
          0.9431999921798706,
          0.9441999793052673,
          0.9466999769210815,
          0.9453999996185303,
          0.9460999965667725,
          0.944100022315979,
          0.9466000199317932,
          null,
          null,
          null,
          null,
          null,
          null,
          null,
          null,
          null,
          null,
          null,
          null,
          null,
          null,
          null,
          null,
          null,
          null,
          null,
          null
         ],
         "yaxis": "y",
         "type": "scattergl"
        },
        {
         "hovertemplate": "Experiment=19<br>Epochs=%{x}<br>Accuracy [%]=%{y}<extra></extra>",
         "legendgroup": "19",
         "line": {
          "color": "#FECB52",
          "dash": "solid"
         },
         "marker": {
          "symbol": "circle"
         },
         "mode": "lines",
         "name": "19",
         "showlegend": true,
         "x": [
          0,
          1,
          2,
          3,
          4,
          5,
          6,
          7,
          8,
          9,
          10,
          11,
          12,
          13,
          14,
          15,
          16,
          17,
          18,
          19,
          20,
          21,
          22,
          23,
          24,
          25,
          26,
          27,
          28,
          29,
          30,
          31,
          32,
          33,
          34,
          35,
          36,
          37,
          38,
          39,
          40
         ],
         "xaxis": "x",
         "y": [
          0.10249999910593033,
          0.09669999778270721,
          0.09730000048875809,
          0.09799999743700027,
          0.09989999979734421,
          0.09939999878406525,
          0.09950000047683716,
          0.10109999775886536,
          0.10180000215768814,
          0.10279999673366547,
          0.10090000182390213,
          0.10779999941587448,
          0.10589999705553055,
          0.11749999970197678,
          0.13249999284744263,
          0.14159999787807465,
          0.1469999998807907,
          0.15209999680519104,
          0.15549999475479126,
          0.16750000417232513,
          0.1777999997138977,
          0.41530001163482666,
          0.9376999735832214,
          0.9397000074386597,
          0.9426000118255615,
          0.9430000185966492,
          0.9437999725341797,
          0.944100022315979,
          0.9451000094413757,
          0.9437000155448914,
          0.9463000297546387,
          null,
          null,
          null,
          null,
          null,
          null,
          null,
          null,
          null,
          null
         ],
         "yaxis": "y",
         "type": "scattergl"
        },
        {
         "hovertemplate": "Experiment=20<br>Epochs=%{x}<br>Accuracy [%]=%{y}<extra></extra>",
         "legendgroup": "20",
         "line": {
          "color": "#636efa",
          "dash": "solid"
         },
         "marker": {
          "symbol": "circle"
         },
         "mode": "lines",
         "name": "20",
         "showlegend": true,
         "x": [
          0,
          1,
          2,
          3,
          4,
          5,
          6,
          7,
          8,
          9,
          10,
          11,
          12,
          13,
          14,
          15,
          16,
          17,
          18,
          19,
          20,
          21,
          22,
          23,
          24,
          25,
          26,
          27,
          28,
          29,
          30,
          31,
          32,
          33,
          34,
          35,
          36,
          37,
          38,
          39,
          40
         ],
         "xaxis": "x",
         "y": [
          0.12370000034570694,
          0.7373999953269958,
          0.7505999803543091,
          0.7552000284194946,
          0.7587000131607056,
          0.7613000273704529,
          0.762499988079071,
          0.762499988079071,
          0.762499988079071,
          0.7623000144958496,
          0.7623999714851379,
          0.7620000243186951,
          0.7626000046730042,
          0.7631000280380249,
          0.7634000182151794,
          0.7631000280380249,
          0.7627999782562256,
          0.7633000016212463,
          0.7633000016212463,
          0.7633000016212463,
          0.7635999917984009,
          null,
          null,
          null,
          null,
          null,
          null,
          null,
          null,
          null,
          null,
          null,
          null,
          null,
          null,
          null,
          null,
          null,
          null,
          null,
          null
         ],
         "yaxis": "y",
         "type": "scattergl"
        },
        {
         "hovertemplate": "Experiment=21<br>Epochs=%{x}<br>Accuracy [%]=%{y}<extra></extra>",
         "legendgroup": "21",
         "line": {
          "color": "#EF553B",
          "dash": "solid"
         },
         "marker": {
          "symbol": "circle"
         },
         "mode": "lines",
         "name": "21",
         "showlegend": true,
         "x": [
          0,
          1,
          2,
          3,
          4,
          5,
          6,
          7,
          8,
          9,
          10,
          11,
          12,
          13,
          14,
          15,
          16,
          17,
          18,
          19,
          20,
          21,
          22,
          23,
          24,
          25,
          26,
          27,
          28,
          29,
          30,
          31,
          32,
          33,
          34,
          35,
          36,
          37,
          38,
          39,
          40
         ],
         "xaxis": "x",
         "y": [
          0.10239999741315842,
          0.8091999888420105,
          0.8996999859809875,
          0.9294000267982483,
          0.9333999752998352,
          0.9383999705314636,
          0.9383999705314636,
          0.9394999742507935,
          0.9412999749183655,
          0.9422000050544739,
          0.9419000148773193,
          0.9435999989509583,
          0.9430999755859375,
          0.9437000155448914,
          0.944100022315979,
          0.9440000057220459,
          0.944100022315979,
          0.9442999958992004,
          0.9437999725341797,
          0.9434000253677368,
          0.9434999823570251,
          0.9441999793052673,
          0.9438999891281128,
          0.9437000155448914,
          0.9437000155448914,
          0.9437999725341797,
          0.944599986076355,
          0.9448000192642212,
          0.9447000026702881,
          0.9444000124931335,
          0.9445000290870667,
          null,
          null,
          null,
          null,
          null,
          null,
          null,
          null,
          null,
          null
         ],
         "yaxis": "y",
         "type": "scattergl"
        },
        {
         "hovertemplate": "Experiment=22<br>Epochs=%{x}<br>Accuracy [%]=%{y}<extra></extra>",
         "legendgroup": "22",
         "line": {
          "color": "#00cc96",
          "dash": "solid"
         },
         "marker": {
          "symbol": "circle"
         },
         "mode": "lines",
         "name": "22",
         "showlegend": true,
         "x": [
          0,
          1,
          2,
          3,
          4,
          5,
          6,
          7,
          8,
          9,
          10,
          11,
          12,
          13,
          14,
          15,
          16,
          17,
          18,
          19,
          20,
          21,
          22,
          23,
          24,
          25,
          26,
          27,
          28,
          29,
          30,
          31,
          32,
          33,
          34,
          35,
          36,
          37,
          38,
          39,
          40
         ],
         "xaxis": "x",
         "y": [
          0.08990000188350677,
          0.9099000096321106,
          0.9276000261306763,
          0.9319000244140625,
          0.9361000061035156,
          0.940500020980835,
          0.941100001335144,
          0.942799985408783,
          0.944100022315979,
          0.9440000057220459,
          0.9451000094413757,
          0.9466999769210815,
          0.9480000138282776,
          0.9484000205993652,
          0.9474999904632568,
          0.9477999806404114,
          0.9480999708175659,
          0.947700023651123,
          0.9484999775886536,
          0.9492999911308289,
          0.9487000107765198,
          null,
          null,
          null,
          null,
          null,
          null,
          null,
          null,
          null,
          null,
          null,
          null,
          null,
          null,
          null,
          null,
          null,
          null,
          null,
          null
         ],
         "yaxis": "y",
         "type": "scattergl"
        },
        {
         "hovertemplate": "Experiment=23<br>Epochs=%{x}<br>Accuracy [%]=%{y}<extra></extra>",
         "legendgroup": "23",
         "line": {
          "color": "#ab63fa",
          "dash": "solid"
         },
         "marker": {
          "symbol": "circle"
         },
         "mode": "lines",
         "name": "23",
         "showlegend": true,
         "x": [
          0,
          1,
          2,
          3,
          4,
          5,
          6,
          7,
          8,
          9,
          10,
          11,
          12,
          13,
          14,
          15,
          16,
          17,
          18,
          19,
          20,
          21,
          22,
          23,
          24,
          25,
          26,
          27,
          28,
          29,
          30,
          31,
          32,
          33,
          34,
          35,
          36,
          37,
          38,
          39,
          40
         ],
         "xaxis": "x",
         "y": [
          0.10450000315904617,
          0.9078999757766724,
          0.9297999739646912,
          0.9355000257492065,
          0.9397000074386597,
          0.9422000050544739,
          0.9426000118255615,
          0.944599986076355,
          0.9455000162124634,
          0.9459999799728394,
          0.9466999769210815,
          0.9462000131607056,
          0.9467999935150146,
          0.9470000267028809,
          0.947700023651123,
          0.9484000205993652,
          0.948199987411499,
          0.9473000168800354,
          0.9474999904632568,
          0.9472000002861023,
          0.9476000070571899,
          0.9478999972343445,
          0.9483000040054321,
          0.948199987411499,
          0.9480000138282776,
          0.9480000138282776,
          0.9480000138282776,
          0.9487000107765198,
          0.9488999843597412,
          0.9480999708175659,
          0.948199987411499,
          null,
          null,
          null,
          null,
          null,
          null,
          null,
          null,
          null,
          null
         ],
         "yaxis": "y",
         "type": "scattergl"
        },
        {
         "hovertemplate": "Experiment=24<br>Epochs=%{x}<br>Accuracy [%]=%{y}<extra></extra>",
         "legendgroup": "24",
         "line": {
          "color": "#FFA15A",
          "dash": "solid"
         },
         "marker": {
          "symbol": "circle"
         },
         "mode": "lines",
         "name": "24",
         "showlegend": true,
         "x": [
          0,
          1,
          2,
          3,
          4,
          5,
          6,
          7,
          8,
          9,
          10,
          11,
          12,
          13,
          14,
          15,
          16,
          17,
          18,
          19,
          20,
          21,
          22,
          23,
          24,
          25,
          26,
          27,
          28,
          29,
          30,
          31,
          32,
          33,
          34,
          35,
          36,
          37,
          38,
          39,
          40
         ],
         "xaxis": "x",
         "y": [
          0.12929999828338623,
          0.14249999821186066,
          0.15889999270439148,
          0.54339998960495,
          0.9379000067710876,
          0.9444000124931335,
          0.9460999965667725,
          0.948199987411499,
          0.9498000144958496,
          0.9503999948501587,
          0.9502999782562256,
          0.9513000249862671,
          0.9513999819755554,
          0.9513999819755554,
          0.9509999752044678,
          0.9521999955177307,
          0.9523000121116638,
          0.9524999856948853,
          0.9531000256538391,
          0.9531000256538391,
          0.953000009059906,
          null,
          null,
          null,
          null,
          null,
          null,
          null,
          null,
          null,
          null,
          null,
          null,
          null,
          null,
          null,
          null,
          null,
          null,
          null,
          null
         ],
         "yaxis": "y",
         "type": "scattergl"
        },
        {
         "hovertemplate": "Experiment=25<br>Epochs=%{x}<br>Accuracy [%]=%{y}<extra></extra>",
         "legendgroup": "25",
         "line": {
          "color": "#19d3f3",
          "dash": "solid"
         },
         "marker": {
          "symbol": "circle"
         },
         "mode": "lines",
         "name": "25",
         "showlegend": true,
         "x": [
          0,
          1,
          2,
          3,
          4,
          5,
          6,
          7,
          8,
          9,
          10,
          11,
          12,
          13,
          14,
          15,
          16,
          17,
          18,
          19,
          20,
          21,
          22,
          23,
          24,
          25,
          26,
          27,
          28,
          29,
          30,
          31,
          32,
          33,
          34,
          35,
          36,
          37,
          38,
          39,
          40
         ],
         "xaxis": "x",
         "y": [
          0.08209999650716782,
          0.9101999998092651,
          0.9319999814033508,
          0.9398000240325928,
          0.9415000081062317,
          0.9415000081062317,
          0.944100022315979,
          0.9452000260353088,
          0.9466000199317932,
          0.9470999836921692,
          0.9484000205993652,
          0.9483000040054321,
          0.9473999738693237,
          0.947700023651123,
          0.947700023651123,
          0.947700023651123,
          0.9474999904632568,
          0.9476000070571899,
          0.9467999935150146,
          0.9469000101089478,
          0.9473000168800354,
          0.9480999708175659,
          0.9474999904632568,
          0.9487000107765198,
          0.9483000040054321,
          0.9487000107765198,
          0.9488999843597412,
          0.9488999843597412,
          0.949400007724762,
          0.9487000107765198,
          0.9488000273704529,
          null,
          null,
          null,
          null,
          null,
          null,
          null,
          null,
          null,
          null
         ],
         "yaxis": "y",
         "type": "scattergl"
        },
        {
         "hovertemplate": "Experiment=26<br>Epochs=%{x}<br>Accuracy [%]=%{y}<extra></extra>",
         "legendgroup": "26",
         "line": {
          "color": "#FF6692",
          "dash": "solid"
         },
         "marker": {
          "symbol": "circle"
         },
         "mode": "lines",
         "name": "26",
         "showlegend": true,
         "x": [
          0,
          1,
          2,
          3,
          4,
          5,
          6,
          7,
          8,
          9,
          10,
          11,
          12,
          13,
          14,
          15,
          16,
          17,
          18,
          19,
          20,
          21,
          22,
          23,
          24,
          25,
          26,
          27,
          28,
          29,
          30,
          31,
          32,
          33,
          34,
          35,
          36,
          37,
          38,
          39,
          40
         ],
         "xaxis": "x",
         "y": [
          0.12999999523162842,
          0.13609999418258667,
          0.9211000204086304,
          0.9330000281333923,
          0.9419999718666077,
          0.9427000284194946,
          0.944100022315979,
          0.9435999989509583,
          0.9465000033378601,
          0.9477999806404114,
          0.9462000131607056,
          0.9476000070571899,
          0.947700023651123,
          0.948199987411499,
          0.9470999836921692,
          0.9472000002861023,
          0.9470999836921692,
          0.9480000138282776,
          0.9473999738693237,
          0.9476000070571899,
          0.9488999843597412,
          null,
          null,
          null,
          null,
          null,
          null,
          null,
          null,
          null,
          null,
          null,
          null,
          null,
          null,
          null,
          null,
          null,
          null,
          null,
          null
         ],
         "yaxis": "y",
         "type": "scattergl"
        },
        {
         "hovertemplate": "Experiment=27<br>Epochs=%{x}<br>Accuracy [%]=%{y}<extra></extra>",
         "legendgroup": "27",
         "line": {
          "color": "#B6E880",
          "dash": "solid"
         },
         "marker": {
          "symbol": "circle"
         },
         "mode": "lines",
         "name": "27",
         "showlegend": true,
         "x": [
          0,
          1,
          2,
          3,
          4,
          5,
          6,
          7,
          8,
          9,
          10,
          11,
          12,
          13,
          14,
          15,
          16,
          17,
          18,
          19,
          20,
          21,
          22,
          23,
          24,
          25,
          26,
          27,
          28,
          29,
          30,
          31,
          32,
          33,
          34,
          35,
          36,
          37,
          38,
          39,
          40
         ],
         "xaxis": "x",
         "y": [
          0.1023000031709671,
          0.6819999814033508,
          0.8098999857902527,
          0.8950999975204468,
          0.9271000027656555,
          0.9340000152587891,
          0.9337999820709229,
          0.9362000226974487,
          0.9351000189781189,
          0.9380999803543091,
          0.9383999705314636,
          0.9383999705314636,
          0.9387999773025513,
          0.9387999773025513,
          0.9386000037193298,
          0.9401000142097473,
          0.9391000270843506,
          0.9390000104904175,
          0.9416000247001648,
          0.9420999884605408,
          0.940500020980835,
          null,
          null,
          null,
          null,
          null,
          null,
          null,
          null,
          null,
          null,
          null,
          null,
          null,
          null,
          null,
          null,
          null,
          null,
          null,
          null
         ],
         "yaxis": "y",
         "type": "scattergl"
        },
        {
         "hovertemplate": "Experiment=28<br>Epochs=%{x}<br>Accuracy [%]=%{y}<extra></extra>",
         "legendgroup": "28",
         "line": {
          "color": "#FF97FF",
          "dash": "solid"
         },
         "marker": {
          "symbol": "circle"
         },
         "mode": "lines",
         "name": "28",
         "showlegend": true,
         "x": [
          0,
          1,
          2,
          3,
          4,
          5,
          6,
          7,
          8,
          9,
          10,
          11,
          12,
          13,
          14,
          15,
          16,
          17,
          18,
          19,
          20,
          21,
          22,
          23,
          24,
          25,
          26,
          27,
          28,
          29,
          30,
          31,
          32,
          33,
          34,
          35,
          36,
          37,
          38,
          39,
          40
         ],
         "xaxis": "x",
         "y": [
          0.09939999878406525,
          0.8299000263214111,
          0.8514999747276306,
          0.8555999994277954,
          0.8586999773979187,
          0.8600999712944031,
          0.8623999953269958,
          0.8657000064849854,
          0.8651999831199646,
          0.8689000010490417,
          0.8698999881744385,
          0.868399977684021,
          0.8671000003814697,
          0.8676000237464905,
          0.8684999942779541,
          0.8815000057220459,
          0.9397000074386597,
          0.9429000020027161,
          0.9424999952316284,
          0.9445000290870667,
          0.9458000063896179,
          null,
          null,
          null,
          null,
          null,
          null,
          null,
          null,
          null,
          null,
          null,
          null,
          null,
          null,
          null,
          null,
          null,
          null,
          null,
          null
         ],
         "yaxis": "y",
         "type": "scattergl"
        },
        {
         "hovertemplate": "Experiment=29<br>Epochs=%{x}<br>Accuracy [%]=%{y}<extra></extra>",
         "legendgroup": "29",
         "line": {
          "color": "#FECB52",
          "dash": "solid"
         },
         "marker": {
          "symbol": "circle"
         },
         "mode": "lines",
         "name": "29",
         "showlegend": true,
         "x": [
          0,
          1,
          2,
          3,
          4,
          5,
          6,
          7,
          8,
          9,
          10,
          11,
          12,
          13,
          14,
          15,
          16,
          17,
          18,
          19,
          20,
          21,
          22,
          23,
          24,
          25,
          26,
          27,
          28,
          29,
          30,
          31,
          32,
          33,
          34,
          35,
          36,
          37,
          38,
          39,
          40
         ],
         "xaxis": "x",
         "y": [
          0.10010000318288803,
          0.9049999713897705,
          0.9210000038146973,
          0.9305999875068665,
          0.9344000220298767,
          0.9334999918937683,
          0.9368000030517578,
          0.9406999945640564,
          0.9417999982833862,
          0.9415000081062317,
          0.9423999786376953,
          0.9429000020027161,
          0.9420999884605408,
          0.9427000284194946,
          0.9431999921798706,
          0.9430999755859375,
          0.9440000057220459,
          0.9430000185966492,
          0.942799985408783,
          0.9440000057220459,
          0.9430000185966492,
          null,
          null,
          null,
          null,
          null,
          null,
          null,
          null,
          null,
          null,
          null,
          null,
          null,
          null,
          null,
          null,
          null,
          null,
          null,
          null
         ],
         "yaxis": "y",
         "type": "scattergl"
        },
        {
         "hovertemplate": "Experiment=30<br>Epochs=%{x}<br>Accuracy [%]=%{y}<extra></extra>",
         "legendgroup": "30",
         "line": {
          "color": "#636efa",
          "dash": "solid"
         },
         "marker": {
          "symbol": "circle"
         },
         "mode": "lines",
         "name": "30",
         "showlegend": true,
         "x": [
          0,
          1,
          2,
          3,
          4,
          5,
          6,
          7,
          8,
          9,
          10,
          11,
          12,
          13,
          14,
          15,
          16,
          17,
          18,
          19,
          20,
          21,
          22,
          23,
          24,
          25,
          26,
          27,
          28,
          29,
          30,
          31,
          32,
          33,
          34,
          35,
          36,
          37,
          38,
          39,
          40
         ],
         "xaxis": "x",
         "y": [
          0.09839999675750732,
          0.10419999808073044,
          0.17560000717639923,
          0.9344000220298767,
          0.9387999773025513,
          0.9424999952316284,
          0.9434999823570251,
          0.9466999769210815,
          0.948199987411499,
          0.9510999917984009,
          0.9513000249862671,
          0.9523000121116638,
          0.9505000114440918,
          0.9523000121116638,
          0.9528999924659729,
          0.9509999752044678,
          0.9519000053405762,
          0.9531000256538391,
          0.9539999961853027,
          0.9552000164985657,
          0.9549999833106995,
          null,
          null,
          null,
          null,
          null,
          null,
          null,
          null,
          null,
          null,
          null,
          null,
          null,
          null,
          null,
          null,
          null,
          null,
          null,
          null
         ],
         "yaxis": "y",
         "type": "scattergl"
        },
        {
         "hovertemplate": "Experiment=31<br>Epochs=%{x}<br>Accuracy [%]=%{y}<extra></extra>",
         "legendgroup": "31",
         "line": {
          "color": "#EF553B",
          "dash": "solid"
         },
         "marker": {
          "symbol": "circle"
         },
         "mode": "lines",
         "name": "31",
         "showlegend": true,
         "x": [
          0,
          1,
          2,
          3,
          4,
          5,
          6,
          7,
          8,
          9,
          10,
          11,
          12,
          13,
          14,
          15,
          16,
          17,
          18,
          19,
          20,
          21,
          22,
          23,
          24,
          25,
          26,
          27,
          28,
          29,
          30,
          31,
          32,
          33,
          34,
          35,
          36,
          37,
          38,
          39,
          40
         ],
         "xaxis": "x",
         "y": [
          0.10199999809265137,
          0.8181999921798706,
          0.9217000007629395,
          0.932200014591217,
          0.9352999925613403,
          0.939300000667572,
          0.9399999976158142,
          0.9412999749183655,
          0.9412000179290771,
          0.9430000185966492,
          0.9419999718666077,
          0.9404000043869019,
          0.9415000081062317,
          0.9434999823570251,
          0.9434000253677368,
          0.9440000057220459,
          0.9424999952316284,
          0.9429000020027161,
          0.9437000155448914,
          0.9427000284194946,
          0.9435999989509583,
          null,
          null,
          null,
          null,
          null,
          null,
          null,
          null,
          null,
          null,
          null,
          null,
          null,
          null,
          null,
          null,
          null,
          null,
          null,
          null
         ],
         "yaxis": "y",
         "type": "scattergl"
        },
        {
         "hovertemplate": "Experiment=32<br>Epochs=%{x}<br>Accuracy [%]=%{y}<extra></extra>",
         "legendgroup": "32",
         "line": {
          "color": "#00cc96",
          "dash": "solid"
         },
         "marker": {
          "symbol": "circle"
         },
         "mode": "lines",
         "name": "32",
         "showlegend": true,
         "x": [
          0,
          1,
          2,
          3,
          4,
          5,
          6,
          7,
          8,
          9,
          10,
          11,
          12,
          13,
          14,
          15,
          16,
          17,
          18,
          19,
          20,
          21,
          22,
          23,
          24,
          25,
          26,
          27,
          28,
          29,
          30,
          31,
          32,
          33,
          34,
          35,
          36,
          37,
          38,
          39,
          40
         ],
         "xaxis": "x",
         "y": [
          0.09300000220537186,
          0.9088000059127808,
          0.929099977016449,
          0.9358000159263611,
          0.9409999847412109,
          0.9435999989509583,
          0.9484000205993652,
          0.9469000101089478,
          0.9466000199317932,
          0.9456999897956848,
          0.9498000144958496,
          0.9527000188827515,
          0.951200008392334,
          0.9524999856948853,
          0.95169997215271,
          0.9524000287055969,
          0.9520999789237976,
          0.9498000144958496,
          0.9524000287055969,
          0.9513999819755554,
          0.9502000212669373,
          null,
          null,
          null,
          null,
          null,
          null,
          null,
          null,
          null,
          null,
          null,
          null,
          null,
          null,
          null,
          null,
          null,
          null,
          null,
          null
         ],
         "yaxis": "y",
         "type": "scattergl"
        },
        {
         "hovertemplate": "Experiment=33<br>Epochs=%{x}<br>Accuracy [%]=%{y}<extra></extra>",
         "legendgroup": "33",
         "line": {
          "color": "#ab63fa",
          "dash": "solid"
         },
         "marker": {
          "symbol": "circle"
         },
         "mode": "lines",
         "name": "33",
         "showlegend": true,
         "x": [
          0,
          1,
          2,
          3,
          4,
          5,
          6,
          7,
          8,
          9,
          10,
          11,
          12,
          13,
          14,
          15,
          16,
          17,
          18,
          19,
          20,
          21,
          22,
          23,
          24,
          25,
          26,
          27,
          28,
          29,
          30,
          31,
          32,
          33,
          34,
          35,
          36,
          37,
          38,
          39,
          40
         ],
         "xaxis": "x",
         "y": [
          0.10119999945163727,
          0.8866000175476074,
          0.9203000068664551,
          0.9275000095367432,
          0.9347000122070312,
          0.9359999895095825,
          0.9372000098228455,
          0.9376999735832214,
          0.9401999711990356,
          0.9419000148773193,
          0.9423999786376953,
          0.9419000148773193,
          0.9430000185966492,
          0.9423999786376953,
          0.9426000118255615,
          0.9419000148773193,
          0.9445000290870667,
          0.9437000155448914,
          0.9452000260353088,
          0.9449999928474426,
          0.9453999996185303,
          null,
          null,
          null,
          null,
          null,
          null,
          null,
          null,
          null,
          null,
          null,
          null,
          null,
          null,
          null,
          null,
          null,
          null,
          null,
          null
         ],
         "yaxis": "y",
         "type": "scattergl"
        },
        {
         "hovertemplate": "Experiment=34<br>Epochs=%{x}<br>Accuracy [%]=%{y}<extra></extra>",
         "legendgroup": "34",
         "line": {
          "color": "#FFA15A",
          "dash": "solid"
         },
         "marker": {
          "symbol": "circle"
         },
         "mode": "lines",
         "name": "34",
         "showlegend": true,
         "x": [
          0,
          1,
          2,
          3,
          4,
          5,
          6,
          7,
          8,
          9,
          10,
          11,
          12,
          13,
          14,
          15,
          16,
          17,
          18,
          19,
          20,
          21,
          22,
          23,
          24,
          25,
          26,
          27,
          28,
          29,
          30,
          31,
          32,
          33,
          34,
          35,
          36,
          37,
          38,
          39,
          40
         ],
         "xaxis": "x",
         "y": [
          0.06830000132322311,
          0.9110000133514404,
          0.9271000027656555,
          0.9336000084877014,
          0.9416999816894531,
          0.9460999965667725,
          0.9438999891281128,
          0.9453999996185303,
          0.9474999904632568,
          0.9495000243186951,
          0.9473000168800354,
          0.9483000040054321,
          0.949999988079071,
          0.9509999752044678,
          0.949400007724762,
          0.9477999806404114,
          0.9472000002861023,
          0.9495000243186951,
          0.9491999745368958,
          0.949999988079071,
          0.9502000212669373,
          null,
          null,
          null,
          null,
          null,
          null,
          null,
          null,
          null,
          null,
          null,
          null,
          null,
          null,
          null,
          null,
          null,
          null,
          null,
          null
         ],
         "yaxis": "y",
         "type": "scattergl"
        },
        {
         "hovertemplate": "Experiment=35<br>Epochs=%{x}<br>Accuracy [%]=%{y}<extra></extra>",
         "legendgroup": "35",
         "line": {
          "color": "#19d3f3",
          "dash": "solid"
         },
         "marker": {
          "symbol": "circle"
         },
         "mode": "lines",
         "name": "35",
         "showlegend": true,
         "x": [
          0,
          1,
          2,
          3,
          4,
          5,
          6,
          7,
          8,
          9,
          10,
          11,
          12,
          13,
          14,
          15,
          16,
          17,
          18,
          19,
          20,
          21,
          22,
          23,
          24,
          25,
          26,
          27,
          28,
          29,
          30,
          31,
          32,
          33,
          34,
          35,
          36,
          37,
          38,
          39,
          40
         ],
         "xaxis": "x",
         "y": [
          0.09269999712705612,
          0.8971999883651733,
          0.9229000210762024,
          0.9323999881744385,
          0.9341999888420105,
          0.9380999803543091,
          0.9406999945640564,
          0.9422000050544739,
          0.9417999982833862,
          0.9402999877929688,
          0.9449999928474426,
          0.9433000087738037,
          0.944599986076355,
          0.9466999769210815,
          0.9448999762535095,
          0.9467999935150146,
          0.946399986743927,
          0.9449999928474426,
          0.944599986076355,
          0.9442999958992004,
          0.9459999799728394,
          null,
          null,
          null,
          null,
          null,
          null,
          null,
          null,
          null,
          null,
          null,
          null,
          null,
          null,
          null,
          null,
          null,
          null,
          null,
          null
         ],
         "yaxis": "y",
         "type": "scattergl"
        },
        {
         "hovertemplate": "Experiment=36<br>Epochs=%{x}<br>Accuracy [%]=%{y}<extra></extra>",
         "legendgroup": "36",
         "line": {
          "color": "#FF6692",
          "dash": "solid"
         },
         "marker": {
          "symbol": "circle"
         },
         "mode": "lines",
         "name": "36",
         "showlegend": true,
         "x": [
          0,
          1,
          2,
          3,
          4,
          5,
          6,
          7,
          8,
          9,
          10,
          11,
          12,
          13,
          14,
          15,
          16,
          17,
          18,
          19,
          20,
          21,
          22,
          23,
          24,
          25,
          26,
          27,
          28,
          29,
          30,
          31,
          32,
          33,
          34,
          35,
          36,
          37,
          38,
          39,
          40
         ],
         "xaxis": "x",
         "y": [
          0.09120000153779984,
          0.902899980545044,
          0.9261999726295471,
          0.9358000159263611,
          0.9401999711990356,
          0.9426000118255615,
          0.9434999823570251,
          0.9441999793052673,
          0.9451000094413757,
          0.9474999904632568,
          0.9472000002861023,
          0.9469000101089478,
          0.9469000101089478,
          0.9466999769210815,
          0.9466999769210815,
          0.9466999769210815,
          0.9467999935150146,
          0.9459999799728394,
          0.9463000297546387,
          0.9455000162124634,
          0.9458000063896179,
          null,
          null,
          null,
          null,
          null,
          null,
          null,
          null,
          null,
          null,
          null,
          null,
          null,
          null,
          null,
          null,
          null,
          null,
          null,
          null
         ],
         "yaxis": "y",
         "type": "scattergl"
        },
        {
         "hovertemplate": "Experiment=37<br>Epochs=%{x}<br>Accuracy [%]=%{y}<extra></extra>",
         "legendgroup": "37",
         "line": {
          "color": "#B6E880",
          "dash": "solid"
         },
         "marker": {
          "symbol": "circle"
         },
         "mode": "lines",
         "name": "37",
         "showlegend": true,
         "x": [
          0,
          1,
          2,
          3,
          4,
          5,
          6,
          7,
          8,
          9,
          10,
          11,
          12,
          13,
          14,
          15,
          16,
          17,
          18,
          19,
          20,
          21,
          22,
          23,
          24,
          25,
          26,
          27,
          28,
          29,
          30,
          31,
          32,
          33,
          34,
          35,
          36,
          37,
          38,
          39,
          40
         ],
         "xaxis": "x",
         "y": [
          0.08429999649524689,
          0.7397000193595886,
          0.7577000260353088,
          0.7601000070571899,
          0.7678999900817871,
          0.8440999984741211,
          0.9211000204086304,
          0.9315000176429749,
          0.9354000091552734,
          0.9381999969482422,
          0.9366999864578247,
          0.9369000196456909,
          0.9401999711990356,
          0.9398999810218811,
          0.9406999945640564,
          0.941100001335144,
          0.9417999982833862,
          0.940500020980835,
          0.9412999749183655,
          0.9405999779701233,
          0.9416999816894531,
          null,
          null,
          null,
          null,
          null,
          null,
          null,
          null,
          null,
          null,
          null,
          null,
          null,
          null,
          null,
          null,
          null,
          null,
          null,
          null
         ],
         "yaxis": "y",
         "type": "scattergl"
        },
        {
         "hovertemplate": "Experiment=38<br>Epochs=%{x}<br>Accuracy [%]=%{y}<extra></extra>",
         "legendgroup": "38",
         "line": {
          "color": "#FF97FF",
          "dash": "solid"
         },
         "marker": {
          "symbol": "circle"
         },
         "mode": "lines",
         "name": "38",
         "showlegend": true,
         "x": [
          0,
          1,
          2,
          3,
          4,
          5,
          6,
          7,
          8,
          9,
          10,
          11,
          12,
          13,
          14,
          15,
          16,
          17,
          18,
          19,
          20,
          21,
          22,
          23,
          24,
          25,
          26,
          27,
          28,
          29,
          30,
          31,
          32,
          33,
          34,
          35,
          36,
          37,
          38,
          39,
          40
         ],
         "xaxis": "x",
         "y": [
          0.10320000350475311,
          0.10350000113248825,
          0.10360000282526016,
          0.10329999774694443,
          0.10339999943971634,
          0.10339999943971634,
          0.10360000282526016,
          0.10360000282526016,
          0.10419999808073044,
          0.10480000078678131,
          0.10480000078678131,
          0.10480000078678131,
          0.10499999672174454,
          0.10530000180006027,
          0.10530000180006027,
          0.10540000349283218,
          0.1054999977350235,
          0.1054999977350235,
          0.10559999942779541,
          0.10599999874830246,
          0.10610000044107437,
          null,
          null,
          null,
          null,
          null,
          null,
          null,
          null,
          null,
          null,
          null,
          null,
          null,
          null,
          null,
          null,
          null,
          null,
          null,
          null
         ],
         "yaxis": "y",
         "type": "scattergl"
        },
        {
         "hovertemplate": "Experiment=39<br>Epochs=%{x}<br>Accuracy [%]=%{y}<extra></extra>",
         "legendgroup": "39",
         "line": {
          "color": "#FECB52",
          "dash": "solid"
         },
         "marker": {
          "symbol": "circle"
         },
         "mode": "lines",
         "name": "39",
         "showlegend": true,
         "x": [
          0,
          1,
          2,
          3,
          4,
          5,
          6,
          7,
          8,
          9,
          10,
          11,
          12,
          13,
          14,
          15,
          16,
          17,
          18,
          19,
          20,
          21,
          22,
          23,
          24,
          25,
          26,
          27,
          28,
          29,
          30,
          31,
          32,
          33,
          34,
          35,
          36,
          37,
          38,
          39,
          40
         ],
         "xaxis": "x",
         "y": [
          0.052799999713897705,
          0.8884999752044678,
          0.9179999828338623,
          0.930400013923645,
          0.9355999827384949,
          0.9355999827384949,
          0.9399999976158142,
          0.9406999945640564,
          0.9416000247001648,
          0.9416000247001648,
          0.9431999921798706,
          0.9445000290870667,
          0.9445000290870667,
          0.944100022315979,
          0.9437999725341797,
          0.9437000155448914,
          0.9447000026702881,
          0.9448000192642212,
          0.9458000063896179,
          0.9453999996185303,
          0.9460999965667725,
          null,
          null,
          null,
          null,
          null,
          null,
          null,
          null,
          null,
          null,
          null,
          null,
          null,
          null,
          null,
          null,
          null,
          null,
          null,
          null
         ],
         "yaxis": "y",
         "type": "scattergl"
        },
        {
         "hovertemplate": "Experiment=40<br>Epochs=%{x}<br>Accuracy [%]=%{y}<extra></extra>",
         "legendgroup": "40",
         "line": {
          "color": "#636efa",
          "dash": "solid"
         },
         "marker": {
          "symbol": "circle"
         },
         "mode": "lines",
         "name": "40",
         "showlegend": true,
         "x": [
          0,
          1,
          2,
          3,
          4,
          5,
          6,
          7,
          8,
          9,
          10,
          11,
          12,
          13,
          14,
          15,
          16,
          17,
          18,
          19,
          20,
          21,
          22,
          23,
          24,
          25,
          26,
          27,
          28,
          29,
          30,
          31,
          32,
          33,
          34,
          35,
          36,
          37,
          38,
          39,
          40
         ],
         "xaxis": "x",
         "y": [
          0.1096000000834465,
          0.8163999915122986,
          0.8992000222206116,
          0.9341999888420105,
          0.9402999877929688,
          0.9405999779701233,
          0.9430999755859375,
          0.9444000124931335,
          0.945900022983551,
          0.945900022983551,
          0.9460999965667725,
          0.9462000131607056,
          0.9459999799728394,
          0.9466999769210815,
          0.9472000002861023,
          0.9470999836921692,
          0.9478999972343445,
          0.948199987411499,
          0.9484999775886536,
          0.9480999708175659,
          0.9487000107765198,
          null,
          null,
          null,
          null,
          null,
          null,
          null,
          null,
          null,
          null,
          null,
          null,
          null,
          null,
          null,
          null,
          null,
          null,
          null,
          null
         ],
         "yaxis": "y",
         "type": "scattergl"
        },
        {
         "hovertemplate": "Experiment=41<br>Epochs=%{x}<br>Accuracy [%]=%{y}<extra></extra>",
         "legendgroup": "41",
         "line": {
          "color": "#EF553B",
          "dash": "solid"
         },
         "marker": {
          "symbol": "circle"
         },
         "mode": "lines",
         "name": "41",
         "showlegend": true,
         "x": [
          0,
          1,
          2,
          3,
          4,
          5,
          6,
          7,
          8,
          9,
          10,
          11,
          12,
          13,
          14,
          15,
          16,
          17,
          18,
          19,
          20,
          21,
          22,
          23,
          24,
          25,
          26,
          27,
          28,
          29,
          30,
          31,
          32,
          33,
          34,
          35,
          36,
          37,
          38,
          39,
          40
         ],
         "xaxis": "x",
         "y": [
          0.10360000282526016,
          0.15449999272823334,
          0.6226000189781189,
          0.6984999775886536,
          0.732200026512146,
          0.7369999885559082,
          0.7397000193595886,
          0.7404000163078308,
          0.7419999837875366,
          0.7433000206947327,
          0.7436000108718872,
          0.7415000200271606,
          0.7447999715805054,
          0.7470999956130981,
          0.7480000257492065,
          0.8203999996185303,
          0.8278999924659729,
          0.8310999870300293,
          0.8342000246047974,
          0.8327000141143799,
          0.8348000049591064,
          null,
          null,
          null,
          null,
          null,
          null,
          null,
          null,
          null,
          null,
          null,
          null,
          null,
          null,
          null,
          null,
          null,
          null,
          null,
          null
         ],
         "yaxis": "y",
         "type": "scattergl"
        },
        {
         "hovertemplate": "Experiment=42<br>Epochs=%{x}<br>Accuracy [%]=%{y}<extra></extra>",
         "legendgroup": "42",
         "line": {
          "color": "#00cc96",
          "dash": "solid"
         },
         "marker": {
          "symbol": "circle"
         },
         "mode": "lines",
         "name": "42",
         "showlegend": true,
         "x": [
          0,
          1,
          2,
          3,
          4,
          5,
          6,
          7,
          8,
          9,
          10,
          11,
          12,
          13,
          14,
          15,
          16,
          17,
          18,
          19,
          20,
          21,
          22,
          23,
          24,
          25,
          26,
          27,
          28,
          29,
          30,
          31,
          32,
          33,
          34,
          35,
          36,
          37,
          38,
          39,
          40
         ],
         "xaxis": "x",
         "y": [
          0.0908999964594841,
          0.8115000128746033,
          0.8378000259399414,
          0.8464000225067139,
          0.9424999952316284,
          0.9466000199317932,
          0.9473000168800354,
          0.9476000070571899,
          0.9491000175476074,
          0.9488999843597412,
          0.9509000182151794,
          0.9510999917984009,
          0.9524000287055969,
          0.9523000121116638,
          0.9514999985694885,
          0.9517999887466431,
          0.9521999955177307,
          0.9527000188827515,
          0.9519000053405762,
          0.953000009059906,
          0.9527999758720398,
          null,
          null,
          null,
          null,
          null,
          null,
          null,
          null,
          null,
          null,
          null,
          null,
          null,
          null,
          null,
          null,
          null,
          null,
          null,
          null
         ],
         "yaxis": "y",
         "type": "scattergl"
        },
        {
         "hovertemplate": "Experiment=43<br>Epochs=%{x}<br>Accuracy [%]=%{y}<extra></extra>",
         "legendgroup": "43",
         "line": {
          "color": "#ab63fa",
          "dash": "solid"
         },
         "marker": {
          "symbol": "circle"
         },
         "mode": "lines",
         "name": "43",
         "showlegend": true,
         "x": [
          0,
          1,
          2,
          3,
          4,
          5,
          6,
          7,
          8,
          9,
          10,
          11,
          12,
          13,
          14,
          15,
          16,
          17,
          18,
          19,
          20,
          21,
          22,
          23,
          24,
          25,
          26,
          27,
          28,
          29,
          30,
          31,
          32,
          33,
          34,
          35,
          36,
          37,
          38,
          39,
          40
         ],
         "xaxis": "x",
         "y": [
          0.06750000268220901,
          0.8614000082015991,
          0.9139999747276306,
          0.9273999929428101,
          0.9330999851226807,
          0.9351000189781189,
          0.939300000667572,
          0.9397000074386597,
          0.9426000118255615,
          0.9441999793052673,
          0.9434999823570251,
          0.9433000087738037,
          0.9437000155448914,
          0.9460999965667725,
          0.9469000101089478,
          0.9466999769210815,
          0.9477999806404114,
          0.9459999799728394,
          0.946399986743927,
          0.9466999769210815,
          0.9455000162124634,
          null,
          null,
          null,
          null,
          null,
          null,
          null,
          null,
          null,
          null,
          null,
          null,
          null,
          null,
          null,
          null,
          null,
          null,
          null,
          null
         ],
         "yaxis": "y",
         "type": "scattergl"
        },
        {
         "hovertemplate": "Experiment=44<br>Epochs=%{x}<br>Accuracy [%]=%{y}<extra></extra>",
         "legendgroup": "44",
         "line": {
          "color": "#FFA15A",
          "dash": "solid"
         },
         "marker": {
          "symbol": "circle"
         },
         "mode": "lines",
         "name": "44",
         "showlegend": true,
         "x": [
          0,
          1,
          2,
          3,
          4,
          5,
          6,
          7,
          8,
          9,
          10,
          11,
          12,
          13,
          14,
          15,
          16,
          17,
          18,
          19,
          20,
          21,
          22,
          23,
          24,
          25,
          26,
          27,
          28,
          29,
          30,
          31,
          32,
          33,
          34,
          35,
          36,
          37,
          38,
          39,
          40
         ],
         "xaxis": "x",
         "y": [
          0.11829999834299088,
          0.6815000176429749,
          0.9316999912261963,
          0.9388999938964844,
          0.9445000290870667,
          0.9480999708175659,
          0.9477999806404114,
          0.949400007724762,
          0.9514999985694885,
          0.9498999714851379,
          0.9506999850273132,
          0.9517999887466431,
          0.953000009059906,
          0.9528999924659729,
          0.9520000219345093,
          0.9524000287055969,
          0.9531000256538391,
          0.9523000121116638,
          0.9524999856948853,
          0.9523000121116638,
          0.9520999789237976,
          null,
          null,
          null,
          null,
          null,
          null,
          null,
          null,
          null,
          null,
          null,
          null,
          null,
          null,
          null,
          null,
          null,
          null,
          null,
          null
         ],
         "yaxis": "y",
         "type": "scattergl"
        },
        {
         "hovertemplate": "Experiment=45<br>Epochs=%{x}<br>Accuracy [%]=%{y}<extra></extra>",
         "legendgroup": "45",
         "line": {
          "color": "#19d3f3",
          "dash": "solid"
         },
         "marker": {
          "symbol": "circle"
         },
         "mode": "lines",
         "name": "45",
         "showlegend": true,
         "x": [
          0,
          1,
          2,
          3,
          4,
          5,
          6,
          7,
          8,
          9,
          10,
          11,
          12,
          13,
          14,
          15,
          16,
          17,
          18,
          19,
          20,
          21,
          22,
          23,
          24,
          25,
          26,
          27,
          28,
          29,
          30,
          31,
          32,
          33,
          34,
          35,
          36,
          37,
          38,
          39,
          40
         ],
         "xaxis": "x",
         "y": [
          0.10890000313520432,
          0.7882000207901001,
          0.9140999913215637,
          0.9246000051498413,
          0.9316999912261963,
          0.9406999945640564,
          0.9386000037193298,
          0.942300021648407,
          0.9412999749183655,
          0.9401999711990356,
          0.9394000172615051,
          0.9419999718666077,
          0.9429000020027161,
          0.9444000124931335,
          0.9442999958992004,
          0.9445000290870667,
          0.9470999836921692,
          0.9455000162124634,
          0.9465000033378601,
          0.945900022983551,
          0.9455000162124634,
          null,
          null,
          null,
          null,
          null,
          null,
          null,
          null,
          null,
          null,
          null,
          null,
          null,
          null,
          null,
          null,
          null,
          null,
          null,
          null
         ],
         "yaxis": "y",
         "type": "scattergl"
        },
        {
         "hovertemplate": "Experiment=46<br>Epochs=%{x}<br>Accuracy [%]=%{y}<extra></extra>",
         "legendgroup": "46",
         "line": {
          "color": "#FF6692",
          "dash": "solid"
         },
         "marker": {
          "symbol": "circle"
         },
         "mode": "lines",
         "name": "46",
         "showlegend": true,
         "x": [
          0,
          1,
          2,
          3,
          4,
          5,
          6,
          7,
          8,
          9,
          10,
          11,
          12,
          13,
          14,
          15,
          16,
          17,
          18,
          19,
          20,
          21,
          22,
          23,
          24,
          25,
          26,
          27,
          28,
          29,
          30,
          31,
          32,
          33,
          34,
          35,
          36,
          37,
          38,
          39,
          40
         ],
         "xaxis": "x",
         "y": [
          0.09629999846220016,
          0.909500002861023,
          0.9265999794006348,
          0.9354000091552734,
          0.9416999816894531,
          0.9430000185966492,
          0.9453999996185303,
          0.9473000168800354,
          0.9478999972343445,
          0.949999988079071,
          0.9514999985694885,
          0.9503999948501587,
          0.951200008392334,
          0.9495999813079834,
          0.9492999911308289,
          0.9509999752044678,
          0.9516000151634216,
          0.9513000249862671,
          0.9519000053405762,
          0.9516000151634216,
          0.9524999856948853,
          null,
          null,
          null,
          null,
          null,
          null,
          null,
          null,
          null,
          null,
          null,
          null,
          null,
          null,
          null,
          null,
          null,
          null,
          null,
          null
         ],
         "yaxis": "y",
         "type": "scattergl"
        },
        {
         "hovertemplate": "Experiment=47<br>Epochs=%{x}<br>Accuracy [%]=%{y}<extra></extra>",
         "legendgroup": "47",
         "line": {
          "color": "#B6E880",
          "dash": "solid"
         },
         "marker": {
          "symbol": "circle"
         },
         "mode": "lines",
         "name": "47",
         "showlegend": true,
         "x": [
          0,
          1,
          2,
          3,
          4,
          5,
          6,
          7,
          8,
          9,
          10,
          11,
          12,
          13,
          14,
          15,
          16,
          17,
          18,
          19,
          20,
          21,
          22,
          23,
          24,
          25,
          26,
          27,
          28,
          29,
          30,
          31,
          32,
          33,
          34,
          35,
          36,
          37,
          38,
          39,
          40
         ],
         "xaxis": "x",
         "y": [
          0.09629999846220016,
          0.8960000276565552,
          0.9239000082015991,
          0.9337999820709229,
          0.9379000067710876,
          0.9430000185966492,
          0.9437000155448914,
          0.944599986076355,
          0.9456999897956848,
          0.9488000273704529,
          0.9488000273704529,
          0.9501000046730042,
          0.9495999813079834,
          0.9470999836921692,
          0.9492999911308289,
          0.9508000016212463,
          0.9509999752044678,
          0.949400007724762,
          0.9509999752044678,
          0.9508000016212463,
          0.9506999850273132,
          null,
          null,
          null,
          null,
          null,
          null,
          null,
          null,
          null,
          null,
          null,
          null,
          null,
          null,
          null,
          null,
          null,
          null,
          null,
          null
         ],
         "yaxis": "y",
         "type": "scattergl"
        },
        {
         "hovertemplate": "Experiment=48<br>Epochs=%{x}<br>Accuracy [%]=%{y}<extra></extra>",
         "legendgroup": "48",
         "line": {
          "color": "#FF97FF",
          "dash": "solid"
         },
         "marker": {
          "symbol": "circle"
         },
         "mode": "lines",
         "name": "48",
         "showlegend": true,
         "x": [
          0,
          1,
          2,
          3,
          4,
          5,
          6,
          7,
          8,
          9,
          10,
          11,
          12,
          13,
          14,
          15,
          16,
          17,
          18,
          19,
          20,
          21,
          22,
          23,
          24,
          25,
          26,
          27,
          28,
          29,
          30,
          31,
          32,
          33,
          34,
          35,
          36,
          37,
          38,
          39,
          40
         ],
         "xaxis": "x",
         "y": [
          0.125900000333786,
          0.8967000246047974,
          0.9204999804496765,
          0.9327999949455261,
          0.9384999871253967,
          0.9394999742507935,
          0.940500020980835,
          0.9419000148773193,
          0.9420999884605408,
          0.9420999884605408,
          0.9434000253677368,
          0.9449999928474426,
          0.9455999732017517,
          0.9435999989509583,
          0.9469000101089478,
          0.9465000033378601,
          0.9459999799728394,
          0.9465000033378601,
          0.9480000138282776,
          0.9498000144958496,
          0.9491000175476074,
          null,
          null,
          null,
          null,
          null,
          null,
          null,
          null,
          null,
          null,
          null,
          null,
          null,
          null,
          null,
          null,
          null,
          null,
          null,
          null
         ],
         "yaxis": "y",
         "type": "scattergl"
        },
        {
         "hovertemplate": "Experiment=49<br>Epochs=%{x}<br>Accuracy [%]=%{y}<extra></extra>",
         "legendgroup": "49",
         "line": {
          "color": "#FECB52",
          "dash": "solid"
         },
         "marker": {
          "symbol": "circle"
         },
         "mode": "lines",
         "name": "49",
         "showlegend": true,
         "x": [
          0,
          1,
          2,
          3,
          4,
          5,
          6,
          7,
          8,
          9,
          10,
          11,
          12,
          13,
          14,
          15,
          16,
          17,
          18,
          19,
          20,
          21,
          22,
          23,
          24,
          25,
          26,
          27,
          28,
          29,
          30,
          31,
          32,
          33,
          34,
          35,
          36,
          37,
          38,
          39,
          40
         ],
         "xaxis": "x",
         "y": [
          0.08380000293254852,
          0.8312000036239624,
          0.8543999791145325,
          0.8618999719619751,
          0.8657000064849854,
          0.8657000064849854,
          0.8687999844551086,
          0.9187999963760376,
          0.9447000026702881,
          0.9473000168800354,
          0.9491000175476074,
          0.9480999708175659,
          0.9495000243186951,
          0.9501000046730042,
          0.949400007724762,
          0.9527999758720398,
          0.9495000243186951,
          0.9523000121116638,
          0.9538000226020813,
          0.9531999826431274,
          0.954800009727478,
          null,
          null,
          null,
          null,
          null,
          null,
          null,
          null,
          null,
          null,
          null,
          null,
          null,
          null,
          null,
          null,
          null,
          null,
          null,
          null
         ],
         "yaxis": "y",
         "type": "scattergl"
        },
        {
         "hovertemplate": "Experiment=50<br>Epochs=%{x}<br>Accuracy [%]=%{y}<extra></extra>",
         "legendgroup": "50",
         "line": {
          "color": "#636efa",
          "dash": "solid"
         },
         "marker": {
          "symbol": "circle"
         },
         "mode": "lines",
         "name": "50",
         "showlegend": true,
         "x": [
          0,
          1,
          2,
          3,
          4,
          5,
          6,
          7,
          8,
          9,
          10,
          11,
          12,
          13,
          14,
          15,
          16,
          17,
          18,
          19,
          20,
          21,
          22,
          23,
          24,
          25,
          26,
          27,
          28,
          29,
          30,
          31,
          32,
          33,
          34,
          35,
          36,
          37,
          38,
          39,
          40
         ],
         "xaxis": "x",
         "y": [
          0.10379999876022339,
          0.8270000219345093,
          0.8485999703407288,
          0.9336000084877014,
          0.940500020980835,
          0.9438999891281128,
          0.9441999793052673,
          0.9455000162124634,
          0.9484000205993652,
          0.9484000205993652,
          0.9474999904632568,
          0.9498000144958496,
          0.948199987411499,
          0.9510999917984009,
          0.9491999745368958,
          0.9502999782562256,
          0.9508000016212463,
          0.9501000046730042,
          0.9502999782562256,
          0.9510999917984009,
          0.9506999850273132,
          null,
          null,
          null,
          null,
          null,
          null,
          null,
          null,
          null,
          null,
          null,
          null,
          null,
          null,
          null,
          null,
          null,
          null,
          null,
          null
         ],
         "yaxis": "y",
         "type": "scattergl"
        },
        {
         "hovertemplate": "Experiment=51<br>Epochs=%{x}<br>Accuracy [%]=%{y}<extra></extra>",
         "legendgroup": "51",
         "line": {
          "color": "#EF553B",
          "dash": "solid"
         },
         "marker": {
          "symbol": "circle"
         },
         "mode": "lines",
         "name": "51",
         "showlegend": true,
         "x": [
          0,
          1,
          2,
          3,
          4,
          5,
          6,
          7,
          8,
          9,
          10,
          11,
          12,
          13,
          14,
          15,
          16,
          17,
          18,
          19,
          20,
          21,
          22,
          23,
          24,
          25,
          26,
          27,
          28,
          29,
          30,
          31,
          32,
          33,
          34,
          35,
          36,
          37,
          38,
          39,
          40
         ],
         "xaxis": "x",
         "y": [
          0.10490000247955322,
          0.902999997138977,
          0.9247999787330627,
          0.9326000213623047,
          0.9352999925613403,
          0.9366999864578247,
          0.9417999982833862,
          0.9413999915122986,
          0.9434999823570251,
          0.9437999725341797,
          0.9424999952316284,
          0.9430999755859375,
          0.944100022315979,
          0.9458000063896179,
          0.9431999921798706,
          0.9447000026702881,
          0.9466999769210815,
          0.9466999769210815,
          0.9474999904632568,
          0.9452999830245972,
          0.9458000063896179,
          null,
          null,
          null,
          null,
          null,
          null,
          null,
          null,
          null,
          null,
          null,
          null,
          null,
          null,
          null,
          null,
          null,
          null,
          null,
          null
         ],
         "yaxis": "y",
         "type": "scattergl"
        },
        {
         "hovertemplate": "Experiment=52<br>Epochs=%{x}<br>Accuracy [%]=%{y}<extra></extra>",
         "legendgroup": "52",
         "line": {
          "color": "#00cc96",
          "dash": "solid"
         },
         "marker": {
          "symbol": "circle"
         },
         "mode": "lines",
         "name": "52",
         "showlegend": true,
         "x": [
          0,
          1,
          2,
          3,
          4,
          5,
          6,
          7,
          8,
          9,
          10,
          11,
          12,
          13,
          14,
          15,
          16,
          17,
          18,
          19,
          20,
          21,
          22,
          23,
          24,
          25,
          26,
          27,
          28,
          29,
          30,
          31,
          32,
          33,
          34,
          35,
          36,
          37,
          38,
          39,
          40
         ],
         "xaxis": "x",
         "y": [
          0.10939999669790268,
          0.7531999945640564,
          0.925599992275238,
          0.9351999759674072,
          0.9390000104904175,
          0.9416000247001648,
          0.9434999823570251,
          0.9434000253677368,
          0.9455999732017517,
          0.9487000107765198,
          0.9485999941825867,
          0.9501000046730042,
          0.9470000267028809,
          0.9476000070571899,
          0.9485999941825867,
          0.9469000101089478,
          0.9484999775886536,
          0.948199987411499,
          0.9478999972343445,
          0.9501000046730042,
          0.949999988079071,
          null,
          null,
          null,
          null,
          null,
          null,
          null,
          null,
          null,
          null,
          null,
          null,
          null,
          null,
          null,
          null,
          null,
          null,
          null,
          null
         ],
         "yaxis": "y",
         "type": "scattergl"
        },
        {
         "hovertemplate": "Experiment=53<br>Epochs=%{x}<br>Accuracy [%]=%{y}<extra></extra>",
         "legendgroup": "53",
         "line": {
          "color": "#ab63fa",
          "dash": "solid"
         },
         "marker": {
          "symbol": "circle"
         },
         "mode": "lines",
         "name": "53",
         "showlegend": true,
         "x": [
          0,
          1,
          2,
          3,
          4,
          5,
          6,
          7,
          8,
          9,
          10,
          11,
          12,
          13,
          14,
          15,
          16,
          17,
          18,
          19,
          20,
          21,
          22,
          23,
          24,
          25,
          26,
          27,
          28,
          29,
          30,
          31,
          32,
          33,
          34,
          35,
          36,
          37,
          38,
          39,
          40
         ],
         "xaxis": "x",
         "y": [
          0.09989999979734421,
          0.9077000021934509,
          0.9279000163078308,
          0.9372000098228455,
          0.9416000247001648,
          0.9437999725341797,
          0.9466999769210815,
          0.9466000199317932,
          0.9473000168800354,
          0.947700023651123,
          0.9484999775886536,
          0.9509999752044678,
          0.9527999758720398,
          0.9513999819755554,
          0.951200008392334,
          0.9501000046730042,
          0.9485999941825867,
          0.9498000144958496,
          0.9498999714851379,
          0.9516000151634216,
          0.9526000022888184,
          null,
          null,
          null,
          null,
          null,
          null,
          null,
          null,
          null,
          null,
          null,
          null,
          null,
          null,
          null,
          null,
          null,
          null,
          null,
          null
         ],
         "yaxis": "y",
         "type": "scattergl"
        },
        {
         "hovertemplate": "Experiment=54<br>Epochs=%{x}<br>Accuracy [%]=%{y}<extra></extra>",
         "legendgroup": "54",
         "line": {
          "color": "#FFA15A",
          "dash": "solid"
         },
         "marker": {
          "symbol": "circle"
         },
         "mode": "lines",
         "name": "54",
         "showlegend": true,
         "x": [
          0,
          1,
          2,
          3,
          4,
          5,
          6,
          7,
          8,
          9,
          10,
          11,
          12,
          13,
          14,
          15,
          16,
          17,
          18,
          19,
          20,
          21,
          22,
          23,
          24,
          25,
          26,
          27,
          28,
          29,
          30,
          31,
          32,
          33,
          34,
          35,
          36,
          37,
          38,
          39,
          40
         ],
         "xaxis": "x",
         "y": [
          0.043699998408555984,
          0.8223000168800354,
          0.8374000191688538,
          0.8464999794960022,
          0.8514000177383423,
          0.9240000247955322,
          0.9395999908447266,
          0.9420999884605408,
          0.942300021648407,
          0.9438999891281128,
          0.9452999830245972,
          0.9480999708175659,
          0.9490000009536743,
          0.9508000016212463,
          0.9495000243186951,
          0.9485999941825867,
          0.9488999843597412,
          0.9503999948501587,
          0.948199987411499,
          0.9495999813079834,
          0.9498999714851379,
          null,
          null,
          null,
          null,
          null,
          null,
          null,
          null,
          null,
          null,
          null,
          null,
          null,
          null,
          null,
          null,
          null,
          null,
          null,
          null
         ],
         "yaxis": "y",
         "type": "scattergl"
        },
        {
         "hovertemplate": "Experiment=55<br>Epochs=%{x}<br>Accuracy [%]=%{y}<extra></extra>",
         "legendgroup": "55",
         "line": {
          "color": "#19d3f3",
          "dash": "solid"
         },
         "marker": {
          "symbol": "circle"
         },
         "mode": "lines",
         "name": "55",
         "showlegend": true,
         "x": [
          0,
          1,
          2,
          3,
          4,
          5,
          6,
          7,
          8,
          9,
          10,
          11,
          12,
          13,
          14,
          15,
          16,
          17,
          18,
          19,
          20,
          21,
          22,
          23,
          24,
          25,
          26,
          27,
          28,
          29,
          30,
          31,
          32,
          33,
          34,
          35,
          36,
          37,
          38,
          39,
          40
         ],
         "xaxis": "x",
         "y": [
          0.09960000216960907,
          0.10909999907016754,
          0.9275000095367432,
          0.9387999773025513,
          0.9422000050544739,
          0.9451000094413757,
          0.945900022983551,
          0.9460999965667725,
          0.9474999904632568,
          0.9472000002861023,
          0.947700023651123,
          0.9487000107765198,
          0.9484999775886536,
          0.9484999775886536,
          0.948199987411499,
          0.9480999708175659,
          0.9484999775886536,
          0.9488999843597412,
          0.9488000273704529,
          0.9487000107765198,
          0.9487000107765198,
          null,
          null,
          null,
          null,
          null,
          null,
          null,
          null,
          null,
          null,
          null,
          null,
          null,
          null,
          null,
          null,
          null,
          null,
          null,
          null
         ],
         "yaxis": "y",
         "type": "scattergl"
        },
        {
         "hovertemplate": "Experiment=56<br>Epochs=%{x}<br>Accuracy [%]=%{y}<extra></extra>",
         "legendgroup": "56",
         "line": {
          "color": "#FF6692",
          "dash": "solid"
         },
         "marker": {
          "symbol": "circle"
         },
         "mode": "lines",
         "name": "56",
         "showlegend": true,
         "x": [
          0,
          1,
          2,
          3,
          4,
          5,
          6,
          7,
          8,
          9,
          10,
          11,
          12,
          13,
          14,
          15,
          16,
          17,
          18,
          19,
          20,
          21,
          22,
          23,
          24,
          25,
          26,
          27,
          28,
          29,
          30,
          31,
          32,
          33,
          34,
          35,
          36,
          37,
          38,
          39,
          40
         ],
         "xaxis": "x",
         "y": [
          0.0843999981880188,
          0.909600019454956,
          0.9291999936103821,
          0.9376000165939331,
          0.9440000057220459,
          0.9447000026702881,
          0.9441999793052673,
          0.947700023651123,
          0.9463000297546387,
          0.9455000162124634,
          0.9465000033378601,
          0.9477999806404114,
          0.9484999775886536,
          0.9491000175476074,
          0.949999988079071,
          0.9485999941825867,
          0.9480999708175659,
          0.9478999972343445,
          0.948199987411499,
          0.9478999972343445,
          0.9491000175476074,
          null,
          null,
          null,
          null,
          null,
          null,
          null,
          null,
          null,
          null,
          null,
          null,
          null,
          null,
          null,
          null,
          null,
          null,
          null,
          null
         ],
         "yaxis": "y",
         "type": "scattergl"
        },
        {
         "hovertemplate": "Experiment=57<br>Epochs=%{x}<br>Accuracy [%]=%{y}<extra></extra>",
         "legendgroup": "57",
         "line": {
          "color": "#B6E880",
          "dash": "solid"
         },
         "marker": {
          "symbol": "circle"
         },
         "mode": "lines",
         "name": "57",
         "showlegend": true,
         "x": [
          0,
          1,
          2,
          3,
          4,
          5,
          6,
          7,
          8,
          9,
          10,
          11,
          12,
          13,
          14,
          15,
          16,
          17,
          18,
          19,
          20,
          21,
          22,
          23,
          24,
          25,
          26,
          27,
          28,
          29,
          30,
          31,
          32,
          33,
          34,
          35,
          36,
          37,
          38,
          39,
          40
         ],
         "xaxis": "x",
         "y": [
          0.08550000190734863,
          0.10090000182390213,
          0.10499999672174454,
          0.1054999977350235,
          0.11289999634027481,
          0.11710000038146973,
          0.12060000002384186,
          0.13940000534057617,
          0.1387999951839447,
          0.14300000667572021,
          0.14309999346733093,
          0.1469999998807907,
          0.14229999482631683,
          0.1534000039100647,
          0.15539999306201935,
          0.15780000388622284,
          0.1623000055551529,
          0.1662999987602234,
          0.17180000245571136,
          0.17470000684261322,
          0.1768999993801117,
          null,
          null,
          null,
          null,
          null,
          null,
          null,
          null,
          null,
          null,
          null,
          null,
          null,
          null,
          null,
          null,
          null,
          null,
          null,
          null
         ],
         "yaxis": "y",
         "type": "scattergl"
        },
        {
         "hovertemplate": "Experiment=58<br>Epochs=%{x}<br>Accuracy [%]=%{y}<extra></extra>",
         "legendgroup": "58",
         "line": {
          "color": "#FF97FF",
          "dash": "solid"
         },
         "marker": {
          "symbol": "circle"
         },
         "mode": "lines",
         "name": "58",
         "showlegend": true,
         "x": [
          0,
          1,
          2,
          3,
          4,
          5,
          6,
          7,
          8,
          9,
          10,
          11,
          12,
          13,
          14,
          15,
          16,
          17,
          18,
          19,
          20,
          21,
          22,
          23,
          24,
          25,
          26,
          27,
          28,
          29,
          30,
          31,
          32,
          33,
          34,
          35,
          36,
          37,
          38,
          39,
          40
         ],
         "xaxis": "x",
         "y": [
          0.1023000031709671,
          0.9143999814987183,
          0.9309999942779541,
          0.9412999749183655,
          0.9447000026702881,
          0.9448999762535095,
          0.9469000101089478,
          0.9491999745368958,
          0.9488000273704529,
          0.948199987411499,
          0.9488000273704529,
          0.9506000280380249,
          0.9513000249862671,
          0.9535999894142151,
          0.9516000151634216,
          0.9524999856948853,
          0.9531000256538391,
          0.9523000121116638,
          0.9526000022888184,
          0.9532999992370605,
          0.9532999992370605,
          null,
          null,
          null,
          null,
          null,
          null,
          null,
          null,
          null,
          null,
          null,
          null,
          null,
          null,
          null,
          null,
          null,
          null,
          null,
          null
         ],
         "yaxis": "y",
         "type": "scattergl"
        },
        {
         "hovertemplate": "Experiment=59<br>Epochs=%{x}<br>Accuracy [%]=%{y}<extra></extra>",
         "legendgroup": "59",
         "line": {
          "color": "#FECB52",
          "dash": "solid"
         },
         "marker": {
          "symbol": "circle"
         },
         "mode": "lines",
         "name": "59",
         "showlegend": true,
         "x": [
          0,
          1,
          2,
          3,
          4,
          5,
          6,
          7,
          8,
          9,
          10,
          11,
          12,
          13,
          14,
          15,
          16,
          17,
          18,
          19,
          20,
          21,
          22,
          23,
          24,
          25,
          26,
          27,
          28,
          29,
          30,
          31,
          32,
          33,
          34,
          35,
          36,
          37,
          38,
          39,
          40
         ],
         "xaxis": "x",
         "y": [
          0.08190000057220459,
          0.9132999777793884,
          0.9311000108718872,
          0.9369000196456909,
          0.9405999779701233,
          0.9422000050544739,
          0.9444000124931335,
          0.9455999732017517,
          0.9458000063896179,
          0.9470999836921692,
          0.9476000070571899,
          0.9492999911308289,
          0.9477999806404114,
          0.9496999979019165,
          0.9505000114440918,
          0.9502999782562256,
          0.9496999979019165,
          0.9506000280380249,
          0.951200008392334,
          0.9513999819755554,
          0.9520000219345093,
          null,
          null,
          null,
          null,
          null,
          null,
          null,
          null,
          null,
          null,
          null,
          null,
          null,
          null,
          null,
          null,
          null,
          null,
          null,
          null
         ],
         "yaxis": "y",
         "type": "scattergl"
        },
        {
         "hovertemplate": "Experiment=60<br>Epochs=%{x}<br>Accuracy [%]=%{y}<extra></extra>",
         "legendgroup": "60",
         "line": {
          "color": "#636efa",
          "dash": "solid"
         },
         "marker": {
          "symbol": "circle"
         },
         "mode": "lines",
         "name": "60",
         "showlegend": true,
         "x": [
          0,
          1,
          2,
          3,
          4,
          5,
          6,
          7,
          8,
          9,
          10,
          11,
          12,
          13,
          14,
          15,
          16,
          17,
          18,
          19,
          20,
          21,
          22,
          23,
          24,
          25,
          26,
          27,
          28,
          29,
          30,
          31,
          32,
          33,
          34,
          35,
          36,
          37,
          38,
          39,
          40
         ],
         "xaxis": "x",
         "y": [
          0.08460000157356262,
          0.8981000185012817,
          0.9236999750137329,
          0.9337000250816345,
          0.9380000233650208,
          0.9412999749183655,
          0.9448000192642212,
          0.945900022983551,
          0.9488000273704529,
          0.9491999745368958,
          0.9509999752044678,
          0.95169997215271,
          0.9523000121116638,
          0.9487000107765198,
          0.9514999985694885,
          0.9513000249862671,
          0.9516000151634216,
          0.9520000219345093,
          0.9520999789237976,
          0.9506999850273132,
          0.9521999955177307,
          null,
          null,
          null,
          null,
          null,
          null,
          null,
          null,
          null,
          null,
          null,
          null,
          null,
          null,
          null,
          null,
          null,
          null,
          null,
          null
         ],
         "yaxis": "y",
         "type": "scattergl"
        },
        {
         "hovertemplate": "Experiment=61<br>Epochs=%{x}<br>Accuracy [%]=%{y}<extra></extra>",
         "legendgroup": "61",
         "line": {
          "color": "#EF553B",
          "dash": "solid"
         },
         "marker": {
          "symbol": "circle"
         },
         "mode": "lines",
         "name": "61",
         "showlegend": true,
         "x": [
          0,
          1,
          2,
          3,
          4,
          5,
          6,
          7,
          8,
          9,
          10,
          11,
          12,
          13,
          14,
          15,
          16,
          17,
          18,
          19,
          20,
          21,
          22,
          23,
          24,
          25,
          26,
          27,
          28,
          29,
          30,
          31,
          32,
          33,
          34,
          35,
          36,
          37,
          38,
          39,
          40
         ],
         "xaxis": "x",
         "y": [
          0.10400000214576721,
          0.7077999711036682,
          0.7498000264167786,
          0.7552000284194946,
          0.8580999970436096,
          0.9458000063896179,
          0.9506000280380249,
          0.9534000158309937,
          0.9502000212669373,
          0.9519000053405762,
          0.953000009059906,
          0.9537000060081482,
          0.9532999992370605,
          0.9526000022888184,
          0.953499972820282,
          0.9535999894142151,
          0.9535999894142151,
          0.9538000226020813,
          0.9541000127792358,
          0.9539999961853027,
          0.9549000263214111,
          null,
          null,
          null,
          null,
          null,
          null,
          null,
          null,
          null,
          null,
          null,
          null,
          null,
          null,
          null,
          null,
          null,
          null,
          null,
          null
         ],
         "yaxis": "y",
         "type": "scattergl"
        },
        {
         "hovertemplate": "Experiment=62<br>Epochs=%{x}<br>Accuracy [%]=%{y}<extra></extra>",
         "legendgroup": "62",
         "line": {
          "color": "#00cc96",
          "dash": "solid"
         },
         "marker": {
          "symbol": "circle"
         },
         "mode": "lines",
         "name": "62",
         "showlegend": true,
         "x": [
          0,
          1,
          2,
          3,
          4,
          5,
          6,
          7,
          8,
          9,
          10,
          11,
          12,
          13,
          14,
          15,
          16,
          17,
          18,
          19,
          20,
          21,
          22,
          23,
          24,
          25,
          26,
          27,
          28,
          29,
          30,
          31,
          32,
          33,
          34,
          35,
          36,
          37,
          38,
          39,
          40
         ],
         "xaxis": "x",
         "y": [
          0.08299999684095383,
          0.909500002861023,
          0.9279000163078308,
          0.934499979019165,
          0.9433000087738037,
          0.9448000192642212,
          0.9423999786376953,
          0.9423999786376953,
          0.9469000101089478,
          0.9455000162124634,
          0.9478999972343445,
          0.9453999996185303,
          0.9491000175476074,
          0.9480000138282776,
          0.9476000070571899,
          0.9473999738693237,
          0.9484000205993652,
          0.9495999813079834,
          0.9491000175476074,
          0.9495000243186951,
          0.949400007724762,
          null,
          null,
          null,
          null,
          null,
          null,
          null,
          null,
          null,
          null,
          null,
          null,
          null,
          null,
          null,
          null,
          null,
          null,
          null,
          null
         ],
         "yaxis": "y",
         "type": "scattergl"
        },
        {
         "hovertemplate": "Experiment=63<br>Epochs=%{x}<br>Accuracy [%]=%{y}<extra></extra>",
         "legendgroup": "63",
         "line": {
          "color": "#ab63fa",
          "dash": "solid"
         },
         "marker": {
          "symbol": "circle"
         },
         "mode": "lines",
         "name": "63",
         "showlegend": true,
         "x": [
          0,
          1,
          2,
          3,
          4,
          5,
          6,
          7,
          8,
          9,
          10,
          11,
          12,
          13,
          14,
          15,
          16,
          17,
          18,
          19,
          20,
          21,
          22,
          23,
          24,
          25,
          26,
          27,
          28,
          29,
          30,
          31,
          32,
          33,
          34,
          35,
          36,
          37,
          38,
          39,
          40
         ],
         "xaxis": "x",
         "y": [
          0.08780000358819962,
          0.9038000106811523,
          0.923799991607666,
          0.9369000196456909,
          0.9387999773025513,
          0.9437000155448914,
          0.9430999755859375,
          0.944599986076355,
          0.9448999762535095,
          0.9453999996185303,
          0.9472000002861023,
          0.9470000267028809,
          0.9498999714851379,
          0.9490000009536743,
          0.947700023651123,
          0.9502999782562256,
          0.9509000182151794,
          0.9508000016212463,
          0.9505000114440918,
          0.9510999917984009,
          0.9506000280380249,
          null,
          null,
          null,
          null,
          null,
          null,
          null,
          null,
          null,
          null,
          null,
          null,
          null,
          null,
          null,
          null,
          null,
          null,
          null,
          null
         ],
         "yaxis": "y",
         "type": "scattergl"
        },
        {
         "hovertemplate": "Experiment=64<br>Epochs=%{x}<br>Accuracy [%]=%{y}<extra></extra>",
         "legendgroup": "64",
         "line": {
          "color": "#FFA15A",
          "dash": "solid"
         },
         "marker": {
          "symbol": "circle"
         },
         "mode": "lines",
         "name": "64",
         "showlegend": true,
         "x": [
          0,
          1,
          2,
          3,
          4,
          5,
          6,
          7,
          8,
          9,
          10,
          11,
          12,
          13,
          14,
          15,
          16,
          17,
          18,
          19,
          20,
          21,
          22,
          23,
          24,
          25,
          26,
          27,
          28,
          29,
          30,
          31,
          32,
          33,
          34,
          35,
          36,
          37,
          38,
          39,
          40
         ],
         "xaxis": "x",
         "y": [
          0.11940000206232071,
          0.9036999940872192,
          0.9247000217437744,
          0.9333000183105469,
          0.9384999871253967,
          0.939300000667572,
          0.9434999823570251,
          0.9455000162124634,
          0.9453999996185303,
          0.9491000175476074,
          0.9491999745368958,
          0.9476000070571899,
          0.9509999752044678,
          0.9519000053405762,
          0.9513000249862671,
          0.9531000256538391,
          0.9527999758720398,
          0.953499972820282,
          0.9531999826431274,
          0.9509000182151794,
          0.9509999752044678,
          null,
          null,
          null,
          null,
          null,
          null,
          null,
          null,
          null,
          null,
          null,
          null,
          null,
          null,
          null,
          null,
          null,
          null,
          null,
          null
         ],
         "yaxis": "y",
         "type": "scattergl"
        },
        {
         "hovertemplate": "Experiment=65<br>Epochs=%{x}<br>Accuracy [%]=%{y}<extra></extra>",
         "legendgroup": "65",
         "line": {
          "color": "#19d3f3",
          "dash": "solid"
         },
         "marker": {
          "symbol": "circle"
         },
         "mode": "lines",
         "name": "65",
         "showlegend": true,
         "x": [
          0,
          1,
          2,
          3,
          4,
          5,
          6,
          7,
          8,
          9,
          10,
          11,
          12,
          13,
          14,
          15,
          16,
          17,
          18,
          19,
          20,
          21,
          22,
          23,
          24,
          25,
          26,
          27,
          28,
          29,
          30,
          31,
          32,
          33,
          34,
          35,
          36,
          37,
          38,
          39,
          40
         ],
         "xaxis": "x",
         "y": [
          0.0860000029206276,
          0.8240000009536743,
          0.9302999973297119,
          0.9397000074386597,
          0.942300021648407,
          0.9455000162124634,
          0.9452999830245972,
          0.9480999708175659,
          0.9480999708175659,
          0.9488000273704529,
          0.9496999979019165,
          0.9498999714851379,
          0.9506000280380249,
          0.9509999752044678,
          0.9531000256538391,
          0.9524999856948853,
          0.9509000182151794,
          0.9531000256538391,
          0.9534000158309937,
          0.953499972820282,
          0.9534000158309937,
          null,
          null,
          null,
          null,
          null,
          null,
          null,
          null,
          null,
          null,
          null,
          null,
          null,
          null,
          null,
          null,
          null,
          null,
          null,
          null
         ],
         "yaxis": "y",
         "type": "scattergl"
        },
        {
         "hovertemplate": "Experiment=66<br>Epochs=%{x}<br>Accuracy [%]=%{y}<extra></extra>",
         "legendgroup": "66",
         "line": {
          "color": "#FF6692",
          "dash": "solid"
         },
         "marker": {
          "symbol": "circle"
         },
         "mode": "lines",
         "name": "66",
         "showlegend": true,
         "x": [
          0,
          1,
          2,
          3,
          4,
          5,
          6,
          7,
          8,
          9,
          10,
          11,
          12,
          13,
          14,
          15,
          16,
          17,
          18,
          19,
          20,
          21,
          22,
          23,
          24,
          25,
          26,
          27,
          28,
          29,
          30,
          31,
          32,
          33,
          34,
          35,
          36,
          37,
          38,
          39,
          40
         ],
         "xaxis": "x",
         "y": [
          0.10109999775886536,
          0.9083999991416931,
          0.932699978351593,
          0.9416999816894531,
          0.9445000290870667,
          0.9463000297546387,
          0.9463000297546387,
          0.9485999941825867,
          0.949400007724762,
          0.9484000205993652,
          0.9505000114440918,
          0.9501000046730042,
          0.9501000046730042,
          0.9517999887466431,
          0.9505000114440918,
          0.9513000249862671,
          0.9521999955177307,
          0.9538000226020813,
          0.9520999789237976,
          0.9527999758720398,
          0.9528999924659729,
          null,
          null,
          null,
          null,
          null,
          null,
          null,
          null,
          null,
          null,
          null,
          null,
          null,
          null,
          null,
          null,
          null,
          null,
          null,
          null
         ],
         "yaxis": "y",
         "type": "scattergl"
        },
        {
         "hovertemplate": "Experiment=67<br>Epochs=%{x}<br>Accuracy [%]=%{y}<extra></extra>",
         "legendgroup": "67",
         "line": {
          "color": "#B6E880",
          "dash": "solid"
         },
         "marker": {
          "symbol": "circle"
         },
         "mode": "lines",
         "name": "67",
         "showlegend": true,
         "x": [
          0,
          1,
          2,
          3,
          4,
          5,
          6,
          7,
          8,
          9,
          10,
          11,
          12,
          13,
          14,
          15,
          16,
          17,
          18,
          19,
          20,
          21,
          22,
          23,
          24,
          25,
          26,
          27,
          28,
          29,
          30,
          31,
          32,
          33,
          34,
          35,
          36,
          37,
          38,
          39,
          40
         ],
         "xaxis": "x",
         "y": [
          0.11129999905824661,
          0.911899983882904,
          0.9307000041007996,
          0.9362000226974487,
          0.9409999847412109,
          0.9458000063896179,
          0.9452999830245972,
          0.9463000297546387,
          0.9488999843597412,
          0.9462000131607056,
          0.9484000205993652,
          0.9463000297546387,
          0.9478999972343445,
          0.9488999843597412,
          0.9498999714851379,
          0.949400007724762,
          0.9498999714851379,
          0.9492999911308289,
          0.9492999911308289,
          0.9503999948501587,
          0.9506000280380249,
          null,
          null,
          null,
          null,
          null,
          null,
          null,
          null,
          null,
          null,
          null,
          null,
          null,
          null,
          null,
          null,
          null,
          null,
          null,
          null
         ],
         "yaxis": "y",
         "type": "scattergl"
        },
        {
         "hovertemplate": "Experiment=68<br>Epochs=%{x}<br>Accuracy [%]=%{y}<extra></extra>",
         "legendgroup": "68",
         "line": {
          "color": "#FF97FF",
          "dash": "solid"
         },
         "marker": {
          "symbol": "circle"
         },
         "mode": "lines",
         "name": "68",
         "showlegend": true,
         "x": [
          0,
          1,
          2,
          3,
          4,
          5,
          6,
          7,
          8,
          9,
          10,
          11,
          12,
          13,
          14,
          15,
          16,
          17,
          18,
          19,
          20,
          21,
          22,
          23,
          24,
          25,
          26,
          27,
          28,
          29,
          30,
          31,
          32,
          33,
          34,
          35,
          36,
          37,
          38,
          39,
          40
         ],
         "xaxis": "x",
         "y": [
          0.09749999642372131,
          0.8183000087738037,
          0.839900016784668,
          0.9369000196456909,
          0.9383999705314636,
          0.9404000043869019,
          0.9448000192642212,
          0.9456999897956848,
          0.9473999738693237,
          0.9502999782562256,
          0.9487000107765198,
          0.9490000009536743,
          0.9495999813079834,
          0.9488999843597412,
          0.9519000053405762,
          0.9498999714851379,
          0.9498000144958496,
          0.9516000151634216,
          0.9528999924659729,
          0.9526000022888184,
          0.9519000053405762,
          null,
          null,
          null,
          null,
          null,
          null,
          null,
          null,
          null,
          null,
          null,
          null,
          null,
          null,
          null,
          null,
          null,
          null,
          null,
          null
         ],
         "yaxis": "y",
         "type": "scattergl"
        },
        {
         "hovertemplate": "Experiment=69<br>Epochs=%{x}<br>Accuracy [%]=%{y}<extra></extra>",
         "legendgroup": "69",
         "line": {
          "color": "#FECB52",
          "dash": "solid"
         },
         "marker": {
          "symbol": "circle"
         },
         "mode": "lines",
         "name": "69",
         "showlegend": true,
         "x": [
          0,
          1,
          2,
          3,
          4,
          5,
          6,
          7,
          8,
          9,
          10,
          11,
          12,
          13,
          14,
          15,
          16,
          17,
          18,
          19,
          20,
          21,
          22,
          23,
          24,
          25,
          26,
          27,
          28,
          29,
          30,
          31,
          32,
          33,
          34,
          35,
          36,
          37,
          38,
          39,
          40
         ],
         "xaxis": "x",
         "y": [
          0.10080000013113022,
          0.11860000342130661,
          0.9261999726295471,
          0.9380000233650208,
          0.9431999921798706,
          0.9451000094413757,
          0.9459999799728394,
          0.9495000243186951,
          0.9521999955177307,
          0.95169997215271,
          0.9508000016212463,
          0.9502000212669373,
          0.9527999758720398,
          0.9520000219345093,
          0.9526000022888184,
          0.9537000060081482,
          0.9535999894142151,
          0.9532999992370605,
          0.9528999924659729,
          0.9527999758720398,
          0.9526000022888184,
          null,
          null,
          null,
          null,
          null,
          null,
          null,
          null,
          null,
          null,
          null,
          null,
          null,
          null,
          null,
          null,
          null,
          null,
          null,
          null
         ],
         "yaxis": "y",
         "type": "scattergl"
        },
        {
         "hovertemplate": "Experiment=70<br>Epochs=%{x}<br>Accuracy [%]=%{y}<extra></extra>",
         "legendgroup": "70",
         "line": {
          "color": "#636efa",
          "dash": "solid"
         },
         "marker": {
          "symbol": "circle"
         },
         "mode": "lines",
         "name": "70",
         "showlegend": true,
         "x": [
          0,
          1,
          2,
          3,
          4,
          5,
          6,
          7,
          8,
          9,
          10,
          11,
          12,
          13,
          14,
          15,
          16,
          17,
          18,
          19,
          20,
          21,
          22,
          23,
          24,
          25,
          26,
          27,
          28,
          29,
          30,
          31,
          32,
          33,
          34,
          35,
          36,
          37,
          38,
          39,
          40
         ],
         "xaxis": "x",
         "y": [
          0.0940999984741211,
          0.8179000020027161,
          0.9129999876022339,
          0.9354000091552734,
          0.9434999823570251,
          0.9430999755859375,
          0.9455999732017517,
          0.9474999904632568,
          0.9484999775886536,
          0.9513999819755554,
          0.9508000016212463,
          0.9509000182151794,
          0.9523000121116638,
          0.9509000182151794,
          0.9505000114440918,
          0.951200008392334,
          0.9520000219345093,
          0.9516000151634216,
          0.9506999850273132,
          0.951200008392334,
          0.9513000249862671,
          null,
          null,
          null,
          null,
          null,
          null,
          null,
          null,
          null,
          null,
          null,
          null,
          null,
          null,
          null,
          null,
          null,
          null,
          null,
          null
         ],
         "yaxis": "y",
         "type": "scattergl"
        },
        {
         "hovertemplate": "Experiment=71<br>Epochs=%{x}<br>Accuracy [%]=%{y}<extra></extra>",
         "legendgroup": "71",
         "line": {
          "color": "#EF553B",
          "dash": "solid"
         },
         "marker": {
          "symbol": "circle"
         },
         "mode": "lines",
         "name": "71",
         "showlegend": true,
         "x": [
          0,
          1,
          2,
          3,
          4,
          5,
          6,
          7,
          8,
          9,
          10,
          11,
          12,
          13,
          14,
          15,
          16,
          17,
          18,
          19,
          20,
          21,
          22,
          23,
          24,
          25,
          26,
          27,
          28,
          29,
          30,
          31,
          32,
          33,
          34,
          35,
          36,
          37,
          38,
          39,
          40
         ],
         "xaxis": "x",
         "y": [
          0.10119999945163727,
          0.9093999862670898,
          0.9330000281333923,
          0.9422000050544739,
          0.9477999806404114,
          0.9474999904632568,
          0.9491000175476074,
          0.9509000182151794,
          0.9498999714851379,
          0.9521999955177307,
          0.9538999795913696,
          0.9556999802589417,
          0.9556000232696533,
          0.9567999839782715,
          0.95660001039505,
          0.9563000202178955,
          0.9559000134468079,
          0.9564999938011169,
          0.9570000171661377,
          0.957099974155426,
          0.9557999968528748,
          null,
          null,
          null,
          null,
          null,
          null,
          null,
          null,
          null,
          null,
          null,
          null,
          null,
          null,
          null,
          null,
          null,
          null,
          null,
          null
         ],
         "yaxis": "y",
         "type": "scattergl"
        },
        {
         "hovertemplate": "Experiment=72<br>Epochs=%{x}<br>Accuracy [%]=%{y}<extra></extra>",
         "legendgroup": "72",
         "line": {
          "color": "#00cc96",
          "dash": "solid"
         },
         "marker": {
          "symbol": "circle"
         },
         "mode": "lines",
         "name": "72",
         "showlegend": true,
         "x": [
          0,
          1,
          2,
          3,
          4,
          5,
          6,
          7,
          8,
          9,
          10,
          11,
          12,
          13,
          14,
          15,
          16,
          17,
          18,
          19,
          20,
          21,
          22,
          23,
          24,
          25,
          26,
          27,
          28,
          29,
          30,
          31,
          32,
          33,
          34,
          35,
          36,
          37,
          38,
          39,
          40
         ],
         "xaxis": "x",
         "y": [
          0.11460000276565552,
          0.9169999957084656,
          0.9323999881744385,
          0.9390000104904175,
          0.9437000155448914,
          0.948199987411499,
          0.9505000114440918,
          0.953000009059906,
          0.9532999992370605,
          0.9552000164985657,
          0.9524000287055969,
          0.9532999992370605,
          0.9519000053405762,
          0.9527999758720398,
          0.953000009059906,
          0.9527999758720398,
          0.9539999961853027,
          0.9534000158309937,
          0.954200029373169,
          0.9539999961853027,
          0.9539999961853027,
          null,
          null,
          null,
          null,
          null,
          null,
          null,
          null,
          null,
          null,
          null,
          null,
          null,
          null,
          null,
          null,
          null,
          null,
          null,
          null
         ],
         "yaxis": "y",
         "type": "scattergl"
        },
        {
         "hovertemplate": "Experiment=73<br>Epochs=%{x}<br>Accuracy [%]=%{y}<extra></extra>",
         "legendgroup": "73",
         "line": {
          "color": "#ab63fa",
          "dash": "solid"
         },
         "marker": {
          "symbol": "circle"
         },
         "mode": "lines",
         "name": "73",
         "showlegend": true,
         "x": [
          0,
          1,
          2,
          3,
          4,
          5,
          6,
          7,
          8,
          9,
          10,
          11,
          12,
          13,
          14,
          15,
          16,
          17,
          18,
          19,
          20,
          21,
          22,
          23,
          24,
          25,
          26,
          27,
          28,
          29,
          30,
          31,
          32,
          33,
          34,
          35,
          36,
          37,
          38,
          39,
          40
         ],
         "xaxis": "x",
         "y": [
          0.08780000358819962,
          0.0982000008225441,
          0.25619998574256897,
          0.9348000288009644,
          0.9405999779701233,
          0.9442999958992004,
          0.9466999769210815,
          0.9502999782562256,
          0.9517999887466431,
          0.9501000046730042,
          0.9513000249862671,
          0.9501000046730042,
          0.9509999752044678,
          0.9520000219345093,
          0.9528999924659729,
          0.9528999924659729,
          0.9526000022888184,
          0.9526000022888184,
          0.9531999826431274,
          0.9531999826431274,
          0.954200029373169,
          null,
          null,
          null,
          null,
          null,
          null,
          null,
          null,
          null,
          null,
          null,
          null,
          null,
          null,
          null,
          null,
          null,
          null,
          null,
          null
         ],
         "yaxis": "y",
         "type": "scattergl"
        },
        {
         "hovertemplate": "Experiment=74<br>Epochs=%{x}<br>Accuracy [%]=%{y}<extra></extra>",
         "legendgroup": "74",
         "line": {
          "color": "#FFA15A",
          "dash": "solid"
         },
         "marker": {
          "symbol": "circle"
         },
         "mode": "lines",
         "name": "74",
         "showlegend": true,
         "x": [
          0,
          1,
          2,
          3,
          4,
          5,
          6,
          7,
          8,
          9,
          10,
          11,
          12,
          13,
          14,
          15,
          16,
          17,
          18,
          19,
          20,
          21,
          22,
          23,
          24,
          25,
          26,
          27,
          28,
          29,
          30,
          31,
          32,
          33,
          34,
          35,
          36,
          37,
          38,
          39,
          40
         ],
         "xaxis": "x",
         "y": [
          0.07769999653100967,
          0.9064000248908997,
          0.9315000176429749,
          0.9424999952316284,
          0.946399986743927,
          0.949400007724762,
          0.9483000040054321,
          0.9516000151634216,
          0.9491000175476074,
          0.9514999985694885,
          0.9502999782562256,
          0.9532999992370605,
          0.953000009059906,
          0.9535999894142151,
          0.9538999795913696,
          0.9537000060081482,
          0.9538999795913696,
          0.954200029373169,
          0.9537000060081482,
          0.9539999961853027,
          0.954200029373169,
          null,
          null,
          null,
          null,
          null,
          null,
          null,
          null,
          null,
          null,
          null,
          null,
          null,
          null,
          null,
          null,
          null,
          null,
          null,
          null
         ],
         "yaxis": "y",
         "type": "scattergl"
        },
        {
         "hovertemplate": "Experiment=75<br>Epochs=%{x}<br>Accuracy [%]=%{y}<extra></extra>",
         "legendgroup": "75",
         "line": {
          "color": "#19d3f3",
          "dash": "solid"
         },
         "marker": {
          "symbol": "circle"
         },
         "mode": "lines",
         "name": "75",
         "showlegend": true,
         "x": [
          0,
          1,
          2,
          3,
          4,
          5,
          6,
          7,
          8,
          9,
          10,
          11,
          12,
          13,
          14,
          15,
          16,
          17,
          18,
          19,
          20,
          21,
          22,
          23,
          24,
          25,
          26,
          27,
          28,
          29,
          30,
          31,
          32,
          33,
          34,
          35,
          36,
          37,
          38,
          39,
          40
         ],
         "xaxis": "x",
         "y": [
          0.0,
          0.39320001006126404,
          0.4625999927520752,
          0.4772999882698059,
          0.5625,
          0.5767999887466431,
          0.6456000208854675,
          0.6561999917030334,
          0.6704000234603882,
          0.7547000050544739,
          0.7581999897956848,
          0.7609000205993652,
          0.7620999813079834,
          0.7631999850273132,
          0.7642999887466431,
          0.7651000022888184,
          0.7666000127792358,
          0.7674000263214111,
          0.7687000036239624,
          0.7688000202178955,
          0.7699000239372253,
          null,
          null,
          null,
          null,
          null,
          null,
          null,
          null,
          null,
          null,
          null,
          null,
          null,
          null,
          null,
          null,
          null,
          null,
          null,
          null
         ],
         "yaxis": "y",
         "type": "scattergl"
        },
        {
         "hovertemplate": "Experiment=76<br>Epochs=%{x}<br>Accuracy [%]=%{y}<extra></extra>",
         "legendgroup": "76",
         "line": {
          "color": "#FF6692",
          "dash": "solid"
         },
         "marker": {
          "symbol": "circle"
         },
         "mode": "lines",
         "name": "76",
         "showlegend": true,
         "x": [
          0,
          1,
          2,
          3,
          4,
          5,
          6,
          7,
          8,
          9,
          10,
          11,
          12,
          13,
          14,
          15,
          16,
          17,
          18,
          19,
          20,
          21,
          22,
          23,
          24,
          25,
          26,
          27,
          28,
          29,
          30,
          31,
          32,
          33,
          34,
          35,
          36,
          37,
          38,
          39,
          40
         ],
         "xaxis": "x",
         "y": [
          0.07769999653100967,
          0.9064000248908997,
          0.9315000176429749,
          0.9423999786376953,
          0.9466000199317932,
          0.9480000138282776,
          0.9484000205993652,
          0.95169997215271,
          0.9485999941825867,
          0.949999988079071,
          0.9508000016212463,
          0.951200008392334,
          0.9527999758720398,
          0.9538999795913696,
          0.9531000256538391,
          0.9537000060081482,
          0.9550999999046326,
          0.9531000256538391,
          0.9537000060081482,
          0.9539999961853027,
          0.9539999961853027,
          null,
          null,
          null,
          null,
          null,
          null,
          null,
          null,
          null,
          null,
          null,
          null,
          null,
          null,
          null,
          null,
          null,
          null,
          null,
          null
         ],
         "yaxis": "y",
         "type": "scattergl"
        }
       ],
       "layout": {
        "template": {
         "data": {
          "histogram2dcontour": [
           {
            "type": "histogram2dcontour",
            "colorbar": {
             "outlinewidth": 0,
             "ticks": ""
            },
            "colorscale": [
             [
              0.0,
              "#0d0887"
             ],
             [
              0.1111111111111111,
              "#46039f"
             ],
             [
              0.2222222222222222,
              "#7201a8"
             ],
             [
              0.3333333333333333,
              "#9c179e"
             ],
             [
              0.4444444444444444,
              "#bd3786"
             ],
             [
              0.5555555555555556,
              "#d8576b"
             ],
             [
              0.6666666666666666,
              "#ed7953"
             ],
             [
              0.7777777777777778,
              "#fb9f3a"
             ],
             [
              0.8888888888888888,
              "#fdca26"
             ],
             [
              1.0,
              "#f0f921"
             ]
            ]
           }
          ],
          "choropleth": [
           {
            "type": "choropleth",
            "colorbar": {
             "outlinewidth": 0,
             "ticks": ""
            }
           }
          ],
          "histogram2d": [
           {
            "type": "histogram2d",
            "colorbar": {
             "outlinewidth": 0,
             "ticks": ""
            },
            "colorscale": [
             [
              0.0,
              "#0d0887"
             ],
             [
              0.1111111111111111,
              "#46039f"
             ],
             [
              0.2222222222222222,
              "#7201a8"
             ],
             [
              0.3333333333333333,
              "#9c179e"
             ],
             [
              0.4444444444444444,
              "#bd3786"
             ],
             [
              0.5555555555555556,
              "#d8576b"
             ],
             [
              0.6666666666666666,
              "#ed7953"
             ],
             [
              0.7777777777777778,
              "#fb9f3a"
             ],
             [
              0.8888888888888888,
              "#fdca26"
             ],
             [
              1.0,
              "#f0f921"
             ]
            ]
           }
          ],
          "heatmap": [
           {
            "type": "heatmap",
            "colorbar": {
             "outlinewidth": 0,
             "ticks": ""
            },
            "colorscale": [
             [
              0.0,
              "#0d0887"
             ],
             [
              0.1111111111111111,
              "#46039f"
             ],
             [
              0.2222222222222222,
              "#7201a8"
             ],
             [
              0.3333333333333333,
              "#9c179e"
             ],
             [
              0.4444444444444444,
              "#bd3786"
             ],
             [
              0.5555555555555556,
              "#d8576b"
             ],
             [
              0.6666666666666666,
              "#ed7953"
             ],
             [
              0.7777777777777778,
              "#fb9f3a"
             ],
             [
              0.8888888888888888,
              "#fdca26"
             ],
             [
              1.0,
              "#f0f921"
             ]
            ]
           }
          ],
          "heatmapgl": [
           {
            "type": "heatmapgl",
            "colorbar": {
             "outlinewidth": 0,
             "ticks": ""
            },
            "colorscale": [
             [
              0.0,
              "#0d0887"
             ],
             [
              0.1111111111111111,
              "#46039f"
             ],
             [
              0.2222222222222222,
              "#7201a8"
             ],
             [
              0.3333333333333333,
              "#9c179e"
             ],
             [
              0.4444444444444444,
              "#bd3786"
             ],
             [
              0.5555555555555556,
              "#d8576b"
             ],
             [
              0.6666666666666666,
              "#ed7953"
             ],
             [
              0.7777777777777778,
              "#fb9f3a"
             ],
             [
              0.8888888888888888,
              "#fdca26"
             ],
             [
              1.0,
              "#f0f921"
             ]
            ]
           }
          ],
          "contourcarpet": [
           {
            "type": "contourcarpet",
            "colorbar": {
             "outlinewidth": 0,
             "ticks": ""
            }
           }
          ],
          "contour": [
           {
            "type": "contour",
            "colorbar": {
             "outlinewidth": 0,
             "ticks": ""
            },
            "colorscale": [
             [
              0.0,
              "#0d0887"
             ],
             [
              0.1111111111111111,
              "#46039f"
             ],
             [
              0.2222222222222222,
              "#7201a8"
             ],
             [
              0.3333333333333333,
              "#9c179e"
             ],
             [
              0.4444444444444444,
              "#bd3786"
             ],
             [
              0.5555555555555556,
              "#d8576b"
             ],
             [
              0.6666666666666666,
              "#ed7953"
             ],
             [
              0.7777777777777778,
              "#fb9f3a"
             ],
             [
              0.8888888888888888,
              "#fdca26"
             ],
             [
              1.0,
              "#f0f921"
             ]
            ]
           }
          ],
          "surface": [
           {
            "type": "surface",
            "colorbar": {
             "outlinewidth": 0,
             "ticks": ""
            },
            "colorscale": [
             [
              0.0,
              "#0d0887"
             ],
             [
              0.1111111111111111,
              "#46039f"
             ],
             [
              0.2222222222222222,
              "#7201a8"
             ],
             [
              0.3333333333333333,
              "#9c179e"
             ],
             [
              0.4444444444444444,
              "#bd3786"
             ],
             [
              0.5555555555555556,
              "#d8576b"
             ],
             [
              0.6666666666666666,
              "#ed7953"
             ],
             [
              0.7777777777777778,
              "#fb9f3a"
             ],
             [
              0.8888888888888888,
              "#fdca26"
             ],
             [
              1.0,
              "#f0f921"
             ]
            ]
           }
          ],
          "mesh3d": [
           {
            "type": "mesh3d",
            "colorbar": {
             "outlinewidth": 0,
             "ticks": ""
            }
           }
          ],
          "scatter": [
           {
            "marker": {
             "line": {
              "color": "#283442"
             }
            },
            "type": "scatter"
           }
          ],
          "parcoords": [
           {
            "type": "parcoords",
            "line": {
             "colorbar": {
              "outlinewidth": 0,
              "ticks": ""
             }
            }
           }
          ],
          "scatterpolargl": [
           {
            "type": "scatterpolargl",
            "marker": {
             "colorbar": {
              "outlinewidth": 0,
              "ticks": ""
             }
            }
           }
          ],
          "bar": [
           {
            "error_x": {
             "color": "#f2f5fa"
            },
            "error_y": {
             "color": "#f2f5fa"
            },
            "marker": {
             "line": {
              "color": "rgb(17,17,17)",
              "width": 0.5
             },
             "pattern": {
              "fillmode": "overlay",
              "size": 10,
              "solidity": 0.2
             }
            },
            "type": "bar"
           }
          ],
          "scattergeo": [
           {
            "type": "scattergeo",
            "marker": {
             "colorbar": {
              "outlinewidth": 0,
              "ticks": ""
             }
            }
           }
          ],
          "scatterpolar": [
           {
            "type": "scatterpolar",
            "marker": {
             "colorbar": {
              "outlinewidth": 0,
              "ticks": ""
             }
            }
           }
          ],
          "histogram": [
           {
            "marker": {
             "pattern": {
              "fillmode": "overlay",
              "size": 10,
              "solidity": 0.2
             }
            },
            "type": "histogram"
           }
          ],
          "scattergl": [
           {
            "marker": {
             "line": {
              "color": "#283442"
             }
            },
            "type": "scattergl"
           }
          ],
          "scatter3d": [
           {
            "type": "scatter3d",
            "line": {
             "colorbar": {
              "outlinewidth": 0,
              "ticks": ""
             }
            },
            "marker": {
             "colorbar": {
              "outlinewidth": 0,
              "ticks": ""
             }
            }
           }
          ],
          "scattermapbox": [
           {
            "type": "scattermapbox",
            "marker": {
             "colorbar": {
              "outlinewidth": 0,
              "ticks": ""
             }
            }
           }
          ],
          "scatterternary": [
           {
            "type": "scatterternary",
            "marker": {
             "colorbar": {
              "outlinewidth": 0,
              "ticks": ""
             }
            }
           }
          ],
          "scattercarpet": [
           {
            "type": "scattercarpet",
            "marker": {
             "colorbar": {
              "outlinewidth": 0,
              "ticks": ""
             }
            }
           }
          ],
          "carpet": [
           {
            "aaxis": {
             "endlinecolor": "#A2B1C6",
             "gridcolor": "#506784",
             "linecolor": "#506784",
             "minorgridcolor": "#506784",
             "startlinecolor": "#A2B1C6"
            },
            "baxis": {
             "endlinecolor": "#A2B1C6",
             "gridcolor": "#506784",
             "linecolor": "#506784",
             "minorgridcolor": "#506784",
             "startlinecolor": "#A2B1C6"
            },
            "type": "carpet"
           }
          ],
          "table": [
           {
            "cells": {
             "fill": {
              "color": "#506784"
             },
             "line": {
              "color": "rgb(17,17,17)"
             }
            },
            "header": {
             "fill": {
              "color": "#2a3f5f"
             },
             "line": {
              "color": "rgb(17,17,17)"
             }
            },
            "type": "table"
           }
          ],
          "barpolar": [
           {
            "marker": {
             "line": {
              "color": "rgb(17,17,17)",
              "width": 0.5
             },
             "pattern": {
              "fillmode": "overlay",
              "size": 10,
              "solidity": 0.2
             }
            },
            "type": "barpolar"
           }
          ],
          "pie": [
           {
            "automargin": true,
            "type": "pie"
           }
          ]
         },
         "layout": {
          "autotypenumbers": "strict",
          "colorway": [
           "#636efa",
           "#EF553B",
           "#00cc96",
           "#ab63fa",
           "#FFA15A",
           "#19d3f3",
           "#FF6692",
           "#B6E880",
           "#FF97FF",
           "#FECB52"
          ],
          "font": {
           "color": "#f2f5fa"
          },
          "hovermode": "closest",
          "hoverlabel": {
           "align": "left"
          },
          "paper_bgcolor": "rgb(17,17,17)",
          "plot_bgcolor": "rgb(17,17,17)",
          "polar": {
           "bgcolor": "rgb(17,17,17)",
           "angularaxis": {
            "gridcolor": "#506784",
            "linecolor": "#506784",
            "ticks": ""
           },
           "radialaxis": {
            "gridcolor": "#506784",
            "linecolor": "#506784",
            "ticks": ""
           }
          },
          "ternary": {
           "bgcolor": "rgb(17,17,17)",
           "aaxis": {
            "gridcolor": "#506784",
            "linecolor": "#506784",
            "ticks": ""
           },
           "baxis": {
            "gridcolor": "#506784",
            "linecolor": "#506784",
            "ticks": ""
           },
           "caxis": {
            "gridcolor": "#506784",
            "linecolor": "#506784",
            "ticks": ""
           }
          },
          "coloraxis": {
           "colorbar": {
            "outlinewidth": 0,
            "ticks": ""
           }
          },
          "colorscale": {
           "sequential": [
            [
             0.0,
             "#0d0887"
            ],
            [
             0.1111111111111111,
             "#46039f"
            ],
            [
             0.2222222222222222,
             "#7201a8"
            ],
            [
             0.3333333333333333,
             "#9c179e"
            ],
            [
             0.4444444444444444,
             "#bd3786"
            ],
            [
             0.5555555555555556,
             "#d8576b"
            ],
            [
             0.6666666666666666,
             "#ed7953"
            ],
            [
             0.7777777777777778,
             "#fb9f3a"
            ],
            [
             0.8888888888888888,
             "#fdca26"
            ],
            [
             1.0,
             "#f0f921"
            ]
           ],
           "sequentialminus": [
            [
             0.0,
             "#0d0887"
            ],
            [
             0.1111111111111111,
             "#46039f"
            ],
            [
             0.2222222222222222,
             "#7201a8"
            ],
            [
             0.3333333333333333,
             "#9c179e"
            ],
            [
             0.4444444444444444,
             "#bd3786"
            ],
            [
             0.5555555555555556,
             "#d8576b"
            ],
            [
             0.6666666666666666,
             "#ed7953"
            ],
            [
             0.7777777777777778,
             "#fb9f3a"
            ],
            [
             0.8888888888888888,
             "#fdca26"
            ],
            [
             1.0,
             "#f0f921"
            ]
           ],
           "diverging": [
            [
             0,
             "#8e0152"
            ],
            [
             0.1,
             "#c51b7d"
            ],
            [
             0.2,
             "#de77ae"
            ],
            [
             0.3,
             "#f1b6da"
            ],
            [
             0.4,
             "#fde0ef"
            ],
            [
             0.5,
             "#f7f7f7"
            ],
            [
             0.6,
             "#e6f5d0"
            ],
            [
             0.7,
             "#b8e186"
            ],
            [
             0.8,
             "#7fbc41"
            ],
            [
             0.9,
             "#4d9221"
            ],
            [
             1,
             "#276419"
            ]
           ]
          },
          "xaxis": {
           "gridcolor": "#283442",
           "linecolor": "#506784",
           "ticks": "",
           "title": {
            "standoff": 15
           },
           "zerolinecolor": "#283442",
           "automargin": true,
           "zerolinewidth": 2
          },
          "yaxis": {
           "gridcolor": "#283442",
           "linecolor": "#506784",
           "ticks": "",
           "title": {
            "standoff": 15
           },
           "zerolinecolor": "#283442",
           "automargin": true,
           "zerolinewidth": 2
          },
          "scene": {
           "xaxis": {
            "backgroundcolor": "rgb(17,17,17)",
            "gridcolor": "#506784",
            "linecolor": "#506784",
            "showbackground": true,
            "ticks": "",
            "zerolinecolor": "#C8D4E3",
            "gridwidth": 2
           },
           "yaxis": {
            "backgroundcolor": "rgb(17,17,17)",
            "gridcolor": "#506784",
            "linecolor": "#506784",
            "showbackground": true,
            "ticks": "",
            "zerolinecolor": "#C8D4E3",
            "gridwidth": 2
           },
           "zaxis": {
            "backgroundcolor": "rgb(17,17,17)",
            "gridcolor": "#506784",
            "linecolor": "#506784",
            "showbackground": true,
            "ticks": "",
            "zerolinecolor": "#C8D4E3",
            "gridwidth": 2
           }
          },
          "shapedefaults": {
           "line": {
            "color": "#f2f5fa"
           }
          },
          "annotationdefaults": {
           "arrowcolor": "#f2f5fa",
           "arrowhead": 0,
           "arrowwidth": 1
          },
          "geo": {
           "bgcolor": "rgb(17,17,17)",
           "landcolor": "rgb(17,17,17)",
           "subunitcolor": "#506784",
           "showland": true,
           "showlakes": true,
           "lakecolor": "rgb(17,17,17)"
          },
          "title": {
           "x": 0.05
          },
          "updatemenudefaults": {
           "bgcolor": "#506784",
           "borderwidth": 0
          },
          "sliderdefaults": {
           "bgcolor": "#C8D4E3",
           "borderwidth": 1,
           "bordercolor": "rgb(17,17,17)",
           "tickwidth": 0
          },
          "mapbox": {
           "style": "dark"
          }
         }
        },
        "xaxis": {
         "anchor": "y",
         "domain": [
          0.0,
          1.0
         ],
         "title": {
          "text": "Epochs"
         }
        },
        "yaxis": {
         "anchor": "x",
         "domain": [
          0.0,
          1.0
         ],
         "title": {
          "text": "Accuracy [%]"
         }
        },
        "legend": {
         "title": {
          "text": "Experiment"
         },
         "tracegroupgap": 0
        },
        "title": {
         "text": "Test accuracy"
        }
       },
       "config": {
        "plotlyServerURL": "https://plot.ly"
       }
      },
      "text/html": "<div>                            <div id=\"98c81e1c-27cf-49c5-a193-891aaf5bc0d4\" class=\"plotly-graph-div\" style=\"height:525px; width:100%;\"></div>            <script type=\"text/javascript\">                require([\"plotly\"], function(Plotly) {                    window.PLOTLYENV=window.PLOTLYENV || {};                                    if (document.getElementById(\"98c81e1c-27cf-49c5-a193-891aaf5bc0d4\")) {                    Plotly.newPlot(                        \"98c81e1c-27cf-49c5-a193-891aaf5bc0d4\",                        [{\"hovertemplate\":\"Experiment=0\\u003cbr\\u003eEpochs=%{x}\\u003cbr\\u003eAccuracy [%]=%{y}\\u003cextra\\u003e\\u003c\\u002fextra\\u003e\",\"legendgroup\":\"0\",\"line\":{\"color\":\"#636efa\",\"dash\":\"solid\"},\"marker\":{\"symbol\":\"circle\"},\"mode\":\"lines\",\"name\":\"0\",\"showlegend\":true,\"x\":[0,1,2,3,4,5,6,7,8,9,10,11,12,13,14,15,16,17,18,19,20,21,22,23,24,25,26,27,28,29,30,31,32,33,34,35,36,37,38,39,40],\"xaxis\":\"x\",\"y\":[0.09430000185966492,0.6577000021934509,0.7581999897956848,0.7781999707221985,0.7904999852180481,0.7991999983787537,0.8047000169754028,0.8105999827384949,0.8126999735832214,0.8149999976158142,0.8180000185966492,0.8215000033378601,0.92330002784729,0.9294000267982483,0.9316999912261963,0.9333000183105469,0.9341999888420105,0.9358000159263611,0.9358999729156494,0.9369000196456909,0.9381999969482422,0.9394000172615051,0.9394000172615051,0.9408000111579895,0.9413999915122986,0.9424999952316284,null,null,null,null,null,null,null,null,null,null,null,null,null,null,null],\"yaxis\":\"y\",\"type\":\"scattergl\"},{\"hovertemplate\":\"Experiment=1\\u003cbr\\u003eEpochs=%{x}\\u003cbr\\u003eAccuracy [%]=%{y}\\u003cextra\\u003e\\u003c\\u002fextra\\u003e\",\"legendgroup\":\"1\",\"line\":{\"color\":\"#EF553B\",\"dash\":\"solid\"},\"marker\":{\"symbol\":\"circle\"},\"mode\":\"lines\",\"name\":\"1\",\"showlegend\":true,\"x\":[0,1,2,3,4,5,6,7,8,9,10,11,12,13,14,15,16,17,18,19,20,21,22,23,24,25,26,27,28,29,30,31,32,33,34,35,36,37,38,39,40],\"xaxis\":\"x\",\"y\":[0.10189999639987946,0.10419999808073044,0.10090000182390213,0.10180000215768814,0.10769999772310257,0.27390000224113464,0.5717999935150146,0.8094000220298767,0.8944000005722046,0.9021999835968018,0.9067999720573425,0.9117000102996826,0.9139999747276306,0.9161999821662903,0.9193000197410583,0.9208999872207642,0.9236000180244446,0.9244999885559082,0.9254000186920166,0.9266999959945679,0.9279999732971191,0.9287999868392944,0.9298999905586243,0.9307000041007996,0.9319000244140625,0.9316999912261963,0.9330000281333923,0.9337000250816345,0.9341999888420105,0.934499979019165,0.9347000122070312,null,null,null,null,null,null,null,null,null,null],\"yaxis\":\"y\",\"type\":\"scattergl\"},{\"hovertemplate\":\"Experiment=2\\u003cbr\\u003eEpochs=%{x}\\u003cbr\\u003eAccuracy [%]=%{y}\\u003cextra\\u003e\\u003c\\u002fextra\\u003e\",\"legendgroup\":\"2\",\"line\":{\"color\":\"#00cc96\",\"dash\":\"solid\"},\"marker\":{\"symbol\":\"circle\"},\"mode\":\"lines\",\"name\":\"2\",\"showlegend\":true,\"x\":[0,1,2,3,4,5,6,7,8,9,10,11,12,13,14,15,16,17,18,19,20,21,22,23,24,25,26,27,28,29,30,31,32,33,34,35,36,37,38,39,40],\"xaxis\":\"x\",\"y\":[0.09769999980926514,0.09790000319480896,0.0982000008225441,0.0982000008225441,0.09830000251531601,0.09839999675750732,0.09839999675750732,0.09839999675750732,0.09839999675750732,0.09839999675750732,0.09839999675750732,0.09839999675750732,0.09849999845027924,0.09849999845027924,0.09849999845027924,0.09849999845027924,0.09849999845027924,0.09849999845027924,0.09860000014305115,0.09860000014305115,0.09860000014305115,0.09870000183582306,0.09870000183582306,0.09870000183582306,0.09870000183582306,0.09870000183582306,null,null,null,null,null,null,null,null,null,null,null,null,null,null,null],\"yaxis\":\"y\",\"type\":\"scattergl\"},{\"hovertemplate\":\"Experiment=3\\u003cbr\\u003eEpochs=%{x}\\u003cbr\\u003eAccuracy [%]=%{y}\\u003cextra\\u003e\\u003c\\u002fextra\\u003e\",\"legendgroup\":\"3\",\"line\":{\"color\":\"#ab63fa\",\"dash\":\"solid\"},\"marker\":{\"symbol\":\"circle\"},\"mode\":\"lines\",\"name\":\"3\",\"showlegend\":true,\"x\":[0,1,2,3,4,5,6,7,8,9,10,11,12,13,14,15,16,17,18,19,20,21,22,23,24,25,26,27,28,29,30,31,32,33,34,35,36,37,38,39,40],\"xaxis\":\"x\",\"y\":[0.09109999984502792,0.09539999812841415,0.09860000014305115,0.10930000245571136,0.14149999618530273,0.18619999289512634,0.23569999635219574,0.2987000048160553,0.3628999888896942,0.4293000102043152,0.49729999899864197,0.5616000294685364,0.614300012588501,0.6567000150680542,0.6883999705314636,0.7102000117301941,0.7260000109672546,0.7350000143051147,0.7419999837875366,0.7476999759674072,0.7530999779701233,0.7578999996185303,0.7605999708175659,0.7627000212669373,0.7649000287055969,0.7678999900817871,0.7703999876976013,0.7728999853134155,0.7759000062942505,0.7785999774932861,0.7809000015258789,null,null,null,null,null,null,null,null,null,null],\"yaxis\":\"y\",\"type\":\"scattergl\"},{\"hovertemplate\":\"Experiment=4\\u003cbr\\u003eEpochs=%{x}\\u003cbr\\u003eAccuracy [%]=%{y}\\u003cextra\\u003e\\u003c\\u002fextra\\u003e\",\"legendgroup\":\"4\",\"line\":{\"color\":\"#FFA15A\",\"dash\":\"solid\"},\"marker\":{\"symbol\":\"circle\"},\"mode\":\"lines\",\"name\":\"4\",\"showlegend\":true,\"x\":[0,1,2,3,4,5,6,7,8,9,10,11,12,13,14,15,16,17,18,19,20,21,22,23,24,25,26,27,28,29,30,31,32,33,34,35,36,37,38,39,40],\"xaxis\":\"x\",\"y\":[0.10429999977350235,0.8842999935150146,0.9146999716758728,0.9251000285148621,0.9305999875068665,0.9351999759674072,0.9380999803543091,0.939300000667572,0.9420999884605408,0.9409999847412109,0.9416000247001648,0.942300021648407,0.941100001335144,0.9417999982833862,0.9423999786376953,0.9434999823570251,0.9431999921798706,0.9430000185966492,0.9420999884605408,0.9422000050544739,0.9424999952316284,0.9435999989509583,0.9452000260353088,0.9447000026702881,0.9442999958992004,0.9437999725341797,0.9445000290870667,0.9447000026702881,0.9445000290870667,0.9444000124931335,0.9451000094413757,0.9452000260353088,0.9452999830245972,0.9452999830245972,0.944599986076355,0.9442999958992004,null,null,null,null,null],\"yaxis\":\"y\",\"type\":\"scattergl\"},{\"hovertemplate\":\"Experiment=5\\u003cbr\\u003eEpochs=%{x}\\u003cbr\\u003eAccuracy [%]=%{y}\\u003cextra\\u003e\\u003c\\u002fextra\\u003e\",\"legendgroup\":\"5\",\"line\":{\"color\":\"#19d3f3\",\"dash\":\"solid\"},\"marker\":{\"symbol\":\"circle\"},\"mode\":\"lines\",\"name\":\"5\",\"showlegend\":true,\"x\":[0,1,2,3,4,5,6,7,8,9,10,11,12,13,14,15,16,17,18,19,20,21,22,23,24,25,26,27,28,29,30,31,32,33,34,35,36,37,38,39,40],\"xaxis\":\"x\",\"y\":[0.0869000032544136,0.7871000170707703,0.8159000277519226,0.8374000191688538,0.9189000129699707,0.9279999732971191,0.932200014591217,0.9333999752998352,0.9351000189781189,0.9358999729156494,0.9366999864578247,0.9369999766349792,0.9376000165939331,0.9370999932289124,0.9376999735832214,0.9386000037193298,0.939300000667572,0.9386000037193298,0.9381999969482422,0.9387000203132629,0.9376000165939331,0.9383000135421753,0.9379000067710876,0.9376000165939331,0.9383999705314636,0.9379000067710876,0.9372000098228455,0.9373000264167786,0.9379000067710876,0.9379000067710876,0.9376000165939331,0.9379000067710876,0.9387999773025513,0.9395999908447266,0.9398000240325928,0.9402999877929688,0.9402999877929688,0.9404000043869019,0.9402999877929688,0.9398000240325928,0.939300000667572],\"yaxis\":\"y\",\"type\":\"scattergl\"},{\"hovertemplate\":\"Experiment=6\\u003cbr\\u003eEpochs=%{x}\\u003cbr\\u003eAccuracy [%]=%{y}\\u003cextra\\u003e\\u003c\\u002fextra\\u003e\",\"legendgroup\":\"6\",\"line\":{\"color\":\"#FF6692\",\"dash\":\"solid\"},\"marker\":{\"symbol\":\"circle\"},\"mode\":\"lines\",\"name\":\"6\",\"showlegend\":true,\"x\":[0,1,2,3,4,5,6,7,8,9,10,11,12,13,14,15,16,17,18,19,20,21,22,23,24,25,26,27,28,29,30,31,32,33,34,35,36,37,38,39,40],\"xaxis\":\"x\",\"y\":[0.07540000230073929,0.7857000231742859,0.9046000242233276,0.9325000047683716,0.9373999834060669,0.9391000270843506,0.9390000104904175,0.9442999958992004,0.9430999755859375,0.9440000057220459,0.9427000284194946,0.9440000057220459,0.9441999793052673,0.9444000124931335,0.9438999891281128,0.9449999928474426,0.9463000297546387,0.9459999799728394,0.947700023651123,0.9476000070571899,0.9485999941825867,0.9476000070571899,0.9488000273704529,0.9472000002861023,0.9485999941825867,0.9491999745368958,0.9483000040054321,0.9472000002861023,0.9484000205993652,0.9473000168800354,0.9473999738693237,0.9470999836921692,0.9476000070571899,0.9473000168800354,0.9467999935150146,0.9472000002861023,null,null,null,null,null],\"yaxis\":\"y\",\"type\":\"scattergl\"},{\"hovertemplate\":\"Experiment=7\\u003cbr\\u003eEpochs=%{x}\\u003cbr\\u003eAccuracy [%]=%{y}\\u003cextra\\u003e\\u003c\\u002fextra\\u003e\",\"legendgroup\":\"7\",\"line\":{\"color\":\"#B6E880\",\"dash\":\"solid\"},\"marker\":{\"symbol\":\"circle\"},\"mode\":\"lines\",\"name\":\"7\",\"showlegend\":true,\"x\":[0,1,2,3,4,5,6,7,8,9,10,11,12,13,14,15,16,17,18,19,20,21,22,23,24,25,26,27,28,29,30,31,32,33,34,35,36,37,38,39,40],\"xaxis\":\"x\",\"y\":[0.1177000030875206,0.11500000208616257,0.11860000342130661,0.19169999659061432,0.836899995803833,0.8463000059127808,0.8481000065803528,0.8510000109672546,0.8518000245094299,0.8517000079154968,0.8511999845504761,0.8510000109672546,0.8517000079154968,0.8518000245094299,0.8525000214576721,0.8529999852180481,0.852400004863739,0.8521999716758728,0.852400004863739,0.8518999814987183,0.8517000079154968,0.8515999913215637,0.8525000214576721,0.8521000146865845,0.8522999882698059,0.8528000116348267,0.8528000116348267,0.8528000116348267,0.8526999950408936,0.8525999784469604,0.8525000214576721,0.8518999814987183,0.8521000146865845,0.8515999913215637,0.8514999747276306,0.8517000079154968,0.8518999814987183,0.8515999913215637,0.8518000245094299,0.8518999814987183,0.8518999814987183],\"yaxis\":\"y\",\"type\":\"scattergl\"},{\"hovertemplate\":\"Experiment=8\\u003cbr\\u003eEpochs=%{x}\\u003cbr\\u003eAccuracy [%]=%{y}\\u003cextra\\u003e\\u003c\\u002fextra\\u003e\",\"legendgroup\":\"8\",\"line\":{\"color\":\"#FF97FF\",\"dash\":\"solid\"},\"marker\":{\"symbol\":\"circle\"},\"mode\":\"lines\",\"name\":\"8\",\"showlegend\":true,\"x\":[0,1,2,3,4,5,6,7,8,9,10,11,12,13,14,15,16,17,18,19,20,21,22,23,24,25,26,27,28,29,30,31,32,33,34,35,36,37,38,39,40],\"xaxis\":\"x\",\"y\":[0.09109999984502792,0.10660000145435333,0.12929999828338623,0.9154999852180481,0.9291999936103821,0.9398999810218811,0.9368000030517578,0.9419999718666077,0.946399986743927,0.9458000063896179,0.9460999965667725,0.9449999928474426,0.9474999904632568,0.946399986743927,0.9495000243186951,0.9483000040054321,0.9480999708175659,0.9510999917984009,0.9508000016212463,0.949999988079071,0.9495000243186951,0.9495000243186951,0.9501000046730042,0.9514999985694885,0.9492999911308289,0.9509999752044678,0.9501000046730042,0.9488999843597412,0.9506000280380249,0.9484000205993652,0.9484999775886536,0.9488999843597412,0.9495999813079834,0.947700023651123,0.9495999813079834,0.9491000175476074,null,null,null,null,null],\"yaxis\":\"y\",\"type\":\"scattergl\"},{\"hovertemplate\":\"Experiment=9\\u003cbr\\u003eEpochs=%{x}\\u003cbr\\u003eAccuracy [%]=%{y}\\u003cextra\\u003e\\u003c\\u002fextra\\u003e\",\"legendgroup\":\"9\",\"line\":{\"color\":\"#FECB52\",\"dash\":\"solid\"},\"marker\":{\"symbol\":\"circle\"},\"mode\":\"lines\",\"name\":\"9\",\"showlegend\":true,\"x\":[0,1,2,3,4,5,6,7,8,9,10,11,12,13,14,15,16,17,18,19,20,21,22,23,24,25,26,27,28,29,30,31,32,33,34,35,36,37,38,39,40],\"xaxis\":\"x\",\"y\":[0.07460000365972519,0.8282999992370605,0.8411999940872192,0.8446000218391418,0.8485999703407288,0.8500999808311462,0.8519999980926514,0.8522999882698059,0.8532000184059143,0.8526999950408936,0.8540999889373779,0.8535000085830688,0.8533999919891357,0.8536999821662903,0.8531000018119812,0.8532000184059143,0.8531000018119812,0.8533999919891357,0.853600025177002,0.854200005531311,0.8537999987602234,0.8540999889373779,0.8547999858856201,0.8543999791145325,0.8543000221252441,0.8540999889373779,0.854200005531311,0.854200005531311,0.8547999858856201,0.8549000024795532,0.8546000123023987,0.854200005531311,0.8544999957084656,0.8546000123023987,0.8540999889373779,0.8539999723434448,0.8546000123023987,0.8546000123023987,0.8543999791145325,0.8543999791145325,0.8546000123023987],\"yaxis\":\"y\",\"type\":\"scattergl\"},{\"hovertemplate\":\"Experiment=10\\u003cbr\\u003eEpochs=%{x}\\u003cbr\\u003eAccuracy [%]=%{y}\\u003cextra\\u003e\\u003c\\u002fextra\\u003e\",\"legendgroup\":\"10\",\"line\":{\"color\":\"#636efa\",\"dash\":\"solid\"},\"marker\":{\"symbol\":\"circle\"},\"mode\":\"lines\",\"name\":\"10\",\"showlegend\":true,\"x\":[0,1,2,3,4,5,6,7,8,9,10,11,12,13,14,15,16,17,18,19,20,21,22,23,24,25,26,27,28,29,30,31,32,33,34,35,36,37,38,39,40],\"xaxis\":\"x\",\"y\":[0.10679999738931656,0.9021999835968018,0.9187999963760376,0.9297000169754028,0.9352999925613403,0.9372000098228455,0.9368000030517578,0.9415000081062317,0.9423999786376953,0.942300021648407,0.9452000260353088,0.9447000026702881,0.9437000155448914,0.9467999935150146,0.9474999904632568,0.9490000009536743,0.9477999806404114,0.9460999965667725,0.9484000205993652,0.9462000131607056,0.948199987411499,0.9483000040054321,0.9469000101089478,0.9473000168800354,0.9483000040054321,0.9490000009536743,null,null,null,null,null,null,null,null,null,null,null,null,null,null,null],\"yaxis\":\"y\",\"type\":\"scattergl\"},{\"hovertemplate\":\"Experiment=11\\u003cbr\\u003eEpochs=%{x}\\u003cbr\\u003eAccuracy [%]=%{y}\\u003cextra\\u003e\\u003c\\u002fextra\\u003e\",\"legendgroup\":\"11\",\"line\":{\"color\":\"#EF553B\",\"dash\":\"solid\"},\"marker\":{\"symbol\":\"circle\"},\"mode\":\"lines\",\"name\":\"11\",\"showlegend\":true,\"x\":[0,1,2,3,4,5,6,7,8,9,10,11,12,13,14,15,16,17,18,19,20,21,22,23,24,25,26,27,28,29,30,31,32,33,34,35,36,37,38,39,40],\"xaxis\":\"x\",\"y\":[0.09669999778270721,0.9071999788284302,0.9273999929428101,0.9355999827384949,0.9376999735832214,0.9383999705314636,0.9398999810218811,0.9419000148773193,0.9434999823570251,0.9434999823570251,0.9435999989509583,0.942300021648407,0.9447000026702881,0.9440000057220459,0.944100022315979,0.9435999989509583,0.942799985408783,0.9429000020027161,0.9429000020027161,0.9442999958992004,0.9424999952316284,0.9434000253677368,0.9433000087738037,0.9437999725341797,0.9431999921798706,0.944599986076355,0.9440000057220459,0.9434999823570251,0.9437999725341797,0.9431999921798706,0.9435999989509583,null,null,null,null,null,null,null,null,null,null],\"yaxis\":\"y\",\"type\":\"scattergl\"},{\"hovertemplate\":\"Experiment=12\\u003cbr\\u003eEpochs=%{x}\\u003cbr\\u003eAccuracy [%]=%{y}\\u003cextra\\u003e\\u003c\\u002fextra\\u003e\",\"legendgroup\":\"12\",\"line\":{\"color\":\"#00cc96\",\"dash\":\"solid\"},\"marker\":{\"symbol\":\"circle\"},\"mode\":\"lines\",\"name\":\"12\",\"showlegend\":true,\"x\":[0,1,2,3,4,5,6,7,8,9,10,11,12,13,14,15,16,17,18,19,20,21,22,23,24,25,26,27,28,29,30,31,32,33,34,35,36,37,38,39,40],\"xaxis\":\"x\",\"y\":[0.061799999326467514,0.8912000060081482,0.9176999926567078,0.9275000095367432,0.9340999722480774,0.9358999729156494,0.9369999766349792,0.940500020980835,0.9417999982833862,0.942300021648407,0.9405999779701233,0.9434999823570251,0.9449999928474426,0.9452000260353088,0.9429000020027161,0.9430000185966492,0.9427000284194946,0.9452999830245972,0.9435999989509583,0.9458000063896179,0.9459999799728394,0.9453999996185303,0.9463000297546387,0.944599986076355,0.9455000162124634,0.9467999935150146,null,null,null,null,null,null,null,null,null,null,null,null,null,null,null],\"yaxis\":\"y\",\"type\":\"scattergl\"},{\"hovertemplate\":\"Experiment=13\\u003cbr\\u003eEpochs=%{x}\\u003cbr\\u003eAccuracy [%]=%{y}\\u003cextra\\u003e\\u003c\\u002fextra\\u003e\",\"legendgroup\":\"13\",\"line\":{\"color\":\"#ab63fa\",\"dash\":\"solid\"},\"marker\":{\"symbol\":\"circle\"},\"mode\":\"lines\",\"name\":\"13\",\"showlegend\":true,\"x\":[0,1,2,3,4,5,6,7,8,9,10,11,12,13,14,15,16,17,18,19,20,21,22,23,24,25,26,27,28,29,30,31,32,33,34,35,36,37,38,39,40],\"xaxis\":\"x\",\"y\":[0.0560000017285347,0.9057999849319458,0.925000011920929,0.9340000152587891,0.9373999834060669,0.9404000043869019,0.9388999938964844,0.9412000179290771,0.9384999871253967,0.9422000050544739,0.9437999725341797,0.9424999952316284,0.9451000094413757,0.9426000118255615,0.944100022315979,0.9434000253677368,0.9447000026702881,0.9459999799728394,0.9455000162124634,0.9435999989509583,0.9455999732017517,0.9449999928474426,0.9438999891281128,0.9437999725341797,0.9440000057220459,0.9430999755859375,0.9417999982833862,0.9422000050544739,0.9429000020027161,0.9437999725341797,0.9435999989509583,null,null,null,null,null,null,null,null,null,null],\"yaxis\":\"y\",\"type\":\"scattergl\"},{\"hovertemplate\":\"Experiment=14\\u003cbr\\u003eEpochs=%{x}\\u003cbr\\u003eAccuracy [%]=%{y}\\u003cextra\\u003e\\u003c\\u002fextra\\u003e\",\"legendgroup\":\"14\",\"line\":{\"color\":\"#FFA15A\",\"dash\":\"solid\"},\"marker\":{\"symbol\":\"circle\"},\"mode\":\"lines\",\"name\":\"14\",\"showlegend\":true,\"x\":[0,1,2,3,4,5,6,7,8,9,10,11,12,13,14,15,16,17,18,19,20,21,22,23,24,25,26,27,28,29,30,31,32,33,34,35,36,37,38,39,40],\"xaxis\":\"x\",\"y\":[0.10279999673366547,0.9002000093460083,0.9236999750137329,0.9318000078201294,0.9388999938964844,0.9386000037193298,0.9386000037193298,0.9401999711990356,0.941100001335144,0.9429000020027161,0.9437000155448914,0.9462000131607056,0.9459999799728394,0.9452000260353088,0.9449999928474426,0.9444000124931335,0.9440000057220459,0.9448000192642212,0.944599986076355,0.945900022983551,0.9448000192642212,null,null,null,null,null,null,null,null,null,null,null,null,null,null,null,null,null,null,null,null],\"yaxis\":\"y\",\"type\":\"scattergl\"},{\"hovertemplate\":\"Experiment=15\\u003cbr\\u003eEpochs=%{x}\\u003cbr\\u003eAccuracy [%]=%{y}\\u003cextra\\u003e\\u003c\\u002fextra\\u003e\",\"legendgroup\":\"15\",\"line\":{\"color\":\"#19d3f3\",\"dash\":\"solid\"},\"marker\":{\"symbol\":\"circle\"},\"mode\":\"lines\",\"name\":\"15\",\"showlegend\":true,\"x\":[0,1,2,3,4,5,6,7,8,9,10,11,12,13,14,15,16,17,18,19,20,21,22,23,24,25,26,27,28,29,30,31,32,33,34,35,36,37,38,39,40],\"xaxis\":\"x\",\"y\":[0.08070000261068344,0.8988999724388123,0.9211999773979187,0.9319999814033508,0.9368000030517578,0.9386000037193298,0.9398999810218811,0.940500020980835,0.942300021648407,0.9420999884605408,0.9427000284194946,0.9419999718666077,0.942799985408783,0.9429000020027161,0.9444000124931335,0.9448000192642212,0.9453999996185303,0.942799985408783,0.9447000026702881,0.9448000192642212,0.944599986076355,0.944100022315979,0.944599986076355,0.9455000162124634,0.9451000094413757,0.9445000290870667,0.9449999928474426,0.9448000192642212,0.9444000124931335,0.9433000087738037,0.9431999921798706,null,null,null,null,null,null,null,null,null,null],\"yaxis\":\"y\",\"type\":\"scattergl\"},{\"hovertemplate\":\"Experiment=16\\u003cbr\\u003eEpochs=%{x}\\u003cbr\\u003eAccuracy [%]=%{y}\\u003cextra\\u003e\\u003c\\u002fextra\\u003e\",\"legendgroup\":\"16\",\"line\":{\"color\":\"#FF6692\",\"dash\":\"solid\"},\"marker\":{\"symbol\":\"circle\"},\"mode\":\"lines\",\"name\":\"16\",\"showlegend\":true,\"x\":[0,1,2,3,4,5,6,7,8,9,10,11,12,13,14,15,16,17,18,19,20,21,22,23,24,25,26,27,28,29,30,31,32,33,34,35,36,37,38,39,40],\"xaxis\":\"x\",\"y\":[0.12549999356269836,0.8960000276565552,0.9225999712944031,0.9304999709129333,0.9354000091552734,0.9394000172615051,0.9404000043869019,0.9408000111579895,0.9412999749183655,0.9415000081062317,0.9424999952316284,0.9441999793052673,0.9430999755859375,0.942799985408783,0.9441999793052673,0.9441999793052673,0.9448999762535095,0.9441999793052673,0.9459999799728394,0.9426000118255615,0.9434000253677368,null,null,null,null,null,null,null,null,null,null,null,null,null,null,null,null,null,null,null,null],\"yaxis\":\"y\",\"type\":\"scattergl\"},{\"hovertemplate\":\"Experiment=17\\u003cbr\\u003eEpochs=%{x}\\u003cbr\\u003eAccuracy [%]=%{y}\\u003cextra\\u003e\\u003c\\u002fextra\\u003e\",\"legendgroup\":\"17\",\"line\":{\"color\":\"#B6E880\",\"dash\":\"solid\"},\"marker\":{\"symbol\":\"circle\"},\"mode\":\"lines\",\"name\":\"17\",\"showlegend\":true,\"x\":[0,1,2,3,4,5,6,7,8,9,10,11,12,13,14,15,16,17,18,19,20,21,22,23,24,25,26,27,28,29,30,31,32,33,34,35,36,37,38,39,40],\"xaxis\":\"x\",\"y\":[0.10639999806880951,0.8163999915122986,0.8370000123977661,0.8432000279426575,0.84579998254776,0.8481000065803528,0.8496000170707703,0.8515999913215637,0.8521999716758728,0.8522999882698059,0.8496000170707703,0.8522999882698059,0.8521000146865845,0.8535000085830688,0.8549000024795532,0.8543999791145325,0.8525000214576721,0.8557999730110168,0.8553000092506409,0.8568000197410583,0.8565999865531921,0.8574000000953674,0.85589998960495,0.857200026512146,0.8557999730110168,0.8615999817848206,0.9426000118255615,0.9423999786376953,0.9423999786376953,0.9419999718666077,0.944100022315979,null,null,null,null,null,null,null,null,null,null],\"yaxis\":\"y\",\"type\":\"scattergl\"},{\"hovertemplate\":\"Experiment=18\\u003cbr\\u003eEpochs=%{x}\\u003cbr\\u003eAccuracy [%]=%{y}\\u003cextra\\u003e\\u003c\\u002fextra\\u003e\",\"legendgroup\":\"18\",\"line\":{\"color\":\"#FF97FF\",\"dash\":\"solid\"},\"marker\":{\"symbol\":\"circle\"},\"mode\":\"lines\",\"name\":\"18\",\"showlegend\":true,\"x\":[0,1,2,3,4,5,6,7,8,9,10,11,12,13,14,15,16,17,18,19,20,21,22,23,24,25,26,27,28,29,30,31,32,33,34,35,36,37,38,39,40],\"xaxis\":\"x\",\"y\":[0.10499999672174454,0.1151999980211258,0.9136999845504761,0.9277999997138977,0.9318000078201294,0.9345999956130981,0.9386000037193298,0.9419999718666077,0.9420999884605408,0.9416999816894531,0.9419999718666077,0.9430999755859375,0.9435999989509583,0.9422000050544739,0.9431999921798706,0.9441999793052673,0.9466999769210815,0.9453999996185303,0.9460999965667725,0.944100022315979,0.9466000199317932,null,null,null,null,null,null,null,null,null,null,null,null,null,null,null,null,null,null,null,null],\"yaxis\":\"y\",\"type\":\"scattergl\"},{\"hovertemplate\":\"Experiment=19\\u003cbr\\u003eEpochs=%{x}\\u003cbr\\u003eAccuracy [%]=%{y}\\u003cextra\\u003e\\u003c\\u002fextra\\u003e\",\"legendgroup\":\"19\",\"line\":{\"color\":\"#FECB52\",\"dash\":\"solid\"},\"marker\":{\"symbol\":\"circle\"},\"mode\":\"lines\",\"name\":\"19\",\"showlegend\":true,\"x\":[0,1,2,3,4,5,6,7,8,9,10,11,12,13,14,15,16,17,18,19,20,21,22,23,24,25,26,27,28,29,30,31,32,33,34,35,36,37,38,39,40],\"xaxis\":\"x\",\"y\":[0.10249999910593033,0.09669999778270721,0.09730000048875809,0.09799999743700027,0.09989999979734421,0.09939999878406525,0.09950000047683716,0.10109999775886536,0.10180000215768814,0.10279999673366547,0.10090000182390213,0.10779999941587448,0.10589999705553055,0.11749999970197678,0.13249999284744263,0.14159999787807465,0.1469999998807907,0.15209999680519104,0.15549999475479126,0.16750000417232513,0.1777999997138977,0.41530001163482666,0.9376999735832214,0.9397000074386597,0.9426000118255615,0.9430000185966492,0.9437999725341797,0.944100022315979,0.9451000094413757,0.9437000155448914,0.9463000297546387,null,null,null,null,null,null,null,null,null,null],\"yaxis\":\"y\",\"type\":\"scattergl\"},{\"hovertemplate\":\"Experiment=20\\u003cbr\\u003eEpochs=%{x}\\u003cbr\\u003eAccuracy [%]=%{y}\\u003cextra\\u003e\\u003c\\u002fextra\\u003e\",\"legendgroup\":\"20\",\"line\":{\"color\":\"#636efa\",\"dash\":\"solid\"},\"marker\":{\"symbol\":\"circle\"},\"mode\":\"lines\",\"name\":\"20\",\"showlegend\":true,\"x\":[0,1,2,3,4,5,6,7,8,9,10,11,12,13,14,15,16,17,18,19,20,21,22,23,24,25,26,27,28,29,30,31,32,33,34,35,36,37,38,39,40],\"xaxis\":\"x\",\"y\":[0.12370000034570694,0.7373999953269958,0.7505999803543091,0.7552000284194946,0.7587000131607056,0.7613000273704529,0.762499988079071,0.762499988079071,0.762499988079071,0.7623000144958496,0.7623999714851379,0.7620000243186951,0.7626000046730042,0.7631000280380249,0.7634000182151794,0.7631000280380249,0.7627999782562256,0.7633000016212463,0.7633000016212463,0.7633000016212463,0.7635999917984009,null,null,null,null,null,null,null,null,null,null,null,null,null,null,null,null,null,null,null,null],\"yaxis\":\"y\",\"type\":\"scattergl\"},{\"hovertemplate\":\"Experiment=21\\u003cbr\\u003eEpochs=%{x}\\u003cbr\\u003eAccuracy [%]=%{y}\\u003cextra\\u003e\\u003c\\u002fextra\\u003e\",\"legendgroup\":\"21\",\"line\":{\"color\":\"#EF553B\",\"dash\":\"solid\"},\"marker\":{\"symbol\":\"circle\"},\"mode\":\"lines\",\"name\":\"21\",\"showlegend\":true,\"x\":[0,1,2,3,4,5,6,7,8,9,10,11,12,13,14,15,16,17,18,19,20,21,22,23,24,25,26,27,28,29,30,31,32,33,34,35,36,37,38,39,40],\"xaxis\":\"x\",\"y\":[0.10239999741315842,0.8091999888420105,0.8996999859809875,0.9294000267982483,0.9333999752998352,0.9383999705314636,0.9383999705314636,0.9394999742507935,0.9412999749183655,0.9422000050544739,0.9419000148773193,0.9435999989509583,0.9430999755859375,0.9437000155448914,0.944100022315979,0.9440000057220459,0.944100022315979,0.9442999958992004,0.9437999725341797,0.9434000253677368,0.9434999823570251,0.9441999793052673,0.9438999891281128,0.9437000155448914,0.9437000155448914,0.9437999725341797,0.944599986076355,0.9448000192642212,0.9447000026702881,0.9444000124931335,0.9445000290870667,null,null,null,null,null,null,null,null,null,null],\"yaxis\":\"y\",\"type\":\"scattergl\"},{\"hovertemplate\":\"Experiment=22\\u003cbr\\u003eEpochs=%{x}\\u003cbr\\u003eAccuracy [%]=%{y}\\u003cextra\\u003e\\u003c\\u002fextra\\u003e\",\"legendgroup\":\"22\",\"line\":{\"color\":\"#00cc96\",\"dash\":\"solid\"},\"marker\":{\"symbol\":\"circle\"},\"mode\":\"lines\",\"name\":\"22\",\"showlegend\":true,\"x\":[0,1,2,3,4,5,6,7,8,9,10,11,12,13,14,15,16,17,18,19,20,21,22,23,24,25,26,27,28,29,30,31,32,33,34,35,36,37,38,39,40],\"xaxis\":\"x\",\"y\":[0.08990000188350677,0.9099000096321106,0.9276000261306763,0.9319000244140625,0.9361000061035156,0.940500020980835,0.941100001335144,0.942799985408783,0.944100022315979,0.9440000057220459,0.9451000094413757,0.9466999769210815,0.9480000138282776,0.9484000205993652,0.9474999904632568,0.9477999806404114,0.9480999708175659,0.947700023651123,0.9484999775886536,0.9492999911308289,0.9487000107765198,null,null,null,null,null,null,null,null,null,null,null,null,null,null,null,null,null,null,null,null],\"yaxis\":\"y\",\"type\":\"scattergl\"},{\"hovertemplate\":\"Experiment=23\\u003cbr\\u003eEpochs=%{x}\\u003cbr\\u003eAccuracy [%]=%{y}\\u003cextra\\u003e\\u003c\\u002fextra\\u003e\",\"legendgroup\":\"23\",\"line\":{\"color\":\"#ab63fa\",\"dash\":\"solid\"},\"marker\":{\"symbol\":\"circle\"},\"mode\":\"lines\",\"name\":\"23\",\"showlegend\":true,\"x\":[0,1,2,3,4,5,6,7,8,9,10,11,12,13,14,15,16,17,18,19,20,21,22,23,24,25,26,27,28,29,30,31,32,33,34,35,36,37,38,39,40],\"xaxis\":\"x\",\"y\":[0.10450000315904617,0.9078999757766724,0.9297999739646912,0.9355000257492065,0.9397000074386597,0.9422000050544739,0.9426000118255615,0.944599986076355,0.9455000162124634,0.9459999799728394,0.9466999769210815,0.9462000131607056,0.9467999935150146,0.9470000267028809,0.947700023651123,0.9484000205993652,0.948199987411499,0.9473000168800354,0.9474999904632568,0.9472000002861023,0.9476000070571899,0.9478999972343445,0.9483000040054321,0.948199987411499,0.9480000138282776,0.9480000138282776,0.9480000138282776,0.9487000107765198,0.9488999843597412,0.9480999708175659,0.948199987411499,null,null,null,null,null,null,null,null,null,null],\"yaxis\":\"y\",\"type\":\"scattergl\"},{\"hovertemplate\":\"Experiment=24\\u003cbr\\u003eEpochs=%{x}\\u003cbr\\u003eAccuracy [%]=%{y}\\u003cextra\\u003e\\u003c\\u002fextra\\u003e\",\"legendgroup\":\"24\",\"line\":{\"color\":\"#FFA15A\",\"dash\":\"solid\"},\"marker\":{\"symbol\":\"circle\"},\"mode\":\"lines\",\"name\":\"24\",\"showlegend\":true,\"x\":[0,1,2,3,4,5,6,7,8,9,10,11,12,13,14,15,16,17,18,19,20,21,22,23,24,25,26,27,28,29,30,31,32,33,34,35,36,37,38,39,40],\"xaxis\":\"x\",\"y\":[0.12929999828338623,0.14249999821186066,0.15889999270439148,0.54339998960495,0.9379000067710876,0.9444000124931335,0.9460999965667725,0.948199987411499,0.9498000144958496,0.9503999948501587,0.9502999782562256,0.9513000249862671,0.9513999819755554,0.9513999819755554,0.9509999752044678,0.9521999955177307,0.9523000121116638,0.9524999856948853,0.9531000256538391,0.9531000256538391,0.953000009059906,null,null,null,null,null,null,null,null,null,null,null,null,null,null,null,null,null,null,null,null],\"yaxis\":\"y\",\"type\":\"scattergl\"},{\"hovertemplate\":\"Experiment=25\\u003cbr\\u003eEpochs=%{x}\\u003cbr\\u003eAccuracy [%]=%{y}\\u003cextra\\u003e\\u003c\\u002fextra\\u003e\",\"legendgroup\":\"25\",\"line\":{\"color\":\"#19d3f3\",\"dash\":\"solid\"},\"marker\":{\"symbol\":\"circle\"},\"mode\":\"lines\",\"name\":\"25\",\"showlegend\":true,\"x\":[0,1,2,3,4,5,6,7,8,9,10,11,12,13,14,15,16,17,18,19,20,21,22,23,24,25,26,27,28,29,30,31,32,33,34,35,36,37,38,39,40],\"xaxis\":\"x\",\"y\":[0.08209999650716782,0.9101999998092651,0.9319999814033508,0.9398000240325928,0.9415000081062317,0.9415000081062317,0.944100022315979,0.9452000260353088,0.9466000199317932,0.9470999836921692,0.9484000205993652,0.9483000040054321,0.9473999738693237,0.947700023651123,0.947700023651123,0.947700023651123,0.9474999904632568,0.9476000070571899,0.9467999935150146,0.9469000101089478,0.9473000168800354,0.9480999708175659,0.9474999904632568,0.9487000107765198,0.9483000040054321,0.9487000107765198,0.9488999843597412,0.9488999843597412,0.949400007724762,0.9487000107765198,0.9488000273704529,null,null,null,null,null,null,null,null,null,null],\"yaxis\":\"y\",\"type\":\"scattergl\"},{\"hovertemplate\":\"Experiment=26\\u003cbr\\u003eEpochs=%{x}\\u003cbr\\u003eAccuracy [%]=%{y}\\u003cextra\\u003e\\u003c\\u002fextra\\u003e\",\"legendgroup\":\"26\",\"line\":{\"color\":\"#FF6692\",\"dash\":\"solid\"},\"marker\":{\"symbol\":\"circle\"},\"mode\":\"lines\",\"name\":\"26\",\"showlegend\":true,\"x\":[0,1,2,3,4,5,6,7,8,9,10,11,12,13,14,15,16,17,18,19,20,21,22,23,24,25,26,27,28,29,30,31,32,33,34,35,36,37,38,39,40],\"xaxis\":\"x\",\"y\":[0.12999999523162842,0.13609999418258667,0.9211000204086304,0.9330000281333923,0.9419999718666077,0.9427000284194946,0.944100022315979,0.9435999989509583,0.9465000033378601,0.9477999806404114,0.9462000131607056,0.9476000070571899,0.947700023651123,0.948199987411499,0.9470999836921692,0.9472000002861023,0.9470999836921692,0.9480000138282776,0.9473999738693237,0.9476000070571899,0.9488999843597412,null,null,null,null,null,null,null,null,null,null,null,null,null,null,null,null,null,null,null,null],\"yaxis\":\"y\",\"type\":\"scattergl\"},{\"hovertemplate\":\"Experiment=27\\u003cbr\\u003eEpochs=%{x}\\u003cbr\\u003eAccuracy [%]=%{y}\\u003cextra\\u003e\\u003c\\u002fextra\\u003e\",\"legendgroup\":\"27\",\"line\":{\"color\":\"#B6E880\",\"dash\":\"solid\"},\"marker\":{\"symbol\":\"circle\"},\"mode\":\"lines\",\"name\":\"27\",\"showlegend\":true,\"x\":[0,1,2,3,4,5,6,7,8,9,10,11,12,13,14,15,16,17,18,19,20,21,22,23,24,25,26,27,28,29,30,31,32,33,34,35,36,37,38,39,40],\"xaxis\":\"x\",\"y\":[0.1023000031709671,0.6819999814033508,0.8098999857902527,0.8950999975204468,0.9271000027656555,0.9340000152587891,0.9337999820709229,0.9362000226974487,0.9351000189781189,0.9380999803543091,0.9383999705314636,0.9383999705314636,0.9387999773025513,0.9387999773025513,0.9386000037193298,0.9401000142097473,0.9391000270843506,0.9390000104904175,0.9416000247001648,0.9420999884605408,0.940500020980835,null,null,null,null,null,null,null,null,null,null,null,null,null,null,null,null,null,null,null,null],\"yaxis\":\"y\",\"type\":\"scattergl\"},{\"hovertemplate\":\"Experiment=28\\u003cbr\\u003eEpochs=%{x}\\u003cbr\\u003eAccuracy [%]=%{y}\\u003cextra\\u003e\\u003c\\u002fextra\\u003e\",\"legendgroup\":\"28\",\"line\":{\"color\":\"#FF97FF\",\"dash\":\"solid\"},\"marker\":{\"symbol\":\"circle\"},\"mode\":\"lines\",\"name\":\"28\",\"showlegend\":true,\"x\":[0,1,2,3,4,5,6,7,8,9,10,11,12,13,14,15,16,17,18,19,20,21,22,23,24,25,26,27,28,29,30,31,32,33,34,35,36,37,38,39,40],\"xaxis\":\"x\",\"y\":[0.09939999878406525,0.8299000263214111,0.8514999747276306,0.8555999994277954,0.8586999773979187,0.8600999712944031,0.8623999953269958,0.8657000064849854,0.8651999831199646,0.8689000010490417,0.8698999881744385,0.868399977684021,0.8671000003814697,0.8676000237464905,0.8684999942779541,0.8815000057220459,0.9397000074386597,0.9429000020027161,0.9424999952316284,0.9445000290870667,0.9458000063896179,null,null,null,null,null,null,null,null,null,null,null,null,null,null,null,null,null,null,null,null],\"yaxis\":\"y\",\"type\":\"scattergl\"},{\"hovertemplate\":\"Experiment=29\\u003cbr\\u003eEpochs=%{x}\\u003cbr\\u003eAccuracy [%]=%{y}\\u003cextra\\u003e\\u003c\\u002fextra\\u003e\",\"legendgroup\":\"29\",\"line\":{\"color\":\"#FECB52\",\"dash\":\"solid\"},\"marker\":{\"symbol\":\"circle\"},\"mode\":\"lines\",\"name\":\"29\",\"showlegend\":true,\"x\":[0,1,2,3,4,5,6,7,8,9,10,11,12,13,14,15,16,17,18,19,20,21,22,23,24,25,26,27,28,29,30,31,32,33,34,35,36,37,38,39,40],\"xaxis\":\"x\",\"y\":[0.10010000318288803,0.9049999713897705,0.9210000038146973,0.9305999875068665,0.9344000220298767,0.9334999918937683,0.9368000030517578,0.9406999945640564,0.9417999982833862,0.9415000081062317,0.9423999786376953,0.9429000020027161,0.9420999884605408,0.9427000284194946,0.9431999921798706,0.9430999755859375,0.9440000057220459,0.9430000185966492,0.942799985408783,0.9440000057220459,0.9430000185966492,null,null,null,null,null,null,null,null,null,null,null,null,null,null,null,null,null,null,null,null],\"yaxis\":\"y\",\"type\":\"scattergl\"},{\"hovertemplate\":\"Experiment=30\\u003cbr\\u003eEpochs=%{x}\\u003cbr\\u003eAccuracy [%]=%{y}\\u003cextra\\u003e\\u003c\\u002fextra\\u003e\",\"legendgroup\":\"30\",\"line\":{\"color\":\"#636efa\",\"dash\":\"solid\"},\"marker\":{\"symbol\":\"circle\"},\"mode\":\"lines\",\"name\":\"30\",\"showlegend\":true,\"x\":[0,1,2,3,4,5,6,7,8,9,10,11,12,13,14,15,16,17,18,19,20,21,22,23,24,25,26,27,28,29,30,31,32,33,34,35,36,37,38,39,40],\"xaxis\":\"x\",\"y\":[0.09839999675750732,0.10419999808073044,0.17560000717639923,0.9344000220298767,0.9387999773025513,0.9424999952316284,0.9434999823570251,0.9466999769210815,0.948199987411499,0.9510999917984009,0.9513000249862671,0.9523000121116638,0.9505000114440918,0.9523000121116638,0.9528999924659729,0.9509999752044678,0.9519000053405762,0.9531000256538391,0.9539999961853027,0.9552000164985657,0.9549999833106995,null,null,null,null,null,null,null,null,null,null,null,null,null,null,null,null,null,null,null,null],\"yaxis\":\"y\",\"type\":\"scattergl\"},{\"hovertemplate\":\"Experiment=31\\u003cbr\\u003eEpochs=%{x}\\u003cbr\\u003eAccuracy [%]=%{y}\\u003cextra\\u003e\\u003c\\u002fextra\\u003e\",\"legendgroup\":\"31\",\"line\":{\"color\":\"#EF553B\",\"dash\":\"solid\"},\"marker\":{\"symbol\":\"circle\"},\"mode\":\"lines\",\"name\":\"31\",\"showlegend\":true,\"x\":[0,1,2,3,4,5,6,7,8,9,10,11,12,13,14,15,16,17,18,19,20,21,22,23,24,25,26,27,28,29,30,31,32,33,34,35,36,37,38,39,40],\"xaxis\":\"x\",\"y\":[0.10199999809265137,0.8181999921798706,0.9217000007629395,0.932200014591217,0.9352999925613403,0.939300000667572,0.9399999976158142,0.9412999749183655,0.9412000179290771,0.9430000185966492,0.9419999718666077,0.9404000043869019,0.9415000081062317,0.9434999823570251,0.9434000253677368,0.9440000057220459,0.9424999952316284,0.9429000020027161,0.9437000155448914,0.9427000284194946,0.9435999989509583,null,null,null,null,null,null,null,null,null,null,null,null,null,null,null,null,null,null,null,null],\"yaxis\":\"y\",\"type\":\"scattergl\"},{\"hovertemplate\":\"Experiment=32\\u003cbr\\u003eEpochs=%{x}\\u003cbr\\u003eAccuracy [%]=%{y}\\u003cextra\\u003e\\u003c\\u002fextra\\u003e\",\"legendgroup\":\"32\",\"line\":{\"color\":\"#00cc96\",\"dash\":\"solid\"},\"marker\":{\"symbol\":\"circle\"},\"mode\":\"lines\",\"name\":\"32\",\"showlegend\":true,\"x\":[0,1,2,3,4,5,6,7,8,9,10,11,12,13,14,15,16,17,18,19,20,21,22,23,24,25,26,27,28,29,30,31,32,33,34,35,36,37,38,39,40],\"xaxis\":\"x\",\"y\":[0.09300000220537186,0.9088000059127808,0.929099977016449,0.9358000159263611,0.9409999847412109,0.9435999989509583,0.9484000205993652,0.9469000101089478,0.9466000199317932,0.9456999897956848,0.9498000144958496,0.9527000188827515,0.951200008392334,0.9524999856948853,0.95169997215271,0.9524000287055969,0.9520999789237976,0.9498000144958496,0.9524000287055969,0.9513999819755554,0.9502000212669373,null,null,null,null,null,null,null,null,null,null,null,null,null,null,null,null,null,null,null,null],\"yaxis\":\"y\",\"type\":\"scattergl\"},{\"hovertemplate\":\"Experiment=33\\u003cbr\\u003eEpochs=%{x}\\u003cbr\\u003eAccuracy [%]=%{y}\\u003cextra\\u003e\\u003c\\u002fextra\\u003e\",\"legendgroup\":\"33\",\"line\":{\"color\":\"#ab63fa\",\"dash\":\"solid\"},\"marker\":{\"symbol\":\"circle\"},\"mode\":\"lines\",\"name\":\"33\",\"showlegend\":true,\"x\":[0,1,2,3,4,5,6,7,8,9,10,11,12,13,14,15,16,17,18,19,20,21,22,23,24,25,26,27,28,29,30,31,32,33,34,35,36,37,38,39,40],\"xaxis\":\"x\",\"y\":[0.10119999945163727,0.8866000175476074,0.9203000068664551,0.9275000095367432,0.9347000122070312,0.9359999895095825,0.9372000098228455,0.9376999735832214,0.9401999711990356,0.9419000148773193,0.9423999786376953,0.9419000148773193,0.9430000185966492,0.9423999786376953,0.9426000118255615,0.9419000148773193,0.9445000290870667,0.9437000155448914,0.9452000260353088,0.9449999928474426,0.9453999996185303,null,null,null,null,null,null,null,null,null,null,null,null,null,null,null,null,null,null,null,null],\"yaxis\":\"y\",\"type\":\"scattergl\"},{\"hovertemplate\":\"Experiment=34\\u003cbr\\u003eEpochs=%{x}\\u003cbr\\u003eAccuracy [%]=%{y}\\u003cextra\\u003e\\u003c\\u002fextra\\u003e\",\"legendgroup\":\"34\",\"line\":{\"color\":\"#FFA15A\",\"dash\":\"solid\"},\"marker\":{\"symbol\":\"circle\"},\"mode\":\"lines\",\"name\":\"34\",\"showlegend\":true,\"x\":[0,1,2,3,4,5,6,7,8,9,10,11,12,13,14,15,16,17,18,19,20,21,22,23,24,25,26,27,28,29,30,31,32,33,34,35,36,37,38,39,40],\"xaxis\":\"x\",\"y\":[0.06830000132322311,0.9110000133514404,0.9271000027656555,0.9336000084877014,0.9416999816894531,0.9460999965667725,0.9438999891281128,0.9453999996185303,0.9474999904632568,0.9495000243186951,0.9473000168800354,0.9483000040054321,0.949999988079071,0.9509999752044678,0.949400007724762,0.9477999806404114,0.9472000002861023,0.9495000243186951,0.9491999745368958,0.949999988079071,0.9502000212669373,null,null,null,null,null,null,null,null,null,null,null,null,null,null,null,null,null,null,null,null],\"yaxis\":\"y\",\"type\":\"scattergl\"},{\"hovertemplate\":\"Experiment=35\\u003cbr\\u003eEpochs=%{x}\\u003cbr\\u003eAccuracy [%]=%{y}\\u003cextra\\u003e\\u003c\\u002fextra\\u003e\",\"legendgroup\":\"35\",\"line\":{\"color\":\"#19d3f3\",\"dash\":\"solid\"},\"marker\":{\"symbol\":\"circle\"},\"mode\":\"lines\",\"name\":\"35\",\"showlegend\":true,\"x\":[0,1,2,3,4,5,6,7,8,9,10,11,12,13,14,15,16,17,18,19,20,21,22,23,24,25,26,27,28,29,30,31,32,33,34,35,36,37,38,39,40],\"xaxis\":\"x\",\"y\":[0.09269999712705612,0.8971999883651733,0.9229000210762024,0.9323999881744385,0.9341999888420105,0.9380999803543091,0.9406999945640564,0.9422000050544739,0.9417999982833862,0.9402999877929688,0.9449999928474426,0.9433000087738037,0.944599986076355,0.9466999769210815,0.9448999762535095,0.9467999935150146,0.946399986743927,0.9449999928474426,0.944599986076355,0.9442999958992004,0.9459999799728394,null,null,null,null,null,null,null,null,null,null,null,null,null,null,null,null,null,null,null,null],\"yaxis\":\"y\",\"type\":\"scattergl\"},{\"hovertemplate\":\"Experiment=36\\u003cbr\\u003eEpochs=%{x}\\u003cbr\\u003eAccuracy [%]=%{y}\\u003cextra\\u003e\\u003c\\u002fextra\\u003e\",\"legendgroup\":\"36\",\"line\":{\"color\":\"#FF6692\",\"dash\":\"solid\"},\"marker\":{\"symbol\":\"circle\"},\"mode\":\"lines\",\"name\":\"36\",\"showlegend\":true,\"x\":[0,1,2,3,4,5,6,7,8,9,10,11,12,13,14,15,16,17,18,19,20,21,22,23,24,25,26,27,28,29,30,31,32,33,34,35,36,37,38,39,40],\"xaxis\":\"x\",\"y\":[0.09120000153779984,0.902899980545044,0.9261999726295471,0.9358000159263611,0.9401999711990356,0.9426000118255615,0.9434999823570251,0.9441999793052673,0.9451000094413757,0.9474999904632568,0.9472000002861023,0.9469000101089478,0.9469000101089478,0.9466999769210815,0.9466999769210815,0.9466999769210815,0.9467999935150146,0.9459999799728394,0.9463000297546387,0.9455000162124634,0.9458000063896179,null,null,null,null,null,null,null,null,null,null,null,null,null,null,null,null,null,null,null,null],\"yaxis\":\"y\",\"type\":\"scattergl\"},{\"hovertemplate\":\"Experiment=37\\u003cbr\\u003eEpochs=%{x}\\u003cbr\\u003eAccuracy [%]=%{y}\\u003cextra\\u003e\\u003c\\u002fextra\\u003e\",\"legendgroup\":\"37\",\"line\":{\"color\":\"#B6E880\",\"dash\":\"solid\"},\"marker\":{\"symbol\":\"circle\"},\"mode\":\"lines\",\"name\":\"37\",\"showlegend\":true,\"x\":[0,1,2,3,4,5,6,7,8,9,10,11,12,13,14,15,16,17,18,19,20,21,22,23,24,25,26,27,28,29,30,31,32,33,34,35,36,37,38,39,40],\"xaxis\":\"x\",\"y\":[0.08429999649524689,0.7397000193595886,0.7577000260353088,0.7601000070571899,0.7678999900817871,0.8440999984741211,0.9211000204086304,0.9315000176429749,0.9354000091552734,0.9381999969482422,0.9366999864578247,0.9369000196456909,0.9401999711990356,0.9398999810218811,0.9406999945640564,0.941100001335144,0.9417999982833862,0.940500020980835,0.9412999749183655,0.9405999779701233,0.9416999816894531,null,null,null,null,null,null,null,null,null,null,null,null,null,null,null,null,null,null,null,null],\"yaxis\":\"y\",\"type\":\"scattergl\"},{\"hovertemplate\":\"Experiment=38\\u003cbr\\u003eEpochs=%{x}\\u003cbr\\u003eAccuracy [%]=%{y}\\u003cextra\\u003e\\u003c\\u002fextra\\u003e\",\"legendgroup\":\"38\",\"line\":{\"color\":\"#FF97FF\",\"dash\":\"solid\"},\"marker\":{\"symbol\":\"circle\"},\"mode\":\"lines\",\"name\":\"38\",\"showlegend\":true,\"x\":[0,1,2,3,4,5,6,7,8,9,10,11,12,13,14,15,16,17,18,19,20,21,22,23,24,25,26,27,28,29,30,31,32,33,34,35,36,37,38,39,40],\"xaxis\":\"x\",\"y\":[0.10320000350475311,0.10350000113248825,0.10360000282526016,0.10329999774694443,0.10339999943971634,0.10339999943971634,0.10360000282526016,0.10360000282526016,0.10419999808073044,0.10480000078678131,0.10480000078678131,0.10480000078678131,0.10499999672174454,0.10530000180006027,0.10530000180006027,0.10540000349283218,0.1054999977350235,0.1054999977350235,0.10559999942779541,0.10599999874830246,0.10610000044107437,null,null,null,null,null,null,null,null,null,null,null,null,null,null,null,null,null,null,null,null],\"yaxis\":\"y\",\"type\":\"scattergl\"},{\"hovertemplate\":\"Experiment=39\\u003cbr\\u003eEpochs=%{x}\\u003cbr\\u003eAccuracy [%]=%{y}\\u003cextra\\u003e\\u003c\\u002fextra\\u003e\",\"legendgroup\":\"39\",\"line\":{\"color\":\"#FECB52\",\"dash\":\"solid\"},\"marker\":{\"symbol\":\"circle\"},\"mode\":\"lines\",\"name\":\"39\",\"showlegend\":true,\"x\":[0,1,2,3,4,5,6,7,8,9,10,11,12,13,14,15,16,17,18,19,20,21,22,23,24,25,26,27,28,29,30,31,32,33,34,35,36,37,38,39,40],\"xaxis\":\"x\",\"y\":[0.052799999713897705,0.8884999752044678,0.9179999828338623,0.930400013923645,0.9355999827384949,0.9355999827384949,0.9399999976158142,0.9406999945640564,0.9416000247001648,0.9416000247001648,0.9431999921798706,0.9445000290870667,0.9445000290870667,0.944100022315979,0.9437999725341797,0.9437000155448914,0.9447000026702881,0.9448000192642212,0.9458000063896179,0.9453999996185303,0.9460999965667725,null,null,null,null,null,null,null,null,null,null,null,null,null,null,null,null,null,null,null,null],\"yaxis\":\"y\",\"type\":\"scattergl\"},{\"hovertemplate\":\"Experiment=40\\u003cbr\\u003eEpochs=%{x}\\u003cbr\\u003eAccuracy [%]=%{y}\\u003cextra\\u003e\\u003c\\u002fextra\\u003e\",\"legendgroup\":\"40\",\"line\":{\"color\":\"#636efa\",\"dash\":\"solid\"},\"marker\":{\"symbol\":\"circle\"},\"mode\":\"lines\",\"name\":\"40\",\"showlegend\":true,\"x\":[0,1,2,3,4,5,6,7,8,9,10,11,12,13,14,15,16,17,18,19,20,21,22,23,24,25,26,27,28,29,30,31,32,33,34,35,36,37,38,39,40],\"xaxis\":\"x\",\"y\":[0.1096000000834465,0.8163999915122986,0.8992000222206116,0.9341999888420105,0.9402999877929688,0.9405999779701233,0.9430999755859375,0.9444000124931335,0.945900022983551,0.945900022983551,0.9460999965667725,0.9462000131607056,0.9459999799728394,0.9466999769210815,0.9472000002861023,0.9470999836921692,0.9478999972343445,0.948199987411499,0.9484999775886536,0.9480999708175659,0.9487000107765198,null,null,null,null,null,null,null,null,null,null,null,null,null,null,null,null,null,null,null,null],\"yaxis\":\"y\",\"type\":\"scattergl\"},{\"hovertemplate\":\"Experiment=41\\u003cbr\\u003eEpochs=%{x}\\u003cbr\\u003eAccuracy [%]=%{y}\\u003cextra\\u003e\\u003c\\u002fextra\\u003e\",\"legendgroup\":\"41\",\"line\":{\"color\":\"#EF553B\",\"dash\":\"solid\"},\"marker\":{\"symbol\":\"circle\"},\"mode\":\"lines\",\"name\":\"41\",\"showlegend\":true,\"x\":[0,1,2,3,4,5,6,7,8,9,10,11,12,13,14,15,16,17,18,19,20,21,22,23,24,25,26,27,28,29,30,31,32,33,34,35,36,37,38,39,40],\"xaxis\":\"x\",\"y\":[0.10360000282526016,0.15449999272823334,0.6226000189781189,0.6984999775886536,0.732200026512146,0.7369999885559082,0.7397000193595886,0.7404000163078308,0.7419999837875366,0.7433000206947327,0.7436000108718872,0.7415000200271606,0.7447999715805054,0.7470999956130981,0.7480000257492065,0.8203999996185303,0.8278999924659729,0.8310999870300293,0.8342000246047974,0.8327000141143799,0.8348000049591064,null,null,null,null,null,null,null,null,null,null,null,null,null,null,null,null,null,null,null,null],\"yaxis\":\"y\",\"type\":\"scattergl\"},{\"hovertemplate\":\"Experiment=42\\u003cbr\\u003eEpochs=%{x}\\u003cbr\\u003eAccuracy [%]=%{y}\\u003cextra\\u003e\\u003c\\u002fextra\\u003e\",\"legendgroup\":\"42\",\"line\":{\"color\":\"#00cc96\",\"dash\":\"solid\"},\"marker\":{\"symbol\":\"circle\"},\"mode\":\"lines\",\"name\":\"42\",\"showlegend\":true,\"x\":[0,1,2,3,4,5,6,7,8,9,10,11,12,13,14,15,16,17,18,19,20,21,22,23,24,25,26,27,28,29,30,31,32,33,34,35,36,37,38,39,40],\"xaxis\":\"x\",\"y\":[0.0908999964594841,0.8115000128746033,0.8378000259399414,0.8464000225067139,0.9424999952316284,0.9466000199317932,0.9473000168800354,0.9476000070571899,0.9491000175476074,0.9488999843597412,0.9509000182151794,0.9510999917984009,0.9524000287055969,0.9523000121116638,0.9514999985694885,0.9517999887466431,0.9521999955177307,0.9527000188827515,0.9519000053405762,0.953000009059906,0.9527999758720398,null,null,null,null,null,null,null,null,null,null,null,null,null,null,null,null,null,null,null,null],\"yaxis\":\"y\",\"type\":\"scattergl\"},{\"hovertemplate\":\"Experiment=43\\u003cbr\\u003eEpochs=%{x}\\u003cbr\\u003eAccuracy [%]=%{y}\\u003cextra\\u003e\\u003c\\u002fextra\\u003e\",\"legendgroup\":\"43\",\"line\":{\"color\":\"#ab63fa\",\"dash\":\"solid\"},\"marker\":{\"symbol\":\"circle\"},\"mode\":\"lines\",\"name\":\"43\",\"showlegend\":true,\"x\":[0,1,2,3,4,5,6,7,8,9,10,11,12,13,14,15,16,17,18,19,20,21,22,23,24,25,26,27,28,29,30,31,32,33,34,35,36,37,38,39,40],\"xaxis\":\"x\",\"y\":[0.06750000268220901,0.8614000082015991,0.9139999747276306,0.9273999929428101,0.9330999851226807,0.9351000189781189,0.939300000667572,0.9397000074386597,0.9426000118255615,0.9441999793052673,0.9434999823570251,0.9433000087738037,0.9437000155448914,0.9460999965667725,0.9469000101089478,0.9466999769210815,0.9477999806404114,0.9459999799728394,0.946399986743927,0.9466999769210815,0.9455000162124634,null,null,null,null,null,null,null,null,null,null,null,null,null,null,null,null,null,null,null,null],\"yaxis\":\"y\",\"type\":\"scattergl\"},{\"hovertemplate\":\"Experiment=44\\u003cbr\\u003eEpochs=%{x}\\u003cbr\\u003eAccuracy [%]=%{y}\\u003cextra\\u003e\\u003c\\u002fextra\\u003e\",\"legendgroup\":\"44\",\"line\":{\"color\":\"#FFA15A\",\"dash\":\"solid\"},\"marker\":{\"symbol\":\"circle\"},\"mode\":\"lines\",\"name\":\"44\",\"showlegend\":true,\"x\":[0,1,2,3,4,5,6,7,8,9,10,11,12,13,14,15,16,17,18,19,20,21,22,23,24,25,26,27,28,29,30,31,32,33,34,35,36,37,38,39,40],\"xaxis\":\"x\",\"y\":[0.11829999834299088,0.6815000176429749,0.9316999912261963,0.9388999938964844,0.9445000290870667,0.9480999708175659,0.9477999806404114,0.949400007724762,0.9514999985694885,0.9498999714851379,0.9506999850273132,0.9517999887466431,0.953000009059906,0.9528999924659729,0.9520000219345093,0.9524000287055969,0.9531000256538391,0.9523000121116638,0.9524999856948853,0.9523000121116638,0.9520999789237976,null,null,null,null,null,null,null,null,null,null,null,null,null,null,null,null,null,null,null,null],\"yaxis\":\"y\",\"type\":\"scattergl\"},{\"hovertemplate\":\"Experiment=45\\u003cbr\\u003eEpochs=%{x}\\u003cbr\\u003eAccuracy [%]=%{y}\\u003cextra\\u003e\\u003c\\u002fextra\\u003e\",\"legendgroup\":\"45\",\"line\":{\"color\":\"#19d3f3\",\"dash\":\"solid\"},\"marker\":{\"symbol\":\"circle\"},\"mode\":\"lines\",\"name\":\"45\",\"showlegend\":true,\"x\":[0,1,2,3,4,5,6,7,8,9,10,11,12,13,14,15,16,17,18,19,20,21,22,23,24,25,26,27,28,29,30,31,32,33,34,35,36,37,38,39,40],\"xaxis\":\"x\",\"y\":[0.10890000313520432,0.7882000207901001,0.9140999913215637,0.9246000051498413,0.9316999912261963,0.9406999945640564,0.9386000037193298,0.942300021648407,0.9412999749183655,0.9401999711990356,0.9394000172615051,0.9419999718666077,0.9429000020027161,0.9444000124931335,0.9442999958992004,0.9445000290870667,0.9470999836921692,0.9455000162124634,0.9465000033378601,0.945900022983551,0.9455000162124634,null,null,null,null,null,null,null,null,null,null,null,null,null,null,null,null,null,null,null,null],\"yaxis\":\"y\",\"type\":\"scattergl\"},{\"hovertemplate\":\"Experiment=46\\u003cbr\\u003eEpochs=%{x}\\u003cbr\\u003eAccuracy [%]=%{y}\\u003cextra\\u003e\\u003c\\u002fextra\\u003e\",\"legendgroup\":\"46\",\"line\":{\"color\":\"#FF6692\",\"dash\":\"solid\"},\"marker\":{\"symbol\":\"circle\"},\"mode\":\"lines\",\"name\":\"46\",\"showlegend\":true,\"x\":[0,1,2,3,4,5,6,7,8,9,10,11,12,13,14,15,16,17,18,19,20,21,22,23,24,25,26,27,28,29,30,31,32,33,34,35,36,37,38,39,40],\"xaxis\":\"x\",\"y\":[0.09629999846220016,0.909500002861023,0.9265999794006348,0.9354000091552734,0.9416999816894531,0.9430000185966492,0.9453999996185303,0.9473000168800354,0.9478999972343445,0.949999988079071,0.9514999985694885,0.9503999948501587,0.951200008392334,0.9495999813079834,0.9492999911308289,0.9509999752044678,0.9516000151634216,0.9513000249862671,0.9519000053405762,0.9516000151634216,0.9524999856948853,null,null,null,null,null,null,null,null,null,null,null,null,null,null,null,null,null,null,null,null],\"yaxis\":\"y\",\"type\":\"scattergl\"},{\"hovertemplate\":\"Experiment=47\\u003cbr\\u003eEpochs=%{x}\\u003cbr\\u003eAccuracy [%]=%{y}\\u003cextra\\u003e\\u003c\\u002fextra\\u003e\",\"legendgroup\":\"47\",\"line\":{\"color\":\"#B6E880\",\"dash\":\"solid\"},\"marker\":{\"symbol\":\"circle\"},\"mode\":\"lines\",\"name\":\"47\",\"showlegend\":true,\"x\":[0,1,2,3,4,5,6,7,8,9,10,11,12,13,14,15,16,17,18,19,20,21,22,23,24,25,26,27,28,29,30,31,32,33,34,35,36,37,38,39,40],\"xaxis\":\"x\",\"y\":[0.09629999846220016,0.8960000276565552,0.9239000082015991,0.9337999820709229,0.9379000067710876,0.9430000185966492,0.9437000155448914,0.944599986076355,0.9456999897956848,0.9488000273704529,0.9488000273704529,0.9501000046730042,0.9495999813079834,0.9470999836921692,0.9492999911308289,0.9508000016212463,0.9509999752044678,0.949400007724762,0.9509999752044678,0.9508000016212463,0.9506999850273132,null,null,null,null,null,null,null,null,null,null,null,null,null,null,null,null,null,null,null,null],\"yaxis\":\"y\",\"type\":\"scattergl\"},{\"hovertemplate\":\"Experiment=48\\u003cbr\\u003eEpochs=%{x}\\u003cbr\\u003eAccuracy [%]=%{y}\\u003cextra\\u003e\\u003c\\u002fextra\\u003e\",\"legendgroup\":\"48\",\"line\":{\"color\":\"#FF97FF\",\"dash\":\"solid\"},\"marker\":{\"symbol\":\"circle\"},\"mode\":\"lines\",\"name\":\"48\",\"showlegend\":true,\"x\":[0,1,2,3,4,5,6,7,8,9,10,11,12,13,14,15,16,17,18,19,20,21,22,23,24,25,26,27,28,29,30,31,32,33,34,35,36,37,38,39,40],\"xaxis\":\"x\",\"y\":[0.125900000333786,0.8967000246047974,0.9204999804496765,0.9327999949455261,0.9384999871253967,0.9394999742507935,0.940500020980835,0.9419000148773193,0.9420999884605408,0.9420999884605408,0.9434000253677368,0.9449999928474426,0.9455999732017517,0.9435999989509583,0.9469000101089478,0.9465000033378601,0.9459999799728394,0.9465000033378601,0.9480000138282776,0.9498000144958496,0.9491000175476074,null,null,null,null,null,null,null,null,null,null,null,null,null,null,null,null,null,null,null,null],\"yaxis\":\"y\",\"type\":\"scattergl\"},{\"hovertemplate\":\"Experiment=49\\u003cbr\\u003eEpochs=%{x}\\u003cbr\\u003eAccuracy [%]=%{y}\\u003cextra\\u003e\\u003c\\u002fextra\\u003e\",\"legendgroup\":\"49\",\"line\":{\"color\":\"#FECB52\",\"dash\":\"solid\"},\"marker\":{\"symbol\":\"circle\"},\"mode\":\"lines\",\"name\":\"49\",\"showlegend\":true,\"x\":[0,1,2,3,4,5,6,7,8,9,10,11,12,13,14,15,16,17,18,19,20,21,22,23,24,25,26,27,28,29,30,31,32,33,34,35,36,37,38,39,40],\"xaxis\":\"x\",\"y\":[0.08380000293254852,0.8312000036239624,0.8543999791145325,0.8618999719619751,0.8657000064849854,0.8657000064849854,0.8687999844551086,0.9187999963760376,0.9447000026702881,0.9473000168800354,0.9491000175476074,0.9480999708175659,0.9495000243186951,0.9501000046730042,0.949400007724762,0.9527999758720398,0.9495000243186951,0.9523000121116638,0.9538000226020813,0.9531999826431274,0.954800009727478,null,null,null,null,null,null,null,null,null,null,null,null,null,null,null,null,null,null,null,null],\"yaxis\":\"y\",\"type\":\"scattergl\"},{\"hovertemplate\":\"Experiment=50\\u003cbr\\u003eEpochs=%{x}\\u003cbr\\u003eAccuracy [%]=%{y}\\u003cextra\\u003e\\u003c\\u002fextra\\u003e\",\"legendgroup\":\"50\",\"line\":{\"color\":\"#636efa\",\"dash\":\"solid\"},\"marker\":{\"symbol\":\"circle\"},\"mode\":\"lines\",\"name\":\"50\",\"showlegend\":true,\"x\":[0,1,2,3,4,5,6,7,8,9,10,11,12,13,14,15,16,17,18,19,20,21,22,23,24,25,26,27,28,29,30,31,32,33,34,35,36,37,38,39,40],\"xaxis\":\"x\",\"y\":[0.10379999876022339,0.8270000219345093,0.8485999703407288,0.9336000084877014,0.940500020980835,0.9438999891281128,0.9441999793052673,0.9455000162124634,0.9484000205993652,0.9484000205993652,0.9474999904632568,0.9498000144958496,0.948199987411499,0.9510999917984009,0.9491999745368958,0.9502999782562256,0.9508000016212463,0.9501000046730042,0.9502999782562256,0.9510999917984009,0.9506999850273132,null,null,null,null,null,null,null,null,null,null,null,null,null,null,null,null,null,null,null,null],\"yaxis\":\"y\",\"type\":\"scattergl\"},{\"hovertemplate\":\"Experiment=51\\u003cbr\\u003eEpochs=%{x}\\u003cbr\\u003eAccuracy [%]=%{y}\\u003cextra\\u003e\\u003c\\u002fextra\\u003e\",\"legendgroup\":\"51\",\"line\":{\"color\":\"#EF553B\",\"dash\":\"solid\"},\"marker\":{\"symbol\":\"circle\"},\"mode\":\"lines\",\"name\":\"51\",\"showlegend\":true,\"x\":[0,1,2,3,4,5,6,7,8,9,10,11,12,13,14,15,16,17,18,19,20,21,22,23,24,25,26,27,28,29,30,31,32,33,34,35,36,37,38,39,40],\"xaxis\":\"x\",\"y\":[0.10490000247955322,0.902999997138977,0.9247999787330627,0.9326000213623047,0.9352999925613403,0.9366999864578247,0.9417999982833862,0.9413999915122986,0.9434999823570251,0.9437999725341797,0.9424999952316284,0.9430999755859375,0.944100022315979,0.9458000063896179,0.9431999921798706,0.9447000026702881,0.9466999769210815,0.9466999769210815,0.9474999904632568,0.9452999830245972,0.9458000063896179,null,null,null,null,null,null,null,null,null,null,null,null,null,null,null,null,null,null,null,null],\"yaxis\":\"y\",\"type\":\"scattergl\"},{\"hovertemplate\":\"Experiment=52\\u003cbr\\u003eEpochs=%{x}\\u003cbr\\u003eAccuracy [%]=%{y}\\u003cextra\\u003e\\u003c\\u002fextra\\u003e\",\"legendgroup\":\"52\",\"line\":{\"color\":\"#00cc96\",\"dash\":\"solid\"},\"marker\":{\"symbol\":\"circle\"},\"mode\":\"lines\",\"name\":\"52\",\"showlegend\":true,\"x\":[0,1,2,3,4,5,6,7,8,9,10,11,12,13,14,15,16,17,18,19,20,21,22,23,24,25,26,27,28,29,30,31,32,33,34,35,36,37,38,39,40],\"xaxis\":\"x\",\"y\":[0.10939999669790268,0.7531999945640564,0.925599992275238,0.9351999759674072,0.9390000104904175,0.9416000247001648,0.9434999823570251,0.9434000253677368,0.9455999732017517,0.9487000107765198,0.9485999941825867,0.9501000046730042,0.9470000267028809,0.9476000070571899,0.9485999941825867,0.9469000101089478,0.9484999775886536,0.948199987411499,0.9478999972343445,0.9501000046730042,0.949999988079071,null,null,null,null,null,null,null,null,null,null,null,null,null,null,null,null,null,null,null,null],\"yaxis\":\"y\",\"type\":\"scattergl\"},{\"hovertemplate\":\"Experiment=53\\u003cbr\\u003eEpochs=%{x}\\u003cbr\\u003eAccuracy [%]=%{y}\\u003cextra\\u003e\\u003c\\u002fextra\\u003e\",\"legendgroup\":\"53\",\"line\":{\"color\":\"#ab63fa\",\"dash\":\"solid\"},\"marker\":{\"symbol\":\"circle\"},\"mode\":\"lines\",\"name\":\"53\",\"showlegend\":true,\"x\":[0,1,2,3,4,5,6,7,8,9,10,11,12,13,14,15,16,17,18,19,20,21,22,23,24,25,26,27,28,29,30,31,32,33,34,35,36,37,38,39,40],\"xaxis\":\"x\",\"y\":[0.09989999979734421,0.9077000021934509,0.9279000163078308,0.9372000098228455,0.9416000247001648,0.9437999725341797,0.9466999769210815,0.9466000199317932,0.9473000168800354,0.947700023651123,0.9484999775886536,0.9509999752044678,0.9527999758720398,0.9513999819755554,0.951200008392334,0.9501000046730042,0.9485999941825867,0.9498000144958496,0.9498999714851379,0.9516000151634216,0.9526000022888184,null,null,null,null,null,null,null,null,null,null,null,null,null,null,null,null,null,null,null,null],\"yaxis\":\"y\",\"type\":\"scattergl\"},{\"hovertemplate\":\"Experiment=54\\u003cbr\\u003eEpochs=%{x}\\u003cbr\\u003eAccuracy [%]=%{y}\\u003cextra\\u003e\\u003c\\u002fextra\\u003e\",\"legendgroup\":\"54\",\"line\":{\"color\":\"#FFA15A\",\"dash\":\"solid\"},\"marker\":{\"symbol\":\"circle\"},\"mode\":\"lines\",\"name\":\"54\",\"showlegend\":true,\"x\":[0,1,2,3,4,5,6,7,8,9,10,11,12,13,14,15,16,17,18,19,20,21,22,23,24,25,26,27,28,29,30,31,32,33,34,35,36,37,38,39,40],\"xaxis\":\"x\",\"y\":[0.043699998408555984,0.8223000168800354,0.8374000191688538,0.8464999794960022,0.8514000177383423,0.9240000247955322,0.9395999908447266,0.9420999884605408,0.942300021648407,0.9438999891281128,0.9452999830245972,0.9480999708175659,0.9490000009536743,0.9508000016212463,0.9495000243186951,0.9485999941825867,0.9488999843597412,0.9503999948501587,0.948199987411499,0.9495999813079834,0.9498999714851379,null,null,null,null,null,null,null,null,null,null,null,null,null,null,null,null,null,null,null,null],\"yaxis\":\"y\",\"type\":\"scattergl\"},{\"hovertemplate\":\"Experiment=55\\u003cbr\\u003eEpochs=%{x}\\u003cbr\\u003eAccuracy [%]=%{y}\\u003cextra\\u003e\\u003c\\u002fextra\\u003e\",\"legendgroup\":\"55\",\"line\":{\"color\":\"#19d3f3\",\"dash\":\"solid\"},\"marker\":{\"symbol\":\"circle\"},\"mode\":\"lines\",\"name\":\"55\",\"showlegend\":true,\"x\":[0,1,2,3,4,5,6,7,8,9,10,11,12,13,14,15,16,17,18,19,20,21,22,23,24,25,26,27,28,29,30,31,32,33,34,35,36,37,38,39,40],\"xaxis\":\"x\",\"y\":[0.09960000216960907,0.10909999907016754,0.9275000095367432,0.9387999773025513,0.9422000050544739,0.9451000094413757,0.945900022983551,0.9460999965667725,0.9474999904632568,0.9472000002861023,0.947700023651123,0.9487000107765198,0.9484999775886536,0.9484999775886536,0.948199987411499,0.9480999708175659,0.9484999775886536,0.9488999843597412,0.9488000273704529,0.9487000107765198,0.9487000107765198,null,null,null,null,null,null,null,null,null,null,null,null,null,null,null,null,null,null,null,null],\"yaxis\":\"y\",\"type\":\"scattergl\"},{\"hovertemplate\":\"Experiment=56\\u003cbr\\u003eEpochs=%{x}\\u003cbr\\u003eAccuracy [%]=%{y}\\u003cextra\\u003e\\u003c\\u002fextra\\u003e\",\"legendgroup\":\"56\",\"line\":{\"color\":\"#FF6692\",\"dash\":\"solid\"},\"marker\":{\"symbol\":\"circle\"},\"mode\":\"lines\",\"name\":\"56\",\"showlegend\":true,\"x\":[0,1,2,3,4,5,6,7,8,9,10,11,12,13,14,15,16,17,18,19,20,21,22,23,24,25,26,27,28,29,30,31,32,33,34,35,36,37,38,39,40],\"xaxis\":\"x\",\"y\":[0.0843999981880188,0.909600019454956,0.9291999936103821,0.9376000165939331,0.9440000057220459,0.9447000026702881,0.9441999793052673,0.947700023651123,0.9463000297546387,0.9455000162124634,0.9465000033378601,0.9477999806404114,0.9484999775886536,0.9491000175476074,0.949999988079071,0.9485999941825867,0.9480999708175659,0.9478999972343445,0.948199987411499,0.9478999972343445,0.9491000175476074,null,null,null,null,null,null,null,null,null,null,null,null,null,null,null,null,null,null,null,null],\"yaxis\":\"y\",\"type\":\"scattergl\"},{\"hovertemplate\":\"Experiment=57\\u003cbr\\u003eEpochs=%{x}\\u003cbr\\u003eAccuracy [%]=%{y}\\u003cextra\\u003e\\u003c\\u002fextra\\u003e\",\"legendgroup\":\"57\",\"line\":{\"color\":\"#B6E880\",\"dash\":\"solid\"},\"marker\":{\"symbol\":\"circle\"},\"mode\":\"lines\",\"name\":\"57\",\"showlegend\":true,\"x\":[0,1,2,3,4,5,6,7,8,9,10,11,12,13,14,15,16,17,18,19,20,21,22,23,24,25,26,27,28,29,30,31,32,33,34,35,36,37,38,39,40],\"xaxis\":\"x\",\"y\":[0.08550000190734863,0.10090000182390213,0.10499999672174454,0.1054999977350235,0.11289999634027481,0.11710000038146973,0.12060000002384186,0.13940000534057617,0.1387999951839447,0.14300000667572021,0.14309999346733093,0.1469999998807907,0.14229999482631683,0.1534000039100647,0.15539999306201935,0.15780000388622284,0.1623000055551529,0.1662999987602234,0.17180000245571136,0.17470000684261322,0.1768999993801117,null,null,null,null,null,null,null,null,null,null,null,null,null,null,null,null,null,null,null,null],\"yaxis\":\"y\",\"type\":\"scattergl\"},{\"hovertemplate\":\"Experiment=58\\u003cbr\\u003eEpochs=%{x}\\u003cbr\\u003eAccuracy [%]=%{y}\\u003cextra\\u003e\\u003c\\u002fextra\\u003e\",\"legendgroup\":\"58\",\"line\":{\"color\":\"#FF97FF\",\"dash\":\"solid\"},\"marker\":{\"symbol\":\"circle\"},\"mode\":\"lines\",\"name\":\"58\",\"showlegend\":true,\"x\":[0,1,2,3,4,5,6,7,8,9,10,11,12,13,14,15,16,17,18,19,20,21,22,23,24,25,26,27,28,29,30,31,32,33,34,35,36,37,38,39,40],\"xaxis\":\"x\",\"y\":[0.1023000031709671,0.9143999814987183,0.9309999942779541,0.9412999749183655,0.9447000026702881,0.9448999762535095,0.9469000101089478,0.9491999745368958,0.9488000273704529,0.948199987411499,0.9488000273704529,0.9506000280380249,0.9513000249862671,0.9535999894142151,0.9516000151634216,0.9524999856948853,0.9531000256538391,0.9523000121116638,0.9526000022888184,0.9532999992370605,0.9532999992370605,null,null,null,null,null,null,null,null,null,null,null,null,null,null,null,null,null,null,null,null],\"yaxis\":\"y\",\"type\":\"scattergl\"},{\"hovertemplate\":\"Experiment=59\\u003cbr\\u003eEpochs=%{x}\\u003cbr\\u003eAccuracy [%]=%{y}\\u003cextra\\u003e\\u003c\\u002fextra\\u003e\",\"legendgroup\":\"59\",\"line\":{\"color\":\"#FECB52\",\"dash\":\"solid\"},\"marker\":{\"symbol\":\"circle\"},\"mode\":\"lines\",\"name\":\"59\",\"showlegend\":true,\"x\":[0,1,2,3,4,5,6,7,8,9,10,11,12,13,14,15,16,17,18,19,20,21,22,23,24,25,26,27,28,29,30,31,32,33,34,35,36,37,38,39,40],\"xaxis\":\"x\",\"y\":[0.08190000057220459,0.9132999777793884,0.9311000108718872,0.9369000196456909,0.9405999779701233,0.9422000050544739,0.9444000124931335,0.9455999732017517,0.9458000063896179,0.9470999836921692,0.9476000070571899,0.9492999911308289,0.9477999806404114,0.9496999979019165,0.9505000114440918,0.9502999782562256,0.9496999979019165,0.9506000280380249,0.951200008392334,0.9513999819755554,0.9520000219345093,null,null,null,null,null,null,null,null,null,null,null,null,null,null,null,null,null,null,null,null],\"yaxis\":\"y\",\"type\":\"scattergl\"},{\"hovertemplate\":\"Experiment=60\\u003cbr\\u003eEpochs=%{x}\\u003cbr\\u003eAccuracy [%]=%{y}\\u003cextra\\u003e\\u003c\\u002fextra\\u003e\",\"legendgroup\":\"60\",\"line\":{\"color\":\"#636efa\",\"dash\":\"solid\"},\"marker\":{\"symbol\":\"circle\"},\"mode\":\"lines\",\"name\":\"60\",\"showlegend\":true,\"x\":[0,1,2,3,4,5,6,7,8,9,10,11,12,13,14,15,16,17,18,19,20,21,22,23,24,25,26,27,28,29,30,31,32,33,34,35,36,37,38,39,40],\"xaxis\":\"x\",\"y\":[0.08460000157356262,0.8981000185012817,0.9236999750137329,0.9337000250816345,0.9380000233650208,0.9412999749183655,0.9448000192642212,0.945900022983551,0.9488000273704529,0.9491999745368958,0.9509999752044678,0.95169997215271,0.9523000121116638,0.9487000107765198,0.9514999985694885,0.9513000249862671,0.9516000151634216,0.9520000219345093,0.9520999789237976,0.9506999850273132,0.9521999955177307,null,null,null,null,null,null,null,null,null,null,null,null,null,null,null,null,null,null,null,null],\"yaxis\":\"y\",\"type\":\"scattergl\"},{\"hovertemplate\":\"Experiment=61\\u003cbr\\u003eEpochs=%{x}\\u003cbr\\u003eAccuracy [%]=%{y}\\u003cextra\\u003e\\u003c\\u002fextra\\u003e\",\"legendgroup\":\"61\",\"line\":{\"color\":\"#EF553B\",\"dash\":\"solid\"},\"marker\":{\"symbol\":\"circle\"},\"mode\":\"lines\",\"name\":\"61\",\"showlegend\":true,\"x\":[0,1,2,3,4,5,6,7,8,9,10,11,12,13,14,15,16,17,18,19,20,21,22,23,24,25,26,27,28,29,30,31,32,33,34,35,36,37,38,39,40],\"xaxis\":\"x\",\"y\":[0.10400000214576721,0.7077999711036682,0.7498000264167786,0.7552000284194946,0.8580999970436096,0.9458000063896179,0.9506000280380249,0.9534000158309937,0.9502000212669373,0.9519000053405762,0.953000009059906,0.9537000060081482,0.9532999992370605,0.9526000022888184,0.953499972820282,0.9535999894142151,0.9535999894142151,0.9538000226020813,0.9541000127792358,0.9539999961853027,0.9549000263214111,null,null,null,null,null,null,null,null,null,null,null,null,null,null,null,null,null,null,null,null],\"yaxis\":\"y\",\"type\":\"scattergl\"},{\"hovertemplate\":\"Experiment=62\\u003cbr\\u003eEpochs=%{x}\\u003cbr\\u003eAccuracy [%]=%{y}\\u003cextra\\u003e\\u003c\\u002fextra\\u003e\",\"legendgroup\":\"62\",\"line\":{\"color\":\"#00cc96\",\"dash\":\"solid\"},\"marker\":{\"symbol\":\"circle\"},\"mode\":\"lines\",\"name\":\"62\",\"showlegend\":true,\"x\":[0,1,2,3,4,5,6,7,8,9,10,11,12,13,14,15,16,17,18,19,20,21,22,23,24,25,26,27,28,29,30,31,32,33,34,35,36,37,38,39,40],\"xaxis\":\"x\",\"y\":[0.08299999684095383,0.909500002861023,0.9279000163078308,0.934499979019165,0.9433000087738037,0.9448000192642212,0.9423999786376953,0.9423999786376953,0.9469000101089478,0.9455000162124634,0.9478999972343445,0.9453999996185303,0.9491000175476074,0.9480000138282776,0.9476000070571899,0.9473999738693237,0.9484000205993652,0.9495999813079834,0.9491000175476074,0.9495000243186951,0.949400007724762,null,null,null,null,null,null,null,null,null,null,null,null,null,null,null,null,null,null,null,null],\"yaxis\":\"y\",\"type\":\"scattergl\"},{\"hovertemplate\":\"Experiment=63\\u003cbr\\u003eEpochs=%{x}\\u003cbr\\u003eAccuracy [%]=%{y}\\u003cextra\\u003e\\u003c\\u002fextra\\u003e\",\"legendgroup\":\"63\",\"line\":{\"color\":\"#ab63fa\",\"dash\":\"solid\"},\"marker\":{\"symbol\":\"circle\"},\"mode\":\"lines\",\"name\":\"63\",\"showlegend\":true,\"x\":[0,1,2,3,4,5,6,7,8,9,10,11,12,13,14,15,16,17,18,19,20,21,22,23,24,25,26,27,28,29,30,31,32,33,34,35,36,37,38,39,40],\"xaxis\":\"x\",\"y\":[0.08780000358819962,0.9038000106811523,0.923799991607666,0.9369000196456909,0.9387999773025513,0.9437000155448914,0.9430999755859375,0.944599986076355,0.9448999762535095,0.9453999996185303,0.9472000002861023,0.9470000267028809,0.9498999714851379,0.9490000009536743,0.947700023651123,0.9502999782562256,0.9509000182151794,0.9508000016212463,0.9505000114440918,0.9510999917984009,0.9506000280380249,null,null,null,null,null,null,null,null,null,null,null,null,null,null,null,null,null,null,null,null],\"yaxis\":\"y\",\"type\":\"scattergl\"},{\"hovertemplate\":\"Experiment=64\\u003cbr\\u003eEpochs=%{x}\\u003cbr\\u003eAccuracy [%]=%{y}\\u003cextra\\u003e\\u003c\\u002fextra\\u003e\",\"legendgroup\":\"64\",\"line\":{\"color\":\"#FFA15A\",\"dash\":\"solid\"},\"marker\":{\"symbol\":\"circle\"},\"mode\":\"lines\",\"name\":\"64\",\"showlegend\":true,\"x\":[0,1,2,3,4,5,6,7,8,9,10,11,12,13,14,15,16,17,18,19,20,21,22,23,24,25,26,27,28,29,30,31,32,33,34,35,36,37,38,39,40],\"xaxis\":\"x\",\"y\":[0.11940000206232071,0.9036999940872192,0.9247000217437744,0.9333000183105469,0.9384999871253967,0.939300000667572,0.9434999823570251,0.9455000162124634,0.9453999996185303,0.9491000175476074,0.9491999745368958,0.9476000070571899,0.9509999752044678,0.9519000053405762,0.9513000249862671,0.9531000256538391,0.9527999758720398,0.953499972820282,0.9531999826431274,0.9509000182151794,0.9509999752044678,null,null,null,null,null,null,null,null,null,null,null,null,null,null,null,null,null,null,null,null],\"yaxis\":\"y\",\"type\":\"scattergl\"},{\"hovertemplate\":\"Experiment=65\\u003cbr\\u003eEpochs=%{x}\\u003cbr\\u003eAccuracy [%]=%{y}\\u003cextra\\u003e\\u003c\\u002fextra\\u003e\",\"legendgroup\":\"65\",\"line\":{\"color\":\"#19d3f3\",\"dash\":\"solid\"},\"marker\":{\"symbol\":\"circle\"},\"mode\":\"lines\",\"name\":\"65\",\"showlegend\":true,\"x\":[0,1,2,3,4,5,6,7,8,9,10,11,12,13,14,15,16,17,18,19,20,21,22,23,24,25,26,27,28,29,30,31,32,33,34,35,36,37,38,39,40],\"xaxis\":\"x\",\"y\":[0.0860000029206276,0.8240000009536743,0.9302999973297119,0.9397000074386597,0.942300021648407,0.9455000162124634,0.9452999830245972,0.9480999708175659,0.9480999708175659,0.9488000273704529,0.9496999979019165,0.9498999714851379,0.9506000280380249,0.9509999752044678,0.9531000256538391,0.9524999856948853,0.9509000182151794,0.9531000256538391,0.9534000158309937,0.953499972820282,0.9534000158309937,null,null,null,null,null,null,null,null,null,null,null,null,null,null,null,null,null,null,null,null],\"yaxis\":\"y\",\"type\":\"scattergl\"},{\"hovertemplate\":\"Experiment=66\\u003cbr\\u003eEpochs=%{x}\\u003cbr\\u003eAccuracy [%]=%{y}\\u003cextra\\u003e\\u003c\\u002fextra\\u003e\",\"legendgroup\":\"66\",\"line\":{\"color\":\"#FF6692\",\"dash\":\"solid\"},\"marker\":{\"symbol\":\"circle\"},\"mode\":\"lines\",\"name\":\"66\",\"showlegend\":true,\"x\":[0,1,2,3,4,5,6,7,8,9,10,11,12,13,14,15,16,17,18,19,20,21,22,23,24,25,26,27,28,29,30,31,32,33,34,35,36,37,38,39,40],\"xaxis\":\"x\",\"y\":[0.10109999775886536,0.9083999991416931,0.932699978351593,0.9416999816894531,0.9445000290870667,0.9463000297546387,0.9463000297546387,0.9485999941825867,0.949400007724762,0.9484000205993652,0.9505000114440918,0.9501000046730042,0.9501000046730042,0.9517999887466431,0.9505000114440918,0.9513000249862671,0.9521999955177307,0.9538000226020813,0.9520999789237976,0.9527999758720398,0.9528999924659729,null,null,null,null,null,null,null,null,null,null,null,null,null,null,null,null,null,null,null,null],\"yaxis\":\"y\",\"type\":\"scattergl\"},{\"hovertemplate\":\"Experiment=67\\u003cbr\\u003eEpochs=%{x}\\u003cbr\\u003eAccuracy [%]=%{y}\\u003cextra\\u003e\\u003c\\u002fextra\\u003e\",\"legendgroup\":\"67\",\"line\":{\"color\":\"#B6E880\",\"dash\":\"solid\"},\"marker\":{\"symbol\":\"circle\"},\"mode\":\"lines\",\"name\":\"67\",\"showlegend\":true,\"x\":[0,1,2,3,4,5,6,7,8,9,10,11,12,13,14,15,16,17,18,19,20,21,22,23,24,25,26,27,28,29,30,31,32,33,34,35,36,37,38,39,40],\"xaxis\":\"x\",\"y\":[0.11129999905824661,0.911899983882904,0.9307000041007996,0.9362000226974487,0.9409999847412109,0.9458000063896179,0.9452999830245972,0.9463000297546387,0.9488999843597412,0.9462000131607056,0.9484000205993652,0.9463000297546387,0.9478999972343445,0.9488999843597412,0.9498999714851379,0.949400007724762,0.9498999714851379,0.9492999911308289,0.9492999911308289,0.9503999948501587,0.9506000280380249,null,null,null,null,null,null,null,null,null,null,null,null,null,null,null,null,null,null,null,null],\"yaxis\":\"y\",\"type\":\"scattergl\"},{\"hovertemplate\":\"Experiment=68\\u003cbr\\u003eEpochs=%{x}\\u003cbr\\u003eAccuracy [%]=%{y}\\u003cextra\\u003e\\u003c\\u002fextra\\u003e\",\"legendgroup\":\"68\",\"line\":{\"color\":\"#FF97FF\",\"dash\":\"solid\"},\"marker\":{\"symbol\":\"circle\"},\"mode\":\"lines\",\"name\":\"68\",\"showlegend\":true,\"x\":[0,1,2,3,4,5,6,7,8,9,10,11,12,13,14,15,16,17,18,19,20,21,22,23,24,25,26,27,28,29,30,31,32,33,34,35,36,37,38,39,40],\"xaxis\":\"x\",\"y\":[0.09749999642372131,0.8183000087738037,0.839900016784668,0.9369000196456909,0.9383999705314636,0.9404000043869019,0.9448000192642212,0.9456999897956848,0.9473999738693237,0.9502999782562256,0.9487000107765198,0.9490000009536743,0.9495999813079834,0.9488999843597412,0.9519000053405762,0.9498999714851379,0.9498000144958496,0.9516000151634216,0.9528999924659729,0.9526000022888184,0.9519000053405762,null,null,null,null,null,null,null,null,null,null,null,null,null,null,null,null,null,null,null,null],\"yaxis\":\"y\",\"type\":\"scattergl\"},{\"hovertemplate\":\"Experiment=69\\u003cbr\\u003eEpochs=%{x}\\u003cbr\\u003eAccuracy [%]=%{y}\\u003cextra\\u003e\\u003c\\u002fextra\\u003e\",\"legendgroup\":\"69\",\"line\":{\"color\":\"#FECB52\",\"dash\":\"solid\"},\"marker\":{\"symbol\":\"circle\"},\"mode\":\"lines\",\"name\":\"69\",\"showlegend\":true,\"x\":[0,1,2,3,4,5,6,7,8,9,10,11,12,13,14,15,16,17,18,19,20,21,22,23,24,25,26,27,28,29,30,31,32,33,34,35,36,37,38,39,40],\"xaxis\":\"x\",\"y\":[0.10080000013113022,0.11860000342130661,0.9261999726295471,0.9380000233650208,0.9431999921798706,0.9451000094413757,0.9459999799728394,0.9495000243186951,0.9521999955177307,0.95169997215271,0.9508000016212463,0.9502000212669373,0.9527999758720398,0.9520000219345093,0.9526000022888184,0.9537000060081482,0.9535999894142151,0.9532999992370605,0.9528999924659729,0.9527999758720398,0.9526000022888184,null,null,null,null,null,null,null,null,null,null,null,null,null,null,null,null,null,null,null,null],\"yaxis\":\"y\",\"type\":\"scattergl\"},{\"hovertemplate\":\"Experiment=70\\u003cbr\\u003eEpochs=%{x}\\u003cbr\\u003eAccuracy [%]=%{y}\\u003cextra\\u003e\\u003c\\u002fextra\\u003e\",\"legendgroup\":\"70\",\"line\":{\"color\":\"#636efa\",\"dash\":\"solid\"},\"marker\":{\"symbol\":\"circle\"},\"mode\":\"lines\",\"name\":\"70\",\"showlegend\":true,\"x\":[0,1,2,3,4,5,6,7,8,9,10,11,12,13,14,15,16,17,18,19,20,21,22,23,24,25,26,27,28,29,30,31,32,33,34,35,36,37,38,39,40],\"xaxis\":\"x\",\"y\":[0.0940999984741211,0.8179000020027161,0.9129999876022339,0.9354000091552734,0.9434999823570251,0.9430999755859375,0.9455999732017517,0.9474999904632568,0.9484999775886536,0.9513999819755554,0.9508000016212463,0.9509000182151794,0.9523000121116638,0.9509000182151794,0.9505000114440918,0.951200008392334,0.9520000219345093,0.9516000151634216,0.9506999850273132,0.951200008392334,0.9513000249862671,null,null,null,null,null,null,null,null,null,null,null,null,null,null,null,null,null,null,null,null],\"yaxis\":\"y\",\"type\":\"scattergl\"},{\"hovertemplate\":\"Experiment=71\\u003cbr\\u003eEpochs=%{x}\\u003cbr\\u003eAccuracy [%]=%{y}\\u003cextra\\u003e\\u003c\\u002fextra\\u003e\",\"legendgroup\":\"71\",\"line\":{\"color\":\"#EF553B\",\"dash\":\"solid\"},\"marker\":{\"symbol\":\"circle\"},\"mode\":\"lines\",\"name\":\"71\",\"showlegend\":true,\"x\":[0,1,2,3,4,5,6,7,8,9,10,11,12,13,14,15,16,17,18,19,20,21,22,23,24,25,26,27,28,29,30,31,32,33,34,35,36,37,38,39,40],\"xaxis\":\"x\",\"y\":[0.10119999945163727,0.9093999862670898,0.9330000281333923,0.9422000050544739,0.9477999806404114,0.9474999904632568,0.9491000175476074,0.9509000182151794,0.9498999714851379,0.9521999955177307,0.9538999795913696,0.9556999802589417,0.9556000232696533,0.9567999839782715,0.95660001039505,0.9563000202178955,0.9559000134468079,0.9564999938011169,0.9570000171661377,0.957099974155426,0.9557999968528748,null,null,null,null,null,null,null,null,null,null,null,null,null,null,null,null,null,null,null,null],\"yaxis\":\"y\",\"type\":\"scattergl\"},{\"hovertemplate\":\"Experiment=72\\u003cbr\\u003eEpochs=%{x}\\u003cbr\\u003eAccuracy [%]=%{y}\\u003cextra\\u003e\\u003c\\u002fextra\\u003e\",\"legendgroup\":\"72\",\"line\":{\"color\":\"#00cc96\",\"dash\":\"solid\"},\"marker\":{\"symbol\":\"circle\"},\"mode\":\"lines\",\"name\":\"72\",\"showlegend\":true,\"x\":[0,1,2,3,4,5,6,7,8,9,10,11,12,13,14,15,16,17,18,19,20,21,22,23,24,25,26,27,28,29,30,31,32,33,34,35,36,37,38,39,40],\"xaxis\":\"x\",\"y\":[0.11460000276565552,0.9169999957084656,0.9323999881744385,0.9390000104904175,0.9437000155448914,0.948199987411499,0.9505000114440918,0.953000009059906,0.9532999992370605,0.9552000164985657,0.9524000287055969,0.9532999992370605,0.9519000053405762,0.9527999758720398,0.953000009059906,0.9527999758720398,0.9539999961853027,0.9534000158309937,0.954200029373169,0.9539999961853027,0.9539999961853027,null,null,null,null,null,null,null,null,null,null,null,null,null,null,null,null,null,null,null,null],\"yaxis\":\"y\",\"type\":\"scattergl\"},{\"hovertemplate\":\"Experiment=73\\u003cbr\\u003eEpochs=%{x}\\u003cbr\\u003eAccuracy [%]=%{y}\\u003cextra\\u003e\\u003c\\u002fextra\\u003e\",\"legendgroup\":\"73\",\"line\":{\"color\":\"#ab63fa\",\"dash\":\"solid\"},\"marker\":{\"symbol\":\"circle\"},\"mode\":\"lines\",\"name\":\"73\",\"showlegend\":true,\"x\":[0,1,2,3,4,5,6,7,8,9,10,11,12,13,14,15,16,17,18,19,20,21,22,23,24,25,26,27,28,29,30,31,32,33,34,35,36,37,38,39,40],\"xaxis\":\"x\",\"y\":[0.08780000358819962,0.0982000008225441,0.25619998574256897,0.9348000288009644,0.9405999779701233,0.9442999958992004,0.9466999769210815,0.9502999782562256,0.9517999887466431,0.9501000046730042,0.9513000249862671,0.9501000046730042,0.9509999752044678,0.9520000219345093,0.9528999924659729,0.9528999924659729,0.9526000022888184,0.9526000022888184,0.9531999826431274,0.9531999826431274,0.954200029373169,null,null,null,null,null,null,null,null,null,null,null,null,null,null,null,null,null,null,null,null],\"yaxis\":\"y\",\"type\":\"scattergl\"},{\"hovertemplate\":\"Experiment=74\\u003cbr\\u003eEpochs=%{x}\\u003cbr\\u003eAccuracy [%]=%{y}\\u003cextra\\u003e\\u003c\\u002fextra\\u003e\",\"legendgroup\":\"74\",\"line\":{\"color\":\"#FFA15A\",\"dash\":\"solid\"},\"marker\":{\"symbol\":\"circle\"},\"mode\":\"lines\",\"name\":\"74\",\"showlegend\":true,\"x\":[0,1,2,3,4,5,6,7,8,9,10,11,12,13,14,15,16,17,18,19,20,21,22,23,24,25,26,27,28,29,30,31,32,33,34,35,36,37,38,39,40],\"xaxis\":\"x\",\"y\":[0.07769999653100967,0.9064000248908997,0.9315000176429749,0.9424999952316284,0.946399986743927,0.949400007724762,0.9483000040054321,0.9516000151634216,0.9491000175476074,0.9514999985694885,0.9502999782562256,0.9532999992370605,0.953000009059906,0.9535999894142151,0.9538999795913696,0.9537000060081482,0.9538999795913696,0.954200029373169,0.9537000060081482,0.9539999961853027,0.954200029373169,null,null,null,null,null,null,null,null,null,null,null,null,null,null,null,null,null,null,null,null],\"yaxis\":\"y\",\"type\":\"scattergl\"},{\"hovertemplate\":\"Experiment=75\\u003cbr\\u003eEpochs=%{x}\\u003cbr\\u003eAccuracy [%]=%{y}\\u003cextra\\u003e\\u003c\\u002fextra\\u003e\",\"legendgroup\":\"75\",\"line\":{\"color\":\"#19d3f3\",\"dash\":\"solid\"},\"marker\":{\"symbol\":\"circle\"},\"mode\":\"lines\",\"name\":\"75\",\"showlegend\":true,\"x\":[0,1,2,3,4,5,6,7,8,9,10,11,12,13,14,15,16,17,18,19,20,21,22,23,24,25,26,27,28,29,30,31,32,33,34,35,36,37,38,39,40],\"xaxis\":\"x\",\"y\":[0.0,0.39320001006126404,0.4625999927520752,0.4772999882698059,0.5625,0.5767999887466431,0.6456000208854675,0.6561999917030334,0.6704000234603882,0.7547000050544739,0.7581999897956848,0.7609000205993652,0.7620999813079834,0.7631999850273132,0.7642999887466431,0.7651000022888184,0.7666000127792358,0.7674000263214111,0.7687000036239624,0.7688000202178955,0.7699000239372253,null,null,null,null,null,null,null,null,null,null,null,null,null,null,null,null,null,null,null,null],\"yaxis\":\"y\",\"type\":\"scattergl\"},{\"hovertemplate\":\"Experiment=76\\u003cbr\\u003eEpochs=%{x}\\u003cbr\\u003eAccuracy [%]=%{y}\\u003cextra\\u003e\\u003c\\u002fextra\\u003e\",\"legendgroup\":\"76\",\"line\":{\"color\":\"#FF6692\",\"dash\":\"solid\"},\"marker\":{\"symbol\":\"circle\"},\"mode\":\"lines\",\"name\":\"76\",\"showlegend\":true,\"x\":[0,1,2,3,4,5,6,7,8,9,10,11,12,13,14,15,16,17,18,19,20,21,22,23,24,25,26,27,28,29,30,31,32,33,34,35,36,37,38,39,40],\"xaxis\":\"x\",\"y\":[0.07769999653100967,0.9064000248908997,0.9315000176429749,0.9423999786376953,0.9466000199317932,0.9480000138282776,0.9484000205993652,0.95169997215271,0.9485999941825867,0.949999988079071,0.9508000016212463,0.951200008392334,0.9527999758720398,0.9538999795913696,0.9531000256538391,0.9537000060081482,0.9550999999046326,0.9531000256538391,0.9537000060081482,0.9539999961853027,0.9539999961853027,null,null,null,null,null,null,null,null,null,null,null,null,null,null,null,null,null,null,null,null],\"yaxis\":\"y\",\"type\":\"scattergl\"}],                        {\"template\":{\"data\":{\"histogram2dcontour\":[{\"type\":\"histogram2dcontour\",\"colorbar\":{\"outlinewidth\":0,\"ticks\":\"\"},\"colorscale\":[[0.0,\"#0d0887\"],[0.1111111111111111,\"#46039f\"],[0.2222222222222222,\"#7201a8\"],[0.3333333333333333,\"#9c179e\"],[0.4444444444444444,\"#bd3786\"],[0.5555555555555556,\"#d8576b\"],[0.6666666666666666,\"#ed7953\"],[0.7777777777777778,\"#fb9f3a\"],[0.8888888888888888,\"#fdca26\"],[1.0,\"#f0f921\"]]}],\"choropleth\":[{\"type\":\"choropleth\",\"colorbar\":{\"outlinewidth\":0,\"ticks\":\"\"}}],\"histogram2d\":[{\"type\":\"histogram2d\",\"colorbar\":{\"outlinewidth\":0,\"ticks\":\"\"},\"colorscale\":[[0.0,\"#0d0887\"],[0.1111111111111111,\"#46039f\"],[0.2222222222222222,\"#7201a8\"],[0.3333333333333333,\"#9c179e\"],[0.4444444444444444,\"#bd3786\"],[0.5555555555555556,\"#d8576b\"],[0.6666666666666666,\"#ed7953\"],[0.7777777777777778,\"#fb9f3a\"],[0.8888888888888888,\"#fdca26\"],[1.0,\"#f0f921\"]]}],\"heatmap\":[{\"type\":\"heatmap\",\"colorbar\":{\"outlinewidth\":0,\"ticks\":\"\"},\"colorscale\":[[0.0,\"#0d0887\"],[0.1111111111111111,\"#46039f\"],[0.2222222222222222,\"#7201a8\"],[0.3333333333333333,\"#9c179e\"],[0.4444444444444444,\"#bd3786\"],[0.5555555555555556,\"#d8576b\"],[0.6666666666666666,\"#ed7953\"],[0.7777777777777778,\"#fb9f3a\"],[0.8888888888888888,\"#fdca26\"],[1.0,\"#f0f921\"]]}],\"heatmapgl\":[{\"type\":\"heatmapgl\",\"colorbar\":{\"outlinewidth\":0,\"ticks\":\"\"},\"colorscale\":[[0.0,\"#0d0887\"],[0.1111111111111111,\"#46039f\"],[0.2222222222222222,\"#7201a8\"],[0.3333333333333333,\"#9c179e\"],[0.4444444444444444,\"#bd3786\"],[0.5555555555555556,\"#d8576b\"],[0.6666666666666666,\"#ed7953\"],[0.7777777777777778,\"#fb9f3a\"],[0.8888888888888888,\"#fdca26\"],[1.0,\"#f0f921\"]]}],\"contourcarpet\":[{\"type\":\"contourcarpet\",\"colorbar\":{\"outlinewidth\":0,\"ticks\":\"\"}}],\"contour\":[{\"type\":\"contour\",\"colorbar\":{\"outlinewidth\":0,\"ticks\":\"\"},\"colorscale\":[[0.0,\"#0d0887\"],[0.1111111111111111,\"#46039f\"],[0.2222222222222222,\"#7201a8\"],[0.3333333333333333,\"#9c179e\"],[0.4444444444444444,\"#bd3786\"],[0.5555555555555556,\"#d8576b\"],[0.6666666666666666,\"#ed7953\"],[0.7777777777777778,\"#fb9f3a\"],[0.8888888888888888,\"#fdca26\"],[1.0,\"#f0f921\"]]}],\"surface\":[{\"type\":\"surface\",\"colorbar\":{\"outlinewidth\":0,\"ticks\":\"\"},\"colorscale\":[[0.0,\"#0d0887\"],[0.1111111111111111,\"#46039f\"],[0.2222222222222222,\"#7201a8\"],[0.3333333333333333,\"#9c179e\"],[0.4444444444444444,\"#bd3786\"],[0.5555555555555556,\"#d8576b\"],[0.6666666666666666,\"#ed7953\"],[0.7777777777777778,\"#fb9f3a\"],[0.8888888888888888,\"#fdca26\"],[1.0,\"#f0f921\"]]}],\"mesh3d\":[{\"type\":\"mesh3d\",\"colorbar\":{\"outlinewidth\":0,\"ticks\":\"\"}}],\"scatter\":[{\"marker\":{\"line\":{\"color\":\"#283442\"}},\"type\":\"scatter\"}],\"parcoords\":[{\"type\":\"parcoords\",\"line\":{\"colorbar\":{\"outlinewidth\":0,\"ticks\":\"\"}}}],\"scatterpolargl\":[{\"type\":\"scatterpolargl\",\"marker\":{\"colorbar\":{\"outlinewidth\":0,\"ticks\":\"\"}}}],\"bar\":[{\"error_x\":{\"color\":\"#f2f5fa\"},\"error_y\":{\"color\":\"#f2f5fa\"},\"marker\":{\"line\":{\"color\":\"rgb(17,17,17)\",\"width\":0.5},\"pattern\":{\"fillmode\":\"overlay\",\"size\":10,\"solidity\":0.2}},\"type\":\"bar\"}],\"scattergeo\":[{\"type\":\"scattergeo\",\"marker\":{\"colorbar\":{\"outlinewidth\":0,\"ticks\":\"\"}}}],\"scatterpolar\":[{\"type\":\"scatterpolar\",\"marker\":{\"colorbar\":{\"outlinewidth\":0,\"ticks\":\"\"}}}],\"histogram\":[{\"marker\":{\"pattern\":{\"fillmode\":\"overlay\",\"size\":10,\"solidity\":0.2}},\"type\":\"histogram\"}],\"scattergl\":[{\"marker\":{\"line\":{\"color\":\"#283442\"}},\"type\":\"scattergl\"}],\"scatter3d\":[{\"type\":\"scatter3d\",\"line\":{\"colorbar\":{\"outlinewidth\":0,\"ticks\":\"\"}},\"marker\":{\"colorbar\":{\"outlinewidth\":0,\"ticks\":\"\"}}}],\"scattermapbox\":[{\"type\":\"scattermapbox\",\"marker\":{\"colorbar\":{\"outlinewidth\":0,\"ticks\":\"\"}}}],\"scatterternary\":[{\"type\":\"scatterternary\",\"marker\":{\"colorbar\":{\"outlinewidth\":0,\"ticks\":\"\"}}}],\"scattercarpet\":[{\"type\":\"scattercarpet\",\"marker\":{\"colorbar\":{\"outlinewidth\":0,\"ticks\":\"\"}}}],\"carpet\":[{\"aaxis\":{\"endlinecolor\":\"#A2B1C6\",\"gridcolor\":\"#506784\",\"linecolor\":\"#506784\",\"minorgridcolor\":\"#506784\",\"startlinecolor\":\"#A2B1C6\"},\"baxis\":{\"endlinecolor\":\"#A2B1C6\",\"gridcolor\":\"#506784\",\"linecolor\":\"#506784\",\"minorgridcolor\":\"#506784\",\"startlinecolor\":\"#A2B1C6\"},\"type\":\"carpet\"}],\"table\":[{\"cells\":{\"fill\":{\"color\":\"#506784\"},\"line\":{\"color\":\"rgb(17,17,17)\"}},\"header\":{\"fill\":{\"color\":\"#2a3f5f\"},\"line\":{\"color\":\"rgb(17,17,17)\"}},\"type\":\"table\"}],\"barpolar\":[{\"marker\":{\"line\":{\"color\":\"rgb(17,17,17)\",\"width\":0.5},\"pattern\":{\"fillmode\":\"overlay\",\"size\":10,\"solidity\":0.2}},\"type\":\"barpolar\"}],\"pie\":[{\"automargin\":true,\"type\":\"pie\"}]},\"layout\":{\"autotypenumbers\":\"strict\",\"colorway\":[\"#636efa\",\"#EF553B\",\"#00cc96\",\"#ab63fa\",\"#FFA15A\",\"#19d3f3\",\"#FF6692\",\"#B6E880\",\"#FF97FF\",\"#FECB52\"],\"font\":{\"color\":\"#f2f5fa\"},\"hovermode\":\"closest\",\"hoverlabel\":{\"align\":\"left\"},\"paper_bgcolor\":\"rgb(17,17,17)\",\"plot_bgcolor\":\"rgb(17,17,17)\",\"polar\":{\"bgcolor\":\"rgb(17,17,17)\",\"angularaxis\":{\"gridcolor\":\"#506784\",\"linecolor\":\"#506784\",\"ticks\":\"\"},\"radialaxis\":{\"gridcolor\":\"#506784\",\"linecolor\":\"#506784\",\"ticks\":\"\"}},\"ternary\":{\"bgcolor\":\"rgb(17,17,17)\",\"aaxis\":{\"gridcolor\":\"#506784\",\"linecolor\":\"#506784\",\"ticks\":\"\"},\"baxis\":{\"gridcolor\":\"#506784\",\"linecolor\":\"#506784\",\"ticks\":\"\"},\"caxis\":{\"gridcolor\":\"#506784\",\"linecolor\":\"#506784\",\"ticks\":\"\"}},\"coloraxis\":{\"colorbar\":{\"outlinewidth\":0,\"ticks\":\"\"}},\"colorscale\":{\"sequential\":[[0.0,\"#0d0887\"],[0.1111111111111111,\"#46039f\"],[0.2222222222222222,\"#7201a8\"],[0.3333333333333333,\"#9c179e\"],[0.4444444444444444,\"#bd3786\"],[0.5555555555555556,\"#d8576b\"],[0.6666666666666666,\"#ed7953\"],[0.7777777777777778,\"#fb9f3a\"],[0.8888888888888888,\"#fdca26\"],[1.0,\"#f0f921\"]],\"sequentialminus\":[[0.0,\"#0d0887\"],[0.1111111111111111,\"#46039f\"],[0.2222222222222222,\"#7201a8\"],[0.3333333333333333,\"#9c179e\"],[0.4444444444444444,\"#bd3786\"],[0.5555555555555556,\"#d8576b\"],[0.6666666666666666,\"#ed7953\"],[0.7777777777777778,\"#fb9f3a\"],[0.8888888888888888,\"#fdca26\"],[1.0,\"#f0f921\"]],\"diverging\":[[0,\"#8e0152\"],[0.1,\"#c51b7d\"],[0.2,\"#de77ae\"],[0.3,\"#f1b6da\"],[0.4,\"#fde0ef\"],[0.5,\"#f7f7f7\"],[0.6,\"#e6f5d0\"],[0.7,\"#b8e186\"],[0.8,\"#7fbc41\"],[0.9,\"#4d9221\"],[1,\"#276419\"]]},\"xaxis\":{\"gridcolor\":\"#283442\",\"linecolor\":\"#506784\",\"ticks\":\"\",\"title\":{\"standoff\":15},\"zerolinecolor\":\"#283442\",\"automargin\":true,\"zerolinewidth\":2},\"yaxis\":{\"gridcolor\":\"#283442\",\"linecolor\":\"#506784\",\"ticks\":\"\",\"title\":{\"standoff\":15},\"zerolinecolor\":\"#283442\",\"automargin\":true,\"zerolinewidth\":2},\"scene\":{\"xaxis\":{\"backgroundcolor\":\"rgb(17,17,17)\",\"gridcolor\":\"#506784\",\"linecolor\":\"#506784\",\"showbackground\":true,\"ticks\":\"\",\"zerolinecolor\":\"#C8D4E3\",\"gridwidth\":2},\"yaxis\":{\"backgroundcolor\":\"rgb(17,17,17)\",\"gridcolor\":\"#506784\",\"linecolor\":\"#506784\",\"showbackground\":true,\"ticks\":\"\",\"zerolinecolor\":\"#C8D4E3\",\"gridwidth\":2},\"zaxis\":{\"backgroundcolor\":\"rgb(17,17,17)\",\"gridcolor\":\"#506784\",\"linecolor\":\"#506784\",\"showbackground\":true,\"ticks\":\"\",\"zerolinecolor\":\"#C8D4E3\",\"gridwidth\":2}},\"shapedefaults\":{\"line\":{\"color\":\"#f2f5fa\"}},\"annotationdefaults\":{\"arrowcolor\":\"#f2f5fa\",\"arrowhead\":0,\"arrowwidth\":1},\"geo\":{\"bgcolor\":\"rgb(17,17,17)\",\"landcolor\":\"rgb(17,17,17)\",\"subunitcolor\":\"#506784\",\"showland\":true,\"showlakes\":true,\"lakecolor\":\"rgb(17,17,17)\"},\"title\":{\"x\":0.05},\"updatemenudefaults\":{\"bgcolor\":\"#506784\",\"borderwidth\":0},\"sliderdefaults\":{\"bgcolor\":\"#C8D4E3\",\"borderwidth\":1,\"bordercolor\":\"rgb(17,17,17)\",\"tickwidth\":0},\"mapbox\":{\"style\":\"dark\"}}},\"xaxis\":{\"anchor\":\"y\",\"domain\":[0.0,1.0],\"title\":{\"text\":\"Epochs\"}},\"yaxis\":{\"anchor\":\"x\",\"domain\":[0.0,1.0],\"title\":{\"text\":\"Accuracy [%]\"}},\"legend\":{\"title\":{\"text\":\"Experiment\"},\"tracegroupgap\":0},\"title\":{\"text\":\"Test accuracy\"}},                        {\"responsive\": true}                    ).then(function(){\n                            \nvar gd = document.getElementById('98c81e1c-27cf-49c5-a193-891aaf5bc0d4');\nvar x = new MutationObserver(function (mutations, observer) {{\n        var display = window.getComputedStyle(gd).display;\n        if (!display || display === 'none') {{\n            console.log([gd, 'removed!']);\n            Plotly.purge(gd);\n            observer.disconnect();\n        }}\n}});\n\n// Listen for the removal of the full notebook cells\nvar notebookContainer = gd.closest('#notebook-container');\nif (notebookContainer) {{\n    x.observe(notebookContainer, {childList: true});\n}}\n\n// Listen for the clearing of the current output cell\nvar outputEl = gd.closest('.output');\nif (outputEl) {{\n    x.observe(outputEl, {childList: true});\n}}\n\n                        })                };                });            </script>        </div>"
     },
     "metadata": {},
     "output_type": "display_data"
    },
    {
     "data": {
      "application/vnd.plotly.v1+json": {
       "data": [
        {
         "hovertemplate": "Experiment=0<br>Epochs=%{x}<br>Loss=%{y}<extra></extra>",
         "legendgroup": "0",
         "line": {
          "color": "#636efa",
          "dash": "solid"
         },
         "marker": {
          "symbol": "circle"
         },
         "mode": "lines",
         "name": "0",
         "showlegend": true,
         "x": [
          0,
          1,
          2,
          3,
          4,
          5,
          6,
          7,
          8,
          9,
          10,
          11,
          12,
          13,
          14,
          15,
          16,
          17,
          18,
          19,
          20,
          21,
          22,
          23,
          24,
          25,
          26,
          27,
          28,
          29,
          30,
          31,
          32,
          33,
          34,
          35,
          36,
          37,
          38,
          39,
          40
         ],
         "xaxis": "x",
         "y": [
          34.38901901245117,
          2.9015488624572754,
          1.9589715003967285,
          1.6365320682525635,
          1.5554879903793335,
          1.495422601699829,
          1.4469176530838013,
          1.4049030542373657,
          1.3651477098464966,
          1.3243932723999023,
          1.2773669958114624,
          1.204647421836853,
          0.6421054005622864,
          0.26058682799339294,
          0.23602503538131714,
          0.22464337944984436,
          0.216256782412529,
          0.2090495526790619,
          0.20268476009368896,
          0.19700713455677032,
          0.19186553359031677,
          0.18717129528522491,
          0.18289265036582947,
          0.17900007963180542,
          0.17541451752185822,
          0.17206524312496185,
          null,
          null,
          null,
          null,
          null,
          null,
          null,
          null,
          null,
          null,
          null,
          null,
          null,
          null,
          null
         ],
         "yaxis": "y",
         "type": "scattergl"
        },
        {
         "hovertemplate": "Experiment=1<br>Epochs=%{x}<br>Loss=%{y}<extra></extra>",
         "legendgroup": "1",
         "line": {
          "color": "#EF553B",
          "dash": "solid"
         },
         "marker": {
          "symbol": "circle"
         },
         "mode": "lines",
         "name": "1",
         "showlegend": true,
         "x": [
          0,
          1,
          2,
          3,
          4,
          5,
          6,
          7,
          8,
          9,
          10,
          11,
          12,
          13,
          14,
          15,
          16,
          17,
          18,
          19,
          20,
          21,
          22,
          23,
          24,
          25,
          26,
          27,
          28,
          29,
          30,
          31,
          32,
          33,
          34,
          35,
          36,
          37,
          38,
          39,
          40
         ],
         "xaxis": "x",
         "y": [
          26.882801055908203,
          1.3590253591537476,
          1.0673482418060303,
          0.6298326849937439,
          0.4507328271865845,
          0.396912544965744,
          0.39722809195518494,
          0.43539682030677795,
          0.4570508301258087,
          0.4057830274105072,
          0.3659462034702301,
          0.3384228050708771,
          0.3174830675125122,
          0.30044060945510864,
          0.2859310209751129,
          0.2732633352279663,
          0.26206347346305847,
          0.25199276208877563,
          0.2428458034992218,
          0.23450282216072083,
          0.2268057018518448,
          0.21965409815311432,
          0.21299836039543152,
          0.20684592425823212,
          0.2011638581752777,
          0.19592365622520447,
          0.19112445414066315,
          0.18670718371868134,
          0.18260708451271057,
          0.17877773940563202,
          0.17517462372779846,
          null,
          null,
          null,
          null,
          null,
          null,
          null,
          null,
          null,
          null
         ],
         "yaxis": "y",
         "type": "scattergl"
        },
        {
         "hovertemplate": "Experiment=2<br>Epochs=%{x}<br>Loss=%{y}<extra></extra>",
         "legendgroup": "2",
         "line": {
          "color": "#00cc96",
          "dash": "solid"
         },
         "marker": {
          "symbol": "circle"
         },
         "mode": "lines",
         "name": "2",
         "showlegend": true,
         "x": [
          0,
          1,
          2,
          3,
          4,
          5,
          6,
          7,
          8,
          9,
          10,
          11,
          12,
          13,
          14,
          15,
          16,
          17,
          18,
          19,
          20,
          21,
          22,
          23,
          24,
          25,
          26,
          27,
          28,
          29,
          30,
          31,
          32,
          33,
          34,
          35,
          36,
          37,
          38,
          39,
          40
         ],
         "xaxis": "x",
         "y": [
          14.420620918273926,
          1.6120799779891968,
          1.6593765020370483,
          1.5910528898239136,
          1.488371729850769,
          1.3776323795318604,
          1.2821322679519653,
          1.1981220245361328,
          1.119228482246399,
          1.0419995784759521,
          0.9651806354522705,
          0.8888932466506958,
          0.8181120753288269,
          0.7607316970825195,
          0.7179348468780518,
          0.6858632564544678,
          0.6606327295303345,
          0.6397889852523804,
          0.6219542026519775,
          0.6063295006752014,
          0.5924081802368164,
          0.5798392295837402,
          0.568366527557373,
          0.5577991008758545,
          0.5479928851127625,
          0.5388374924659729,
          null,
          null,
          null,
          null,
          null,
          null,
          null,
          null,
          null,
          null,
          null,
          null,
          null,
          null,
          null
         ],
         "yaxis": "y",
         "type": "scattergl"
        },
        {
         "hovertemplate": "Experiment=3<br>Epochs=%{x}<br>Loss=%{y}<extra></extra>",
         "legendgroup": "3",
         "line": {
          "color": "#ab63fa",
          "dash": "solid"
         },
         "marker": {
          "symbol": "circle"
         },
         "mode": "lines",
         "name": "3",
         "showlegend": true,
         "x": [
          0,
          1,
          2,
          3,
          4,
          5,
          6,
          7,
          8,
          9,
          10,
          11,
          12,
          13,
          14,
          15,
          16,
          17,
          18,
          19,
          20,
          21,
          22,
          23,
          24,
          25,
          26,
          27,
          28,
          29,
          30,
          31,
          32,
          33,
          34,
          35,
          36,
          37,
          38,
          39,
          40
         ],
         "xaxis": "x",
         "y": [
          57.62356948852539,
          2.8366408348083496,
          2.726689100265503,
          2.5791382789611816,
          2.4074859619140625,
          2.2586331367492676,
          2.166954517364502,
          2.1224098205566406,
          2.104396343231201,
          2.099747896194458,
          2.1026227474212646,
          2.10974383354187,
          2.118330955505371,
          2.1266605854034424,
          2.13242506980896,
          2.133578062057495,
          2.12890887260437,
          2.11871075630188,
          2.1038870811462402,
          2.0860979557037354,
          2.067185401916504,
          2.0484442710876465,
          2.030597686767578,
          2.01395583152771,
          1.998579502105713,
          1.98441481590271,
          1.971362590789795,
          1.9593082666397095,
          1.9481370449066162,
          1.937740445137024,
          1.9280205965042114,
          null,
          null,
          null,
          null,
          null,
          null,
          null,
          null,
          null,
          null
         ],
         "yaxis": "y",
         "type": "scattergl"
        },
        {
         "hovertemplate": "Experiment=4<br>Epochs=%{x}<br>Loss=%{y}<extra></extra>",
         "legendgroup": "4",
         "line": {
          "color": "#FFA15A",
          "dash": "solid"
         },
         "marker": {
          "symbol": "circle"
         },
         "mode": "lines",
         "name": "4",
         "showlegend": true,
         "x": [
          0,
          1,
          2,
          3,
          4,
          5,
          6,
          7,
          8,
          9,
          10,
          11,
          12,
          13,
          14,
          15,
          16,
          17,
          18,
          19,
          20,
          21,
          22,
          23,
          24,
          25,
          26,
          27,
          28,
          29,
          30,
          31,
          32,
          33,
          34,
          35,
          36,
          37,
          38,
          39,
          40
         ],
         "xaxis": "x",
         "y": [
          18.01785659790039,
          0.9955433011054993,
          0.4043058454990387,
          0.3163457214832306,
          0.26910632848739624,
          0.23804935812950134,
          0.21662214398384094,
          0.1999530792236328,
          0.18599551916122437,
          0.1747204065322876,
          0.16514921188354492,
          0.1575290411710739,
          0.15126968920230865,
          0.14560376107692719,
          0.14031216502189636,
          0.13507512211799622,
          0.1306355744600296,
          0.12701353430747986,
          0.12371557205915451,
          0.12047389149665833,
          0.1175464317202568,
          0.11507908999919891,
          0.113107830286026,
          0.11138446629047394,
          0.10977987200021744,
          0.10819713771343231,
          0.10662990063428879,
          0.10525485128164291,
          0.10392716526985168,
          0.10269717872142792,
          0.10139403492212296,
          0.10014582425355911,
          0.09915751963853836,
          0.09821911156177521,
          0.09748154133558273,
          0.09670949727296829,
          null,
          null,
          null,
          null,
          null
         ],
         "yaxis": "y",
         "type": "scattergl"
        },
        {
         "hovertemplate": "Experiment=5<br>Epochs=%{x}<br>Loss=%{y}<extra></extra>",
         "legendgroup": "5",
         "line": {
          "color": "#19d3f3",
          "dash": "solid"
         },
         "marker": {
          "symbol": "circle"
         },
         "mode": "lines",
         "name": "5",
         "showlegend": true,
         "x": [
          0,
          1,
          2,
          3,
          4,
          5,
          6,
          7,
          8,
          9,
          10,
          11,
          12,
          13,
          14,
          15,
          16,
          17,
          18,
          19,
          20,
          21,
          22,
          23,
          24,
          25,
          26,
          27,
          28,
          29,
          30,
          31,
          32,
          33,
          34,
          35,
          36,
          37,
          38,
          39,
          40
         ],
         "xaxis": "x",
         "y": [
          48.664424896240234,
          1.7487926483154297,
          1.4333535432815552,
          1.2598729133605957,
          0.49792879819869995,
          0.2863784432411194,
          0.24845775961875916,
          0.22383184731006622,
          0.20579437911510468,
          0.1915162354707718,
          0.1801677644252777,
          0.17071610689163208,
          0.16286005079746246,
          0.15589044988155365,
          0.14971740543842316,
          0.14438936114311218,
          0.13957533240318298,
          0.13512267172336578,
          0.13101427257061005,
          0.1273403763771057,
          0.12403208762407303,
          0.12099046260118484,
          0.1183212548494339,
          0.11586011946201324,
          0.11361177265644073,
          0.11164677143096924,
          0.10977892577648163,
          0.10790504515171051,
          0.10608946532011032,
          0.1044170930981636,
          0.10297142714262009,
          0.10164932906627655,
          0.10043221712112427,
          0.09929526597261429,
          0.09817831218242645,
          0.09704545140266418,
          0.09596776217222214,
          0.09498056769371033,
          0.09406859427690506,
          0.09318926185369492,
          0.09234542399644852
         ],
         "yaxis": "y",
         "type": "scattergl"
        },
        {
         "hovertemplate": "Experiment=6<br>Epochs=%{x}<br>Loss=%{y}<extra></extra>",
         "legendgroup": "6",
         "line": {
          "color": "#FF6692",
          "dash": "solid"
         },
         "marker": {
          "symbol": "circle"
         },
         "mode": "lines",
         "name": "6",
         "showlegend": true,
         "x": [
          0,
          1,
          2,
          3,
          4,
          5,
          6,
          7,
          8,
          9,
          10,
          11,
          12,
          13,
          14,
          15,
          16,
          17,
          18,
          19,
          20,
          21,
          22,
          23,
          24,
          25,
          26,
          27,
          28,
          29,
          30,
          31,
          32,
          33,
          34,
          35,
          36,
          37,
          38,
          39,
          40
         ],
         "xaxis": "x",
         "y": [
          23.455364227294922,
          2.0204427242279053,
          1.4391568899154663,
          0.34598129987716675,
          0.27955394983291626,
          0.24756109714508057,
          0.2247433364391327,
          0.21059633791446686,
          0.1963367462158203,
          0.1883104294538498,
          0.178141787648201,
          0.17025770246982574,
          0.16346587240695953,
          0.15739555656909943,
          0.15180043876171112,
          0.14759637415409088,
          0.14253151416778564,
          0.13717149198055267,
          0.13249018788337708,
          0.12911354005336761,
          0.12549611926078796,
          0.12209951877593994,
          0.12019210308790207,
          0.11630313098430634,
          0.11252043396234512,
          0.10914238542318344,
          0.10680144280195236,
          0.1050746813416481,
          0.10381434112787247,
          0.10255049914121628,
          0.10146794468164444,
          0.10072146356105804,
          0.1002257689833641,
          0.09962832927703857,
          0.09911437332630157,
          0.09879042208194733,
          null,
          null,
          null,
          null,
          null
         ],
         "yaxis": "y",
         "type": "scattergl"
        },
        {
         "hovertemplate": "Experiment=7<br>Epochs=%{x}<br>Loss=%{y}<extra></extra>",
         "legendgroup": "7",
         "line": {
          "color": "#B6E880",
          "dash": "solid"
         },
         "marker": {
          "symbol": "circle"
         },
         "mode": "lines",
         "name": "7",
         "showlegend": true,
         "x": [
          0,
          1,
          2,
          3,
          4,
          5,
          6,
          7,
          8,
          9,
          10,
          11,
          12,
          13,
          14,
          15,
          16,
          17,
          18,
          19,
          20,
          21,
          22,
          23,
          24,
          25,
          26,
          27,
          28,
          29,
          30,
          31,
          32,
          33,
          34,
          35,
          36,
          37,
          38,
          39,
          40
         ],
         "xaxis": "x",
         "y": [
          85.1344985961914,
          3.246107339859009,
          2.3650262355804443,
          2.062880516052246,
          2.022658348083496,
          1.9588544368743896,
          1.9061717987060547,
          1.8761497735977173,
          1.8555649518966675,
          1.8432503938674927,
          1.8303725719451904,
          1.8188380002975464,
          1.8105672597885132,
          1.8030269145965576,
          1.7973531484603882,
          1.7925686836242676,
          1.78964364528656,
          1.787007212638855,
          1.7841570377349854,
          1.7806522846221924,
          1.7778735160827637,
          1.7750705480575562,
          1.7720707654953003,
          1.770153522491455,
          1.768080472946167,
          1.7662774324417114,
          1.7643697261810303,
          1.7620705366134644,
          1.7599022388458252,
          1.7580698728561401,
          1.7575485706329346,
          1.7581301927566528,
          1.7585591077804565,
          1.759387731552124,
          1.75870943069458,
          1.7582348585128784,
          1.7575182914733887,
          1.7565592527389526,
          1.7554820775985718,
          1.7544647455215454,
          1.7528964281082153
         ],
         "yaxis": "y",
         "type": "scattergl"
        },
        {
         "hovertemplate": "Experiment=8<br>Epochs=%{x}<br>Loss=%{y}<extra></extra>",
         "legendgroup": "8",
         "line": {
          "color": "#FF97FF",
          "dash": "solid"
         },
         "marker": {
          "symbol": "circle"
         },
         "mode": "lines",
         "name": "8",
         "showlegend": true,
         "x": [
          0,
          1,
          2,
          3,
          4,
          5,
          6,
          7,
          8,
          9,
          10,
          11,
          12,
          13,
          14,
          15,
          16,
          17,
          18,
          19,
          20,
          21,
          22,
          23,
          24,
          25,
          26,
          27,
          28,
          29,
          30,
          31,
          32,
          33,
          34,
          35,
          36,
          37,
          38,
          39,
          40
         ],
         "xaxis": "x",
         "y": [
          28.681821823120117,
          1.6403993368148804,
          0.4770829379558563,
          0.4406561553478241,
          0.4836733937263489,
          0.38295620679855347,
          0.32391196489334106,
          0.29120755195617676,
          0.27680012583732605,
          0.2566317319869995,
          0.24360761046409607,
          0.23168134689331055,
          0.22002995014190674,
          0.2117004096508026,
          0.20453710854053497,
          0.19833111763000488,
          0.1949450522661209,
          0.18455630540847778,
          0.17972183227539062,
          0.17338909208774567,
          0.16893498599529266,
          0.16048729419708252,
          0.157595694065094,
          0.1571621149778366,
          0.15156280994415283,
          0.14771659672260284,
          0.14580915868282318,
          0.13880044221878052,
          0.13429926335811615,
          0.13042201101779938,
          0.12915082275867462,
          0.12635761499404907,
          0.12411459535360336,
          0.12164516746997833,
          0.12419112026691437,
          0.12348348647356033,
          null,
          null,
          null,
          null,
          null
         ],
         "yaxis": "y",
         "type": "scattergl"
        },
        {
         "hovertemplate": "Experiment=9<br>Epochs=%{x}<br>Loss=%{y}<extra></extra>",
         "legendgroup": "9",
         "line": {
          "color": "#FECB52",
          "dash": "solid"
         },
         "marker": {
          "symbol": "circle"
         },
         "mode": "lines",
         "name": "9",
         "showlegend": true,
         "x": [
          0,
          1,
          2,
          3,
          4,
          5,
          6,
          7,
          8,
          9,
          10,
          11,
          12,
          13,
          14,
          15,
          16,
          17,
          18,
          19,
          20,
          21,
          22,
          23,
          24,
          25,
          26,
          27,
          28,
          29,
          30,
          31,
          32,
          33,
          34,
          35,
          36,
          37,
          38,
          39,
          40
         ],
         "xaxis": "x",
         "y": [
          74.21220397949219,
          2.7467756271362305,
          2.389604330062866,
          2.3377575874328613,
          2.316098690032959,
          2.3037359714508057,
          2.2971715927124023,
          2.290149211883545,
          2.2859323024749756,
          2.285231351852417,
          2.2783401012420654,
          2.2681963443756104,
          2.2597949504852295,
          2.2516252994537354,
          2.2481331825256348,
          2.245898723602295,
          2.2429656982421875,
          2.2417781352996826,
          2.2396254539489746,
          2.238786458969116,
          2.2378902435302734,
          2.2376511096954346,
          2.2376372814178467,
          2.2374155521392822,
          2.2359771728515625,
          2.2347464561462402,
          2.233832597732544,
          2.2329647541046143,
          2.2328920364379883,
          2.233252763748169,
          2.233384132385254,
          2.2329699993133545,
          2.2329070568084717,
          2.2324020862579346,
          2.2317826747894287,
          2.2308859825134277,
          2.230149745941162,
          2.2300913333892822,
          2.230010509490967,
          2.2299916744232178,
          2.2298786640167236
         ],
         "yaxis": "y",
         "type": "scattergl"
        },
        {
         "hovertemplate": "Experiment=10<br>Epochs=%{x}<br>Loss=%{y}<extra></extra>",
         "legendgroup": "10",
         "line": {
          "color": "#636efa",
          "dash": "solid"
         },
         "marker": {
          "symbol": "circle"
         },
         "mode": "lines",
         "name": "10",
         "showlegend": true,
         "x": [
          0,
          1,
          2,
          3,
          4,
          5,
          6,
          7,
          8,
          9,
          10,
          11,
          12,
          13,
          14,
          15,
          16,
          17,
          18,
          19,
          20,
          21,
          22,
          23,
          24,
          25,
          26,
          27,
          28,
          29,
          30,
          31,
          32,
          33,
          34,
          35,
          36,
          37,
          38,
          39,
          40
         ],
         "xaxis": "x",
         "y": [
          26.737707138061523,
          0.8435114622116089,
          0.489321231842041,
          0.41348740458488464,
          0.36073970794677734,
          0.33579543232917786,
          0.3131616711616516,
          0.29749107360839844,
          0.2734767198562622,
          0.2610509693622589,
          0.24969539046287537,
          0.23829790949821472,
          0.23447920382022858,
          0.22984188795089722,
          0.21976429224014282,
          0.2125973403453827,
          0.20741544663906097,
          0.20425601303577423,
          0.1961544007062912,
          0.19370000064373016,
          0.1882394701242447,
          0.1818927526473999,
          0.17934638261795044,
          0.17555488646030426,
          0.1737665981054306,
          0.17910440266132355,
          null,
          null,
          null,
          null,
          null,
          null,
          null,
          null,
          null,
          null,
          null,
          null,
          null,
          null,
          null
         ],
         "yaxis": "y",
         "type": "scattergl"
        },
        {
         "hovertemplate": "Experiment=11<br>Epochs=%{x}<br>Loss=%{y}<extra></extra>",
         "legendgroup": "11",
         "line": {
          "color": "#EF553B",
          "dash": "solid"
         },
         "marker": {
          "symbol": "circle"
         },
         "mode": "lines",
         "name": "11",
         "showlegend": true,
         "x": [
          0,
          1,
          2,
          3,
          4,
          5,
          6,
          7,
          8,
          9,
          10,
          11,
          12,
          13,
          14,
          15,
          16,
          17,
          18,
          19,
          20,
          21,
          22,
          23,
          24,
          25,
          26,
          27,
          28,
          29,
          30,
          31,
          32,
          33,
          34,
          35,
          36,
          37,
          38,
          39,
          40
         ],
         "xaxis": "x",
         "y": [
          34.991111755371094,
          0.6599947810173035,
          0.3371717929840088,
          0.2667832374572754,
          0.22690582275390625,
          0.20379333198070526,
          0.1904686689376831,
          0.1721554547548294,
          0.15931886434555054,
          0.14984117448329926,
          0.14144267141819,
          0.1339801698923111,
          0.12681351602077484,
          0.12268032133579254,
          0.11798565834760666,
          0.11430208384990692,
          0.11303231120109558,
          0.11003546416759491,
          0.10556752234697342,
          0.10112155973911285,
          0.09664008021354675,
          0.09276864677667618,
          0.09017208218574524,
          0.08728121966123581,
          0.08540517836809158,
          0.08447334915399551,
          0.08349962532520294,
          0.08276817202568054,
          0.08202123641967773,
          0.08131088316440582,
          0.08054929971694946,
          null,
          null,
          null,
          null,
          null,
          null,
          null,
          null,
          null,
          null
         ],
         "yaxis": "y",
         "type": "scattergl"
        },
        {
         "hovertemplate": "Experiment=12<br>Epochs=%{x}<br>Loss=%{y}<extra></extra>",
         "legendgroup": "12",
         "line": {
          "color": "#00cc96",
          "dash": "solid"
         },
         "marker": {
          "symbol": "circle"
         },
         "mode": "lines",
         "name": "12",
         "showlegend": true,
         "x": [
          0,
          1,
          2,
          3,
          4,
          5,
          6,
          7,
          8,
          9,
          10,
          11,
          12,
          13,
          14,
          15,
          16,
          17,
          18,
          19,
          20,
          21,
          22,
          23,
          24,
          25,
          26,
          27,
          28,
          29,
          30,
          31,
          32,
          33,
          34,
          35,
          36,
          37,
          38,
          39,
          40
         ],
         "xaxis": "x",
         "y": [
          41.299835205078125,
          1.987429141998291,
          0.6598644852638245,
          0.5749766230583191,
          0.531618595123291,
          0.5030584335327148,
          0.4621129333972931,
          0.46405693888664246,
          0.4332641363143921,
          0.4251573979854584,
          0.4157181680202484,
          0.40282687544822693,
          0.3893401622772217,
          0.3767157793045044,
          0.3700093924999237,
          0.3632661998271942,
          0.35563379526138306,
          0.3394028842449188,
          0.3395043611526489,
          0.3228728771209717,
          0.32327666878700256,
          0.3168836832046509,
          0.31692180037498474,
          0.310249924659729,
          0.3109927177429199,
          0.29357022047042847,
          null,
          null,
          null,
          null,
          null,
          null,
          null,
          null,
          null,
          null,
          null,
          null,
          null,
          null,
          null
         ],
         "yaxis": "y",
         "type": "scattergl"
        },
        {
         "hovertemplate": "Experiment=13<br>Epochs=%{x}<br>Loss=%{y}<extra></extra>",
         "legendgroup": "13",
         "line": {
          "color": "#ab63fa",
          "dash": "solid"
         },
         "marker": {
          "symbol": "circle"
         },
         "mode": "lines",
         "name": "13",
         "showlegend": true,
         "x": [
          0,
          1,
          2,
          3,
          4,
          5,
          6,
          7,
          8,
          9,
          10,
          11,
          12,
          13,
          14,
          15,
          16,
          17,
          18,
          19,
          20,
          21,
          22,
          23,
          24,
          25,
          26,
          27,
          28,
          29,
          30,
          31,
          32,
          33,
          34,
          35,
          36,
          37,
          38,
          39,
          40
         ],
         "xaxis": "x",
         "y": [
          40.547996520996094,
          0.7271171808242798,
          0.41912582516670227,
          0.33224910497665405,
          0.28650206327438354,
          0.2610674798488617,
          0.23835334181785583,
          0.22564224898815155,
          0.21700330078601837,
          0.20497004687786102,
          0.19500286877155304,
          0.18114610016345978,
          0.1787722259759903,
          0.17555883526802063,
          0.16687795519828796,
          0.1623845100402832,
          0.15787161886692047,
          0.15404729545116425,
          0.1519453376531601,
          0.14711745083332062,
          0.1440238356590271,
          0.14105963706970215,
          0.1332409530878067,
          0.13103190064430237,
          0.13029323518276215,
          0.12781073153018951,
          0.12376270443201065,
          0.12320040911436081,
          0.12288656830787659,
          0.11929763108491898,
          0.11691442877054214,
          null,
          null,
          null,
          null,
          null,
          null,
          null,
          null,
          null,
          null
         ],
         "yaxis": "y",
         "type": "scattergl"
        },
        {
         "hovertemplate": "Experiment=14<br>Epochs=%{x}<br>Loss=%{y}<extra></extra>",
         "legendgroup": "14",
         "line": {
          "color": "#FFA15A",
          "dash": "solid"
         },
         "marker": {
          "symbol": "circle"
         },
         "mode": "lines",
         "name": "14",
         "showlegend": true,
         "x": [
          0,
          1,
          2,
          3,
          4,
          5,
          6,
          7,
          8,
          9,
          10,
          11,
          12,
          13,
          14,
          15,
          16,
          17,
          18,
          19,
          20,
          21,
          22,
          23,
          24,
          25,
          26,
          27,
          28,
          29,
          30,
          31,
          32,
          33,
          34,
          35,
          36,
          37,
          38,
          39,
          40
         ],
         "xaxis": "x",
         "y": [
          18.27300453186035,
          0.7235403656959534,
          0.3858904242515564,
          0.3053116202354431,
          0.26415249705314636,
          0.23186041414737701,
          0.21391916275024414,
          0.19945719838142395,
          0.18564565479755402,
          0.17601528763771057,
          0.16995121538639069,
          0.16235117614269257,
          0.15492373704910278,
          0.14971835911273956,
          0.14277321100234985,
          0.13965864479541779,
          0.13377061486244202,
          0.13035646080970764,
          0.12713803350925446,
          0.12404066324234009,
          0.12006409466266632,
          null,
          null,
          null,
          null,
          null,
          null,
          null,
          null,
          null,
          null,
          null,
          null,
          null,
          null,
          null,
          null,
          null,
          null,
          null,
          null
         ],
         "yaxis": "y",
         "type": "scattergl"
        },
        {
         "hovertemplate": "Experiment=15<br>Epochs=%{x}<br>Loss=%{y}<extra></extra>",
         "legendgroup": "15",
         "line": {
          "color": "#19d3f3",
          "dash": "solid"
         },
         "marker": {
          "symbol": "circle"
         },
         "mode": "lines",
         "name": "15",
         "showlegend": true,
         "x": [
          0,
          1,
          2,
          3,
          4,
          5,
          6,
          7,
          8,
          9,
          10,
          11,
          12,
          13,
          14,
          15,
          16,
          17,
          18,
          19,
          20,
          21,
          22,
          23,
          24,
          25,
          26,
          27,
          28,
          29,
          30,
          31,
          32,
          33,
          34,
          35,
          36,
          37,
          38,
          39,
          40
         ],
         "xaxis": "x",
         "y": [
          20.60437774658203,
          0.7359233498573303,
          0.38915565609931946,
          0.30379486083984375,
          0.2635793387889862,
          0.2354922592639923,
          0.2167285680770874,
          0.19996753334999084,
          0.18864521384239197,
          0.1773259937763214,
          0.1679781973361969,
          0.15935800969600677,
          0.15448705852031708,
          0.15162980556488037,
          0.145870640873909,
          0.14255806803703308,
          0.13612966239452362,
          0.13178114593029022,
          0.12706513702869415,
          0.12207476794719696,
          0.11960607767105103,
          0.11650563031435013,
          0.11375652998685837,
          0.11088621616363525,
          0.1091201901435852,
          0.10668087750673294,
          0.104718416929245,
          0.10289472341537476,
          0.10143138468265533,
          0.10056077688932419,
          0.09966620802879333,
          null,
          null,
          null,
          null,
          null,
          null,
          null,
          null,
          null,
          null
         ],
         "yaxis": "y",
         "type": "scattergl"
        },
        {
         "hovertemplate": "Experiment=16<br>Epochs=%{x}<br>Loss=%{y}<extra></extra>",
         "legendgroup": "16",
         "line": {
          "color": "#FF6692",
          "dash": "solid"
         },
         "marker": {
          "symbol": "circle"
         },
         "mode": "lines",
         "name": "16",
         "showlegend": true,
         "x": [
          0,
          1,
          2,
          3,
          4,
          5,
          6,
          7,
          8,
          9,
          10,
          11,
          12,
          13,
          14,
          15,
          16,
          17,
          18,
          19,
          20,
          21,
          22,
          23,
          24,
          25,
          26,
          27,
          28,
          29,
          30,
          31,
          32,
          33,
          34,
          35,
          36,
          37,
          38,
          39,
          40
         ],
         "xaxis": "x",
         "y": [
          7.4177470207214355,
          0.7188481092453003,
          0.4443415701389313,
          0.3371526002883911,
          0.29021385312080383,
          0.25984618067741394,
          0.2341952621936798,
          0.21920935809612274,
          0.2025134414434433,
          0.18993675708770752,
          0.1774786412715912,
          0.16893205046653748,
          0.16037002205848694,
          0.15378119051456451,
          0.14966623485088348,
          0.14611013233661652,
          0.14162592589855194,
          0.1418791562318802,
          0.14130899310112,
          0.13689376413822174,
          0.13126139342784882,
          null,
          null,
          null,
          null,
          null,
          null,
          null,
          null,
          null,
          null,
          null,
          null,
          null,
          null,
          null,
          null,
          null,
          null,
          null,
          null
         ],
         "yaxis": "y",
         "type": "scattergl"
        },
        {
         "hovertemplate": "Experiment=17<br>Epochs=%{x}<br>Loss=%{y}<extra></extra>",
         "legendgroup": "17",
         "line": {
          "color": "#B6E880",
          "dash": "solid"
         },
         "marker": {
          "symbol": "circle"
         },
         "mode": "lines",
         "name": "17",
         "showlegend": true,
         "x": [
          0,
          1,
          2,
          3,
          4,
          5,
          6,
          7,
          8,
          9,
          10,
          11,
          12,
          13,
          14,
          15,
          16,
          17,
          18,
          19,
          20,
          21,
          22,
          23,
          24,
          25,
          26,
          27,
          28,
          29,
          30,
          31,
          32,
          33,
          34,
          35,
          36,
          37,
          38,
          39,
          40
         ],
         "xaxis": "x",
         "y": [
          42.471595764160156,
          2.753753662109375,
          1.9088140726089478,
          1.832597255706787,
          1.7994773387908936,
          1.773849368095398,
          1.7508658170700073,
          1.7352509498596191,
          1.7255353927612305,
          1.7050424814224243,
          1.6895835399627686,
          1.6877769231796265,
          1.678736686706543,
          1.6604405641555786,
          1.6289050579071045,
          1.6080741882324219,
          1.5949950218200684,
          1.5905556678771973,
          1.5799392461776733,
          1.568442940711975,
          1.5612750053405762,
          1.5404967069625854,
          1.532326102256775,
          1.5302945375442505,
          1.5141174793243408,
          1.477708339691162,
          0.6285535097122192,
          0.1659649908542633,
          0.15693342685699463,
          0.1482924073934555,
          0.1441793590784073,
          null,
          null,
          null,
          null,
          null,
          null,
          null,
          null,
          null,
          null
         ],
         "yaxis": "y",
         "type": "scattergl"
        },
        {
         "hovertemplate": "Experiment=18<br>Epochs=%{x}<br>Loss=%{y}<extra></extra>",
         "legendgroup": "18",
         "line": {
          "color": "#FF97FF",
          "dash": "solid"
         },
         "marker": {
          "symbol": "circle"
         },
         "mode": "lines",
         "name": "18",
         "showlegend": true,
         "x": [
          0,
          1,
          2,
          3,
          4,
          5,
          6,
          7,
          8,
          9,
          10,
          11,
          12,
          13,
          14,
          15,
          16,
          17,
          18,
          19,
          20,
          21,
          22,
          23,
          24,
          25,
          26,
          27,
          28,
          29,
          30,
          31,
          32,
          33,
          34,
          35,
          36,
          37,
          38,
          39,
          40
         ],
         "xaxis": "x",
         "y": [
          28.752994537353516,
          1.2213091850280762,
          0.6166792511940002,
          0.44777435064315796,
          0.3831687569618225,
          0.3383435010910034,
          0.296738862991333,
          0.27279943227767944,
          0.25884687900543213,
          0.2414068877696991,
          0.23188018798828125,
          0.22154393792152405,
          0.21163782477378845,
          0.20846521854400635,
          0.1997927725315094,
          0.19859148561954498,
          0.1921306997537613,
          0.18787972629070282,
          0.18208925426006317,
          0.17543601989746094,
          0.16982297599315643,
          null,
          null,
          null,
          null,
          null,
          null,
          null,
          null,
          null,
          null,
          null,
          null,
          null,
          null,
          null,
          null,
          null,
          null,
          null,
          null
         ],
         "yaxis": "y",
         "type": "scattergl"
        },
        {
         "hovertemplate": "Experiment=19<br>Epochs=%{x}<br>Loss=%{y}<extra></extra>",
         "legendgroup": "19",
         "line": {
          "color": "#FECB52",
          "dash": "solid"
         },
         "marker": {
          "symbol": "circle"
         },
         "mode": "lines",
         "name": "19",
         "showlegend": true,
         "x": [
          0,
          1,
          2,
          3,
          4,
          5,
          6,
          7,
          8,
          9,
          10,
          11,
          12,
          13,
          14,
          15,
          16,
          17,
          18,
          19,
          20,
          21,
          22,
          23,
          24,
          25,
          26,
          27,
          28,
          29,
          30,
          31,
          32,
          33,
          34,
          35,
          36,
          37,
          38,
          39,
          40
         ],
         "xaxis": "x",
         "y": [
          57.56633377075195,
          3.7352399826049805,
          3.3458940982818604,
          3.3117711544036865,
          3.3036348819732666,
          3.290520668029785,
          3.279912233352661,
          3.264155387878418,
          2.513970375061035,
          1.899559497833252,
          1.8732134103775024,
          1.845696210861206,
          1.8293859958648682,
          1.8246643543243408,
          1.7261286973953247,
          1.654951572418213,
          1.2561171054840088,
          0.22937452793121338,
          0.2082914263010025,
          0.1962219476699829,
          0.1835060864686966,
          0.17849218845367432,
          0.32054564356803894,
          0.271637499332428,
          0.23887322843074799,
          0.22390428185462952,
          0.20750513672828674,
          0.19493648409843445,
          0.18325355648994446,
          0.17574568092823029,
          0.1716315895318985,
          null,
          null,
          null,
          null,
          null,
          null,
          null,
          null,
          null,
          null
         ],
         "yaxis": "y",
         "type": "scattergl"
        },
        {
         "hovertemplate": "Experiment=20<br>Epochs=%{x}<br>Loss=%{y}<extra></extra>",
         "legendgroup": "20",
         "line": {
          "color": "#636efa",
          "dash": "solid"
         },
         "marker": {
          "symbol": "circle"
         },
         "mode": "lines",
         "name": "20",
         "showlegend": true,
         "x": [
          0,
          1,
          2,
          3,
          4,
          5,
          6,
          7,
          8,
          9,
          10,
          11,
          12,
          13,
          14,
          15,
          16,
          17,
          18,
          19,
          20,
          21,
          22,
          23,
          24,
          25,
          26,
          27,
          28,
          29,
          30,
          31,
          32,
          33,
          34,
          35,
          36,
          37,
          38,
          39,
          40
         ],
         "xaxis": "x",
         "y": [
          65.52120971679688,
          4.844964981079102,
          4.556812763214111,
          4.491490364074707,
          4.448585033416748,
          4.4098687171936035,
          4.37815523147583,
          4.358157157897949,
          4.345876693725586,
          4.337350368499756,
          4.326479911804199,
          4.31632661819458,
          4.309353351593018,
          4.302183628082275,
          4.294396877288818,
          4.288654804229736,
          4.283671855926514,
          4.2804741859436035,
          4.2762980461120605,
          4.274587631225586,
          4.275896072387695,
          null,
          null,
          null,
          null,
          null,
          null,
          null,
          null,
          null,
          null,
          null,
          null,
          null,
          null,
          null,
          null,
          null,
          null,
          null,
          null
         ],
         "yaxis": "y",
         "type": "scattergl"
        },
        {
         "hovertemplate": "Experiment=21<br>Epochs=%{x}<br>Loss=%{y}<extra></extra>",
         "legendgroup": "21",
         "line": {
          "color": "#EF553B",
          "dash": "solid"
         },
         "marker": {
          "symbol": "circle"
         },
         "mode": "lines",
         "name": "21",
         "showlegend": true,
         "x": [
          0,
          1,
          2,
          3,
          4,
          5,
          6,
          7,
          8,
          9,
          10,
          11,
          12,
          13,
          14,
          15,
          16,
          17,
          18,
          19,
          20,
          21,
          22,
          23,
          24,
          25,
          26,
          27,
          28,
          29,
          30,
          31,
          32,
          33,
          34,
          35,
          36,
          37,
          38,
          39,
          40
         ],
         "xaxis": "x",
         "y": [
          62.73310089111328,
          2.5429017543792725,
          1.668570637702942,
          0.35503053665161133,
          0.2786136269569397,
          0.24240447580814362,
          0.21682894229888916,
          0.19680999219417572,
          0.18036486208438873,
          0.16773438453674316,
          0.15863746404647827,
          0.15167520940303802,
          0.14612020552158356,
          0.14141467213630676,
          0.13768436014652252,
          0.13478830456733704,
          0.1323835253715515,
          0.13001053035259247,
          0.12757615745067596,
          0.12541747093200684,
          0.12342328578233719,
          0.12189458310604095,
          0.12062372267246246,
          0.11932016164064407,
          0.11784131824970245,
          0.11642300337553024,
          0.11532796174287796,
          0.11423007398843765,
          0.11323487013578415,
          0.11216932535171509,
          0.1110273003578186,
          null,
          null,
          null,
          null,
          null,
          null,
          null,
          null,
          null,
          null
         ],
         "yaxis": "y",
         "type": "scattergl"
        },
        {
         "hovertemplate": "Experiment=22<br>Epochs=%{x}<br>Loss=%{y}<extra></extra>",
         "legendgroup": "22",
         "line": {
          "color": "#00cc96",
          "dash": "solid"
         },
         "marker": {
          "symbol": "circle"
         },
         "mode": "lines",
         "name": "22",
         "showlegend": true,
         "x": [
          0,
          1,
          2,
          3,
          4,
          5,
          6,
          7,
          8,
          9,
          10,
          11,
          12,
          13,
          14,
          15,
          16,
          17,
          18,
          19,
          20,
          21,
          22,
          23,
          24,
          25,
          26,
          27,
          28,
          29,
          30,
          31,
          32,
          33,
          34,
          35,
          36,
          37,
          38,
          39,
          40
         ],
         "xaxis": "x",
         "y": [
          34.71086883544922,
          1.0309327840805054,
          0.3860560953617096,
          0.29209133982658386,
          0.23901234567165375,
          0.2076319307088852,
          0.18196067214012146,
          0.16433434188365936,
          0.1522238552570343,
          0.1430017650127411,
          0.13610270619392395,
          0.13002347946166992,
          0.1252889335155487,
          0.12197721749544144,
          0.11913561075925827,
          0.11652003973722458,
          0.11406130343675613,
          0.11154583096504211,
          0.10947122424840927,
          0.10768434405326843,
          0.10608574748039246,
          null,
          null,
          null,
          null,
          null,
          null,
          null,
          null,
          null,
          null,
          null,
          null,
          null,
          null,
          null,
          null,
          null,
          null,
          null,
          null
         ],
         "yaxis": "y",
         "type": "scattergl"
        },
        {
         "hovertemplate": "Experiment=23<br>Epochs=%{x}<br>Loss=%{y}<extra></extra>",
         "legendgroup": "23",
         "line": {
          "color": "#ab63fa",
          "dash": "solid"
         },
         "marker": {
          "symbol": "circle"
         },
         "mode": "lines",
         "name": "23",
         "showlegend": true,
         "x": [
          0,
          1,
          2,
          3,
          4,
          5,
          6,
          7,
          8,
          9,
          10,
          11,
          12,
          13,
          14,
          15,
          16,
          17,
          18,
          19,
          20,
          21,
          22,
          23,
          24,
          25,
          26,
          27,
          28,
          29,
          30,
          31,
          32,
          33,
          34,
          35,
          36,
          37,
          38,
          39,
          40
         ],
         "xaxis": "x",
         "y": [
          44.374969482421875,
          1.342962622642517,
          0.41407066583633423,
          0.30982208251953125,
          0.2531670928001404,
          0.2130819410085678,
          0.1890448033809662,
          0.17180760204792023,
          0.15843649208545685,
          0.14848724007606506,
          0.14003072679042816,
          0.13376520574092865,
          0.12910299003124237,
          0.12560014426708221,
          0.12221524119377136,
          0.11912762373685837,
          0.11686676740646362,
          0.1148582249879837,
          0.11331962049007416,
          0.11157914996147156,
          0.10967639833688736,
          0.10836950689554214,
          0.10709156095981598,
          0.10586962848901749,
          0.10475370287895203,
          0.10399878770112991,
          0.10310990363359451,
          0.1024135872721672,
          0.10179857164621353,
          0.10118477791547775,
          0.10036087781190872,
          null,
          null,
          null,
          null,
          null,
          null,
          null,
          null,
          null,
          null
         ],
         "yaxis": "y",
         "type": "scattergl"
        },
        {
         "hovertemplate": "Experiment=24<br>Epochs=%{x}<br>Loss=%{y}<extra></extra>",
         "legendgroup": "24",
         "line": {
          "color": "#FFA15A",
          "dash": "solid"
         },
         "marker": {
          "symbol": "circle"
         },
         "mode": "lines",
         "name": "24",
         "showlegend": true,
         "x": [
          0,
          1,
          2,
          3,
          4,
          5,
          6,
          7,
          8,
          9,
          10,
          11,
          12,
          13,
          14,
          15,
          16,
          17,
          18,
          19,
          20,
          21,
          22,
          23,
          24,
          25,
          26,
          27,
          28,
          29,
          30,
          31,
          32,
          33,
          34,
          35,
          36,
          37,
          38,
          39,
          40
         ],
         "xaxis": "x",
         "y": [
          25.62923812866211,
          2.0302023887634277,
          1.7623001337051392,
          1.648063063621521,
          0.668991208076477,
          0.3040875494480133,
          0.25117257237434387,
          0.22044353187084198,
          0.19654831290245056,
          0.18284103274345398,
          0.17083516716957092,
          0.16113720834255219,
          0.15454326570034027,
          0.14949816465377808,
          0.14481987059116364,
          0.14079272747039795,
          0.1380579024553299,
          0.1355006843805313,
          0.13368140161037445,
          0.13236650824546814,
          0.1309352070093155,
          null,
          null,
          null,
          null,
          null,
          null,
          null,
          null,
          null,
          null,
          null,
          null,
          null,
          null,
          null,
          null,
          null,
          null,
          null,
          null
         ],
         "yaxis": "y",
         "type": "scattergl"
        },
        {
         "hovertemplate": "Experiment=25<br>Epochs=%{x}<br>Loss=%{y}<extra></extra>",
         "legendgroup": "25",
         "line": {
          "color": "#19d3f3",
          "dash": "solid"
         },
         "marker": {
          "symbol": "circle"
         },
         "mode": "lines",
         "name": "25",
         "showlegend": true,
         "x": [
          0,
          1,
          2,
          3,
          4,
          5,
          6,
          7,
          8,
          9,
          10,
          11,
          12,
          13,
          14,
          15,
          16,
          17,
          18,
          19,
          20,
          21,
          22,
          23,
          24,
          25,
          26,
          27,
          28,
          29,
          30,
          31,
          32,
          33,
          34,
          35,
          36,
          37,
          38,
          39,
          40
         ],
         "xaxis": "x",
         "y": [
          41.80818557739258,
          1.4241704940795898,
          0.45063045620918274,
          0.3338805139064789,
          0.26883578300476074,
          0.22810639441013336,
          0.20199429988861084,
          0.18182441592216492,
          0.1653803437948227,
          0.15482528507709503,
          0.1458887904882431,
          0.13907283544540405,
          0.13414379954338074,
          0.13003596663475037,
          0.12628155946731567,
          0.12317274510860443,
          0.12112701684236526,
          0.11948903650045395,
          0.11763420701026917,
          0.11578980088233948,
          0.11404504626989365,
          0.1124378889799118,
          0.11123716831207275,
          0.11005333065986633,
          0.10880617052316666,
          0.10770346224308014,
          0.10678563266992569,
          0.10557480156421661,
          0.10452920198440552,
          0.10352594405412674,
          0.10269732773303986,
          null,
          null,
          null,
          null,
          null,
          null,
          null,
          null,
          null,
          null
         ],
         "yaxis": "y",
         "type": "scattergl"
        },
        {
         "hovertemplate": "Experiment=26<br>Epochs=%{x}<br>Loss=%{y}<extra></extra>",
         "legendgroup": "26",
         "line": {
          "color": "#FF6692",
          "dash": "solid"
         },
         "marker": {
          "symbol": "circle"
         },
         "mode": "lines",
         "name": "26",
         "showlegend": true,
         "x": [
          0,
          1,
          2,
          3,
          4,
          5,
          6,
          7,
          8,
          9,
          10,
          11,
          12,
          13,
          14,
          15,
          16,
          17,
          18,
          19,
          20,
          21,
          22,
          23,
          24,
          25,
          26,
          27,
          28,
          29,
          30,
          31,
          32,
          33,
          34,
          35,
          36,
          37,
          38,
          39,
          40
         ],
         "xaxis": "x",
         "y": [
          9.388933181762695,
          0.7238577604293823,
          0.44787415862083435,
          0.34593045711517334,
          0.2857038676738739,
          0.24290241301059723,
          0.21497619152069092,
          0.1911340057849884,
          0.17657221853733063,
          0.16692470014095306,
          0.1564399152994156,
          0.14776435494422913,
          0.13973240554332733,
          0.1321224421262741,
          0.12584055960178375,
          0.12245521694421768,
          0.11866530030965805,
          0.11581941694021225,
          0.11403058469295502,
          0.1126217246055603,
          0.11138099431991577,
          null,
          null,
          null,
          null,
          null,
          null,
          null,
          null,
          null,
          null,
          null,
          null,
          null,
          null,
          null,
          null,
          null,
          null,
          null,
          null
         ],
         "yaxis": "y",
         "type": "scattergl"
        },
        {
         "hovertemplate": "Experiment=27<br>Epochs=%{x}<br>Loss=%{y}<extra></extra>",
         "legendgroup": "27",
         "line": {
          "color": "#B6E880",
          "dash": "solid"
         },
         "marker": {
          "symbol": "circle"
         },
         "mode": "lines",
         "name": "27",
         "showlegend": true,
         "x": [
          0,
          1,
          2,
          3,
          4,
          5,
          6,
          7,
          8,
          9,
          10,
          11,
          12,
          13,
          14,
          15,
          16,
          17,
          18,
          19,
          20,
          21,
          22,
          23,
          24,
          25,
          26,
          27,
          28,
          29,
          30,
          31,
          32,
          33,
          34,
          35,
          36,
          37,
          38,
          39,
          40
         ],
         "xaxis": "x",
         "y": [
          69.65118408203125,
          3.985208034515381,
          2.788959264755249,
          1.4946110248565674,
          0.43010902404785156,
          0.3373158574104309,
          0.2925935685634613,
          0.2613969147205353,
          0.2389565259218216,
          0.2204214483499527,
          0.20721861720085144,
          0.18948040902614594,
          0.17674921452999115,
          0.17110112309455872,
          0.1612585186958313,
          0.15642301738262177,
          0.15219920873641968,
          0.1451365053653717,
          0.14018769562244415,
          0.13432057201862335,
          0.12884220480918884,
          null,
          null,
          null,
          null,
          null,
          null,
          null,
          null,
          null,
          null,
          null,
          null,
          null,
          null,
          null,
          null,
          null,
          null,
          null,
          null
         ],
         "yaxis": "y",
         "type": "scattergl"
        },
        {
         "hovertemplate": "Experiment=28<br>Epochs=%{x}<br>Loss=%{y}<extra></extra>",
         "legendgroup": "28",
         "line": {
          "color": "#FF97FF",
          "dash": "solid"
         },
         "marker": {
          "symbol": "circle"
         },
         "mode": "lines",
         "name": "28",
         "showlegend": true,
         "x": [
          0,
          1,
          2,
          3,
          4,
          5,
          6,
          7,
          8,
          9,
          10,
          11,
          12,
          13,
          14,
          15,
          16,
          17,
          18,
          19,
          20,
          21,
          22,
          23,
          24,
          25,
          26,
          27,
          28,
          29,
          30,
          31,
          32,
          33,
          34,
          35,
          36,
          37,
          38,
          39,
          40
         ],
         "xaxis": "x",
         "y": [
          46.67225646972656,
          2.5212464332580566,
          1.768674373626709,
          1.681605339050293,
          1.647809386253357,
          1.6248890161514282,
          1.6058343648910522,
          1.5978717803955078,
          1.5876027345657349,
          1.5862046480178833,
          1.5745545625686646,
          1.5668307542800903,
          1.5534162521362305,
          1.5390633344650269,
          1.5215357542037964,
          1.462347149848938,
          0.595085620880127,
          0.2307828813791275,
          0.20158207416534424,
          0.18458642065525055,
          0.1690184772014618,
          null,
          null,
          null,
          null,
          null,
          null,
          null,
          null,
          null,
          null,
          null,
          null,
          null,
          null,
          null,
          null,
          null,
          null,
          null,
          null
         ],
         "yaxis": "y",
         "type": "scattergl"
        },
        {
         "hovertemplate": "Experiment=29<br>Epochs=%{x}<br>Loss=%{y}<extra></extra>",
         "legendgroup": "29",
         "line": {
          "color": "#FECB52",
          "dash": "solid"
         },
         "marker": {
          "symbol": "circle"
         },
         "mode": "lines",
         "name": "29",
         "showlegend": true,
         "x": [
          0,
          1,
          2,
          3,
          4,
          5,
          6,
          7,
          8,
          9,
          10,
          11,
          12,
          13,
          14,
          15,
          16,
          17,
          18,
          19,
          20,
          21,
          22,
          23,
          24,
          25,
          26,
          27,
          28,
          29,
          30,
          31,
          32,
          33,
          34,
          35,
          36,
          37,
          38,
          39,
          40
         ],
         "xaxis": "x",
         "y": [
          35.75165939331055,
          0.7746343016624451,
          0.4064052402973175,
          0.31835445761680603,
          0.27467355132102966,
          0.2478240430355072,
          0.2262447327375412,
          0.20939704775810242,
          0.19504356384277344,
          0.18586082756519318,
          0.1776871532201767,
          0.16878575086593628,
          0.16276372969150543,
          0.15699702501296997,
          0.1513480842113495,
          0.14707261323928833,
          0.14120058715343475,
          0.13713453710079193,
          0.13331998884677887,
          0.13010816276073456,
          0.12619037926197052,
          null,
          null,
          null,
          null,
          null,
          null,
          null,
          null,
          null,
          null,
          null,
          null,
          null,
          null,
          null,
          null,
          null,
          null,
          null,
          null
         ],
         "yaxis": "y",
         "type": "scattergl"
        },
        {
         "hovertemplate": "Experiment=30<br>Epochs=%{x}<br>Loss=%{y}<extra></extra>",
         "legendgroup": "30",
         "line": {
          "color": "#636efa",
          "dash": "solid"
         },
         "marker": {
          "symbol": "circle"
         },
         "mode": "lines",
         "name": "30",
         "showlegend": true,
         "x": [
          0,
          1,
          2,
          3,
          4,
          5,
          6,
          7,
          8,
          9,
          10,
          11,
          12,
          13,
          14,
          15,
          16,
          17,
          18,
          19,
          20,
          21,
          22,
          23,
          24,
          25,
          26,
          27,
          28,
          29,
          30,
          31,
          32,
          33,
          34,
          35,
          36,
          37,
          38,
          39,
          40
         ],
         "xaxis": "x",
         "y": [
          33.65764236450195,
          0.8586856126785278,
          0.39772334694862366,
          0.4263036251068115,
          0.33148276805877686,
          0.27750343084335327,
          0.24650029838085175,
          0.2202053815126419,
          0.2003859579563141,
          0.18773013353347778,
          0.17477534711360931,
          0.15890145301818848,
          0.14931057393550873,
          0.14149081707000732,
          0.13574948906898499,
          0.13054819405078888,
          0.12528730928897858,
          0.11960241198539734,
          0.1159839779138565,
          0.11151152849197388,
          0.108151376247406,
          null,
          null,
          null,
          null,
          null,
          null,
          null,
          null,
          null,
          null,
          null,
          null,
          null,
          null,
          null,
          null,
          null,
          null,
          null,
          null
         ],
         "yaxis": "y",
         "type": "scattergl"
        },
        {
         "hovertemplate": "Experiment=31<br>Epochs=%{x}<br>Loss=%{y}<extra></extra>",
         "legendgroup": "31",
         "line": {
          "color": "#EF553B",
          "dash": "solid"
         },
         "marker": {
          "symbol": "circle"
         },
         "mode": "lines",
         "name": "31",
         "showlegend": true,
         "x": [
          0,
          1,
          2,
          3,
          4,
          5,
          6,
          7,
          8,
          9,
          10,
          11,
          12,
          13,
          14,
          15,
          16,
          17,
          18,
          19,
          20,
          21,
          22,
          23,
          24,
          25,
          26,
          27,
          28,
          29,
          30,
          31,
          32,
          33,
          34,
          35,
          36,
          37,
          38,
          39,
          40
         ],
         "xaxis": "x",
         "y": [
          53.244911193847656,
          2.3930740356445312,
          0.7034271955490112,
          0.37516093254089355,
          0.32726427912712097,
          0.285467267036438,
          0.26023033261299133,
          0.24035705626010895,
          0.22407205402851105,
          0.21254320442676544,
          0.19702178239822388,
          0.1863238364458084,
          0.18174469470977783,
          0.17314396798610687,
          0.16490253806114197,
          0.15790018439292908,
          0.15292087197303772,
          0.15007272362709045,
          0.14464326202869415,
          0.14040370285511017,
          0.13426926732063293,
          null,
          null,
          null,
          null,
          null,
          null,
          null,
          null,
          null,
          null,
          null,
          null,
          null,
          null,
          null,
          null,
          null,
          null,
          null,
          null
         ],
         "yaxis": "y",
         "type": "scattergl"
        },
        {
         "hovertemplate": "Experiment=32<br>Epochs=%{x}<br>Loss=%{y}<extra></extra>",
         "legendgroup": "32",
         "line": {
          "color": "#00cc96",
          "dash": "solid"
         },
         "marker": {
          "symbol": "circle"
         },
         "mode": "lines",
         "name": "32",
         "showlegend": true,
         "x": [
          0,
          1,
          2,
          3,
          4,
          5,
          6,
          7,
          8,
          9,
          10,
          11,
          12,
          13,
          14,
          15,
          16,
          17,
          18,
          19,
          20,
          21,
          22,
          23,
          24,
          25,
          26,
          27,
          28,
          29,
          30,
          31,
          32,
          33,
          34,
          35,
          36,
          37,
          38,
          39,
          40
         ],
         "xaxis": "x",
         "y": [
          26.122005462646484,
          0.8624727129936218,
          0.45473626255989075,
          0.3607507646083832,
          0.30130237340927124,
          0.27121737599372864,
          0.24562107026576996,
          0.22777971625328064,
          0.2116793990135193,
          0.19468706846237183,
          0.18531960248947144,
          0.17586301267147064,
          0.17094935476779938,
          0.16285201907157898,
          0.15636099874973297,
          0.1505267322063446,
          0.1457575112581253,
          0.1409320831298828,
          0.13903269171714783,
          0.13374200463294983,
          0.12792269885540009,
          null,
          null,
          null,
          null,
          null,
          null,
          null,
          null,
          null,
          null,
          null,
          null,
          null,
          null,
          null,
          null,
          null,
          null,
          null,
          null
         ],
         "yaxis": "y",
         "type": "scattergl"
        },
        {
         "hovertemplate": "Experiment=33<br>Epochs=%{x}<br>Loss=%{y}<extra></extra>",
         "legendgroup": "33",
         "line": {
          "color": "#ab63fa",
          "dash": "solid"
         },
         "marker": {
          "symbol": "circle"
         },
         "mode": "lines",
         "name": "33",
         "showlegend": true,
         "x": [
          0,
          1,
          2,
          3,
          4,
          5,
          6,
          7,
          8,
          9,
          10,
          11,
          12,
          13,
          14,
          15,
          16,
          17,
          18,
          19,
          20,
          21,
          22,
          23,
          24,
          25,
          26,
          27,
          28,
          29,
          30,
          31,
          32,
          33,
          34,
          35,
          36,
          37,
          38,
          39,
          40
         ],
         "xaxis": "x",
         "y": [
          40.463504791259766,
          0.9783858060836792,
          0.5587764382362366,
          0.4411197900772095,
          0.37109464406967163,
          0.33144861459732056,
          0.3025378882884979,
          0.2842486798763275,
          0.26395291090011597,
          0.2566487789154053,
          0.23473390936851501,
          0.2243618667125702,
          0.21409539878368378,
          0.20572316646575928,
          0.19964581727981567,
          0.19332566857337952,
          0.18854933977127075,
          0.18558521568775177,
          0.17562510073184967,
          0.1689341515302658,
          0.16312861442565918,
          null,
          null,
          null,
          null,
          null,
          null,
          null,
          null,
          null,
          null,
          null,
          null,
          null,
          null,
          null,
          null,
          null,
          null,
          null,
          null
         ],
         "yaxis": "y",
         "type": "scattergl"
        },
        {
         "hovertemplate": "Experiment=34<br>Epochs=%{x}<br>Loss=%{y}<extra></extra>",
         "legendgroup": "34",
         "line": {
          "color": "#FFA15A",
          "dash": "solid"
         },
         "marker": {
          "symbol": "circle"
         },
         "mode": "lines",
         "name": "34",
         "showlegend": true,
         "x": [
          0,
          1,
          2,
          3,
          4,
          5,
          6,
          7,
          8,
          9,
          10,
          11,
          12,
          13,
          14,
          15,
          16,
          17,
          18,
          19,
          20,
          21,
          22,
          23,
          24,
          25,
          26,
          27,
          28,
          29,
          30,
          31,
          32,
          33,
          34,
          35,
          36,
          37,
          38,
          39,
          40
         ],
         "xaxis": "x",
         "y": [
          24.26426124572754,
          0.9658729434013367,
          0.5012661814689636,
          0.39989352226257324,
          0.33648350834846497,
          0.2954000234603882,
          0.26195240020751953,
          0.24022474884986877,
          0.22146467864513397,
          0.20508040487766266,
          0.20215949416160583,
          0.18994425237178802,
          0.1791953593492508,
          0.1716221123933792,
          0.1636655628681183,
          0.15620538592338562,
          0.15008783340454102,
          0.145168736577034,
          0.14439761638641357,
          0.13639922440052032,
          0.1328006237745285,
          null,
          null,
          null,
          null,
          null,
          null,
          null,
          null,
          null,
          null,
          null,
          null,
          null,
          null,
          null,
          null,
          null,
          null,
          null,
          null
         ],
         "yaxis": "y",
         "type": "scattergl"
        },
        {
         "hovertemplate": "Experiment=35<br>Epochs=%{x}<br>Loss=%{y}<extra></extra>",
         "legendgroup": "35",
         "line": {
          "color": "#19d3f3",
          "dash": "solid"
         },
         "marker": {
          "symbol": "circle"
         },
         "mode": "lines",
         "name": "35",
         "showlegend": true,
         "x": [
          0,
          1,
          2,
          3,
          4,
          5,
          6,
          7,
          8,
          9,
          10,
          11,
          12,
          13,
          14,
          15,
          16,
          17,
          18,
          19,
          20,
          21,
          22,
          23,
          24,
          25,
          26,
          27,
          28,
          29,
          30,
          31,
          32,
          33,
          34,
          35,
          36,
          37,
          38,
          39,
          40
         ],
         "xaxis": "x",
         "y": [
          42.695526123046875,
          1.1394238471984863,
          0.5390554666519165,
          0.4226648211479187,
          0.35516899824142456,
          0.3131869435310364,
          0.29450559616088867,
          0.27704641222953796,
          0.26358088850975037,
          0.2523515820503235,
          0.24474750459194183,
          0.23170199990272522,
          0.22122077643871307,
          0.20637769997119904,
          0.19676473736763,
          0.19583885371685028,
          0.1928092986345291,
          0.18467411398887634,
          0.17950916290283203,
          0.17699521780014038,
          0.17005744576454163,
          null,
          null,
          null,
          null,
          null,
          null,
          null,
          null,
          null,
          null,
          null,
          null,
          null,
          null,
          null,
          null,
          null,
          null,
          null,
          null
         ],
         "yaxis": "y",
         "type": "scattergl"
        },
        {
         "hovertemplate": "Experiment=36<br>Epochs=%{x}<br>Loss=%{y}<extra></extra>",
         "legendgroup": "36",
         "line": {
          "color": "#FF6692",
          "dash": "solid"
         },
         "marker": {
          "symbol": "circle"
         },
         "mode": "lines",
         "name": "36",
         "showlegend": true,
         "x": [
          0,
          1,
          2,
          3,
          4,
          5,
          6,
          7,
          8,
          9,
          10,
          11,
          12,
          13,
          14,
          15,
          16,
          17,
          18,
          19,
          20,
          21,
          22,
          23,
          24,
          25,
          26,
          27,
          28,
          29,
          30,
          31,
          32,
          33,
          34,
          35,
          36,
          37,
          38,
          39,
          40
         ],
         "xaxis": "x",
         "y": [
          17.70051383972168,
          0.8048041462898254,
          0.41612815856933594,
          0.31043198704719543,
          0.2551003396511078,
          0.21934150159358978,
          0.19465894997119904,
          0.17473556101322174,
          0.16153986752033234,
          0.14926810562610626,
          0.13992300629615784,
          0.1325223445892334,
          0.12703806161880493,
          0.12292926758527756,
          0.11942440271377563,
          0.11639532446861267,
          0.11384332180023193,
          0.11205212026834488,
          0.1104249656200409,
          0.1092405617237091,
          0.10817412286996841,
          null,
          null,
          null,
          null,
          null,
          null,
          null,
          null,
          null,
          null,
          null,
          null,
          null,
          null,
          null,
          null,
          null,
          null,
          null,
          null
         ],
         "yaxis": "y",
         "type": "scattergl"
        },
        {
         "hovertemplate": "Experiment=37<br>Epochs=%{x}<br>Loss=%{y}<extra></extra>",
         "legendgroup": "37",
         "line": {
          "color": "#B6E880",
          "dash": "solid"
         },
         "marker": {
          "symbol": "circle"
         },
         "mode": "lines",
         "name": "37",
         "showlegend": true,
         "x": [
          0,
          1,
          2,
          3,
          4,
          5,
          6,
          7,
          8,
          9,
          10,
          11,
          12,
          13,
          14,
          15,
          16,
          17,
          18,
          19,
          20,
          21,
          22,
          23,
          24,
          25,
          26,
          27,
          28,
          29,
          30,
          31,
          32,
          33,
          34,
          35,
          36,
          37,
          38,
          39,
          40
         ],
         "xaxis": "x",
         "y": [
          63.01188278198242,
          3.6855926513671875,
          3.1919143199920654,
          3.0874130725860596,
          3.009848117828369,
          2.348414421081543,
          0.9644065499305725,
          0.367344468832016,
          0.3015890419483185,
          0.2653293013572693,
          0.23717506229877472,
          0.21820634603500366,
          0.20130732655525208,
          0.19217893481254578,
          0.18339689075946808,
          0.17530547082424164,
          0.16815458238124847,
          0.1628449559211731,
          0.15926727652549744,
          0.1559658646583557,
          0.15342846512794495,
          null,
          null,
          null,
          null,
          null,
          null,
          null,
          null,
          null,
          null,
          null,
          null,
          null,
          null,
          null,
          null,
          null,
          null,
          null,
          null
         ],
         "yaxis": "y",
         "type": "scattergl"
        },
        {
         "hovertemplate": "Experiment=38<br>Epochs=%{x}<br>Loss=%{y}<extra></extra>",
         "legendgroup": "38",
         "line": {
          "color": "#FF97FF",
          "dash": "solid"
         },
         "marker": {
          "symbol": "circle"
         },
         "mode": "lines",
         "name": "38",
         "showlegend": true,
         "x": [
          0,
          1,
          2,
          3,
          4,
          5,
          6,
          7,
          8,
          9,
          10,
          11,
          12,
          13,
          14,
          15,
          16,
          17,
          18,
          19,
          20,
          21,
          22,
          23,
          24,
          25,
          26,
          27,
          28,
          29,
          30,
          31,
          32,
          33,
          34,
          35,
          36,
          37,
          38,
          39,
          40
         ],
         "xaxis": "x",
         "y": [
          29.68079376220703,
          1.4565212726593018,
          0.4067106544971466,
          0.3001728653907776,
          0.24744154512882233,
          0.2135510891675949,
          0.19095884263515472,
          0.17356544733047485,
          0.16033126413822174,
          0.15225531160831451,
          0.14368726313114166,
          0.13727514445781708,
          0.13115526735782623,
          0.12655328214168549,
          0.12282193452119827,
          0.12008075416088104,
          0.11781394481658936,
          0.11571066081523895,
          0.11415518820285797,
          0.1127903163433075,
          0.11120888590812683,
          null,
          null,
          null,
          null,
          null,
          null,
          null,
          null,
          null,
          null,
          null,
          null,
          null,
          null,
          null,
          null,
          null,
          null,
          null,
          null
         ],
         "yaxis": "y",
         "type": "scattergl"
        },
        {
         "hovertemplate": "Experiment=39<br>Epochs=%{x}<br>Loss=%{y}<extra></extra>",
         "legendgroup": "39",
         "line": {
          "color": "#FECB52",
          "dash": "solid"
         },
         "marker": {
          "symbol": "circle"
         },
         "mode": "lines",
         "name": "39",
         "showlegend": true,
         "x": [
          0,
          1,
          2,
          3,
          4,
          5,
          6,
          7,
          8,
          9,
          10,
          11,
          12,
          13,
          14,
          15,
          16,
          17,
          18,
          19,
          20,
          21,
          22,
          23,
          24,
          25,
          26,
          27,
          28,
          29,
          30,
          31,
          32,
          33,
          34,
          35,
          36,
          37,
          38,
          39,
          40
         ],
         "xaxis": "x",
         "y": [
          68.0556640625,
          1.9846400022506714,
          0.5599011182785034,
          0.40747272968292236,
          0.3221556544303894,
          0.283276230096817,
          0.25340187549591064,
          0.23302488029003143,
          0.21581195294857025,
          0.20304402709007263,
          0.19139152765274048,
          0.1823764145374298,
          0.1732942909002304,
          0.16541875898838043,
          0.15755991637706757,
          0.1526445895433426,
          0.1475861519575119,
          0.14410273730754852,
          0.14195303618907928,
          0.13982835412025452,
          0.13799604773521423,
          null,
          null,
          null,
          null,
          null,
          null,
          null,
          null,
          null,
          null,
          null,
          null,
          null,
          null,
          null,
          null,
          null,
          null,
          null,
          null
         ],
         "yaxis": "y",
         "type": "scattergl"
        },
        {
         "hovertemplate": "Experiment=40<br>Epochs=%{x}<br>Loss=%{y}<extra></extra>",
         "legendgroup": "40",
         "line": {
          "color": "#636efa",
          "dash": "solid"
         },
         "marker": {
          "symbol": "circle"
         },
         "mode": "lines",
         "name": "40",
         "showlegend": true,
         "x": [
          0,
          1,
          2,
          3,
          4,
          5,
          6,
          7,
          8,
          9,
          10,
          11,
          12,
          13,
          14,
          15,
          16,
          17,
          18,
          19,
          20,
          21,
          22,
          23,
          24,
          25,
          26,
          27,
          28,
          29,
          30,
          31,
          32,
          33,
          34,
          35,
          36,
          37,
          38,
          39,
          40
         ],
         "xaxis": "x",
         "y": [
          31.42809295654297,
          2.2370617389678955,
          1.439653754234314,
          0.40427741408348083,
          0.3031946122646332,
          0.2530575692653656,
          0.22037801146507263,
          0.1981547623872757,
          0.1774919331073761,
          0.16260474920272827,
          0.15008656680583954,
          0.14315705001354218,
          0.13585451245307922,
          0.12942864000797272,
          0.12480253726243973,
          0.1208161935210228,
          0.11767960339784622,
          0.11585158854722977,
          0.11436052620410919,
          0.11287018656730652,
          0.11143185198307037,
          null,
          null,
          null,
          null,
          null,
          null,
          null,
          null,
          null,
          null,
          null,
          null,
          null,
          null,
          null,
          null,
          null,
          null,
          null,
          null
         ],
         "yaxis": "y",
         "type": "scattergl"
        },
        {
         "hovertemplate": "Experiment=41<br>Epochs=%{x}<br>Loss=%{y}<extra></extra>",
         "legendgroup": "41",
         "line": {
          "color": "#EF553B",
          "dash": "solid"
         },
         "marker": {
          "symbol": "circle"
         },
         "mode": "lines",
         "name": "41",
         "showlegend": true,
         "x": [
          0,
          1,
          2,
          3,
          4,
          5,
          6,
          7,
          8,
          9,
          10,
          11,
          12,
          13,
          14,
          15,
          16,
          17,
          18,
          19,
          20,
          21,
          22,
          23,
          24,
          25,
          26,
          27,
          28,
          29,
          30,
          31,
          32,
          33,
          34,
          35,
          36,
          37,
          38,
          39,
          40
         ],
         "xaxis": "x",
         "y": [
          100.593994140625,
          6.841363906860352,
          6.0010223388671875,
          5.421245098114014,
          4.125978469848633,
          3.9244585037231445,
          3.890258550643921,
          3.8620269298553467,
          3.854970693588257,
          3.830350399017334,
          3.8416972160339355,
          3.8309288024902344,
          3.8224825859069824,
          3.8164424896240234,
          3.789456367492676,
          3.2559289932250977,
          2.3646013736724854,
          2.3182575702667236,
          2.3197109699249268,
          2.3017077445983887,
          2.2859647274017334,
          null,
          null,
          null,
          null,
          null,
          null,
          null,
          null,
          null,
          null,
          null,
          null,
          null,
          null,
          null,
          null,
          null,
          null,
          null,
          null
         ],
         "yaxis": "y",
         "type": "scattergl"
        },
        {
         "hovertemplate": "Experiment=42<br>Epochs=%{x}<br>Loss=%{y}<extra></extra>",
         "legendgroup": "42",
         "line": {
          "color": "#00cc96",
          "dash": "solid"
         },
         "marker": {
          "symbol": "circle"
         },
         "mode": "lines",
         "name": "42",
         "showlegend": true,
         "x": [
          0,
          1,
          2,
          3,
          4,
          5,
          6,
          7,
          8,
          9,
          10,
          11,
          12,
          13,
          14,
          15,
          16,
          17,
          18,
          19,
          20,
          21,
          22,
          23,
          24,
          25,
          26,
          27,
          28,
          29,
          30,
          31,
          32,
          33,
          34,
          35,
          36,
          37,
          38,
          39,
          40
         ],
         "xaxis": "x",
         "y": [
          35.10444259643555,
          2.855390787124634,
          1.8250969648361206,
          1.6487196683883667,
          0.48769256472587585,
          0.2564259469509125,
          0.21617037057876587,
          0.19403532147407532,
          0.1778704971075058,
          0.16273237764835358,
          0.15132465958595276,
          0.14155995845794678,
          0.13301602005958557,
          0.12711282074451447,
          0.12261313199996948,
          0.11958883702754974,
          0.11724390834569931,
          0.11557448655366898,
          0.11412807554006577,
          0.11318232119083405,
          0.11235402524471283,
          null,
          null,
          null,
          null,
          null,
          null,
          null,
          null,
          null,
          null,
          null,
          null,
          null,
          null,
          null,
          null,
          null,
          null,
          null,
          null
         ],
         "yaxis": "y",
         "type": "scattergl"
        },
        {
         "hovertemplate": "Experiment=43<br>Epochs=%{x}<br>Loss=%{y}<extra></extra>",
         "legendgroup": "43",
         "line": {
          "color": "#ab63fa",
          "dash": "solid"
         },
         "marker": {
          "symbol": "circle"
         },
         "mode": "lines",
         "name": "43",
         "showlegend": true,
         "x": [
          0,
          1,
          2,
          3,
          4,
          5,
          6,
          7,
          8,
          9,
          10,
          11,
          12,
          13,
          14,
          15,
          16,
          17,
          18,
          19,
          20,
          21,
          22,
          23,
          24,
          25,
          26,
          27,
          28,
          29,
          30,
          31,
          32,
          33,
          34,
          35,
          36,
          37,
          38,
          39,
          40
         ],
         "xaxis": "x",
         "y": [
          33.18318557739258,
          0.94300776720047,
          0.6905945539474487,
          0.48158055543899536,
          0.382175475358963,
          0.33012279868125916,
          0.29575029015541077,
          0.27159199118614197,
          0.2484966516494751,
          0.2298441231250763,
          0.21745888888835907,
          0.20443464815616608,
          0.19413264095783234,
          0.181365966796875,
          0.17424412071704865,
          0.17127056419849396,
          0.16658224165439606,
          0.161748468875885,
          0.15628233551979065,
          0.15140695869922638,
          0.14676348865032196,
          null,
          null,
          null,
          null,
          null,
          null,
          null,
          null,
          null,
          null,
          null,
          null,
          null,
          null,
          null,
          null,
          null,
          null,
          null,
          null
         ],
         "yaxis": "y",
         "type": "scattergl"
        },
        {
         "hovertemplate": "Experiment=44<br>Epochs=%{x}<br>Loss=%{y}<extra></extra>",
         "legendgroup": "44",
         "line": {
          "color": "#FFA15A",
          "dash": "solid"
         },
         "marker": {
          "symbol": "circle"
         },
         "mode": "lines",
         "name": "44",
         "showlegend": true,
         "x": [
          0,
          1,
          2,
          3,
          4,
          5,
          6,
          7,
          8,
          9,
          10,
          11,
          12,
          13,
          14,
          15,
          16,
          17,
          18,
          19,
          20,
          21,
          22,
          23,
          24,
          25,
          26,
          27,
          28,
          29,
          30,
          31,
          32,
          33,
          34,
          35,
          36,
          37,
          38,
          39,
          40
         ],
         "xaxis": "x",
         "y": [
          20.713830947875977,
          0.6606173515319824,
          0.41426146030426025,
          0.30126988887786865,
          0.24372240900993347,
          0.21129126846790314,
          0.18946239352226257,
          0.16935944557189941,
          0.15412995219230652,
          0.14214663207530975,
          0.13145488500595093,
          0.12360449880361557,
          0.11722797900438309,
          0.11253681033849716,
          0.10794974863529205,
          0.10547928512096405,
          0.1028740406036377,
          0.10094095766544342,
          0.09921557456254959,
          0.0978696346282959,
          0.0968039482831955,
          null,
          null,
          null,
          null,
          null,
          null,
          null,
          null,
          null,
          null,
          null,
          null,
          null,
          null,
          null,
          null,
          null,
          null,
          null,
          null
         ],
         "yaxis": "y",
         "type": "scattergl"
        },
        {
         "hovertemplate": "Experiment=45<br>Epochs=%{x}<br>Loss=%{y}<extra></extra>",
         "legendgroup": "45",
         "line": {
          "color": "#19d3f3",
          "dash": "solid"
         },
         "marker": {
          "symbol": "circle"
         },
         "mode": "lines",
         "name": "45",
         "showlegend": true,
         "x": [
          0,
          1,
          2,
          3,
          4,
          5,
          6,
          7,
          8,
          9,
          10,
          11,
          12,
          13,
          14,
          15,
          16,
          17,
          18,
          19,
          20,
          21,
          22,
          23,
          24,
          25,
          26,
          27,
          28,
          29,
          30,
          31,
          32,
          33,
          34,
          35,
          36,
          37,
          38,
          39,
          40
         ],
         "xaxis": "x",
         "y": [
          46.87178421020508,
          2.538724660873413,
          1.122722864151001,
          0.5836437344551086,
          0.486122190952301,
          0.43023058772087097,
          0.3845846652984619,
          0.3451460003852844,
          0.3185102641582489,
          0.2931583523750305,
          0.27448228001594543,
          0.26287296414375305,
          0.24516414105892181,
          0.23295658826828003,
          0.2193860560655594,
          0.21583041548728943,
          0.20425061881542206,
          0.19618473947048187,
          0.18937529623508453,
          0.17932581901550293,
          0.1753915548324585,
          null,
          null,
          null,
          null,
          null,
          null,
          null,
          null,
          null,
          null,
          null,
          null,
          null,
          null,
          null,
          null,
          null,
          null,
          null,
          null
         ],
         "yaxis": "y",
         "type": "scattergl"
        },
        {
         "hovertemplate": "Experiment=46<br>Epochs=%{x}<br>Loss=%{y}<extra></extra>",
         "legendgroup": "46",
         "line": {
          "color": "#FF6692",
          "dash": "solid"
         },
         "marker": {
          "symbol": "circle"
         },
         "mode": "lines",
         "name": "46",
         "showlegend": true,
         "x": [
          0,
          1,
          2,
          3,
          4,
          5,
          6,
          7,
          8,
          9,
          10,
          11,
          12,
          13,
          14,
          15,
          16,
          17,
          18,
          19,
          20,
          21,
          22,
          23,
          24,
          25,
          26,
          27,
          28,
          29,
          30,
          31,
          32,
          33,
          34,
          35,
          36,
          37,
          38,
          39,
          40
         ],
         "xaxis": "x",
         "y": [
          25.94154167175293,
          0.8189685344696045,
          0.42063695192337036,
          0.32709643244743347,
          0.2797130048274994,
          0.24919459223747253,
          0.22377772629261017,
          0.2062533050775528,
          0.1905592978000641,
          0.17770332098007202,
          0.17335151135921478,
          0.16569742560386658,
          0.1574867218732834,
          0.14949217438697815,
          0.14390429854393005,
          0.13840432465076447,
          0.13436608016490936,
          0.1306408792734146,
          0.127327099442482,
          0.12532462179660797,
          0.1237618550658226,
          null,
          null,
          null,
          null,
          null,
          null,
          null,
          null,
          null,
          null,
          null,
          null,
          null,
          null,
          null,
          null,
          null,
          null,
          null,
          null
         ],
         "yaxis": "y",
         "type": "scattergl"
        },
        {
         "hovertemplate": "Experiment=47<br>Epochs=%{x}<br>Loss=%{y}<extra></extra>",
         "legendgroup": "47",
         "line": {
          "color": "#B6E880",
          "dash": "solid"
         },
         "marker": {
          "symbol": "circle"
         },
         "mode": "lines",
         "name": "47",
         "showlegend": true,
         "x": [
          0,
          1,
          2,
          3,
          4,
          5,
          6,
          7,
          8,
          9,
          10,
          11,
          12,
          13,
          14,
          15,
          16,
          17,
          18,
          19,
          20,
          21,
          22,
          23,
          24,
          25,
          26,
          27,
          28,
          29,
          30,
          31,
          32,
          33,
          34,
          35,
          36,
          37,
          38,
          39,
          40
         ],
         "xaxis": "x",
         "y": [
          21.72095489501953,
          0.8108917474746704,
          0.4739976227283478,
          0.36245203018188477,
          0.3085015118122101,
          0.2663857042789459,
          0.2376766800880432,
          0.21613991260528564,
          0.199683278799057,
          0.18944786489009857,
          0.1789984405040741,
          0.16793681681156158,
          0.15895694494247437,
          0.15192121267318726,
          0.14646287262439728,
          0.14163707196712494,
          0.13487273454666138,
          0.13087154924869537,
          0.12639197707176208,
          0.12136301398277283,
          0.11814108490943909,
          null,
          null,
          null,
          null,
          null,
          null,
          null,
          null,
          null,
          null,
          null,
          null,
          null,
          null,
          null,
          null,
          null,
          null,
          null,
          null
         ],
         "yaxis": "y",
         "type": "scattergl"
        },
        {
         "hovertemplate": "Experiment=48<br>Epochs=%{x}<br>Loss=%{y}<extra></extra>",
         "legendgroup": "48",
         "line": {
          "color": "#FF97FF",
          "dash": "solid"
         },
         "marker": {
          "symbol": "circle"
         },
         "mode": "lines",
         "name": "48",
         "showlegend": true,
         "x": [
          0,
          1,
          2,
          3,
          4,
          5,
          6,
          7,
          8,
          9,
          10,
          11,
          12,
          13,
          14,
          15,
          16,
          17,
          18,
          19,
          20,
          21,
          22,
          23,
          24,
          25,
          26,
          27,
          28,
          29,
          30,
          31,
          32,
          33,
          34,
          35,
          36,
          37,
          38,
          39,
          40
         ],
         "xaxis": "x",
         "y": [
          6.3458452224731445,
          0.771040141582489,
          0.490522563457489,
          0.3865874111652374,
          0.3243929445743561,
          0.2842647135257721,
          0.2637607753276825,
          0.2408255785703659,
          0.22655712068080902,
          0.21868598461151123,
          0.21095114946365356,
          0.20050601661205292,
          0.1909102201461792,
          0.18433955311775208,
          0.17890657484531403,
          0.17087511718273163,
          0.16098807752132416,
          0.155211940407753,
          0.1513364017009735,
          0.1498713493347168,
          0.1458413153886795,
          null,
          null,
          null,
          null,
          null,
          null,
          null,
          null,
          null,
          null,
          null,
          null,
          null,
          null,
          null,
          null,
          null,
          null,
          null,
          null
         ],
         "yaxis": "y",
         "type": "scattergl"
        },
        {
         "hovertemplate": "Experiment=49<br>Epochs=%{x}<br>Loss=%{y}<extra></extra>",
         "legendgroup": "49",
         "line": {
          "color": "#FECB52",
          "dash": "solid"
         },
         "marker": {
          "symbol": "circle"
         },
         "mode": "lines",
         "name": "49",
         "showlegend": true,
         "x": [
          0,
          1,
          2,
          3,
          4,
          5,
          6,
          7,
          8,
          9,
          10,
          11,
          12,
          13,
          14,
          15,
          16,
          17,
          18,
          19,
          20,
          21,
          22,
          23,
          24,
          25,
          26,
          27,
          28,
          29,
          30,
          31,
          32,
          33,
          34,
          35,
          36,
          37,
          38,
          39,
          40
         ],
         "xaxis": "x",
         "y": [
          32.959110260009766,
          2.302567720413208,
          1.7099180221557617,
          1.632415533065796,
          1.576980471611023,
          1.5595216751098633,
          1.5268397331237793,
          1.345755934715271,
          0.342470645904541,
          0.22414596378803253,
          0.20331041514873505,
          0.18731003999710083,
          0.176056906580925,
          0.1644260585308075,
          0.15601864457130432,
          0.14679338037967682,
          0.13919952511787415,
          0.1342308521270752,
          0.1307908445596695,
          0.1260942816734314,
          0.12198307365179062,
          null,
          null,
          null,
          null,
          null,
          null,
          null,
          null,
          null,
          null,
          null,
          null,
          null,
          null,
          null,
          null,
          null,
          null,
          null,
          null
         ],
         "yaxis": "y",
         "type": "scattergl"
        },
        {
         "hovertemplate": "Experiment=50<br>Epochs=%{x}<br>Loss=%{y}<extra></extra>",
         "legendgroup": "50",
         "line": {
          "color": "#636efa",
          "dash": "solid"
         },
         "marker": {
          "symbol": "circle"
         },
         "mode": "lines",
         "name": "50",
         "showlegend": true,
         "x": [
          0,
          1,
          2,
          3,
          4,
          5,
          6,
          7,
          8,
          9,
          10,
          11,
          12,
          13,
          14,
          15,
          16,
          17,
          18,
          19,
          20,
          21,
          22,
          23,
          24,
          25,
          26,
          27,
          28,
          29,
          30,
          31,
          32,
          33,
          34,
          35,
          36,
          37,
          38,
          39,
          40
         ],
         "xaxis": "x",
         "y": [
          32.32078552246094,
          2.0755600929260254,
          1.7587616443634033,
          0.6722455024719238,
          0.33311527967453003,
          0.2826697528362274,
          0.25819826126098633,
          0.23811320960521698,
          0.22164954245090485,
          0.2040155977010727,
          0.18955427408218384,
          0.17409223318099976,
          0.1662139594554901,
          0.15568381547927856,
          0.14840219914913177,
          0.14092440903186798,
          0.13631519675254822,
          0.12901920080184937,
          0.12354974448680878,
          0.11946236342191696,
          0.11673734337091446,
          null,
          null,
          null,
          null,
          null,
          null,
          null,
          null,
          null,
          null,
          null,
          null,
          null,
          null,
          null,
          null,
          null,
          null,
          null,
          null
         ],
         "yaxis": "y",
         "type": "scattergl"
        },
        {
         "hovertemplate": "Experiment=51<br>Epochs=%{x}<br>Loss=%{y}<extra></extra>",
         "legendgroup": "51",
         "line": {
          "color": "#EF553B",
          "dash": "solid"
         },
         "marker": {
          "symbol": "circle"
         },
         "mode": "lines",
         "name": "51",
         "showlegend": true,
         "x": [
          0,
          1,
          2,
          3,
          4,
          5,
          6,
          7,
          8,
          9,
          10,
          11,
          12,
          13,
          14,
          15,
          16,
          17,
          18,
          19,
          20,
          21,
          22,
          23,
          24,
          25,
          26,
          27,
          28,
          29,
          30,
          31,
          32,
          33,
          34,
          35,
          36,
          37,
          38,
          39,
          40
         ],
         "xaxis": "x",
         "y": [
          36.20536422729492,
          0.9882579445838928,
          0.46982985734939575,
          0.3707331717014313,
          0.31968000531196594,
          0.28213346004486084,
          0.2528544068336487,
          0.23172004520893097,
          0.22162018716335297,
          0.2059314101934433,
          0.19312302768230438,
          0.18295840919017792,
          0.17350761592388153,
          0.1666605919599533,
          0.1594245880842209,
          0.15115532279014587,
          0.14733783900737762,
          0.1410401314496994,
          0.13537362217903137,
          0.12932589650154114,
          0.12581771612167358,
          null,
          null,
          null,
          null,
          null,
          null,
          null,
          null,
          null,
          null,
          null,
          null,
          null,
          null,
          null,
          null,
          null,
          null,
          null,
          null
         ],
         "yaxis": "y",
         "type": "scattergl"
        },
        {
         "hovertemplate": "Experiment=52<br>Epochs=%{x}<br>Loss=%{y}<extra></extra>",
         "legendgroup": "52",
         "line": {
          "color": "#00cc96",
          "dash": "solid"
         },
         "marker": {
          "symbol": "circle"
         },
         "mode": "lines",
         "name": "52",
         "showlegend": true,
         "x": [
          0,
          1,
          2,
          3,
          4,
          5,
          6,
          7,
          8,
          9,
          10,
          11,
          12,
          13,
          14,
          15,
          16,
          17,
          18,
          19,
          20,
          21,
          22,
          23,
          24,
          25,
          26,
          27,
          28,
          29,
          30,
          31,
          32,
          33,
          34,
          35,
          36,
          37,
          38,
          39,
          40
         ],
         "xaxis": "x",
         "y": [
          30.854944229125977,
          1.1500823497772217,
          0.6558811068534851,
          0.46119028329849243,
          0.3833441734313965,
          0.3346977233886719,
          0.30472734570503235,
          0.2758098542690277,
          0.25898951292037964,
          0.24320107698440552,
          0.22437085211277008,
          0.2099466472864151,
          0.20172220468521118,
          0.19696469604969025,
          0.1879945993423462,
          0.17912964522838593,
          0.17578361928462982,
          0.17247374355793,
          0.16779448091983795,
          0.1634199172258377,
          0.15932594239711761,
          null,
          null,
          null,
          null,
          null,
          null,
          null,
          null,
          null,
          null,
          null,
          null,
          null,
          null,
          null,
          null,
          null,
          null,
          null,
          null
         ],
         "yaxis": "y",
         "type": "scattergl"
        },
        {
         "hovertemplate": "Experiment=53<br>Epochs=%{x}<br>Loss=%{y}<extra></extra>",
         "legendgroup": "53",
         "line": {
          "color": "#ab63fa",
          "dash": "solid"
         },
         "marker": {
          "symbol": "circle"
         },
         "mode": "lines",
         "name": "53",
         "showlegend": true,
         "x": [
          0,
          1,
          2,
          3,
          4,
          5,
          6,
          7,
          8,
          9,
          10,
          11,
          12,
          13,
          14,
          15,
          16,
          17,
          18,
          19,
          20,
          21,
          22,
          23,
          24,
          25,
          26,
          27,
          28,
          29,
          30,
          31,
          32,
          33,
          34,
          35,
          36,
          37,
          38,
          39,
          40
         ],
         "xaxis": "x",
         "y": [
          22.008403778076172,
          0.8236603140830994,
          0.47664153575897217,
          0.38319358229637146,
          0.31986555457115173,
          0.28333964943885803,
          0.25726404786109924,
          0.2310042530298233,
          0.21856655180454254,
          0.20230653882026672,
          0.195856973528862,
          0.18381454050540924,
          0.16900578141212463,
          0.16487489640712738,
          0.15896743535995483,
          0.15424476563930511,
          0.14813117682933807,
          0.14407430589199066,
          0.1421308070421219,
          0.13571880757808685,
          0.1289849728345871,
          null,
          null,
          null,
          null,
          null,
          null,
          null,
          null,
          null,
          null,
          null,
          null,
          null,
          null,
          null,
          null,
          null,
          null,
          null,
          null
         ],
         "yaxis": "y",
         "type": "scattergl"
        },
        {
         "hovertemplate": "Experiment=54<br>Epochs=%{x}<br>Loss=%{y}<extra></extra>",
         "legendgroup": "54",
         "line": {
          "color": "#FFA15A",
          "dash": "solid"
         },
         "marker": {
          "symbol": "circle"
         },
         "mode": "lines",
         "name": "54",
         "showlegend": true,
         "x": [
          0,
          1,
          2,
          3,
          4,
          5,
          6,
          7,
          8,
          9,
          10,
          11,
          12,
          13,
          14,
          15,
          16,
          17,
          18,
          19,
          20,
          21,
          22,
          23,
          24,
          25,
          26,
          27,
          28,
          29,
          30,
          31,
          32,
          33,
          34,
          35,
          36,
          37,
          38,
          39,
          40
         ],
         "xaxis": "x",
         "y": [
          35.75407028198242,
          1.8718249797821045,
          1.586612582206726,
          1.4998952150344849,
          1.4294168949127197,
          1.2209261655807495,
          0.27811694145202637,
          0.2428564727306366,
          0.22297227382659912,
          0.20756517350673676,
          0.1966552734375,
          0.1824665069580078,
          0.17084643244743347,
          0.16320908069610596,
          0.15412099659442902,
          0.1475086510181427,
          0.1396198570728302,
          0.13155411183834076,
          0.12640495598316193,
          0.12257988005876541,
          0.11936923861503601,
          null,
          null,
          null,
          null,
          null,
          null,
          null,
          null,
          null,
          null,
          null,
          null,
          null,
          null,
          null,
          null,
          null,
          null,
          null,
          null
         ],
         "yaxis": "y",
         "type": "scattergl"
        },
        {
         "hovertemplate": "Experiment=55<br>Epochs=%{x}<br>Loss=%{y}<extra></extra>",
         "legendgroup": "55",
         "line": {
          "color": "#19d3f3",
          "dash": "solid"
         },
         "marker": {
          "symbol": "circle"
         },
         "mode": "lines",
         "name": "55",
         "showlegend": true,
         "x": [
          0,
          1,
          2,
          3,
          4,
          5,
          6,
          7,
          8,
          9,
          10,
          11,
          12,
          13,
          14,
          15,
          16,
          17,
          18,
          19,
          20,
          21,
          22,
          23,
          24,
          25,
          26,
          27,
          28,
          29,
          30,
          31,
          32,
          33,
          34,
          35,
          36,
          37,
          38,
          39,
          40
         ],
         "xaxis": "x",
         "y": [
          20.844764709472656,
          0.7919414639472961,
          0.43898460268974304,
          0.3753610849380493,
          0.2915463149547577,
          0.24221186339855194,
          0.21208027005195618,
          0.1884784996509552,
          0.17428365349769592,
          0.16009066998958588,
          0.14989285171031952,
          0.14051292836666107,
          0.13376100361347198,
          0.12851324677467346,
          0.12468791007995605,
          0.12173722684383392,
          0.11901436746120453,
          0.11671289801597595,
          0.11419705301523209,
          0.11248107254505157,
          0.11109787970781326,
          null,
          null,
          null,
          null,
          null,
          null,
          null,
          null,
          null,
          null,
          null,
          null,
          null,
          null,
          null,
          null,
          null,
          null,
          null,
          null
         ],
         "yaxis": "y",
         "type": "scattergl"
        },
        {
         "hovertemplate": "Experiment=56<br>Epochs=%{x}<br>Loss=%{y}<extra></extra>",
         "legendgroup": "56",
         "line": {
          "color": "#FF6692",
          "dash": "solid"
         },
         "marker": {
          "symbol": "circle"
         },
         "mode": "lines",
         "name": "56",
         "showlegend": true,
         "x": [
          0,
          1,
          2,
          3,
          4,
          5,
          6,
          7,
          8,
          9,
          10,
          11,
          12,
          13,
          14,
          15,
          16,
          17,
          18,
          19,
          20,
          21,
          22,
          23,
          24,
          25,
          26,
          27,
          28,
          29,
          30,
          31,
          32,
          33,
          34,
          35,
          36,
          37,
          38,
          39,
          40
         ],
         "xaxis": "x",
         "y": [
          16.20203399658203,
          0.770693838596344,
          0.43974190950393677,
          0.3294755816459656,
          0.2687610387802124,
          0.2315603643655777,
          0.20319153368473053,
          0.18276779353618622,
          0.1710294932126999,
          0.16011421382427216,
          0.15020038187503815,
          0.1433766782283783,
          0.13628381490707397,
          0.13090552389621735,
          0.12715286016464233,
          0.12368359416723251,
          0.12061510980129242,
          0.11859104782342911,
          0.11665475368499756,
          0.11452411115169525,
          0.11340776830911636,
          null,
          null,
          null,
          null,
          null,
          null,
          null,
          null,
          null,
          null,
          null,
          null,
          null,
          null,
          null,
          null,
          null,
          null,
          null,
          null
         ],
         "yaxis": "y",
         "type": "scattergl"
        },
        {
         "hovertemplate": "Experiment=57<br>Epochs=%{x}<br>Loss=%{y}<extra></extra>",
         "legendgroup": "57",
         "line": {
          "color": "#B6E880",
          "dash": "solid"
         },
         "marker": {
          "symbol": "circle"
         },
         "mode": "lines",
         "name": "57",
         "showlegend": true,
         "x": [
          0,
          1,
          2,
          3,
          4,
          5,
          6,
          7,
          8,
          9,
          10,
          11,
          12,
          13,
          14,
          15,
          16,
          17,
          18,
          19,
          20,
          21,
          22,
          23,
          24,
          25,
          26,
          27,
          28,
          29,
          30,
          31,
          32,
          33,
          34,
          35,
          36,
          37,
          38,
          39,
          40
         ],
         "xaxis": "x",
         "y": [
          10.861541748046875,
          0.5093851089477539,
          0.4086429476737976,
          0.3210972249507904,
          0.25874221324920654,
          0.22454698383808136,
          0.19757650792598724,
          0.18384091556072235,
          0.17058883607387543,
          0.15933355689048767,
          0.1499205082654953,
          0.14146511256694794,
          0.13557018339633942,
          0.13085812330245972,
          0.1253690868616104,
          0.12137860059738159,
          0.11827234923839569,
          0.1159563809633255,
          0.11508879065513611,
          0.1140291690826416,
          0.11321686953306198,
          null,
          null,
          null,
          null,
          null,
          null,
          null,
          null,
          null,
          null,
          null,
          null,
          null,
          null,
          null,
          null,
          null,
          null,
          null,
          null
         ],
         "yaxis": "y",
         "type": "scattergl"
        },
        {
         "hovertemplate": "Experiment=58<br>Epochs=%{x}<br>Loss=%{y}<extra></extra>",
         "legendgroup": "58",
         "line": {
          "color": "#FF97FF",
          "dash": "solid"
         },
         "marker": {
          "symbol": "circle"
         },
         "mode": "lines",
         "name": "58",
         "showlegend": true,
         "x": [
          0,
          1,
          2,
          3,
          4,
          5,
          6,
          7,
          8,
          9,
          10,
          11,
          12,
          13,
          14,
          15,
          16,
          17,
          18,
          19,
          20,
          21,
          22,
          23,
          24,
          25,
          26,
          27,
          28,
          29,
          30,
          31,
          32,
          33,
          34,
          35,
          36,
          37,
          38,
          39,
          40
         ],
         "xaxis": "x",
         "y": [
          22.9946231842041,
          0.8483576774597168,
          0.43135589361190796,
          0.32782837748527527,
          0.2819073796272278,
          0.2435736507177353,
          0.21520653367042542,
          0.19670233130455017,
          0.1798645406961441,
          0.16920454800128937,
          0.15980780124664307,
          0.1515243500471115,
          0.1436244398355484,
          0.1388309746980667,
          0.1312599629163742,
          0.128297820687294,
          0.12428884208202362,
          0.12121028453111649,
          0.11911653727293015,
          0.11753252893686295,
          0.11570541560649872,
          null,
          null,
          null,
          null,
          null,
          null,
          null,
          null,
          null,
          null,
          null,
          null,
          null,
          null,
          null,
          null,
          null,
          null,
          null,
          null
         ],
         "yaxis": "y",
         "type": "scattergl"
        },
        {
         "hovertemplate": "Experiment=59<br>Epochs=%{x}<br>Loss=%{y}<extra></extra>",
         "legendgroup": "59",
         "line": {
          "color": "#FECB52",
          "dash": "solid"
         },
         "marker": {
          "symbol": "circle"
         },
         "mode": "lines",
         "name": "59",
         "showlegend": true,
         "x": [
          0,
          1,
          2,
          3,
          4,
          5,
          6,
          7,
          8,
          9,
          10,
          11,
          12,
          13,
          14,
          15,
          16,
          17,
          18,
          19,
          20,
          21,
          22,
          23,
          24,
          25,
          26,
          27,
          28,
          29,
          30,
          31,
          32,
          33,
          34,
          35,
          36,
          37,
          38,
          39,
          40
         ],
         "xaxis": "x",
         "y": [
          21.483535766601562,
          0.7670370936393738,
          0.38134241104125977,
          0.2980492115020752,
          0.2580823302268982,
          0.22620753943920135,
          0.2047053873538971,
          0.19131271541118622,
          0.18237006664276123,
          0.17191839218139648,
          0.16389158368110657,
          0.1526467651128769,
          0.14524821937084198,
          0.13909003138542175,
          0.13435260951519012,
          0.12958937883377075,
          0.12532731890678406,
          0.11945278197526932,
          0.1163940578699112,
          0.1139398068189621,
          0.11216863244771957,
          null,
          null,
          null,
          null,
          null,
          null,
          null,
          null,
          null,
          null,
          null,
          null,
          null,
          null,
          null,
          null,
          null,
          null,
          null,
          null
         ],
         "yaxis": "y",
         "type": "scattergl"
        },
        {
         "hovertemplate": "Experiment=60<br>Epochs=%{x}<br>Loss=%{y}<extra></extra>",
         "legendgroup": "60",
         "line": {
          "color": "#636efa",
          "dash": "solid"
         },
         "marker": {
          "symbol": "circle"
         },
         "mode": "lines",
         "name": "60",
         "showlegend": true,
         "x": [
          0,
          1,
          2,
          3,
          4,
          5,
          6,
          7,
          8,
          9,
          10,
          11,
          12,
          13,
          14,
          15,
          16,
          17,
          18,
          19,
          20,
          21,
          22,
          23,
          24,
          25,
          26,
          27,
          28,
          29,
          30,
          31,
          32,
          33,
          34,
          35,
          36,
          37,
          38,
          39,
          40
         ],
         "xaxis": "x",
         "y": [
          11.27271842956543,
          0.7388947606086731,
          0.5060741305351257,
          0.3835032284259796,
          0.3258408308029175,
          0.2842871844768524,
          0.24957790970802307,
          0.22727128863334656,
          0.21446166932582855,
          0.2015857994556427,
          0.19208431243896484,
          0.1835547238588333,
          0.17329764366149902,
          0.16547606885433197,
          0.16395527124404907,
          0.15786972641944885,
          0.15094636380672455,
          0.1447415053844452,
          0.14126624166965485,
          0.13801907002925873,
          0.13618838787078857,
          null,
          null,
          null,
          null,
          null,
          null,
          null,
          null,
          null,
          null,
          null,
          null,
          null,
          null,
          null,
          null,
          null,
          null,
          null,
          null
         ],
         "yaxis": "y",
         "type": "scattergl"
        },
        {
         "hovertemplate": "Experiment=61<br>Epochs=%{x}<br>Loss=%{y}<extra></extra>",
         "legendgroup": "61",
         "line": {
          "color": "#EF553B",
          "dash": "solid"
         },
         "marker": {
          "symbol": "circle"
         },
         "mode": "lines",
         "name": "61",
         "showlegend": true,
         "x": [
          0,
          1,
          2,
          3,
          4,
          5,
          6,
          7,
          8,
          9,
          10,
          11,
          12,
          13,
          14,
          15,
          16,
          17,
          18,
          19,
          20,
          21,
          22,
          23,
          24,
          25,
          26,
          27,
          28,
          29,
          30,
          31,
          32,
          33,
          34,
          35,
          36,
          37,
          38,
          39,
          40
         ],
         "xaxis": "x",
         "y": [
          52.27532196044922,
          4.704186916351318,
          3.1574556827545166,
          3.015808343887329,
          2.363574981689453,
          0.5245836973190308,
          0.25928381085395813,
          0.2280166894197464,
          0.21015727519989014,
          0.19627761840820312,
          0.18419988453388214,
          0.17462171614170074,
          0.16626514494419098,
          0.1578441560268402,
          0.15287385880947113,
          0.1462368369102478,
          0.14120632410049438,
          0.1381421834230423,
          0.13614995777606964,
          0.13382677733898163,
          0.13240249454975128,
          null,
          null,
          null,
          null,
          null,
          null,
          null,
          null,
          null,
          null,
          null,
          null,
          null,
          null,
          null,
          null,
          null,
          null,
          null,
          null
         ],
         "yaxis": "y",
         "type": "scattergl"
        },
        {
         "hovertemplate": "Experiment=62<br>Epochs=%{x}<br>Loss=%{y}<extra></extra>",
         "legendgroup": "62",
         "line": {
          "color": "#00cc96",
          "dash": "solid"
         },
         "marker": {
          "symbol": "circle"
         },
         "mode": "lines",
         "name": "62",
         "showlegend": true,
         "x": [
          0,
          1,
          2,
          3,
          4,
          5,
          6,
          7,
          8,
          9,
          10,
          11,
          12,
          13,
          14,
          15,
          16,
          17,
          18,
          19,
          20,
          21,
          22,
          23,
          24,
          25,
          26,
          27,
          28,
          29,
          30,
          31,
          32,
          33,
          34,
          35,
          36,
          37,
          38,
          39,
          40
         ],
         "xaxis": "x",
         "y": [
          12.316563606262207,
          0.7668979167938232,
          0.42786818742752075,
          0.3307274281978607,
          0.28169313073158264,
          0.2502223253250122,
          0.23327548801898956,
          0.21602369844913483,
          0.20554672181606293,
          0.1911194771528244,
          0.17866508662700653,
          0.16793197393417358,
          0.1599733680486679,
          0.15267370641231537,
          0.14376680552959442,
          0.13782358169555664,
          0.1330442726612091,
          0.12950000166893005,
          0.12591485679149628,
          0.12354116886854172,
          0.12166979908943176,
          null,
          null,
          null,
          null,
          null,
          null,
          null,
          null,
          null,
          null,
          null,
          null,
          null,
          null,
          null,
          null,
          null,
          null,
          null,
          null
         ],
         "yaxis": "y",
         "type": "scattergl"
        },
        {
         "hovertemplate": "Experiment=63<br>Epochs=%{x}<br>Loss=%{y}<extra></extra>",
         "legendgroup": "63",
         "line": {
          "color": "#ab63fa",
          "dash": "solid"
         },
         "marker": {
          "symbol": "circle"
         },
         "mode": "lines",
         "name": "63",
         "showlegend": true,
         "x": [
          0,
          1,
          2,
          3,
          4,
          5,
          6,
          7,
          8,
          9,
          10,
          11,
          12,
          13,
          14,
          15,
          16,
          17,
          18,
          19,
          20,
          21,
          22,
          23,
          24,
          25,
          26,
          27,
          28,
          29,
          30,
          31,
          32,
          33,
          34,
          35,
          36,
          37,
          38,
          39,
          40
         ],
         "xaxis": "x",
         "y": [
          30.8892879486084,
          1.2332247495651245,
          0.5178159475326538,
          0.3855316936969757,
          0.32333847880363464,
          0.2833075225353241,
          0.25657546520233154,
          0.230444073677063,
          0.2117643505334854,
          0.19588905572891235,
          0.18771515786647797,
          0.17452774941921234,
          0.16479523479938507,
          0.15572522580623627,
          0.1493668556213379,
          0.13983100652694702,
          0.13299642503261566,
          0.12927374243736267,
          0.12497422844171524,
          0.12113277614116669,
          0.11820805072784424,
          null,
          null,
          null,
          null,
          null,
          null,
          null,
          null,
          null,
          null,
          null,
          null,
          null,
          null,
          null,
          null,
          null,
          null,
          null,
          null
         ],
         "yaxis": "y",
         "type": "scattergl"
        },
        {
         "hovertemplate": "Experiment=64<br>Epochs=%{x}<br>Loss=%{y}<extra></extra>",
         "legendgroup": "64",
         "line": {
          "color": "#FFA15A",
          "dash": "solid"
         },
         "marker": {
          "symbol": "circle"
         },
         "mode": "lines",
         "name": "64",
         "showlegend": true,
         "x": [
          0,
          1,
          2,
          3,
          4,
          5,
          6,
          7,
          8,
          9,
          10,
          11,
          12,
          13,
          14,
          15,
          16,
          17,
          18,
          19,
          20,
          21,
          22,
          23,
          24,
          25,
          26,
          27,
          28,
          29,
          30,
          31,
          32,
          33,
          34,
          35,
          36,
          37,
          38,
          39,
          40
         ],
         "xaxis": "x",
         "y": [
          7.7374067306518555,
          0.7662372589111328,
          0.48067155480384827,
          0.36258137226104736,
          0.3017613887786865,
          0.2743073105812073,
          0.24943451583385468,
          0.22800253331661224,
          0.21794691681861877,
          0.2055368721485138,
          0.19480177760124207,
          0.18619784712791443,
          0.17893138527870178,
          0.16773223876953125,
          0.15946045517921448,
          0.15567325055599213,
          0.1518307775259018,
          0.14852580428123474,
          0.14330874383449554,
          0.1386909931898117,
          0.13294847309589386,
          null,
          null,
          null,
          null,
          null,
          null,
          null,
          null,
          null,
          null,
          null,
          null,
          null,
          null,
          null,
          null,
          null,
          null,
          null,
          null
         ],
         "yaxis": "y",
         "type": "scattergl"
        },
        {
         "hovertemplate": "Experiment=65<br>Epochs=%{x}<br>Loss=%{y}<extra></extra>",
         "legendgroup": "65",
         "line": {
          "color": "#19d3f3",
          "dash": "solid"
         },
         "marker": {
          "symbol": "circle"
         },
         "mode": "lines",
         "name": "65",
         "showlegend": true,
         "x": [
          0,
          1,
          2,
          3,
          4,
          5,
          6,
          7,
          8,
          9,
          10,
          11,
          12,
          13,
          14,
          15,
          16,
          17,
          18,
          19,
          20,
          21,
          22,
          23,
          24,
          25,
          26,
          27,
          28,
          29,
          30,
          31,
          32,
          33,
          34,
          35,
          36,
          37,
          38,
          39,
          40
         ],
         "xaxis": "x",
         "y": [
          18.01923370361328,
          2.0307183265686035,
          1.10165536403656,
          0.3789950907230377,
          0.30693474411964417,
          0.26550209522247314,
          0.23895686864852905,
          0.21596771478652954,
          0.2011331468820572,
          0.18646448850631714,
          0.17674857378005981,
          0.1660618782043457,
          0.15876561403274536,
          0.15065179765224457,
          0.1452859342098236,
          0.14076419174671173,
          0.1376926749944687,
          0.1352890282869339,
          0.13321393728256226,
          0.13146521151065826,
          0.12993177771568298,
          null,
          null,
          null,
          null,
          null,
          null,
          null,
          null,
          null,
          null,
          null,
          null,
          null,
          null,
          null,
          null,
          null,
          null,
          null,
          null
         ],
         "yaxis": "y",
         "type": "scattergl"
        },
        {
         "hovertemplate": "Experiment=66<br>Epochs=%{x}<br>Loss=%{y}<extra></extra>",
         "legendgroup": "66",
         "line": {
          "color": "#FF6692",
          "dash": "solid"
         },
         "marker": {
          "symbol": "circle"
         },
         "mode": "lines",
         "name": "66",
         "showlegend": true,
         "x": [
          0,
          1,
          2,
          3,
          4,
          5,
          6,
          7,
          8,
          9,
          10,
          11,
          12,
          13,
          14,
          15,
          16,
          17,
          18,
          19,
          20,
          21,
          22,
          23,
          24,
          25,
          26,
          27,
          28,
          29,
          30,
          31,
          32,
          33,
          34,
          35,
          36,
          37,
          38,
          39,
          40
         ],
         "xaxis": "x",
         "y": [
          19.90705108642578,
          1.0346696376800537,
          0.4351688623428345,
          0.33152562379837036,
          0.2789168953895569,
          0.24108760058879852,
          0.21789208054542542,
          0.19688303768634796,
          0.18302597105503082,
          0.17021141946315765,
          0.16193555295467377,
          0.15397530794143677,
          0.1459551453590393,
          0.1397273689508438,
          0.13416725397109985,
          0.1311483085155487,
          0.12802532315254211,
          0.12312300503253937,
          0.11902377009391785,
          0.1146409884095192,
          0.11110217124223709,
          null,
          null,
          null,
          null,
          null,
          null,
          null,
          null,
          null,
          null,
          null,
          null,
          null,
          null,
          null,
          null,
          null,
          null,
          null,
          null
         ],
         "yaxis": "y",
         "type": "scattergl"
        },
        {
         "hovertemplate": "Experiment=67<br>Epochs=%{x}<br>Loss=%{y}<extra></extra>",
         "legendgroup": "67",
         "line": {
          "color": "#B6E880",
          "dash": "solid"
         },
         "marker": {
          "symbol": "circle"
         },
         "mode": "lines",
         "name": "67",
         "showlegend": true,
         "x": [
          0,
          1,
          2,
          3,
          4,
          5,
          6,
          7,
          8,
          9,
          10,
          11,
          12,
          13,
          14,
          15,
          16,
          17,
          18,
          19,
          20,
          21,
          22,
          23,
          24,
          25,
          26,
          27,
          28,
          29,
          30,
          31,
          32,
          33,
          34,
          35,
          36,
          37,
          38,
          39,
          40
         ],
         "xaxis": "x",
         "y": [
          13.933008193969727,
          0.7431409358978271,
          0.4293774962425232,
          0.3492947220802307,
          0.2927685081958771,
          0.25434964895248413,
          0.2296745479106903,
          0.21257378160953522,
          0.199118971824646,
          0.18671490252017975,
          0.17708076536655426,
          0.1662188619375229,
          0.15700022876262665,
          0.15089456737041473,
          0.14593921601772308,
          0.14358772337436676,
          0.1382647454738617,
          0.13367125391960144,
          0.12882472574710846,
          0.12271662056446075,
          0.118897944688797,
          null,
          null,
          null,
          null,
          null,
          null,
          null,
          null,
          null,
          null,
          null,
          null,
          null,
          null,
          null,
          null,
          null,
          null,
          null,
          null
         ],
         "yaxis": "y",
         "type": "scattergl"
        },
        {
         "hovertemplate": "Experiment=68<br>Epochs=%{x}<br>Loss=%{y}<extra></extra>",
         "legendgroup": "68",
         "line": {
          "color": "#FF97FF",
          "dash": "solid"
         },
         "marker": {
          "symbol": "circle"
         },
         "mode": "lines",
         "name": "68",
         "showlegend": true,
         "x": [
          0,
          1,
          2,
          3,
          4,
          5,
          6,
          7,
          8,
          9,
          10,
          11,
          12,
          13,
          14,
          15,
          16,
          17,
          18,
          19,
          20,
          21,
          22,
          23,
          24,
          25,
          26,
          27,
          28,
          29,
          30,
          31,
          32,
          33,
          34,
          35,
          36,
          37,
          38,
          39,
          40
         ],
         "xaxis": "x",
         "y": [
          18.300765991210938,
          1.8682936429977417,
          1.574921727180481,
          0.7665344476699829,
          0.3056509792804718,
          0.26357460021972656,
          0.23987016081809998,
          0.21722443401813507,
          0.20018652081489563,
          0.18431079387664795,
          0.16892383992671967,
          0.15733398497104645,
          0.1493961066007614,
          0.1414100080728531,
          0.1347786784172058,
          0.12861157953739166,
          0.1250171661376953,
          0.11998771131038666,
          0.11664240807294846,
          0.11108442395925522,
          0.10667629539966583,
          null,
          null,
          null,
          null,
          null,
          null,
          null,
          null,
          null,
          null,
          null,
          null,
          null,
          null,
          null,
          null,
          null,
          null,
          null,
          null
         ],
         "yaxis": "y",
         "type": "scattergl"
        },
        {
         "hovertemplate": "Experiment=69<br>Epochs=%{x}<br>Loss=%{y}<extra></extra>",
         "legendgroup": "69",
         "line": {
          "color": "#FECB52",
          "dash": "solid"
         },
         "marker": {
          "symbol": "circle"
         },
         "mode": "lines",
         "name": "69",
         "showlegend": true,
         "x": [
          0,
          1,
          2,
          3,
          4,
          5,
          6,
          7,
          8,
          9,
          10,
          11,
          12,
          13,
          14,
          15,
          16,
          17,
          18,
          19,
          20,
          21,
          22,
          23,
          24,
          25,
          26,
          27,
          28,
          29,
          30,
          31,
          32,
          33,
          34,
          35,
          36,
          37,
          38,
          39,
          40
         ],
         "xaxis": "x",
         "y": [
          26.17466163635254,
          0.6829911470413208,
          0.4484778642654419,
          0.35945945978164673,
          0.2846441864967346,
          0.24405966699123383,
          0.21695353090763092,
          0.19239172339439392,
          0.17744238674640656,
          0.16429179906845093,
          0.15258640050888062,
          0.1466161012649536,
          0.13783791661262512,
          0.1317879557609558,
          0.12657296657562256,
          0.12039888650178909,
          0.11475299298763275,
          0.11077430844306946,
          0.1073446199297905,
          0.10501803457736969,
          0.10279431939125061,
          null,
          null,
          null,
          null,
          null,
          null,
          null,
          null,
          null,
          null,
          null,
          null,
          null,
          null,
          null,
          null,
          null,
          null,
          null,
          null
         ],
         "yaxis": "y",
         "type": "scattergl"
        },
        {
         "hovertemplate": "Experiment=70<br>Epochs=%{x}<br>Loss=%{y}<extra></extra>",
         "legendgroup": "70",
         "line": {
          "color": "#636efa",
          "dash": "solid"
         },
         "marker": {
          "symbol": "circle"
         },
         "mode": "lines",
         "name": "70",
         "showlegend": true,
         "x": [
          0,
          1,
          2,
          3,
          4,
          5,
          6,
          7,
          8,
          9,
          10,
          11,
          12,
          13,
          14,
          15,
          16,
          17,
          18,
          19,
          20,
          21,
          22,
          23,
          24,
          25,
          26,
          27,
          28,
          29,
          30,
          31,
          32,
          33,
          34,
          35,
          36,
          37,
          38,
          39,
          40
         ],
         "xaxis": "x",
         "y": [
          30.271636962890625,
          2.4654541015625,
          1.3394908905029297,
          0.4172619879245758,
          0.3114511966705322,
          0.261412650346756,
          0.22647827863693237,
          0.20172087848186493,
          0.18834088742733002,
          0.1735972911119461,
          0.1607663929462433,
          0.15411277115345,
          0.1452081948518753,
          0.13923794031143188,
          0.13260191679000854,
          0.12646619975566864,
          0.12222222238779068,
          0.11857418715953827,
          0.11634188890457153,
          0.11457983404397964,
          0.1126398965716362,
          null,
          null,
          null,
          null,
          null,
          null,
          null,
          null,
          null,
          null,
          null,
          null,
          null,
          null,
          null,
          null,
          null,
          null,
          null,
          null
         ],
         "yaxis": "y",
         "type": "scattergl"
        },
        {
         "hovertemplate": "Experiment=71<br>Epochs=%{x}<br>Loss=%{y}<extra></extra>",
         "legendgroup": "71",
         "line": {
          "color": "#EF553B",
          "dash": "solid"
         },
         "marker": {
          "symbol": "circle"
         },
         "mode": "lines",
         "name": "71",
         "showlegend": true,
         "x": [
          0,
          1,
          2,
          3,
          4,
          5,
          6,
          7,
          8,
          9,
          10,
          11,
          12,
          13,
          14,
          15,
          16,
          17,
          18,
          19,
          20,
          21,
          22,
          23,
          24,
          25,
          26,
          27,
          28,
          29,
          30,
          31,
          32,
          33,
          34,
          35,
          36,
          37,
          38,
          39,
          40
         ],
         "xaxis": "x",
         "y": [
          29.030269622802734,
          1.3638800382614136,
          0.38962993025779724,
          0.2998448312282562,
          0.2493390589952469,
          0.21990349888801575,
          0.19790691137313843,
          0.18023289740085602,
          0.16758593916893005,
          0.15433092415332794,
          0.14348876476287842,
          0.13521987199783325,
          0.12977106869220734,
          0.1241580992937088,
          0.11791432648897171,
          0.11354104429483414,
          0.1104835644364357,
          0.10770698636770248,
          0.10565487295389175,
          0.10417592525482178,
          0.10241499543190002,
          null,
          null,
          null,
          null,
          null,
          null,
          null,
          null,
          null,
          null,
          null,
          null,
          null,
          null,
          null,
          null,
          null,
          null,
          null,
          null
         ],
         "yaxis": "y",
         "type": "scattergl"
        },
        {
         "hovertemplate": "Experiment=72<br>Epochs=%{x}<br>Loss=%{y}<extra></extra>",
         "legendgroup": "72",
         "line": {
          "color": "#00cc96",
          "dash": "solid"
         },
         "marker": {
          "symbol": "circle"
         },
         "mode": "lines",
         "name": "72",
         "showlegend": true,
         "x": [
          0,
          1,
          2,
          3,
          4,
          5,
          6,
          7,
          8,
          9,
          10,
          11,
          12,
          13,
          14,
          15,
          16,
          17,
          18,
          19,
          20,
          21,
          22,
          23,
          24,
          25,
          26,
          27,
          28,
          29,
          30,
          31,
          32,
          33,
          34,
          35,
          36,
          37,
          38,
          39,
          40
         ],
         "xaxis": "x",
         "y": [
          15.53109359741211,
          0.6350108981132507,
          0.3614080250263214,
          0.2764355540275574,
          0.2294403314590454,
          0.20543316006660461,
          0.18810175359249115,
          0.17328181862831116,
          0.1625899076461792,
          0.15223637223243713,
          0.14207212626934052,
          0.13300833106040955,
          0.12379345297813416,
          0.1184643879532814,
          0.1129843145608902,
          0.10999834537506104,
          0.10633807629346848,
          0.10331080108880997,
          0.10087697952985764,
          0.09946804493665695,
          0.09820447117090225,
          null,
          null,
          null,
          null,
          null,
          null,
          null,
          null,
          null,
          null,
          null,
          null,
          null,
          null,
          null,
          null,
          null,
          null,
          null,
          null
         ],
         "yaxis": "y",
         "type": "scattergl"
        },
        {
         "hovertemplate": "Experiment=73<br>Epochs=%{x}<br>Loss=%{y}<extra></extra>",
         "legendgroup": "73",
         "line": {
          "color": "#ab63fa",
          "dash": "solid"
         },
         "marker": {
          "symbol": "circle"
         },
         "mode": "lines",
         "name": "73",
         "showlegend": true,
         "x": [
          0,
          1,
          2,
          3,
          4,
          5,
          6,
          7,
          8,
          9,
          10,
          11,
          12,
          13,
          14,
          15,
          16,
          17,
          18,
          19,
          20,
          21,
          22,
          23,
          24,
          25,
          26,
          27,
          28,
          29,
          30,
          31,
          32,
          33,
          34,
          35,
          36,
          37,
          38,
          39,
          40
         ],
         "xaxis": "x",
         "y": [
          23.666942596435547,
          1.4633817672729492,
          0.4270656704902649,
          0.49662643671035767,
          0.35415542125701904,
          0.2849663197994232,
          0.2529953122138977,
          0.2304004728794098,
          0.21268856525421143,
          0.19366313517093658,
          0.17910486459732056,
          0.1699635237455368,
          0.1610337346792221,
          0.15374483168125153,
          0.14550533890724182,
          0.14153626561164856,
          0.1363079994916916,
          0.13298286497592926,
          0.13043129444122314,
          0.12856175005435944,
          0.12689737975597382,
          null,
          null,
          null,
          null,
          null,
          null,
          null,
          null,
          null,
          null,
          null,
          null,
          null,
          null,
          null,
          null,
          null,
          null,
          null,
          null
         ],
         "yaxis": "y",
         "type": "scattergl"
        },
        {
         "hovertemplate": "Experiment=74<br>Epochs=%{x}<br>Loss=%{y}<extra></extra>",
         "legendgroup": "74",
         "line": {
          "color": "#FFA15A",
          "dash": "solid"
         },
         "marker": {
          "symbol": "circle"
         },
         "mode": "lines",
         "name": "74",
         "showlegend": true,
         "x": [
          0,
          1,
          2,
          3,
          4,
          5,
          6,
          7,
          8,
          9,
          10,
          11,
          12,
          13,
          14,
          15,
          16,
          17,
          18,
          19,
          20,
          21,
          22,
          23,
          24,
          25,
          26,
          27,
          28,
          29,
          30,
          31,
          32,
          33,
          34,
          35,
          36,
          37,
          38,
          39,
          40
         ],
         "xaxis": "x",
         "y": [
          29.62529754638672,
          1.662193775177002,
          0.4463864862918854,
          0.3405126929283142,
          0.2761099934577942,
          0.24002999067306519,
          0.21123544871807098,
          0.19423428177833557,
          0.1767323613166809,
          0.16822384297847748,
          0.15626485645771027,
          0.1460975855588913,
          0.13922445476055145,
          0.13345414400100708,
          0.1280132383108139,
          0.12170644849538803,
          0.11843367666006088,
          0.11608371138572693,
          0.11380978673696518,
          0.11171131581068039,
          0.10973123461008072,
          null,
          null,
          null,
          null,
          null,
          null,
          null,
          null,
          null,
          null,
          null,
          null,
          null,
          null,
          null,
          null,
          null,
          null,
          null,
          null
         ],
         "yaxis": "y",
         "type": "scattergl"
        },
        {
         "hovertemplate": "Experiment=75<br>Epochs=%{x}<br>Loss=%{y}<extra></extra>",
         "legendgroup": "75",
         "line": {
          "color": "#19d3f3",
          "dash": "solid"
         },
         "marker": {
          "symbol": "circle"
         },
         "mode": "lines",
         "name": "75",
         "showlegend": true,
         "x": [
          0,
          1,
          2,
          3,
          4,
          5,
          6,
          7,
          8,
          9,
          10,
          11,
          12,
          13,
          14,
          15,
          16,
          17,
          18,
          19,
          20,
          21,
          22,
          23,
          24,
          25,
          26,
          27,
          28,
          29,
          30,
          31,
          32,
          33,
          34,
          35,
          36,
          37,
          38,
          39,
          40
         ],
         "xaxis": "x",
         "y": [
          0.0,
          7.643562316894531,
          7.056663990020752,
          6.527856826782227,
          5.884658336639404,
          5.41253137588501,
          4.563745975494385,
          4.301600933074951,
          4.1649932861328125,
          3.2362306118011475,
          3.1745848655700684,
          3.154900550842285,
          3.1422181129455566,
          3.132253408432007,
          3.124417543411255,
          3.1173791885375977,
          3.110651969909668,
          3.104458808898926,
          3.098526954650879,
          3.092581272125244,
          3.0865447521209717,
          null,
          null,
          null,
          null,
          null,
          null,
          null,
          null,
          null,
          null,
          null,
          null,
          null,
          null,
          null,
          null,
          null,
          null,
          null,
          null
         ],
         "yaxis": "y",
         "type": "scattergl"
        },
        {
         "hovertemplate": "Experiment=76<br>Epochs=%{x}<br>Loss=%{y}<extra></extra>",
         "legendgroup": "76",
         "line": {
          "color": "#FF6692",
          "dash": "solid"
         },
         "marker": {
          "symbol": "circle"
         },
         "mode": "lines",
         "name": "76",
         "showlegend": true,
         "x": [
          0,
          1,
          2,
          3,
          4,
          5,
          6,
          7,
          8,
          9,
          10,
          11,
          12,
          13,
          14,
          15,
          16,
          17,
          18,
          19,
          20,
          21,
          22,
          23,
          24,
          25,
          26,
          27,
          28,
          29,
          30,
          31,
          32,
          33,
          34,
          35,
          36,
          37,
          38,
          39,
          40
         ],
         "xaxis": "x",
         "y": [
          29.62529754638672,
          1.662193775177002,
          0.4463867247104645,
          0.3405253291130066,
          0.27620986104011536,
          0.2400279939174652,
          0.21185965836048126,
          0.19195325672626495,
          0.17579859495162964,
          0.16444730758666992,
          0.1522028148174286,
          0.14232395589351654,
          0.13380306959152222,
          0.12524421513080597,
          0.12013594806194305,
          0.11580123752355576,
          0.11265578866004944,
          0.10987680405378342,
          0.10795536637306213,
          0.10646738857030869,
          0.10537294298410416,
          null,
          null,
          null,
          null,
          null,
          null,
          null,
          null,
          null,
          null,
          null,
          null,
          null,
          null,
          null,
          null,
          null,
          null,
          null,
          null
         ],
         "yaxis": "y",
         "type": "scattergl"
        }
       ],
       "layout": {
        "template": {
         "data": {
          "histogram2dcontour": [
           {
            "type": "histogram2dcontour",
            "colorbar": {
             "outlinewidth": 0,
             "ticks": ""
            },
            "colorscale": [
             [
              0.0,
              "#0d0887"
             ],
             [
              0.1111111111111111,
              "#46039f"
             ],
             [
              0.2222222222222222,
              "#7201a8"
             ],
             [
              0.3333333333333333,
              "#9c179e"
             ],
             [
              0.4444444444444444,
              "#bd3786"
             ],
             [
              0.5555555555555556,
              "#d8576b"
             ],
             [
              0.6666666666666666,
              "#ed7953"
             ],
             [
              0.7777777777777778,
              "#fb9f3a"
             ],
             [
              0.8888888888888888,
              "#fdca26"
             ],
             [
              1.0,
              "#f0f921"
             ]
            ]
           }
          ],
          "choropleth": [
           {
            "type": "choropleth",
            "colorbar": {
             "outlinewidth": 0,
             "ticks": ""
            }
           }
          ],
          "histogram2d": [
           {
            "type": "histogram2d",
            "colorbar": {
             "outlinewidth": 0,
             "ticks": ""
            },
            "colorscale": [
             [
              0.0,
              "#0d0887"
             ],
             [
              0.1111111111111111,
              "#46039f"
             ],
             [
              0.2222222222222222,
              "#7201a8"
             ],
             [
              0.3333333333333333,
              "#9c179e"
             ],
             [
              0.4444444444444444,
              "#bd3786"
             ],
             [
              0.5555555555555556,
              "#d8576b"
             ],
             [
              0.6666666666666666,
              "#ed7953"
             ],
             [
              0.7777777777777778,
              "#fb9f3a"
             ],
             [
              0.8888888888888888,
              "#fdca26"
             ],
             [
              1.0,
              "#f0f921"
             ]
            ]
           }
          ],
          "heatmap": [
           {
            "type": "heatmap",
            "colorbar": {
             "outlinewidth": 0,
             "ticks": ""
            },
            "colorscale": [
             [
              0.0,
              "#0d0887"
             ],
             [
              0.1111111111111111,
              "#46039f"
             ],
             [
              0.2222222222222222,
              "#7201a8"
             ],
             [
              0.3333333333333333,
              "#9c179e"
             ],
             [
              0.4444444444444444,
              "#bd3786"
             ],
             [
              0.5555555555555556,
              "#d8576b"
             ],
             [
              0.6666666666666666,
              "#ed7953"
             ],
             [
              0.7777777777777778,
              "#fb9f3a"
             ],
             [
              0.8888888888888888,
              "#fdca26"
             ],
             [
              1.0,
              "#f0f921"
             ]
            ]
           }
          ],
          "heatmapgl": [
           {
            "type": "heatmapgl",
            "colorbar": {
             "outlinewidth": 0,
             "ticks": ""
            },
            "colorscale": [
             [
              0.0,
              "#0d0887"
             ],
             [
              0.1111111111111111,
              "#46039f"
             ],
             [
              0.2222222222222222,
              "#7201a8"
             ],
             [
              0.3333333333333333,
              "#9c179e"
             ],
             [
              0.4444444444444444,
              "#bd3786"
             ],
             [
              0.5555555555555556,
              "#d8576b"
             ],
             [
              0.6666666666666666,
              "#ed7953"
             ],
             [
              0.7777777777777778,
              "#fb9f3a"
             ],
             [
              0.8888888888888888,
              "#fdca26"
             ],
             [
              1.0,
              "#f0f921"
             ]
            ]
           }
          ],
          "contourcarpet": [
           {
            "type": "contourcarpet",
            "colorbar": {
             "outlinewidth": 0,
             "ticks": ""
            }
           }
          ],
          "contour": [
           {
            "type": "contour",
            "colorbar": {
             "outlinewidth": 0,
             "ticks": ""
            },
            "colorscale": [
             [
              0.0,
              "#0d0887"
             ],
             [
              0.1111111111111111,
              "#46039f"
             ],
             [
              0.2222222222222222,
              "#7201a8"
             ],
             [
              0.3333333333333333,
              "#9c179e"
             ],
             [
              0.4444444444444444,
              "#bd3786"
             ],
             [
              0.5555555555555556,
              "#d8576b"
             ],
             [
              0.6666666666666666,
              "#ed7953"
             ],
             [
              0.7777777777777778,
              "#fb9f3a"
             ],
             [
              0.8888888888888888,
              "#fdca26"
             ],
             [
              1.0,
              "#f0f921"
             ]
            ]
           }
          ],
          "surface": [
           {
            "type": "surface",
            "colorbar": {
             "outlinewidth": 0,
             "ticks": ""
            },
            "colorscale": [
             [
              0.0,
              "#0d0887"
             ],
             [
              0.1111111111111111,
              "#46039f"
             ],
             [
              0.2222222222222222,
              "#7201a8"
             ],
             [
              0.3333333333333333,
              "#9c179e"
             ],
             [
              0.4444444444444444,
              "#bd3786"
             ],
             [
              0.5555555555555556,
              "#d8576b"
             ],
             [
              0.6666666666666666,
              "#ed7953"
             ],
             [
              0.7777777777777778,
              "#fb9f3a"
             ],
             [
              0.8888888888888888,
              "#fdca26"
             ],
             [
              1.0,
              "#f0f921"
             ]
            ]
           }
          ],
          "mesh3d": [
           {
            "type": "mesh3d",
            "colorbar": {
             "outlinewidth": 0,
             "ticks": ""
            }
           }
          ],
          "scatter": [
           {
            "marker": {
             "line": {
              "color": "#283442"
             }
            },
            "type": "scatter"
           }
          ],
          "parcoords": [
           {
            "type": "parcoords",
            "line": {
             "colorbar": {
              "outlinewidth": 0,
              "ticks": ""
             }
            }
           }
          ],
          "scatterpolargl": [
           {
            "type": "scatterpolargl",
            "marker": {
             "colorbar": {
              "outlinewidth": 0,
              "ticks": ""
             }
            }
           }
          ],
          "bar": [
           {
            "error_x": {
             "color": "#f2f5fa"
            },
            "error_y": {
             "color": "#f2f5fa"
            },
            "marker": {
             "line": {
              "color": "rgb(17,17,17)",
              "width": 0.5
             },
             "pattern": {
              "fillmode": "overlay",
              "size": 10,
              "solidity": 0.2
             }
            },
            "type": "bar"
           }
          ],
          "scattergeo": [
           {
            "type": "scattergeo",
            "marker": {
             "colorbar": {
              "outlinewidth": 0,
              "ticks": ""
             }
            }
           }
          ],
          "scatterpolar": [
           {
            "type": "scatterpolar",
            "marker": {
             "colorbar": {
              "outlinewidth": 0,
              "ticks": ""
             }
            }
           }
          ],
          "histogram": [
           {
            "marker": {
             "pattern": {
              "fillmode": "overlay",
              "size": 10,
              "solidity": 0.2
             }
            },
            "type": "histogram"
           }
          ],
          "scattergl": [
           {
            "marker": {
             "line": {
              "color": "#283442"
             }
            },
            "type": "scattergl"
           }
          ],
          "scatter3d": [
           {
            "type": "scatter3d",
            "line": {
             "colorbar": {
              "outlinewidth": 0,
              "ticks": ""
             }
            },
            "marker": {
             "colorbar": {
              "outlinewidth": 0,
              "ticks": ""
             }
            }
           }
          ],
          "scattermapbox": [
           {
            "type": "scattermapbox",
            "marker": {
             "colorbar": {
              "outlinewidth": 0,
              "ticks": ""
             }
            }
           }
          ],
          "scatterternary": [
           {
            "type": "scatterternary",
            "marker": {
             "colorbar": {
              "outlinewidth": 0,
              "ticks": ""
             }
            }
           }
          ],
          "scattercarpet": [
           {
            "type": "scattercarpet",
            "marker": {
             "colorbar": {
              "outlinewidth": 0,
              "ticks": ""
             }
            }
           }
          ],
          "carpet": [
           {
            "aaxis": {
             "endlinecolor": "#A2B1C6",
             "gridcolor": "#506784",
             "linecolor": "#506784",
             "minorgridcolor": "#506784",
             "startlinecolor": "#A2B1C6"
            },
            "baxis": {
             "endlinecolor": "#A2B1C6",
             "gridcolor": "#506784",
             "linecolor": "#506784",
             "minorgridcolor": "#506784",
             "startlinecolor": "#A2B1C6"
            },
            "type": "carpet"
           }
          ],
          "table": [
           {
            "cells": {
             "fill": {
              "color": "#506784"
             },
             "line": {
              "color": "rgb(17,17,17)"
             }
            },
            "header": {
             "fill": {
              "color": "#2a3f5f"
             },
             "line": {
              "color": "rgb(17,17,17)"
             }
            },
            "type": "table"
           }
          ],
          "barpolar": [
           {
            "marker": {
             "line": {
              "color": "rgb(17,17,17)",
              "width": 0.5
             },
             "pattern": {
              "fillmode": "overlay",
              "size": 10,
              "solidity": 0.2
             }
            },
            "type": "barpolar"
           }
          ],
          "pie": [
           {
            "automargin": true,
            "type": "pie"
           }
          ]
         },
         "layout": {
          "autotypenumbers": "strict",
          "colorway": [
           "#636efa",
           "#EF553B",
           "#00cc96",
           "#ab63fa",
           "#FFA15A",
           "#19d3f3",
           "#FF6692",
           "#B6E880",
           "#FF97FF",
           "#FECB52"
          ],
          "font": {
           "color": "#f2f5fa"
          },
          "hovermode": "closest",
          "hoverlabel": {
           "align": "left"
          },
          "paper_bgcolor": "rgb(17,17,17)",
          "plot_bgcolor": "rgb(17,17,17)",
          "polar": {
           "bgcolor": "rgb(17,17,17)",
           "angularaxis": {
            "gridcolor": "#506784",
            "linecolor": "#506784",
            "ticks": ""
           },
           "radialaxis": {
            "gridcolor": "#506784",
            "linecolor": "#506784",
            "ticks": ""
           }
          },
          "ternary": {
           "bgcolor": "rgb(17,17,17)",
           "aaxis": {
            "gridcolor": "#506784",
            "linecolor": "#506784",
            "ticks": ""
           },
           "baxis": {
            "gridcolor": "#506784",
            "linecolor": "#506784",
            "ticks": ""
           },
           "caxis": {
            "gridcolor": "#506784",
            "linecolor": "#506784",
            "ticks": ""
           }
          },
          "coloraxis": {
           "colorbar": {
            "outlinewidth": 0,
            "ticks": ""
           }
          },
          "colorscale": {
           "sequential": [
            [
             0.0,
             "#0d0887"
            ],
            [
             0.1111111111111111,
             "#46039f"
            ],
            [
             0.2222222222222222,
             "#7201a8"
            ],
            [
             0.3333333333333333,
             "#9c179e"
            ],
            [
             0.4444444444444444,
             "#bd3786"
            ],
            [
             0.5555555555555556,
             "#d8576b"
            ],
            [
             0.6666666666666666,
             "#ed7953"
            ],
            [
             0.7777777777777778,
             "#fb9f3a"
            ],
            [
             0.8888888888888888,
             "#fdca26"
            ],
            [
             1.0,
             "#f0f921"
            ]
           ],
           "sequentialminus": [
            [
             0.0,
             "#0d0887"
            ],
            [
             0.1111111111111111,
             "#46039f"
            ],
            [
             0.2222222222222222,
             "#7201a8"
            ],
            [
             0.3333333333333333,
             "#9c179e"
            ],
            [
             0.4444444444444444,
             "#bd3786"
            ],
            [
             0.5555555555555556,
             "#d8576b"
            ],
            [
             0.6666666666666666,
             "#ed7953"
            ],
            [
             0.7777777777777778,
             "#fb9f3a"
            ],
            [
             0.8888888888888888,
             "#fdca26"
            ],
            [
             1.0,
             "#f0f921"
            ]
           ],
           "diverging": [
            [
             0,
             "#8e0152"
            ],
            [
             0.1,
             "#c51b7d"
            ],
            [
             0.2,
             "#de77ae"
            ],
            [
             0.3,
             "#f1b6da"
            ],
            [
             0.4,
             "#fde0ef"
            ],
            [
             0.5,
             "#f7f7f7"
            ],
            [
             0.6,
             "#e6f5d0"
            ],
            [
             0.7,
             "#b8e186"
            ],
            [
             0.8,
             "#7fbc41"
            ],
            [
             0.9,
             "#4d9221"
            ],
            [
             1,
             "#276419"
            ]
           ]
          },
          "xaxis": {
           "gridcolor": "#283442",
           "linecolor": "#506784",
           "ticks": "",
           "title": {
            "standoff": 15
           },
           "zerolinecolor": "#283442",
           "automargin": true,
           "zerolinewidth": 2
          },
          "yaxis": {
           "gridcolor": "#283442",
           "linecolor": "#506784",
           "ticks": "",
           "title": {
            "standoff": 15
           },
           "zerolinecolor": "#283442",
           "automargin": true,
           "zerolinewidth": 2
          },
          "scene": {
           "xaxis": {
            "backgroundcolor": "rgb(17,17,17)",
            "gridcolor": "#506784",
            "linecolor": "#506784",
            "showbackground": true,
            "ticks": "",
            "zerolinecolor": "#C8D4E3",
            "gridwidth": 2
           },
           "yaxis": {
            "backgroundcolor": "rgb(17,17,17)",
            "gridcolor": "#506784",
            "linecolor": "#506784",
            "showbackground": true,
            "ticks": "",
            "zerolinecolor": "#C8D4E3",
            "gridwidth": 2
           },
           "zaxis": {
            "backgroundcolor": "rgb(17,17,17)",
            "gridcolor": "#506784",
            "linecolor": "#506784",
            "showbackground": true,
            "ticks": "",
            "zerolinecolor": "#C8D4E3",
            "gridwidth": 2
           }
          },
          "shapedefaults": {
           "line": {
            "color": "#f2f5fa"
           }
          },
          "annotationdefaults": {
           "arrowcolor": "#f2f5fa",
           "arrowhead": 0,
           "arrowwidth": 1
          },
          "geo": {
           "bgcolor": "rgb(17,17,17)",
           "landcolor": "rgb(17,17,17)",
           "subunitcolor": "#506784",
           "showland": true,
           "showlakes": true,
           "lakecolor": "rgb(17,17,17)"
          },
          "title": {
           "x": 0.05
          },
          "updatemenudefaults": {
           "bgcolor": "#506784",
           "borderwidth": 0
          },
          "sliderdefaults": {
           "bgcolor": "#C8D4E3",
           "borderwidth": 1,
           "bordercolor": "rgb(17,17,17)",
           "tickwidth": 0
          },
          "mapbox": {
           "style": "dark"
          }
         }
        },
        "xaxis": {
         "anchor": "y",
         "domain": [
          0.0,
          1.0
         ],
         "title": {
          "text": "Epochs"
         }
        },
        "yaxis": {
         "anchor": "x",
         "domain": [
          0.0,
          1.0
         ],
         "title": {
          "text": "Loss"
         }
        },
        "legend": {
         "title": {
          "text": "Experiment"
         },
         "tracegroupgap": 0
        },
        "title": {
         "text": "Test loss"
        }
       },
       "config": {
        "plotlyServerURL": "https://plot.ly"
       }
      },
      "text/html": "<div>                            <div id=\"4abde884-d78d-4a47-81be-9e5fb9033e90\" class=\"plotly-graph-div\" style=\"height:525px; width:100%;\"></div>            <script type=\"text/javascript\">                require([\"plotly\"], function(Plotly) {                    window.PLOTLYENV=window.PLOTLYENV || {};                                    if (document.getElementById(\"4abde884-d78d-4a47-81be-9e5fb9033e90\")) {                    Plotly.newPlot(                        \"4abde884-d78d-4a47-81be-9e5fb9033e90\",                        [{\"hovertemplate\":\"Experiment=0\\u003cbr\\u003eEpochs=%{x}\\u003cbr\\u003eLoss=%{y}\\u003cextra\\u003e\\u003c\\u002fextra\\u003e\",\"legendgroup\":\"0\",\"line\":{\"color\":\"#636efa\",\"dash\":\"solid\"},\"marker\":{\"symbol\":\"circle\"},\"mode\":\"lines\",\"name\":\"0\",\"showlegend\":true,\"x\":[0,1,2,3,4,5,6,7,8,9,10,11,12,13,14,15,16,17,18,19,20,21,22,23,24,25,26,27,28,29,30,31,32,33,34,35,36,37,38,39,40],\"xaxis\":\"x\",\"y\":[34.38901901245117,2.9015488624572754,1.9589715003967285,1.6365320682525635,1.5554879903793335,1.495422601699829,1.4469176530838013,1.4049030542373657,1.3651477098464966,1.3243932723999023,1.2773669958114624,1.204647421836853,0.6421054005622864,0.26058682799339294,0.23602503538131714,0.22464337944984436,0.216256782412529,0.2090495526790619,0.20268476009368896,0.19700713455677032,0.19186553359031677,0.18717129528522491,0.18289265036582947,0.17900007963180542,0.17541451752185822,0.17206524312496185,null,null,null,null,null,null,null,null,null,null,null,null,null,null,null],\"yaxis\":\"y\",\"type\":\"scattergl\"},{\"hovertemplate\":\"Experiment=1\\u003cbr\\u003eEpochs=%{x}\\u003cbr\\u003eLoss=%{y}\\u003cextra\\u003e\\u003c\\u002fextra\\u003e\",\"legendgroup\":\"1\",\"line\":{\"color\":\"#EF553B\",\"dash\":\"solid\"},\"marker\":{\"symbol\":\"circle\"},\"mode\":\"lines\",\"name\":\"1\",\"showlegend\":true,\"x\":[0,1,2,3,4,5,6,7,8,9,10,11,12,13,14,15,16,17,18,19,20,21,22,23,24,25,26,27,28,29,30,31,32,33,34,35,36,37,38,39,40],\"xaxis\":\"x\",\"y\":[26.882801055908203,1.3590253591537476,1.0673482418060303,0.6298326849937439,0.4507328271865845,0.396912544965744,0.39722809195518494,0.43539682030677795,0.4570508301258087,0.4057830274105072,0.3659462034702301,0.3384228050708771,0.3174830675125122,0.30044060945510864,0.2859310209751129,0.2732633352279663,0.26206347346305847,0.25199276208877563,0.2428458034992218,0.23450282216072083,0.2268057018518448,0.21965409815311432,0.21299836039543152,0.20684592425823212,0.2011638581752777,0.19592365622520447,0.19112445414066315,0.18670718371868134,0.18260708451271057,0.17877773940563202,0.17517462372779846,null,null,null,null,null,null,null,null,null,null],\"yaxis\":\"y\",\"type\":\"scattergl\"},{\"hovertemplate\":\"Experiment=2\\u003cbr\\u003eEpochs=%{x}\\u003cbr\\u003eLoss=%{y}\\u003cextra\\u003e\\u003c\\u002fextra\\u003e\",\"legendgroup\":\"2\",\"line\":{\"color\":\"#00cc96\",\"dash\":\"solid\"},\"marker\":{\"symbol\":\"circle\"},\"mode\":\"lines\",\"name\":\"2\",\"showlegend\":true,\"x\":[0,1,2,3,4,5,6,7,8,9,10,11,12,13,14,15,16,17,18,19,20,21,22,23,24,25,26,27,28,29,30,31,32,33,34,35,36,37,38,39,40],\"xaxis\":\"x\",\"y\":[14.420620918273926,1.6120799779891968,1.6593765020370483,1.5910528898239136,1.488371729850769,1.3776323795318604,1.2821322679519653,1.1981220245361328,1.119228482246399,1.0419995784759521,0.9651806354522705,0.8888932466506958,0.8181120753288269,0.7607316970825195,0.7179348468780518,0.6858632564544678,0.6606327295303345,0.6397889852523804,0.6219542026519775,0.6063295006752014,0.5924081802368164,0.5798392295837402,0.568366527557373,0.5577991008758545,0.5479928851127625,0.5388374924659729,null,null,null,null,null,null,null,null,null,null,null,null,null,null,null],\"yaxis\":\"y\",\"type\":\"scattergl\"},{\"hovertemplate\":\"Experiment=3\\u003cbr\\u003eEpochs=%{x}\\u003cbr\\u003eLoss=%{y}\\u003cextra\\u003e\\u003c\\u002fextra\\u003e\",\"legendgroup\":\"3\",\"line\":{\"color\":\"#ab63fa\",\"dash\":\"solid\"},\"marker\":{\"symbol\":\"circle\"},\"mode\":\"lines\",\"name\":\"3\",\"showlegend\":true,\"x\":[0,1,2,3,4,5,6,7,8,9,10,11,12,13,14,15,16,17,18,19,20,21,22,23,24,25,26,27,28,29,30,31,32,33,34,35,36,37,38,39,40],\"xaxis\":\"x\",\"y\":[57.62356948852539,2.8366408348083496,2.726689100265503,2.5791382789611816,2.4074859619140625,2.2586331367492676,2.166954517364502,2.1224098205566406,2.104396343231201,2.099747896194458,2.1026227474212646,2.10974383354187,2.118330955505371,2.1266605854034424,2.13242506980896,2.133578062057495,2.12890887260437,2.11871075630188,2.1038870811462402,2.0860979557037354,2.067185401916504,2.0484442710876465,2.030597686767578,2.01395583152771,1.998579502105713,1.98441481590271,1.971362590789795,1.9593082666397095,1.9481370449066162,1.937740445137024,1.9280205965042114,null,null,null,null,null,null,null,null,null,null],\"yaxis\":\"y\",\"type\":\"scattergl\"},{\"hovertemplate\":\"Experiment=4\\u003cbr\\u003eEpochs=%{x}\\u003cbr\\u003eLoss=%{y}\\u003cextra\\u003e\\u003c\\u002fextra\\u003e\",\"legendgroup\":\"4\",\"line\":{\"color\":\"#FFA15A\",\"dash\":\"solid\"},\"marker\":{\"symbol\":\"circle\"},\"mode\":\"lines\",\"name\":\"4\",\"showlegend\":true,\"x\":[0,1,2,3,4,5,6,7,8,9,10,11,12,13,14,15,16,17,18,19,20,21,22,23,24,25,26,27,28,29,30,31,32,33,34,35,36,37,38,39,40],\"xaxis\":\"x\",\"y\":[18.01785659790039,0.9955433011054993,0.4043058454990387,0.3163457214832306,0.26910632848739624,0.23804935812950134,0.21662214398384094,0.1999530792236328,0.18599551916122437,0.1747204065322876,0.16514921188354492,0.1575290411710739,0.15126968920230865,0.14560376107692719,0.14031216502189636,0.13507512211799622,0.1306355744600296,0.12701353430747986,0.12371557205915451,0.12047389149665833,0.1175464317202568,0.11507908999919891,0.113107830286026,0.11138446629047394,0.10977987200021744,0.10819713771343231,0.10662990063428879,0.10525485128164291,0.10392716526985168,0.10269717872142792,0.10139403492212296,0.10014582425355911,0.09915751963853836,0.09821911156177521,0.09748154133558273,0.09670949727296829,null,null,null,null,null],\"yaxis\":\"y\",\"type\":\"scattergl\"},{\"hovertemplate\":\"Experiment=5\\u003cbr\\u003eEpochs=%{x}\\u003cbr\\u003eLoss=%{y}\\u003cextra\\u003e\\u003c\\u002fextra\\u003e\",\"legendgroup\":\"5\",\"line\":{\"color\":\"#19d3f3\",\"dash\":\"solid\"},\"marker\":{\"symbol\":\"circle\"},\"mode\":\"lines\",\"name\":\"5\",\"showlegend\":true,\"x\":[0,1,2,3,4,5,6,7,8,9,10,11,12,13,14,15,16,17,18,19,20,21,22,23,24,25,26,27,28,29,30,31,32,33,34,35,36,37,38,39,40],\"xaxis\":\"x\",\"y\":[48.664424896240234,1.7487926483154297,1.4333535432815552,1.2598729133605957,0.49792879819869995,0.2863784432411194,0.24845775961875916,0.22383184731006622,0.20579437911510468,0.1915162354707718,0.1801677644252777,0.17071610689163208,0.16286005079746246,0.15589044988155365,0.14971740543842316,0.14438936114311218,0.13957533240318298,0.13512267172336578,0.13101427257061005,0.1273403763771057,0.12403208762407303,0.12099046260118484,0.1183212548494339,0.11586011946201324,0.11361177265644073,0.11164677143096924,0.10977892577648163,0.10790504515171051,0.10608946532011032,0.1044170930981636,0.10297142714262009,0.10164932906627655,0.10043221712112427,0.09929526597261429,0.09817831218242645,0.09704545140266418,0.09596776217222214,0.09498056769371033,0.09406859427690506,0.09318926185369492,0.09234542399644852],\"yaxis\":\"y\",\"type\":\"scattergl\"},{\"hovertemplate\":\"Experiment=6\\u003cbr\\u003eEpochs=%{x}\\u003cbr\\u003eLoss=%{y}\\u003cextra\\u003e\\u003c\\u002fextra\\u003e\",\"legendgroup\":\"6\",\"line\":{\"color\":\"#FF6692\",\"dash\":\"solid\"},\"marker\":{\"symbol\":\"circle\"},\"mode\":\"lines\",\"name\":\"6\",\"showlegend\":true,\"x\":[0,1,2,3,4,5,6,7,8,9,10,11,12,13,14,15,16,17,18,19,20,21,22,23,24,25,26,27,28,29,30,31,32,33,34,35,36,37,38,39,40],\"xaxis\":\"x\",\"y\":[23.455364227294922,2.0204427242279053,1.4391568899154663,0.34598129987716675,0.27955394983291626,0.24756109714508057,0.2247433364391327,0.21059633791446686,0.1963367462158203,0.1883104294538498,0.178141787648201,0.17025770246982574,0.16346587240695953,0.15739555656909943,0.15180043876171112,0.14759637415409088,0.14253151416778564,0.13717149198055267,0.13249018788337708,0.12911354005336761,0.12549611926078796,0.12209951877593994,0.12019210308790207,0.11630313098430634,0.11252043396234512,0.10914238542318344,0.10680144280195236,0.1050746813416481,0.10381434112787247,0.10255049914121628,0.10146794468164444,0.10072146356105804,0.1002257689833641,0.09962832927703857,0.09911437332630157,0.09879042208194733,null,null,null,null,null],\"yaxis\":\"y\",\"type\":\"scattergl\"},{\"hovertemplate\":\"Experiment=7\\u003cbr\\u003eEpochs=%{x}\\u003cbr\\u003eLoss=%{y}\\u003cextra\\u003e\\u003c\\u002fextra\\u003e\",\"legendgroup\":\"7\",\"line\":{\"color\":\"#B6E880\",\"dash\":\"solid\"},\"marker\":{\"symbol\":\"circle\"},\"mode\":\"lines\",\"name\":\"7\",\"showlegend\":true,\"x\":[0,1,2,3,4,5,6,7,8,9,10,11,12,13,14,15,16,17,18,19,20,21,22,23,24,25,26,27,28,29,30,31,32,33,34,35,36,37,38,39,40],\"xaxis\":\"x\",\"y\":[85.1344985961914,3.246107339859009,2.3650262355804443,2.062880516052246,2.022658348083496,1.9588544368743896,1.9061717987060547,1.8761497735977173,1.8555649518966675,1.8432503938674927,1.8303725719451904,1.8188380002975464,1.8105672597885132,1.8030269145965576,1.7973531484603882,1.7925686836242676,1.78964364528656,1.787007212638855,1.7841570377349854,1.7806522846221924,1.7778735160827637,1.7750705480575562,1.7720707654953003,1.770153522491455,1.768080472946167,1.7662774324417114,1.7643697261810303,1.7620705366134644,1.7599022388458252,1.7580698728561401,1.7575485706329346,1.7581301927566528,1.7585591077804565,1.759387731552124,1.75870943069458,1.7582348585128784,1.7575182914733887,1.7565592527389526,1.7554820775985718,1.7544647455215454,1.7528964281082153],\"yaxis\":\"y\",\"type\":\"scattergl\"},{\"hovertemplate\":\"Experiment=8\\u003cbr\\u003eEpochs=%{x}\\u003cbr\\u003eLoss=%{y}\\u003cextra\\u003e\\u003c\\u002fextra\\u003e\",\"legendgroup\":\"8\",\"line\":{\"color\":\"#FF97FF\",\"dash\":\"solid\"},\"marker\":{\"symbol\":\"circle\"},\"mode\":\"lines\",\"name\":\"8\",\"showlegend\":true,\"x\":[0,1,2,3,4,5,6,7,8,9,10,11,12,13,14,15,16,17,18,19,20,21,22,23,24,25,26,27,28,29,30,31,32,33,34,35,36,37,38,39,40],\"xaxis\":\"x\",\"y\":[28.681821823120117,1.6403993368148804,0.4770829379558563,0.4406561553478241,0.4836733937263489,0.38295620679855347,0.32391196489334106,0.29120755195617676,0.27680012583732605,0.2566317319869995,0.24360761046409607,0.23168134689331055,0.22002995014190674,0.2117004096508026,0.20453710854053497,0.19833111763000488,0.1949450522661209,0.18455630540847778,0.17972183227539062,0.17338909208774567,0.16893498599529266,0.16048729419708252,0.157595694065094,0.1571621149778366,0.15156280994415283,0.14771659672260284,0.14580915868282318,0.13880044221878052,0.13429926335811615,0.13042201101779938,0.12915082275867462,0.12635761499404907,0.12411459535360336,0.12164516746997833,0.12419112026691437,0.12348348647356033,null,null,null,null,null],\"yaxis\":\"y\",\"type\":\"scattergl\"},{\"hovertemplate\":\"Experiment=9\\u003cbr\\u003eEpochs=%{x}\\u003cbr\\u003eLoss=%{y}\\u003cextra\\u003e\\u003c\\u002fextra\\u003e\",\"legendgroup\":\"9\",\"line\":{\"color\":\"#FECB52\",\"dash\":\"solid\"},\"marker\":{\"symbol\":\"circle\"},\"mode\":\"lines\",\"name\":\"9\",\"showlegend\":true,\"x\":[0,1,2,3,4,5,6,7,8,9,10,11,12,13,14,15,16,17,18,19,20,21,22,23,24,25,26,27,28,29,30,31,32,33,34,35,36,37,38,39,40],\"xaxis\":\"x\",\"y\":[74.21220397949219,2.7467756271362305,2.389604330062866,2.3377575874328613,2.316098690032959,2.3037359714508057,2.2971715927124023,2.290149211883545,2.2859323024749756,2.285231351852417,2.2783401012420654,2.2681963443756104,2.2597949504852295,2.2516252994537354,2.2481331825256348,2.245898723602295,2.2429656982421875,2.2417781352996826,2.2396254539489746,2.238786458969116,2.2378902435302734,2.2376511096954346,2.2376372814178467,2.2374155521392822,2.2359771728515625,2.2347464561462402,2.233832597732544,2.2329647541046143,2.2328920364379883,2.233252763748169,2.233384132385254,2.2329699993133545,2.2329070568084717,2.2324020862579346,2.2317826747894287,2.2308859825134277,2.230149745941162,2.2300913333892822,2.230010509490967,2.2299916744232178,2.2298786640167236],\"yaxis\":\"y\",\"type\":\"scattergl\"},{\"hovertemplate\":\"Experiment=10\\u003cbr\\u003eEpochs=%{x}\\u003cbr\\u003eLoss=%{y}\\u003cextra\\u003e\\u003c\\u002fextra\\u003e\",\"legendgroup\":\"10\",\"line\":{\"color\":\"#636efa\",\"dash\":\"solid\"},\"marker\":{\"symbol\":\"circle\"},\"mode\":\"lines\",\"name\":\"10\",\"showlegend\":true,\"x\":[0,1,2,3,4,5,6,7,8,9,10,11,12,13,14,15,16,17,18,19,20,21,22,23,24,25,26,27,28,29,30,31,32,33,34,35,36,37,38,39,40],\"xaxis\":\"x\",\"y\":[26.737707138061523,0.8435114622116089,0.489321231842041,0.41348740458488464,0.36073970794677734,0.33579543232917786,0.3131616711616516,0.29749107360839844,0.2734767198562622,0.2610509693622589,0.24969539046287537,0.23829790949821472,0.23447920382022858,0.22984188795089722,0.21976429224014282,0.2125973403453827,0.20741544663906097,0.20425601303577423,0.1961544007062912,0.19370000064373016,0.1882394701242447,0.1818927526473999,0.17934638261795044,0.17555488646030426,0.1737665981054306,0.17910440266132355,null,null,null,null,null,null,null,null,null,null,null,null,null,null,null],\"yaxis\":\"y\",\"type\":\"scattergl\"},{\"hovertemplate\":\"Experiment=11\\u003cbr\\u003eEpochs=%{x}\\u003cbr\\u003eLoss=%{y}\\u003cextra\\u003e\\u003c\\u002fextra\\u003e\",\"legendgroup\":\"11\",\"line\":{\"color\":\"#EF553B\",\"dash\":\"solid\"},\"marker\":{\"symbol\":\"circle\"},\"mode\":\"lines\",\"name\":\"11\",\"showlegend\":true,\"x\":[0,1,2,3,4,5,6,7,8,9,10,11,12,13,14,15,16,17,18,19,20,21,22,23,24,25,26,27,28,29,30,31,32,33,34,35,36,37,38,39,40],\"xaxis\":\"x\",\"y\":[34.991111755371094,0.6599947810173035,0.3371717929840088,0.2667832374572754,0.22690582275390625,0.20379333198070526,0.1904686689376831,0.1721554547548294,0.15931886434555054,0.14984117448329926,0.14144267141819,0.1339801698923111,0.12681351602077484,0.12268032133579254,0.11798565834760666,0.11430208384990692,0.11303231120109558,0.11003546416759491,0.10556752234697342,0.10112155973911285,0.09664008021354675,0.09276864677667618,0.09017208218574524,0.08728121966123581,0.08540517836809158,0.08447334915399551,0.08349962532520294,0.08276817202568054,0.08202123641967773,0.08131088316440582,0.08054929971694946,null,null,null,null,null,null,null,null,null,null],\"yaxis\":\"y\",\"type\":\"scattergl\"},{\"hovertemplate\":\"Experiment=12\\u003cbr\\u003eEpochs=%{x}\\u003cbr\\u003eLoss=%{y}\\u003cextra\\u003e\\u003c\\u002fextra\\u003e\",\"legendgroup\":\"12\",\"line\":{\"color\":\"#00cc96\",\"dash\":\"solid\"},\"marker\":{\"symbol\":\"circle\"},\"mode\":\"lines\",\"name\":\"12\",\"showlegend\":true,\"x\":[0,1,2,3,4,5,6,7,8,9,10,11,12,13,14,15,16,17,18,19,20,21,22,23,24,25,26,27,28,29,30,31,32,33,34,35,36,37,38,39,40],\"xaxis\":\"x\",\"y\":[41.299835205078125,1.987429141998291,0.6598644852638245,0.5749766230583191,0.531618595123291,0.5030584335327148,0.4621129333972931,0.46405693888664246,0.4332641363143921,0.4251573979854584,0.4157181680202484,0.40282687544822693,0.3893401622772217,0.3767157793045044,0.3700093924999237,0.3632661998271942,0.35563379526138306,0.3394028842449188,0.3395043611526489,0.3228728771209717,0.32327666878700256,0.3168836832046509,0.31692180037498474,0.310249924659729,0.3109927177429199,0.29357022047042847,null,null,null,null,null,null,null,null,null,null,null,null,null,null,null],\"yaxis\":\"y\",\"type\":\"scattergl\"},{\"hovertemplate\":\"Experiment=13\\u003cbr\\u003eEpochs=%{x}\\u003cbr\\u003eLoss=%{y}\\u003cextra\\u003e\\u003c\\u002fextra\\u003e\",\"legendgroup\":\"13\",\"line\":{\"color\":\"#ab63fa\",\"dash\":\"solid\"},\"marker\":{\"symbol\":\"circle\"},\"mode\":\"lines\",\"name\":\"13\",\"showlegend\":true,\"x\":[0,1,2,3,4,5,6,7,8,9,10,11,12,13,14,15,16,17,18,19,20,21,22,23,24,25,26,27,28,29,30,31,32,33,34,35,36,37,38,39,40],\"xaxis\":\"x\",\"y\":[40.547996520996094,0.7271171808242798,0.41912582516670227,0.33224910497665405,0.28650206327438354,0.2610674798488617,0.23835334181785583,0.22564224898815155,0.21700330078601837,0.20497004687786102,0.19500286877155304,0.18114610016345978,0.1787722259759903,0.17555883526802063,0.16687795519828796,0.1623845100402832,0.15787161886692047,0.15404729545116425,0.1519453376531601,0.14711745083332062,0.1440238356590271,0.14105963706970215,0.1332409530878067,0.13103190064430237,0.13029323518276215,0.12781073153018951,0.12376270443201065,0.12320040911436081,0.12288656830787659,0.11929763108491898,0.11691442877054214,null,null,null,null,null,null,null,null,null,null],\"yaxis\":\"y\",\"type\":\"scattergl\"},{\"hovertemplate\":\"Experiment=14\\u003cbr\\u003eEpochs=%{x}\\u003cbr\\u003eLoss=%{y}\\u003cextra\\u003e\\u003c\\u002fextra\\u003e\",\"legendgroup\":\"14\",\"line\":{\"color\":\"#FFA15A\",\"dash\":\"solid\"},\"marker\":{\"symbol\":\"circle\"},\"mode\":\"lines\",\"name\":\"14\",\"showlegend\":true,\"x\":[0,1,2,3,4,5,6,7,8,9,10,11,12,13,14,15,16,17,18,19,20,21,22,23,24,25,26,27,28,29,30,31,32,33,34,35,36,37,38,39,40],\"xaxis\":\"x\",\"y\":[18.27300453186035,0.7235403656959534,0.3858904242515564,0.3053116202354431,0.26415249705314636,0.23186041414737701,0.21391916275024414,0.19945719838142395,0.18564565479755402,0.17601528763771057,0.16995121538639069,0.16235117614269257,0.15492373704910278,0.14971835911273956,0.14277321100234985,0.13965864479541779,0.13377061486244202,0.13035646080970764,0.12713803350925446,0.12404066324234009,0.12006409466266632,null,null,null,null,null,null,null,null,null,null,null,null,null,null,null,null,null,null,null,null],\"yaxis\":\"y\",\"type\":\"scattergl\"},{\"hovertemplate\":\"Experiment=15\\u003cbr\\u003eEpochs=%{x}\\u003cbr\\u003eLoss=%{y}\\u003cextra\\u003e\\u003c\\u002fextra\\u003e\",\"legendgroup\":\"15\",\"line\":{\"color\":\"#19d3f3\",\"dash\":\"solid\"},\"marker\":{\"symbol\":\"circle\"},\"mode\":\"lines\",\"name\":\"15\",\"showlegend\":true,\"x\":[0,1,2,3,4,5,6,7,8,9,10,11,12,13,14,15,16,17,18,19,20,21,22,23,24,25,26,27,28,29,30,31,32,33,34,35,36,37,38,39,40],\"xaxis\":\"x\",\"y\":[20.60437774658203,0.7359233498573303,0.38915565609931946,0.30379486083984375,0.2635793387889862,0.2354922592639923,0.2167285680770874,0.19996753334999084,0.18864521384239197,0.1773259937763214,0.1679781973361969,0.15935800969600677,0.15448705852031708,0.15162980556488037,0.145870640873909,0.14255806803703308,0.13612966239452362,0.13178114593029022,0.12706513702869415,0.12207476794719696,0.11960607767105103,0.11650563031435013,0.11375652998685837,0.11088621616363525,0.1091201901435852,0.10668087750673294,0.104718416929245,0.10289472341537476,0.10143138468265533,0.10056077688932419,0.09966620802879333,null,null,null,null,null,null,null,null,null,null],\"yaxis\":\"y\",\"type\":\"scattergl\"},{\"hovertemplate\":\"Experiment=16\\u003cbr\\u003eEpochs=%{x}\\u003cbr\\u003eLoss=%{y}\\u003cextra\\u003e\\u003c\\u002fextra\\u003e\",\"legendgroup\":\"16\",\"line\":{\"color\":\"#FF6692\",\"dash\":\"solid\"},\"marker\":{\"symbol\":\"circle\"},\"mode\":\"lines\",\"name\":\"16\",\"showlegend\":true,\"x\":[0,1,2,3,4,5,6,7,8,9,10,11,12,13,14,15,16,17,18,19,20,21,22,23,24,25,26,27,28,29,30,31,32,33,34,35,36,37,38,39,40],\"xaxis\":\"x\",\"y\":[7.4177470207214355,0.7188481092453003,0.4443415701389313,0.3371526002883911,0.29021385312080383,0.25984618067741394,0.2341952621936798,0.21920935809612274,0.2025134414434433,0.18993675708770752,0.1774786412715912,0.16893205046653748,0.16037002205848694,0.15378119051456451,0.14966623485088348,0.14611013233661652,0.14162592589855194,0.1418791562318802,0.14130899310112,0.13689376413822174,0.13126139342784882,null,null,null,null,null,null,null,null,null,null,null,null,null,null,null,null,null,null,null,null],\"yaxis\":\"y\",\"type\":\"scattergl\"},{\"hovertemplate\":\"Experiment=17\\u003cbr\\u003eEpochs=%{x}\\u003cbr\\u003eLoss=%{y}\\u003cextra\\u003e\\u003c\\u002fextra\\u003e\",\"legendgroup\":\"17\",\"line\":{\"color\":\"#B6E880\",\"dash\":\"solid\"},\"marker\":{\"symbol\":\"circle\"},\"mode\":\"lines\",\"name\":\"17\",\"showlegend\":true,\"x\":[0,1,2,3,4,5,6,7,8,9,10,11,12,13,14,15,16,17,18,19,20,21,22,23,24,25,26,27,28,29,30,31,32,33,34,35,36,37,38,39,40],\"xaxis\":\"x\",\"y\":[42.471595764160156,2.753753662109375,1.9088140726089478,1.832597255706787,1.7994773387908936,1.773849368095398,1.7508658170700073,1.7352509498596191,1.7255353927612305,1.7050424814224243,1.6895835399627686,1.6877769231796265,1.678736686706543,1.6604405641555786,1.6289050579071045,1.6080741882324219,1.5949950218200684,1.5905556678771973,1.5799392461776733,1.568442940711975,1.5612750053405762,1.5404967069625854,1.532326102256775,1.5302945375442505,1.5141174793243408,1.477708339691162,0.6285535097122192,0.1659649908542633,0.15693342685699463,0.1482924073934555,0.1441793590784073,null,null,null,null,null,null,null,null,null,null],\"yaxis\":\"y\",\"type\":\"scattergl\"},{\"hovertemplate\":\"Experiment=18\\u003cbr\\u003eEpochs=%{x}\\u003cbr\\u003eLoss=%{y}\\u003cextra\\u003e\\u003c\\u002fextra\\u003e\",\"legendgroup\":\"18\",\"line\":{\"color\":\"#FF97FF\",\"dash\":\"solid\"},\"marker\":{\"symbol\":\"circle\"},\"mode\":\"lines\",\"name\":\"18\",\"showlegend\":true,\"x\":[0,1,2,3,4,5,6,7,8,9,10,11,12,13,14,15,16,17,18,19,20,21,22,23,24,25,26,27,28,29,30,31,32,33,34,35,36,37,38,39,40],\"xaxis\":\"x\",\"y\":[28.752994537353516,1.2213091850280762,0.6166792511940002,0.44777435064315796,0.3831687569618225,0.3383435010910034,0.296738862991333,0.27279943227767944,0.25884687900543213,0.2414068877696991,0.23188018798828125,0.22154393792152405,0.21163782477378845,0.20846521854400635,0.1997927725315094,0.19859148561954498,0.1921306997537613,0.18787972629070282,0.18208925426006317,0.17543601989746094,0.16982297599315643,null,null,null,null,null,null,null,null,null,null,null,null,null,null,null,null,null,null,null,null],\"yaxis\":\"y\",\"type\":\"scattergl\"},{\"hovertemplate\":\"Experiment=19\\u003cbr\\u003eEpochs=%{x}\\u003cbr\\u003eLoss=%{y}\\u003cextra\\u003e\\u003c\\u002fextra\\u003e\",\"legendgroup\":\"19\",\"line\":{\"color\":\"#FECB52\",\"dash\":\"solid\"},\"marker\":{\"symbol\":\"circle\"},\"mode\":\"lines\",\"name\":\"19\",\"showlegend\":true,\"x\":[0,1,2,3,4,5,6,7,8,9,10,11,12,13,14,15,16,17,18,19,20,21,22,23,24,25,26,27,28,29,30,31,32,33,34,35,36,37,38,39,40],\"xaxis\":\"x\",\"y\":[57.56633377075195,3.7352399826049805,3.3458940982818604,3.3117711544036865,3.3036348819732666,3.290520668029785,3.279912233352661,3.264155387878418,2.513970375061035,1.899559497833252,1.8732134103775024,1.845696210861206,1.8293859958648682,1.8246643543243408,1.7261286973953247,1.654951572418213,1.2561171054840088,0.22937452793121338,0.2082914263010025,0.1962219476699829,0.1835060864686966,0.17849218845367432,0.32054564356803894,0.271637499332428,0.23887322843074799,0.22390428185462952,0.20750513672828674,0.19493648409843445,0.18325355648994446,0.17574568092823029,0.1716315895318985,null,null,null,null,null,null,null,null,null,null],\"yaxis\":\"y\",\"type\":\"scattergl\"},{\"hovertemplate\":\"Experiment=20\\u003cbr\\u003eEpochs=%{x}\\u003cbr\\u003eLoss=%{y}\\u003cextra\\u003e\\u003c\\u002fextra\\u003e\",\"legendgroup\":\"20\",\"line\":{\"color\":\"#636efa\",\"dash\":\"solid\"},\"marker\":{\"symbol\":\"circle\"},\"mode\":\"lines\",\"name\":\"20\",\"showlegend\":true,\"x\":[0,1,2,3,4,5,6,7,8,9,10,11,12,13,14,15,16,17,18,19,20,21,22,23,24,25,26,27,28,29,30,31,32,33,34,35,36,37,38,39,40],\"xaxis\":\"x\",\"y\":[65.52120971679688,4.844964981079102,4.556812763214111,4.491490364074707,4.448585033416748,4.4098687171936035,4.37815523147583,4.358157157897949,4.345876693725586,4.337350368499756,4.326479911804199,4.31632661819458,4.309353351593018,4.302183628082275,4.294396877288818,4.288654804229736,4.283671855926514,4.2804741859436035,4.2762980461120605,4.274587631225586,4.275896072387695,null,null,null,null,null,null,null,null,null,null,null,null,null,null,null,null,null,null,null,null],\"yaxis\":\"y\",\"type\":\"scattergl\"},{\"hovertemplate\":\"Experiment=21\\u003cbr\\u003eEpochs=%{x}\\u003cbr\\u003eLoss=%{y}\\u003cextra\\u003e\\u003c\\u002fextra\\u003e\",\"legendgroup\":\"21\",\"line\":{\"color\":\"#EF553B\",\"dash\":\"solid\"},\"marker\":{\"symbol\":\"circle\"},\"mode\":\"lines\",\"name\":\"21\",\"showlegend\":true,\"x\":[0,1,2,3,4,5,6,7,8,9,10,11,12,13,14,15,16,17,18,19,20,21,22,23,24,25,26,27,28,29,30,31,32,33,34,35,36,37,38,39,40],\"xaxis\":\"x\",\"y\":[62.73310089111328,2.5429017543792725,1.668570637702942,0.35503053665161133,0.2786136269569397,0.24240447580814362,0.21682894229888916,0.19680999219417572,0.18036486208438873,0.16773438453674316,0.15863746404647827,0.15167520940303802,0.14612020552158356,0.14141467213630676,0.13768436014652252,0.13478830456733704,0.1323835253715515,0.13001053035259247,0.12757615745067596,0.12541747093200684,0.12342328578233719,0.12189458310604095,0.12062372267246246,0.11932016164064407,0.11784131824970245,0.11642300337553024,0.11532796174287796,0.11423007398843765,0.11323487013578415,0.11216932535171509,0.1110273003578186,null,null,null,null,null,null,null,null,null,null],\"yaxis\":\"y\",\"type\":\"scattergl\"},{\"hovertemplate\":\"Experiment=22\\u003cbr\\u003eEpochs=%{x}\\u003cbr\\u003eLoss=%{y}\\u003cextra\\u003e\\u003c\\u002fextra\\u003e\",\"legendgroup\":\"22\",\"line\":{\"color\":\"#00cc96\",\"dash\":\"solid\"},\"marker\":{\"symbol\":\"circle\"},\"mode\":\"lines\",\"name\":\"22\",\"showlegend\":true,\"x\":[0,1,2,3,4,5,6,7,8,9,10,11,12,13,14,15,16,17,18,19,20,21,22,23,24,25,26,27,28,29,30,31,32,33,34,35,36,37,38,39,40],\"xaxis\":\"x\",\"y\":[34.71086883544922,1.0309327840805054,0.3860560953617096,0.29209133982658386,0.23901234567165375,0.2076319307088852,0.18196067214012146,0.16433434188365936,0.1522238552570343,0.1430017650127411,0.13610270619392395,0.13002347946166992,0.1252889335155487,0.12197721749544144,0.11913561075925827,0.11652003973722458,0.11406130343675613,0.11154583096504211,0.10947122424840927,0.10768434405326843,0.10608574748039246,null,null,null,null,null,null,null,null,null,null,null,null,null,null,null,null,null,null,null,null],\"yaxis\":\"y\",\"type\":\"scattergl\"},{\"hovertemplate\":\"Experiment=23\\u003cbr\\u003eEpochs=%{x}\\u003cbr\\u003eLoss=%{y}\\u003cextra\\u003e\\u003c\\u002fextra\\u003e\",\"legendgroup\":\"23\",\"line\":{\"color\":\"#ab63fa\",\"dash\":\"solid\"},\"marker\":{\"symbol\":\"circle\"},\"mode\":\"lines\",\"name\":\"23\",\"showlegend\":true,\"x\":[0,1,2,3,4,5,6,7,8,9,10,11,12,13,14,15,16,17,18,19,20,21,22,23,24,25,26,27,28,29,30,31,32,33,34,35,36,37,38,39,40],\"xaxis\":\"x\",\"y\":[44.374969482421875,1.342962622642517,0.41407066583633423,0.30982208251953125,0.2531670928001404,0.2130819410085678,0.1890448033809662,0.17180760204792023,0.15843649208545685,0.14848724007606506,0.14003072679042816,0.13376520574092865,0.12910299003124237,0.12560014426708221,0.12221524119377136,0.11912762373685837,0.11686676740646362,0.1148582249879837,0.11331962049007416,0.11157914996147156,0.10967639833688736,0.10836950689554214,0.10709156095981598,0.10586962848901749,0.10475370287895203,0.10399878770112991,0.10310990363359451,0.1024135872721672,0.10179857164621353,0.10118477791547775,0.10036087781190872,null,null,null,null,null,null,null,null,null,null],\"yaxis\":\"y\",\"type\":\"scattergl\"},{\"hovertemplate\":\"Experiment=24\\u003cbr\\u003eEpochs=%{x}\\u003cbr\\u003eLoss=%{y}\\u003cextra\\u003e\\u003c\\u002fextra\\u003e\",\"legendgroup\":\"24\",\"line\":{\"color\":\"#FFA15A\",\"dash\":\"solid\"},\"marker\":{\"symbol\":\"circle\"},\"mode\":\"lines\",\"name\":\"24\",\"showlegend\":true,\"x\":[0,1,2,3,4,5,6,7,8,9,10,11,12,13,14,15,16,17,18,19,20,21,22,23,24,25,26,27,28,29,30,31,32,33,34,35,36,37,38,39,40],\"xaxis\":\"x\",\"y\":[25.62923812866211,2.0302023887634277,1.7623001337051392,1.648063063621521,0.668991208076477,0.3040875494480133,0.25117257237434387,0.22044353187084198,0.19654831290245056,0.18284103274345398,0.17083516716957092,0.16113720834255219,0.15454326570034027,0.14949816465377808,0.14481987059116364,0.14079272747039795,0.1380579024553299,0.1355006843805313,0.13368140161037445,0.13236650824546814,0.1309352070093155,null,null,null,null,null,null,null,null,null,null,null,null,null,null,null,null,null,null,null,null],\"yaxis\":\"y\",\"type\":\"scattergl\"},{\"hovertemplate\":\"Experiment=25\\u003cbr\\u003eEpochs=%{x}\\u003cbr\\u003eLoss=%{y}\\u003cextra\\u003e\\u003c\\u002fextra\\u003e\",\"legendgroup\":\"25\",\"line\":{\"color\":\"#19d3f3\",\"dash\":\"solid\"},\"marker\":{\"symbol\":\"circle\"},\"mode\":\"lines\",\"name\":\"25\",\"showlegend\":true,\"x\":[0,1,2,3,4,5,6,7,8,9,10,11,12,13,14,15,16,17,18,19,20,21,22,23,24,25,26,27,28,29,30,31,32,33,34,35,36,37,38,39,40],\"xaxis\":\"x\",\"y\":[41.80818557739258,1.4241704940795898,0.45063045620918274,0.3338805139064789,0.26883578300476074,0.22810639441013336,0.20199429988861084,0.18182441592216492,0.1653803437948227,0.15482528507709503,0.1458887904882431,0.13907283544540405,0.13414379954338074,0.13003596663475037,0.12628155946731567,0.12317274510860443,0.12112701684236526,0.11948903650045395,0.11763420701026917,0.11578980088233948,0.11404504626989365,0.1124378889799118,0.11123716831207275,0.11005333065986633,0.10880617052316666,0.10770346224308014,0.10678563266992569,0.10557480156421661,0.10452920198440552,0.10352594405412674,0.10269732773303986,null,null,null,null,null,null,null,null,null,null],\"yaxis\":\"y\",\"type\":\"scattergl\"},{\"hovertemplate\":\"Experiment=26\\u003cbr\\u003eEpochs=%{x}\\u003cbr\\u003eLoss=%{y}\\u003cextra\\u003e\\u003c\\u002fextra\\u003e\",\"legendgroup\":\"26\",\"line\":{\"color\":\"#FF6692\",\"dash\":\"solid\"},\"marker\":{\"symbol\":\"circle\"},\"mode\":\"lines\",\"name\":\"26\",\"showlegend\":true,\"x\":[0,1,2,3,4,5,6,7,8,9,10,11,12,13,14,15,16,17,18,19,20,21,22,23,24,25,26,27,28,29,30,31,32,33,34,35,36,37,38,39,40],\"xaxis\":\"x\",\"y\":[9.388933181762695,0.7238577604293823,0.44787415862083435,0.34593045711517334,0.2857038676738739,0.24290241301059723,0.21497619152069092,0.1911340057849884,0.17657221853733063,0.16692470014095306,0.1564399152994156,0.14776435494422913,0.13973240554332733,0.1321224421262741,0.12584055960178375,0.12245521694421768,0.11866530030965805,0.11581941694021225,0.11403058469295502,0.1126217246055603,0.11138099431991577,null,null,null,null,null,null,null,null,null,null,null,null,null,null,null,null,null,null,null,null],\"yaxis\":\"y\",\"type\":\"scattergl\"},{\"hovertemplate\":\"Experiment=27\\u003cbr\\u003eEpochs=%{x}\\u003cbr\\u003eLoss=%{y}\\u003cextra\\u003e\\u003c\\u002fextra\\u003e\",\"legendgroup\":\"27\",\"line\":{\"color\":\"#B6E880\",\"dash\":\"solid\"},\"marker\":{\"symbol\":\"circle\"},\"mode\":\"lines\",\"name\":\"27\",\"showlegend\":true,\"x\":[0,1,2,3,4,5,6,7,8,9,10,11,12,13,14,15,16,17,18,19,20,21,22,23,24,25,26,27,28,29,30,31,32,33,34,35,36,37,38,39,40],\"xaxis\":\"x\",\"y\":[69.65118408203125,3.985208034515381,2.788959264755249,1.4946110248565674,0.43010902404785156,0.3373158574104309,0.2925935685634613,0.2613969147205353,0.2389565259218216,0.2204214483499527,0.20721861720085144,0.18948040902614594,0.17674921452999115,0.17110112309455872,0.1612585186958313,0.15642301738262177,0.15219920873641968,0.1451365053653717,0.14018769562244415,0.13432057201862335,0.12884220480918884,null,null,null,null,null,null,null,null,null,null,null,null,null,null,null,null,null,null,null,null],\"yaxis\":\"y\",\"type\":\"scattergl\"},{\"hovertemplate\":\"Experiment=28\\u003cbr\\u003eEpochs=%{x}\\u003cbr\\u003eLoss=%{y}\\u003cextra\\u003e\\u003c\\u002fextra\\u003e\",\"legendgroup\":\"28\",\"line\":{\"color\":\"#FF97FF\",\"dash\":\"solid\"},\"marker\":{\"symbol\":\"circle\"},\"mode\":\"lines\",\"name\":\"28\",\"showlegend\":true,\"x\":[0,1,2,3,4,5,6,7,8,9,10,11,12,13,14,15,16,17,18,19,20,21,22,23,24,25,26,27,28,29,30,31,32,33,34,35,36,37,38,39,40],\"xaxis\":\"x\",\"y\":[46.67225646972656,2.5212464332580566,1.768674373626709,1.681605339050293,1.647809386253357,1.6248890161514282,1.6058343648910522,1.5978717803955078,1.5876027345657349,1.5862046480178833,1.5745545625686646,1.5668307542800903,1.5534162521362305,1.5390633344650269,1.5215357542037964,1.462347149848938,0.595085620880127,0.2307828813791275,0.20158207416534424,0.18458642065525055,0.1690184772014618,null,null,null,null,null,null,null,null,null,null,null,null,null,null,null,null,null,null,null,null],\"yaxis\":\"y\",\"type\":\"scattergl\"},{\"hovertemplate\":\"Experiment=29\\u003cbr\\u003eEpochs=%{x}\\u003cbr\\u003eLoss=%{y}\\u003cextra\\u003e\\u003c\\u002fextra\\u003e\",\"legendgroup\":\"29\",\"line\":{\"color\":\"#FECB52\",\"dash\":\"solid\"},\"marker\":{\"symbol\":\"circle\"},\"mode\":\"lines\",\"name\":\"29\",\"showlegend\":true,\"x\":[0,1,2,3,4,5,6,7,8,9,10,11,12,13,14,15,16,17,18,19,20,21,22,23,24,25,26,27,28,29,30,31,32,33,34,35,36,37,38,39,40],\"xaxis\":\"x\",\"y\":[35.75165939331055,0.7746343016624451,0.4064052402973175,0.31835445761680603,0.27467355132102966,0.2478240430355072,0.2262447327375412,0.20939704775810242,0.19504356384277344,0.18586082756519318,0.1776871532201767,0.16878575086593628,0.16276372969150543,0.15699702501296997,0.1513480842113495,0.14707261323928833,0.14120058715343475,0.13713453710079193,0.13331998884677887,0.13010816276073456,0.12619037926197052,null,null,null,null,null,null,null,null,null,null,null,null,null,null,null,null,null,null,null,null],\"yaxis\":\"y\",\"type\":\"scattergl\"},{\"hovertemplate\":\"Experiment=30\\u003cbr\\u003eEpochs=%{x}\\u003cbr\\u003eLoss=%{y}\\u003cextra\\u003e\\u003c\\u002fextra\\u003e\",\"legendgroup\":\"30\",\"line\":{\"color\":\"#636efa\",\"dash\":\"solid\"},\"marker\":{\"symbol\":\"circle\"},\"mode\":\"lines\",\"name\":\"30\",\"showlegend\":true,\"x\":[0,1,2,3,4,5,6,7,8,9,10,11,12,13,14,15,16,17,18,19,20,21,22,23,24,25,26,27,28,29,30,31,32,33,34,35,36,37,38,39,40],\"xaxis\":\"x\",\"y\":[33.65764236450195,0.8586856126785278,0.39772334694862366,0.4263036251068115,0.33148276805877686,0.27750343084335327,0.24650029838085175,0.2202053815126419,0.2003859579563141,0.18773013353347778,0.17477534711360931,0.15890145301818848,0.14931057393550873,0.14149081707000732,0.13574948906898499,0.13054819405078888,0.12528730928897858,0.11960241198539734,0.1159839779138565,0.11151152849197388,0.108151376247406,null,null,null,null,null,null,null,null,null,null,null,null,null,null,null,null,null,null,null,null],\"yaxis\":\"y\",\"type\":\"scattergl\"},{\"hovertemplate\":\"Experiment=31\\u003cbr\\u003eEpochs=%{x}\\u003cbr\\u003eLoss=%{y}\\u003cextra\\u003e\\u003c\\u002fextra\\u003e\",\"legendgroup\":\"31\",\"line\":{\"color\":\"#EF553B\",\"dash\":\"solid\"},\"marker\":{\"symbol\":\"circle\"},\"mode\":\"lines\",\"name\":\"31\",\"showlegend\":true,\"x\":[0,1,2,3,4,5,6,7,8,9,10,11,12,13,14,15,16,17,18,19,20,21,22,23,24,25,26,27,28,29,30,31,32,33,34,35,36,37,38,39,40],\"xaxis\":\"x\",\"y\":[53.244911193847656,2.3930740356445312,0.7034271955490112,0.37516093254089355,0.32726427912712097,0.285467267036438,0.26023033261299133,0.24035705626010895,0.22407205402851105,0.21254320442676544,0.19702178239822388,0.1863238364458084,0.18174469470977783,0.17314396798610687,0.16490253806114197,0.15790018439292908,0.15292087197303772,0.15007272362709045,0.14464326202869415,0.14040370285511017,0.13426926732063293,null,null,null,null,null,null,null,null,null,null,null,null,null,null,null,null,null,null,null,null],\"yaxis\":\"y\",\"type\":\"scattergl\"},{\"hovertemplate\":\"Experiment=32\\u003cbr\\u003eEpochs=%{x}\\u003cbr\\u003eLoss=%{y}\\u003cextra\\u003e\\u003c\\u002fextra\\u003e\",\"legendgroup\":\"32\",\"line\":{\"color\":\"#00cc96\",\"dash\":\"solid\"},\"marker\":{\"symbol\":\"circle\"},\"mode\":\"lines\",\"name\":\"32\",\"showlegend\":true,\"x\":[0,1,2,3,4,5,6,7,8,9,10,11,12,13,14,15,16,17,18,19,20,21,22,23,24,25,26,27,28,29,30,31,32,33,34,35,36,37,38,39,40],\"xaxis\":\"x\",\"y\":[26.122005462646484,0.8624727129936218,0.45473626255989075,0.3607507646083832,0.30130237340927124,0.27121737599372864,0.24562107026576996,0.22777971625328064,0.2116793990135193,0.19468706846237183,0.18531960248947144,0.17586301267147064,0.17094935476779938,0.16285201907157898,0.15636099874973297,0.1505267322063446,0.1457575112581253,0.1409320831298828,0.13903269171714783,0.13374200463294983,0.12792269885540009,null,null,null,null,null,null,null,null,null,null,null,null,null,null,null,null,null,null,null,null],\"yaxis\":\"y\",\"type\":\"scattergl\"},{\"hovertemplate\":\"Experiment=33\\u003cbr\\u003eEpochs=%{x}\\u003cbr\\u003eLoss=%{y}\\u003cextra\\u003e\\u003c\\u002fextra\\u003e\",\"legendgroup\":\"33\",\"line\":{\"color\":\"#ab63fa\",\"dash\":\"solid\"},\"marker\":{\"symbol\":\"circle\"},\"mode\":\"lines\",\"name\":\"33\",\"showlegend\":true,\"x\":[0,1,2,3,4,5,6,7,8,9,10,11,12,13,14,15,16,17,18,19,20,21,22,23,24,25,26,27,28,29,30,31,32,33,34,35,36,37,38,39,40],\"xaxis\":\"x\",\"y\":[40.463504791259766,0.9783858060836792,0.5587764382362366,0.4411197900772095,0.37109464406967163,0.33144861459732056,0.3025378882884979,0.2842486798763275,0.26395291090011597,0.2566487789154053,0.23473390936851501,0.2243618667125702,0.21409539878368378,0.20572316646575928,0.19964581727981567,0.19332566857337952,0.18854933977127075,0.18558521568775177,0.17562510073184967,0.1689341515302658,0.16312861442565918,null,null,null,null,null,null,null,null,null,null,null,null,null,null,null,null,null,null,null,null],\"yaxis\":\"y\",\"type\":\"scattergl\"},{\"hovertemplate\":\"Experiment=34\\u003cbr\\u003eEpochs=%{x}\\u003cbr\\u003eLoss=%{y}\\u003cextra\\u003e\\u003c\\u002fextra\\u003e\",\"legendgroup\":\"34\",\"line\":{\"color\":\"#FFA15A\",\"dash\":\"solid\"},\"marker\":{\"symbol\":\"circle\"},\"mode\":\"lines\",\"name\":\"34\",\"showlegend\":true,\"x\":[0,1,2,3,4,5,6,7,8,9,10,11,12,13,14,15,16,17,18,19,20,21,22,23,24,25,26,27,28,29,30,31,32,33,34,35,36,37,38,39,40],\"xaxis\":\"x\",\"y\":[24.26426124572754,0.9658729434013367,0.5012661814689636,0.39989352226257324,0.33648350834846497,0.2954000234603882,0.26195240020751953,0.24022474884986877,0.22146467864513397,0.20508040487766266,0.20215949416160583,0.18994425237178802,0.1791953593492508,0.1716221123933792,0.1636655628681183,0.15620538592338562,0.15008783340454102,0.145168736577034,0.14439761638641357,0.13639922440052032,0.1328006237745285,null,null,null,null,null,null,null,null,null,null,null,null,null,null,null,null,null,null,null,null],\"yaxis\":\"y\",\"type\":\"scattergl\"},{\"hovertemplate\":\"Experiment=35\\u003cbr\\u003eEpochs=%{x}\\u003cbr\\u003eLoss=%{y}\\u003cextra\\u003e\\u003c\\u002fextra\\u003e\",\"legendgroup\":\"35\",\"line\":{\"color\":\"#19d3f3\",\"dash\":\"solid\"},\"marker\":{\"symbol\":\"circle\"},\"mode\":\"lines\",\"name\":\"35\",\"showlegend\":true,\"x\":[0,1,2,3,4,5,6,7,8,9,10,11,12,13,14,15,16,17,18,19,20,21,22,23,24,25,26,27,28,29,30,31,32,33,34,35,36,37,38,39,40],\"xaxis\":\"x\",\"y\":[42.695526123046875,1.1394238471984863,0.5390554666519165,0.4226648211479187,0.35516899824142456,0.3131869435310364,0.29450559616088867,0.27704641222953796,0.26358088850975037,0.2523515820503235,0.24474750459194183,0.23170199990272522,0.22122077643871307,0.20637769997119904,0.19676473736763,0.19583885371685028,0.1928092986345291,0.18467411398887634,0.17950916290283203,0.17699521780014038,0.17005744576454163,null,null,null,null,null,null,null,null,null,null,null,null,null,null,null,null,null,null,null,null],\"yaxis\":\"y\",\"type\":\"scattergl\"},{\"hovertemplate\":\"Experiment=36\\u003cbr\\u003eEpochs=%{x}\\u003cbr\\u003eLoss=%{y}\\u003cextra\\u003e\\u003c\\u002fextra\\u003e\",\"legendgroup\":\"36\",\"line\":{\"color\":\"#FF6692\",\"dash\":\"solid\"},\"marker\":{\"symbol\":\"circle\"},\"mode\":\"lines\",\"name\":\"36\",\"showlegend\":true,\"x\":[0,1,2,3,4,5,6,7,8,9,10,11,12,13,14,15,16,17,18,19,20,21,22,23,24,25,26,27,28,29,30,31,32,33,34,35,36,37,38,39,40],\"xaxis\":\"x\",\"y\":[17.70051383972168,0.8048041462898254,0.41612815856933594,0.31043198704719543,0.2551003396511078,0.21934150159358978,0.19465894997119904,0.17473556101322174,0.16153986752033234,0.14926810562610626,0.13992300629615784,0.1325223445892334,0.12703806161880493,0.12292926758527756,0.11942440271377563,0.11639532446861267,0.11384332180023193,0.11205212026834488,0.1104249656200409,0.1092405617237091,0.10817412286996841,null,null,null,null,null,null,null,null,null,null,null,null,null,null,null,null,null,null,null,null],\"yaxis\":\"y\",\"type\":\"scattergl\"},{\"hovertemplate\":\"Experiment=37\\u003cbr\\u003eEpochs=%{x}\\u003cbr\\u003eLoss=%{y}\\u003cextra\\u003e\\u003c\\u002fextra\\u003e\",\"legendgroup\":\"37\",\"line\":{\"color\":\"#B6E880\",\"dash\":\"solid\"},\"marker\":{\"symbol\":\"circle\"},\"mode\":\"lines\",\"name\":\"37\",\"showlegend\":true,\"x\":[0,1,2,3,4,5,6,7,8,9,10,11,12,13,14,15,16,17,18,19,20,21,22,23,24,25,26,27,28,29,30,31,32,33,34,35,36,37,38,39,40],\"xaxis\":\"x\",\"y\":[63.01188278198242,3.6855926513671875,3.1919143199920654,3.0874130725860596,3.009848117828369,2.348414421081543,0.9644065499305725,0.367344468832016,0.3015890419483185,0.2653293013572693,0.23717506229877472,0.21820634603500366,0.20130732655525208,0.19217893481254578,0.18339689075946808,0.17530547082424164,0.16815458238124847,0.1628449559211731,0.15926727652549744,0.1559658646583557,0.15342846512794495,null,null,null,null,null,null,null,null,null,null,null,null,null,null,null,null,null,null,null,null],\"yaxis\":\"y\",\"type\":\"scattergl\"},{\"hovertemplate\":\"Experiment=38\\u003cbr\\u003eEpochs=%{x}\\u003cbr\\u003eLoss=%{y}\\u003cextra\\u003e\\u003c\\u002fextra\\u003e\",\"legendgroup\":\"38\",\"line\":{\"color\":\"#FF97FF\",\"dash\":\"solid\"},\"marker\":{\"symbol\":\"circle\"},\"mode\":\"lines\",\"name\":\"38\",\"showlegend\":true,\"x\":[0,1,2,3,4,5,6,7,8,9,10,11,12,13,14,15,16,17,18,19,20,21,22,23,24,25,26,27,28,29,30,31,32,33,34,35,36,37,38,39,40],\"xaxis\":\"x\",\"y\":[29.68079376220703,1.4565212726593018,0.4067106544971466,0.3001728653907776,0.24744154512882233,0.2135510891675949,0.19095884263515472,0.17356544733047485,0.16033126413822174,0.15225531160831451,0.14368726313114166,0.13727514445781708,0.13115526735782623,0.12655328214168549,0.12282193452119827,0.12008075416088104,0.11781394481658936,0.11571066081523895,0.11415518820285797,0.1127903163433075,0.11120888590812683,null,null,null,null,null,null,null,null,null,null,null,null,null,null,null,null,null,null,null,null],\"yaxis\":\"y\",\"type\":\"scattergl\"},{\"hovertemplate\":\"Experiment=39\\u003cbr\\u003eEpochs=%{x}\\u003cbr\\u003eLoss=%{y}\\u003cextra\\u003e\\u003c\\u002fextra\\u003e\",\"legendgroup\":\"39\",\"line\":{\"color\":\"#FECB52\",\"dash\":\"solid\"},\"marker\":{\"symbol\":\"circle\"},\"mode\":\"lines\",\"name\":\"39\",\"showlegend\":true,\"x\":[0,1,2,3,4,5,6,7,8,9,10,11,12,13,14,15,16,17,18,19,20,21,22,23,24,25,26,27,28,29,30,31,32,33,34,35,36,37,38,39,40],\"xaxis\":\"x\",\"y\":[68.0556640625,1.9846400022506714,0.5599011182785034,0.40747272968292236,0.3221556544303894,0.283276230096817,0.25340187549591064,0.23302488029003143,0.21581195294857025,0.20304402709007263,0.19139152765274048,0.1823764145374298,0.1732942909002304,0.16541875898838043,0.15755991637706757,0.1526445895433426,0.1475861519575119,0.14410273730754852,0.14195303618907928,0.13982835412025452,0.13799604773521423,null,null,null,null,null,null,null,null,null,null,null,null,null,null,null,null,null,null,null,null],\"yaxis\":\"y\",\"type\":\"scattergl\"},{\"hovertemplate\":\"Experiment=40\\u003cbr\\u003eEpochs=%{x}\\u003cbr\\u003eLoss=%{y}\\u003cextra\\u003e\\u003c\\u002fextra\\u003e\",\"legendgroup\":\"40\",\"line\":{\"color\":\"#636efa\",\"dash\":\"solid\"},\"marker\":{\"symbol\":\"circle\"},\"mode\":\"lines\",\"name\":\"40\",\"showlegend\":true,\"x\":[0,1,2,3,4,5,6,7,8,9,10,11,12,13,14,15,16,17,18,19,20,21,22,23,24,25,26,27,28,29,30,31,32,33,34,35,36,37,38,39,40],\"xaxis\":\"x\",\"y\":[31.42809295654297,2.2370617389678955,1.439653754234314,0.40427741408348083,0.3031946122646332,0.2530575692653656,0.22037801146507263,0.1981547623872757,0.1774919331073761,0.16260474920272827,0.15008656680583954,0.14315705001354218,0.13585451245307922,0.12942864000797272,0.12480253726243973,0.1208161935210228,0.11767960339784622,0.11585158854722977,0.11436052620410919,0.11287018656730652,0.11143185198307037,null,null,null,null,null,null,null,null,null,null,null,null,null,null,null,null,null,null,null,null],\"yaxis\":\"y\",\"type\":\"scattergl\"},{\"hovertemplate\":\"Experiment=41\\u003cbr\\u003eEpochs=%{x}\\u003cbr\\u003eLoss=%{y}\\u003cextra\\u003e\\u003c\\u002fextra\\u003e\",\"legendgroup\":\"41\",\"line\":{\"color\":\"#EF553B\",\"dash\":\"solid\"},\"marker\":{\"symbol\":\"circle\"},\"mode\":\"lines\",\"name\":\"41\",\"showlegend\":true,\"x\":[0,1,2,3,4,5,6,7,8,9,10,11,12,13,14,15,16,17,18,19,20,21,22,23,24,25,26,27,28,29,30,31,32,33,34,35,36,37,38,39,40],\"xaxis\":\"x\",\"y\":[100.593994140625,6.841363906860352,6.0010223388671875,5.421245098114014,4.125978469848633,3.9244585037231445,3.890258550643921,3.8620269298553467,3.854970693588257,3.830350399017334,3.8416972160339355,3.8309288024902344,3.8224825859069824,3.8164424896240234,3.789456367492676,3.2559289932250977,2.3646013736724854,2.3182575702667236,2.3197109699249268,2.3017077445983887,2.2859647274017334,null,null,null,null,null,null,null,null,null,null,null,null,null,null,null,null,null,null,null,null],\"yaxis\":\"y\",\"type\":\"scattergl\"},{\"hovertemplate\":\"Experiment=42\\u003cbr\\u003eEpochs=%{x}\\u003cbr\\u003eLoss=%{y}\\u003cextra\\u003e\\u003c\\u002fextra\\u003e\",\"legendgroup\":\"42\",\"line\":{\"color\":\"#00cc96\",\"dash\":\"solid\"},\"marker\":{\"symbol\":\"circle\"},\"mode\":\"lines\",\"name\":\"42\",\"showlegend\":true,\"x\":[0,1,2,3,4,5,6,7,8,9,10,11,12,13,14,15,16,17,18,19,20,21,22,23,24,25,26,27,28,29,30,31,32,33,34,35,36,37,38,39,40],\"xaxis\":\"x\",\"y\":[35.10444259643555,2.855390787124634,1.8250969648361206,1.6487196683883667,0.48769256472587585,0.2564259469509125,0.21617037057876587,0.19403532147407532,0.1778704971075058,0.16273237764835358,0.15132465958595276,0.14155995845794678,0.13301602005958557,0.12711282074451447,0.12261313199996948,0.11958883702754974,0.11724390834569931,0.11557448655366898,0.11412807554006577,0.11318232119083405,0.11235402524471283,null,null,null,null,null,null,null,null,null,null,null,null,null,null,null,null,null,null,null,null],\"yaxis\":\"y\",\"type\":\"scattergl\"},{\"hovertemplate\":\"Experiment=43\\u003cbr\\u003eEpochs=%{x}\\u003cbr\\u003eLoss=%{y}\\u003cextra\\u003e\\u003c\\u002fextra\\u003e\",\"legendgroup\":\"43\",\"line\":{\"color\":\"#ab63fa\",\"dash\":\"solid\"},\"marker\":{\"symbol\":\"circle\"},\"mode\":\"lines\",\"name\":\"43\",\"showlegend\":true,\"x\":[0,1,2,3,4,5,6,7,8,9,10,11,12,13,14,15,16,17,18,19,20,21,22,23,24,25,26,27,28,29,30,31,32,33,34,35,36,37,38,39,40],\"xaxis\":\"x\",\"y\":[33.18318557739258,0.94300776720047,0.6905945539474487,0.48158055543899536,0.382175475358963,0.33012279868125916,0.29575029015541077,0.27159199118614197,0.2484966516494751,0.2298441231250763,0.21745888888835907,0.20443464815616608,0.19413264095783234,0.181365966796875,0.17424412071704865,0.17127056419849396,0.16658224165439606,0.161748468875885,0.15628233551979065,0.15140695869922638,0.14676348865032196,null,null,null,null,null,null,null,null,null,null,null,null,null,null,null,null,null,null,null,null],\"yaxis\":\"y\",\"type\":\"scattergl\"},{\"hovertemplate\":\"Experiment=44\\u003cbr\\u003eEpochs=%{x}\\u003cbr\\u003eLoss=%{y}\\u003cextra\\u003e\\u003c\\u002fextra\\u003e\",\"legendgroup\":\"44\",\"line\":{\"color\":\"#FFA15A\",\"dash\":\"solid\"},\"marker\":{\"symbol\":\"circle\"},\"mode\":\"lines\",\"name\":\"44\",\"showlegend\":true,\"x\":[0,1,2,3,4,5,6,7,8,9,10,11,12,13,14,15,16,17,18,19,20,21,22,23,24,25,26,27,28,29,30,31,32,33,34,35,36,37,38,39,40],\"xaxis\":\"x\",\"y\":[20.713830947875977,0.6606173515319824,0.41426146030426025,0.30126988887786865,0.24372240900993347,0.21129126846790314,0.18946239352226257,0.16935944557189941,0.15412995219230652,0.14214663207530975,0.13145488500595093,0.12360449880361557,0.11722797900438309,0.11253681033849716,0.10794974863529205,0.10547928512096405,0.1028740406036377,0.10094095766544342,0.09921557456254959,0.0978696346282959,0.0968039482831955,null,null,null,null,null,null,null,null,null,null,null,null,null,null,null,null,null,null,null,null],\"yaxis\":\"y\",\"type\":\"scattergl\"},{\"hovertemplate\":\"Experiment=45\\u003cbr\\u003eEpochs=%{x}\\u003cbr\\u003eLoss=%{y}\\u003cextra\\u003e\\u003c\\u002fextra\\u003e\",\"legendgroup\":\"45\",\"line\":{\"color\":\"#19d3f3\",\"dash\":\"solid\"},\"marker\":{\"symbol\":\"circle\"},\"mode\":\"lines\",\"name\":\"45\",\"showlegend\":true,\"x\":[0,1,2,3,4,5,6,7,8,9,10,11,12,13,14,15,16,17,18,19,20,21,22,23,24,25,26,27,28,29,30,31,32,33,34,35,36,37,38,39,40],\"xaxis\":\"x\",\"y\":[46.87178421020508,2.538724660873413,1.122722864151001,0.5836437344551086,0.486122190952301,0.43023058772087097,0.3845846652984619,0.3451460003852844,0.3185102641582489,0.2931583523750305,0.27448228001594543,0.26287296414375305,0.24516414105892181,0.23295658826828003,0.2193860560655594,0.21583041548728943,0.20425061881542206,0.19618473947048187,0.18937529623508453,0.17932581901550293,0.1753915548324585,null,null,null,null,null,null,null,null,null,null,null,null,null,null,null,null,null,null,null,null],\"yaxis\":\"y\",\"type\":\"scattergl\"},{\"hovertemplate\":\"Experiment=46\\u003cbr\\u003eEpochs=%{x}\\u003cbr\\u003eLoss=%{y}\\u003cextra\\u003e\\u003c\\u002fextra\\u003e\",\"legendgroup\":\"46\",\"line\":{\"color\":\"#FF6692\",\"dash\":\"solid\"},\"marker\":{\"symbol\":\"circle\"},\"mode\":\"lines\",\"name\":\"46\",\"showlegend\":true,\"x\":[0,1,2,3,4,5,6,7,8,9,10,11,12,13,14,15,16,17,18,19,20,21,22,23,24,25,26,27,28,29,30,31,32,33,34,35,36,37,38,39,40],\"xaxis\":\"x\",\"y\":[25.94154167175293,0.8189685344696045,0.42063695192337036,0.32709643244743347,0.2797130048274994,0.24919459223747253,0.22377772629261017,0.2062533050775528,0.1905592978000641,0.17770332098007202,0.17335151135921478,0.16569742560386658,0.1574867218732834,0.14949217438697815,0.14390429854393005,0.13840432465076447,0.13436608016490936,0.1306408792734146,0.127327099442482,0.12532462179660797,0.1237618550658226,null,null,null,null,null,null,null,null,null,null,null,null,null,null,null,null,null,null,null,null],\"yaxis\":\"y\",\"type\":\"scattergl\"},{\"hovertemplate\":\"Experiment=47\\u003cbr\\u003eEpochs=%{x}\\u003cbr\\u003eLoss=%{y}\\u003cextra\\u003e\\u003c\\u002fextra\\u003e\",\"legendgroup\":\"47\",\"line\":{\"color\":\"#B6E880\",\"dash\":\"solid\"},\"marker\":{\"symbol\":\"circle\"},\"mode\":\"lines\",\"name\":\"47\",\"showlegend\":true,\"x\":[0,1,2,3,4,5,6,7,8,9,10,11,12,13,14,15,16,17,18,19,20,21,22,23,24,25,26,27,28,29,30,31,32,33,34,35,36,37,38,39,40],\"xaxis\":\"x\",\"y\":[21.72095489501953,0.8108917474746704,0.4739976227283478,0.36245203018188477,0.3085015118122101,0.2663857042789459,0.2376766800880432,0.21613991260528564,0.199683278799057,0.18944786489009857,0.1789984405040741,0.16793681681156158,0.15895694494247437,0.15192121267318726,0.14646287262439728,0.14163707196712494,0.13487273454666138,0.13087154924869537,0.12639197707176208,0.12136301398277283,0.11814108490943909,null,null,null,null,null,null,null,null,null,null,null,null,null,null,null,null,null,null,null,null],\"yaxis\":\"y\",\"type\":\"scattergl\"},{\"hovertemplate\":\"Experiment=48\\u003cbr\\u003eEpochs=%{x}\\u003cbr\\u003eLoss=%{y}\\u003cextra\\u003e\\u003c\\u002fextra\\u003e\",\"legendgroup\":\"48\",\"line\":{\"color\":\"#FF97FF\",\"dash\":\"solid\"},\"marker\":{\"symbol\":\"circle\"},\"mode\":\"lines\",\"name\":\"48\",\"showlegend\":true,\"x\":[0,1,2,3,4,5,6,7,8,9,10,11,12,13,14,15,16,17,18,19,20,21,22,23,24,25,26,27,28,29,30,31,32,33,34,35,36,37,38,39,40],\"xaxis\":\"x\",\"y\":[6.3458452224731445,0.771040141582489,0.490522563457489,0.3865874111652374,0.3243929445743561,0.2842647135257721,0.2637607753276825,0.2408255785703659,0.22655712068080902,0.21868598461151123,0.21095114946365356,0.20050601661205292,0.1909102201461792,0.18433955311775208,0.17890657484531403,0.17087511718273163,0.16098807752132416,0.155211940407753,0.1513364017009735,0.1498713493347168,0.1458413153886795,null,null,null,null,null,null,null,null,null,null,null,null,null,null,null,null,null,null,null,null],\"yaxis\":\"y\",\"type\":\"scattergl\"},{\"hovertemplate\":\"Experiment=49\\u003cbr\\u003eEpochs=%{x}\\u003cbr\\u003eLoss=%{y}\\u003cextra\\u003e\\u003c\\u002fextra\\u003e\",\"legendgroup\":\"49\",\"line\":{\"color\":\"#FECB52\",\"dash\":\"solid\"},\"marker\":{\"symbol\":\"circle\"},\"mode\":\"lines\",\"name\":\"49\",\"showlegend\":true,\"x\":[0,1,2,3,4,5,6,7,8,9,10,11,12,13,14,15,16,17,18,19,20,21,22,23,24,25,26,27,28,29,30,31,32,33,34,35,36,37,38,39,40],\"xaxis\":\"x\",\"y\":[32.959110260009766,2.302567720413208,1.7099180221557617,1.632415533065796,1.576980471611023,1.5595216751098633,1.5268397331237793,1.345755934715271,0.342470645904541,0.22414596378803253,0.20331041514873505,0.18731003999710083,0.176056906580925,0.1644260585308075,0.15601864457130432,0.14679338037967682,0.13919952511787415,0.1342308521270752,0.1307908445596695,0.1260942816734314,0.12198307365179062,null,null,null,null,null,null,null,null,null,null,null,null,null,null,null,null,null,null,null,null],\"yaxis\":\"y\",\"type\":\"scattergl\"},{\"hovertemplate\":\"Experiment=50\\u003cbr\\u003eEpochs=%{x}\\u003cbr\\u003eLoss=%{y}\\u003cextra\\u003e\\u003c\\u002fextra\\u003e\",\"legendgroup\":\"50\",\"line\":{\"color\":\"#636efa\",\"dash\":\"solid\"},\"marker\":{\"symbol\":\"circle\"},\"mode\":\"lines\",\"name\":\"50\",\"showlegend\":true,\"x\":[0,1,2,3,4,5,6,7,8,9,10,11,12,13,14,15,16,17,18,19,20,21,22,23,24,25,26,27,28,29,30,31,32,33,34,35,36,37,38,39,40],\"xaxis\":\"x\",\"y\":[32.32078552246094,2.0755600929260254,1.7587616443634033,0.6722455024719238,0.33311527967453003,0.2826697528362274,0.25819826126098633,0.23811320960521698,0.22164954245090485,0.2040155977010727,0.18955427408218384,0.17409223318099976,0.1662139594554901,0.15568381547927856,0.14840219914913177,0.14092440903186798,0.13631519675254822,0.12901920080184937,0.12354974448680878,0.11946236342191696,0.11673734337091446,null,null,null,null,null,null,null,null,null,null,null,null,null,null,null,null,null,null,null,null],\"yaxis\":\"y\",\"type\":\"scattergl\"},{\"hovertemplate\":\"Experiment=51\\u003cbr\\u003eEpochs=%{x}\\u003cbr\\u003eLoss=%{y}\\u003cextra\\u003e\\u003c\\u002fextra\\u003e\",\"legendgroup\":\"51\",\"line\":{\"color\":\"#EF553B\",\"dash\":\"solid\"},\"marker\":{\"symbol\":\"circle\"},\"mode\":\"lines\",\"name\":\"51\",\"showlegend\":true,\"x\":[0,1,2,3,4,5,6,7,8,9,10,11,12,13,14,15,16,17,18,19,20,21,22,23,24,25,26,27,28,29,30,31,32,33,34,35,36,37,38,39,40],\"xaxis\":\"x\",\"y\":[36.20536422729492,0.9882579445838928,0.46982985734939575,0.3707331717014313,0.31968000531196594,0.28213346004486084,0.2528544068336487,0.23172004520893097,0.22162018716335297,0.2059314101934433,0.19312302768230438,0.18295840919017792,0.17350761592388153,0.1666605919599533,0.1594245880842209,0.15115532279014587,0.14733783900737762,0.1410401314496994,0.13537362217903137,0.12932589650154114,0.12581771612167358,null,null,null,null,null,null,null,null,null,null,null,null,null,null,null,null,null,null,null,null],\"yaxis\":\"y\",\"type\":\"scattergl\"},{\"hovertemplate\":\"Experiment=52\\u003cbr\\u003eEpochs=%{x}\\u003cbr\\u003eLoss=%{y}\\u003cextra\\u003e\\u003c\\u002fextra\\u003e\",\"legendgroup\":\"52\",\"line\":{\"color\":\"#00cc96\",\"dash\":\"solid\"},\"marker\":{\"symbol\":\"circle\"},\"mode\":\"lines\",\"name\":\"52\",\"showlegend\":true,\"x\":[0,1,2,3,4,5,6,7,8,9,10,11,12,13,14,15,16,17,18,19,20,21,22,23,24,25,26,27,28,29,30,31,32,33,34,35,36,37,38,39,40],\"xaxis\":\"x\",\"y\":[30.854944229125977,1.1500823497772217,0.6558811068534851,0.46119028329849243,0.3833441734313965,0.3346977233886719,0.30472734570503235,0.2758098542690277,0.25898951292037964,0.24320107698440552,0.22437085211277008,0.2099466472864151,0.20172220468521118,0.19696469604969025,0.1879945993423462,0.17912964522838593,0.17578361928462982,0.17247374355793,0.16779448091983795,0.1634199172258377,0.15932594239711761,null,null,null,null,null,null,null,null,null,null,null,null,null,null,null,null,null,null,null,null],\"yaxis\":\"y\",\"type\":\"scattergl\"},{\"hovertemplate\":\"Experiment=53\\u003cbr\\u003eEpochs=%{x}\\u003cbr\\u003eLoss=%{y}\\u003cextra\\u003e\\u003c\\u002fextra\\u003e\",\"legendgroup\":\"53\",\"line\":{\"color\":\"#ab63fa\",\"dash\":\"solid\"},\"marker\":{\"symbol\":\"circle\"},\"mode\":\"lines\",\"name\":\"53\",\"showlegend\":true,\"x\":[0,1,2,3,4,5,6,7,8,9,10,11,12,13,14,15,16,17,18,19,20,21,22,23,24,25,26,27,28,29,30,31,32,33,34,35,36,37,38,39,40],\"xaxis\":\"x\",\"y\":[22.008403778076172,0.8236603140830994,0.47664153575897217,0.38319358229637146,0.31986555457115173,0.28333964943885803,0.25726404786109924,0.2310042530298233,0.21856655180454254,0.20230653882026672,0.195856973528862,0.18381454050540924,0.16900578141212463,0.16487489640712738,0.15896743535995483,0.15424476563930511,0.14813117682933807,0.14407430589199066,0.1421308070421219,0.13571880757808685,0.1289849728345871,null,null,null,null,null,null,null,null,null,null,null,null,null,null,null,null,null,null,null,null],\"yaxis\":\"y\",\"type\":\"scattergl\"},{\"hovertemplate\":\"Experiment=54\\u003cbr\\u003eEpochs=%{x}\\u003cbr\\u003eLoss=%{y}\\u003cextra\\u003e\\u003c\\u002fextra\\u003e\",\"legendgroup\":\"54\",\"line\":{\"color\":\"#FFA15A\",\"dash\":\"solid\"},\"marker\":{\"symbol\":\"circle\"},\"mode\":\"lines\",\"name\":\"54\",\"showlegend\":true,\"x\":[0,1,2,3,4,5,6,7,8,9,10,11,12,13,14,15,16,17,18,19,20,21,22,23,24,25,26,27,28,29,30,31,32,33,34,35,36,37,38,39,40],\"xaxis\":\"x\",\"y\":[35.75407028198242,1.8718249797821045,1.586612582206726,1.4998952150344849,1.4294168949127197,1.2209261655807495,0.27811694145202637,0.2428564727306366,0.22297227382659912,0.20756517350673676,0.1966552734375,0.1824665069580078,0.17084643244743347,0.16320908069610596,0.15412099659442902,0.1475086510181427,0.1396198570728302,0.13155411183834076,0.12640495598316193,0.12257988005876541,0.11936923861503601,null,null,null,null,null,null,null,null,null,null,null,null,null,null,null,null,null,null,null,null],\"yaxis\":\"y\",\"type\":\"scattergl\"},{\"hovertemplate\":\"Experiment=55\\u003cbr\\u003eEpochs=%{x}\\u003cbr\\u003eLoss=%{y}\\u003cextra\\u003e\\u003c\\u002fextra\\u003e\",\"legendgroup\":\"55\",\"line\":{\"color\":\"#19d3f3\",\"dash\":\"solid\"},\"marker\":{\"symbol\":\"circle\"},\"mode\":\"lines\",\"name\":\"55\",\"showlegend\":true,\"x\":[0,1,2,3,4,5,6,7,8,9,10,11,12,13,14,15,16,17,18,19,20,21,22,23,24,25,26,27,28,29,30,31,32,33,34,35,36,37,38,39,40],\"xaxis\":\"x\",\"y\":[20.844764709472656,0.7919414639472961,0.43898460268974304,0.3753610849380493,0.2915463149547577,0.24221186339855194,0.21208027005195618,0.1884784996509552,0.17428365349769592,0.16009066998958588,0.14989285171031952,0.14051292836666107,0.13376100361347198,0.12851324677467346,0.12468791007995605,0.12173722684383392,0.11901436746120453,0.11671289801597595,0.11419705301523209,0.11248107254505157,0.11109787970781326,null,null,null,null,null,null,null,null,null,null,null,null,null,null,null,null,null,null,null,null],\"yaxis\":\"y\",\"type\":\"scattergl\"},{\"hovertemplate\":\"Experiment=56\\u003cbr\\u003eEpochs=%{x}\\u003cbr\\u003eLoss=%{y}\\u003cextra\\u003e\\u003c\\u002fextra\\u003e\",\"legendgroup\":\"56\",\"line\":{\"color\":\"#FF6692\",\"dash\":\"solid\"},\"marker\":{\"symbol\":\"circle\"},\"mode\":\"lines\",\"name\":\"56\",\"showlegend\":true,\"x\":[0,1,2,3,4,5,6,7,8,9,10,11,12,13,14,15,16,17,18,19,20,21,22,23,24,25,26,27,28,29,30,31,32,33,34,35,36,37,38,39,40],\"xaxis\":\"x\",\"y\":[16.20203399658203,0.770693838596344,0.43974190950393677,0.3294755816459656,0.2687610387802124,0.2315603643655777,0.20319153368473053,0.18276779353618622,0.1710294932126999,0.16011421382427216,0.15020038187503815,0.1433766782283783,0.13628381490707397,0.13090552389621735,0.12715286016464233,0.12368359416723251,0.12061510980129242,0.11859104782342911,0.11665475368499756,0.11452411115169525,0.11340776830911636,null,null,null,null,null,null,null,null,null,null,null,null,null,null,null,null,null,null,null,null],\"yaxis\":\"y\",\"type\":\"scattergl\"},{\"hovertemplate\":\"Experiment=57\\u003cbr\\u003eEpochs=%{x}\\u003cbr\\u003eLoss=%{y}\\u003cextra\\u003e\\u003c\\u002fextra\\u003e\",\"legendgroup\":\"57\",\"line\":{\"color\":\"#B6E880\",\"dash\":\"solid\"},\"marker\":{\"symbol\":\"circle\"},\"mode\":\"lines\",\"name\":\"57\",\"showlegend\":true,\"x\":[0,1,2,3,4,5,6,7,8,9,10,11,12,13,14,15,16,17,18,19,20,21,22,23,24,25,26,27,28,29,30,31,32,33,34,35,36,37,38,39,40],\"xaxis\":\"x\",\"y\":[10.861541748046875,0.5093851089477539,0.4086429476737976,0.3210972249507904,0.25874221324920654,0.22454698383808136,0.19757650792598724,0.18384091556072235,0.17058883607387543,0.15933355689048767,0.1499205082654953,0.14146511256694794,0.13557018339633942,0.13085812330245972,0.1253690868616104,0.12137860059738159,0.11827234923839569,0.1159563809633255,0.11508879065513611,0.1140291690826416,0.11321686953306198,null,null,null,null,null,null,null,null,null,null,null,null,null,null,null,null,null,null,null,null],\"yaxis\":\"y\",\"type\":\"scattergl\"},{\"hovertemplate\":\"Experiment=58\\u003cbr\\u003eEpochs=%{x}\\u003cbr\\u003eLoss=%{y}\\u003cextra\\u003e\\u003c\\u002fextra\\u003e\",\"legendgroup\":\"58\",\"line\":{\"color\":\"#FF97FF\",\"dash\":\"solid\"},\"marker\":{\"symbol\":\"circle\"},\"mode\":\"lines\",\"name\":\"58\",\"showlegend\":true,\"x\":[0,1,2,3,4,5,6,7,8,9,10,11,12,13,14,15,16,17,18,19,20,21,22,23,24,25,26,27,28,29,30,31,32,33,34,35,36,37,38,39,40],\"xaxis\":\"x\",\"y\":[22.9946231842041,0.8483576774597168,0.43135589361190796,0.32782837748527527,0.2819073796272278,0.2435736507177353,0.21520653367042542,0.19670233130455017,0.1798645406961441,0.16920454800128937,0.15980780124664307,0.1515243500471115,0.1436244398355484,0.1388309746980667,0.1312599629163742,0.128297820687294,0.12428884208202362,0.12121028453111649,0.11911653727293015,0.11753252893686295,0.11570541560649872,null,null,null,null,null,null,null,null,null,null,null,null,null,null,null,null,null,null,null,null],\"yaxis\":\"y\",\"type\":\"scattergl\"},{\"hovertemplate\":\"Experiment=59\\u003cbr\\u003eEpochs=%{x}\\u003cbr\\u003eLoss=%{y}\\u003cextra\\u003e\\u003c\\u002fextra\\u003e\",\"legendgroup\":\"59\",\"line\":{\"color\":\"#FECB52\",\"dash\":\"solid\"},\"marker\":{\"symbol\":\"circle\"},\"mode\":\"lines\",\"name\":\"59\",\"showlegend\":true,\"x\":[0,1,2,3,4,5,6,7,8,9,10,11,12,13,14,15,16,17,18,19,20,21,22,23,24,25,26,27,28,29,30,31,32,33,34,35,36,37,38,39,40],\"xaxis\":\"x\",\"y\":[21.483535766601562,0.7670370936393738,0.38134241104125977,0.2980492115020752,0.2580823302268982,0.22620753943920135,0.2047053873538971,0.19131271541118622,0.18237006664276123,0.17191839218139648,0.16389158368110657,0.1526467651128769,0.14524821937084198,0.13909003138542175,0.13435260951519012,0.12958937883377075,0.12532731890678406,0.11945278197526932,0.1163940578699112,0.1139398068189621,0.11216863244771957,null,null,null,null,null,null,null,null,null,null,null,null,null,null,null,null,null,null,null,null],\"yaxis\":\"y\",\"type\":\"scattergl\"},{\"hovertemplate\":\"Experiment=60\\u003cbr\\u003eEpochs=%{x}\\u003cbr\\u003eLoss=%{y}\\u003cextra\\u003e\\u003c\\u002fextra\\u003e\",\"legendgroup\":\"60\",\"line\":{\"color\":\"#636efa\",\"dash\":\"solid\"},\"marker\":{\"symbol\":\"circle\"},\"mode\":\"lines\",\"name\":\"60\",\"showlegend\":true,\"x\":[0,1,2,3,4,5,6,7,8,9,10,11,12,13,14,15,16,17,18,19,20,21,22,23,24,25,26,27,28,29,30,31,32,33,34,35,36,37,38,39,40],\"xaxis\":\"x\",\"y\":[11.27271842956543,0.7388947606086731,0.5060741305351257,0.3835032284259796,0.3258408308029175,0.2842871844768524,0.24957790970802307,0.22727128863334656,0.21446166932582855,0.2015857994556427,0.19208431243896484,0.1835547238588333,0.17329764366149902,0.16547606885433197,0.16395527124404907,0.15786972641944885,0.15094636380672455,0.1447415053844452,0.14126624166965485,0.13801907002925873,0.13618838787078857,null,null,null,null,null,null,null,null,null,null,null,null,null,null,null,null,null,null,null,null],\"yaxis\":\"y\",\"type\":\"scattergl\"},{\"hovertemplate\":\"Experiment=61\\u003cbr\\u003eEpochs=%{x}\\u003cbr\\u003eLoss=%{y}\\u003cextra\\u003e\\u003c\\u002fextra\\u003e\",\"legendgroup\":\"61\",\"line\":{\"color\":\"#EF553B\",\"dash\":\"solid\"},\"marker\":{\"symbol\":\"circle\"},\"mode\":\"lines\",\"name\":\"61\",\"showlegend\":true,\"x\":[0,1,2,3,4,5,6,7,8,9,10,11,12,13,14,15,16,17,18,19,20,21,22,23,24,25,26,27,28,29,30,31,32,33,34,35,36,37,38,39,40],\"xaxis\":\"x\",\"y\":[52.27532196044922,4.704186916351318,3.1574556827545166,3.015808343887329,2.363574981689453,0.5245836973190308,0.25928381085395813,0.2280166894197464,0.21015727519989014,0.19627761840820312,0.18419988453388214,0.17462171614170074,0.16626514494419098,0.1578441560268402,0.15287385880947113,0.1462368369102478,0.14120632410049438,0.1381421834230423,0.13614995777606964,0.13382677733898163,0.13240249454975128,null,null,null,null,null,null,null,null,null,null,null,null,null,null,null,null,null,null,null,null],\"yaxis\":\"y\",\"type\":\"scattergl\"},{\"hovertemplate\":\"Experiment=62\\u003cbr\\u003eEpochs=%{x}\\u003cbr\\u003eLoss=%{y}\\u003cextra\\u003e\\u003c\\u002fextra\\u003e\",\"legendgroup\":\"62\",\"line\":{\"color\":\"#00cc96\",\"dash\":\"solid\"},\"marker\":{\"symbol\":\"circle\"},\"mode\":\"lines\",\"name\":\"62\",\"showlegend\":true,\"x\":[0,1,2,3,4,5,6,7,8,9,10,11,12,13,14,15,16,17,18,19,20,21,22,23,24,25,26,27,28,29,30,31,32,33,34,35,36,37,38,39,40],\"xaxis\":\"x\",\"y\":[12.316563606262207,0.7668979167938232,0.42786818742752075,0.3307274281978607,0.28169313073158264,0.2502223253250122,0.23327548801898956,0.21602369844913483,0.20554672181606293,0.1911194771528244,0.17866508662700653,0.16793197393417358,0.1599733680486679,0.15267370641231537,0.14376680552959442,0.13782358169555664,0.1330442726612091,0.12950000166893005,0.12591485679149628,0.12354116886854172,0.12166979908943176,null,null,null,null,null,null,null,null,null,null,null,null,null,null,null,null,null,null,null,null],\"yaxis\":\"y\",\"type\":\"scattergl\"},{\"hovertemplate\":\"Experiment=63\\u003cbr\\u003eEpochs=%{x}\\u003cbr\\u003eLoss=%{y}\\u003cextra\\u003e\\u003c\\u002fextra\\u003e\",\"legendgroup\":\"63\",\"line\":{\"color\":\"#ab63fa\",\"dash\":\"solid\"},\"marker\":{\"symbol\":\"circle\"},\"mode\":\"lines\",\"name\":\"63\",\"showlegend\":true,\"x\":[0,1,2,3,4,5,6,7,8,9,10,11,12,13,14,15,16,17,18,19,20,21,22,23,24,25,26,27,28,29,30,31,32,33,34,35,36,37,38,39,40],\"xaxis\":\"x\",\"y\":[30.8892879486084,1.2332247495651245,0.5178159475326538,0.3855316936969757,0.32333847880363464,0.2833075225353241,0.25657546520233154,0.230444073677063,0.2117643505334854,0.19588905572891235,0.18771515786647797,0.17452774941921234,0.16479523479938507,0.15572522580623627,0.1493668556213379,0.13983100652694702,0.13299642503261566,0.12927374243736267,0.12497422844171524,0.12113277614116669,0.11820805072784424,null,null,null,null,null,null,null,null,null,null,null,null,null,null,null,null,null,null,null,null],\"yaxis\":\"y\",\"type\":\"scattergl\"},{\"hovertemplate\":\"Experiment=64\\u003cbr\\u003eEpochs=%{x}\\u003cbr\\u003eLoss=%{y}\\u003cextra\\u003e\\u003c\\u002fextra\\u003e\",\"legendgroup\":\"64\",\"line\":{\"color\":\"#FFA15A\",\"dash\":\"solid\"},\"marker\":{\"symbol\":\"circle\"},\"mode\":\"lines\",\"name\":\"64\",\"showlegend\":true,\"x\":[0,1,2,3,4,5,6,7,8,9,10,11,12,13,14,15,16,17,18,19,20,21,22,23,24,25,26,27,28,29,30,31,32,33,34,35,36,37,38,39,40],\"xaxis\":\"x\",\"y\":[7.7374067306518555,0.7662372589111328,0.48067155480384827,0.36258137226104736,0.3017613887786865,0.2743073105812073,0.24943451583385468,0.22800253331661224,0.21794691681861877,0.2055368721485138,0.19480177760124207,0.18619784712791443,0.17893138527870178,0.16773223876953125,0.15946045517921448,0.15567325055599213,0.1518307775259018,0.14852580428123474,0.14330874383449554,0.1386909931898117,0.13294847309589386,null,null,null,null,null,null,null,null,null,null,null,null,null,null,null,null,null,null,null,null],\"yaxis\":\"y\",\"type\":\"scattergl\"},{\"hovertemplate\":\"Experiment=65\\u003cbr\\u003eEpochs=%{x}\\u003cbr\\u003eLoss=%{y}\\u003cextra\\u003e\\u003c\\u002fextra\\u003e\",\"legendgroup\":\"65\",\"line\":{\"color\":\"#19d3f3\",\"dash\":\"solid\"},\"marker\":{\"symbol\":\"circle\"},\"mode\":\"lines\",\"name\":\"65\",\"showlegend\":true,\"x\":[0,1,2,3,4,5,6,7,8,9,10,11,12,13,14,15,16,17,18,19,20,21,22,23,24,25,26,27,28,29,30,31,32,33,34,35,36,37,38,39,40],\"xaxis\":\"x\",\"y\":[18.01923370361328,2.0307183265686035,1.10165536403656,0.3789950907230377,0.30693474411964417,0.26550209522247314,0.23895686864852905,0.21596771478652954,0.2011331468820572,0.18646448850631714,0.17674857378005981,0.1660618782043457,0.15876561403274536,0.15065179765224457,0.1452859342098236,0.14076419174671173,0.1376926749944687,0.1352890282869339,0.13321393728256226,0.13146521151065826,0.12993177771568298,null,null,null,null,null,null,null,null,null,null,null,null,null,null,null,null,null,null,null,null],\"yaxis\":\"y\",\"type\":\"scattergl\"},{\"hovertemplate\":\"Experiment=66\\u003cbr\\u003eEpochs=%{x}\\u003cbr\\u003eLoss=%{y}\\u003cextra\\u003e\\u003c\\u002fextra\\u003e\",\"legendgroup\":\"66\",\"line\":{\"color\":\"#FF6692\",\"dash\":\"solid\"},\"marker\":{\"symbol\":\"circle\"},\"mode\":\"lines\",\"name\":\"66\",\"showlegend\":true,\"x\":[0,1,2,3,4,5,6,7,8,9,10,11,12,13,14,15,16,17,18,19,20,21,22,23,24,25,26,27,28,29,30,31,32,33,34,35,36,37,38,39,40],\"xaxis\":\"x\",\"y\":[19.90705108642578,1.0346696376800537,0.4351688623428345,0.33152562379837036,0.2789168953895569,0.24108760058879852,0.21789208054542542,0.19688303768634796,0.18302597105503082,0.17021141946315765,0.16193555295467377,0.15397530794143677,0.1459551453590393,0.1397273689508438,0.13416725397109985,0.1311483085155487,0.12802532315254211,0.12312300503253937,0.11902377009391785,0.1146409884095192,0.11110217124223709,null,null,null,null,null,null,null,null,null,null,null,null,null,null,null,null,null,null,null,null],\"yaxis\":\"y\",\"type\":\"scattergl\"},{\"hovertemplate\":\"Experiment=67\\u003cbr\\u003eEpochs=%{x}\\u003cbr\\u003eLoss=%{y}\\u003cextra\\u003e\\u003c\\u002fextra\\u003e\",\"legendgroup\":\"67\",\"line\":{\"color\":\"#B6E880\",\"dash\":\"solid\"},\"marker\":{\"symbol\":\"circle\"},\"mode\":\"lines\",\"name\":\"67\",\"showlegend\":true,\"x\":[0,1,2,3,4,5,6,7,8,9,10,11,12,13,14,15,16,17,18,19,20,21,22,23,24,25,26,27,28,29,30,31,32,33,34,35,36,37,38,39,40],\"xaxis\":\"x\",\"y\":[13.933008193969727,0.7431409358978271,0.4293774962425232,0.3492947220802307,0.2927685081958771,0.25434964895248413,0.2296745479106903,0.21257378160953522,0.199118971824646,0.18671490252017975,0.17708076536655426,0.1662188619375229,0.15700022876262665,0.15089456737041473,0.14593921601772308,0.14358772337436676,0.1382647454738617,0.13367125391960144,0.12882472574710846,0.12271662056446075,0.118897944688797,null,null,null,null,null,null,null,null,null,null,null,null,null,null,null,null,null,null,null,null],\"yaxis\":\"y\",\"type\":\"scattergl\"},{\"hovertemplate\":\"Experiment=68\\u003cbr\\u003eEpochs=%{x}\\u003cbr\\u003eLoss=%{y}\\u003cextra\\u003e\\u003c\\u002fextra\\u003e\",\"legendgroup\":\"68\",\"line\":{\"color\":\"#FF97FF\",\"dash\":\"solid\"},\"marker\":{\"symbol\":\"circle\"},\"mode\":\"lines\",\"name\":\"68\",\"showlegend\":true,\"x\":[0,1,2,3,4,5,6,7,8,9,10,11,12,13,14,15,16,17,18,19,20,21,22,23,24,25,26,27,28,29,30,31,32,33,34,35,36,37,38,39,40],\"xaxis\":\"x\",\"y\":[18.300765991210938,1.8682936429977417,1.574921727180481,0.7665344476699829,0.3056509792804718,0.26357460021972656,0.23987016081809998,0.21722443401813507,0.20018652081489563,0.18431079387664795,0.16892383992671967,0.15733398497104645,0.1493961066007614,0.1414100080728531,0.1347786784172058,0.12861157953739166,0.1250171661376953,0.11998771131038666,0.11664240807294846,0.11108442395925522,0.10667629539966583,null,null,null,null,null,null,null,null,null,null,null,null,null,null,null,null,null,null,null,null],\"yaxis\":\"y\",\"type\":\"scattergl\"},{\"hovertemplate\":\"Experiment=69\\u003cbr\\u003eEpochs=%{x}\\u003cbr\\u003eLoss=%{y}\\u003cextra\\u003e\\u003c\\u002fextra\\u003e\",\"legendgroup\":\"69\",\"line\":{\"color\":\"#FECB52\",\"dash\":\"solid\"},\"marker\":{\"symbol\":\"circle\"},\"mode\":\"lines\",\"name\":\"69\",\"showlegend\":true,\"x\":[0,1,2,3,4,5,6,7,8,9,10,11,12,13,14,15,16,17,18,19,20,21,22,23,24,25,26,27,28,29,30,31,32,33,34,35,36,37,38,39,40],\"xaxis\":\"x\",\"y\":[26.17466163635254,0.6829911470413208,0.4484778642654419,0.35945945978164673,0.2846441864967346,0.24405966699123383,0.21695353090763092,0.19239172339439392,0.17744238674640656,0.16429179906845093,0.15258640050888062,0.1466161012649536,0.13783791661262512,0.1317879557609558,0.12657296657562256,0.12039888650178909,0.11475299298763275,0.11077430844306946,0.1073446199297905,0.10501803457736969,0.10279431939125061,null,null,null,null,null,null,null,null,null,null,null,null,null,null,null,null,null,null,null,null],\"yaxis\":\"y\",\"type\":\"scattergl\"},{\"hovertemplate\":\"Experiment=70\\u003cbr\\u003eEpochs=%{x}\\u003cbr\\u003eLoss=%{y}\\u003cextra\\u003e\\u003c\\u002fextra\\u003e\",\"legendgroup\":\"70\",\"line\":{\"color\":\"#636efa\",\"dash\":\"solid\"},\"marker\":{\"symbol\":\"circle\"},\"mode\":\"lines\",\"name\":\"70\",\"showlegend\":true,\"x\":[0,1,2,3,4,5,6,7,8,9,10,11,12,13,14,15,16,17,18,19,20,21,22,23,24,25,26,27,28,29,30,31,32,33,34,35,36,37,38,39,40],\"xaxis\":\"x\",\"y\":[30.271636962890625,2.4654541015625,1.3394908905029297,0.4172619879245758,0.3114511966705322,0.261412650346756,0.22647827863693237,0.20172087848186493,0.18834088742733002,0.1735972911119461,0.1607663929462433,0.15411277115345,0.1452081948518753,0.13923794031143188,0.13260191679000854,0.12646619975566864,0.12222222238779068,0.11857418715953827,0.11634188890457153,0.11457983404397964,0.1126398965716362,null,null,null,null,null,null,null,null,null,null,null,null,null,null,null,null,null,null,null,null],\"yaxis\":\"y\",\"type\":\"scattergl\"},{\"hovertemplate\":\"Experiment=71\\u003cbr\\u003eEpochs=%{x}\\u003cbr\\u003eLoss=%{y}\\u003cextra\\u003e\\u003c\\u002fextra\\u003e\",\"legendgroup\":\"71\",\"line\":{\"color\":\"#EF553B\",\"dash\":\"solid\"},\"marker\":{\"symbol\":\"circle\"},\"mode\":\"lines\",\"name\":\"71\",\"showlegend\":true,\"x\":[0,1,2,3,4,5,6,7,8,9,10,11,12,13,14,15,16,17,18,19,20,21,22,23,24,25,26,27,28,29,30,31,32,33,34,35,36,37,38,39,40],\"xaxis\":\"x\",\"y\":[29.030269622802734,1.3638800382614136,0.38962993025779724,0.2998448312282562,0.2493390589952469,0.21990349888801575,0.19790691137313843,0.18023289740085602,0.16758593916893005,0.15433092415332794,0.14348876476287842,0.13521987199783325,0.12977106869220734,0.1241580992937088,0.11791432648897171,0.11354104429483414,0.1104835644364357,0.10770698636770248,0.10565487295389175,0.10417592525482178,0.10241499543190002,null,null,null,null,null,null,null,null,null,null,null,null,null,null,null,null,null,null,null,null],\"yaxis\":\"y\",\"type\":\"scattergl\"},{\"hovertemplate\":\"Experiment=72\\u003cbr\\u003eEpochs=%{x}\\u003cbr\\u003eLoss=%{y}\\u003cextra\\u003e\\u003c\\u002fextra\\u003e\",\"legendgroup\":\"72\",\"line\":{\"color\":\"#00cc96\",\"dash\":\"solid\"},\"marker\":{\"symbol\":\"circle\"},\"mode\":\"lines\",\"name\":\"72\",\"showlegend\":true,\"x\":[0,1,2,3,4,5,6,7,8,9,10,11,12,13,14,15,16,17,18,19,20,21,22,23,24,25,26,27,28,29,30,31,32,33,34,35,36,37,38,39,40],\"xaxis\":\"x\",\"y\":[15.53109359741211,0.6350108981132507,0.3614080250263214,0.2764355540275574,0.2294403314590454,0.20543316006660461,0.18810175359249115,0.17328181862831116,0.1625899076461792,0.15223637223243713,0.14207212626934052,0.13300833106040955,0.12379345297813416,0.1184643879532814,0.1129843145608902,0.10999834537506104,0.10633807629346848,0.10331080108880997,0.10087697952985764,0.09946804493665695,0.09820447117090225,null,null,null,null,null,null,null,null,null,null,null,null,null,null,null,null,null,null,null,null],\"yaxis\":\"y\",\"type\":\"scattergl\"},{\"hovertemplate\":\"Experiment=73\\u003cbr\\u003eEpochs=%{x}\\u003cbr\\u003eLoss=%{y}\\u003cextra\\u003e\\u003c\\u002fextra\\u003e\",\"legendgroup\":\"73\",\"line\":{\"color\":\"#ab63fa\",\"dash\":\"solid\"},\"marker\":{\"symbol\":\"circle\"},\"mode\":\"lines\",\"name\":\"73\",\"showlegend\":true,\"x\":[0,1,2,3,4,5,6,7,8,9,10,11,12,13,14,15,16,17,18,19,20,21,22,23,24,25,26,27,28,29,30,31,32,33,34,35,36,37,38,39,40],\"xaxis\":\"x\",\"y\":[23.666942596435547,1.4633817672729492,0.4270656704902649,0.49662643671035767,0.35415542125701904,0.2849663197994232,0.2529953122138977,0.2304004728794098,0.21268856525421143,0.19366313517093658,0.17910486459732056,0.1699635237455368,0.1610337346792221,0.15374483168125153,0.14550533890724182,0.14153626561164856,0.1363079994916916,0.13298286497592926,0.13043129444122314,0.12856175005435944,0.12689737975597382,null,null,null,null,null,null,null,null,null,null,null,null,null,null,null,null,null,null,null,null],\"yaxis\":\"y\",\"type\":\"scattergl\"},{\"hovertemplate\":\"Experiment=74\\u003cbr\\u003eEpochs=%{x}\\u003cbr\\u003eLoss=%{y}\\u003cextra\\u003e\\u003c\\u002fextra\\u003e\",\"legendgroup\":\"74\",\"line\":{\"color\":\"#FFA15A\",\"dash\":\"solid\"},\"marker\":{\"symbol\":\"circle\"},\"mode\":\"lines\",\"name\":\"74\",\"showlegend\":true,\"x\":[0,1,2,3,4,5,6,7,8,9,10,11,12,13,14,15,16,17,18,19,20,21,22,23,24,25,26,27,28,29,30,31,32,33,34,35,36,37,38,39,40],\"xaxis\":\"x\",\"y\":[29.62529754638672,1.662193775177002,0.4463864862918854,0.3405126929283142,0.2761099934577942,0.24002999067306519,0.21123544871807098,0.19423428177833557,0.1767323613166809,0.16822384297847748,0.15626485645771027,0.1460975855588913,0.13922445476055145,0.13345414400100708,0.1280132383108139,0.12170644849538803,0.11843367666006088,0.11608371138572693,0.11380978673696518,0.11171131581068039,0.10973123461008072,null,null,null,null,null,null,null,null,null,null,null,null,null,null,null,null,null,null,null,null],\"yaxis\":\"y\",\"type\":\"scattergl\"},{\"hovertemplate\":\"Experiment=75\\u003cbr\\u003eEpochs=%{x}\\u003cbr\\u003eLoss=%{y}\\u003cextra\\u003e\\u003c\\u002fextra\\u003e\",\"legendgroup\":\"75\",\"line\":{\"color\":\"#19d3f3\",\"dash\":\"solid\"},\"marker\":{\"symbol\":\"circle\"},\"mode\":\"lines\",\"name\":\"75\",\"showlegend\":true,\"x\":[0,1,2,3,4,5,6,7,8,9,10,11,12,13,14,15,16,17,18,19,20,21,22,23,24,25,26,27,28,29,30,31,32,33,34,35,36,37,38,39,40],\"xaxis\":\"x\",\"y\":[0.0,7.643562316894531,7.056663990020752,6.527856826782227,5.884658336639404,5.41253137588501,4.563745975494385,4.301600933074951,4.1649932861328125,3.2362306118011475,3.1745848655700684,3.154900550842285,3.1422181129455566,3.132253408432007,3.124417543411255,3.1173791885375977,3.110651969909668,3.104458808898926,3.098526954650879,3.092581272125244,3.0865447521209717,null,null,null,null,null,null,null,null,null,null,null,null,null,null,null,null,null,null,null,null],\"yaxis\":\"y\",\"type\":\"scattergl\"},{\"hovertemplate\":\"Experiment=76\\u003cbr\\u003eEpochs=%{x}\\u003cbr\\u003eLoss=%{y}\\u003cextra\\u003e\\u003c\\u002fextra\\u003e\",\"legendgroup\":\"76\",\"line\":{\"color\":\"#FF6692\",\"dash\":\"solid\"},\"marker\":{\"symbol\":\"circle\"},\"mode\":\"lines\",\"name\":\"76\",\"showlegend\":true,\"x\":[0,1,2,3,4,5,6,7,8,9,10,11,12,13,14,15,16,17,18,19,20,21,22,23,24,25,26,27,28,29,30,31,32,33,34,35,36,37,38,39,40],\"xaxis\":\"x\",\"y\":[29.62529754638672,1.662193775177002,0.4463867247104645,0.3405253291130066,0.27620986104011536,0.2400279939174652,0.21185965836048126,0.19195325672626495,0.17579859495162964,0.16444730758666992,0.1522028148174286,0.14232395589351654,0.13380306959152222,0.12524421513080597,0.12013594806194305,0.11580123752355576,0.11265578866004944,0.10987680405378342,0.10795536637306213,0.10646738857030869,0.10537294298410416,null,null,null,null,null,null,null,null,null,null,null,null,null,null,null,null,null,null,null,null],\"yaxis\":\"y\",\"type\":\"scattergl\"}],                        {\"template\":{\"data\":{\"histogram2dcontour\":[{\"type\":\"histogram2dcontour\",\"colorbar\":{\"outlinewidth\":0,\"ticks\":\"\"},\"colorscale\":[[0.0,\"#0d0887\"],[0.1111111111111111,\"#46039f\"],[0.2222222222222222,\"#7201a8\"],[0.3333333333333333,\"#9c179e\"],[0.4444444444444444,\"#bd3786\"],[0.5555555555555556,\"#d8576b\"],[0.6666666666666666,\"#ed7953\"],[0.7777777777777778,\"#fb9f3a\"],[0.8888888888888888,\"#fdca26\"],[1.0,\"#f0f921\"]]}],\"choropleth\":[{\"type\":\"choropleth\",\"colorbar\":{\"outlinewidth\":0,\"ticks\":\"\"}}],\"histogram2d\":[{\"type\":\"histogram2d\",\"colorbar\":{\"outlinewidth\":0,\"ticks\":\"\"},\"colorscale\":[[0.0,\"#0d0887\"],[0.1111111111111111,\"#46039f\"],[0.2222222222222222,\"#7201a8\"],[0.3333333333333333,\"#9c179e\"],[0.4444444444444444,\"#bd3786\"],[0.5555555555555556,\"#d8576b\"],[0.6666666666666666,\"#ed7953\"],[0.7777777777777778,\"#fb9f3a\"],[0.8888888888888888,\"#fdca26\"],[1.0,\"#f0f921\"]]}],\"heatmap\":[{\"type\":\"heatmap\",\"colorbar\":{\"outlinewidth\":0,\"ticks\":\"\"},\"colorscale\":[[0.0,\"#0d0887\"],[0.1111111111111111,\"#46039f\"],[0.2222222222222222,\"#7201a8\"],[0.3333333333333333,\"#9c179e\"],[0.4444444444444444,\"#bd3786\"],[0.5555555555555556,\"#d8576b\"],[0.6666666666666666,\"#ed7953\"],[0.7777777777777778,\"#fb9f3a\"],[0.8888888888888888,\"#fdca26\"],[1.0,\"#f0f921\"]]}],\"heatmapgl\":[{\"type\":\"heatmapgl\",\"colorbar\":{\"outlinewidth\":0,\"ticks\":\"\"},\"colorscale\":[[0.0,\"#0d0887\"],[0.1111111111111111,\"#46039f\"],[0.2222222222222222,\"#7201a8\"],[0.3333333333333333,\"#9c179e\"],[0.4444444444444444,\"#bd3786\"],[0.5555555555555556,\"#d8576b\"],[0.6666666666666666,\"#ed7953\"],[0.7777777777777778,\"#fb9f3a\"],[0.8888888888888888,\"#fdca26\"],[1.0,\"#f0f921\"]]}],\"contourcarpet\":[{\"type\":\"contourcarpet\",\"colorbar\":{\"outlinewidth\":0,\"ticks\":\"\"}}],\"contour\":[{\"type\":\"contour\",\"colorbar\":{\"outlinewidth\":0,\"ticks\":\"\"},\"colorscale\":[[0.0,\"#0d0887\"],[0.1111111111111111,\"#46039f\"],[0.2222222222222222,\"#7201a8\"],[0.3333333333333333,\"#9c179e\"],[0.4444444444444444,\"#bd3786\"],[0.5555555555555556,\"#d8576b\"],[0.6666666666666666,\"#ed7953\"],[0.7777777777777778,\"#fb9f3a\"],[0.8888888888888888,\"#fdca26\"],[1.0,\"#f0f921\"]]}],\"surface\":[{\"type\":\"surface\",\"colorbar\":{\"outlinewidth\":0,\"ticks\":\"\"},\"colorscale\":[[0.0,\"#0d0887\"],[0.1111111111111111,\"#46039f\"],[0.2222222222222222,\"#7201a8\"],[0.3333333333333333,\"#9c179e\"],[0.4444444444444444,\"#bd3786\"],[0.5555555555555556,\"#d8576b\"],[0.6666666666666666,\"#ed7953\"],[0.7777777777777778,\"#fb9f3a\"],[0.8888888888888888,\"#fdca26\"],[1.0,\"#f0f921\"]]}],\"mesh3d\":[{\"type\":\"mesh3d\",\"colorbar\":{\"outlinewidth\":0,\"ticks\":\"\"}}],\"scatter\":[{\"marker\":{\"line\":{\"color\":\"#283442\"}},\"type\":\"scatter\"}],\"parcoords\":[{\"type\":\"parcoords\",\"line\":{\"colorbar\":{\"outlinewidth\":0,\"ticks\":\"\"}}}],\"scatterpolargl\":[{\"type\":\"scatterpolargl\",\"marker\":{\"colorbar\":{\"outlinewidth\":0,\"ticks\":\"\"}}}],\"bar\":[{\"error_x\":{\"color\":\"#f2f5fa\"},\"error_y\":{\"color\":\"#f2f5fa\"},\"marker\":{\"line\":{\"color\":\"rgb(17,17,17)\",\"width\":0.5},\"pattern\":{\"fillmode\":\"overlay\",\"size\":10,\"solidity\":0.2}},\"type\":\"bar\"}],\"scattergeo\":[{\"type\":\"scattergeo\",\"marker\":{\"colorbar\":{\"outlinewidth\":0,\"ticks\":\"\"}}}],\"scatterpolar\":[{\"type\":\"scatterpolar\",\"marker\":{\"colorbar\":{\"outlinewidth\":0,\"ticks\":\"\"}}}],\"histogram\":[{\"marker\":{\"pattern\":{\"fillmode\":\"overlay\",\"size\":10,\"solidity\":0.2}},\"type\":\"histogram\"}],\"scattergl\":[{\"marker\":{\"line\":{\"color\":\"#283442\"}},\"type\":\"scattergl\"}],\"scatter3d\":[{\"type\":\"scatter3d\",\"line\":{\"colorbar\":{\"outlinewidth\":0,\"ticks\":\"\"}},\"marker\":{\"colorbar\":{\"outlinewidth\":0,\"ticks\":\"\"}}}],\"scattermapbox\":[{\"type\":\"scattermapbox\",\"marker\":{\"colorbar\":{\"outlinewidth\":0,\"ticks\":\"\"}}}],\"scatterternary\":[{\"type\":\"scatterternary\",\"marker\":{\"colorbar\":{\"outlinewidth\":0,\"ticks\":\"\"}}}],\"scattercarpet\":[{\"type\":\"scattercarpet\",\"marker\":{\"colorbar\":{\"outlinewidth\":0,\"ticks\":\"\"}}}],\"carpet\":[{\"aaxis\":{\"endlinecolor\":\"#A2B1C6\",\"gridcolor\":\"#506784\",\"linecolor\":\"#506784\",\"minorgridcolor\":\"#506784\",\"startlinecolor\":\"#A2B1C6\"},\"baxis\":{\"endlinecolor\":\"#A2B1C6\",\"gridcolor\":\"#506784\",\"linecolor\":\"#506784\",\"minorgridcolor\":\"#506784\",\"startlinecolor\":\"#A2B1C6\"},\"type\":\"carpet\"}],\"table\":[{\"cells\":{\"fill\":{\"color\":\"#506784\"},\"line\":{\"color\":\"rgb(17,17,17)\"}},\"header\":{\"fill\":{\"color\":\"#2a3f5f\"},\"line\":{\"color\":\"rgb(17,17,17)\"}},\"type\":\"table\"}],\"barpolar\":[{\"marker\":{\"line\":{\"color\":\"rgb(17,17,17)\",\"width\":0.5},\"pattern\":{\"fillmode\":\"overlay\",\"size\":10,\"solidity\":0.2}},\"type\":\"barpolar\"}],\"pie\":[{\"automargin\":true,\"type\":\"pie\"}]},\"layout\":{\"autotypenumbers\":\"strict\",\"colorway\":[\"#636efa\",\"#EF553B\",\"#00cc96\",\"#ab63fa\",\"#FFA15A\",\"#19d3f3\",\"#FF6692\",\"#B6E880\",\"#FF97FF\",\"#FECB52\"],\"font\":{\"color\":\"#f2f5fa\"},\"hovermode\":\"closest\",\"hoverlabel\":{\"align\":\"left\"},\"paper_bgcolor\":\"rgb(17,17,17)\",\"plot_bgcolor\":\"rgb(17,17,17)\",\"polar\":{\"bgcolor\":\"rgb(17,17,17)\",\"angularaxis\":{\"gridcolor\":\"#506784\",\"linecolor\":\"#506784\",\"ticks\":\"\"},\"radialaxis\":{\"gridcolor\":\"#506784\",\"linecolor\":\"#506784\",\"ticks\":\"\"}},\"ternary\":{\"bgcolor\":\"rgb(17,17,17)\",\"aaxis\":{\"gridcolor\":\"#506784\",\"linecolor\":\"#506784\",\"ticks\":\"\"},\"baxis\":{\"gridcolor\":\"#506784\",\"linecolor\":\"#506784\",\"ticks\":\"\"},\"caxis\":{\"gridcolor\":\"#506784\",\"linecolor\":\"#506784\",\"ticks\":\"\"}},\"coloraxis\":{\"colorbar\":{\"outlinewidth\":0,\"ticks\":\"\"}},\"colorscale\":{\"sequential\":[[0.0,\"#0d0887\"],[0.1111111111111111,\"#46039f\"],[0.2222222222222222,\"#7201a8\"],[0.3333333333333333,\"#9c179e\"],[0.4444444444444444,\"#bd3786\"],[0.5555555555555556,\"#d8576b\"],[0.6666666666666666,\"#ed7953\"],[0.7777777777777778,\"#fb9f3a\"],[0.8888888888888888,\"#fdca26\"],[1.0,\"#f0f921\"]],\"sequentialminus\":[[0.0,\"#0d0887\"],[0.1111111111111111,\"#46039f\"],[0.2222222222222222,\"#7201a8\"],[0.3333333333333333,\"#9c179e\"],[0.4444444444444444,\"#bd3786\"],[0.5555555555555556,\"#d8576b\"],[0.6666666666666666,\"#ed7953\"],[0.7777777777777778,\"#fb9f3a\"],[0.8888888888888888,\"#fdca26\"],[1.0,\"#f0f921\"]],\"diverging\":[[0,\"#8e0152\"],[0.1,\"#c51b7d\"],[0.2,\"#de77ae\"],[0.3,\"#f1b6da\"],[0.4,\"#fde0ef\"],[0.5,\"#f7f7f7\"],[0.6,\"#e6f5d0\"],[0.7,\"#b8e186\"],[0.8,\"#7fbc41\"],[0.9,\"#4d9221\"],[1,\"#276419\"]]},\"xaxis\":{\"gridcolor\":\"#283442\",\"linecolor\":\"#506784\",\"ticks\":\"\",\"title\":{\"standoff\":15},\"zerolinecolor\":\"#283442\",\"automargin\":true,\"zerolinewidth\":2},\"yaxis\":{\"gridcolor\":\"#283442\",\"linecolor\":\"#506784\",\"ticks\":\"\",\"title\":{\"standoff\":15},\"zerolinecolor\":\"#283442\",\"automargin\":true,\"zerolinewidth\":2},\"scene\":{\"xaxis\":{\"backgroundcolor\":\"rgb(17,17,17)\",\"gridcolor\":\"#506784\",\"linecolor\":\"#506784\",\"showbackground\":true,\"ticks\":\"\",\"zerolinecolor\":\"#C8D4E3\",\"gridwidth\":2},\"yaxis\":{\"backgroundcolor\":\"rgb(17,17,17)\",\"gridcolor\":\"#506784\",\"linecolor\":\"#506784\",\"showbackground\":true,\"ticks\":\"\",\"zerolinecolor\":\"#C8D4E3\",\"gridwidth\":2},\"zaxis\":{\"backgroundcolor\":\"rgb(17,17,17)\",\"gridcolor\":\"#506784\",\"linecolor\":\"#506784\",\"showbackground\":true,\"ticks\":\"\",\"zerolinecolor\":\"#C8D4E3\",\"gridwidth\":2}},\"shapedefaults\":{\"line\":{\"color\":\"#f2f5fa\"}},\"annotationdefaults\":{\"arrowcolor\":\"#f2f5fa\",\"arrowhead\":0,\"arrowwidth\":1},\"geo\":{\"bgcolor\":\"rgb(17,17,17)\",\"landcolor\":\"rgb(17,17,17)\",\"subunitcolor\":\"#506784\",\"showland\":true,\"showlakes\":true,\"lakecolor\":\"rgb(17,17,17)\"},\"title\":{\"x\":0.05},\"updatemenudefaults\":{\"bgcolor\":\"#506784\",\"borderwidth\":0},\"sliderdefaults\":{\"bgcolor\":\"#C8D4E3\",\"borderwidth\":1,\"bordercolor\":\"rgb(17,17,17)\",\"tickwidth\":0},\"mapbox\":{\"style\":\"dark\"}}},\"xaxis\":{\"anchor\":\"y\",\"domain\":[0.0,1.0],\"title\":{\"text\":\"Epochs\"}},\"yaxis\":{\"anchor\":\"x\",\"domain\":[0.0,1.0],\"title\":{\"text\":\"Loss\"}},\"legend\":{\"title\":{\"text\":\"Experiment\"},\"tracegroupgap\":0},\"title\":{\"text\":\"Test loss\"}},                        {\"responsive\": true}                    ).then(function(){\n                            \nvar gd = document.getElementById('4abde884-d78d-4a47-81be-9e5fb9033e90');\nvar x = new MutationObserver(function (mutations, observer) {{\n        var display = window.getComputedStyle(gd).display;\n        if (!display || display === 'none') {{\n            console.log([gd, 'removed!']);\n            Plotly.purge(gd);\n            observer.disconnect();\n        }}\n}});\n\n// Listen for the removal of the full notebook cells\nvar notebookContainer = gd.closest('#notebook-container');\nif (notebookContainer) {{\n    x.observe(notebookContainer, {childList: true});\n}}\n\n// Listen for the clearing of the current output cell\nvar outputEl = gd.closest('.output');\nif (outputEl) {{\n    x.observe(outputEl, {childList: true});\n}}\n\n                        })                };                });            </script>        </div>"
     },
     "metadata": {},
     "output_type": "display_data"
    }
   ],
   "source": [
    "visualize(['exist'])  # Plot all models."
   ],
   "metadata": {
    "collapsed": false,
    "ExecuteTime": {
     "end_time": "2024-11-18T14:40:38.186667Z",
     "start_time": "2024-11-18T14:39:34.560841Z"
    }
   },
   "execution_count": 29
  },
  {
   "cell_type": "markdown",
   "source": [
    "During training, I observed that models generally benefit from a larger learning rate. For instance, I experimented with a learning rate of 0.1, but the results were not as satisfactory as expected."
   ],
   "metadata": {
    "id": "M5TVCb6EuaiH"
   }
  },
  {
   "cell_type": "markdown",
   "source": [
    "I decided to experiment with larger learning rates, going up to a maximum of 10. The models achieved the best accuracies with learning rates between 5 and 8, prompting me to investigate further. Ultimately, I found that learning rates in the range of 7 to 7.5 performed slightly better, so I settled on 7 as the optimal choice."
   ],
   "metadata": {
    "id": "vPMQ-OLo0jXI"
   }
  },
  {
   "cell_type": "markdown",
   "source": [
    "For the batch size, I discovered that models with larger values (e.g., 200) performed worse compared to those with smaller batch sizes. After testing various options, I found the best results occurred with batch sizes between 70 and 90, so I selected 80 as the optimal value."
   ],
   "metadata": {
    "id": "sqeTM62p1Yxv"
   }
  },
  {
   "cell_type": "markdown",
   "source": [
    "For the architecture, I experimented with different models using two hidden layers of equal size. My primary goal was to ensure the network performed accurately, so the layer size couldn’t be too small. At the same time, I wanted the model to train quickly, allowing me to test multiple configurations efficiently. After training various sizes, I found 132 to be the optimal choice, balancing accuracy and speed."
   ],
   "metadata": {
    "id": "ZZ9EdU1N4ePx"
   }
  },
  {
   "cell_type": "markdown",
   "source": [
    "# 5 models slightly better than the rest."
   ],
   "metadata": {
    "collapsed": false
   }
  },
  {
   "cell_type": "code",
   "outputs": [
    {
     "data": {
      "application/vnd.plotly.v1+json": {
       "data": [
        {
         "hovertemplate": "Experiment=lr = 7, batch = 90<br>Epochs=%{x}<br>Accuracy [%]=%{y}<extra></extra>",
         "legendgroup": "lr = 7, batch = 90",
         "line": {
          "color": "#636efa",
          "dash": "solid"
         },
         "marker": {
          "symbol": "circle"
         },
         "mode": "lines",
         "name": "lr = 7, batch = 90",
         "orientation": "v",
         "showlegend": true,
         "x": [
          0,
          1,
          2,
          3,
          4,
          5,
          6,
          7,
          8,
          9,
          10,
          11,
          12,
          13,
          14,
          15,
          16,
          17,
          18,
          19,
          20
         ],
         "xaxis": "x",
         "y": [
          0.09629999846220016,
          0.909500002861023,
          0.9265999794006348,
          0.9354000091552734,
          0.9416999816894531,
          0.9430000185966492,
          0.9453999996185303,
          0.9473000168800354,
          0.9478999972343445,
          0.949999988079071,
          0.9514999985694885,
          0.9503999948501587,
          0.951200008392334,
          0.9495999813079834,
          0.9492999911308289,
          0.9509999752044678,
          0.9516000151634216,
          0.9513000249862671,
          0.9519000053405762,
          0.9516000151634216,
          0.9524999856948853
         ],
         "yaxis": "y",
         "type": "scatter"
        },
        {
         "hovertemplate": "Experiment=lr = 7.25, batch = 90<br>Epochs=%{x}<br>Accuracy [%]=%{y}<extra></extra>",
         "legendgroup": "lr = 7.25, batch = 90",
         "line": {
          "color": "#EF553B",
          "dash": "solid"
         },
         "marker": {
          "symbol": "circle"
         },
         "mode": "lines",
         "name": "lr = 7.25, batch = 90",
         "orientation": "v",
         "showlegend": true,
         "x": [
          0,
          1,
          2,
          3,
          4,
          5,
          6,
          7,
          8,
          9,
          10,
          11,
          12,
          13,
          14,
          15,
          16,
          17,
          18,
          19,
          20
         ],
         "xaxis": "x",
         "y": [
          0.08380000293254852,
          0.8312000036239624,
          0.8543999791145325,
          0.8618999719619751,
          0.8657000064849854,
          0.8657000064849854,
          0.8687999844551086,
          0.9187999963760376,
          0.9447000026702881,
          0.9473000168800354,
          0.9491000175476074,
          0.9480999708175659,
          0.9495000243186951,
          0.9501000046730042,
          0.949400007724762,
          0.9527999758720398,
          0.9495000243186951,
          0.9523000121116638,
          0.9538000226020813,
          0.9531999826431274,
          0.954800009727478
         ],
         "yaxis": "y",
         "type": "scatter"
        },
        {
         "hovertemplate": "Experiment=lr = 7, batch = 80<br>Epochs=%{x}<br>Accuracy [%]=%{y}<extra></extra>",
         "legendgroup": "lr = 7, batch = 80",
         "line": {
          "color": "#00cc96",
          "dash": "solid"
         },
         "marker": {
          "symbol": "circle"
         },
         "mode": "lines",
         "name": "lr = 7, batch = 80",
         "orientation": "v",
         "showlegend": true,
         "x": [
          0,
          1,
          2,
          3,
          4,
          5,
          6,
          7,
          8,
          9,
          10,
          11,
          12,
          13,
          14,
          15,
          16,
          17,
          18,
          19,
          20
         ],
         "xaxis": "x",
         "y": [
          0.1023000031709671,
          0.9143999814987183,
          0.9309999942779541,
          0.9412999749183655,
          0.9447000026702881,
          0.9448999762535095,
          0.9469000101089478,
          0.9491999745368958,
          0.9488000273704529,
          0.948199987411499,
          0.9488000273704529,
          0.9506000280380249,
          0.9513000249862671,
          0.9535999894142151,
          0.9516000151634216,
          0.9524999856948853,
          0.9531000256538391,
          0.9523000121116638,
          0.9526000022888184,
          0.9532999992370605,
          0.9532999992370605
         ],
         "yaxis": "y",
         "type": "scatter"
        },
        {
         "hovertemplate": "Experiment=lr = 7.25, batch = 70<br>Epochs=%{x}<br>Accuracy [%]=%{y}<extra></extra>",
         "legendgroup": "lr = 7.25, batch = 70",
         "line": {
          "color": "#ab63fa",
          "dash": "solid"
         },
         "marker": {
          "symbol": "circle"
         },
         "mode": "lines",
         "name": "lr = 7.25, batch = 70",
         "orientation": "v",
         "showlegend": true,
         "x": [
          0,
          1,
          2,
          3,
          4,
          5,
          6,
          7,
          8,
          9,
          10,
          11,
          12,
          13,
          14,
          15,
          16,
          17,
          18,
          19,
          20
         ],
         "xaxis": "x",
         "y": [
          0.10400000214576721,
          0.7077999711036682,
          0.7498000264167786,
          0.7552000284194946,
          0.8580999970436096,
          0.9458000063896179,
          0.9506000280380249,
          0.9534000158309937,
          0.9502000212669373,
          0.9519000053405762,
          0.953000009059906,
          0.9537000060081482,
          0.9532999992370605,
          0.9526000022888184,
          0.953499972820282,
          0.9535999894142151,
          0.9535999894142151,
          0.9538000226020813,
          0.9541000127792358,
          0.9539999961853027,
          0.9549000263214111
         ],
         "yaxis": "y",
         "type": "scatter"
        },
        {
         "hovertemplate": "Experiment=lr = 7.5, batch = 70<br>Epochs=%{x}<br>Accuracy [%]=%{y}<extra></extra>",
         "legendgroup": "lr = 7.5, batch = 70",
         "line": {
          "color": "#FFA15A",
          "dash": "solid"
         },
         "marker": {
          "symbol": "circle"
         },
         "mode": "lines",
         "name": "lr = 7.5, batch = 70",
         "orientation": "v",
         "showlegend": true,
         "x": [
          0,
          1,
          2,
          3,
          4,
          5,
          6,
          7,
          8,
          9,
          10,
          11,
          12,
          13,
          14,
          15,
          16,
          17,
          18,
          19,
          20
         ],
         "xaxis": "x",
         "y": [
          0.0860000029206276,
          0.8240000009536743,
          0.9302999973297119,
          0.9397000074386597,
          0.942300021648407,
          0.9455000162124634,
          0.9452999830245972,
          0.9480999708175659,
          0.9480999708175659,
          0.9488000273704529,
          0.9496999979019165,
          0.9498999714851379,
          0.9506000280380249,
          0.9509999752044678,
          0.9531000256538391,
          0.9524999856948853,
          0.9509000182151794,
          0.9531000256538391,
          0.9534000158309937,
          0.953499972820282,
          0.9534000158309937
         ],
         "yaxis": "y",
         "type": "scatter"
        }
       ],
       "layout": {
        "template": {
         "data": {
          "histogram2dcontour": [
           {
            "type": "histogram2dcontour",
            "colorbar": {
             "outlinewidth": 0,
             "ticks": ""
            },
            "colorscale": [
             [
              0.0,
              "#0d0887"
             ],
             [
              0.1111111111111111,
              "#46039f"
             ],
             [
              0.2222222222222222,
              "#7201a8"
             ],
             [
              0.3333333333333333,
              "#9c179e"
             ],
             [
              0.4444444444444444,
              "#bd3786"
             ],
             [
              0.5555555555555556,
              "#d8576b"
             ],
             [
              0.6666666666666666,
              "#ed7953"
             ],
             [
              0.7777777777777778,
              "#fb9f3a"
             ],
             [
              0.8888888888888888,
              "#fdca26"
             ],
             [
              1.0,
              "#f0f921"
             ]
            ]
           }
          ],
          "choropleth": [
           {
            "type": "choropleth",
            "colorbar": {
             "outlinewidth": 0,
             "ticks": ""
            }
           }
          ],
          "histogram2d": [
           {
            "type": "histogram2d",
            "colorbar": {
             "outlinewidth": 0,
             "ticks": ""
            },
            "colorscale": [
             [
              0.0,
              "#0d0887"
             ],
             [
              0.1111111111111111,
              "#46039f"
             ],
             [
              0.2222222222222222,
              "#7201a8"
             ],
             [
              0.3333333333333333,
              "#9c179e"
             ],
             [
              0.4444444444444444,
              "#bd3786"
             ],
             [
              0.5555555555555556,
              "#d8576b"
             ],
             [
              0.6666666666666666,
              "#ed7953"
             ],
             [
              0.7777777777777778,
              "#fb9f3a"
             ],
             [
              0.8888888888888888,
              "#fdca26"
             ],
             [
              1.0,
              "#f0f921"
             ]
            ]
           }
          ],
          "heatmap": [
           {
            "type": "heatmap",
            "colorbar": {
             "outlinewidth": 0,
             "ticks": ""
            },
            "colorscale": [
             [
              0.0,
              "#0d0887"
             ],
             [
              0.1111111111111111,
              "#46039f"
             ],
             [
              0.2222222222222222,
              "#7201a8"
             ],
             [
              0.3333333333333333,
              "#9c179e"
             ],
             [
              0.4444444444444444,
              "#bd3786"
             ],
             [
              0.5555555555555556,
              "#d8576b"
             ],
             [
              0.6666666666666666,
              "#ed7953"
             ],
             [
              0.7777777777777778,
              "#fb9f3a"
             ],
             [
              0.8888888888888888,
              "#fdca26"
             ],
             [
              1.0,
              "#f0f921"
             ]
            ]
           }
          ],
          "heatmapgl": [
           {
            "type": "heatmapgl",
            "colorbar": {
             "outlinewidth": 0,
             "ticks": ""
            },
            "colorscale": [
             [
              0.0,
              "#0d0887"
             ],
             [
              0.1111111111111111,
              "#46039f"
             ],
             [
              0.2222222222222222,
              "#7201a8"
             ],
             [
              0.3333333333333333,
              "#9c179e"
             ],
             [
              0.4444444444444444,
              "#bd3786"
             ],
             [
              0.5555555555555556,
              "#d8576b"
             ],
             [
              0.6666666666666666,
              "#ed7953"
             ],
             [
              0.7777777777777778,
              "#fb9f3a"
             ],
             [
              0.8888888888888888,
              "#fdca26"
             ],
             [
              1.0,
              "#f0f921"
             ]
            ]
           }
          ],
          "contourcarpet": [
           {
            "type": "contourcarpet",
            "colorbar": {
             "outlinewidth": 0,
             "ticks": ""
            }
           }
          ],
          "contour": [
           {
            "type": "contour",
            "colorbar": {
             "outlinewidth": 0,
             "ticks": ""
            },
            "colorscale": [
             [
              0.0,
              "#0d0887"
             ],
             [
              0.1111111111111111,
              "#46039f"
             ],
             [
              0.2222222222222222,
              "#7201a8"
             ],
             [
              0.3333333333333333,
              "#9c179e"
             ],
             [
              0.4444444444444444,
              "#bd3786"
             ],
             [
              0.5555555555555556,
              "#d8576b"
             ],
             [
              0.6666666666666666,
              "#ed7953"
             ],
             [
              0.7777777777777778,
              "#fb9f3a"
             ],
             [
              0.8888888888888888,
              "#fdca26"
             ],
             [
              1.0,
              "#f0f921"
             ]
            ]
           }
          ],
          "surface": [
           {
            "type": "surface",
            "colorbar": {
             "outlinewidth": 0,
             "ticks": ""
            },
            "colorscale": [
             [
              0.0,
              "#0d0887"
             ],
             [
              0.1111111111111111,
              "#46039f"
             ],
             [
              0.2222222222222222,
              "#7201a8"
             ],
             [
              0.3333333333333333,
              "#9c179e"
             ],
             [
              0.4444444444444444,
              "#bd3786"
             ],
             [
              0.5555555555555556,
              "#d8576b"
             ],
             [
              0.6666666666666666,
              "#ed7953"
             ],
             [
              0.7777777777777778,
              "#fb9f3a"
             ],
             [
              0.8888888888888888,
              "#fdca26"
             ],
             [
              1.0,
              "#f0f921"
             ]
            ]
           }
          ],
          "mesh3d": [
           {
            "type": "mesh3d",
            "colorbar": {
             "outlinewidth": 0,
             "ticks": ""
            }
           }
          ],
          "scatter": [
           {
            "marker": {
             "line": {
              "color": "#283442"
             }
            },
            "type": "scatter"
           }
          ],
          "parcoords": [
           {
            "type": "parcoords",
            "line": {
             "colorbar": {
              "outlinewidth": 0,
              "ticks": ""
             }
            }
           }
          ],
          "scatterpolargl": [
           {
            "type": "scatterpolargl",
            "marker": {
             "colorbar": {
              "outlinewidth": 0,
              "ticks": ""
             }
            }
           }
          ],
          "bar": [
           {
            "error_x": {
             "color": "#f2f5fa"
            },
            "error_y": {
             "color": "#f2f5fa"
            },
            "marker": {
             "line": {
              "color": "rgb(17,17,17)",
              "width": 0.5
             },
             "pattern": {
              "fillmode": "overlay",
              "size": 10,
              "solidity": 0.2
             }
            },
            "type": "bar"
           }
          ],
          "scattergeo": [
           {
            "type": "scattergeo",
            "marker": {
             "colorbar": {
              "outlinewidth": 0,
              "ticks": ""
             }
            }
           }
          ],
          "scatterpolar": [
           {
            "type": "scatterpolar",
            "marker": {
             "colorbar": {
              "outlinewidth": 0,
              "ticks": ""
             }
            }
           }
          ],
          "histogram": [
           {
            "marker": {
             "pattern": {
              "fillmode": "overlay",
              "size": 10,
              "solidity": 0.2
             }
            },
            "type": "histogram"
           }
          ],
          "scattergl": [
           {
            "marker": {
             "line": {
              "color": "#283442"
             }
            },
            "type": "scattergl"
           }
          ],
          "scatter3d": [
           {
            "type": "scatter3d",
            "line": {
             "colorbar": {
              "outlinewidth": 0,
              "ticks": ""
             }
            },
            "marker": {
             "colorbar": {
              "outlinewidth": 0,
              "ticks": ""
             }
            }
           }
          ],
          "scattermapbox": [
           {
            "type": "scattermapbox",
            "marker": {
             "colorbar": {
              "outlinewidth": 0,
              "ticks": ""
             }
            }
           }
          ],
          "scatterternary": [
           {
            "type": "scatterternary",
            "marker": {
             "colorbar": {
              "outlinewidth": 0,
              "ticks": ""
             }
            }
           }
          ],
          "scattercarpet": [
           {
            "type": "scattercarpet",
            "marker": {
             "colorbar": {
              "outlinewidth": 0,
              "ticks": ""
             }
            }
           }
          ],
          "carpet": [
           {
            "aaxis": {
             "endlinecolor": "#A2B1C6",
             "gridcolor": "#506784",
             "linecolor": "#506784",
             "minorgridcolor": "#506784",
             "startlinecolor": "#A2B1C6"
            },
            "baxis": {
             "endlinecolor": "#A2B1C6",
             "gridcolor": "#506784",
             "linecolor": "#506784",
             "minorgridcolor": "#506784",
             "startlinecolor": "#A2B1C6"
            },
            "type": "carpet"
           }
          ],
          "table": [
           {
            "cells": {
             "fill": {
              "color": "#506784"
             },
             "line": {
              "color": "rgb(17,17,17)"
             }
            },
            "header": {
             "fill": {
              "color": "#2a3f5f"
             },
             "line": {
              "color": "rgb(17,17,17)"
             }
            },
            "type": "table"
           }
          ],
          "barpolar": [
           {
            "marker": {
             "line": {
              "color": "rgb(17,17,17)",
              "width": 0.5
             },
             "pattern": {
              "fillmode": "overlay",
              "size": 10,
              "solidity": 0.2
             }
            },
            "type": "barpolar"
           }
          ],
          "pie": [
           {
            "automargin": true,
            "type": "pie"
           }
          ]
         },
         "layout": {
          "autotypenumbers": "strict",
          "colorway": [
           "#636efa",
           "#EF553B",
           "#00cc96",
           "#ab63fa",
           "#FFA15A",
           "#19d3f3",
           "#FF6692",
           "#B6E880",
           "#FF97FF",
           "#FECB52"
          ],
          "font": {
           "color": "#f2f5fa"
          },
          "hovermode": "closest",
          "hoverlabel": {
           "align": "left"
          },
          "paper_bgcolor": "rgb(17,17,17)",
          "plot_bgcolor": "rgb(17,17,17)",
          "polar": {
           "bgcolor": "rgb(17,17,17)",
           "angularaxis": {
            "gridcolor": "#506784",
            "linecolor": "#506784",
            "ticks": ""
           },
           "radialaxis": {
            "gridcolor": "#506784",
            "linecolor": "#506784",
            "ticks": ""
           }
          },
          "ternary": {
           "bgcolor": "rgb(17,17,17)",
           "aaxis": {
            "gridcolor": "#506784",
            "linecolor": "#506784",
            "ticks": ""
           },
           "baxis": {
            "gridcolor": "#506784",
            "linecolor": "#506784",
            "ticks": ""
           },
           "caxis": {
            "gridcolor": "#506784",
            "linecolor": "#506784",
            "ticks": ""
           }
          },
          "coloraxis": {
           "colorbar": {
            "outlinewidth": 0,
            "ticks": ""
           }
          },
          "colorscale": {
           "sequential": [
            [
             0.0,
             "#0d0887"
            ],
            [
             0.1111111111111111,
             "#46039f"
            ],
            [
             0.2222222222222222,
             "#7201a8"
            ],
            [
             0.3333333333333333,
             "#9c179e"
            ],
            [
             0.4444444444444444,
             "#bd3786"
            ],
            [
             0.5555555555555556,
             "#d8576b"
            ],
            [
             0.6666666666666666,
             "#ed7953"
            ],
            [
             0.7777777777777778,
             "#fb9f3a"
            ],
            [
             0.8888888888888888,
             "#fdca26"
            ],
            [
             1.0,
             "#f0f921"
            ]
           ],
           "sequentialminus": [
            [
             0.0,
             "#0d0887"
            ],
            [
             0.1111111111111111,
             "#46039f"
            ],
            [
             0.2222222222222222,
             "#7201a8"
            ],
            [
             0.3333333333333333,
             "#9c179e"
            ],
            [
             0.4444444444444444,
             "#bd3786"
            ],
            [
             0.5555555555555556,
             "#d8576b"
            ],
            [
             0.6666666666666666,
             "#ed7953"
            ],
            [
             0.7777777777777778,
             "#fb9f3a"
            ],
            [
             0.8888888888888888,
             "#fdca26"
            ],
            [
             1.0,
             "#f0f921"
            ]
           ],
           "diverging": [
            [
             0,
             "#8e0152"
            ],
            [
             0.1,
             "#c51b7d"
            ],
            [
             0.2,
             "#de77ae"
            ],
            [
             0.3,
             "#f1b6da"
            ],
            [
             0.4,
             "#fde0ef"
            ],
            [
             0.5,
             "#f7f7f7"
            ],
            [
             0.6,
             "#e6f5d0"
            ],
            [
             0.7,
             "#b8e186"
            ],
            [
             0.8,
             "#7fbc41"
            ],
            [
             0.9,
             "#4d9221"
            ],
            [
             1,
             "#276419"
            ]
           ]
          },
          "xaxis": {
           "gridcolor": "#283442",
           "linecolor": "#506784",
           "ticks": "",
           "title": {
            "standoff": 15
           },
           "zerolinecolor": "#283442",
           "automargin": true,
           "zerolinewidth": 2
          },
          "yaxis": {
           "gridcolor": "#283442",
           "linecolor": "#506784",
           "ticks": "",
           "title": {
            "standoff": 15
           },
           "zerolinecolor": "#283442",
           "automargin": true,
           "zerolinewidth": 2
          },
          "scene": {
           "xaxis": {
            "backgroundcolor": "rgb(17,17,17)",
            "gridcolor": "#506784",
            "linecolor": "#506784",
            "showbackground": true,
            "ticks": "",
            "zerolinecolor": "#C8D4E3",
            "gridwidth": 2
           },
           "yaxis": {
            "backgroundcolor": "rgb(17,17,17)",
            "gridcolor": "#506784",
            "linecolor": "#506784",
            "showbackground": true,
            "ticks": "",
            "zerolinecolor": "#C8D4E3",
            "gridwidth": 2
           },
           "zaxis": {
            "backgroundcolor": "rgb(17,17,17)",
            "gridcolor": "#506784",
            "linecolor": "#506784",
            "showbackground": true,
            "ticks": "",
            "zerolinecolor": "#C8D4E3",
            "gridwidth": 2
           }
          },
          "shapedefaults": {
           "line": {
            "color": "#f2f5fa"
           }
          },
          "annotationdefaults": {
           "arrowcolor": "#f2f5fa",
           "arrowhead": 0,
           "arrowwidth": 1
          },
          "geo": {
           "bgcolor": "rgb(17,17,17)",
           "landcolor": "rgb(17,17,17)",
           "subunitcolor": "#506784",
           "showland": true,
           "showlakes": true,
           "lakecolor": "rgb(17,17,17)"
          },
          "title": {
           "x": 0.05
          },
          "updatemenudefaults": {
           "bgcolor": "#506784",
           "borderwidth": 0
          },
          "sliderdefaults": {
           "bgcolor": "#C8D4E3",
           "borderwidth": 1,
           "bordercolor": "rgb(17,17,17)",
           "tickwidth": 0
          },
          "mapbox": {
           "style": "dark"
          }
         }
        },
        "xaxis": {
         "anchor": "y",
         "domain": [
          0.0,
          1.0
         ],
         "title": {
          "text": "Epochs"
         }
        },
        "yaxis": {
         "anchor": "x",
         "domain": [
          0.0,
          1.0
         ],
         "title": {
          "text": "Accuracy [%]"
         }
        },
        "legend": {
         "title": {
          "text": "Experiment"
         },
         "tracegroupgap": 0
        },
        "title": {
         "text": "Test accuracy"
        }
       },
       "config": {
        "plotlyServerURL": "https://plot.ly"
       }
      },
      "text/html": "<div>                            <div id=\"2bd85de9-3c05-4e1a-a85a-5efbe6a7ebad\" class=\"plotly-graph-div\" style=\"height:525px; width:100%;\"></div>            <script type=\"text/javascript\">                require([\"plotly\"], function(Plotly) {                    window.PLOTLYENV=window.PLOTLYENV || {};                                    if (document.getElementById(\"2bd85de9-3c05-4e1a-a85a-5efbe6a7ebad\")) {                    Plotly.newPlot(                        \"2bd85de9-3c05-4e1a-a85a-5efbe6a7ebad\",                        [{\"hovertemplate\":\"Experiment=lr = 7, batch = 90\\u003cbr\\u003eEpochs=%{x}\\u003cbr\\u003eAccuracy [%]=%{y}\\u003cextra\\u003e\\u003c\\u002fextra\\u003e\",\"legendgroup\":\"lr = 7, batch = 90\",\"line\":{\"color\":\"#636efa\",\"dash\":\"solid\"},\"marker\":{\"symbol\":\"circle\"},\"mode\":\"lines\",\"name\":\"lr = 7, batch = 90\",\"orientation\":\"v\",\"showlegend\":true,\"x\":[0,1,2,3,4,5,6,7,8,9,10,11,12,13,14,15,16,17,18,19,20],\"xaxis\":\"x\",\"y\":[0.09629999846220016,0.909500002861023,0.9265999794006348,0.9354000091552734,0.9416999816894531,0.9430000185966492,0.9453999996185303,0.9473000168800354,0.9478999972343445,0.949999988079071,0.9514999985694885,0.9503999948501587,0.951200008392334,0.9495999813079834,0.9492999911308289,0.9509999752044678,0.9516000151634216,0.9513000249862671,0.9519000053405762,0.9516000151634216,0.9524999856948853],\"yaxis\":\"y\",\"type\":\"scatter\"},{\"hovertemplate\":\"Experiment=lr = 7.25, batch = 90\\u003cbr\\u003eEpochs=%{x}\\u003cbr\\u003eAccuracy [%]=%{y}\\u003cextra\\u003e\\u003c\\u002fextra\\u003e\",\"legendgroup\":\"lr = 7.25, batch = 90\",\"line\":{\"color\":\"#EF553B\",\"dash\":\"solid\"},\"marker\":{\"symbol\":\"circle\"},\"mode\":\"lines\",\"name\":\"lr = 7.25, batch = 90\",\"orientation\":\"v\",\"showlegend\":true,\"x\":[0,1,2,3,4,5,6,7,8,9,10,11,12,13,14,15,16,17,18,19,20],\"xaxis\":\"x\",\"y\":[0.08380000293254852,0.8312000036239624,0.8543999791145325,0.8618999719619751,0.8657000064849854,0.8657000064849854,0.8687999844551086,0.9187999963760376,0.9447000026702881,0.9473000168800354,0.9491000175476074,0.9480999708175659,0.9495000243186951,0.9501000046730042,0.949400007724762,0.9527999758720398,0.9495000243186951,0.9523000121116638,0.9538000226020813,0.9531999826431274,0.954800009727478],\"yaxis\":\"y\",\"type\":\"scatter\"},{\"hovertemplate\":\"Experiment=lr = 7, batch = 80\\u003cbr\\u003eEpochs=%{x}\\u003cbr\\u003eAccuracy [%]=%{y}\\u003cextra\\u003e\\u003c\\u002fextra\\u003e\",\"legendgroup\":\"lr = 7, batch = 80\",\"line\":{\"color\":\"#00cc96\",\"dash\":\"solid\"},\"marker\":{\"symbol\":\"circle\"},\"mode\":\"lines\",\"name\":\"lr = 7, batch = 80\",\"orientation\":\"v\",\"showlegend\":true,\"x\":[0,1,2,3,4,5,6,7,8,9,10,11,12,13,14,15,16,17,18,19,20],\"xaxis\":\"x\",\"y\":[0.1023000031709671,0.9143999814987183,0.9309999942779541,0.9412999749183655,0.9447000026702881,0.9448999762535095,0.9469000101089478,0.9491999745368958,0.9488000273704529,0.948199987411499,0.9488000273704529,0.9506000280380249,0.9513000249862671,0.9535999894142151,0.9516000151634216,0.9524999856948853,0.9531000256538391,0.9523000121116638,0.9526000022888184,0.9532999992370605,0.9532999992370605],\"yaxis\":\"y\",\"type\":\"scatter\"},{\"hovertemplate\":\"Experiment=lr = 7.25, batch = 70\\u003cbr\\u003eEpochs=%{x}\\u003cbr\\u003eAccuracy [%]=%{y}\\u003cextra\\u003e\\u003c\\u002fextra\\u003e\",\"legendgroup\":\"lr = 7.25, batch = 70\",\"line\":{\"color\":\"#ab63fa\",\"dash\":\"solid\"},\"marker\":{\"symbol\":\"circle\"},\"mode\":\"lines\",\"name\":\"lr = 7.25, batch = 70\",\"orientation\":\"v\",\"showlegend\":true,\"x\":[0,1,2,3,4,5,6,7,8,9,10,11,12,13,14,15,16,17,18,19,20],\"xaxis\":\"x\",\"y\":[0.10400000214576721,0.7077999711036682,0.7498000264167786,0.7552000284194946,0.8580999970436096,0.9458000063896179,0.9506000280380249,0.9534000158309937,0.9502000212669373,0.9519000053405762,0.953000009059906,0.9537000060081482,0.9532999992370605,0.9526000022888184,0.953499972820282,0.9535999894142151,0.9535999894142151,0.9538000226020813,0.9541000127792358,0.9539999961853027,0.9549000263214111],\"yaxis\":\"y\",\"type\":\"scatter\"},{\"hovertemplate\":\"Experiment=lr = 7.5, batch = 70\\u003cbr\\u003eEpochs=%{x}\\u003cbr\\u003eAccuracy [%]=%{y}\\u003cextra\\u003e\\u003c\\u002fextra\\u003e\",\"legendgroup\":\"lr = 7.5, batch = 70\",\"line\":{\"color\":\"#FFA15A\",\"dash\":\"solid\"},\"marker\":{\"symbol\":\"circle\"},\"mode\":\"lines\",\"name\":\"lr = 7.5, batch = 70\",\"orientation\":\"v\",\"showlegend\":true,\"x\":[0,1,2,3,4,5,6,7,8,9,10,11,12,13,14,15,16,17,18,19,20],\"xaxis\":\"x\",\"y\":[0.0860000029206276,0.8240000009536743,0.9302999973297119,0.9397000074386597,0.942300021648407,0.9455000162124634,0.9452999830245972,0.9480999708175659,0.9480999708175659,0.9488000273704529,0.9496999979019165,0.9498999714851379,0.9506000280380249,0.9509999752044678,0.9531000256538391,0.9524999856948853,0.9509000182151794,0.9531000256538391,0.9534000158309937,0.953499972820282,0.9534000158309937],\"yaxis\":\"y\",\"type\":\"scatter\"}],                        {\"template\":{\"data\":{\"histogram2dcontour\":[{\"type\":\"histogram2dcontour\",\"colorbar\":{\"outlinewidth\":0,\"ticks\":\"\"},\"colorscale\":[[0.0,\"#0d0887\"],[0.1111111111111111,\"#46039f\"],[0.2222222222222222,\"#7201a8\"],[0.3333333333333333,\"#9c179e\"],[0.4444444444444444,\"#bd3786\"],[0.5555555555555556,\"#d8576b\"],[0.6666666666666666,\"#ed7953\"],[0.7777777777777778,\"#fb9f3a\"],[0.8888888888888888,\"#fdca26\"],[1.0,\"#f0f921\"]]}],\"choropleth\":[{\"type\":\"choropleth\",\"colorbar\":{\"outlinewidth\":0,\"ticks\":\"\"}}],\"histogram2d\":[{\"type\":\"histogram2d\",\"colorbar\":{\"outlinewidth\":0,\"ticks\":\"\"},\"colorscale\":[[0.0,\"#0d0887\"],[0.1111111111111111,\"#46039f\"],[0.2222222222222222,\"#7201a8\"],[0.3333333333333333,\"#9c179e\"],[0.4444444444444444,\"#bd3786\"],[0.5555555555555556,\"#d8576b\"],[0.6666666666666666,\"#ed7953\"],[0.7777777777777778,\"#fb9f3a\"],[0.8888888888888888,\"#fdca26\"],[1.0,\"#f0f921\"]]}],\"heatmap\":[{\"type\":\"heatmap\",\"colorbar\":{\"outlinewidth\":0,\"ticks\":\"\"},\"colorscale\":[[0.0,\"#0d0887\"],[0.1111111111111111,\"#46039f\"],[0.2222222222222222,\"#7201a8\"],[0.3333333333333333,\"#9c179e\"],[0.4444444444444444,\"#bd3786\"],[0.5555555555555556,\"#d8576b\"],[0.6666666666666666,\"#ed7953\"],[0.7777777777777778,\"#fb9f3a\"],[0.8888888888888888,\"#fdca26\"],[1.0,\"#f0f921\"]]}],\"heatmapgl\":[{\"type\":\"heatmapgl\",\"colorbar\":{\"outlinewidth\":0,\"ticks\":\"\"},\"colorscale\":[[0.0,\"#0d0887\"],[0.1111111111111111,\"#46039f\"],[0.2222222222222222,\"#7201a8\"],[0.3333333333333333,\"#9c179e\"],[0.4444444444444444,\"#bd3786\"],[0.5555555555555556,\"#d8576b\"],[0.6666666666666666,\"#ed7953\"],[0.7777777777777778,\"#fb9f3a\"],[0.8888888888888888,\"#fdca26\"],[1.0,\"#f0f921\"]]}],\"contourcarpet\":[{\"type\":\"contourcarpet\",\"colorbar\":{\"outlinewidth\":0,\"ticks\":\"\"}}],\"contour\":[{\"type\":\"contour\",\"colorbar\":{\"outlinewidth\":0,\"ticks\":\"\"},\"colorscale\":[[0.0,\"#0d0887\"],[0.1111111111111111,\"#46039f\"],[0.2222222222222222,\"#7201a8\"],[0.3333333333333333,\"#9c179e\"],[0.4444444444444444,\"#bd3786\"],[0.5555555555555556,\"#d8576b\"],[0.6666666666666666,\"#ed7953\"],[0.7777777777777778,\"#fb9f3a\"],[0.8888888888888888,\"#fdca26\"],[1.0,\"#f0f921\"]]}],\"surface\":[{\"type\":\"surface\",\"colorbar\":{\"outlinewidth\":0,\"ticks\":\"\"},\"colorscale\":[[0.0,\"#0d0887\"],[0.1111111111111111,\"#46039f\"],[0.2222222222222222,\"#7201a8\"],[0.3333333333333333,\"#9c179e\"],[0.4444444444444444,\"#bd3786\"],[0.5555555555555556,\"#d8576b\"],[0.6666666666666666,\"#ed7953\"],[0.7777777777777778,\"#fb9f3a\"],[0.8888888888888888,\"#fdca26\"],[1.0,\"#f0f921\"]]}],\"mesh3d\":[{\"type\":\"mesh3d\",\"colorbar\":{\"outlinewidth\":0,\"ticks\":\"\"}}],\"scatter\":[{\"marker\":{\"line\":{\"color\":\"#283442\"}},\"type\":\"scatter\"}],\"parcoords\":[{\"type\":\"parcoords\",\"line\":{\"colorbar\":{\"outlinewidth\":0,\"ticks\":\"\"}}}],\"scatterpolargl\":[{\"type\":\"scatterpolargl\",\"marker\":{\"colorbar\":{\"outlinewidth\":0,\"ticks\":\"\"}}}],\"bar\":[{\"error_x\":{\"color\":\"#f2f5fa\"},\"error_y\":{\"color\":\"#f2f5fa\"},\"marker\":{\"line\":{\"color\":\"rgb(17,17,17)\",\"width\":0.5},\"pattern\":{\"fillmode\":\"overlay\",\"size\":10,\"solidity\":0.2}},\"type\":\"bar\"}],\"scattergeo\":[{\"type\":\"scattergeo\",\"marker\":{\"colorbar\":{\"outlinewidth\":0,\"ticks\":\"\"}}}],\"scatterpolar\":[{\"type\":\"scatterpolar\",\"marker\":{\"colorbar\":{\"outlinewidth\":0,\"ticks\":\"\"}}}],\"histogram\":[{\"marker\":{\"pattern\":{\"fillmode\":\"overlay\",\"size\":10,\"solidity\":0.2}},\"type\":\"histogram\"}],\"scattergl\":[{\"marker\":{\"line\":{\"color\":\"#283442\"}},\"type\":\"scattergl\"}],\"scatter3d\":[{\"type\":\"scatter3d\",\"line\":{\"colorbar\":{\"outlinewidth\":0,\"ticks\":\"\"}},\"marker\":{\"colorbar\":{\"outlinewidth\":0,\"ticks\":\"\"}}}],\"scattermapbox\":[{\"type\":\"scattermapbox\",\"marker\":{\"colorbar\":{\"outlinewidth\":0,\"ticks\":\"\"}}}],\"scatterternary\":[{\"type\":\"scatterternary\",\"marker\":{\"colorbar\":{\"outlinewidth\":0,\"ticks\":\"\"}}}],\"scattercarpet\":[{\"type\":\"scattercarpet\",\"marker\":{\"colorbar\":{\"outlinewidth\":0,\"ticks\":\"\"}}}],\"carpet\":[{\"aaxis\":{\"endlinecolor\":\"#A2B1C6\",\"gridcolor\":\"#506784\",\"linecolor\":\"#506784\",\"minorgridcolor\":\"#506784\",\"startlinecolor\":\"#A2B1C6\"},\"baxis\":{\"endlinecolor\":\"#A2B1C6\",\"gridcolor\":\"#506784\",\"linecolor\":\"#506784\",\"minorgridcolor\":\"#506784\",\"startlinecolor\":\"#A2B1C6\"},\"type\":\"carpet\"}],\"table\":[{\"cells\":{\"fill\":{\"color\":\"#506784\"},\"line\":{\"color\":\"rgb(17,17,17)\"}},\"header\":{\"fill\":{\"color\":\"#2a3f5f\"},\"line\":{\"color\":\"rgb(17,17,17)\"}},\"type\":\"table\"}],\"barpolar\":[{\"marker\":{\"line\":{\"color\":\"rgb(17,17,17)\",\"width\":0.5},\"pattern\":{\"fillmode\":\"overlay\",\"size\":10,\"solidity\":0.2}},\"type\":\"barpolar\"}],\"pie\":[{\"automargin\":true,\"type\":\"pie\"}]},\"layout\":{\"autotypenumbers\":\"strict\",\"colorway\":[\"#636efa\",\"#EF553B\",\"#00cc96\",\"#ab63fa\",\"#FFA15A\",\"#19d3f3\",\"#FF6692\",\"#B6E880\",\"#FF97FF\",\"#FECB52\"],\"font\":{\"color\":\"#f2f5fa\"},\"hovermode\":\"closest\",\"hoverlabel\":{\"align\":\"left\"},\"paper_bgcolor\":\"rgb(17,17,17)\",\"plot_bgcolor\":\"rgb(17,17,17)\",\"polar\":{\"bgcolor\":\"rgb(17,17,17)\",\"angularaxis\":{\"gridcolor\":\"#506784\",\"linecolor\":\"#506784\",\"ticks\":\"\"},\"radialaxis\":{\"gridcolor\":\"#506784\",\"linecolor\":\"#506784\",\"ticks\":\"\"}},\"ternary\":{\"bgcolor\":\"rgb(17,17,17)\",\"aaxis\":{\"gridcolor\":\"#506784\",\"linecolor\":\"#506784\",\"ticks\":\"\"},\"baxis\":{\"gridcolor\":\"#506784\",\"linecolor\":\"#506784\",\"ticks\":\"\"},\"caxis\":{\"gridcolor\":\"#506784\",\"linecolor\":\"#506784\",\"ticks\":\"\"}},\"coloraxis\":{\"colorbar\":{\"outlinewidth\":0,\"ticks\":\"\"}},\"colorscale\":{\"sequential\":[[0.0,\"#0d0887\"],[0.1111111111111111,\"#46039f\"],[0.2222222222222222,\"#7201a8\"],[0.3333333333333333,\"#9c179e\"],[0.4444444444444444,\"#bd3786\"],[0.5555555555555556,\"#d8576b\"],[0.6666666666666666,\"#ed7953\"],[0.7777777777777778,\"#fb9f3a\"],[0.8888888888888888,\"#fdca26\"],[1.0,\"#f0f921\"]],\"sequentialminus\":[[0.0,\"#0d0887\"],[0.1111111111111111,\"#46039f\"],[0.2222222222222222,\"#7201a8\"],[0.3333333333333333,\"#9c179e\"],[0.4444444444444444,\"#bd3786\"],[0.5555555555555556,\"#d8576b\"],[0.6666666666666666,\"#ed7953\"],[0.7777777777777778,\"#fb9f3a\"],[0.8888888888888888,\"#fdca26\"],[1.0,\"#f0f921\"]],\"diverging\":[[0,\"#8e0152\"],[0.1,\"#c51b7d\"],[0.2,\"#de77ae\"],[0.3,\"#f1b6da\"],[0.4,\"#fde0ef\"],[0.5,\"#f7f7f7\"],[0.6,\"#e6f5d0\"],[0.7,\"#b8e186\"],[0.8,\"#7fbc41\"],[0.9,\"#4d9221\"],[1,\"#276419\"]]},\"xaxis\":{\"gridcolor\":\"#283442\",\"linecolor\":\"#506784\",\"ticks\":\"\",\"title\":{\"standoff\":15},\"zerolinecolor\":\"#283442\",\"automargin\":true,\"zerolinewidth\":2},\"yaxis\":{\"gridcolor\":\"#283442\",\"linecolor\":\"#506784\",\"ticks\":\"\",\"title\":{\"standoff\":15},\"zerolinecolor\":\"#283442\",\"automargin\":true,\"zerolinewidth\":2},\"scene\":{\"xaxis\":{\"backgroundcolor\":\"rgb(17,17,17)\",\"gridcolor\":\"#506784\",\"linecolor\":\"#506784\",\"showbackground\":true,\"ticks\":\"\",\"zerolinecolor\":\"#C8D4E3\",\"gridwidth\":2},\"yaxis\":{\"backgroundcolor\":\"rgb(17,17,17)\",\"gridcolor\":\"#506784\",\"linecolor\":\"#506784\",\"showbackground\":true,\"ticks\":\"\",\"zerolinecolor\":\"#C8D4E3\",\"gridwidth\":2},\"zaxis\":{\"backgroundcolor\":\"rgb(17,17,17)\",\"gridcolor\":\"#506784\",\"linecolor\":\"#506784\",\"showbackground\":true,\"ticks\":\"\",\"zerolinecolor\":\"#C8D4E3\",\"gridwidth\":2}},\"shapedefaults\":{\"line\":{\"color\":\"#f2f5fa\"}},\"annotationdefaults\":{\"arrowcolor\":\"#f2f5fa\",\"arrowhead\":0,\"arrowwidth\":1},\"geo\":{\"bgcolor\":\"rgb(17,17,17)\",\"landcolor\":\"rgb(17,17,17)\",\"subunitcolor\":\"#506784\",\"showland\":true,\"showlakes\":true,\"lakecolor\":\"rgb(17,17,17)\"},\"title\":{\"x\":0.05},\"updatemenudefaults\":{\"bgcolor\":\"#506784\",\"borderwidth\":0},\"sliderdefaults\":{\"bgcolor\":\"#C8D4E3\",\"borderwidth\":1,\"bordercolor\":\"rgb(17,17,17)\",\"tickwidth\":0},\"mapbox\":{\"style\":\"dark\"}}},\"xaxis\":{\"anchor\":\"y\",\"domain\":[0.0,1.0],\"title\":{\"text\":\"Epochs\"}},\"yaxis\":{\"anchor\":\"x\",\"domain\":[0.0,1.0],\"title\":{\"text\":\"Accuracy [%]\"}},\"legend\":{\"title\":{\"text\":\"Experiment\"},\"tracegroupgap\":0},\"title\":{\"text\":\"Test accuracy\"}},                        {\"responsive\": true}                    ).then(function(){\n                            \nvar gd = document.getElementById('2bd85de9-3c05-4e1a-a85a-5efbe6a7ebad');\nvar x = new MutationObserver(function (mutations, observer) {{\n        var display = window.getComputedStyle(gd).display;\n        if (!display || display === 'none') {{\n            console.log([gd, 'removed!']);\n            Plotly.purge(gd);\n            observer.disconnect();\n        }}\n}});\n\n// Listen for the removal of the full notebook cells\nvar notebookContainer = gd.closest('#notebook-container');\nif (notebookContainer) {{\n    x.observe(notebookContainer, {childList: true});\n}}\n\n// Listen for the clearing of the current output cell\nvar outputEl = gd.closest('.output');\nif (outputEl) {{\n    x.observe(outputEl, {childList: true});\n}}\n\n                        })                };                });            </script>        </div>"
     },
     "metadata": {},
     "output_type": "display_data"
    },
    {
     "data": {
      "application/vnd.plotly.v1+json": {
       "data": [
        {
         "hovertemplate": "Experiment=lr = 7, batch = 90<br>Epochs=%{x}<br>Loss=%{y}<extra></extra>",
         "legendgroup": "lr = 7, batch = 90",
         "line": {
          "color": "#636efa",
          "dash": "solid"
         },
         "marker": {
          "symbol": "circle"
         },
         "mode": "lines",
         "name": "lr = 7, batch = 90",
         "orientation": "v",
         "showlegend": true,
         "x": [
          0,
          1,
          2,
          3,
          4,
          5,
          6,
          7,
          8,
          9,
          10,
          11,
          12,
          13,
          14,
          15,
          16,
          17,
          18,
          19,
          20
         ],
         "xaxis": "x",
         "y": [
          25.94154167175293,
          0.8189685344696045,
          0.42063695192337036,
          0.32709643244743347,
          0.2797130048274994,
          0.24919459223747253,
          0.22377772629261017,
          0.2062533050775528,
          0.1905592978000641,
          0.17770332098007202,
          0.17335151135921478,
          0.16569742560386658,
          0.1574867218732834,
          0.14949217438697815,
          0.14390429854393005,
          0.13840432465076447,
          0.13436608016490936,
          0.1306408792734146,
          0.127327099442482,
          0.12532462179660797,
          0.1237618550658226
         ],
         "yaxis": "y",
         "type": "scatter"
        },
        {
         "hovertemplate": "Experiment=lr = 7.25, batch = 90<br>Epochs=%{x}<br>Loss=%{y}<extra></extra>",
         "legendgroup": "lr = 7.25, batch = 90",
         "line": {
          "color": "#EF553B",
          "dash": "solid"
         },
         "marker": {
          "symbol": "circle"
         },
         "mode": "lines",
         "name": "lr = 7.25, batch = 90",
         "orientation": "v",
         "showlegend": true,
         "x": [
          0,
          1,
          2,
          3,
          4,
          5,
          6,
          7,
          8,
          9,
          10,
          11,
          12,
          13,
          14,
          15,
          16,
          17,
          18,
          19,
          20
         ],
         "xaxis": "x",
         "y": [
          32.959110260009766,
          2.302567720413208,
          1.7099180221557617,
          1.632415533065796,
          1.576980471611023,
          1.5595216751098633,
          1.5268397331237793,
          1.345755934715271,
          0.342470645904541,
          0.22414596378803253,
          0.20331041514873505,
          0.18731003999710083,
          0.176056906580925,
          0.1644260585308075,
          0.15601864457130432,
          0.14679338037967682,
          0.13919952511787415,
          0.1342308521270752,
          0.1307908445596695,
          0.1260942816734314,
          0.12198307365179062
         ],
         "yaxis": "y",
         "type": "scatter"
        },
        {
         "hovertemplate": "Experiment=lr = 7, batch = 80<br>Epochs=%{x}<br>Loss=%{y}<extra></extra>",
         "legendgroup": "lr = 7, batch = 80",
         "line": {
          "color": "#00cc96",
          "dash": "solid"
         },
         "marker": {
          "symbol": "circle"
         },
         "mode": "lines",
         "name": "lr = 7, batch = 80",
         "orientation": "v",
         "showlegend": true,
         "x": [
          0,
          1,
          2,
          3,
          4,
          5,
          6,
          7,
          8,
          9,
          10,
          11,
          12,
          13,
          14,
          15,
          16,
          17,
          18,
          19,
          20
         ],
         "xaxis": "x",
         "y": [
          22.9946231842041,
          0.8483576774597168,
          0.43135589361190796,
          0.32782837748527527,
          0.2819073796272278,
          0.2435736507177353,
          0.21520653367042542,
          0.19670233130455017,
          0.1798645406961441,
          0.16920454800128937,
          0.15980780124664307,
          0.1515243500471115,
          0.1436244398355484,
          0.1388309746980667,
          0.1312599629163742,
          0.128297820687294,
          0.12428884208202362,
          0.12121028453111649,
          0.11911653727293015,
          0.11753252893686295,
          0.11570541560649872
         ],
         "yaxis": "y",
         "type": "scatter"
        },
        {
         "hovertemplate": "Experiment=lr = 7.25, batch = 70<br>Epochs=%{x}<br>Loss=%{y}<extra></extra>",
         "legendgroup": "lr = 7.25, batch = 70",
         "line": {
          "color": "#ab63fa",
          "dash": "solid"
         },
         "marker": {
          "symbol": "circle"
         },
         "mode": "lines",
         "name": "lr = 7.25, batch = 70",
         "orientation": "v",
         "showlegend": true,
         "x": [
          0,
          1,
          2,
          3,
          4,
          5,
          6,
          7,
          8,
          9,
          10,
          11,
          12,
          13,
          14,
          15,
          16,
          17,
          18,
          19,
          20
         ],
         "xaxis": "x",
         "y": [
          52.27532196044922,
          4.704186916351318,
          3.1574556827545166,
          3.015808343887329,
          2.363574981689453,
          0.5245836973190308,
          0.25928381085395813,
          0.2280166894197464,
          0.21015727519989014,
          0.19627761840820312,
          0.18419988453388214,
          0.17462171614170074,
          0.16626514494419098,
          0.1578441560268402,
          0.15287385880947113,
          0.1462368369102478,
          0.14120632410049438,
          0.1381421834230423,
          0.13614995777606964,
          0.13382677733898163,
          0.13240249454975128
         ],
         "yaxis": "y",
         "type": "scatter"
        },
        {
         "hovertemplate": "Experiment=lr = 7.5, batch = 70<br>Epochs=%{x}<br>Loss=%{y}<extra></extra>",
         "legendgroup": "lr = 7.5, batch = 70",
         "line": {
          "color": "#FFA15A",
          "dash": "solid"
         },
         "marker": {
          "symbol": "circle"
         },
         "mode": "lines",
         "name": "lr = 7.5, batch = 70",
         "orientation": "v",
         "showlegend": true,
         "x": [
          0,
          1,
          2,
          3,
          4,
          5,
          6,
          7,
          8,
          9,
          10,
          11,
          12,
          13,
          14,
          15,
          16,
          17,
          18,
          19,
          20
         ],
         "xaxis": "x",
         "y": [
          18.01923370361328,
          2.0307183265686035,
          1.10165536403656,
          0.3789950907230377,
          0.30693474411964417,
          0.26550209522247314,
          0.23895686864852905,
          0.21596771478652954,
          0.2011331468820572,
          0.18646448850631714,
          0.17674857378005981,
          0.1660618782043457,
          0.15876561403274536,
          0.15065179765224457,
          0.1452859342098236,
          0.14076419174671173,
          0.1376926749944687,
          0.1352890282869339,
          0.13321393728256226,
          0.13146521151065826,
          0.12993177771568298
         ],
         "yaxis": "y",
         "type": "scatter"
        }
       ],
       "layout": {
        "template": {
         "data": {
          "histogram2dcontour": [
           {
            "type": "histogram2dcontour",
            "colorbar": {
             "outlinewidth": 0,
             "ticks": ""
            },
            "colorscale": [
             [
              0.0,
              "#0d0887"
             ],
             [
              0.1111111111111111,
              "#46039f"
             ],
             [
              0.2222222222222222,
              "#7201a8"
             ],
             [
              0.3333333333333333,
              "#9c179e"
             ],
             [
              0.4444444444444444,
              "#bd3786"
             ],
             [
              0.5555555555555556,
              "#d8576b"
             ],
             [
              0.6666666666666666,
              "#ed7953"
             ],
             [
              0.7777777777777778,
              "#fb9f3a"
             ],
             [
              0.8888888888888888,
              "#fdca26"
             ],
             [
              1.0,
              "#f0f921"
             ]
            ]
           }
          ],
          "choropleth": [
           {
            "type": "choropleth",
            "colorbar": {
             "outlinewidth": 0,
             "ticks": ""
            }
           }
          ],
          "histogram2d": [
           {
            "type": "histogram2d",
            "colorbar": {
             "outlinewidth": 0,
             "ticks": ""
            },
            "colorscale": [
             [
              0.0,
              "#0d0887"
             ],
             [
              0.1111111111111111,
              "#46039f"
             ],
             [
              0.2222222222222222,
              "#7201a8"
             ],
             [
              0.3333333333333333,
              "#9c179e"
             ],
             [
              0.4444444444444444,
              "#bd3786"
             ],
             [
              0.5555555555555556,
              "#d8576b"
             ],
             [
              0.6666666666666666,
              "#ed7953"
             ],
             [
              0.7777777777777778,
              "#fb9f3a"
             ],
             [
              0.8888888888888888,
              "#fdca26"
             ],
             [
              1.0,
              "#f0f921"
             ]
            ]
           }
          ],
          "heatmap": [
           {
            "type": "heatmap",
            "colorbar": {
             "outlinewidth": 0,
             "ticks": ""
            },
            "colorscale": [
             [
              0.0,
              "#0d0887"
             ],
             [
              0.1111111111111111,
              "#46039f"
             ],
             [
              0.2222222222222222,
              "#7201a8"
             ],
             [
              0.3333333333333333,
              "#9c179e"
             ],
             [
              0.4444444444444444,
              "#bd3786"
             ],
             [
              0.5555555555555556,
              "#d8576b"
             ],
             [
              0.6666666666666666,
              "#ed7953"
             ],
             [
              0.7777777777777778,
              "#fb9f3a"
             ],
             [
              0.8888888888888888,
              "#fdca26"
             ],
             [
              1.0,
              "#f0f921"
             ]
            ]
           }
          ],
          "heatmapgl": [
           {
            "type": "heatmapgl",
            "colorbar": {
             "outlinewidth": 0,
             "ticks": ""
            },
            "colorscale": [
             [
              0.0,
              "#0d0887"
             ],
             [
              0.1111111111111111,
              "#46039f"
             ],
             [
              0.2222222222222222,
              "#7201a8"
             ],
             [
              0.3333333333333333,
              "#9c179e"
             ],
             [
              0.4444444444444444,
              "#bd3786"
             ],
             [
              0.5555555555555556,
              "#d8576b"
             ],
             [
              0.6666666666666666,
              "#ed7953"
             ],
             [
              0.7777777777777778,
              "#fb9f3a"
             ],
             [
              0.8888888888888888,
              "#fdca26"
             ],
             [
              1.0,
              "#f0f921"
             ]
            ]
           }
          ],
          "contourcarpet": [
           {
            "type": "contourcarpet",
            "colorbar": {
             "outlinewidth": 0,
             "ticks": ""
            }
           }
          ],
          "contour": [
           {
            "type": "contour",
            "colorbar": {
             "outlinewidth": 0,
             "ticks": ""
            },
            "colorscale": [
             [
              0.0,
              "#0d0887"
             ],
             [
              0.1111111111111111,
              "#46039f"
             ],
             [
              0.2222222222222222,
              "#7201a8"
             ],
             [
              0.3333333333333333,
              "#9c179e"
             ],
             [
              0.4444444444444444,
              "#bd3786"
             ],
             [
              0.5555555555555556,
              "#d8576b"
             ],
             [
              0.6666666666666666,
              "#ed7953"
             ],
             [
              0.7777777777777778,
              "#fb9f3a"
             ],
             [
              0.8888888888888888,
              "#fdca26"
             ],
             [
              1.0,
              "#f0f921"
             ]
            ]
           }
          ],
          "surface": [
           {
            "type": "surface",
            "colorbar": {
             "outlinewidth": 0,
             "ticks": ""
            },
            "colorscale": [
             [
              0.0,
              "#0d0887"
             ],
             [
              0.1111111111111111,
              "#46039f"
             ],
             [
              0.2222222222222222,
              "#7201a8"
             ],
             [
              0.3333333333333333,
              "#9c179e"
             ],
             [
              0.4444444444444444,
              "#bd3786"
             ],
             [
              0.5555555555555556,
              "#d8576b"
             ],
             [
              0.6666666666666666,
              "#ed7953"
             ],
             [
              0.7777777777777778,
              "#fb9f3a"
             ],
             [
              0.8888888888888888,
              "#fdca26"
             ],
             [
              1.0,
              "#f0f921"
             ]
            ]
           }
          ],
          "mesh3d": [
           {
            "type": "mesh3d",
            "colorbar": {
             "outlinewidth": 0,
             "ticks": ""
            }
           }
          ],
          "scatter": [
           {
            "marker": {
             "line": {
              "color": "#283442"
             }
            },
            "type": "scatter"
           }
          ],
          "parcoords": [
           {
            "type": "parcoords",
            "line": {
             "colorbar": {
              "outlinewidth": 0,
              "ticks": ""
             }
            }
           }
          ],
          "scatterpolargl": [
           {
            "type": "scatterpolargl",
            "marker": {
             "colorbar": {
              "outlinewidth": 0,
              "ticks": ""
             }
            }
           }
          ],
          "bar": [
           {
            "error_x": {
             "color": "#f2f5fa"
            },
            "error_y": {
             "color": "#f2f5fa"
            },
            "marker": {
             "line": {
              "color": "rgb(17,17,17)",
              "width": 0.5
             },
             "pattern": {
              "fillmode": "overlay",
              "size": 10,
              "solidity": 0.2
             }
            },
            "type": "bar"
           }
          ],
          "scattergeo": [
           {
            "type": "scattergeo",
            "marker": {
             "colorbar": {
              "outlinewidth": 0,
              "ticks": ""
             }
            }
           }
          ],
          "scatterpolar": [
           {
            "type": "scatterpolar",
            "marker": {
             "colorbar": {
              "outlinewidth": 0,
              "ticks": ""
             }
            }
           }
          ],
          "histogram": [
           {
            "marker": {
             "pattern": {
              "fillmode": "overlay",
              "size": 10,
              "solidity": 0.2
             }
            },
            "type": "histogram"
           }
          ],
          "scattergl": [
           {
            "marker": {
             "line": {
              "color": "#283442"
             }
            },
            "type": "scattergl"
           }
          ],
          "scatter3d": [
           {
            "type": "scatter3d",
            "line": {
             "colorbar": {
              "outlinewidth": 0,
              "ticks": ""
             }
            },
            "marker": {
             "colorbar": {
              "outlinewidth": 0,
              "ticks": ""
             }
            }
           }
          ],
          "scattermapbox": [
           {
            "type": "scattermapbox",
            "marker": {
             "colorbar": {
              "outlinewidth": 0,
              "ticks": ""
             }
            }
           }
          ],
          "scatterternary": [
           {
            "type": "scatterternary",
            "marker": {
             "colorbar": {
              "outlinewidth": 0,
              "ticks": ""
             }
            }
           }
          ],
          "scattercarpet": [
           {
            "type": "scattercarpet",
            "marker": {
             "colorbar": {
              "outlinewidth": 0,
              "ticks": ""
             }
            }
           }
          ],
          "carpet": [
           {
            "aaxis": {
             "endlinecolor": "#A2B1C6",
             "gridcolor": "#506784",
             "linecolor": "#506784",
             "minorgridcolor": "#506784",
             "startlinecolor": "#A2B1C6"
            },
            "baxis": {
             "endlinecolor": "#A2B1C6",
             "gridcolor": "#506784",
             "linecolor": "#506784",
             "minorgridcolor": "#506784",
             "startlinecolor": "#A2B1C6"
            },
            "type": "carpet"
           }
          ],
          "table": [
           {
            "cells": {
             "fill": {
              "color": "#506784"
             },
             "line": {
              "color": "rgb(17,17,17)"
             }
            },
            "header": {
             "fill": {
              "color": "#2a3f5f"
             },
             "line": {
              "color": "rgb(17,17,17)"
             }
            },
            "type": "table"
           }
          ],
          "barpolar": [
           {
            "marker": {
             "line": {
              "color": "rgb(17,17,17)",
              "width": 0.5
             },
             "pattern": {
              "fillmode": "overlay",
              "size": 10,
              "solidity": 0.2
             }
            },
            "type": "barpolar"
           }
          ],
          "pie": [
           {
            "automargin": true,
            "type": "pie"
           }
          ]
         },
         "layout": {
          "autotypenumbers": "strict",
          "colorway": [
           "#636efa",
           "#EF553B",
           "#00cc96",
           "#ab63fa",
           "#FFA15A",
           "#19d3f3",
           "#FF6692",
           "#B6E880",
           "#FF97FF",
           "#FECB52"
          ],
          "font": {
           "color": "#f2f5fa"
          },
          "hovermode": "closest",
          "hoverlabel": {
           "align": "left"
          },
          "paper_bgcolor": "rgb(17,17,17)",
          "plot_bgcolor": "rgb(17,17,17)",
          "polar": {
           "bgcolor": "rgb(17,17,17)",
           "angularaxis": {
            "gridcolor": "#506784",
            "linecolor": "#506784",
            "ticks": ""
           },
           "radialaxis": {
            "gridcolor": "#506784",
            "linecolor": "#506784",
            "ticks": ""
           }
          },
          "ternary": {
           "bgcolor": "rgb(17,17,17)",
           "aaxis": {
            "gridcolor": "#506784",
            "linecolor": "#506784",
            "ticks": ""
           },
           "baxis": {
            "gridcolor": "#506784",
            "linecolor": "#506784",
            "ticks": ""
           },
           "caxis": {
            "gridcolor": "#506784",
            "linecolor": "#506784",
            "ticks": ""
           }
          },
          "coloraxis": {
           "colorbar": {
            "outlinewidth": 0,
            "ticks": ""
           }
          },
          "colorscale": {
           "sequential": [
            [
             0.0,
             "#0d0887"
            ],
            [
             0.1111111111111111,
             "#46039f"
            ],
            [
             0.2222222222222222,
             "#7201a8"
            ],
            [
             0.3333333333333333,
             "#9c179e"
            ],
            [
             0.4444444444444444,
             "#bd3786"
            ],
            [
             0.5555555555555556,
             "#d8576b"
            ],
            [
             0.6666666666666666,
             "#ed7953"
            ],
            [
             0.7777777777777778,
             "#fb9f3a"
            ],
            [
             0.8888888888888888,
             "#fdca26"
            ],
            [
             1.0,
             "#f0f921"
            ]
           ],
           "sequentialminus": [
            [
             0.0,
             "#0d0887"
            ],
            [
             0.1111111111111111,
             "#46039f"
            ],
            [
             0.2222222222222222,
             "#7201a8"
            ],
            [
             0.3333333333333333,
             "#9c179e"
            ],
            [
             0.4444444444444444,
             "#bd3786"
            ],
            [
             0.5555555555555556,
             "#d8576b"
            ],
            [
             0.6666666666666666,
             "#ed7953"
            ],
            [
             0.7777777777777778,
             "#fb9f3a"
            ],
            [
             0.8888888888888888,
             "#fdca26"
            ],
            [
             1.0,
             "#f0f921"
            ]
           ],
           "diverging": [
            [
             0,
             "#8e0152"
            ],
            [
             0.1,
             "#c51b7d"
            ],
            [
             0.2,
             "#de77ae"
            ],
            [
             0.3,
             "#f1b6da"
            ],
            [
             0.4,
             "#fde0ef"
            ],
            [
             0.5,
             "#f7f7f7"
            ],
            [
             0.6,
             "#e6f5d0"
            ],
            [
             0.7,
             "#b8e186"
            ],
            [
             0.8,
             "#7fbc41"
            ],
            [
             0.9,
             "#4d9221"
            ],
            [
             1,
             "#276419"
            ]
           ]
          },
          "xaxis": {
           "gridcolor": "#283442",
           "linecolor": "#506784",
           "ticks": "",
           "title": {
            "standoff": 15
           },
           "zerolinecolor": "#283442",
           "automargin": true,
           "zerolinewidth": 2
          },
          "yaxis": {
           "gridcolor": "#283442",
           "linecolor": "#506784",
           "ticks": "",
           "title": {
            "standoff": 15
           },
           "zerolinecolor": "#283442",
           "automargin": true,
           "zerolinewidth": 2
          },
          "scene": {
           "xaxis": {
            "backgroundcolor": "rgb(17,17,17)",
            "gridcolor": "#506784",
            "linecolor": "#506784",
            "showbackground": true,
            "ticks": "",
            "zerolinecolor": "#C8D4E3",
            "gridwidth": 2
           },
           "yaxis": {
            "backgroundcolor": "rgb(17,17,17)",
            "gridcolor": "#506784",
            "linecolor": "#506784",
            "showbackground": true,
            "ticks": "",
            "zerolinecolor": "#C8D4E3",
            "gridwidth": 2
           },
           "zaxis": {
            "backgroundcolor": "rgb(17,17,17)",
            "gridcolor": "#506784",
            "linecolor": "#506784",
            "showbackground": true,
            "ticks": "",
            "zerolinecolor": "#C8D4E3",
            "gridwidth": 2
           }
          },
          "shapedefaults": {
           "line": {
            "color": "#f2f5fa"
           }
          },
          "annotationdefaults": {
           "arrowcolor": "#f2f5fa",
           "arrowhead": 0,
           "arrowwidth": 1
          },
          "geo": {
           "bgcolor": "rgb(17,17,17)",
           "landcolor": "rgb(17,17,17)",
           "subunitcolor": "#506784",
           "showland": true,
           "showlakes": true,
           "lakecolor": "rgb(17,17,17)"
          },
          "title": {
           "x": 0.05
          },
          "updatemenudefaults": {
           "bgcolor": "#506784",
           "borderwidth": 0
          },
          "sliderdefaults": {
           "bgcolor": "#C8D4E3",
           "borderwidth": 1,
           "bordercolor": "rgb(17,17,17)",
           "tickwidth": 0
          },
          "mapbox": {
           "style": "dark"
          }
         }
        },
        "xaxis": {
         "anchor": "y",
         "domain": [
          0.0,
          1.0
         ],
         "title": {
          "text": "Epochs"
         }
        },
        "yaxis": {
         "anchor": "x",
         "domain": [
          0.0,
          1.0
         ],
         "title": {
          "text": "Loss"
         }
        },
        "legend": {
         "title": {
          "text": "Experiment"
         },
         "tracegroupgap": 0
        },
        "title": {
         "text": "Test loss"
        }
       },
       "config": {
        "plotlyServerURL": "https://plot.ly"
       }
      },
      "text/html": "<div>                            <div id=\"33eb40b5-6c5b-4c23-a1f2-cdcb9490bf5e\" class=\"plotly-graph-div\" style=\"height:525px; width:100%;\"></div>            <script type=\"text/javascript\">                require([\"plotly\"], function(Plotly) {                    window.PLOTLYENV=window.PLOTLYENV || {};                                    if (document.getElementById(\"33eb40b5-6c5b-4c23-a1f2-cdcb9490bf5e\")) {                    Plotly.newPlot(                        \"33eb40b5-6c5b-4c23-a1f2-cdcb9490bf5e\",                        [{\"hovertemplate\":\"Experiment=lr = 7, batch = 90\\u003cbr\\u003eEpochs=%{x}\\u003cbr\\u003eLoss=%{y}\\u003cextra\\u003e\\u003c\\u002fextra\\u003e\",\"legendgroup\":\"lr = 7, batch = 90\",\"line\":{\"color\":\"#636efa\",\"dash\":\"solid\"},\"marker\":{\"symbol\":\"circle\"},\"mode\":\"lines\",\"name\":\"lr = 7, batch = 90\",\"orientation\":\"v\",\"showlegend\":true,\"x\":[0,1,2,3,4,5,6,7,8,9,10,11,12,13,14,15,16,17,18,19,20],\"xaxis\":\"x\",\"y\":[25.94154167175293,0.8189685344696045,0.42063695192337036,0.32709643244743347,0.2797130048274994,0.24919459223747253,0.22377772629261017,0.2062533050775528,0.1905592978000641,0.17770332098007202,0.17335151135921478,0.16569742560386658,0.1574867218732834,0.14949217438697815,0.14390429854393005,0.13840432465076447,0.13436608016490936,0.1306408792734146,0.127327099442482,0.12532462179660797,0.1237618550658226],\"yaxis\":\"y\",\"type\":\"scatter\"},{\"hovertemplate\":\"Experiment=lr = 7.25, batch = 90\\u003cbr\\u003eEpochs=%{x}\\u003cbr\\u003eLoss=%{y}\\u003cextra\\u003e\\u003c\\u002fextra\\u003e\",\"legendgroup\":\"lr = 7.25, batch = 90\",\"line\":{\"color\":\"#EF553B\",\"dash\":\"solid\"},\"marker\":{\"symbol\":\"circle\"},\"mode\":\"lines\",\"name\":\"lr = 7.25, batch = 90\",\"orientation\":\"v\",\"showlegend\":true,\"x\":[0,1,2,3,4,5,6,7,8,9,10,11,12,13,14,15,16,17,18,19,20],\"xaxis\":\"x\",\"y\":[32.959110260009766,2.302567720413208,1.7099180221557617,1.632415533065796,1.576980471611023,1.5595216751098633,1.5268397331237793,1.345755934715271,0.342470645904541,0.22414596378803253,0.20331041514873505,0.18731003999710083,0.176056906580925,0.1644260585308075,0.15601864457130432,0.14679338037967682,0.13919952511787415,0.1342308521270752,0.1307908445596695,0.1260942816734314,0.12198307365179062],\"yaxis\":\"y\",\"type\":\"scatter\"},{\"hovertemplate\":\"Experiment=lr = 7, batch = 80\\u003cbr\\u003eEpochs=%{x}\\u003cbr\\u003eLoss=%{y}\\u003cextra\\u003e\\u003c\\u002fextra\\u003e\",\"legendgroup\":\"lr = 7, batch = 80\",\"line\":{\"color\":\"#00cc96\",\"dash\":\"solid\"},\"marker\":{\"symbol\":\"circle\"},\"mode\":\"lines\",\"name\":\"lr = 7, batch = 80\",\"orientation\":\"v\",\"showlegend\":true,\"x\":[0,1,2,3,4,5,6,7,8,9,10,11,12,13,14,15,16,17,18,19,20],\"xaxis\":\"x\",\"y\":[22.9946231842041,0.8483576774597168,0.43135589361190796,0.32782837748527527,0.2819073796272278,0.2435736507177353,0.21520653367042542,0.19670233130455017,0.1798645406961441,0.16920454800128937,0.15980780124664307,0.1515243500471115,0.1436244398355484,0.1388309746980667,0.1312599629163742,0.128297820687294,0.12428884208202362,0.12121028453111649,0.11911653727293015,0.11753252893686295,0.11570541560649872],\"yaxis\":\"y\",\"type\":\"scatter\"},{\"hovertemplate\":\"Experiment=lr = 7.25, batch = 70\\u003cbr\\u003eEpochs=%{x}\\u003cbr\\u003eLoss=%{y}\\u003cextra\\u003e\\u003c\\u002fextra\\u003e\",\"legendgroup\":\"lr = 7.25, batch = 70\",\"line\":{\"color\":\"#ab63fa\",\"dash\":\"solid\"},\"marker\":{\"symbol\":\"circle\"},\"mode\":\"lines\",\"name\":\"lr = 7.25, batch = 70\",\"orientation\":\"v\",\"showlegend\":true,\"x\":[0,1,2,3,4,5,6,7,8,9,10,11,12,13,14,15,16,17,18,19,20],\"xaxis\":\"x\",\"y\":[52.27532196044922,4.704186916351318,3.1574556827545166,3.015808343887329,2.363574981689453,0.5245836973190308,0.25928381085395813,0.2280166894197464,0.21015727519989014,0.19627761840820312,0.18419988453388214,0.17462171614170074,0.16626514494419098,0.1578441560268402,0.15287385880947113,0.1462368369102478,0.14120632410049438,0.1381421834230423,0.13614995777606964,0.13382677733898163,0.13240249454975128],\"yaxis\":\"y\",\"type\":\"scatter\"},{\"hovertemplate\":\"Experiment=lr = 7.5, batch = 70\\u003cbr\\u003eEpochs=%{x}\\u003cbr\\u003eLoss=%{y}\\u003cextra\\u003e\\u003c\\u002fextra\\u003e\",\"legendgroup\":\"lr = 7.5, batch = 70\",\"line\":{\"color\":\"#FFA15A\",\"dash\":\"solid\"},\"marker\":{\"symbol\":\"circle\"},\"mode\":\"lines\",\"name\":\"lr = 7.5, batch = 70\",\"orientation\":\"v\",\"showlegend\":true,\"x\":[0,1,2,3,4,5,6,7,8,9,10,11,12,13,14,15,16,17,18,19,20],\"xaxis\":\"x\",\"y\":[18.01923370361328,2.0307183265686035,1.10165536403656,0.3789950907230377,0.30693474411964417,0.26550209522247314,0.23895686864852905,0.21596771478652954,0.2011331468820572,0.18646448850631714,0.17674857378005981,0.1660618782043457,0.15876561403274536,0.15065179765224457,0.1452859342098236,0.14076419174671173,0.1376926749944687,0.1352890282869339,0.13321393728256226,0.13146521151065826,0.12993177771568298],\"yaxis\":\"y\",\"type\":\"scatter\"}],                        {\"template\":{\"data\":{\"histogram2dcontour\":[{\"type\":\"histogram2dcontour\",\"colorbar\":{\"outlinewidth\":0,\"ticks\":\"\"},\"colorscale\":[[0.0,\"#0d0887\"],[0.1111111111111111,\"#46039f\"],[0.2222222222222222,\"#7201a8\"],[0.3333333333333333,\"#9c179e\"],[0.4444444444444444,\"#bd3786\"],[0.5555555555555556,\"#d8576b\"],[0.6666666666666666,\"#ed7953\"],[0.7777777777777778,\"#fb9f3a\"],[0.8888888888888888,\"#fdca26\"],[1.0,\"#f0f921\"]]}],\"choropleth\":[{\"type\":\"choropleth\",\"colorbar\":{\"outlinewidth\":0,\"ticks\":\"\"}}],\"histogram2d\":[{\"type\":\"histogram2d\",\"colorbar\":{\"outlinewidth\":0,\"ticks\":\"\"},\"colorscale\":[[0.0,\"#0d0887\"],[0.1111111111111111,\"#46039f\"],[0.2222222222222222,\"#7201a8\"],[0.3333333333333333,\"#9c179e\"],[0.4444444444444444,\"#bd3786\"],[0.5555555555555556,\"#d8576b\"],[0.6666666666666666,\"#ed7953\"],[0.7777777777777778,\"#fb9f3a\"],[0.8888888888888888,\"#fdca26\"],[1.0,\"#f0f921\"]]}],\"heatmap\":[{\"type\":\"heatmap\",\"colorbar\":{\"outlinewidth\":0,\"ticks\":\"\"},\"colorscale\":[[0.0,\"#0d0887\"],[0.1111111111111111,\"#46039f\"],[0.2222222222222222,\"#7201a8\"],[0.3333333333333333,\"#9c179e\"],[0.4444444444444444,\"#bd3786\"],[0.5555555555555556,\"#d8576b\"],[0.6666666666666666,\"#ed7953\"],[0.7777777777777778,\"#fb9f3a\"],[0.8888888888888888,\"#fdca26\"],[1.0,\"#f0f921\"]]}],\"heatmapgl\":[{\"type\":\"heatmapgl\",\"colorbar\":{\"outlinewidth\":0,\"ticks\":\"\"},\"colorscale\":[[0.0,\"#0d0887\"],[0.1111111111111111,\"#46039f\"],[0.2222222222222222,\"#7201a8\"],[0.3333333333333333,\"#9c179e\"],[0.4444444444444444,\"#bd3786\"],[0.5555555555555556,\"#d8576b\"],[0.6666666666666666,\"#ed7953\"],[0.7777777777777778,\"#fb9f3a\"],[0.8888888888888888,\"#fdca26\"],[1.0,\"#f0f921\"]]}],\"contourcarpet\":[{\"type\":\"contourcarpet\",\"colorbar\":{\"outlinewidth\":0,\"ticks\":\"\"}}],\"contour\":[{\"type\":\"contour\",\"colorbar\":{\"outlinewidth\":0,\"ticks\":\"\"},\"colorscale\":[[0.0,\"#0d0887\"],[0.1111111111111111,\"#46039f\"],[0.2222222222222222,\"#7201a8\"],[0.3333333333333333,\"#9c179e\"],[0.4444444444444444,\"#bd3786\"],[0.5555555555555556,\"#d8576b\"],[0.6666666666666666,\"#ed7953\"],[0.7777777777777778,\"#fb9f3a\"],[0.8888888888888888,\"#fdca26\"],[1.0,\"#f0f921\"]]}],\"surface\":[{\"type\":\"surface\",\"colorbar\":{\"outlinewidth\":0,\"ticks\":\"\"},\"colorscale\":[[0.0,\"#0d0887\"],[0.1111111111111111,\"#46039f\"],[0.2222222222222222,\"#7201a8\"],[0.3333333333333333,\"#9c179e\"],[0.4444444444444444,\"#bd3786\"],[0.5555555555555556,\"#d8576b\"],[0.6666666666666666,\"#ed7953\"],[0.7777777777777778,\"#fb9f3a\"],[0.8888888888888888,\"#fdca26\"],[1.0,\"#f0f921\"]]}],\"mesh3d\":[{\"type\":\"mesh3d\",\"colorbar\":{\"outlinewidth\":0,\"ticks\":\"\"}}],\"scatter\":[{\"marker\":{\"line\":{\"color\":\"#283442\"}},\"type\":\"scatter\"}],\"parcoords\":[{\"type\":\"parcoords\",\"line\":{\"colorbar\":{\"outlinewidth\":0,\"ticks\":\"\"}}}],\"scatterpolargl\":[{\"type\":\"scatterpolargl\",\"marker\":{\"colorbar\":{\"outlinewidth\":0,\"ticks\":\"\"}}}],\"bar\":[{\"error_x\":{\"color\":\"#f2f5fa\"},\"error_y\":{\"color\":\"#f2f5fa\"},\"marker\":{\"line\":{\"color\":\"rgb(17,17,17)\",\"width\":0.5},\"pattern\":{\"fillmode\":\"overlay\",\"size\":10,\"solidity\":0.2}},\"type\":\"bar\"}],\"scattergeo\":[{\"type\":\"scattergeo\",\"marker\":{\"colorbar\":{\"outlinewidth\":0,\"ticks\":\"\"}}}],\"scatterpolar\":[{\"type\":\"scatterpolar\",\"marker\":{\"colorbar\":{\"outlinewidth\":0,\"ticks\":\"\"}}}],\"histogram\":[{\"marker\":{\"pattern\":{\"fillmode\":\"overlay\",\"size\":10,\"solidity\":0.2}},\"type\":\"histogram\"}],\"scattergl\":[{\"marker\":{\"line\":{\"color\":\"#283442\"}},\"type\":\"scattergl\"}],\"scatter3d\":[{\"type\":\"scatter3d\",\"line\":{\"colorbar\":{\"outlinewidth\":0,\"ticks\":\"\"}},\"marker\":{\"colorbar\":{\"outlinewidth\":0,\"ticks\":\"\"}}}],\"scattermapbox\":[{\"type\":\"scattermapbox\",\"marker\":{\"colorbar\":{\"outlinewidth\":0,\"ticks\":\"\"}}}],\"scatterternary\":[{\"type\":\"scatterternary\",\"marker\":{\"colorbar\":{\"outlinewidth\":0,\"ticks\":\"\"}}}],\"scattercarpet\":[{\"type\":\"scattercarpet\",\"marker\":{\"colorbar\":{\"outlinewidth\":0,\"ticks\":\"\"}}}],\"carpet\":[{\"aaxis\":{\"endlinecolor\":\"#A2B1C6\",\"gridcolor\":\"#506784\",\"linecolor\":\"#506784\",\"minorgridcolor\":\"#506784\",\"startlinecolor\":\"#A2B1C6\"},\"baxis\":{\"endlinecolor\":\"#A2B1C6\",\"gridcolor\":\"#506784\",\"linecolor\":\"#506784\",\"minorgridcolor\":\"#506784\",\"startlinecolor\":\"#A2B1C6\"},\"type\":\"carpet\"}],\"table\":[{\"cells\":{\"fill\":{\"color\":\"#506784\"},\"line\":{\"color\":\"rgb(17,17,17)\"}},\"header\":{\"fill\":{\"color\":\"#2a3f5f\"},\"line\":{\"color\":\"rgb(17,17,17)\"}},\"type\":\"table\"}],\"barpolar\":[{\"marker\":{\"line\":{\"color\":\"rgb(17,17,17)\",\"width\":0.5},\"pattern\":{\"fillmode\":\"overlay\",\"size\":10,\"solidity\":0.2}},\"type\":\"barpolar\"}],\"pie\":[{\"automargin\":true,\"type\":\"pie\"}]},\"layout\":{\"autotypenumbers\":\"strict\",\"colorway\":[\"#636efa\",\"#EF553B\",\"#00cc96\",\"#ab63fa\",\"#FFA15A\",\"#19d3f3\",\"#FF6692\",\"#B6E880\",\"#FF97FF\",\"#FECB52\"],\"font\":{\"color\":\"#f2f5fa\"},\"hovermode\":\"closest\",\"hoverlabel\":{\"align\":\"left\"},\"paper_bgcolor\":\"rgb(17,17,17)\",\"plot_bgcolor\":\"rgb(17,17,17)\",\"polar\":{\"bgcolor\":\"rgb(17,17,17)\",\"angularaxis\":{\"gridcolor\":\"#506784\",\"linecolor\":\"#506784\",\"ticks\":\"\"},\"radialaxis\":{\"gridcolor\":\"#506784\",\"linecolor\":\"#506784\",\"ticks\":\"\"}},\"ternary\":{\"bgcolor\":\"rgb(17,17,17)\",\"aaxis\":{\"gridcolor\":\"#506784\",\"linecolor\":\"#506784\",\"ticks\":\"\"},\"baxis\":{\"gridcolor\":\"#506784\",\"linecolor\":\"#506784\",\"ticks\":\"\"},\"caxis\":{\"gridcolor\":\"#506784\",\"linecolor\":\"#506784\",\"ticks\":\"\"}},\"coloraxis\":{\"colorbar\":{\"outlinewidth\":0,\"ticks\":\"\"}},\"colorscale\":{\"sequential\":[[0.0,\"#0d0887\"],[0.1111111111111111,\"#46039f\"],[0.2222222222222222,\"#7201a8\"],[0.3333333333333333,\"#9c179e\"],[0.4444444444444444,\"#bd3786\"],[0.5555555555555556,\"#d8576b\"],[0.6666666666666666,\"#ed7953\"],[0.7777777777777778,\"#fb9f3a\"],[0.8888888888888888,\"#fdca26\"],[1.0,\"#f0f921\"]],\"sequentialminus\":[[0.0,\"#0d0887\"],[0.1111111111111111,\"#46039f\"],[0.2222222222222222,\"#7201a8\"],[0.3333333333333333,\"#9c179e\"],[0.4444444444444444,\"#bd3786\"],[0.5555555555555556,\"#d8576b\"],[0.6666666666666666,\"#ed7953\"],[0.7777777777777778,\"#fb9f3a\"],[0.8888888888888888,\"#fdca26\"],[1.0,\"#f0f921\"]],\"diverging\":[[0,\"#8e0152\"],[0.1,\"#c51b7d\"],[0.2,\"#de77ae\"],[0.3,\"#f1b6da\"],[0.4,\"#fde0ef\"],[0.5,\"#f7f7f7\"],[0.6,\"#e6f5d0\"],[0.7,\"#b8e186\"],[0.8,\"#7fbc41\"],[0.9,\"#4d9221\"],[1,\"#276419\"]]},\"xaxis\":{\"gridcolor\":\"#283442\",\"linecolor\":\"#506784\",\"ticks\":\"\",\"title\":{\"standoff\":15},\"zerolinecolor\":\"#283442\",\"automargin\":true,\"zerolinewidth\":2},\"yaxis\":{\"gridcolor\":\"#283442\",\"linecolor\":\"#506784\",\"ticks\":\"\",\"title\":{\"standoff\":15},\"zerolinecolor\":\"#283442\",\"automargin\":true,\"zerolinewidth\":2},\"scene\":{\"xaxis\":{\"backgroundcolor\":\"rgb(17,17,17)\",\"gridcolor\":\"#506784\",\"linecolor\":\"#506784\",\"showbackground\":true,\"ticks\":\"\",\"zerolinecolor\":\"#C8D4E3\",\"gridwidth\":2},\"yaxis\":{\"backgroundcolor\":\"rgb(17,17,17)\",\"gridcolor\":\"#506784\",\"linecolor\":\"#506784\",\"showbackground\":true,\"ticks\":\"\",\"zerolinecolor\":\"#C8D4E3\",\"gridwidth\":2},\"zaxis\":{\"backgroundcolor\":\"rgb(17,17,17)\",\"gridcolor\":\"#506784\",\"linecolor\":\"#506784\",\"showbackground\":true,\"ticks\":\"\",\"zerolinecolor\":\"#C8D4E3\",\"gridwidth\":2}},\"shapedefaults\":{\"line\":{\"color\":\"#f2f5fa\"}},\"annotationdefaults\":{\"arrowcolor\":\"#f2f5fa\",\"arrowhead\":0,\"arrowwidth\":1},\"geo\":{\"bgcolor\":\"rgb(17,17,17)\",\"landcolor\":\"rgb(17,17,17)\",\"subunitcolor\":\"#506784\",\"showland\":true,\"showlakes\":true,\"lakecolor\":\"rgb(17,17,17)\"},\"title\":{\"x\":0.05},\"updatemenudefaults\":{\"bgcolor\":\"#506784\",\"borderwidth\":0},\"sliderdefaults\":{\"bgcolor\":\"#C8D4E3\",\"borderwidth\":1,\"bordercolor\":\"rgb(17,17,17)\",\"tickwidth\":0},\"mapbox\":{\"style\":\"dark\"}}},\"xaxis\":{\"anchor\":\"y\",\"domain\":[0.0,1.0],\"title\":{\"text\":\"Epochs\"}},\"yaxis\":{\"anchor\":\"x\",\"domain\":[0.0,1.0],\"title\":{\"text\":\"Loss\"}},\"legend\":{\"title\":{\"text\":\"Experiment\"},\"tracegroupgap\":0},\"title\":{\"text\":\"Test loss\"}},                        {\"responsive\": true}                    ).then(function(){\n                            \nvar gd = document.getElementById('33eb40b5-6c5b-4c23-a1f2-cdcb9490bf5e');\nvar x = new MutationObserver(function (mutations, observer) {{\n        var display = window.getComputedStyle(gd).display;\n        if (!display || display === 'none') {{\n            console.log([gd, 'removed!']);\n            Plotly.purge(gd);\n            observer.disconnect();\n        }}\n}});\n\n// Listen for the removal of the full notebook cells\nvar notebookContainer = gd.closest('#notebook-container');\nif (notebookContainer) {{\n    x.observe(notebookContainer, {childList: true});\n}}\n\n// Listen for the clearing of the current output cell\nvar outputEl = gd.closest('.output');\nif (outputEl) {{\n    x.observe(outputEl, {childList: true});\n}}\n\n                        })                };                });            </script>        </div>"
     },
     "metadata": {},
     "output_type": "display_data"
    }
   ],
   "source": [
    "visualize(['TOP5'], names=[\"lr = 7, batch = 90\", \"lr = 7.25, batch = 90\", \"lr = 7, batch = 80\", \"lr = 7.25, batch = 70\", \"lr = 7.5, batch = 70\"])"
   ],
   "metadata": {
    "collapsed": false,
    "ExecuteTime": {
     "end_time": "2024-11-18T16:04:48.894225Z",
     "start_time": "2024-11-18T16:04:43.486612Z"
    }
   },
   "execution_count": 35
  },
  {
   "cell_type": "markdown",
   "source": [
    "Each of these five models is well-designed, but I chose the one with a learning rate of 7 and a batch size of 80. This model stood out as the most stable across varying weights and biases among the five."
   ],
   "metadata": {
    "collapsed": false
   }
  },
  {
   "cell_type": "markdown",
   "source": [
    "# Final model"
   ],
   "metadata": {
    "collapsed": false
   }
  },
  {
   "cell_type": "markdown",
   "source": [
    "I trained 5 best models with the same hyperparameters, different weights and biases."
   ],
   "metadata": {
    "collapsed": false
   }
  },
  {
   "cell_type": "code",
   "outputs": [
    {
     "output_type": "stream",
     "name": "stdout",
     "text": [
      "Epoch: 0, Accuracy: 0.1008, Loss: 26.174662328225352\n",
      "Epoch: 1, Accuracy: 0.1186, Loss: 0.682991151171573\n",
      "Epoch: 2, Accuracy: 0.9262, Loss: 0.4484778552671439\n",
      "Epoch: 3, Accuracy: 0.938, Loss: 0.35945946583886906\n",
      "Epoch: 4, Accuracy: 0.9432, Loss: 0.2846441953238845\n",
      "Epoch: 5, Accuracy: 0.9451, Loss: 0.244059667289687\n",
      "Epoch: 6, Accuracy: 0.946, Loss: 0.21695353404727852\n",
      "Epoch: 7, Accuracy: 0.9495, Loss: 0.19239173031974433\n",
      "Epoch: 8, Accuracy: 0.9522, Loss: 0.17744239332229061\n",
      "Epoch: 9, Accuracy: 0.9517, Loss: 0.16429179786790576\n",
      "Epoch: 10, Accuracy: 0.9508, Loss: 0.1525863961521364\n",
      "Epoch: 11, Accuracy: 0.9502, Loss: 0.1466160986056552\n",
      "Epoch: 12, Accuracy: 0.9528, Loss: 0.13783791311872948\n",
      "Epoch: 13, Accuracy: 0.952, Loss: 0.1317879513312733\n",
      "Epoch: 14, Accuracy: 0.9526, Loss: 0.126572961332525\n",
      "Epoch: 15, Accuracy: 0.9537, Loss: 0.1203988884062331\n",
      "Epoch: 16, Accuracy: 0.9536, Loss: 0.11475299032144798\n",
      "Epoch: 17, Accuracy: 0.9533, Loss: 0.11077430476435304\n",
      "Epoch: 18, Accuracy: 0.9529, Loss: 0.10734462223869026\n",
      "Epoch: 19, Accuracy: 0.9528, Loss: 0.1050180349885434\n",
      "Epoch: 20, Accuracy: 0.9526, Loss: 0.10279432030201141\n",
      "Epoch: 0, Accuracy: 0.0941, Loss: 30.27163667590219\n",
      "Epoch: 1, Accuracy: 0.8179, Loss: 2.465454154311319\n",
      "Epoch: 2, Accuracy: 0.913, Loss: 1.3394908757052246\n",
      "Epoch: 3, Accuracy: 0.9354, Loss: 0.4172620025617883\n",
      "Epoch: 4, Accuracy: 0.9435, Loss: 0.31145119767761714\n",
      "Epoch: 5, Accuracy: 0.9431, Loss: 0.26141264439764944\n",
      "Epoch: 6, Accuracy: 0.9456, Loss: 0.22647828313844362\n",
      "Epoch: 7, Accuracy: 0.9475, Loss: 0.20172087250020745\n",
      "Epoch: 8, Accuracy: 0.9485, Loss: 0.18834089005258264\n",
      "Epoch: 9, Accuracy: 0.9514, Loss: 0.17359729389013492\n",
      "Epoch: 10, Accuracy: 0.9508, Loss: 0.16076639617613706\n",
      "Epoch: 11, Accuracy: 0.9509, Loss: 0.15411277822894434\n",
      "Epoch: 12, Accuracy: 0.9523, Loss: 0.14520818996634446\n",
      "Epoch: 13, Accuracy: 0.9509, Loss: 0.13923794578960771\n",
      "Epoch: 14, Accuracy: 0.9505, Loss: 0.13260191351298817\n",
      "Epoch: 15, Accuracy: 0.9512, Loss: 0.12646619749596175\n",
      "Epoch: 16, Accuracy: 0.952, Loss: 0.12222222324225904\n",
      "Epoch: 17, Accuracy: 0.9516, Loss: 0.11857418621578898\n",
      "Epoch: 18, Accuracy: 0.9507, Loss: 0.11634188959568528\n",
      "Epoch: 19, Accuracy: 0.9512, Loss: 0.11457983389648763\n",
      "Epoch: 20, Accuracy: 0.9513, Loss: 0.11263989365052807\n",
      "Epoch: 0, Accuracy: 0.1012, Loss: 29.03026877275079\n",
      "Epoch: 1, Accuracy: 0.9094, Loss: 1.3638800946271104\n",
      "Epoch: 2, Accuracy: 0.933, Loss: 0.3896299182272372\n",
      "Epoch: 3, Accuracy: 0.9422, Loss: 0.2998448298112453\n",
      "Epoch: 4, Accuracy: 0.9478, Loss: 0.24933906204210474\n",
      "Epoch: 5, Accuracy: 0.9475, Loss: 0.2199035027156486\n",
      "Epoch: 6, Accuracy: 0.9491, Loss: 0.19790691230100976\n",
      "Epoch: 7, Accuracy: 0.9509, Loss: 0.18023289351712157\n",
      "Epoch: 8, Accuracy: 0.9499, Loss: 0.16758594287586673\n",
      "Epoch: 9, Accuracy: 0.9522, Loss: 0.15433092610275864\n",
      "Epoch: 10, Accuracy: 0.9539, Loss: 0.14348876909632635\n",
      "Epoch: 11, Accuracy: 0.9557, Loss: 0.13521986604091513\n",
      "Epoch: 12, Accuracy: 0.9556, Loss: 0.12977107147092104\n",
      "Epoch: 13, Accuracy: 0.9568, Loss: 0.12415810089328456\n",
      "Epoch: 14, Accuracy: 0.9566, Loss: 0.11791432449345751\n",
      "Epoch: 15, Accuracy: 0.9563, Loss: 0.11354104523720264\n",
      "Epoch: 16, Accuracy: 0.9559, Loss: 0.1104835649017369\n",
      "Epoch: 17, Accuracy: 0.9565, Loss: 0.10770698404005151\n",
      "Epoch: 18, Accuracy: 0.957, Loss: 0.10565487372309544\n",
      "Epoch: 19, Accuracy: 0.9571, Loss: 0.10417592648187249\n",
      "Epoch: 20, Accuracy: 0.9558, Loss: 0.10241499586112524\n",
      "Epoch: 0, Accuracy: 0.1146, Loss: 15.531093914114082\n",
      "Epoch: 1, Accuracy: 0.917, Loss: 0.6350108903809838\n",
      "Epoch: 2, Accuracy: 0.9324, Loss: 0.36140801160180064\n",
      "Epoch: 3, Accuracy: 0.939, Loss: 0.2764355427359953\n",
      "Epoch: 4, Accuracy: 0.9437, Loss: 0.22944033788237914\n",
      "Epoch: 5, Accuracy: 0.9482, Loss: 0.2054331580201036\n",
      "Epoch: 6, Accuracy: 0.9505, Loss: 0.1881017595082898\n",
      "Epoch: 7, Accuracy: 0.953, Loss: 0.17328182389426813\n",
      "Epoch: 8, Accuracy: 0.9533, Loss: 0.16258990442867244\n",
      "Epoch: 9, Accuracy: 0.9552, Loss: 0.1522363796790472\n",
      "Epoch: 10, Accuracy: 0.9524, Loss: 0.14207212876211756\n",
      "Epoch: 11, Accuracy: 0.9533, Loss: 0.13300832417196307\n",
      "Epoch: 12, Accuracy: 0.9519, Loss: 0.12379345464393066\n",
      "Epoch: 13, Accuracy: 0.9528, Loss: 0.11846438734121083\n",
      "Epoch: 14, Accuracy: 0.953, Loss: 0.11298431198503774\n",
      "Epoch: 15, Accuracy: 0.9528, Loss: 0.1099983442315204\n",
      "Epoch: 16, Accuracy: 0.954, Loss: 0.10633807724730682\n",
      "Epoch: 17, Accuracy: 0.9534, Loss: 0.10331080228943648\n",
      "Epoch: 18, Accuracy: 0.9542, Loss: 0.10087697940701679\n",
      "Epoch: 19, Accuracy: 0.954, Loss: 0.0994680457372085\n",
      "Epoch: 20, Accuracy: 0.954, Loss: 0.09820447176431833\n",
      "Epoch: 0, Accuracy: 0.0878, Loss: 23.666942726284848\n",
      "Epoch: 1, Accuracy: 0.0982, Loss: 1.4633817193334497\n",
      "Epoch: 2, Accuracy: 0.2562, Loss: 0.42706566935588636\n",
      "Epoch: 3, Accuracy: 0.9348, Loss: 0.49662644659727523\n",
      "Epoch: 4, Accuracy: 0.9406, Loss: 0.354155407467604\n",
      "Epoch: 5, Accuracy: 0.9443, Loss: 0.28496633379205694\n",
      "Epoch: 6, Accuracy: 0.9467, Loss: 0.25299531262812947\n",
      "Epoch: 7, Accuracy: 0.9503, Loss: 0.2304004776195882\n",
      "Epoch: 8, Accuracy: 0.9518, Loss: 0.21268856171861691\n",
      "Epoch: 9, Accuracy: 0.9501, Loss: 0.19366313657453899\n",
      "Epoch: 10, Accuracy: 0.9513, Loss: 0.1791048662092011\n",
      "Epoch: 11, Accuracy: 0.9501, Loss: 0.16996352237770335\n",
      "Epoch: 12, Accuracy: 0.951, Loss: 0.16103373113111843\n",
      "Epoch: 13, Accuracy: 0.952, Loss: 0.15374482569909692\n",
      "Epoch: 14, Accuracy: 0.9529, Loss: 0.14550533165946383\n",
      "Epoch: 15, Accuracy: 0.9529, Loss: 0.14153626823194845\n",
      "Epoch: 16, Accuracy: 0.9526, Loss: 0.136308006147046\n",
      "Epoch: 17, Accuracy: 0.9526, Loss: 0.13298285980781344\n",
      "Epoch: 18, Accuracy: 0.9532, Loss: 0.1304312912308625\n",
      "Epoch: 19, Accuracy: 0.9532, Loss: 0.1285617546481206\n",
      "Epoch: 20, Accuracy: 0.9542, Loss: 0.12689737998790257\n"
     ]
    }
   ],
   "source": [
    "### Your code goes here ###\n",
    "\n",
    "# Parameters for the best Proxprop model.\n",
    "params = {\"structure\": [784, 132, 132, 10], \"learning_rate\": 7, \"batch_size\": 80, \"epochs\": 20}\n",
    "\n",
    "\n",
    "for i in range(5):\n",
    "    task = Task.create(project_name='DNN_projekt1_moje_testy', task_name=\"Final net \" + str(i + 1))\n",
    "    task.mark_started()\n",
    "    logger = task.get_logger()\n",
    "    task.connect(params)\n",
    "\n",
    "\n",
    "    network = ProxProp(params['structure'])\n",
    "    network.SGD(\n",
    "        (x_train, y_train),\n",
    "        epochs=params['epochs'],\n",
    "        mini_batch_size=params['batch_size'],\n",
    "        eta=params['learning_rate'],\n",
    "        test_data=(x_test, y_test),\n",
    "        logger=logger\n",
    "    )\n",
    "    task.mark_completed()\n",
    "    task.close()\n",
    "###########################"
   ],
   "metadata": {
    "ExecuteTime": {
     "end_time": "2024-11-15T18:01:36.901864Z",
     "start_time": "2024-11-15T18:01:29.064148Z"
    },
    "colab": {
     "base_uri": "https://localhost:8080/"
    },
    "id": "jZiU0ppNfxaI",
    "executionInfo": {
     "status": "ok",
     "timestamp": 1731848144149,
     "user_tz": -60,
     "elapsed": 3229263,
     "user": {
      "displayName": "Juliusz Pawlus",
      "userId": "04893540272096859836"
     }
    },
    "outputId": "1619692a-51c7-4279-f831-27fb3e22827a"
   },
   "execution_count": 15
  },
  {
   "cell_type": "markdown",
   "source": [
    "Results:"
   ],
   "metadata": {
    "collapsed": false
   }
  },
  {
   "cell_type": "code",
   "outputs": [
    {
     "data": {
      "application/vnd.plotly.v1+json": {
       "data": [
        {
         "hovertemplate": "Experiment=0<br>Epochs=%{x}<br>Accuracy [%]=%{y}<extra></extra>",
         "legendgroup": "0",
         "line": {
          "color": "#636efa",
          "dash": "solid"
         },
         "marker": {
          "symbol": "circle"
         },
         "mode": "lines",
         "name": "0",
         "orientation": "v",
         "showlegend": true,
         "x": [
          0,
          1,
          2,
          3,
          4,
          5,
          6,
          7,
          8,
          9,
          10,
          11,
          12,
          13,
          14,
          15,
          16,
          17,
          18,
          19,
          20
         ],
         "xaxis": "x",
         "y": [
          0.10080000013113022,
          0.11860000342130661,
          0.9261999726295471,
          0.9380000233650208,
          0.9431999921798706,
          0.9451000094413757,
          0.9459999799728394,
          0.9495000243186951,
          0.9521999955177307,
          0.95169997215271,
          0.9508000016212463,
          0.9502000212669373,
          0.9527999758720398,
          0.9520000219345093,
          0.9526000022888184,
          0.9537000060081482,
          0.9535999894142151,
          0.9532999992370605,
          0.9528999924659729,
          0.9527999758720398,
          0.9526000022888184
         ],
         "yaxis": "y",
         "type": "scatter"
        },
        {
         "hovertemplate": "Experiment=1<br>Epochs=%{x}<br>Accuracy [%]=%{y}<extra></extra>",
         "legendgroup": "1",
         "line": {
          "color": "#EF553B",
          "dash": "solid"
         },
         "marker": {
          "symbol": "circle"
         },
         "mode": "lines",
         "name": "1",
         "orientation": "v",
         "showlegend": true,
         "x": [
          0,
          1,
          2,
          3,
          4,
          5,
          6,
          7,
          8,
          9,
          10,
          11,
          12,
          13,
          14,
          15,
          16,
          17,
          18,
          19,
          20
         ],
         "xaxis": "x",
         "y": [
          0.0940999984741211,
          0.8179000020027161,
          0.9129999876022339,
          0.9354000091552734,
          0.9434999823570251,
          0.9430999755859375,
          0.9455999732017517,
          0.9474999904632568,
          0.9484999775886536,
          0.9513999819755554,
          0.9508000016212463,
          0.9509000182151794,
          0.9523000121116638,
          0.9509000182151794,
          0.9505000114440918,
          0.951200008392334,
          0.9520000219345093,
          0.9516000151634216,
          0.9506999850273132,
          0.951200008392334,
          0.9513000249862671
         ],
         "yaxis": "y",
         "type": "scatter"
        },
        {
         "hovertemplate": "Experiment=2<br>Epochs=%{x}<br>Accuracy [%]=%{y}<extra></extra>",
         "legendgroup": "2",
         "line": {
          "color": "#00cc96",
          "dash": "solid"
         },
         "marker": {
          "symbol": "circle"
         },
         "mode": "lines",
         "name": "2",
         "orientation": "v",
         "showlegend": true,
         "x": [
          0,
          1,
          2,
          3,
          4,
          5,
          6,
          7,
          8,
          9,
          10,
          11,
          12,
          13,
          14,
          15,
          16,
          17,
          18,
          19,
          20
         ],
         "xaxis": "x",
         "y": [
          0.10119999945163727,
          0.9093999862670898,
          0.9330000281333923,
          0.9422000050544739,
          0.9477999806404114,
          0.9474999904632568,
          0.9491000175476074,
          0.9509000182151794,
          0.9498999714851379,
          0.9521999955177307,
          0.9538999795913696,
          0.9556999802589417,
          0.9556000232696533,
          0.9567999839782715,
          0.95660001039505,
          0.9563000202178955,
          0.9559000134468079,
          0.9564999938011169,
          0.9570000171661377,
          0.957099974155426,
          0.9557999968528748
         ],
         "yaxis": "y",
         "type": "scatter"
        },
        {
         "hovertemplate": "Experiment=3<br>Epochs=%{x}<br>Accuracy [%]=%{y}<extra></extra>",
         "legendgroup": "3",
         "line": {
          "color": "#ab63fa",
          "dash": "solid"
         },
         "marker": {
          "symbol": "circle"
         },
         "mode": "lines",
         "name": "3",
         "orientation": "v",
         "showlegend": true,
         "x": [
          0,
          1,
          2,
          3,
          4,
          5,
          6,
          7,
          8,
          9,
          10,
          11,
          12,
          13,
          14,
          15,
          16,
          17,
          18,
          19,
          20
         ],
         "xaxis": "x",
         "y": [
          0.11460000276565552,
          0.9169999957084656,
          0.9323999881744385,
          0.9390000104904175,
          0.9437000155448914,
          0.948199987411499,
          0.9505000114440918,
          0.953000009059906,
          0.9532999992370605,
          0.9552000164985657,
          0.9524000287055969,
          0.9532999992370605,
          0.9519000053405762,
          0.9527999758720398,
          0.953000009059906,
          0.9527999758720398,
          0.9539999961853027,
          0.9534000158309937,
          0.954200029373169,
          0.9539999961853027,
          0.9539999961853027
         ],
         "yaxis": "y",
         "type": "scatter"
        },
        {
         "hovertemplate": "Experiment=4<br>Epochs=%{x}<br>Accuracy [%]=%{y}<extra></extra>",
         "legendgroup": "4",
         "line": {
          "color": "#FFA15A",
          "dash": "solid"
         },
         "marker": {
          "symbol": "circle"
         },
         "mode": "lines",
         "name": "4",
         "orientation": "v",
         "showlegend": true,
         "x": [
          0,
          1,
          2,
          3,
          4,
          5,
          6,
          7,
          8,
          9,
          10,
          11,
          12,
          13,
          14,
          15,
          16,
          17,
          18,
          19,
          20
         ],
         "xaxis": "x",
         "y": [
          0.08780000358819962,
          0.0982000008225441,
          0.25619998574256897,
          0.9348000288009644,
          0.9405999779701233,
          0.9442999958992004,
          0.9466999769210815,
          0.9502999782562256,
          0.9517999887466431,
          0.9501000046730042,
          0.9513000249862671,
          0.9501000046730042,
          0.9509999752044678,
          0.9520000219345093,
          0.9528999924659729,
          0.9528999924659729,
          0.9526000022888184,
          0.9526000022888184,
          0.9531999826431274,
          0.9531999826431274,
          0.954200029373169
         ],
         "yaxis": "y",
         "type": "scatter"
        }
       ],
       "layout": {
        "template": {
         "data": {
          "histogram2dcontour": [
           {
            "type": "histogram2dcontour",
            "colorbar": {
             "outlinewidth": 0,
             "ticks": ""
            },
            "colorscale": [
             [
              0.0,
              "#0d0887"
             ],
             [
              0.1111111111111111,
              "#46039f"
             ],
             [
              0.2222222222222222,
              "#7201a8"
             ],
             [
              0.3333333333333333,
              "#9c179e"
             ],
             [
              0.4444444444444444,
              "#bd3786"
             ],
             [
              0.5555555555555556,
              "#d8576b"
             ],
             [
              0.6666666666666666,
              "#ed7953"
             ],
             [
              0.7777777777777778,
              "#fb9f3a"
             ],
             [
              0.8888888888888888,
              "#fdca26"
             ],
             [
              1.0,
              "#f0f921"
             ]
            ]
           }
          ],
          "choropleth": [
           {
            "type": "choropleth",
            "colorbar": {
             "outlinewidth": 0,
             "ticks": ""
            }
           }
          ],
          "histogram2d": [
           {
            "type": "histogram2d",
            "colorbar": {
             "outlinewidth": 0,
             "ticks": ""
            },
            "colorscale": [
             [
              0.0,
              "#0d0887"
             ],
             [
              0.1111111111111111,
              "#46039f"
             ],
             [
              0.2222222222222222,
              "#7201a8"
             ],
             [
              0.3333333333333333,
              "#9c179e"
             ],
             [
              0.4444444444444444,
              "#bd3786"
             ],
             [
              0.5555555555555556,
              "#d8576b"
             ],
             [
              0.6666666666666666,
              "#ed7953"
             ],
             [
              0.7777777777777778,
              "#fb9f3a"
             ],
             [
              0.8888888888888888,
              "#fdca26"
             ],
             [
              1.0,
              "#f0f921"
             ]
            ]
           }
          ],
          "heatmap": [
           {
            "type": "heatmap",
            "colorbar": {
             "outlinewidth": 0,
             "ticks": ""
            },
            "colorscale": [
             [
              0.0,
              "#0d0887"
             ],
             [
              0.1111111111111111,
              "#46039f"
             ],
             [
              0.2222222222222222,
              "#7201a8"
             ],
             [
              0.3333333333333333,
              "#9c179e"
             ],
             [
              0.4444444444444444,
              "#bd3786"
             ],
             [
              0.5555555555555556,
              "#d8576b"
             ],
             [
              0.6666666666666666,
              "#ed7953"
             ],
             [
              0.7777777777777778,
              "#fb9f3a"
             ],
             [
              0.8888888888888888,
              "#fdca26"
             ],
             [
              1.0,
              "#f0f921"
             ]
            ]
           }
          ],
          "heatmapgl": [
           {
            "type": "heatmapgl",
            "colorbar": {
             "outlinewidth": 0,
             "ticks": ""
            },
            "colorscale": [
             [
              0.0,
              "#0d0887"
             ],
             [
              0.1111111111111111,
              "#46039f"
             ],
             [
              0.2222222222222222,
              "#7201a8"
             ],
             [
              0.3333333333333333,
              "#9c179e"
             ],
             [
              0.4444444444444444,
              "#bd3786"
             ],
             [
              0.5555555555555556,
              "#d8576b"
             ],
             [
              0.6666666666666666,
              "#ed7953"
             ],
             [
              0.7777777777777778,
              "#fb9f3a"
             ],
             [
              0.8888888888888888,
              "#fdca26"
             ],
             [
              1.0,
              "#f0f921"
             ]
            ]
           }
          ],
          "contourcarpet": [
           {
            "type": "contourcarpet",
            "colorbar": {
             "outlinewidth": 0,
             "ticks": ""
            }
           }
          ],
          "contour": [
           {
            "type": "contour",
            "colorbar": {
             "outlinewidth": 0,
             "ticks": ""
            },
            "colorscale": [
             [
              0.0,
              "#0d0887"
             ],
             [
              0.1111111111111111,
              "#46039f"
             ],
             [
              0.2222222222222222,
              "#7201a8"
             ],
             [
              0.3333333333333333,
              "#9c179e"
             ],
             [
              0.4444444444444444,
              "#bd3786"
             ],
             [
              0.5555555555555556,
              "#d8576b"
             ],
             [
              0.6666666666666666,
              "#ed7953"
             ],
             [
              0.7777777777777778,
              "#fb9f3a"
             ],
             [
              0.8888888888888888,
              "#fdca26"
             ],
             [
              1.0,
              "#f0f921"
             ]
            ]
           }
          ],
          "surface": [
           {
            "type": "surface",
            "colorbar": {
             "outlinewidth": 0,
             "ticks": ""
            },
            "colorscale": [
             [
              0.0,
              "#0d0887"
             ],
             [
              0.1111111111111111,
              "#46039f"
             ],
             [
              0.2222222222222222,
              "#7201a8"
             ],
             [
              0.3333333333333333,
              "#9c179e"
             ],
             [
              0.4444444444444444,
              "#bd3786"
             ],
             [
              0.5555555555555556,
              "#d8576b"
             ],
             [
              0.6666666666666666,
              "#ed7953"
             ],
             [
              0.7777777777777778,
              "#fb9f3a"
             ],
             [
              0.8888888888888888,
              "#fdca26"
             ],
             [
              1.0,
              "#f0f921"
             ]
            ]
           }
          ],
          "mesh3d": [
           {
            "type": "mesh3d",
            "colorbar": {
             "outlinewidth": 0,
             "ticks": ""
            }
           }
          ],
          "scatter": [
           {
            "marker": {
             "line": {
              "color": "#283442"
             }
            },
            "type": "scatter"
           }
          ],
          "parcoords": [
           {
            "type": "parcoords",
            "line": {
             "colorbar": {
              "outlinewidth": 0,
              "ticks": ""
             }
            }
           }
          ],
          "scatterpolargl": [
           {
            "type": "scatterpolargl",
            "marker": {
             "colorbar": {
              "outlinewidth": 0,
              "ticks": ""
             }
            }
           }
          ],
          "bar": [
           {
            "error_x": {
             "color": "#f2f5fa"
            },
            "error_y": {
             "color": "#f2f5fa"
            },
            "marker": {
             "line": {
              "color": "rgb(17,17,17)",
              "width": 0.5
             },
             "pattern": {
              "fillmode": "overlay",
              "size": 10,
              "solidity": 0.2
             }
            },
            "type": "bar"
           }
          ],
          "scattergeo": [
           {
            "type": "scattergeo",
            "marker": {
             "colorbar": {
              "outlinewidth": 0,
              "ticks": ""
             }
            }
           }
          ],
          "scatterpolar": [
           {
            "type": "scatterpolar",
            "marker": {
             "colorbar": {
              "outlinewidth": 0,
              "ticks": ""
             }
            }
           }
          ],
          "histogram": [
           {
            "marker": {
             "pattern": {
              "fillmode": "overlay",
              "size": 10,
              "solidity": 0.2
             }
            },
            "type": "histogram"
           }
          ],
          "scattergl": [
           {
            "marker": {
             "line": {
              "color": "#283442"
             }
            },
            "type": "scattergl"
           }
          ],
          "scatter3d": [
           {
            "type": "scatter3d",
            "line": {
             "colorbar": {
              "outlinewidth": 0,
              "ticks": ""
             }
            },
            "marker": {
             "colorbar": {
              "outlinewidth": 0,
              "ticks": ""
             }
            }
           }
          ],
          "scattermapbox": [
           {
            "type": "scattermapbox",
            "marker": {
             "colorbar": {
              "outlinewidth": 0,
              "ticks": ""
             }
            }
           }
          ],
          "scatterternary": [
           {
            "type": "scatterternary",
            "marker": {
             "colorbar": {
              "outlinewidth": 0,
              "ticks": ""
             }
            }
           }
          ],
          "scattercarpet": [
           {
            "type": "scattercarpet",
            "marker": {
             "colorbar": {
              "outlinewidth": 0,
              "ticks": ""
             }
            }
           }
          ],
          "carpet": [
           {
            "aaxis": {
             "endlinecolor": "#A2B1C6",
             "gridcolor": "#506784",
             "linecolor": "#506784",
             "minorgridcolor": "#506784",
             "startlinecolor": "#A2B1C6"
            },
            "baxis": {
             "endlinecolor": "#A2B1C6",
             "gridcolor": "#506784",
             "linecolor": "#506784",
             "minorgridcolor": "#506784",
             "startlinecolor": "#A2B1C6"
            },
            "type": "carpet"
           }
          ],
          "table": [
           {
            "cells": {
             "fill": {
              "color": "#506784"
             },
             "line": {
              "color": "rgb(17,17,17)"
             }
            },
            "header": {
             "fill": {
              "color": "#2a3f5f"
             },
             "line": {
              "color": "rgb(17,17,17)"
             }
            },
            "type": "table"
           }
          ],
          "barpolar": [
           {
            "marker": {
             "line": {
              "color": "rgb(17,17,17)",
              "width": 0.5
             },
             "pattern": {
              "fillmode": "overlay",
              "size": 10,
              "solidity": 0.2
             }
            },
            "type": "barpolar"
           }
          ],
          "pie": [
           {
            "automargin": true,
            "type": "pie"
           }
          ]
         },
         "layout": {
          "autotypenumbers": "strict",
          "colorway": [
           "#636efa",
           "#EF553B",
           "#00cc96",
           "#ab63fa",
           "#FFA15A",
           "#19d3f3",
           "#FF6692",
           "#B6E880",
           "#FF97FF",
           "#FECB52"
          ],
          "font": {
           "color": "#f2f5fa"
          },
          "hovermode": "closest",
          "hoverlabel": {
           "align": "left"
          },
          "paper_bgcolor": "rgb(17,17,17)",
          "plot_bgcolor": "rgb(17,17,17)",
          "polar": {
           "bgcolor": "rgb(17,17,17)",
           "angularaxis": {
            "gridcolor": "#506784",
            "linecolor": "#506784",
            "ticks": ""
           },
           "radialaxis": {
            "gridcolor": "#506784",
            "linecolor": "#506784",
            "ticks": ""
           }
          },
          "ternary": {
           "bgcolor": "rgb(17,17,17)",
           "aaxis": {
            "gridcolor": "#506784",
            "linecolor": "#506784",
            "ticks": ""
           },
           "baxis": {
            "gridcolor": "#506784",
            "linecolor": "#506784",
            "ticks": ""
           },
           "caxis": {
            "gridcolor": "#506784",
            "linecolor": "#506784",
            "ticks": ""
           }
          },
          "coloraxis": {
           "colorbar": {
            "outlinewidth": 0,
            "ticks": ""
           }
          },
          "colorscale": {
           "sequential": [
            [
             0.0,
             "#0d0887"
            ],
            [
             0.1111111111111111,
             "#46039f"
            ],
            [
             0.2222222222222222,
             "#7201a8"
            ],
            [
             0.3333333333333333,
             "#9c179e"
            ],
            [
             0.4444444444444444,
             "#bd3786"
            ],
            [
             0.5555555555555556,
             "#d8576b"
            ],
            [
             0.6666666666666666,
             "#ed7953"
            ],
            [
             0.7777777777777778,
             "#fb9f3a"
            ],
            [
             0.8888888888888888,
             "#fdca26"
            ],
            [
             1.0,
             "#f0f921"
            ]
           ],
           "sequentialminus": [
            [
             0.0,
             "#0d0887"
            ],
            [
             0.1111111111111111,
             "#46039f"
            ],
            [
             0.2222222222222222,
             "#7201a8"
            ],
            [
             0.3333333333333333,
             "#9c179e"
            ],
            [
             0.4444444444444444,
             "#bd3786"
            ],
            [
             0.5555555555555556,
             "#d8576b"
            ],
            [
             0.6666666666666666,
             "#ed7953"
            ],
            [
             0.7777777777777778,
             "#fb9f3a"
            ],
            [
             0.8888888888888888,
             "#fdca26"
            ],
            [
             1.0,
             "#f0f921"
            ]
           ],
           "diverging": [
            [
             0,
             "#8e0152"
            ],
            [
             0.1,
             "#c51b7d"
            ],
            [
             0.2,
             "#de77ae"
            ],
            [
             0.3,
             "#f1b6da"
            ],
            [
             0.4,
             "#fde0ef"
            ],
            [
             0.5,
             "#f7f7f7"
            ],
            [
             0.6,
             "#e6f5d0"
            ],
            [
             0.7,
             "#b8e186"
            ],
            [
             0.8,
             "#7fbc41"
            ],
            [
             0.9,
             "#4d9221"
            ],
            [
             1,
             "#276419"
            ]
           ]
          },
          "xaxis": {
           "gridcolor": "#283442",
           "linecolor": "#506784",
           "ticks": "",
           "title": {
            "standoff": 15
           },
           "zerolinecolor": "#283442",
           "automargin": true,
           "zerolinewidth": 2
          },
          "yaxis": {
           "gridcolor": "#283442",
           "linecolor": "#506784",
           "ticks": "",
           "title": {
            "standoff": 15
           },
           "zerolinecolor": "#283442",
           "automargin": true,
           "zerolinewidth": 2
          },
          "scene": {
           "xaxis": {
            "backgroundcolor": "rgb(17,17,17)",
            "gridcolor": "#506784",
            "linecolor": "#506784",
            "showbackground": true,
            "ticks": "",
            "zerolinecolor": "#C8D4E3",
            "gridwidth": 2
           },
           "yaxis": {
            "backgroundcolor": "rgb(17,17,17)",
            "gridcolor": "#506784",
            "linecolor": "#506784",
            "showbackground": true,
            "ticks": "",
            "zerolinecolor": "#C8D4E3",
            "gridwidth": 2
           },
           "zaxis": {
            "backgroundcolor": "rgb(17,17,17)",
            "gridcolor": "#506784",
            "linecolor": "#506784",
            "showbackground": true,
            "ticks": "",
            "zerolinecolor": "#C8D4E3",
            "gridwidth": 2
           }
          },
          "shapedefaults": {
           "line": {
            "color": "#f2f5fa"
           }
          },
          "annotationdefaults": {
           "arrowcolor": "#f2f5fa",
           "arrowhead": 0,
           "arrowwidth": 1
          },
          "geo": {
           "bgcolor": "rgb(17,17,17)",
           "landcolor": "rgb(17,17,17)",
           "subunitcolor": "#506784",
           "showland": true,
           "showlakes": true,
           "lakecolor": "rgb(17,17,17)"
          },
          "title": {
           "x": 0.05
          },
          "updatemenudefaults": {
           "bgcolor": "#506784",
           "borderwidth": 0
          },
          "sliderdefaults": {
           "bgcolor": "#C8D4E3",
           "borderwidth": 1,
           "bordercolor": "rgb(17,17,17)",
           "tickwidth": 0
          },
          "mapbox": {
           "style": "dark"
          }
         }
        },
        "xaxis": {
         "anchor": "y",
         "domain": [
          0.0,
          1.0
         ],
         "title": {
          "text": "Epochs"
         }
        },
        "yaxis": {
         "anchor": "x",
         "domain": [
          0.0,
          1.0
         ],
         "title": {
          "text": "Accuracy [%]"
         }
        },
        "legend": {
         "title": {
          "text": "Experiment"
         },
         "tracegroupgap": 0
        },
        "title": {
         "text": "Test accuracy"
        }
       },
       "config": {
        "plotlyServerURL": "https://plot.ly"
       }
      },
      "text/html": "<div>                            <div id=\"33290ecb-c3d6-4d1b-b672-b082c8d19392\" class=\"plotly-graph-div\" style=\"height:525px; width:100%;\"></div>            <script type=\"text/javascript\">                require([\"plotly\"], function(Plotly) {                    window.PLOTLYENV=window.PLOTLYENV || {};                                    if (document.getElementById(\"33290ecb-c3d6-4d1b-b672-b082c8d19392\")) {                    Plotly.newPlot(                        \"33290ecb-c3d6-4d1b-b672-b082c8d19392\",                        [{\"hovertemplate\":\"Experiment=0\\u003cbr\\u003eEpochs=%{x}\\u003cbr\\u003eAccuracy [%]=%{y}\\u003cextra\\u003e\\u003c\\u002fextra\\u003e\",\"legendgroup\":\"0\",\"line\":{\"color\":\"#636efa\",\"dash\":\"solid\"},\"marker\":{\"symbol\":\"circle\"},\"mode\":\"lines\",\"name\":\"0\",\"orientation\":\"v\",\"showlegend\":true,\"x\":[0,1,2,3,4,5,6,7,8,9,10,11,12,13,14,15,16,17,18,19,20],\"xaxis\":\"x\",\"y\":[0.10080000013113022,0.11860000342130661,0.9261999726295471,0.9380000233650208,0.9431999921798706,0.9451000094413757,0.9459999799728394,0.9495000243186951,0.9521999955177307,0.95169997215271,0.9508000016212463,0.9502000212669373,0.9527999758720398,0.9520000219345093,0.9526000022888184,0.9537000060081482,0.9535999894142151,0.9532999992370605,0.9528999924659729,0.9527999758720398,0.9526000022888184],\"yaxis\":\"y\",\"type\":\"scatter\"},{\"hovertemplate\":\"Experiment=1\\u003cbr\\u003eEpochs=%{x}\\u003cbr\\u003eAccuracy [%]=%{y}\\u003cextra\\u003e\\u003c\\u002fextra\\u003e\",\"legendgroup\":\"1\",\"line\":{\"color\":\"#EF553B\",\"dash\":\"solid\"},\"marker\":{\"symbol\":\"circle\"},\"mode\":\"lines\",\"name\":\"1\",\"orientation\":\"v\",\"showlegend\":true,\"x\":[0,1,2,3,4,5,6,7,8,9,10,11,12,13,14,15,16,17,18,19,20],\"xaxis\":\"x\",\"y\":[0.0940999984741211,0.8179000020027161,0.9129999876022339,0.9354000091552734,0.9434999823570251,0.9430999755859375,0.9455999732017517,0.9474999904632568,0.9484999775886536,0.9513999819755554,0.9508000016212463,0.9509000182151794,0.9523000121116638,0.9509000182151794,0.9505000114440918,0.951200008392334,0.9520000219345093,0.9516000151634216,0.9506999850273132,0.951200008392334,0.9513000249862671],\"yaxis\":\"y\",\"type\":\"scatter\"},{\"hovertemplate\":\"Experiment=2\\u003cbr\\u003eEpochs=%{x}\\u003cbr\\u003eAccuracy [%]=%{y}\\u003cextra\\u003e\\u003c\\u002fextra\\u003e\",\"legendgroup\":\"2\",\"line\":{\"color\":\"#00cc96\",\"dash\":\"solid\"},\"marker\":{\"symbol\":\"circle\"},\"mode\":\"lines\",\"name\":\"2\",\"orientation\":\"v\",\"showlegend\":true,\"x\":[0,1,2,3,4,5,6,7,8,9,10,11,12,13,14,15,16,17,18,19,20],\"xaxis\":\"x\",\"y\":[0.10119999945163727,0.9093999862670898,0.9330000281333923,0.9422000050544739,0.9477999806404114,0.9474999904632568,0.9491000175476074,0.9509000182151794,0.9498999714851379,0.9521999955177307,0.9538999795913696,0.9556999802589417,0.9556000232696533,0.9567999839782715,0.95660001039505,0.9563000202178955,0.9559000134468079,0.9564999938011169,0.9570000171661377,0.957099974155426,0.9557999968528748],\"yaxis\":\"y\",\"type\":\"scatter\"},{\"hovertemplate\":\"Experiment=3\\u003cbr\\u003eEpochs=%{x}\\u003cbr\\u003eAccuracy [%]=%{y}\\u003cextra\\u003e\\u003c\\u002fextra\\u003e\",\"legendgroup\":\"3\",\"line\":{\"color\":\"#ab63fa\",\"dash\":\"solid\"},\"marker\":{\"symbol\":\"circle\"},\"mode\":\"lines\",\"name\":\"3\",\"orientation\":\"v\",\"showlegend\":true,\"x\":[0,1,2,3,4,5,6,7,8,9,10,11,12,13,14,15,16,17,18,19,20],\"xaxis\":\"x\",\"y\":[0.11460000276565552,0.9169999957084656,0.9323999881744385,0.9390000104904175,0.9437000155448914,0.948199987411499,0.9505000114440918,0.953000009059906,0.9532999992370605,0.9552000164985657,0.9524000287055969,0.9532999992370605,0.9519000053405762,0.9527999758720398,0.953000009059906,0.9527999758720398,0.9539999961853027,0.9534000158309937,0.954200029373169,0.9539999961853027,0.9539999961853027],\"yaxis\":\"y\",\"type\":\"scatter\"},{\"hovertemplate\":\"Experiment=4\\u003cbr\\u003eEpochs=%{x}\\u003cbr\\u003eAccuracy [%]=%{y}\\u003cextra\\u003e\\u003c\\u002fextra\\u003e\",\"legendgroup\":\"4\",\"line\":{\"color\":\"#FFA15A\",\"dash\":\"solid\"},\"marker\":{\"symbol\":\"circle\"},\"mode\":\"lines\",\"name\":\"4\",\"orientation\":\"v\",\"showlegend\":true,\"x\":[0,1,2,3,4,5,6,7,8,9,10,11,12,13,14,15,16,17,18,19,20],\"xaxis\":\"x\",\"y\":[0.08780000358819962,0.0982000008225441,0.25619998574256897,0.9348000288009644,0.9405999779701233,0.9442999958992004,0.9466999769210815,0.9502999782562256,0.9517999887466431,0.9501000046730042,0.9513000249862671,0.9501000046730042,0.9509999752044678,0.9520000219345093,0.9528999924659729,0.9528999924659729,0.9526000022888184,0.9526000022888184,0.9531999826431274,0.9531999826431274,0.954200029373169],\"yaxis\":\"y\",\"type\":\"scatter\"}],                        {\"template\":{\"data\":{\"histogram2dcontour\":[{\"type\":\"histogram2dcontour\",\"colorbar\":{\"outlinewidth\":0,\"ticks\":\"\"},\"colorscale\":[[0.0,\"#0d0887\"],[0.1111111111111111,\"#46039f\"],[0.2222222222222222,\"#7201a8\"],[0.3333333333333333,\"#9c179e\"],[0.4444444444444444,\"#bd3786\"],[0.5555555555555556,\"#d8576b\"],[0.6666666666666666,\"#ed7953\"],[0.7777777777777778,\"#fb9f3a\"],[0.8888888888888888,\"#fdca26\"],[1.0,\"#f0f921\"]]}],\"choropleth\":[{\"type\":\"choropleth\",\"colorbar\":{\"outlinewidth\":0,\"ticks\":\"\"}}],\"histogram2d\":[{\"type\":\"histogram2d\",\"colorbar\":{\"outlinewidth\":0,\"ticks\":\"\"},\"colorscale\":[[0.0,\"#0d0887\"],[0.1111111111111111,\"#46039f\"],[0.2222222222222222,\"#7201a8\"],[0.3333333333333333,\"#9c179e\"],[0.4444444444444444,\"#bd3786\"],[0.5555555555555556,\"#d8576b\"],[0.6666666666666666,\"#ed7953\"],[0.7777777777777778,\"#fb9f3a\"],[0.8888888888888888,\"#fdca26\"],[1.0,\"#f0f921\"]]}],\"heatmap\":[{\"type\":\"heatmap\",\"colorbar\":{\"outlinewidth\":0,\"ticks\":\"\"},\"colorscale\":[[0.0,\"#0d0887\"],[0.1111111111111111,\"#46039f\"],[0.2222222222222222,\"#7201a8\"],[0.3333333333333333,\"#9c179e\"],[0.4444444444444444,\"#bd3786\"],[0.5555555555555556,\"#d8576b\"],[0.6666666666666666,\"#ed7953\"],[0.7777777777777778,\"#fb9f3a\"],[0.8888888888888888,\"#fdca26\"],[1.0,\"#f0f921\"]]}],\"heatmapgl\":[{\"type\":\"heatmapgl\",\"colorbar\":{\"outlinewidth\":0,\"ticks\":\"\"},\"colorscale\":[[0.0,\"#0d0887\"],[0.1111111111111111,\"#46039f\"],[0.2222222222222222,\"#7201a8\"],[0.3333333333333333,\"#9c179e\"],[0.4444444444444444,\"#bd3786\"],[0.5555555555555556,\"#d8576b\"],[0.6666666666666666,\"#ed7953\"],[0.7777777777777778,\"#fb9f3a\"],[0.8888888888888888,\"#fdca26\"],[1.0,\"#f0f921\"]]}],\"contourcarpet\":[{\"type\":\"contourcarpet\",\"colorbar\":{\"outlinewidth\":0,\"ticks\":\"\"}}],\"contour\":[{\"type\":\"contour\",\"colorbar\":{\"outlinewidth\":0,\"ticks\":\"\"},\"colorscale\":[[0.0,\"#0d0887\"],[0.1111111111111111,\"#46039f\"],[0.2222222222222222,\"#7201a8\"],[0.3333333333333333,\"#9c179e\"],[0.4444444444444444,\"#bd3786\"],[0.5555555555555556,\"#d8576b\"],[0.6666666666666666,\"#ed7953\"],[0.7777777777777778,\"#fb9f3a\"],[0.8888888888888888,\"#fdca26\"],[1.0,\"#f0f921\"]]}],\"surface\":[{\"type\":\"surface\",\"colorbar\":{\"outlinewidth\":0,\"ticks\":\"\"},\"colorscale\":[[0.0,\"#0d0887\"],[0.1111111111111111,\"#46039f\"],[0.2222222222222222,\"#7201a8\"],[0.3333333333333333,\"#9c179e\"],[0.4444444444444444,\"#bd3786\"],[0.5555555555555556,\"#d8576b\"],[0.6666666666666666,\"#ed7953\"],[0.7777777777777778,\"#fb9f3a\"],[0.8888888888888888,\"#fdca26\"],[1.0,\"#f0f921\"]]}],\"mesh3d\":[{\"type\":\"mesh3d\",\"colorbar\":{\"outlinewidth\":0,\"ticks\":\"\"}}],\"scatter\":[{\"marker\":{\"line\":{\"color\":\"#283442\"}},\"type\":\"scatter\"}],\"parcoords\":[{\"type\":\"parcoords\",\"line\":{\"colorbar\":{\"outlinewidth\":0,\"ticks\":\"\"}}}],\"scatterpolargl\":[{\"type\":\"scatterpolargl\",\"marker\":{\"colorbar\":{\"outlinewidth\":0,\"ticks\":\"\"}}}],\"bar\":[{\"error_x\":{\"color\":\"#f2f5fa\"},\"error_y\":{\"color\":\"#f2f5fa\"},\"marker\":{\"line\":{\"color\":\"rgb(17,17,17)\",\"width\":0.5},\"pattern\":{\"fillmode\":\"overlay\",\"size\":10,\"solidity\":0.2}},\"type\":\"bar\"}],\"scattergeo\":[{\"type\":\"scattergeo\",\"marker\":{\"colorbar\":{\"outlinewidth\":0,\"ticks\":\"\"}}}],\"scatterpolar\":[{\"type\":\"scatterpolar\",\"marker\":{\"colorbar\":{\"outlinewidth\":0,\"ticks\":\"\"}}}],\"histogram\":[{\"marker\":{\"pattern\":{\"fillmode\":\"overlay\",\"size\":10,\"solidity\":0.2}},\"type\":\"histogram\"}],\"scattergl\":[{\"marker\":{\"line\":{\"color\":\"#283442\"}},\"type\":\"scattergl\"}],\"scatter3d\":[{\"type\":\"scatter3d\",\"line\":{\"colorbar\":{\"outlinewidth\":0,\"ticks\":\"\"}},\"marker\":{\"colorbar\":{\"outlinewidth\":0,\"ticks\":\"\"}}}],\"scattermapbox\":[{\"type\":\"scattermapbox\",\"marker\":{\"colorbar\":{\"outlinewidth\":0,\"ticks\":\"\"}}}],\"scatterternary\":[{\"type\":\"scatterternary\",\"marker\":{\"colorbar\":{\"outlinewidth\":0,\"ticks\":\"\"}}}],\"scattercarpet\":[{\"type\":\"scattercarpet\",\"marker\":{\"colorbar\":{\"outlinewidth\":0,\"ticks\":\"\"}}}],\"carpet\":[{\"aaxis\":{\"endlinecolor\":\"#A2B1C6\",\"gridcolor\":\"#506784\",\"linecolor\":\"#506784\",\"minorgridcolor\":\"#506784\",\"startlinecolor\":\"#A2B1C6\"},\"baxis\":{\"endlinecolor\":\"#A2B1C6\",\"gridcolor\":\"#506784\",\"linecolor\":\"#506784\",\"minorgridcolor\":\"#506784\",\"startlinecolor\":\"#A2B1C6\"},\"type\":\"carpet\"}],\"table\":[{\"cells\":{\"fill\":{\"color\":\"#506784\"},\"line\":{\"color\":\"rgb(17,17,17)\"}},\"header\":{\"fill\":{\"color\":\"#2a3f5f\"},\"line\":{\"color\":\"rgb(17,17,17)\"}},\"type\":\"table\"}],\"barpolar\":[{\"marker\":{\"line\":{\"color\":\"rgb(17,17,17)\",\"width\":0.5},\"pattern\":{\"fillmode\":\"overlay\",\"size\":10,\"solidity\":0.2}},\"type\":\"barpolar\"}],\"pie\":[{\"automargin\":true,\"type\":\"pie\"}]},\"layout\":{\"autotypenumbers\":\"strict\",\"colorway\":[\"#636efa\",\"#EF553B\",\"#00cc96\",\"#ab63fa\",\"#FFA15A\",\"#19d3f3\",\"#FF6692\",\"#B6E880\",\"#FF97FF\",\"#FECB52\"],\"font\":{\"color\":\"#f2f5fa\"},\"hovermode\":\"closest\",\"hoverlabel\":{\"align\":\"left\"},\"paper_bgcolor\":\"rgb(17,17,17)\",\"plot_bgcolor\":\"rgb(17,17,17)\",\"polar\":{\"bgcolor\":\"rgb(17,17,17)\",\"angularaxis\":{\"gridcolor\":\"#506784\",\"linecolor\":\"#506784\",\"ticks\":\"\"},\"radialaxis\":{\"gridcolor\":\"#506784\",\"linecolor\":\"#506784\",\"ticks\":\"\"}},\"ternary\":{\"bgcolor\":\"rgb(17,17,17)\",\"aaxis\":{\"gridcolor\":\"#506784\",\"linecolor\":\"#506784\",\"ticks\":\"\"},\"baxis\":{\"gridcolor\":\"#506784\",\"linecolor\":\"#506784\",\"ticks\":\"\"},\"caxis\":{\"gridcolor\":\"#506784\",\"linecolor\":\"#506784\",\"ticks\":\"\"}},\"coloraxis\":{\"colorbar\":{\"outlinewidth\":0,\"ticks\":\"\"}},\"colorscale\":{\"sequential\":[[0.0,\"#0d0887\"],[0.1111111111111111,\"#46039f\"],[0.2222222222222222,\"#7201a8\"],[0.3333333333333333,\"#9c179e\"],[0.4444444444444444,\"#bd3786\"],[0.5555555555555556,\"#d8576b\"],[0.6666666666666666,\"#ed7953\"],[0.7777777777777778,\"#fb9f3a\"],[0.8888888888888888,\"#fdca26\"],[1.0,\"#f0f921\"]],\"sequentialminus\":[[0.0,\"#0d0887\"],[0.1111111111111111,\"#46039f\"],[0.2222222222222222,\"#7201a8\"],[0.3333333333333333,\"#9c179e\"],[0.4444444444444444,\"#bd3786\"],[0.5555555555555556,\"#d8576b\"],[0.6666666666666666,\"#ed7953\"],[0.7777777777777778,\"#fb9f3a\"],[0.8888888888888888,\"#fdca26\"],[1.0,\"#f0f921\"]],\"diverging\":[[0,\"#8e0152\"],[0.1,\"#c51b7d\"],[0.2,\"#de77ae\"],[0.3,\"#f1b6da\"],[0.4,\"#fde0ef\"],[0.5,\"#f7f7f7\"],[0.6,\"#e6f5d0\"],[0.7,\"#b8e186\"],[0.8,\"#7fbc41\"],[0.9,\"#4d9221\"],[1,\"#276419\"]]},\"xaxis\":{\"gridcolor\":\"#283442\",\"linecolor\":\"#506784\",\"ticks\":\"\",\"title\":{\"standoff\":15},\"zerolinecolor\":\"#283442\",\"automargin\":true,\"zerolinewidth\":2},\"yaxis\":{\"gridcolor\":\"#283442\",\"linecolor\":\"#506784\",\"ticks\":\"\",\"title\":{\"standoff\":15},\"zerolinecolor\":\"#283442\",\"automargin\":true,\"zerolinewidth\":2},\"scene\":{\"xaxis\":{\"backgroundcolor\":\"rgb(17,17,17)\",\"gridcolor\":\"#506784\",\"linecolor\":\"#506784\",\"showbackground\":true,\"ticks\":\"\",\"zerolinecolor\":\"#C8D4E3\",\"gridwidth\":2},\"yaxis\":{\"backgroundcolor\":\"rgb(17,17,17)\",\"gridcolor\":\"#506784\",\"linecolor\":\"#506784\",\"showbackground\":true,\"ticks\":\"\",\"zerolinecolor\":\"#C8D4E3\",\"gridwidth\":2},\"zaxis\":{\"backgroundcolor\":\"rgb(17,17,17)\",\"gridcolor\":\"#506784\",\"linecolor\":\"#506784\",\"showbackground\":true,\"ticks\":\"\",\"zerolinecolor\":\"#C8D4E3\",\"gridwidth\":2}},\"shapedefaults\":{\"line\":{\"color\":\"#f2f5fa\"}},\"annotationdefaults\":{\"arrowcolor\":\"#f2f5fa\",\"arrowhead\":0,\"arrowwidth\":1},\"geo\":{\"bgcolor\":\"rgb(17,17,17)\",\"landcolor\":\"rgb(17,17,17)\",\"subunitcolor\":\"#506784\",\"showland\":true,\"showlakes\":true,\"lakecolor\":\"rgb(17,17,17)\"},\"title\":{\"x\":0.05},\"updatemenudefaults\":{\"bgcolor\":\"#506784\",\"borderwidth\":0},\"sliderdefaults\":{\"bgcolor\":\"#C8D4E3\",\"borderwidth\":1,\"bordercolor\":\"rgb(17,17,17)\",\"tickwidth\":0},\"mapbox\":{\"style\":\"dark\"}}},\"xaxis\":{\"anchor\":\"y\",\"domain\":[0.0,1.0],\"title\":{\"text\":\"Epochs\"}},\"yaxis\":{\"anchor\":\"x\",\"domain\":[0.0,1.0],\"title\":{\"text\":\"Accuracy [%]\"}},\"legend\":{\"title\":{\"text\":\"Experiment\"},\"tracegroupgap\":0},\"title\":{\"text\":\"Test accuracy\"}},                        {\"responsive\": true}                    ).then(function(){\n                            \nvar gd = document.getElementById('33290ecb-c3d6-4d1b-b672-b082c8d19392');\nvar x = new MutationObserver(function (mutations, observer) {{\n        var display = window.getComputedStyle(gd).display;\n        if (!display || display === 'none') {{\n            console.log([gd, 'removed!']);\n            Plotly.purge(gd);\n            observer.disconnect();\n        }}\n}});\n\n// Listen for the removal of the full notebook cells\nvar notebookContainer = gd.closest('#notebook-container');\nif (notebookContainer) {{\n    x.observe(notebookContainer, {childList: true});\n}}\n\n// Listen for the clearing of the current output cell\nvar outputEl = gd.closest('.output');\nif (outputEl) {{\n    x.observe(outputEl, {childList: true});\n}}\n\n                        })                };                });            </script>        </div>"
     },
     "metadata": {},
     "output_type": "display_data"
    },
    {
     "data": {
      "application/vnd.plotly.v1+json": {
       "data": [
        {
         "hovertemplate": "Experiment=0<br>Epochs=%{x}<br>Loss=%{y}<extra></extra>",
         "legendgroup": "0",
         "line": {
          "color": "#636efa",
          "dash": "solid"
         },
         "marker": {
          "symbol": "circle"
         },
         "mode": "lines",
         "name": "0",
         "orientation": "v",
         "showlegend": true,
         "x": [
          0,
          1,
          2,
          3,
          4,
          5,
          6,
          7,
          8,
          9,
          10,
          11,
          12,
          13,
          14,
          15,
          16,
          17,
          18,
          19,
          20
         ],
         "xaxis": "x",
         "y": [
          26.17466163635254,
          0.6829911470413208,
          0.4484778642654419,
          0.35945945978164673,
          0.2846441864967346,
          0.24405966699123383,
          0.21695353090763092,
          0.19239172339439392,
          0.17744238674640656,
          0.16429179906845093,
          0.15258640050888062,
          0.1466161012649536,
          0.13783791661262512,
          0.1317879557609558,
          0.12657296657562256,
          0.12039888650178909,
          0.11475299298763275,
          0.11077430844306946,
          0.1073446199297905,
          0.10501803457736969,
          0.10279431939125061
         ],
         "yaxis": "y",
         "type": "scatter"
        },
        {
         "hovertemplate": "Experiment=1<br>Epochs=%{x}<br>Loss=%{y}<extra></extra>",
         "legendgroup": "1",
         "line": {
          "color": "#EF553B",
          "dash": "solid"
         },
         "marker": {
          "symbol": "circle"
         },
         "mode": "lines",
         "name": "1",
         "orientation": "v",
         "showlegend": true,
         "x": [
          0,
          1,
          2,
          3,
          4,
          5,
          6,
          7,
          8,
          9,
          10,
          11,
          12,
          13,
          14,
          15,
          16,
          17,
          18,
          19,
          20
         ],
         "xaxis": "x",
         "y": [
          30.271636962890625,
          2.4654541015625,
          1.3394908905029297,
          0.4172619879245758,
          0.3114511966705322,
          0.261412650346756,
          0.22647827863693237,
          0.20172087848186493,
          0.18834088742733002,
          0.1735972911119461,
          0.1607663929462433,
          0.15411277115345,
          0.1452081948518753,
          0.13923794031143188,
          0.13260191679000854,
          0.12646619975566864,
          0.12222222238779068,
          0.11857418715953827,
          0.11634188890457153,
          0.11457983404397964,
          0.1126398965716362
         ],
         "yaxis": "y",
         "type": "scatter"
        },
        {
         "hovertemplate": "Experiment=2<br>Epochs=%{x}<br>Loss=%{y}<extra></extra>",
         "legendgroup": "2",
         "line": {
          "color": "#00cc96",
          "dash": "solid"
         },
         "marker": {
          "symbol": "circle"
         },
         "mode": "lines",
         "name": "2",
         "orientation": "v",
         "showlegend": true,
         "x": [
          0,
          1,
          2,
          3,
          4,
          5,
          6,
          7,
          8,
          9,
          10,
          11,
          12,
          13,
          14,
          15,
          16,
          17,
          18,
          19,
          20
         ],
         "xaxis": "x",
         "y": [
          29.030269622802734,
          1.3638800382614136,
          0.38962993025779724,
          0.2998448312282562,
          0.2493390589952469,
          0.21990349888801575,
          0.19790691137313843,
          0.18023289740085602,
          0.16758593916893005,
          0.15433092415332794,
          0.14348876476287842,
          0.13521987199783325,
          0.12977106869220734,
          0.1241580992937088,
          0.11791432648897171,
          0.11354104429483414,
          0.1104835644364357,
          0.10770698636770248,
          0.10565487295389175,
          0.10417592525482178,
          0.10241499543190002
         ],
         "yaxis": "y",
         "type": "scatter"
        },
        {
         "hovertemplate": "Experiment=3<br>Epochs=%{x}<br>Loss=%{y}<extra></extra>",
         "legendgroup": "3",
         "line": {
          "color": "#ab63fa",
          "dash": "solid"
         },
         "marker": {
          "symbol": "circle"
         },
         "mode": "lines",
         "name": "3",
         "orientation": "v",
         "showlegend": true,
         "x": [
          0,
          1,
          2,
          3,
          4,
          5,
          6,
          7,
          8,
          9,
          10,
          11,
          12,
          13,
          14,
          15,
          16,
          17,
          18,
          19,
          20
         ],
         "xaxis": "x",
         "y": [
          15.53109359741211,
          0.6350108981132507,
          0.3614080250263214,
          0.2764355540275574,
          0.2294403314590454,
          0.20543316006660461,
          0.18810175359249115,
          0.17328181862831116,
          0.1625899076461792,
          0.15223637223243713,
          0.14207212626934052,
          0.13300833106040955,
          0.12379345297813416,
          0.1184643879532814,
          0.1129843145608902,
          0.10999834537506104,
          0.10633807629346848,
          0.10331080108880997,
          0.10087697952985764,
          0.09946804493665695,
          0.09820447117090225
         ],
         "yaxis": "y",
         "type": "scatter"
        },
        {
         "hovertemplate": "Experiment=4<br>Epochs=%{x}<br>Loss=%{y}<extra></extra>",
         "legendgroup": "4",
         "line": {
          "color": "#FFA15A",
          "dash": "solid"
         },
         "marker": {
          "symbol": "circle"
         },
         "mode": "lines",
         "name": "4",
         "orientation": "v",
         "showlegend": true,
         "x": [
          0,
          1,
          2,
          3,
          4,
          5,
          6,
          7,
          8,
          9,
          10,
          11,
          12,
          13,
          14,
          15,
          16,
          17,
          18,
          19,
          20
         ],
         "xaxis": "x",
         "y": [
          23.666942596435547,
          1.4633817672729492,
          0.4270656704902649,
          0.49662643671035767,
          0.35415542125701904,
          0.2849663197994232,
          0.2529953122138977,
          0.2304004728794098,
          0.21268856525421143,
          0.19366313517093658,
          0.17910486459732056,
          0.1699635237455368,
          0.1610337346792221,
          0.15374483168125153,
          0.14550533890724182,
          0.14153626561164856,
          0.1363079994916916,
          0.13298286497592926,
          0.13043129444122314,
          0.12856175005435944,
          0.12689737975597382
         ],
         "yaxis": "y",
         "type": "scatter"
        }
       ],
       "layout": {
        "template": {
         "data": {
          "histogram2dcontour": [
           {
            "type": "histogram2dcontour",
            "colorbar": {
             "outlinewidth": 0,
             "ticks": ""
            },
            "colorscale": [
             [
              0.0,
              "#0d0887"
             ],
             [
              0.1111111111111111,
              "#46039f"
             ],
             [
              0.2222222222222222,
              "#7201a8"
             ],
             [
              0.3333333333333333,
              "#9c179e"
             ],
             [
              0.4444444444444444,
              "#bd3786"
             ],
             [
              0.5555555555555556,
              "#d8576b"
             ],
             [
              0.6666666666666666,
              "#ed7953"
             ],
             [
              0.7777777777777778,
              "#fb9f3a"
             ],
             [
              0.8888888888888888,
              "#fdca26"
             ],
             [
              1.0,
              "#f0f921"
             ]
            ]
           }
          ],
          "choropleth": [
           {
            "type": "choropleth",
            "colorbar": {
             "outlinewidth": 0,
             "ticks": ""
            }
           }
          ],
          "histogram2d": [
           {
            "type": "histogram2d",
            "colorbar": {
             "outlinewidth": 0,
             "ticks": ""
            },
            "colorscale": [
             [
              0.0,
              "#0d0887"
             ],
             [
              0.1111111111111111,
              "#46039f"
             ],
             [
              0.2222222222222222,
              "#7201a8"
             ],
             [
              0.3333333333333333,
              "#9c179e"
             ],
             [
              0.4444444444444444,
              "#bd3786"
             ],
             [
              0.5555555555555556,
              "#d8576b"
             ],
             [
              0.6666666666666666,
              "#ed7953"
             ],
             [
              0.7777777777777778,
              "#fb9f3a"
             ],
             [
              0.8888888888888888,
              "#fdca26"
             ],
             [
              1.0,
              "#f0f921"
             ]
            ]
           }
          ],
          "heatmap": [
           {
            "type": "heatmap",
            "colorbar": {
             "outlinewidth": 0,
             "ticks": ""
            },
            "colorscale": [
             [
              0.0,
              "#0d0887"
             ],
             [
              0.1111111111111111,
              "#46039f"
             ],
             [
              0.2222222222222222,
              "#7201a8"
             ],
             [
              0.3333333333333333,
              "#9c179e"
             ],
             [
              0.4444444444444444,
              "#bd3786"
             ],
             [
              0.5555555555555556,
              "#d8576b"
             ],
             [
              0.6666666666666666,
              "#ed7953"
             ],
             [
              0.7777777777777778,
              "#fb9f3a"
             ],
             [
              0.8888888888888888,
              "#fdca26"
             ],
             [
              1.0,
              "#f0f921"
             ]
            ]
           }
          ],
          "heatmapgl": [
           {
            "type": "heatmapgl",
            "colorbar": {
             "outlinewidth": 0,
             "ticks": ""
            },
            "colorscale": [
             [
              0.0,
              "#0d0887"
             ],
             [
              0.1111111111111111,
              "#46039f"
             ],
             [
              0.2222222222222222,
              "#7201a8"
             ],
             [
              0.3333333333333333,
              "#9c179e"
             ],
             [
              0.4444444444444444,
              "#bd3786"
             ],
             [
              0.5555555555555556,
              "#d8576b"
             ],
             [
              0.6666666666666666,
              "#ed7953"
             ],
             [
              0.7777777777777778,
              "#fb9f3a"
             ],
             [
              0.8888888888888888,
              "#fdca26"
             ],
             [
              1.0,
              "#f0f921"
             ]
            ]
           }
          ],
          "contourcarpet": [
           {
            "type": "contourcarpet",
            "colorbar": {
             "outlinewidth": 0,
             "ticks": ""
            }
           }
          ],
          "contour": [
           {
            "type": "contour",
            "colorbar": {
             "outlinewidth": 0,
             "ticks": ""
            },
            "colorscale": [
             [
              0.0,
              "#0d0887"
             ],
             [
              0.1111111111111111,
              "#46039f"
             ],
             [
              0.2222222222222222,
              "#7201a8"
             ],
             [
              0.3333333333333333,
              "#9c179e"
             ],
             [
              0.4444444444444444,
              "#bd3786"
             ],
             [
              0.5555555555555556,
              "#d8576b"
             ],
             [
              0.6666666666666666,
              "#ed7953"
             ],
             [
              0.7777777777777778,
              "#fb9f3a"
             ],
             [
              0.8888888888888888,
              "#fdca26"
             ],
             [
              1.0,
              "#f0f921"
             ]
            ]
           }
          ],
          "surface": [
           {
            "type": "surface",
            "colorbar": {
             "outlinewidth": 0,
             "ticks": ""
            },
            "colorscale": [
             [
              0.0,
              "#0d0887"
             ],
             [
              0.1111111111111111,
              "#46039f"
             ],
             [
              0.2222222222222222,
              "#7201a8"
             ],
             [
              0.3333333333333333,
              "#9c179e"
             ],
             [
              0.4444444444444444,
              "#bd3786"
             ],
             [
              0.5555555555555556,
              "#d8576b"
             ],
             [
              0.6666666666666666,
              "#ed7953"
             ],
             [
              0.7777777777777778,
              "#fb9f3a"
             ],
             [
              0.8888888888888888,
              "#fdca26"
             ],
             [
              1.0,
              "#f0f921"
             ]
            ]
           }
          ],
          "mesh3d": [
           {
            "type": "mesh3d",
            "colorbar": {
             "outlinewidth": 0,
             "ticks": ""
            }
           }
          ],
          "scatter": [
           {
            "marker": {
             "line": {
              "color": "#283442"
             }
            },
            "type": "scatter"
           }
          ],
          "parcoords": [
           {
            "type": "parcoords",
            "line": {
             "colorbar": {
              "outlinewidth": 0,
              "ticks": ""
             }
            }
           }
          ],
          "scatterpolargl": [
           {
            "type": "scatterpolargl",
            "marker": {
             "colorbar": {
              "outlinewidth": 0,
              "ticks": ""
             }
            }
           }
          ],
          "bar": [
           {
            "error_x": {
             "color": "#f2f5fa"
            },
            "error_y": {
             "color": "#f2f5fa"
            },
            "marker": {
             "line": {
              "color": "rgb(17,17,17)",
              "width": 0.5
             },
             "pattern": {
              "fillmode": "overlay",
              "size": 10,
              "solidity": 0.2
             }
            },
            "type": "bar"
           }
          ],
          "scattergeo": [
           {
            "type": "scattergeo",
            "marker": {
             "colorbar": {
              "outlinewidth": 0,
              "ticks": ""
             }
            }
           }
          ],
          "scatterpolar": [
           {
            "type": "scatterpolar",
            "marker": {
             "colorbar": {
              "outlinewidth": 0,
              "ticks": ""
             }
            }
           }
          ],
          "histogram": [
           {
            "marker": {
             "pattern": {
              "fillmode": "overlay",
              "size": 10,
              "solidity": 0.2
             }
            },
            "type": "histogram"
           }
          ],
          "scattergl": [
           {
            "marker": {
             "line": {
              "color": "#283442"
             }
            },
            "type": "scattergl"
           }
          ],
          "scatter3d": [
           {
            "type": "scatter3d",
            "line": {
             "colorbar": {
              "outlinewidth": 0,
              "ticks": ""
             }
            },
            "marker": {
             "colorbar": {
              "outlinewidth": 0,
              "ticks": ""
             }
            }
           }
          ],
          "scattermapbox": [
           {
            "type": "scattermapbox",
            "marker": {
             "colorbar": {
              "outlinewidth": 0,
              "ticks": ""
             }
            }
           }
          ],
          "scatterternary": [
           {
            "type": "scatterternary",
            "marker": {
             "colorbar": {
              "outlinewidth": 0,
              "ticks": ""
             }
            }
           }
          ],
          "scattercarpet": [
           {
            "type": "scattercarpet",
            "marker": {
             "colorbar": {
              "outlinewidth": 0,
              "ticks": ""
             }
            }
           }
          ],
          "carpet": [
           {
            "aaxis": {
             "endlinecolor": "#A2B1C6",
             "gridcolor": "#506784",
             "linecolor": "#506784",
             "minorgridcolor": "#506784",
             "startlinecolor": "#A2B1C6"
            },
            "baxis": {
             "endlinecolor": "#A2B1C6",
             "gridcolor": "#506784",
             "linecolor": "#506784",
             "minorgridcolor": "#506784",
             "startlinecolor": "#A2B1C6"
            },
            "type": "carpet"
           }
          ],
          "table": [
           {
            "cells": {
             "fill": {
              "color": "#506784"
             },
             "line": {
              "color": "rgb(17,17,17)"
             }
            },
            "header": {
             "fill": {
              "color": "#2a3f5f"
             },
             "line": {
              "color": "rgb(17,17,17)"
             }
            },
            "type": "table"
           }
          ],
          "barpolar": [
           {
            "marker": {
             "line": {
              "color": "rgb(17,17,17)",
              "width": 0.5
             },
             "pattern": {
              "fillmode": "overlay",
              "size": 10,
              "solidity": 0.2
             }
            },
            "type": "barpolar"
           }
          ],
          "pie": [
           {
            "automargin": true,
            "type": "pie"
           }
          ]
         },
         "layout": {
          "autotypenumbers": "strict",
          "colorway": [
           "#636efa",
           "#EF553B",
           "#00cc96",
           "#ab63fa",
           "#FFA15A",
           "#19d3f3",
           "#FF6692",
           "#B6E880",
           "#FF97FF",
           "#FECB52"
          ],
          "font": {
           "color": "#f2f5fa"
          },
          "hovermode": "closest",
          "hoverlabel": {
           "align": "left"
          },
          "paper_bgcolor": "rgb(17,17,17)",
          "plot_bgcolor": "rgb(17,17,17)",
          "polar": {
           "bgcolor": "rgb(17,17,17)",
           "angularaxis": {
            "gridcolor": "#506784",
            "linecolor": "#506784",
            "ticks": ""
           },
           "radialaxis": {
            "gridcolor": "#506784",
            "linecolor": "#506784",
            "ticks": ""
           }
          },
          "ternary": {
           "bgcolor": "rgb(17,17,17)",
           "aaxis": {
            "gridcolor": "#506784",
            "linecolor": "#506784",
            "ticks": ""
           },
           "baxis": {
            "gridcolor": "#506784",
            "linecolor": "#506784",
            "ticks": ""
           },
           "caxis": {
            "gridcolor": "#506784",
            "linecolor": "#506784",
            "ticks": ""
           }
          },
          "coloraxis": {
           "colorbar": {
            "outlinewidth": 0,
            "ticks": ""
           }
          },
          "colorscale": {
           "sequential": [
            [
             0.0,
             "#0d0887"
            ],
            [
             0.1111111111111111,
             "#46039f"
            ],
            [
             0.2222222222222222,
             "#7201a8"
            ],
            [
             0.3333333333333333,
             "#9c179e"
            ],
            [
             0.4444444444444444,
             "#bd3786"
            ],
            [
             0.5555555555555556,
             "#d8576b"
            ],
            [
             0.6666666666666666,
             "#ed7953"
            ],
            [
             0.7777777777777778,
             "#fb9f3a"
            ],
            [
             0.8888888888888888,
             "#fdca26"
            ],
            [
             1.0,
             "#f0f921"
            ]
           ],
           "sequentialminus": [
            [
             0.0,
             "#0d0887"
            ],
            [
             0.1111111111111111,
             "#46039f"
            ],
            [
             0.2222222222222222,
             "#7201a8"
            ],
            [
             0.3333333333333333,
             "#9c179e"
            ],
            [
             0.4444444444444444,
             "#bd3786"
            ],
            [
             0.5555555555555556,
             "#d8576b"
            ],
            [
             0.6666666666666666,
             "#ed7953"
            ],
            [
             0.7777777777777778,
             "#fb9f3a"
            ],
            [
             0.8888888888888888,
             "#fdca26"
            ],
            [
             1.0,
             "#f0f921"
            ]
           ],
           "diverging": [
            [
             0,
             "#8e0152"
            ],
            [
             0.1,
             "#c51b7d"
            ],
            [
             0.2,
             "#de77ae"
            ],
            [
             0.3,
             "#f1b6da"
            ],
            [
             0.4,
             "#fde0ef"
            ],
            [
             0.5,
             "#f7f7f7"
            ],
            [
             0.6,
             "#e6f5d0"
            ],
            [
             0.7,
             "#b8e186"
            ],
            [
             0.8,
             "#7fbc41"
            ],
            [
             0.9,
             "#4d9221"
            ],
            [
             1,
             "#276419"
            ]
           ]
          },
          "xaxis": {
           "gridcolor": "#283442",
           "linecolor": "#506784",
           "ticks": "",
           "title": {
            "standoff": 15
           },
           "zerolinecolor": "#283442",
           "automargin": true,
           "zerolinewidth": 2
          },
          "yaxis": {
           "gridcolor": "#283442",
           "linecolor": "#506784",
           "ticks": "",
           "title": {
            "standoff": 15
           },
           "zerolinecolor": "#283442",
           "automargin": true,
           "zerolinewidth": 2
          },
          "scene": {
           "xaxis": {
            "backgroundcolor": "rgb(17,17,17)",
            "gridcolor": "#506784",
            "linecolor": "#506784",
            "showbackground": true,
            "ticks": "",
            "zerolinecolor": "#C8D4E3",
            "gridwidth": 2
           },
           "yaxis": {
            "backgroundcolor": "rgb(17,17,17)",
            "gridcolor": "#506784",
            "linecolor": "#506784",
            "showbackground": true,
            "ticks": "",
            "zerolinecolor": "#C8D4E3",
            "gridwidth": 2
           },
           "zaxis": {
            "backgroundcolor": "rgb(17,17,17)",
            "gridcolor": "#506784",
            "linecolor": "#506784",
            "showbackground": true,
            "ticks": "",
            "zerolinecolor": "#C8D4E3",
            "gridwidth": 2
           }
          },
          "shapedefaults": {
           "line": {
            "color": "#f2f5fa"
           }
          },
          "annotationdefaults": {
           "arrowcolor": "#f2f5fa",
           "arrowhead": 0,
           "arrowwidth": 1
          },
          "geo": {
           "bgcolor": "rgb(17,17,17)",
           "landcolor": "rgb(17,17,17)",
           "subunitcolor": "#506784",
           "showland": true,
           "showlakes": true,
           "lakecolor": "rgb(17,17,17)"
          },
          "title": {
           "x": 0.05
          },
          "updatemenudefaults": {
           "bgcolor": "#506784",
           "borderwidth": 0
          },
          "sliderdefaults": {
           "bgcolor": "#C8D4E3",
           "borderwidth": 1,
           "bordercolor": "rgb(17,17,17)",
           "tickwidth": 0
          },
          "mapbox": {
           "style": "dark"
          }
         }
        },
        "xaxis": {
         "anchor": "y",
         "domain": [
          0.0,
          1.0
         ],
         "title": {
          "text": "Epochs"
         }
        },
        "yaxis": {
         "anchor": "x",
         "domain": [
          0.0,
          1.0
         ],
         "title": {
          "text": "Loss"
         }
        },
        "legend": {
         "title": {
          "text": "Experiment"
         },
         "tracegroupgap": 0
        },
        "title": {
         "text": "Test loss"
        }
       },
       "config": {
        "plotlyServerURL": "https://plot.ly"
       }
      },
      "text/html": "<div>                            <div id=\"eaeedf21-706c-4a59-95b6-7b7767537161\" class=\"plotly-graph-div\" style=\"height:525px; width:100%;\"></div>            <script type=\"text/javascript\">                require([\"plotly\"], function(Plotly) {                    window.PLOTLYENV=window.PLOTLYENV || {};                                    if (document.getElementById(\"eaeedf21-706c-4a59-95b6-7b7767537161\")) {                    Plotly.newPlot(                        \"eaeedf21-706c-4a59-95b6-7b7767537161\",                        [{\"hovertemplate\":\"Experiment=0\\u003cbr\\u003eEpochs=%{x}\\u003cbr\\u003eLoss=%{y}\\u003cextra\\u003e\\u003c\\u002fextra\\u003e\",\"legendgroup\":\"0\",\"line\":{\"color\":\"#636efa\",\"dash\":\"solid\"},\"marker\":{\"symbol\":\"circle\"},\"mode\":\"lines\",\"name\":\"0\",\"orientation\":\"v\",\"showlegend\":true,\"x\":[0,1,2,3,4,5,6,7,8,9,10,11,12,13,14,15,16,17,18,19,20],\"xaxis\":\"x\",\"y\":[26.17466163635254,0.6829911470413208,0.4484778642654419,0.35945945978164673,0.2846441864967346,0.24405966699123383,0.21695353090763092,0.19239172339439392,0.17744238674640656,0.16429179906845093,0.15258640050888062,0.1466161012649536,0.13783791661262512,0.1317879557609558,0.12657296657562256,0.12039888650178909,0.11475299298763275,0.11077430844306946,0.1073446199297905,0.10501803457736969,0.10279431939125061],\"yaxis\":\"y\",\"type\":\"scatter\"},{\"hovertemplate\":\"Experiment=1\\u003cbr\\u003eEpochs=%{x}\\u003cbr\\u003eLoss=%{y}\\u003cextra\\u003e\\u003c\\u002fextra\\u003e\",\"legendgroup\":\"1\",\"line\":{\"color\":\"#EF553B\",\"dash\":\"solid\"},\"marker\":{\"symbol\":\"circle\"},\"mode\":\"lines\",\"name\":\"1\",\"orientation\":\"v\",\"showlegend\":true,\"x\":[0,1,2,3,4,5,6,7,8,9,10,11,12,13,14,15,16,17,18,19,20],\"xaxis\":\"x\",\"y\":[30.271636962890625,2.4654541015625,1.3394908905029297,0.4172619879245758,0.3114511966705322,0.261412650346756,0.22647827863693237,0.20172087848186493,0.18834088742733002,0.1735972911119461,0.1607663929462433,0.15411277115345,0.1452081948518753,0.13923794031143188,0.13260191679000854,0.12646619975566864,0.12222222238779068,0.11857418715953827,0.11634188890457153,0.11457983404397964,0.1126398965716362],\"yaxis\":\"y\",\"type\":\"scatter\"},{\"hovertemplate\":\"Experiment=2\\u003cbr\\u003eEpochs=%{x}\\u003cbr\\u003eLoss=%{y}\\u003cextra\\u003e\\u003c\\u002fextra\\u003e\",\"legendgroup\":\"2\",\"line\":{\"color\":\"#00cc96\",\"dash\":\"solid\"},\"marker\":{\"symbol\":\"circle\"},\"mode\":\"lines\",\"name\":\"2\",\"orientation\":\"v\",\"showlegend\":true,\"x\":[0,1,2,3,4,5,6,7,8,9,10,11,12,13,14,15,16,17,18,19,20],\"xaxis\":\"x\",\"y\":[29.030269622802734,1.3638800382614136,0.38962993025779724,0.2998448312282562,0.2493390589952469,0.21990349888801575,0.19790691137313843,0.18023289740085602,0.16758593916893005,0.15433092415332794,0.14348876476287842,0.13521987199783325,0.12977106869220734,0.1241580992937088,0.11791432648897171,0.11354104429483414,0.1104835644364357,0.10770698636770248,0.10565487295389175,0.10417592525482178,0.10241499543190002],\"yaxis\":\"y\",\"type\":\"scatter\"},{\"hovertemplate\":\"Experiment=3\\u003cbr\\u003eEpochs=%{x}\\u003cbr\\u003eLoss=%{y}\\u003cextra\\u003e\\u003c\\u002fextra\\u003e\",\"legendgroup\":\"3\",\"line\":{\"color\":\"#ab63fa\",\"dash\":\"solid\"},\"marker\":{\"symbol\":\"circle\"},\"mode\":\"lines\",\"name\":\"3\",\"orientation\":\"v\",\"showlegend\":true,\"x\":[0,1,2,3,4,5,6,7,8,9,10,11,12,13,14,15,16,17,18,19,20],\"xaxis\":\"x\",\"y\":[15.53109359741211,0.6350108981132507,0.3614080250263214,0.2764355540275574,0.2294403314590454,0.20543316006660461,0.18810175359249115,0.17328181862831116,0.1625899076461792,0.15223637223243713,0.14207212626934052,0.13300833106040955,0.12379345297813416,0.1184643879532814,0.1129843145608902,0.10999834537506104,0.10633807629346848,0.10331080108880997,0.10087697952985764,0.09946804493665695,0.09820447117090225],\"yaxis\":\"y\",\"type\":\"scatter\"},{\"hovertemplate\":\"Experiment=4\\u003cbr\\u003eEpochs=%{x}\\u003cbr\\u003eLoss=%{y}\\u003cextra\\u003e\\u003c\\u002fextra\\u003e\",\"legendgroup\":\"4\",\"line\":{\"color\":\"#FFA15A\",\"dash\":\"solid\"},\"marker\":{\"symbol\":\"circle\"},\"mode\":\"lines\",\"name\":\"4\",\"orientation\":\"v\",\"showlegend\":true,\"x\":[0,1,2,3,4,5,6,7,8,9,10,11,12,13,14,15,16,17,18,19,20],\"xaxis\":\"x\",\"y\":[23.666942596435547,1.4633817672729492,0.4270656704902649,0.49662643671035767,0.35415542125701904,0.2849663197994232,0.2529953122138977,0.2304004728794098,0.21268856525421143,0.19366313517093658,0.17910486459732056,0.1699635237455368,0.1610337346792221,0.15374483168125153,0.14550533890724182,0.14153626561164856,0.1363079994916916,0.13298286497592926,0.13043129444122314,0.12856175005435944,0.12689737975597382],\"yaxis\":\"y\",\"type\":\"scatter\"}],                        {\"template\":{\"data\":{\"histogram2dcontour\":[{\"type\":\"histogram2dcontour\",\"colorbar\":{\"outlinewidth\":0,\"ticks\":\"\"},\"colorscale\":[[0.0,\"#0d0887\"],[0.1111111111111111,\"#46039f\"],[0.2222222222222222,\"#7201a8\"],[0.3333333333333333,\"#9c179e\"],[0.4444444444444444,\"#bd3786\"],[0.5555555555555556,\"#d8576b\"],[0.6666666666666666,\"#ed7953\"],[0.7777777777777778,\"#fb9f3a\"],[0.8888888888888888,\"#fdca26\"],[1.0,\"#f0f921\"]]}],\"choropleth\":[{\"type\":\"choropleth\",\"colorbar\":{\"outlinewidth\":0,\"ticks\":\"\"}}],\"histogram2d\":[{\"type\":\"histogram2d\",\"colorbar\":{\"outlinewidth\":0,\"ticks\":\"\"},\"colorscale\":[[0.0,\"#0d0887\"],[0.1111111111111111,\"#46039f\"],[0.2222222222222222,\"#7201a8\"],[0.3333333333333333,\"#9c179e\"],[0.4444444444444444,\"#bd3786\"],[0.5555555555555556,\"#d8576b\"],[0.6666666666666666,\"#ed7953\"],[0.7777777777777778,\"#fb9f3a\"],[0.8888888888888888,\"#fdca26\"],[1.0,\"#f0f921\"]]}],\"heatmap\":[{\"type\":\"heatmap\",\"colorbar\":{\"outlinewidth\":0,\"ticks\":\"\"},\"colorscale\":[[0.0,\"#0d0887\"],[0.1111111111111111,\"#46039f\"],[0.2222222222222222,\"#7201a8\"],[0.3333333333333333,\"#9c179e\"],[0.4444444444444444,\"#bd3786\"],[0.5555555555555556,\"#d8576b\"],[0.6666666666666666,\"#ed7953\"],[0.7777777777777778,\"#fb9f3a\"],[0.8888888888888888,\"#fdca26\"],[1.0,\"#f0f921\"]]}],\"heatmapgl\":[{\"type\":\"heatmapgl\",\"colorbar\":{\"outlinewidth\":0,\"ticks\":\"\"},\"colorscale\":[[0.0,\"#0d0887\"],[0.1111111111111111,\"#46039f\"],[0.2222222222222222,\"#7201a8\"],[0.3333333333333333,\"#9c179e\"],[0.4444444444444444,\"#bd3786\"],[0.5555555555555556,\"#d8576b\"],[0.6666666666666666,\"#ed7953\"],[0.7777777777777778,\"#fb9f3a\"],[0.8888888888888888,\"#fdca26\"],[1.0,\"#f0f921\"]]}],\"contourcarpet\":[{\"type\":\"contourcarpet\",\"colorbar\":{\"outlinewidth\":0,\"ticks\":\"\"}}],\"contour\":[{\"type\":\"contour\",\"colorbar\":{\"outlinewidth\":0,\"ticks\":\"\"},\"colorscale\":[[0.0,\"#0d0887\"],[0.1111111111111111,\"#46039f\"],[0.2222222222222222,\"#7201a8\"],[0.3333333333333333,\"#9c179e\"],[0.4444444444444444,\"#bd3786\"],[0.5555555555555556,\"#d8576b\"],[0.6666666666666666,\"#ed7953\"],[0.7777777777777778,\"#fb9f3a\"],[0.8888888888888888,\"#fdca26\"],[1.0,\"#f0f921\"]]}],\"surface\":[{\"type\":\"surface\",\"colorbar\":{\"outlinewidth\":0,\"ticks\":\"\"},\"colorscale\":[[0.0,\"#0d0887\"],[0.1111111111111111,\"#46039f\"],[0.2222222222222222,\"#7201a8\"],[0.3333333333333333,\"#9c179e\"],[0.4444444444444444,\"#bd3786\"],[0.5555555555555556,\"#d8576b\"],[0.6666666666666666,\"#ed7953\"],[0.7777777777777778,\"#fb9f3a\"],[0.8888888888888888,\"#fdca26\"],[1.0,\"#f0f921\"]]}],\"mesh3d\":[{\"type\":\"mesh3d\",\"colorbar\":{\"outlinewidth\":0,\"ticks\":\"\"}}],\"scatter\":[{\"marker\":{\"line\":{\"color\":\"#283442\"}},\"type\":\"scatter\"}],\"parcoords\":[{\"type\":\"parcoords\",\"line\":{\"colorbar\":{\"outlinewidth\":0,\"ticks\":\"\"}}}],\"scatterpolargl\":[{\"type\":\"scatterpolargl\",\"marker\":{\"colorbar\":{\"outlinewidth\":0,\"ticks\":\"\"}}}],\"bar\":[{\"error_x\":{\"color\":\"#f2f5fa\"},\"error_y\":{\"color\":\"#f2f5fa\"},\"marker\":{\"line\":{\"color\":\"rgb(17,17,17)\",\"width\":0.5},\"pattern\":{\"fillmode\":\"overlay\",\"size\":10,\"solidity\":0.2}},\"type\":\"bar\"}],\"scattergeo\":[{\"type\":\"scattergeo\",\"marker\":{\"colorbar\":{\"outlinewidth\":0,\"ticks\":\"\"}}}],\"scatterpolar\":[{\"type\":\"scatterpolar\",\"marker\":{\"colorbar\":{\"outlinewidth\":0,\"ticks\":\"\"}}}],\"histogram\":[{\"marker\":{\"pattern\":{\"fillmode\":\"overlay\",\"size\":10,\"solidity\":0.2}},\"type\":\"histogram\"}],\"scattergl\":[{\"marker\":{\"line\":{\"color\":\"#283442\"}},\"type\":\"scattergl\"}],\"scatter3d\":[{\"type\":\"scatter3d\",\"line\":{\"colorbar\":{\"outlinewidth\":0,\"ticks\":\"\"}},\"marker\":{\"colorbar\":{\"outlinewidth\":0,\"ticks\":\"\"}}}],\"scattermapbox\":[{\"type\":\"scattermapbox\",\"marker\":{\"colorbar\":{\"outlinewidth\":0,\"ticks\":\"\"}}}],\"scatterternary\":[{\"type\":\"scatterternary\",\"marker\":{\"colorbar\":{\"outlinewidth\":0,\"ticks\":\"\"}}}],\"scattercarpet\":[{\"type\":\"scattercarpet\",\"marker\":{\"colorbar\":{\"outlinewidth\":0,\"ticks\":\"\"}}}],\"carpet\":[{\"aaxis\":{\"endlinecolor\":\"#A2B1C6\",\"gridcolor\":\"#506784\",\"linecolor\":\"#506784\",\"minorgridcolor\":\"#506784\",\"startlinecolor\":\"#A2B1C6\"},\"baxis\":{\"endlinecolor\":\"#A2B1C6\",\"gridcolor\":\"#506784\",\"linecolor\":\"#506784\",\"minorgridcolor\":\"#506784\",\"startlinecolor\":\"#A2B1C6\"},\"type\":\"carpet\"}],\"table\":[{\"cells\":{\"fill\":{\"color\":\"#506784\"},\"line\":{\"color\":\"rgb(17,17,17)\"}},\"header\":{\"fill\":{\"color\":\"#2a3f5f\"},\"line\":{\"color\":\"rgb(17,17,17)\"}},\"type\":\"table\"}],\"barpolar\":[{\"marker\":{\"line\":{\"color\":\"rgb(17,17,17)\",\"width\":0.5},\"pattern\":{\"fillmode\":\"overlay\",\"size\":10,\"solidity\":0.2}},\"type\":\"barpolar\"}],\"pie\":[{\"automargin\":true,\"type\":\"pie\"}]},\"layout\":{\"autotypenumbers\":\"strict\",\"colorway\":[\"#636efa\",\"#EF553B\",\"#00cc96\",\"#ab63fa\",\"#FFA15A\",\"#19d3f3\",\"#FF6692\",\"#B6E880\",\"#FF97FF\",\"#FECB52\"],\"font\":{\"color\":\"#f2f5fa\"},\"hovermode\":\"closest\",\"hoverlabel\":{\"align\":\"left\"},\"paper_bgcolor\":\"rgb(17,17,17)\",\"plot_bgcolor\":\"rgb(17,17,17)\",\"polar\":{\"bgcolor\":\"rgb(17,17,17)\",\"angularaxis\":{\"gridcolor\":\"#506784\",\"linecolor\":\"#506784\",\"ticks\":\"\"},\"radialaxis\":{\"gridcolor\":\"#506784\",\"linecolor\":\"#506784\",\"ticks\":\"\"}},\"ternary\":{\"bgcolor\":\"rgb(17,17,17)\",\"aaxis\":{\"gridcolor\":\"#506784\",\"linecolor\":\"#506784\",\"ticks\":\"\"},\"baxis\":{\"gridcolor\":\"#506784\",\"linecolor\":\"#506784\",\"ticks\":\"\"},\"caxis\":{\"gridcolor\":\"#506784\",\"linecolor\":\"#506784\",\"ticks\":\"\"}},\"coloraxis\":{\"colorbar\":{\"outlinewidth\":0,\"ticks\":\"\"}},\"colorscale\":{\"sequential\":[[0.0,\"#0d0887\"],[0.1111111111111111,\"#46039f\"],[0.2222222222222222,\"#7201a8\"],[0.3333333333333333,\"#9c179e\"],[0.4444444444444444,\"#bd3786\"],[0.5555555555555556,\"#d8576b\"],[0.6666666666666666,\"#ed7953\"],[0.7777777777777778,\"#fb9f3a\"],[0.8888888888888888,\"#fdca26\"],[1.0,\"#f0f921\"]],\"sequentialminus\":[[0.0,\"#0d0887\"],[0.1111111111111111,\"#46039f\"],[0.2222222222222222,\"#7201a8\"],[0.3333333333333333,\"#9c179e\"],[0.4444444444444444,\"#bd3786\"],[0.5555555555555556,\"#d8576b\"],[0.6666666666666666,\"#ed7953\"],[0.7777777777777778,\"#fb9f3a\"],[0.8888888888888888,\"#fdca26\"],[1.0,\"#f0f921\"]],\"diverging\":[[0,\"#8e0152\"],[0.1,\"#c51b7d\"],[0.2,\"#de77ae\"],[0.3,\"#f1b6da\"],[0.4,\"#fde0ef\"],[0.5,\"#f7f7f7\"],[0.6,\"#e6f5d0\"],[0.7,\"#b8e186\"],[0.8,\"#7fbc41\"],[0.9,\"#4d9221\"],[1,\"#276419\"]]},\"xaxis\":{\"gridcolor\":\"#283442\",\"linecolor\":\"#506784\",\"ticks\":\"\",\"title\":{\"standoff\":15},\"zerolinecolor\":\"#283442\",\"automargin\":true,\"zerolinewidth\":2},\"yaxis\":{\"gridcolor\":\"#283442\",\"linecolor\":\"#506784\",\"ticks\":\"\",\"title\":{\"standoff\":15},\"zerolinecolor\":\"#283442\",\"automargin\":true,\"zerolinewidth\":2},\"scene\":{\"xaxis\":{\"backgroundcolor\":\"rgb(17,17,17)\",\"gridcolor\":\"#506784\",\"linecolor\":\"#506784\",\"showbackground\":true,\"ticks\":\"\",\"zerolinecolor\":\"#C8D4E3\",\"gridwidth\":2},\"yaxis\":{\"backgroundcolor\":\"rgb(17,17,17)\",\"gridcolor\":\"#506784\",\"linecolor\":\"#506784\",\"showbackground\":true,\"ticks\":\"\",\"zerolinecolor\":\"#C8D4E3\",\"gridwidth\":2},\"zaxis\":{\"backgroundcolor\":\"rgb(17,17,17)\",\"gridcolor\":\"#506784\",\"linecolor\":\"#506784\",\"showbackground\":true,\"ticks\":\"\",\"zerolinecolor\":\"#C8D4E3\",\"gridwidth\":2}},\"shapedefaults\":{\"line\":{\"color\":\"#f2f5fa\"}},\"annotationdefaults\":{\"arrowcolor\":\"#f2f5fa\",\"arrowhead\":0,\"arrowwidth\":1},\"geo\":{\"bgcolor\":\"rgb(17,17,17)\",\"landcolor\":\"rgb(17,17,17)\",\"subunitcolor\":\"#506784\",\"showland\":true,\"showlakes\":true,\"lakecolor\":\"rgb(17,17,17)\"},\"title\":{\"x\":0.05},\"updatemenudefaults\":{\"bgcolor\":\"#506784\",\"borderwidth\":0},\"sliderdefaults\":{\"bgcolor\":\"#C8D4E3\",\"borderwidth\":1,\"bordercolor\":\"rgb(17,17,17)\",\"tickwidth\":0},\"mapbox\":{\"style\":\"dark\"}}},\"xaxis\":{\"anchor\":\"y\",\"domain\":[0.0,1.0],\"title\":{\"text\":\"Epochs\"}},\"yaxis\":{\"anchor\":\"x\",\"domain\":[0.0,1.0],\"title\":{\"text\":\"Loss\"}},\"legend\":{\"title\":{\"text\":\"Experiment\"},\"tracegroupgap\":0},\"title\":{\"text\":\"Test loss\"}},                        {\"responsive\": true}                    ).then(function(){\n                            \nvar gd = document.getElementById('eaeedf21-706c-4a59-95b6-7b7767537161');\nvar x = new MutationObserver(function (mutations, observer) {{\n        var display = window.getComputedStyle(gd).display;\n        if (!display || display === 'none') {{\n            console.log([gd, 'removed!']);\n            Plotly.purge(gd);\n            observer.disconnect();\n        }}\n}});\n\n// Listen for the removal of the full notebook cells\nvar notebookContainer = gd.closest('#notebook-container');\nif (notebookContainer) {{\n    x.observe(notebookContainer, {childList: true});\n}}\n\n// Listen for the clearing of the current output cell\nvar outputEl = gd.closest('.output');\nif (outputEl) {{\n    x.observe(outputEl, {childList: true});\n}}\n\n                        })                };                });            </script>        </div>"
     },
     "metadata": {},
     "output_type": "display_data"
    }
   ],
   "source": [
    "visualize(['final'])"
   ],
   "metadata": {
    "collapsed": false,
    "ExecuteTime": {
     "end_time": "2024-11-18T16:06:27.703717Z",
     "start_time": "2024-11-18T16:06:22.814876Z"
    }
   },
   "execution_count": 36
  },
  {
   "cell_type": "markdown",
   "source": [
    "# Comparison of the best ProxProp and Backprop"
   ],
   "metadata": {
    "collapsed": false
   }
  },
  {
   "cell_type": "markdown",
   "source": [
    "I trained both ProxProp and BackProp on the same hyperparameters to see the outcome."
   ],
   "metadata": {
    "collapsed": false
   }
  },
  {
   "cell_type": "code",
   "execution_count": 10,
   "metadata": {
    "id": "7OmbsRwJ4QHL",
    "colab": {
     "base_uri": "https://localhost:8080/"
    },
    "executionInfo": {
     "status": "ok",
     "timestamp": 1731852975192,
     "user_tz": -60,
     "elapsed": 1394022,
     "user": {
      "displayName": "Juliusz Pawlus",
      "userId": "04893540272096859836"
     }
    },
    "outputId": "bafa1213-47a7-435d-a968-af7fca88eecc",
    "ExecuteTime": {
     "end_time": "2024-11-18T13:16:22.429935Z",
     "start_time": "2024-11-18T13:02:07.429157Z"
    }
   },
   "outputs": [
    {
     "name": "stdout",
     "output_type": "stream",
     "text": [
      "Epoch: 0, Accuracy: 0.0777, Loss: 29.62529840185619\n",
      "Epoch: 1, Accuracy: 0.9064, Loss: 1.6621938324646939\n",
      "Epoch: 2, Accuracy: 0.9315, Loss: 0.44638671586039125\n",
      "Epoch: 3, Accuracy: 0.9424, Loss: 0.3405253150033578\n",
      "Epoch: 4, Accuracy: 0.9466, Loss: 0.276209869920565\n",
      "Epoch: 5, Accuracy: 0.948, Loss: 0.24002799834735192\n",
      "Epoch: 6, Accuracy: 0.9484, Loss: 0.2118596541153863\n",
      "Epoch: 7, Accuracy: 0.9517, Loss: 0.19195326259817183\n",
      "Epoch: 8, Accuracy: 0.9486, Loss: 0.1757985980296938\n",
      "Epoch: 9, Accuracy: 0.95, Loss: 0.16444730184469392\n",
      "Epoch: 10, Accuracy: 0.9508, Loss: 0.15220281568263472\n",
      "Epoch: 11, Accuracy: 0.9512, Loss: 0.1423239539288379\n",
      "Epoch: 12, Accuracy: 0.9528, Loss: 0.13380307651320797\n",
      "Epoch: 13, Accuracy: 0.9539, Loss: 0.1252442185627994\n",
      "Epoch: 14, Accuracy: 0.9531, Loss: 0.1201359498055823\n",
      "Epoch: 15, Accuracy: 0.9537, Loss: 0.11580124014509456\n",
      "Epoch: 16, Accuracy: 0.9551, Loss: 0.11265579018403082\n",
      "Epoch: 17, Accuracy: 0.9531, Loss: 0.1098768039171592\n",
      "Epoch: 18, Accuracy: 0.9537, Loss: 0.10795536776130518\n",
      "Epoch: 19, Accuracy: 0.954, Loss: 0.10646738735666304\n",
      "Epoch: 20, Accuracy: 0.954, Loss: 0.1053729399082504\n",
      "Epoch: 0, Accuracy: 0.2907, Loss: 13.183457842803588\n",
      "Epoch: 1, Accuracy: 0.302, Loss: 12.82058974869503\n",
      "Epoch: 2, Accuracy: 0.314, Loss: 12.606430616659068\n",
      "Epoch: 3, Accuracy: 0.4271, Loss: 11.33809020724078\n",
      "Epoch: 4, Accuracy: 0.5867, Loss: 8.376468852576657\n",
      "Epoch: 5, Accuracy: 0.5916, Loss: 7.6738439967467675\n",
      "Epoch: 6, Accuracy: 0.5952, Loss: 7.6196686149646755\n",
      "Epoch: 7, Accuracy: 0.5961, Loss: 7.62556311862173\n",
      "Epoch: 8, Accuracy: 0.5965, Loss: 7.584004855697436\n",
      "Epoch: 9, Accuracy: 0.5962, Loss: 7.567876923927146\n",
      "Epoch: 10, Accuracy: 0.5968, Loss: 7.540217145356903\n",
      "Epoch: 11, Accuracy: 0.5967, Loss: 7.503976339870694\n",
      "Epoch: 12, Accuracy: 0.5974, Loss: 7.471430418655258\n",
      "Epoch: 13, Accuracy: 0.5987, Loss: 7.440128177627259\n",
      "Epoch: 14, Accuracy: 0.6, Loss: 7.421109242436457\n",
      "Epoch: 15, Accuracy: 0.6008, Loss: 7.387855046451039\n",
      "Epoch: 16, Accuracy: 0.6018, Loss: 7.330420761944563\n",
      "Epoch: 17, Accuracy: 0.6046, Loss: 7.26401561729659\n",
      "Epoch: 18, Accuracy: 0.6559, Loss: 7.098368006976891\n",
      "Epoch: 19, Accuracy: 0.6798, Loss: 5.760093119628828\n"
     ]
    }
   ],
   "source": [
    "# Parameters for both models.\n",
    "params = {\"structure\": [784, 132, 132, 10], \"learning_rate\": 7, \"batch_size\": 80, \"epochs\": 20}\n",
    "\n",
    "\n",
    "task = Task.create(project_name='DNN_projekt1_moje_testy', task_name=\"Porównanie Prox\")\n",
    "task.mark_started()\n",
    "logger = task.get_logger()\n",
    "task.connect(params)\n",
    "\n",
    "np.random.seed(0)  # Setting the first seed to prevent completely random initialization.\n",
    "network = ProxProp(params['structure']) # Initialization of the best ProxProp model.\n",
    "network.SGD(\n",
    "    (x_train, y_train),\n",
    "    epochs=params['epochs'],\n",
    "    mini_batch_size=params['batch_size'],\n",
    "    eta=params['learning_rate'],\n",
    "    test_data=(x_test, y_test),\n",
    "    logger=logger\n",
    ")\n",
    "\n",
    "task.mark_completed()\n",
    "task.close()\n",
    "\n",
    "\n",
    "\n",
    "task = Task.create(project_name='DNN_projekt1_moje_testy', task_name=\"Porównanie Backprop\")\n",
    "task.mark_started()\n",
    "logger = task.get_logger()\n",
    "task.connect(params)\n",
    "\n",
    "\n",
    "np.random.seed(0)  # Setting the first seed to prevent completely random initialization.\n",
    "network = Network(params['structure'])\n",
    "network.SGD(\n",
    "    (x_train, y_train),\n",
    "    epochs=params['epochs'],\n",
    "    mini_batch_size=params['batch_size'],\n",
    "    eta=params['learning_rate'],\n",
    "    test_data=(x_test, y_test),\n",
    "    logger=logger\n",
    ")\n",
    "\n",
    "task.mark_completed()\n",
    "task.close()"
   ]
  },
  {
   "cell_type": "markdown",
   "source": [
    "Unfortunately, Backprop's performance was significantly worse. As a result, I decided to compare it against ProxProp using the previously mentioned parameters."
   ],
   "metadata": {
    "collapsed": false
   }
  },
  {
   "cell_type": "code",
   "outputs": [
    {
     "name": "stdout",
     "output_type": "stream",
     "text": [
      "Epoch: 0, Accuracy: 0.6907, Loss: 2.010767895683771\n",
      "Epoch: 1, Accuracy: 0.8502, Loss: 0.6889222998884766\n",
      "Epoch: 2, Accuracy: 0.8832, Loss: 0.5202733163446179\n",
      "Epoch: 3, Accuracy: 0.8961, Loss: 0.45132825267606524\n",
      "Epoch: 4, Accuracy: 0.904, Loss: 0.40924814660514347\n",
      "Epoch: 5, Accuracy: 0.9095, Loss: 0.3809453565601423\n",
      "Epoch: 6, Accuracy: 0.9147, Loss: 0.35998288789526645\n",
      "Epoch: 7, Accuracy: 0.9189, Loss: 0.3434453293256434\n",
      "Epoch: 8, Accuracy: 0.9209, Loss: 0.32959475324146\n",
      "Epoch: 9, Accuracy: 0.9234, Loss: 0.3174356131600883\n",
      "Epoch: 10, Accuracy: 0.9257, Loss: 0.30655162568970795\n",
      "Epoch: 11, Accuracy: 0.9275, Loss: 0.29708138338294005\n",
      "Epoch: 12, Accuracy: 0.9298, Loss: 0.2891009311837406\n",
      "Epoch: 13, Accuracy: 0.9305, Loss: 0.28228312418430207\n",
      "Epoch: 14, Accuracy: 0.932, Loss: 0.27620439025177307\n",
      "Epoch: 15, Accuracy: 0.9324, Loss: 0.2706353997313389\n",
      "Epoch: 16, Accuracy: 0.9328, Loss: 0.26539926725400337\n",
      "Epoch: 17, Accuracy: 0.934, Loss: 0.2604480958440888\n",
      "Epoch: 18, Accuracy: 0.935, Loss: 0.2558375600857912\n",
      "Epoch: 19, Accuracy: 0.9359, Loss: 0.25160701773958705\n"
     ]
    }
   ],
   "source": [
    "params = {\"structure\": [784, 30, 30, 10], \"learning_rate\": 3, \"batch_size\": 100, \"epochs\": 20}\n",
    "\n",
    "task = Task.create(project_name='DNN_projekt1_moje_testy', task_name=\"Porównanie Backprop - base params\")\n",
    "task.mark_started()\n",
    "logger = task.get_logger()\n",
    "task.connect(params)\n",
    "\n",
    "\n",
    "np.random.seed(0)  # Setting the first seed to prevent completely random initialization.\n",
    "network = Network(params['structure'])\n",
    "network.SGD(\n",
    "    (x_train, y_train),\n",
    "    epochs=params['epochs'],\n",
    "    mini_batch_size=params['batch_size'],\n",
    "    eta=params['learning_rate'],\n",
    "    test_data=(x_test, y_test),\n",
    "    logger=logger\n",
    ")\n",
    "\n",
    "task.mark_completed()\n",
    "task.close()"
   ],
   "metadata": {
    "collapsed": false,
    "ExecuteTime": {
     "end_time": "2024-11-18T13:35:06.879678Z",
     "start_time": "2024-11-18T13:34:49.992726Z"
    }
   },
   "execution_count": 11
  },
  {
   "cell_type": "markdown",
   "metadata": {
    "id": "aChkzDTD5zWE"
   },
   "source": [
    "# Training plots for the best training"
   ]
  },
  {
   "cell_type": "code",
   "outputs": [
    {
     "data": {
      "application/vnd.plotly.v1+json": {
       "data": [
        {
         "hovertemplate": "Experiment=Best ProxProp<br>Epochs=%{x}<br>Accuracy [%]=%{y}<extra></extra>",
         "legendgroup": "Best ProxProp",
         "line": {
          "color": "#636efa",
          "dash": "solid"
         },
         "marker": {
          "symbol": "circle"
         },
         "mode": "lines",
         "name": "Best ProxProp",
         "orientation": "v",
         "showlegend": true,
         "x": [
          0,
          1,
          2,
          3,
          4,
          5,
          6,
          7,
          8,
          9,
          10,
          11,
          12,
          13,
          14,
          15,
          16,
          17,
          18,
          19,
          20
         ],
         "xaxis": "x",
         "y": [
          0.07769999653100967,
          0.9064000248908997,
          0.9315000176429749,
          0.9423999786376953,
          0.9466000199317932,
          0.9480000138282776,
          0.9484000205993652,
          0.95169997215271,
          0.9485999941825867,
          0.949999988079071,
          0.9508000016212463,
          0.951200008392334,
          0.9527999758720398,
          0.9538999795913696,
          0.9531000256538391,
          0.9537000060081482,
          0.9550999999046326,
          0.9531000256538391,
          0.9537000060081482,
          0.9539999961853027,
          0.9539999961853027
         ],
         "yaxis": "y",
         "type": "scatter"
        },
        {
         "hovertemplate": "Experiment=BackProp with parameters of best ProxProp<br>Epochs=%{x}<br>Accuracy [%]=%{y}<extra></extra>",
         "legendgroup": "BackProp with parameters of best ProxProp",
         "line": {
          "color": "#EF553B",
          "dash": "solid"
         },
         "marker": {
          "symbol": "circle"
         },
         "mode": "lines",
         "name": "BackProp with parameters of best ProxProp",
         "orientation": "v",
         "showlegend": true,
         "x": [
          0,
          1,
          2,
          3,
          4,
          5,
          6,
          7,
          8,
          9,
          10,
          11,
          12,
          13,
          14,
          15,
          16,
          17,
          18,
          19,
          20
         ],
         "xaxis": "x",
         "y": [
          0.0,
          0.2906999886035919,
          0.3019999861717224,
          0.3140000104904175,
          0.4271000027656555,
          0.5867000222206116,
          0.5916000008583069,
          0.5952000021934509,
          0.5960999727249146,
          0.5964999794960022,
          0.5961999893188477,
          0.5968000292778015,
          0.5967000126838684,
          0.5974000096321106,
          0.5986999869346619,
          0.6000000238418579,
          0.6007999777793884,
          0.6018000245094299,
          0.6046000123023987,
          0.6559000015258789,
          0.6797999739646912
         ],
         "yaxis": "y",
         "type": "scatter"
        },
        {
         "hovertemplate": "Experiment=BackProp with basic parameters<br>Epochs=%{x}<br>Accuracy [%]=%{y}<extra></extra>",
         "legendgroup": "BackProp with basic parameters",
         "line": {
          "color": "#00cc96",
          "dash": "solid"
         },
         "marker": {
          "symbol": "circle"
         },
         "mode": "lines",
         "name": "BackProp with basic parameters",
         "orientation": "v",
         "showlegend": true,
         "x": [
          0,
          1,
          2,
          3,
          4,
          5,
          6,
          7,
          8,
          9,
          10,
          11,
          12,
          13,
          14,
          15,
          16,
          17,
          18,
          19,
          20
         ],
         "xaxis": "x",
         "y": [
          0.0,
          0.6906999945640564,
          0.8501999974250793,
          0.8831999897956848,
          0.8960999846458435,
          0.9039999842643738,
          0.909500002861023,
          0.9146999716758728,
          0.9189000129699707,
          0.9208999872207642,
          0.9233999848365784,
          0.9257000088691711,
          0.9275000095367432,
          0.9297999739646912,
          0.9304999709129333,
          0.9319999814033508,
          0.9323999881744385,
          0.9327999949455261,
          0.9340000152587891,
          0.9350000023841858,
          0.9358999729156494
         ],
         "yaxis": "y",
         "type": "scatter"
        }
       ],
       "layout": {
        "template": {
         "data": {
          "histogram2dcontour": [
           {
            "type": "histogram2dcontour",
            "colorbar": {
             "outlinewidth": 0,
             "ticks": ""
            },
            "colorscale": [
             [
              0.0,
              "#0d0887"
             ],
             [
              0.1111111111111111,
              "#46039f"
             ],
             [
              0.2222222222222222,
              "#7201a8"
             ],
             [
              0.3333333333333333,
              "#9c179e"
             ],
             [
              0.4444444444444444,
              "#bd3786"
             ],
             [
              0.5555555555555556,
              "#d8576b"
             ],
             [
              0.6666666666666666,
              "#ed7953"
             ],
             [
              0.7777777777777778,
              "#fb9f3a"
             ],
             [
              0.8888888888888888,
              "#fdca26"
             ],
             [
              1.0,
              "#f0f921"
             ]
            ]
           }
          ],
          "choropleth": [
           {
            "type": "choropleth",
            "colorbar": {
             "outlinewidth": 0,
             "ticks": ""
            }
           }
          ],
          "histogram2d": [
           {
            "type": "histogram2d",
            "colorbar": {
             "outlinewidth": 0,
             "ticks": ""
            },
            "colorscale": [
             [
              0.0,
              "#0d0887"
             ],
             [
              0.1111111111111111,
              "#46039f"
             ],
             [
              0.2222222222222222,
              "#7201a8"
             ],
             [
              0.3333333333333333,
              "#9c179e"
             ],
             [
              0.4444444444444444,
              "#bd3786"
             ],
             [
              0.5555555555555556,
              "#d8576b"
             ],
             [
              0.6666666666666666,
              "#ed7953"
             ],
             [
              0.7777777777777778,
              "#fb9f3a"
             ],
             [
              0.8888888888888888,
              "#fdca26"
             ],
             [
              1.0,
              "#f0f921"
             ]
            ]
           }
          ],
          "heatmap": [
           {
            "type": "heatmap",
            "colorbar": {
             "outlinewidth": 0,
             "ticks": ""
            },
            "colorscale": [
             [
              0.0,
              "#0d0887"
             ],
             [
              0.1111111111111111,
              "#46039f"
             ],
             [
              0.2222222222222222,
              "#7201a8"
             ],
             [
              0.3333333333333333,
              "#9c179e"
             ],
             [
              0.4444444444444444,
              "#bd3786"
             ],
             [
              0.5555555555555556,
              "#d8576b"
             ],
             [
              0.6666666666666666,
              "#ed7953"
             ],
             [
              0.7777777777777778,
              "#fb9f3a"
             ],
             [
              0.8888888888888888,
              "#fdca26"
             ],
             [
              1.0,
              "#f0f921"
             ]
            ]
           }
          ],
          "heatmapgl": [
           {
            "type": "heatmapgl",
            "colorbar": {
             "outlinewidth": 0,
             "ticks": ""
            },
            "colorscale": [
             [
              0.0,
              "#0d0887"
             ],
             [
              0.1111111111111111,
              "#46039f"
             ],
             [
              0.2222222222222222,
              "#7201a8"
             ],
             [
              0.3333333333333333,
              "#9c179e"
             ],
             [
              0.4444444444444444,
              "#bd3786"
             ],
             [
              0.5555555555555556,
              "#d8576b"
             ],
             [
              0.6666666666666666,
              "#ed7953"
             ],
             [
              0.7777777777777778,
              "#fb9f3a"
             ],
             [
              0.8888888888888888,
              "#fdca26"
             ],
             [
              1.0,
              "#f0f921"
             ]
            ]
           }
          ],
          "contourcarpet": [
           {
            "type": "contourcarpet",
            "colorbar": {
             "outlinewidth": 0,
             "ticks": ""
            }
           }
          ],
          "contour": [
           {
            "type": "contour",
            "colorbar": {
             "outlinewidth": 0,
             "ticks": ""
            },
            "colorscale": [
             [
              0.0,
              "#0d0887"
             ],
             [
              0.1111111111111111,
              "#46039f"
             ],
             [
              0.2222222222222222,
              "#7201a8"
             ],
             [
              0.3333333333333333,
              "#9c179e"
             ],
             [
              0.4444444444444444,
              "#bd3786"
             ],
             [
              0.5555555555555556,
              "#d8576b"
             ],
             [
              0.6666666666666666,
              "#ed7953"
             ],
             [
              0.7777777777777778,
              "#fb9f3a"
             ],
             [
              0.8888888888888888,
              "#fdca26"
             ],
             [
              1.0,
              "#f0f921"
             ]
            ]
           }
          ],
          "surface": [
           {
            "type": "surface",
            "colorbar": {
             "outlinewidth": 0,
             "ticks": ""
            },
            "colorscale": [
             [
              0.0,
              "#0d0887"
             ],
             [
              0.1111111111111111,
              "#46039f"
             ],
             [
              0.2222222222222222,
              "#7201a8"
             ],
             [
              0.3333333333333333,
              "#9c179e"
             ],
             [
              0.4444444444444444,
              "#bd3786"
             ],
             [
              0.5555555555555556,
              "#d8576b"
             ],
             [
              0.6666666666666666,
              "#ed7953"
             ],
             [
              0.7777777777777778,
              "#fb9f3a"
             ],
             [
              0.8888888888888888,
              "#fdca26"
             ],
             [
              1.0,
              "#f0f921"
             ]
            ]
           }
          ],
          "mesh3d": [
           {
            "type": "mesh3d",
            "colorbar": {
             "outlinewidth": 0,
             "ticks": ""
            }
           }
          ],
          "scatter": [
           {
            "marker": {
             "line": {
              "color": "#283442"
             }
            },
            "type": "scatter"
           }
          ],
          "parcoords": [
           {
            "type": "parcoords",
            "line": {
             "colorbar": {
              "outlinewidth": 0,
              "ticks": ""
             }
            }
           }
          ],
          "scatterpolargl": [
           {
            "type": "scatterpolargl",
            "marker": {
             "colorbar": {
              "outlinewidth": 0,
              "ticks": ""
             }
            }
           }
          ],
          "bar": [
           {
            "error_x": {
             "color": "#f2f5fa"
            },
            "error_y": {
             "color": "#f2f5fa"
            },
            "marker": {
             "line": {
              "color": "rgb(17,17,17)",
              "width": 0.5
             },
             "pattern": {
              "fillmode": "overlay",
              "size": 10,
              "solidity": 0.2
             }
            },
            "type": "bar"
           }
          ],
          "scattergeo": [
           {
            "type": "scattergeo",
            "marker": {
             "colorbar": {
              "outlinewidth": 0,
              "ticks": ""
             }
            }
           }
          ],
          "scatterpolar": [
           {
            "type": "scatterpolar",
            "marker": {
             "colorbar": {
              "outlinewidth": 0,
              "ticks": ""
             }
            }
           }
          ],
          "histogram": [
           {
            "marker": {
             "pattern": {
              "fillmode": "overlay",
              "size": 10,
              "solidity": 0.2
             }
            },
            "type": "histogram"
           }
          ],
          "scattergl": [
           {
            "marker": {
             "line": {
              "color": "#283442"
             }
            },
            "type": "scattergl"
           }
          ],
          "scatter3d": [
           {
            "type": "scatter3d",
            "line": {
             "colorbar": {
              "outlinewidth": 0,
              "ticks": ""
             }
            },
            "marker": {
             "colorbar": {
              "outlinewidth": 0,
              "ticks": ""
             }
            }
           }
          ],
          "scattermapbox": [
           {
            "type": "scattermapbox",
            "marker": {
             "colorbar": {
              "outlinewidth": 0,
              "ticks": ""
             }
            }
           }
          ],
          "scatterternary": [
           {
            "type": "scatterternary",
            "marker": {
             "colorbar": {
              "outlinewidth": 0,
              "ticks": ""
             }
            }
           }
          ],
          "scattercarpet": [
           {
            "type": "scattercarpet",
            "marker": {
             "colorbar": {
              "outlinewidth": 0,
              "ticks": ""
             }
            }
           }
          ],
          "carpet": [
           {
            "aaxis": {
             "endlinecolor": "#A2B1C6",
             "gridcolor": "#506784",
             "linecolor": "#506784",
             "minorgridcolor": "#506784",
             "startlinecolor": "#A2B1C6"
            },
            "baxis": {
             "endlinecolor": "#A2B1C6",
             "gridcolor": "#506784",
             "linecolor": "#506784",
             "minorgridcolor": "#506784",
             "startlinecolor": "#A2B1C6"
            },
            "type": "carpet"
           }
          ],
          "table": [
           {
            "cells": {
             "fill": {
              "color": "#506784"
             },
             "line": {
              "color": "rgb(17,17,17)"
             }
            },
            "header": {
             "fill": {
              "color": "#2a3f5f"
             },
             "line": {
              "color": "rgb(17,17,17)"
             }
            },
            "type": "table"
           }
          ],
          "barpolar": [
           {
            "marker": {
             "line": {
              "color": "rgb(17,17,17)",
              "width": 0.5
             },
             "pattern": {
              "fillmode": "overlay",
              "size": 10,
              "solidity": 0.2
             }
            },
            "type": "barpolar"
           }
          ],
          "pie": [
           {
            "automargin": true,
            "type": "pie"
           }
          ]
         },
         "layout": {
          "autotypenumbers": "strict",
          "colorway": [
           "#636efa",
           "#EF553B",
           "#00cc96",
           "#ab63fa",
           "#FFA15A",
           "#19d3f3",
           "#FF6692",
           "#B6E880",
           "#FF97FF",
           "#FECB52"
          ],
          "font": {
           "color": "#f2f5fa"
          },
          "hovermode": "closest",
          "hoverlabel": {
           "align": "left"
          },
          "paper_bgcolor": "rgb(17,17,17)",
          "plot_bgcolor": "rgb(17,17,17)",
          "polar": {
           "bgcolor": "rgb(17,17,17)",
           "angularaxis": {
            "gridcolor": "#506784",
            "linecolor": "#506784",
            "ticks": ""
           },
           "radialaxis": {
            "gridcolor": "#506784",
            "linecolor": "#506784",
            "ticks": ""
           }
          },
          "ternary": {
           "bgcolor": "rgb(17,17,17)",
           "aaxis": {
            "gridcolor": "#506784",
            "linecolor": "#506784",
            "ticks": ""
           },
           "baxis": {
            "gridcolor": "#506784",
            "linecolor": "#506784",
            "ticks": ""
           },
           "caxis": {
            "gridcolor": "#506784",
            "linecolor": "#506784",
            "ticks": ""
           }
          },
          "coloraxis": {
           "colorbar": {
            "outlinewidth": 0,
            "ticks": ""
           }
          },
          "colorscale": {
           "sequential": [
            [
             0.0,
             "#0d0887"
            ],
            [
             0.1111111111111111,
             "#46039f"
            ],
            [
             0.2222222222222222,
             "#7201a8"
            ],
            [
             0.3333333333333333,
             "#9c179e"
            ],
            [
             0.4444444444444444,
             "#bd3786"
            ],
            [
             0.5555555555555556,
             "#d8576b"
            ],
            [
             0.6666666666666666,
             "#ed7953"
            ],
            [
             0.7777777777777778,
             "#fb9f3a"
            ],
            [
             0.8888888888888888,
             "#fdca26"
            ],
            [
             1.0,
             "#f0f921"
            ]
           ],
           "sequentialminus": [
            [
             0.0,
             "#0d0887"
            ],
            [
             0.1111111111111111,
             "#46039f"
            ],
            [
             0.2222222222222222,
             "#7201a8"
            ],
            [
             0.3333333333333333,
             "#9c179e"
            ],
            [
             0.4444444444444444,
             "#bd3786"
            ],
            [
             0.5555555555555556,
             "#d8576b"
            ],
            [
             0.6666666666666666,
             "#ed7953"
            ],
            [
             0.7777777777777778,
             "#fb9f3a"
            ],
            [
             0.8888888888888888,
             "#fdca26"
            ],
            [
             1.0,
             "#f0f921"
            ]
           ],
           "diverging": [
            [
             0,
             "#8e0152"
            ],
            [
             0.1,
             "#c51b7d"
            ],
            [
             0.2,
             "#de77ae"
            ],
            [
             0.3,
             "#f1b6da"
            ],
            [
             0.4,
             "#fde0ef"
            ],
            [
             0.5,
             "#f7f7f7"
            ],
            [
             0.6,
             "#e6f5d0"
            ],
            [
             0.7,
             "#b8e186"
            ],
            [
             0.8,
             "#7fbc41"
            ],
            [
             0.9,
             "#4d9221"
            ],
            [
             1,
             "#276419"
            ]
           ]
          },
          "xaxis": {
           "gridcolor": "#283442",
           "linecolor": "#506784",
           "ticks": "",
           "title": {
            "standoff": 15
           },
           "zerolinecolor": "#283442",
           "automargin": true,
           "zerolinewidth": 2
          },
          "yaxis": {
           "gridcolor": "#283442",
           "linecolor": "#506784",
           "ticks": "",
           "title": {
            "standoff": 15
           },
           "zerolinecolor": "#283442",
           "automargin": true,
           "zerolinewidth": 2
          },
          "scene": {
           "xaxis": {
            "backgroundcolor": "rgb(17,17,17)",
            "gridcolor": "#506784",
            "linecolor": "#506784",
            "showbackground": true,
            "ticks": "",
            "zerolinecolor": "#C8D4E3",
            "gridwidth": 2
           },
           "yaxis": {
            "backgroundcolor": "rgb(17,17,17)",
            "gridcolor": "#506784",
            "linecolor": "#506784",
            "showbackground": true,
            "ticks": "",
            "zerolinecolor": "#C8D4E3",
            "gridwidth": 2
           },
           "zaxis": {
            "backgroundcolor": "rgb(17,17,17)",
            "gridcolor": "#506784",
            "linecolor": "#506784",
            "showbackground": true,
            "ticks": "",
            "zerolinecolor": "#C8D4E3",
            "gridwidth": 2
           }
          },
          "shapedefaults": {
           "line": {
            "color": "#f2f5fa"
           }
          },
          "annotationdefaults": {
           "arrowcolor": "#f2f5fa",
           "arrowhead": 0,
           "arrowwidth": 1
          },
          "geo": {
           "bgcolor": "rgb(17,17,17)",
           "landcolor": "rgb(17,17,17)",
           "subunitcolor": "#506784",
           "showland": true,
           "showlakes": true,
           "lakecolor": "rgb(17,17,17)"
          },
          "title": {
           "x": 0.05
          },
          "updatemenudefaults": {
           "bgcolor": "#506784",
           "borderwidth": 0
          },
          "sliderdefaults": {
           "bgcolor": "#C8D4E3",
           "borderwidth": 1,
           "bordercolor": "rgb(17,17,17)",
           "tickwidth": 0
          },
          "mapbox": {
           "style": "dark"
          }
         }
        },
        "xaxis": {
         "anchor": "y",
         "domain": [
          0.0,
          1.0
         ],
         "title": {
          "text": "Epochs"
         }
        },
        "yaxis": {
         "anchor": "x",
         "domain": [
          0.0,
          1.0
         ],
         "title": {
          "text": "Accuracy [%]"
         }
        },
        "legend": {
         "title": {
          "text": "Experiment"
         },
         "tracegroupgap": 0
        },
        "title": {
         "text": "Test accuracy"
        }
       },
       "config": {
        "plotlyServerURL": "https://plot.ly"
       }
      },
      "text/html": "<div>                            <div id=\"ea43564b-970a-4ee0-a93f-1e5c991d41a1\" class=\"plotly-graph-div\" style=\"height:525px; width:100%;\"></div>            <script type=\"text/javascript\">                require([\"plotly\"], function(Plotly) {                    window.PLOTLYENV=window.PLOTLYENV || {};                                    if (document.getElementById(\"ea43564b-970a-4ee0-a93f-1e5c991d41a1\")) {                    Plotly.newPlot(                        \"ea43564b-970a-4ee0-a93f-1e5c991d41a1\",                        [{\"hovertemplate\":\"Experiment=Best ProxProp\\u003cbr\\u003eEpochs=%{x}\\u003cbr\\u003eAccuracy [%]=%{y}\\u003cextra\\u003e\\u003c\\u002fextra\\u003e\",\"legendgroup\":\"Best ProxProp\",\"line\":{\"color\":\"#636efa\",\"dash\":\"solid\"},\"marker\":{\"symbol\":\"circle\"},\"mode\":\"lines\",\"name\":\"Best ProxProp\",\"orientation\":\"v\",\"showlegend\":true,\"x\":[0,1,2,3,4,5,6,7,8,9,10,11,12,13,14,15,16,17,18,19,20],\"xaxis\":\"x\",\"y\":[0.07769999653100967,0.9064000248908997,0.9315000176429749,0.9423999786376953,0.9466000199317932,0.9480000138282776,0.9484000205993652,0.95169997215271,0.9485999941825867,0.949999988079071,0.9508000016212463,0.951200008392334,0.9527999758720398,0.9538999795913696,0.9531000256538391,0.9537000060081482,0.9550999999046326,0.9531000256538391,0.9537000060081482,0.9539999961853027,0.9539999961853027],\"yaxis\":\"y\",\"type\":\"scatter\"},{\"hovertemplate\":\"Experiment=BackProp with parameters of best ProxProp\\u003cbr\\u003eEpochs=%{x}\\u003cbr\\u003eAccuracy [%]=%{y}\\u003cextra\\u003e\\u003c\\u002fextra\\u003e\",\"legendgroup\":\"BackProp with parameters of best ProxProp\",\"line\":{\"color\":\"#EF553B\",\"dash\":\"solid\"},\"marker\":{\"symbol\":\"circle\"},\"mode\":\"lines\",\"name\":\"BackProp with parameters of best ProxProp\",\"orientation\":\"v\",\"showlegend\":true,\"x\":[0,1,2,3,4,5,6,7,8,9,10,11,12,13,14,15,16,17,18,19,20],\"xaxis\":\"x\",\"y\":[0.0,0.2906999886035919,0.3019999861717224,0.3140000104904175,0.4271000027656555,0.5867000222206116,0.5916000008583069,0.5952000021934509,0.5960999727249146,0.5964999794960022,0.5961999893188477,0.5968000292778015,0.5967000126838684,0.5974000096321106,0.5986999869346619,0.6000000238418579,0.6007999777793884,0.6018000245094299,0.6046000123023987,0.6559000015258789,0.6797999739646912],\"yaxis\":\"y\",\"type\":\"scatter\"},{\"hovertemplate\":\"Experiment=BackProp with basic parameters\\u003cbr\\u003eEpochs=%{x}\\u003cbr\\u003eAccuracy [%]=%{y}\\u003cextra\\u003e\\u003c\\u002fextra\\u003e\",\"legendgroup\":\"BackProp with basic parameters\",\"line\":{\"color\":\"#00cc96\",\"dash\":\"solid\"},\"marker\":{\"symbol\":\"circle\"},\"mode\":\"lines\",\"name\":\"BackProp with basic parameters\",\"orientation\":\"v\",\"showlegend\":true,\"x\":[0,1,2,3,4,5,6,7,8,9,10,11,12,13,14,15,16,17,18,19,20],\"xaxis\":\"x\",\"y\":[0.0,0.6906999945640564,0.8501999974250793,0.8831999897956848,0.8960999846458435,0.9039999842643738,0.909500002861023,0.9146999716758728,0.9189000129699707,0.9208999872207642,0.9233999848365784,0.9257000088691711,0.9275000095367432,0.9297999739646912,0.9304999709129333,0.9319999814033508,0.9323999881744385,0.9327999949455261,0.9340000152587891,0.9350000023841858,0.9358999729156494],\"yaxis\":\"y\",\"type\":\"scatter\"}],                        {\"template\":{\"data\":{\"histogram2dcontour\":[{\"type\":\"histogram2dcontour\",\"colorbar\":{\"outlinewidth\":0,\"ticks\":\"\"},\"colorscale\":[[0.0,\"#0d0887\"],[0.1111111111111111,\"#46039f\"],[0.2222222222222222,\"#7201a8\"],[0.3333333333333333,\"#9c179e\"],[0.4444444444444444,\"#bd3786\"],[0.5555555555555556,\"#d8576b\"],[0.6666666666666666,\"#ed7953\"],[0.7777777777777778,\"#fb9f3a\"],[0.8888888888888888,\"#fdca26\"],[1.0,\"#f0f921\"]]}],\"choropleth\":[{\"type\":\"choropleth\",\"colorbar\":{\"outlinewidth\":0,\"ticks\":\"\"}}],\"histogram2d\":[{\"type\":\"histogram2d\",\"colorbar\":{\"outlinewidth\":0,\"ticks\":\"\"},\"colorscale\":[[0.0,\"#0d0887\"],[0.1111111111111111,\"#46039f\"],[0.2222222222222222,\"#7201a8\"],[0.3333333333333333,\"#9c179e\"],[0.4444444444444444,\"#bd3786\"],[0.5555555555555556,\"#d8576b\"],[0.6666666666666666,\"#ed7953\"],[0.7777777777777778,\"#fb9f3a\"],[0.8888888888888888,\"#fdca26\"],[1.0,\"#f0f921\"]]}],\"heatmap\":[{\"type\":\"heatmap\",\"colorbar\":{\"outlinewidth\":0,\"ticks\":\"\"},\"colorscale\":[[0.0,\"#0d0887\"],[0.1111111111111111,\"#46039f\"],[0.2222222222222222,\"#7201a8\"],[0.3333333333333333,\"#9c179e\"],[0.4444444444444444,\"#bd3786\"],[0.5555555555555556,\"#d8576b\"],[0.6666666666666666,\"#ed7953\"],[0.7777777777777778,\"#fb9f3a\"],[0.8888888888888888,\"#fdca26\"],[1.0,\"#f0f921\"]]}],\"heatmapgl\":[{\"type\":\"heatmapgl\",\"colorbar\":{\"outlinewidth\":0,\"ticks\":\"\"},\"colorscale\":[[0.0,\"#0d0887\"],[0.1111111111111111,\"#46039f\"],[0.2222222222222222,\"#7201a8\"],[0.3333333333333333,\"#9c179e\"],[0.4444444444444444,\"#bd3786\"],[0.5555555555555556,\"#d8576b\"],[0.6666666666666666,\"#ed7953\"],[0.7777777777777778,\"#fb9f3a\"],[0.8888888888888888,\"#fdca26\"],[1.0,\"#f0f921\"]]}],\"contourcarpet\":[{\"type\":\"contourcarpet\",\"colorbar\":{\"outlinewidth\":0,\"ticks\":\"\"}}],\"contour\":[{\"type\":\"contour\",\"colorbar\":{\"outlinewidth\":0,\"ticks\":\"\"},\"colorscale\":[[0.0,\"#0d0887\"],[0.1111111111111111,\"#46039f\"],[0.2222222222222222,\"#7201a8\"],[0.3333333333333333,\"#9c179e\"],[0.4444444444444444,\"#bd3786\"],[0.5555555555555556,\"#d8576b\"],[0.6666666666666666,\"#ed7953\"],[0.7777777777777778,\"#fb9f3a\"],[0.8888888888888888,\"#fdca26\"],[1.0,\"#f0f921\"]]}],\"surface\":[{\"type\":\"surface\",\"colorbar\":{\"outlinewidth\":0,\"ticks\":\"\"},\"colorscale\":[[0.0,\"#0d0887\"],[0.1111111111111111,\"#46039f\"],[0.2222222222222222,\"#7201a8\"],[0.3333333333333333,\"#9c179e\"],[0.4444444444444444,\"#bd3786\"],[0.5555555555555556,\"#d8576b\"],[0.6666666666666666,\"#ed7953\"],[0.7777777777777778,\"#fb9f3a\"],[0.8888888888888888,\"#fdca26\"],[1.0,\"#f0f921\"]]}],\"mesh3d\":[{\"type\":\"mesh3d\",\"colorbar\":{\"outlinewidth\":0,\"ticks\":\"\"}}],\"scatter\":[{\"marker\":{\"line\":{\"color\":\"#283442\"}},\"type\":\"scatter\"}],\"parcoords\":[{\"type\":\"parcoords\",\"line\":{\"colorbar\":{\"outlinewidth\":0,\"ticks\":\"\"}}}],\"scatterpolargl\":[{\"type\":\"scatterpolargl\",\"marker\":{\"colorbar\":{\"outlinewidth\":0,\"ticks\":\"\"}}}],\"bar\":[{\"error_x\":{\"color\":\"#f2f5fa\"},\"error_y\":{\"color\":\"#f2f5fa\"},\"marker\":{\"line\":{\"color\":\"rgb(17,17,17)\",\"width\":0.5},\"pattern\":{\"fillmode\":\"overlay\",\"size\":10,\"solidity\":0.2}},\"type\":\"bar\"}],\"scattergeo\":[{\"type\":\"scattergeo\",\"marker\":{\"colorbar\":{\"outlinewidth\":0,\"ticks\":\"\"}}}],\"scatterpolar\":[{\"type\":\"scatterpolar\",\"marker\":{\"colorbar\":{\"outlinewidth\":0,\"ticks\":\"\"}}}],\"histogram\":[{\"marker\":{\"pattern\":{\"fillmode\":\"overlay\",\"size\":10,\"solidity\":0.2}},\"type\":\"histogram\"}],\"scattergl\":[{\"marker\":{\"line\":{\"color\":\"#283442\"}},\"type\":\"scattergl\"}],\"scatter3d\":[{\"type\":\"scatter3d\",\"line\":{\"colorbar\":{\"outlinewidth\":0,\"ticks\":\"\"}},\"marker\":{\"colorbar\":{\"outlinewidth\":0,\"ticks\":\"\"}}}],\"scattermapbox\":[{\"type\":\"scattermapbox\",\"marker\":{\"colorbar\":{\"outlinewidth\":0,\"ticks\":\"\"}}}],\"scatterternary\":[{\"type\":\"scatterternary\",\"marker\":{\"colorbar\":{\"outlinewidth\":0,\"ticks\":\"\"}}}],\"scattercarpet\":[{\"type\":\"scattercarpet\",\"marker\":{\"colorbar\":{\"outlinewidth\":0,\"ticks\":\"\"}}}],\"carpet\":[{\"aaxis\":{\"endlinecolor\":\"#A2B1C6\",\"gridcolor\":\"#506784\",\"linecolor\":\"#506784\",\"minorgridcolor\":\"#506784\",\"startlinecolor\":\"#A2B1C6\"},\"baxis\":{\"endlinecolor\":\"#A2B1C6\",\"gridcolor\":\"#506784\",\"linecolor\":\"#506784\",\"minorgridcolor\":\"#506784\",\"startlinecolor\":\"#A2B1C6\"},\"type\":\"carpet\"}],\"table\":[{\"cells\":{\"fill\":{\"color\":\"#506784\"},\"line\":{\"color\":\"rgb(17,17,17)\"}},\"header\":{\"fill\":{\"color\":\"#2a3f5f\"},\"line\":{\"color\":\"rgb(17,17,17)\"}},\"type\":\"table\"}],\"barpolar\":[{\"marker\":{\"line\":{\"color\":\"rgb(17,17,17)\",\"width\":0.5},\"pattern\":{\"fillmode\":\"overlay\",\"size\":10,\"solidity\":0.2}},\"type\":\"barpolar\"}],\"pie\":[{\"automargin\":true,\"type\":\"pie\"}]},\"layout\":{\"autotypenumbers\":\"strict\",\"colorway\":[\"#636efa\",\"#EF553B\",\"#00cc96\",\"#ab63fa\",\"#FFA15A\",\"#19d3f3\",\"#FF6692\",\"#B6E880\",\"#FF97FF\",\"#FECB52\"],\"font\":{\"color\":\"#f2f5fa\"},\"hovermode\":\"closest\",\"hoverlabel\":{\"align\":\"left\"},\"paper_bgcolor\":\"rgb(17,17,17)\",\"plot_bgcolor\":\"rgb(17,17,17)\",\"polar\":{\"bgcolor\":\"rgb(17,17,17)\",\"angularaxis\":{\"gridcolor\":\"#506784\",\"linecolor\":\"#506784\",\"ticks\":\"\"},\"radialaxis\":{\"gridcolor\":\"#506784\",\"linecolor\":\"#506784\",\"ticks\":\"\"}},\"ternary\":{\"bgcolor\":\"rgb(17,17,17)\",\"aaxis\":{\"gridcolor\":\"#506784\",\"linecolor\":\"#506784\",\"ticks\":\"\"},\"baxis\":{\"gridcolor\":\"#506784\",\"linecolor\":\"#506784\",\"ticks\":\"\"},\"caxis\":{\"gridcolor\":\"#506784\",\"linecolor\":\"#506784\",\"ticks\":\"\"}},\"coloraxis\":{\"colorbar\":{\"outlinewidth\":0,\"ticks\":\"\"}},\"colorscale\":{\"sequential\":[[0.0,\"#0d0887\"],[0.1111111111111111,\"#46039f\"],[0.2222222222222222,\"#7201a8\"],[0.3333333333333333,\"#9c179e\"],[0.4444444444444444,\"#bd3786\"],[0.5555555555555556,\"#d8576b\"],[0.6666666666666666,\"#ed7953\"],[0.7777777777777778,\"#fb9f3a\"],[0.8888888888888888,\"#fdca26\"],[1.0,\"#f0f921\"]],\"sequentialminus\":[[0.0,\"#0d0887\"],[0.1111111111111111,\"#46039f\"],[0.2222222222222222,\"#7201a8\"],[0.3333333333333333,\"#9c179e\"],[0.4444444444444444,\"#bd3786\"],[0.5555555555555556,\"#d8576b\"],[0.6666666666666666,\"#ed7953\"],[0.7777777777777778,\"#fb9f3a\"],[0.8888888888888888,\"#fdca26\"],[1.0,\"#f0f921\"]],\"diverging\":[[0,\"#8e0152\"],[0.1,\"#c51b7d\"],[0.2,\"#de77ae\"],[0.3,\"#f1b6da\"],[0.4,\"#fde0ef\"],[0.5,\"#f7f7f7\"],[0.6,\"#e6f5d0\"],[0.7,\"#b8e186\"],[0.8,\"#7fbc41\"],[0.9,\"#4d9221\"],[1,\"#276419\"]]},\"xaxis\":{\"gridcolor\":\"#283442\",\"linecolor\":\"#506784\",\"ticks\":\"\",\"title\":{\"standoff\":15},\"zerolinecolor\":\"#283442\",\"automargin\":true,\"zerolinewidth\":2},\"yaxis\":{\"gridcolor\":\"#283442\",\"linecolor\":\"#506784\",\"ticks\":\"\",\"title\":{\"standoff\":15},\"zerolinecolor\":\"#283442\",\"automargin\":true,\"zerolinewidth\":2},\"scene\":{\"xaxis\":{\"backgroundcolor\":\"rgb(17,17,17)\",\"gridcolor\":\"#506784\",\"linecolor\":\"#506784\",\"showbackground\":true,\"ticks\":\"\",\"zerolinecolor\":\"#C8D4E3\",\"gridwidth\":2},\"yaxis\":{\"backgroundcolor\":\"rgb(17,17,17)\",\"gridcolor\":\"#506784\",\"linecolor\":\"#506784\",\"showbackground\":true,\"ticks\":\"\",\"zerolinecolor\":\"#C8D4E3\",\"gridwidth\":2},\"zaxis\":{\"backgroundcolor\":\"rgb(17,17,17)\",\"gridcolor\":\"#506784\",\"linecolor\":\"#506784\",\"showbackground\":true,\"ticks\":\"\",\"zerolinecolor\":\"#C8D4E3\",\"gridwidth\":2}},\"shapedefaults\":{\"line\":{\"color\":\"#f2f5fa\"}},\"annotationdefaults\":{\"arrowcolor\":\"#f2f5fa\",\"arrowhead\":0,\"arrowwidth\":1},\"geo\":{\"bgcolor\":\"rgb(17,17,17)\",\"landcolor\":\"rgb(17,17,17)\",\"subunitcolor\":\"#506784\",\"showland\":true,\"showlakes\":true,\"lakecolor\":\"rgb(17,17,17)\"},\"title\":{\"x\":0.05},\"updatemenudefaults\":{\"bgcolor\":\"#506784\",\"borderwidth\":0},\"sliderdefaults\":{\"bgcolor\":\"#C8D4E3\",\"borderwidth\":1,\"bordercolor\":\"rgb(17,17,17)\",\"tickwidth\":0},\"mapbox\":{\"style\":\"dark\"}}},\"xaxis\":{\"anchor\":\"y\",\"domain\":[0.0,1.0],\"title\":{\"text\":\"Epochs\"}},\"yaxis\":{\"anchor\":\"x\",\"domain\":[0.0,1.0],\"title\":{\"text\":\"Accuracy [%]\"}},\"legend\":{\"title\":{\"text\":\"Experiment\"},\"tracegroupgap\":0},\"title\":{\"text\":\"Test accuracy\"}},                        {\"responsive\": true}                    ).then(function(){\n                            \nvar gd = document.getElementById('ea43564b-970a-4ee0-a93f-1e5c991d41a1');\nvar x = new MutationObserver(function (mutations, observer) {{\n        var display = window.getComputedStyle(gd).display;\n        if (!display || display === 'none') {{\n            console.log([gd, 'removed!']);\n            Plotly.purge(gd);\n            observer.disconnect();\n        }}\n}});\n\n// Listen for the removal of the full notebook cells\nvar notebookContainer = gd.closest('#notebook-container');\nif (notebookContainer) {{\n    x.observe(notebookContainer, {childList: true});\n}}\n\n// Listen for the clearing of the current output cell\nvar outputEl = gd.closest('.output');\nif (outputEl) {{\n    x.observe(outputEl, {childList: true});\n}}\n\n                        })                };                });            </script>        </div>"
     },
     "metadata": {},
     "output_type": "display_data"
    },
    {
     "data": {
      "application/vnd.plotly.v1+json": {
       "data": [
        {
         "hovertemplate": "Experiment=Best ProxProp<br>Epochs=%{x}<br>Loss=%{y}<extra></extra>",
         "legendgroup": "Best ProxProp",
         "line": {
          "color": "#636efa",
          "dash": "solid"
         },
         "marker": {
          "symbol": "circle"
         },
         "mode": "lines",
         "name": "Best ProxProp",
         "orientation": "v",
         "showlegend": true,
         "x": [
          0,
          1,
          2,
          3,
          4,
          5,
          6,
          7,
          8,
          9,
          10,
          11,
          12,
          13,
          14,
          15,
          16,
          17,
          18,
          19,
          20
         ],
         "xaxis": "x",
         "y": [
          29.62529754638672,
          1.662193775177002,
          0.4463867247104645,
          0.3405253291130066,
          0.27620986104011536,
          0.2400279939174652,
          0.21185965836048126,
          0.19195325672626495,
          0.17579859495162964,
          0.16444730758666992,
          0.1522028148174286,
          0.14232395589351654,
          0.13380306959152222,
          0.12524421513080597,
          0.12013594806194305,
          0.11580123752355576,
          0.11265578866004944,
          0.10987680405378342,
          0.10795536637306213,
          0.10646738857030869,
          0.10537294298410416
         ],
         "yaxis": "y",
         "type": "scatter"
        },
        {
         "hovertemplate": "Experiment=BackProp with parameters of best ProxProp<br>Epochs=%{x}<br>Loss=%{y}<extra></extra>",
         "legendgroup": "BackProp with parameters of best ProxProp",
         "line": {
          "color": "#EF553B",
          "dash": "solid"
         },
         "marker": {
          "symbol": "circle"
         },
         "mode": "lines",
         "name": "BackProp with parameters of best ProxProp",
         "orientation": "v",
         "showlegend": true,
         "x": [
          0,
          1,
          2,
          3,
          4,
          5,
          6,
          7,
          8,
          9,
          10,
          11,
          12,
          13,
          14,
          15,
          16,
          17,
          18,
          19,
          20
         ],
         "xaxis": "x",
         "y": [
          0.0,
          13.183457374572754,
          12.820590019226074,
          12.606431007385254,
          11.338089942932129,
          8.376468658447266,
          7.673843860626221,
          7.619668483734131,
          7.625563144683838,
          7.584004878997803,
          7.567876815795898,
          7.54021692276001,
          7.503976345062256,
          7.47143030166626,
          7.440128326416016,
          7.421109199523926,
          7.387855052947998,
          7.330420970916748,
          7.2640156745910645,
          7.098368167877197,
          5.7600932121276855
         ],
         "yaxis": "y",
         "type": "scatter"
        },
        {
         "hovertemplate": "Experiment=BackProp with basic parameters<br>Epochs=%{x}<br>Loss=%{y}<extra></extra>",
         "legendgroup": "BackProp with basic parameters",
         "line": {
          "color": "#00cc96",
          "dash": "solid"
         },
         "marker": {
          "symbol": "circle"
         },
         "mode": "lines",
         "name": "BackProp with basic parameters",
         "orientation": "v",
         "showlegend": true,
         "x": [
          0,
          1,
          2,
          3,
          4,
          5,
          6,
          7,
          8,
          9,
          10,
          11,
          12,
          13,
          14,
          15,
          16,
          17,
          18,
          19,
          20
         ],
         "xaxis": "x",
         "y": [
          0.0,
          2.010767936706543,
          0.6889222860336304,
          0.5202733278274536,
          0.45132824778556824,
          0.40924814343452454,
          0.3809453547000885,
          0.3599828779697418,
          0.3434453308582306,
          0.32959476113319397,
          0.317435622215271,
          0.30655163526535034,
          0.2970813810825348,
          0.2891009449958801,
          0.28228312730789185,
          0.276204377412796,
          0.2706353962421417,
          0.2653992772102356,
          0.2604480981826782,
          0.2558375597000122,
          0.2516070306301117
         ],
         "yaxis": "y",
         "type": "scatter"
        }
       ],
       "layout": {
        "template": {
         "data": {
          "histogram2dcontour": [
           {
            "type": "histogram2dcontour",
            "colorbar": {
             "outlinewidth": 0,
             "ticks": ""
            },
            "colorscale": [
             [
              0.0,
              "#0d0887"
             ],
             [
              0.1111111111111111,
              "#46039f"
             ],
             [
              0.2222222222222222,
              "#7201a8"
             ],
             [
              0.3333333333333333,
              "#9c179e"
             ],
             [
              0.4444444444444444,
              "#bd3786"
             ],
             [
              0.5555555555555556,
              "#d8576b"
             ],
             [
              0.6666666666666666,
              "#ed7953"
             ],
             [
              0.7777777777777778,
              "#fb9f3a"
             ],
             [
              0.8888888888888888,
              "#fdca26"
             ],
             [
              1.0,
              "#f0f921"
             ]
            ]
           }
          ],
          "choropleth": [
           {
            "type": "choropleth",
            "colorbar": {
             "outlinewidth": 0,
             "ticks": ""
            }
           }
          ],
          "histogram2d": [
           {
            "type": "histogram2d",
            "colorbar": {
             "outlinewidth": 0,
             "ticks": ""
            },
            "colorscale": [
             [
              0.0,
              "#0d0887"
             ],
             [
              0.1111111111111111,
              "#46039f"
             ],
             [
              0.2222222222222222,
              "#7201a8"
             ],
             [
              0.3333333333333333,
              "#9c179e"
             ],
             [
              0.4444444444444444,
              "#bd3786"
             ],
             [
              0.5555555555555556,
              "#d8576b"
             ],
             [
              0.6666666666666666,
              "#ed7953"
             ],
             [
              0.7777777777777778,
              "#fb9f3a"
             ],
             [
              0.8888888888888888,
              "#fdca26"
             ],
             [
              1.0,
              "#f0f921"
             ]
            ]
           }
          ],
          "heatmap": [
           {
            "type": "heatmap",
            "colorbar": {
             "outlinewidth": 0,
             "ticks": ""
            },
            "colorscale": [
             [
              0.0,
              "#0d0887"
             ],
             [
              0.1111111111111111,
              "#46039f"
             ],
             [
              0.2222222222222222,
              "#7201a8"
             ],
             [
              0.3333333333333333,
              "#9c179e"
             ],
             [
              0.4444444444444444,
              "#bd3786"
             ],
             [
              0.5555555555555556,
              "#d8576b"
             ],
             [
              0.6666666666666666,
              "#ed7953"
             ],
             [
              0.7777777777777778,
              "#fb9f3a"
             ],
             [
              0.8888888888888888,
              "#fdca26"
             ],
             [
              1.0,
              "#f0f921"
             ]
            ]
           }
          ],
          "heatmapgl": [
           {
            "type": "heatmapgl",
            "colorbar": {
             "outlinewidth": 0,
             "ticks": ""
            },
            "colorscale": [
             [
              0.0,
              "#0d0887"
             ],
             [
              0.1111111111111111,
              "#46039f"
             ],
             [
              0.2222222222222222,
              "#7201a8"
             ],
             [
              0.3333333333333333,
              "#9c179e"
             ],
             [
              0.4444444444444444,
              "#bd3786"
             ],
             [
              0.5555555555555556,
              "#d8576b"
             ],
             [
              0.6666666666666666,
              "#ed7953"
             ],
             [
              0.7777777777777778,
              "#fb9f3a"
             ],
             [
              0.8888888888888888,
              "#fdca26"
             ],
             [
              1.0,
              "#f0f921"
             ]
            ]
           }
          ],
          "contourcarpet": [
           {
            "type": "contourcarpet",
            "colorbar": {
             "outlinewidth": 0,
             "ticks": ""
            }
           }
          ],
          "contour": [
           {
            "type": "contour",
            "colorbar": {
             "outlinewidth": 0,
             "ticks": ""
            },
            "colorscale": [
             [
              0.0,
              "#0d0887"
             ],
             [
              0.1111111111111111,
              "#46039f"
             ],
             [
              0.2222222222222222,
              "#7201a8"
             ],
             [
              0.3333333333333333,
              "#9c179e"
             ],
             [
              0.4444444444444444,
              "#bd3786"
             ],
             [
              0.5555555555555556,
              "#d8576b"
             ],
             [
              0.6666666666666666,
              "#ed7953"
             ],
             [
              0.7777777777777778,
              "#fb9f3a"
             ],
             [
              0.8888888888888888,
              "#fdca26"
             ],
             [
              1.0,
              "#f0f921"
             ]
            ]
           }
          ],
          "surface": [
           {
            "type": "surface",
            "colorbar": {
             "outlinewidth": 0,
             "ticks": ""
            },
            "colorscale": [
             [
              0.0,
              "#0d0887"
             ],
             [
              0.1111111111111111,
              "#46039f"
             ],
             [
              0.2222222222222222,
              "#7201a8"
             ],
             [
              0.3333333333333333,
              "#9c179e"
             ],
             [
              0.4444444444444444,
              "#bd3786"
             ],
             [
              0.5555555555555556,
              "#d8576b"
             ],
             [
              0.6666666666666666,
              "#ed7953"
             ],
             [
              0.7777777777777778,
              "#fb9f3a"
             ],
             [
              0.8888888888888888,
              "#fdca26"
             ],
             [
              1.0,
              "#f0f921"
             ]
            ]
           }
          ],
          "mesh3d": [
           {
            "type": "mesh3d",
            "colorbar": {
             "outlinewidth": 0,
             "ticks": ""
            }
           }
          ],
          "scatter": [
           {
            "marker": {
             "line": {
              "color": "#283442"
             }
            },
            "type": "scatter"
           }
          ],
          "parcoords": [
           {
            "type": "parcoords",
            "line": {
             "colorbar": {
              "outlinewidth": 0,
              "ticks": ""
             }
            }
           }
          ],
          "scatterpolargl": [
           {
            "type": "scatterpolargl",
            "marker": {
             "colorbar": {
              "outlinewidth": 0,
              "ticks": ""
             }
            }
           }
          ],
          "bar": [
           {
            "error_x": {
             "color": "#f2f5fa"
            },
            "error_y": {
             "color": "#f2f5fa"
            },
            "marker": {
             "line": {
              "color": "rgb(17,17,17)",
              "width": 0.5
             },
             "pattern": {
              "fillmode": "overlay",
              "size": 10,
              "solidity": 0.2
             }
            },
            "type": "bar"
           }
          ],
          "scattergeo": [
           {
            "type": "scattergeo",
            "marker": {
             "colorbar": {
              "outlinewidth": 0,
              "ticks": ""
             }
            }
           }
          ],
          "scatterpolar": [
           {
            "type": "scatterpolar",
            "marker": {
             "colorbar": {
              "outlinewidth": 0,
              "ticks": ""
             }
            }
           }
          ],
          "histogram": [
           {
            "marker": {
             "pattern": {
              "fillmode": "overlay",
              "size": 10,
              "solidity": 0.2
             }
            },
            "type": "histogram"
           }
          ],
          "scattergl": [
           {
            "marker": {
             "line": {
              "color": "#283442"
             }
            },
            "type": "scattergl"
           }
          ],
          "scatter3d": [
           {
            "type": "scatter3d",
            "line": {
             "colorbar": {
              "outlinewidth": 0,
              "ticks": ""
             }
            },
            "marker": {
             "colorbar": {
              "outlinewidth": 0,
              "ticks": ""
             }
            }
           }
          ],
          "scattermapbox": [
           {
            "type": "scattermapbox",
            "marker": {
             "colorbar": {
              "outlinewidth": 0,
              "ticks": ""
             }
            }
           }
          ],
          "scatterternary": [
           {
            "type": "scatterternary",
            "marker": {
             "colorbar": {
              "outlinewidth": 0,
              "ticks": ""
             }
            }
           }
          ],
          "scattercarpet": [
           {
            "type": "scattercarpet",
            "marker": {
             "colorbar": {
              "outlinewidth": 0,
              "ticks": ""
             }
            }
           }
          ],
          "carpet": [
           {
            "aaxis": {
             "endlinecolor": "#A2B1C6",
             "gridcolor": "#506784",
             "linecolor": "#506784",
             "minorgridcolor": "#506784",
             "startlinecolor": "#A2B1C6"
            },
            "baxis": {
             "endlinecolor": "#A2B1C6",
             "gridcolor": "#506784",
             "linecolor": "#506784",
             "minorgridcolor": "#506784",
             "startlinecolor": "#A2B1C6"
            },
            "type": "carpet"
           }
          ],
          "table": [
           {
            "cells": {
             "fill": {
              "color": "#506784"
             },
             "line": {
              "color": "rgb(17,17,17)"
             }
            },
            "header": {
             "fill": {
              "color": "#2a3f5f"
             },
             "line": {
              "color": "rgb(17,17,17)"
             }
            },
            "type": "table"
           }
          ],
          "barpolar": [
           {
            "marker": {
             "line": {
              "color": "rgb(17,17,17)",
              "width": 0.5
             },
             "pattern": {
              "fillmode": "overlay",
              "size": 10,
              "solidity": 0.2
             }
            },
            "type": "barpolar"
           }
          ],
          "pie": [
           {
            "automargin": true,
            "type": "pie"
           }
          ]
         },
         "layout": {
          "autotypenumbers": "strict",
          "colorway": [
           "#636efa",
           "#EF553B",
           "#00cc96",
           "#ab63fa",
           "#FFA15A",
           "#19d3f3",
           "#FF6692",
           "#B6E880",
           "#FF97FF",
           "#FECB52"
          ],
          "font": {
           "color": "#f2f5fa"
          },
          "hovermode": "closest",
          "hoverlabel": {
           "align": "left"
          },
          "paper_bgcolor": "rgb(17,17,17)",
          "plot_bgcolor": "rgb(17,17,17)",
          "polar": {
           "bgcolor": "rgb(17,17,17)",
           "angularaxis": {
            "gridcolor": "#506784",
            "linecolor": "#506784",
            "ticks": ""
           },
           "radialaxis": {
            "gridcolor": "#506784",
            "linecolor": "#506784",
            "ticks": ""
           }
          },
          "ternary": {
           "bgcolor": "rgb(17,17,17)",
           "aaxis": {
            "gridcolor": "#506784",
            "linecolor": "#506784",
            "ticks": ""
           },
           "baxis": {
            "gridcolor": "#506784",
            "linecolor": "#506784",
            "ticks": ""
           },
           "caxis": {
            "gridcolor": "#506784",
            "linecolor": "#506784",
            "ticks": ""
           }
          },
          "coloraxis": {
           "colorbar": {
            "outlinewidth": 0,
            "ticks": ""
           }
          },
          "colorscale": {
           "sequential": [
            [
             0.0,
             "#0d0887"
            ],
            [
             0.1111111111111111,
             "#46039f"
            ],
            [
             0.2222222222222222,
             "#7201a8"
            ],
            [
             0.3333333333333333,
             "#9c179e"
            ],
            [
             0.4444444444444444,
             "#bd3786"
            ],
            [
             0.5555555555555556,
             "#d8576b"
            ],
            [
             0.6666666666666666,
             "#ed7953"
            ],
            [
             0.7777777777777778,
             "#fb9f3a"
            ],
            [
             0.8888888888888888,
             "#fdca26"
            ],
            [
             1.0,
             "#f0f921"
            ]
           ],
           "sequentialminus": [
            [
             0.0,
             "#0d0887"
            ],
            [
             0.1111111111111111,
             "#46039f"
            ],
            [
             0.2222222222222222,
             "#7201a8"
            ],
            [
             0.3333333333333333,
             "#9c179e"
            ],
            [
             0.4444444444444444,
             "#bd3786"
            ],
            [
             0.5555555555555556,
             "#d8576b"
            ],
            [
             0.6666666666666666,
             "#ed7953"
            ],
            [
             0.7777777777777778,
             "#fb9f3a"
            ],
            [
             0.8888888888888888,
             "#fdca26"
            ],
            [
             1.0,
             "#f0f921"
            ]
           ],
           "diverging": [
            [
             0,
             "#8e0152"
            ],
            [
             0.1,
             "#c51b7d"
            ],
            [
             0.2,
             "#de77ae"
            ],
            [
             0.3,
             "#f1b6da"
            ],
            [
             0.4,
             "#fde0ef"
            ],
            [
             0.5,
             "#f7f7f7"
            ],
            [
             0.6,
             "#e6f5d0"
            ],
            [
             0.7,
             "#b8e186"
            ],
            [
             0.8,
             "#7fbc41"
            ],
            [
             0.9,
             "#4d9221"
            ],
            [
             1,
             "#276419"
            ]
           ]
          },
          "xaxis": {
           "gridcolor": "#283442",
           "linecolor": "#506784",
           "ticks": "",
           "title": {
            "standoff": 15
           },
           "zerolinecolor": "#283442",
           "automargin": true,
           "zerolinewidth": 2
          },
          "yaxis": {
           "gridcolor": "#283442",
           "linecolor": "#506784",
           "ticks": "",
           "title": {
            "standoff": 15
           },
           "zerolinecolor": "#283442",
           "automargin": true,
           "zerolinewidth": 2
          },
          "scene": {
           "xaxis": {
            "backgroundcolor": "rgb(17,17,17)",
            "gridcolor": "#506784",
            "linecolor": "#506784",
            "showbackground": true,
            "ticks": "",
            "zerolinecolor": "#C8D4E3",
            "gridwidth": 2
           },
           "yaxis": {
            "backgroundcolor": "rgb(17,17,17)",
            "gridcolor": "#506784",
            "linecolor": "#506784",
            "showbackground": true,
            "ticks": "",
            "zerolinecolor": "#C8D4E3",
            "gridwidth": 2
           },
           "zaxis": {
            "backgroundcolor": "rgb(17,17,17)",
            "gridcolor": "#506784",
            "linecolor": "#506784",
            "showbackground": true,
            "ticks": "",
            "zerolinecolor": "#C8D4E3",
            "gridwidth": 2
           }
          },
          "shapedefaults": {
           "line": {
            "color": "#f2f5fa"
           }
          },
          "annotationdefaults": {
           "arrowcolor": "#f2f5fa",
           "arrowhead": 0,
           "arrowwidth": 1
          },
          "geo": {
           "bgcolor": "rgb(17,17,17)",
           "landcolor": "rgb(17,17,17)",
           "subunitcolor": "#506784",
           "showland": true,
           "showlakes": true,
           "lakecolor": "rgb(17,17,17)"
          },
          "title": {
           "x": 0.05
          },
          "updatemenudefaults": {
           "bgcolor": "#506784",
           "borderwidth": 0
          },
          "sliderdefaults": {
           "bgcolor": "#C8D4E3",
           "borderwidth": 1,
           "bordercolor": "rgb(17,17,17)",
           "tickwidth": 0
          },
          "mapbox": {
           "style": "dark"
          }
         }
        },
        "xaxis": {
         "anchor": "y",
         "domain": [
          0.0,
          1.0
         ],
         "title": {
          "text": "Epochs"
         }
        },
        "yaxis": {
         "anchor": "x",
         "domain": [
          0.0,
          1.0
         ],
         "title": {
          "text": "Loss"
         }
        },
        "legend": {
         "title": {
          "text": "Experiment"
         },
         "tracegroupgap": 0
        },
        "title": {
         "text": "Test loss"
        }
       },
       "config": {
        "plotlyServerURL": "https://plot.ly"
       }
      },
      "text/html": "<div>                            <div id=\"abb6e8a5-670b-4023-8521-e37022382e99\" class=\"plotly-graph-div\" style=\"height:525px; width:100%;\"></div>            <script type=\"text/javascript\">                require([\"plotly\"], function(Plotly) {                    window.PLOTLYENV=window.PLOTLYENV || {};                                    if (document.getElementById(\"abb6e8a5-670b-4023-8521-e37022382e99\")) {                    Plotly.newPlot(                        \"abb6e8a5-670b-4023-8521-e37022382e99\",                        [{\"hovertemplate\":\"Experiment=Best ProxProp\\u003cbr\\u003eEpochs=%{x}\\u003cbr\\u003eLoss=%{y}\\u003cextra\\u003e\\u003c\\u002fextra\\u003e\",\"legendgroup\":\"Best ProxProp\",\"line\":{\"color\":\"#636efa\",\"dash\":\"solid\"},\"marker\":{\"symbol\":\"circle\"},\"mode\":\"lines\",\"name\":\"Best ProxProp\",\"orientation\":\"v\",\"showlegend\":true,\"x\":[0,1,2,3,4,5,6,7,8,9,10,11,12,13,14,15,16,17,18,19,20],\"xaxis\":\"x\",\"y\":[29.62529754638672,1.662193775177002,0.4463867247104645,0.3405253291130066,0.27620986104011536,0.2400279939174652,0.21185965836048126,0.19195325672626495,0.17579859495162964,0.16444730758666992,0.1522028148174286,0.14232395589351654,0.13380306959152222,0.12524421513080597,0.12013594806194305,0.11580123752355576,0.11265578866004944,0.10987680405378342,0.10795536637306213,0.10646738857030869,0.10537294298410416],\"yaxis\":\"y\",\"type\":\"scatter\"},{\"hovertemplate\":\"Experiment=BackProp with parameters of best ProxProp\\u003cbr\\u003eEpochs=%{x}\\u003cbr\\u003eLoss=%{y}\\u003cextra\\u003e\\u003c\\u002fextra\\u003e\",\"legendgroup\":\"BackProp with parameters of best ProxProp\",\"line\":{\"color\":\"#EF553B\",\"dash\":\"solid\"},\"marker\":{\"symbol\":\"circle\"},\"mode\":\"lines\",\"name\":\"BackProp with parameters of best ProxProp\",\"orientation\":\"v\",\"showlegend\":true,\"x\":[0,1,2,3,4,5,6,7,8,9,10,11,12,13,14,15,16,17,18,19,20],\"xaxis\":\"x\",\"y\":[0.0,13.183457374572754,12.820590019226074,12.606431007385254,11.338089942932129,8.376468658447266,7.673843860626221,7.619668483734131,7.625563144683838,7.584004878997803,7.567876815795898,7.54021692276001,7.503976345062256,7.47143030166626,7.440128326416016,7.421109199523926,7.387855052947998,7.330420970916748,7.2640156745910645,7.098368167877197,5.7600932121276855],\"yaxis\":\"y\",\"type\":\"scatter\"},{\"hovertemplate\":\"Experiment=BackProp with basic parameters\\u003cbr\\u003eEpochs=%{x}\\u003cbr\\u003eLoss=%{y}\\u003cextra\\u003e\\u003c\\u002fextra\\u003e\",\"legendgroup\":\"BackProp with basic parameters\",\"line\":{\"color\":\"#00cc96\",\"dash\":\"solid\"},\"marker\":{\"symbol\":\"circle\"},\"mode\":\"lines\",\"name\":\"BackProp with basic parameters\",\"orientation\":\"v\",\"showlegend\":true,\"x\":[0,1,2,3,4,5,6,7,8,9,10,11,12,13,14,15,16,17,18,19,20],\"xaxis\":\"x\",\"y\":[0.0,2.010767936706543,0.6889222860336304,0.5202733278274536,0.45132824778556824,0.40924814343452454,0.3809453547000885,0.3599828779697418,0.3434453308582306,0.32959476113319397,0.317435622215271,0.30655163526535034,0.2970813810825348,0.2891009449958801,0.28228312730789185,0.276204377412796,0.2706353962421417,0.2653992772102356,0.2604480981826782,0.2558375597000122,0.2516070306301117],\"yaxis\":\"y\",\"type\":\"scatter\"}],                        {\"template\":{\"data\":{\"histogram2dcontour\":[{\"type\":\"histogram2dcontour\",\"colorbar\":{\"outlinewidth\":0,\"ticks\":\"\"},\"colorscale\":[[0.0,\"#0d0887\"],[0.1111111111111111,\"#46039f\"],[0.2222222222222222,\"#7201a8\"],[0.3333333333333333,\"#9c179e\"],[0.4444444444444444,\"#bd3786\"],[0.5555555555555556,\"#d8576b\"],[0.6666666666666666,\"#ed7953\"],[0.7777777777777778,\"#fb9f3a\"],[0.8888888888888888,\"#fdca26\"],[1.0,\"#f0f921\"]]}],\"choropleth\":[{\"type\":\"choropleth\",\"colorbar\":{\"outlinewidth\":0,\"ticks\":\"\"}}],\"histogram2d\":[{\"type\":\"histogram2d\",\"colorbar\":{\"outlinewidth\":0,\"ticks\":\"\"},\"colorscale\":[[0.0,\"#0d0887\"],[0.1111111111111111,\"#46039f\"],[0.2222222222222222,\"#7201a8\"],[0.3333333333333333,\"#9c179e\"],[0.4444444444444444,\"#bd3786\"],[0.5555555555555556,\"#d8576b\"],[0.6666666666666666,\"#ed7953\"],[0.7777777777777778,\"#fb9f3a\"],[0.8888888888888888,\"#fdca26\"],[1.0,\"#f0f921\"]]}],\"heatmap\":[{\"type\":\"heatmap\",\"colorbar\":{\"outlinewidth\":0,\"ticks\":\"\"},\"colorscale\":[[0.0,\"#0d0887\"],[0.1111111111111111,\"#46039f\"],[0.2222222222222222,\"#7201a8\"],[0.3333333333333333,\"#9c179e\"],[0.4444444444444444,\"#bd3786\"],[0.5555555555555556,\"#d8576b\"],[0.6666666666666666,\"#ed7953\"],[0.7777777777777778,\"#fb9f3a\"],[0.8888888888888888,\"#fdca26\"],[1.0,\"#f0f921\"]]}],\"heatmapgl\":[{\"type\":\"heatmapgl\",\"colorbar\":{\"outlinewidth\":0,\"ticks\":\"\"},\"colorscale\":[[0.0,\"#0d0887\"],[0.1111111111111111,\"#46039f\"],[0.2222222222222222,\"#7201a8\"],[0.3333333333333333,\"#9c179e\"],[0.4444444444444444,\"#bd3786\"],[0.5555555555555556,\"#d8576b\"],[0.6666666666666666,\"#ed7953\"],[0.7777777777777778,\"#fb9f3a\"],[0.8888888888888888,\"#fdca26\"],[1.0,\"#f0f921\"]]}],\"contourcarpet\":[{\"type\":\"contourcarpet\",\"colorbar\":{\"outlinewidth\":0,\"ticks\":\"\"}}],\"contour\":[{\"type\":\"contour\",\"colorbar\":{\"outlinewidth\":0,\"ticks\":\"\"},\"colorscale\":[[0.0,\"#0d0887\"],[0.1111111111111111,\"#46039f\"],[0.2222222222222222,\"#7201a8\"],[0.3333333333333333,\"#9c179e\"],[0.4444444444444444,\"#bd3786\"],[0.5555555555555556,\"#d8576b\"],[0.6666666666666666,\"#ed7953\"],[0.7777777777777778,\"#fb9f3a\"],[0.8888888888888888,\"#fdca26\"],[1.0,\"#f0f921\"]]}],\"surface\":[{\"type\":\"surface\",\"colorbar\":{\"outlinewidth\":0,\"ticks\":\"\"},\"colorscale\":[[0.0,\"#0d0887\"],[0.1111111111111111,\"#46039f\"],[0.2222222222222222,\"#7201a8\"],[0.3333333333333333,\"#9c179e\"],[0.4444444444444444,\"#bd3786\"],[0.5555555555555556,\"#d8576b\"],[0.6666666666666666,\"#ed7953\"],[0.7777777777777778,\"#fb9f3a\"],[0.8888888888888888,\"#fdca26\"],[1.0,\"#f0f921\"]]}],\"mesh3d\":[{\"type\":\"mesh3d\",\"colorbar\":{\"outlinewidth\":0,\"ticks\":\"\"}}],\"scatter\":[{\"marker\":{\"line\":{\"color\":\"#283442\"}},\"type\":\"scatter\"}],\"parcoords\":[{\"type\":\"parcoords\",\"line\":{\"colorbar\":{\"outlinewidth\":0,\"ticks\":\"\"}}}],\"scatterpolargl\":[{\"type\":\"scatterpolargl\",\"marker\":{\"colorbar\":{\"outlinewidth\":0,\"ticks\":\"\"}}}],\"bar\":[{\"error_x\":{\"color\":\"#f2f5fa\"},\"error_y\":{\"color\":\"#f2f5fa\"},\"marker\":{\"line\":{\"color\":\"rgb(17,17,17)\",\"width\":0.5},\"pattern\":{\"fillmode\":\"overlay\",\"size\":10,\"solidity\":0.2}},\"type\":\"bar\"}],\"scattergeo\":[{\"type\":\"scattergeo\",\"marker\":{\"colorbar\":{\"outlinewidth\":0,\"ticks\":\"\"}}}],\"scatterpolar\":[{\"type\":\"scatterpolar\",\"marker\":{\"colorbar\":{\"outlinewidth\":0,\"ticks\":\"\"}}}],\"histogram\":[{\"marker\":{\"pattern\":{\"fillmode\":\"overlay\",\"size\":10,\"solidity\":0.2}},\"type\":\"histogram\"}],\"scattergl\":[{\"marker\":{\"line\":{\"color\":\"#283442\"}},\"type\":\"scattergl\"}],\"scatter3d\":[{\"type\":\"scatter3d\",\"line\":{\"colorbar\":{\"outlinewidth\":0,\"ticks\":\"\"}},\"marker\":{\"colorbar\":{\"outlinewidth\":0,\"ticks\":\"\"}}}],\"scattermapbox\":[{\"type\":\"scattermapbox\",\"marker\":{\"colorbar\":{\"outlinewidth\":0,\"ticks\":\"\"}}}],\"scatterternary\":[{\"type\":\"scatterternary\",\"marker\":{\"colorbar\":{\"outlinewidth\":0,\"ticks\":\"\"}}}],\"scattercarpet\":[{\"type\":\"scattercarpet\",\"marker\":{\"colorbar\":{\"outlinewidth\":0,\"ticks\":\"\"}}}],\"carpet\":[{\"aaxis\":{\"endlinecolor\":\"#A2B1C6\",\"gridcolor\":\"#506784\",\"linecolor\":\"#506784\",\"minorgridcolor\":\"#506784\",\"startlinecolor\":\"#A2B1C6\"},\"baxis\":{\"endlinecolor\":\"#A2B1C6\",\"gridcolor\":\"#506784\",\"linecolor\":\"#506784\",\"minorgridcolor\":\"#506784\",\"startlinecolor\":\"#A2B1C6\"},\"type\":\"carpet\"}],\"table\":[{\"cells\":{\"fill\":{\"color\":\"#506784\"},\"line\":{\"color\":\"rgb(17,17,17)\"}},\"header\":{\"fill\":{\"color\":\"#2a3f5f\"},\"line\":{\"color\":\"rgb(17,17,17)\"}},\"type\":\"table\"}],\"barpolar\":[{\"marker\":{\"line\":{\"color\":\"rgb(17,17,17)\",\"width\":0.5},\"pattern\":{\"fillmode\":\"overlay\",\"size\":10,\"solidity\":0.2}},\"type\":\"barpolar\"}],\"pie\":[{\"automargin\":true,\"type\":\"pie\"}]},\"layout\":{\"autotypenumbers\":\"strict\",\"colorway\":[\"#636efa\",\"#EF553B\",\"#00cc96\",\"#ab63fa\",\"#FFA15A\",\"#19d3f3\",\"#FF6692\",\"#B6E880\",\"#FF97FF\",\"#FECB52\"],\"font\":{\"color\":\"#f2f5fa\"},\"hovermode\":\"closest\",\"hoverlabel\":{\"align\":\"left\"},\"paper_bgcolor\":\"rgb(17,17,17)\",\"plot_bgcolor\":\"rgb(17,17,17)\",\"polar\":{\"bgcolor\":\"rgb(17,17,17)\",\"angularaxis\":{\"gridcolor\":\"#506784\",\"linecolor\":\"#506784\",\"ticks\":\"\"},\"radialaxis\":{\"gridcolor\":\"#506784\",\"linecolor\":\"#506784\",\"ticks\":\"\"}},\"ternary\":{\"bgcolor\":\"rgb(17,17,17)\",\"aaxis\":{\"gridcolor\":\"#506784\",\"linecolor\":\"#506784\",\"ticks\":\"\"},\"baxis\":{\"gridcolor\":\"#506784\",\"linecolor\":\"#506784\",\"ticks\":\"\"},\"caxis\":{\"gridcolor\":\"#506784\",\"linecolor\":\"#506784\",\"ticks\":\"\"}},\"coloraxis\":{\"colorbar\":{\"outlinewidth\":0,\"ticks\":\"\"}},\"colorscale\":{\"sequential\":[[0.0,\"#0d0887\"],[0.1111111111111111,\"#46039f\"],[0.2222222222222222,\"#7201a8\"],[0.3333333333333333,\"#9c179e\"],[0.4444444444444444,\"#bd3786\"],[0.5555555555555556,\"#d8576b\"],[0.6666666666666666,\"#ed7953\"],[0.7777777777777778,\"#fb9f3a\"],[0.8888888888888888,\"#fdca26\"],[1.0,\"#f0f921\"]],\"sequentialminus\":[[0.0,\"#0d0887\"],[0.1111111111111111,\"#46039f\"],[0.2222222222222222,\"#7201a8\"],[0.3333333333333333,\"#9c179e\"],[0.4444444444444444,\"#bd3786\"],[0.5555555555555556,\"#d8576b\"],[0.6666666666666666,\"#ed7953\"],[0.7777777777777778,\"#fb9f3a\"],[0.8888888888888888,\"#fdca26\"],[1.0,\"#f0f921\"]],\"diverging\":[[0,\"#8e0152\"],[0.1,\"#c51b7d\"],[0.2,\"#de77ae\"],[0.3,\"#f1b6da\"],[0.4,\"#fde0ef\"],[0.5,\"#f7f7f7\"],[0.6,\"#e6f5d0\"],[0.7,\"#b8e186\"],[0.8,\"#7fbc41\"],[0.9,\"#4d9221\"],[1,\"#276419\"]]},\"xaxis\":{\"gridcolor\":\"#283442\",\"linecolor\":\"#506784\",\"ticks\":\"\",\"title\":{\"standoff\":15},\"zerolinecolor\":\"#283442\",\"automargin\":true,\"zerolinewidth\":2},\"yaxis\":{\"gridcolor\":\"#283442\",\"linecolor\":\"#506784\",\"ticks\":\"\",\"title\":{\"standoff\":15},\"zerolinecolor\":\"#283442\",\"automargin\":true,\"zerolinewidth\":2},\"scene\":{\"xaxis\":{\"backgroundcolor\":\"rgb(17,17,17)\",\"gridcolor\":\"#506784\",\"linecolor\":\"#506784\",\"showbackground\":true,\"ticks\":\"\",\"zerolinecolor\":\"#C8D4E3\",\"gridwidth\":2},\"yaxis\":{\"backgroundcolor\":\"rgb(17,17,17)\",\"gridcolor\":\"#506784\",\"linecolor\":\"#506784\",\"showbackground\":true,\"ticks\":\"\",\"zerolinecolor\":\"#C8D4E3\",\"gridwidth\":2},\"zaxis\":{\"backgroundcolor\":\"rgb(17,17,17)\",\"gridcolor\":\"#506784\",\"linecolor\":\"#506784\",\"showbackground\":true,\"ticks\":\"\",\"zerolinecolor\":\"#C8D4E3\",\"gridwidth\":2}},\"shapedefaults\":{\"line\":{\"color\":\"#f2f5fa\"}},\"annotationdefaults\":{\"arrowcolor\":\"#f2f5fa\",\"arrowhead\":0,\"arrowwidth\":1},\"geo\":{\"bgcolor\":\"rgb(17,17,17)\",\"landcolor\":\"rgb(17,17,17)\",\"subunitcolor\":\"#506784\",\"showland\":true,\"showlakes\":true,\"lakecolor\":\"rgb(17,17,17)\"},\"title\":{\"x\":0.05},\"updatemenudefaults\":{\"bgcolor\":\"#506784\",\"borderwidth\":0},\"sliderdefaults\":{\"bgcolor\":\"#C8D4E3\",\"borderwidth\":1,\"bordercolor\":\"rgb(17,17,17)\",\"tickwidth\":0},\"mapbox\":{\"style\":\"dark\"}}},\"xaxis\":{\"anchor\":\"y\",\"domain\":[0.0,1.0],\"title\":{\"text\":\"Epochs\"}},\"yaxis\":{\"anchor\":\"x\",\"domain\":[0.0,1.0],\"title\":{\"text\":\"Loss\"}},\"legend\":{\"title\":{\"text\":\"Experiment\"},\"tracegroupgap\":0},\"title\":{\"text\":\"Test loss\"}},                        {\"responsive\": true}                    ).then(function(){\n                            \nvar gd = document.getElementById('abb6e8a5-670b-4023-8521-e37022382e99');\nvar x = new MutationObserver(function (mutations, observer) {{\n        var display = window.getComputedStyle(gd).display;\n        if (!display || display === 'none') {{\n            console.log([gd, 'removed!']);\n            Plotly.purge(gd);\n            observer.disconnect();\n        }}\n}});\n\n// Listen for the removal of the full notebook cells\nvar notebookContainer = gd.closest('#notebook-container');\nif (notebookContainer) {{\n    x.observe(notebookContainer, {childList: true});\n}}\n\n// Listen for the clearing of the current output cell\nvar outputEl = gd.closest('.output');\nif (outputEl) {{\n    x.observe(outputEl, {childList: true});\n}}\n\n                        })                };                });            </script>        </div>"
     },
     "metadata": {},
     "output_type": "display_data"
    }
   ],
   "source": [
    "visualize(['Compare'], names=[\"Best ProxProp\", \"BackProp with parameters of best ProxProp\", \"BackProp with basic parameters\"])"
   ],
   "metadata": {
    "collapsed": false,
    "ExecuteTime": {
     "end_time": "2024-11-18T14:58:11.945011Z",
     "start_time": "2024-11-18T14:58:08.682848Z"
    }
   },
   "execution_count": 34
  },
  {
   "cell_type": "markdown",
   "source": [
    "As shown in the chart, ProxProp's accuracy is approximately 2% better than the highest-performing Backprop model. Additionally, ProxProp exhibits a lower loss, though the rate of decrease is similar to that of Backprop.. Of course, if I were to fine-tune Backprop's parameters further, its performance could potentially improve."
   ],
   "metadata": {
    "collapsed": false
   }
  },
  {
   "cell_type": "markdown",
   "metadata": {
    "id": "cmQGf9p_6eKw"
   },
   "source": [
    " # Compare memory usage\n",
    "\n",
    "Hint: you can use memory-profiler library [link](https://pypi.org/project/memory-profiler/)"
   ]
  },
  {
   "cell_type": "code",
   "execution_count": 11,
   "metadata": {
    "id": "0VjPqSEG6gJC",
    "colab": {
     "base_uri": "https://localhost:8080/"
    },
    "executionInfo": {
     "status": "ok",
     "timestamp": 1731855740498,
     "user_tz": -60,
     "elapsed": 2765308,
     "user": {
      "displayName": "Juliusz Pawlus",
      "userId": "04893540272096859836"
     }
    },
    "outputId": "42497d0d-d128-4d5f-850f-314b1f6cc65f",
    "ExecuteTime": {
     "end_time": "2024-11-17T19:26:44.566645Z",
     "start_time": "2024-11-17T19:01:04.996242Z"
    }
   },
   "outputs": [
    {
     "name": "stdout",
     "output_type": "stream",
     "text": [
      "Epoch: 0, Accuracy: 0.1533, Loss: 45.24915397191177\n",
      "Epoch: 1, Accuracy: 0.2238, Loss: 45.33747042204751\n",
      "Epoch: 2, Accuracy: 0.2417, Loss: 42.56301545923121\n",
      "peak memory: 1004.13 MiB, increment: 464.89 MiB\n",
      "Epoch: 0, Accuracy: 0.0845, Loss: 114.88094889217919\n",
      "Epoch: 1, Accuracy: 0.6823, Loss: 10.443647534052138\n",
      "Epoch: 2, Accuracy: 0.7684, Loss: 8.146408774674956\n",
      "Epoch: 3, Accuracy: 0.7998, Loss: 6.752139393115148\n",
      "peak memory: 3268.60 MiB, increment: 2729.03 MiB\n"
     ]
    }
   ],
   "source": [
    "### Your code goes here ###\n",
    "def backprop():\n",
    "    np.random.seed(0)  # Setting the first seed to prevent completely random initialization.\n",
    "    network = Network([784, 1500, 1500, 10])\n",
    "    network.SGD(\n",
    "    (x_train, y_train),\n",
    "    epochs=3,\n",
    "    mini_batch_size=100,\n",
    "    eta=3,\n",
    "    test_data=(x_test, y_test),\n",
    ")\n",
    "\n",
    "\n",
    "\n",
    "def prox():\n",
    "    np.random.seed(0)  # Setting the first seed to prevent completely random initialization.\n",
    "    network = ProxProp([784, 1500, 1500, 10])\n",
    "    network.SGD(\n",
    "    (x_train, y_train),\n",
    "    epochs=3,\n",
    "    mini_batch_size=100,\n",
    "    eta=3,\n",
    "    test_data=(x_test, y_test),\n",
    ")\n",
    "\n",
    "%memit backprop()\n",
    "%memit prox()\n",
    "###########################"
   ]
  },
  {
   "cell_type": "markdown",
   "source": [
    "When measuring memory usage, I used larger hidden layer sizes to ensure consistent results, as smaller sizes exhibited more random behavior. As shown earlier, the increment in memory usage for ProxProp is six times higher than for BackProp. This is likely due to the matrix inversion process in ProxProp."
   ],
   "metadata": {
    "collapsed": false
   }
  }
 ],
 "metadata": {
  "colab": {
   "provenance": [
    {
     "file_id": "https://github.com/mim-ml-teaching/public-dnn-2024-25/blob/master/docs/hw1-proxprop-student.ipynb",
     "timestamp": 1730627049900
    }
   ]
  },
  "kernelspec": {
   "name": "python3",
   "language": "python",
   "display_name": "Python 3 (ipykernel)"
  },
  "language_info": {
   "name": "python"
  }
 },
 "nbformat": 4,
 "nbformat_minor": 0
}
